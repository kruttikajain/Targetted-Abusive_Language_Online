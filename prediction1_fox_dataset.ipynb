{
  "nbformat": 4,
  "nbformat_minor": 0,
  "metadata": {
    "kernelspec": {
      "display_name": "Python 3",
      "language": "python",
      "name": "python3"
    },
    "language_info": {
      "codemirror_mode": {
        "name": "ipython",
        "version": 3
      },
      "file_extension": ".py",
      "mimetype": "text/x-python",
      "name": "python",
      "nbconvert_exporter": "python",
      "pygments_lexer": "ipython3",
      "version": "3.6.6"
    },
    "colab": {
      "name": "prediction1_fox_dataset.ipynb",
      "provenance": [],
      "collapsed_sections": [],
      "toc_visible": true,
      "include_colab_link": true
    },
    "accelerator": "TPU"
  },
  "cells": [
    {
      "cell_type": "markdown",
      "metadata": {
        "id": "view-in-github",
        "colab_type": "text"
      },
      "source": [
        "<a href=\"https://colab.research.google.com/github/kruttikajain/Targetted-Abusive_Language_Online/blob/master/prediction1_fox_dataset.ipynb\" target=\"_parent\"><img src=\"https://colab.research.google.com/assets/colab-badge.svg\" alt=\"Open In Colab\"/></a>"
      ]
    },
    {
      "cell_type": "markdown",
      "metadata": {
        "_uuid": "01f361ddc47e0b386595316fe3d7f4dabbd260db",
        "id": "XE0VGEF8ZA6M",
        "colab_type": "text"
      },
      "source": [
        "# Abusive Language Online \n",
        "\n",
        "Predition1: predict OFF/NOT\n",
        "\n",
        "* Upload it each time: Dataset: [data](http://demo.clab.cs.cmu.edu/ethical_nlp2019/homeworks/hw3/hw3.html)\n",
        "\n",
        "\n",
        "1.   train.tsv\n",
        "2.   dev.tsv\n",
        "3.   test.tsv\n",
        "\n",
        "* Need manually add log.txt\n",
        "* Mount drive to load GloVe embeddings\n",
        "\n",
        "\n"
      ]
    },
    {
      "cell_type": "markdown",
      "metadata": {
        "id": "PqazyGPwaTEe",
        "colab_type": "text"
      },
      "source": [
        "# Import useful lib"
      ]
    },
    {
      "cell_type": "code",
      "metadata": {
        "_cell_guid": "b1076dfc-b9ad-4769-8c92-a6c4dae69d19",
        "_uuid": "8f2839f25d086af736a60e9eeb907d3b93b6e0e5",
        "id": "ONg01KM4ZA6N",
        "colab_type": "code",
        "outputId": "2b45ade3-7a07-4fd7-bb61-186262638d8a",
        "colab": {
          "base_uri": "https://localhost:8080/",
          "height": 34
        }
      },
      "source": [
        "import os\n",
        "import sys\n",
        "from logging import handlers\n",
        "from pathlib import Path\n",
        "import logging\n",
        "import time\n",
        "import numpy as np # linear algebra\n",
        "import pandas as pd # data processing, CSV file I/O (e.g. pd.read_csv)\n",
        "from tqdm import tqdm\n",
        "import math\n",
        "import random \n",
        "\n",
        "from sklearn.model_selection import train_test_split\n",
        "from sklearn import metrics\n",
        "from sklearn.model_selection import KFold\n",
        "from sklearn.model_selection import StratifiedShuffleSplit\n",
        "\n",
        "from keras.preprocessing.text import Tokenizer\n",
        "from keras.preprocessing.sequence import pad_sequences\n",
        "from keras.layers import Dense, Input, LSTM, Embedding, Dropout, Activation, CuDNNGRU, CuDNNLSTM, Conv1D\n",
        "from keras.layers import Bidirectional, GlobalMaxPool1D\n",
        "from keras.models import Model\n",
        "from keras import initializers, regularizers, constraints, optimizers, layers\n",
        "\n",
        "from os import path\n",
        "from PIL import Image\n",
        "from wordcloud import WordCloud, STOPWORDS, ImageColorGenerator\n",
        "%matplotlib inline \n",
        "import matplotlib.pyplot as plt"
      ],
      "execution_count": 1,
      "outputs": [
        {
          "output_type": "stream",
          "text": [
            "Using TensorFlow backend.\n"
          ],
          "name": "stderr"
        }
      ]
    },
    {
      "cell_type": "markdown",
      "metadata": {
        "id": "11l-8APTaOVP",
        "colab_type": "text"
      },
      "source": [
        "# Data proprecessing"
      ]
    },
    {
      "cell_type": "markdown",
      "metadata": {
        "id": "zaD_vgEytb9u",
        "colab_type": "text"
      },
      "source": [
        "## mounting drive"
      ]
    },
    {
      "cell_type": "code",
      "metadata": {
        "id": "flhVY6tUu-wN",
        "colab_type": "code",
        "outputId": "04770df3-28c5-4b0a-f992-1ec4cf2ef447",
        "colab": {
          "base_uri": "https://localhost:8080/",
          "height": 122
        }
      },
      "source": [
        "from google.colab import drive\n",
        "drive.mount('/content/gdrive')"
      ],
      "execution_count": 2,
      "outputs": [
        {
          "output_type": "stream",
          "text": [
            "Go to this URL in a browser: https://accounts.google.com/o/oauth2/auth?client_id=947318989803-6bn6qk8qdgf4n4g3pfee6491hc0brc4i.apps.googleusercontent.com&redirect_uri=urn%3aietf%3awg%3aoauth%3a2.0%3aoob&response_type=code&scope=email%20https%3a%2f%2fwww.googleapis.com%2fauth%2fdocs.test%20https%3a%2f%2fwww.googleapis.com%2fauth%2fdrive%20https%3a%2f%2fwww.googleapis.com%2fauth%2fdrive.photos.readonly%20https%3a%2f%2fwww.googleapis.com%2fauth%2fpeopleapi.readonly\n",
            "\n",
            "Enter your authorization code:\n",
            "··········\n",
            "Mounted at /content/gdrive\n"
          ],
          "name": "stdout"
        }
      ]
    },
    {
      "cell_type": "code",
      "metadata": {
        "id": "-lHhx4ivtQTp",
        "colab_type": "code",
        "outputId": "a60388cd-65aa-43c2-8834-4aacee05e6c7",
        "colab": {
          "base_uri": "https://localhost:8080/",
          "height": 34
        }
      },
      "source": [
        "!pwd"
      ],
      "execution_count": 3,
      "outputs": [
        {
          "output_type": "stream",
          "text": [
            "/content\n"
          ],
          "name": "stdout"
        }
      ]
    },
    {
      "cell_type": "code",
      "metadata": {
        "id": "PhfBBtlIHN6p",
        "colab_type": "code",
        "outputId": "13c48ce6-aa82-4ef6-c779-f465117701b3",
        "colab": {
          "base_uri": "https://localhost:8080/",
          "height": 68
        }
      },
      "source": [
        "# Clone github repository setup\n",
        "# import join used to join ROOT path and MY_GOOGLE_DRIVE_PATH\n",
        "from os.path import join  \n",
        "\n",
        "# path to your project on Google Drive\n",
        "MY_GOOGLE_DRIVE_PATH = '' \n",
        "# replace with your Github username \n",
        "GIT_USERNAME = \"kruttikajain\" \n",
        "# definitely replace with your\n",
        "GIT_TOKEN = \"5fae1c9f18e3a0c680bf35e9ef63c72308ef2b4c\"  \n",
        "# Replace with your github repository in this case we want \n",
        "# to clone deep-learning-v2-pytorch repository\n",
        "GIT_REPOSITORY = \"Targetted-Abusive_Language_Online\" \n",
        "\n",
        "# PROJECT_PATH = join(ROOT, MY_GOOGLE_DRIVE_PATH)\n",
        "\n",
        "'''\n",
        "only this line should be modify\n",
        "'''\n",
        "PROJECT_PATH = './gdrive/My Drive/Colab Notebooks/246Project'\n",
        "\n",
        "# It's good to print out the value if you are not sure \n",
        "print(\"PROJECT_PATH: \", PROJECT_PATH)   \n",
        "\n",
        "# In case we haven't created the folder already; we will create a folder in the project path \n",
        "!mkdir \"{PROJECT_PATH}\"    \n",
        "\n",
        "#GIT_PATH = \"https://{GIT_TOKEN}@github.com/{GIT_USERNAME}/{GIT_REPOSITORY}.git\" this return 400 Bad Request for me\n",
        "GIT_PATH = \"https://\" + GIT_TOKEN + \"@github.com/\" + GIT_USERNAME + \"/\" + GIT_REPOSITORY + \".git\"\n",
        "print(\"GIT_PATH: \", GIT_PATH)"
      ],
      "execution_count": 4,
      "outputs": [
        {
          "output_type": "stream",
          "text": [
            "PROJECT_PATH:  ./gdrive/My Drive/Colab Notebooks/246Project\n",
            "mkdir: cannot create directory ‘./gdrive/My Drive/Colab Notebooks/246Project’: File exists\n",
            "GIT_PATH:  https://5fae1c9f18e3a0c680bf35e9ef63c72308ef2b4c@github.com/kruttikajain/Targetted-Abusive_Language_Online.git\n"
          ],
          "name": "stdout"
        }
      ]
    },
    {
      "cell_type": "markdown",
      "metadata": {
        "id": "ZhWzw5Rtajm7",
        "colab_type": "text"
      },
      "source": [
        "## Prepare logging file"
      ]
    },
    {
      "cell_type": "code",
      "metadata": {
        "id": "Vggd1S4jZA6R",
        "colab_type": "code",
        "outputId": "12f7fd1a-fd04-4889-add7-6313bdee5bc8",
        "colab": {
          "base_uri": "https://localhost:8080/",
          "height": 51
        }
      },
      "source": [
        "def init_logger(log_file):\n",
        "    if not os.path.exists(log_file):\n",
        "        os.makedirs(os.path.dirname(log_file))\n",
        "\n",
        "    log = logging.getLogger('')\n",
        "    log.setLevel(logging.INFO)\n",
        "    output_format = logging.Formatter(fmt='%(asctime)s %(levelname)-8s %(message)s', datefmt='%Y-%m-%d %H:%M:%S')\n",
        "    std_out_handler = logging.StreamHandler(sys.stdout)\n",
        "    std_out_handler.setFormatter(output_format)\n",
        "    logging.getLogger().addHandler(std_out_handler)\n",
        "    file_handler = logging.handlers.RotatingFileHandler(log_file, maxBytes=(1048576*5), backupCount=7)\n",
        "    file_handler.setFormatter(output_format)\n",
        "    logging.getLogger().addHandler(file_handler)\n",
        "\n",
        "init_logger(PROJECT_PATH + '/log.txt')\n",
        "logging.info('=============start2=================')\n",
        "logging.info('logging file prepared...')"
      ],
      "execution_count": 5,
      "outputs": [
        {
          "output_type": "stream",
          "text": [
            "2020-05-24 00:59:27 INFO     =============start2=================\n",
            "2020-05-24 00:59:27 INFO     logging file prepared...\n"
          ],
          "name": "stdout"
        }
      ]
    },
    {
      "cell_type": "markdown",
      "metadata": {
        "id": "7FwYT4vTyCzs",
        "colab_type": "text"
      },
      "source": [
        "## load data"
      ]
    },
    {
      "cell_type": "code",
      "metadata": {
        "id": "AOtNdORiaKqJ",
        "colab_type": "code",
        "outputId": "8a8a3ff5-ccb8-46df-d01e-770b41ea0f53",
        "colab": {
          "base_uri": "https://localhost:8080/",
          "height": 272
        }
      },
      "source": [
        "def load_data():\n",
        "    logging.info('loading the dataset...')\n",
        "    train_df = pd.read_csv(PROJECT_PATH + '/project_data/train.tsv', sep=\"\\t\")\n",
        "    val_df = pd.read_csv(PROJECT_PATH + '/project_data/dev.tsv', sep=\"\\t\")\n",
        "    # fox-news dataset\n",
        "    test_df = pd.read_json(PROJECT_PATH + '/project_data/fox-news-comments.json', lines=True)\n",
        "    \n",
        "    \n",
        "    # shape of df, column names\n",
        "    logging.info('Train shape : ' + str(train_df.shape)) # 'text', 'label', 'category'\n",
        "    logging.info('Val shape: ' + str(val_df.shape))\n",
        "    logging.info('Test shape: ' + str(test_df.shape))\n",
        "    \n",
        "    logging.info('train_df.columns: ' + train_df.columns)\n",
        "    logging.info('val_df.columns: ' + val_df.columns)\n",
        "    logging.info('test_df.columns: ' + test_df.columns)\n",
        "\n",
        "    return train_df, val_df, test_df\n",
        "\n",
        "train_df, val_df, test_df = load_data()"
      ],
      "execution_count": 20,
      "outputs": [
        {
          "output_type": "stream",
          "text": [
            "2020-05-24 01:16:15 INFO     loading the dataset...\n",
            "2020-05-24 01:16:15 INFO     Train shape : (10592, 3)\n",
            "2020-05-24 01:16:15 INFO     Val shape: (1324, 3)\n",
            "2020-05-24 01:16:15 INFO     Test shape: (1528, 8)\n",
            "2020-05-24 01:16:15 INFO     Index(['train_df.columns: text', 'train_df.columns: label',\n",
            "       'train_df.columns: category'],\n",
            "      dtype='object')\n",
            "2020-05-24 01:16:15 INFO     Index(['val_df.columns: text', 'val_df.columns: label',\n",
            "       'val_df.columns: category'],\n",
            "      dtype='object')\n",
            "2020-05-24 01:16:15 INFO     Index(['test_df.columns: title', 'test_df.columns: text',\n",
            "       'test_df.columns: label', 'test_df.columns: succ',\n",
            "       'test_df.columns: meta', 'test_df.columns: user',\n",
            "       'test_df.columns: mentions', 'test_df.columns: prev'],\n",
            "      dtype='object')\n"
          ],
          "name": "stdout"
        }
      ]
    },
    {
      "cell_type": "markdown",
      "metadata": {
        "id": "ApWoZxt1dc-a",
        "colab_type": "text"
      },
      "source": [
        "**Attributes in data:**\n",
        "\n",
        "\n",
        "***Trainning data:***  (10592, 3) \\\\\n",
        "\n",
        "* **text:** \\\\\n",
        "tweet content\n",
        "\n",
        "* **label:** \\\\\n",
        "1.   (NOT) Not Offensive - This post does not contain offense or profanity\n",
        "2.   (OFF) Offensive - This post contains offensive language or a targeted (veiled or direct) offense\n",
        "\n",
        "* **category:** (if label is 'OFF') \\\\\n",
        "1.   (TIN) Targeted Insult and Threats - A post containing an insult or threat to an individual, a group, or others\n",
        "2.   (UNT) Untargeted - A post containing non-targeted profanity and swearing.\n",
        "\n",
        "***Validation data:***  (1324, 3) \\\\\n",
        "\n",
        "***Testing data***:  'text' (1324, 1) \\\\\n",
        "* **text**"
      ]
    },
    {
      "cell_type": "markdown",
      "metadata": {
        "id": "oEJfFD-hkhu5",
        "colab_type": "text"
      },
      "source": [
        "## Data cleaning"
      ]
    },
    {
      "cell_type": "code",
      "metadata": {
        "id": "-g52M8qtkk36",
        "colab_type": "code",
        "colab": {
          "base_uri": "https://localhost:8080/",
          "height": 224
        },
        "outputId": "ccb59a8b-dc93-4896-a557-408b1e294dd0"
      },
      "source": [
        "def data_cleaning(train_df, val_df, test_df):\n",
        "\n",
        "    # drop useless columns\n",
        "    test_df = test_df[['text', 'label']]\n",
        "\n",
        "    # shuffle data\n",
        "    train_df = train_df.sample(frac=1, random_state=2020).reset_index(drop=True)\n",
        "    \n",
        "    # lo lowercae\n",
        "    train_df['text'] = train_df['text'].str.lower()\n",
        "    val_df['text'] = val_df['text'].str.lower()\n",
        "    test_df['text'] = test_df['text'].str.lower()\n",
        "\n",
        "    # delete \"noise words\"\n",
        "    noise = [\"url\",\"user\",\"@\",\"&amp;\",\"#\",\"-\",'.',\"!\",\"?\",\"rt\",\"dm\",\"retweet\",\"rt\",\"dm\"]\n",
        "    for WORD in noise:\n",
        "        train_df['text'] = train_df['text'].str.replace(WORD, '')\n",
        "        val_df['text'] = val_df['text'].str.replace(WORD, '')\n",
        "        test_df['text'] = test_df['text'].str.replace(WORD, '')\n",
        "\n",
        "    # change label to 0/a\n",
        "    train_df['label'] = train_df['label'].map({'OFF': 1, 'NOT': 0})\n",
        "    val_df['label'] = val_df['label'].map({'OFF': 1, 'NOT': 0})\n",
        "\n",
        "    # one-hot encoding of category\n",
        "    train_df = pd.concat([train_df,pd.get_dummies(train_df['category'], prefix='category')],axis=1)\n",
        "    train_df.drop(['category'],axis=1, inplace=True)\n",
        "    \n",
        "    val_df = pd.concat([val_df,pd.get_dummies(val_df['category'], prefix='category')],axis=1)\n",
        "    val_df.drop(['category'],axis=1, inplace=True)\n",
        "    return train_df, val_df, test_df\n",
        "\n",
        "train_df, val_df, test_df = data_cleaning(train_df, val_df, test_df)\n"
      ],
      "execution_count": 21,
      "outputs": [
        {
          "output_type": "stream",
          "text": [
            "/usr/local/lib/python3.6/dist-packages/ipykernel_launcher.py:12: SettingWithCopyWarning: \n",
            "A value is trying to be set on a copy of a slice from a DataFrame.\n",
            "Try using .loc[row_indexer,col_indexer] = value instead\n",
            "\n",
            "See the caveats in the documentation: https://pandas.pydata.org/pandas-docs/stable/user_guide/indexing.html#returning-a-view-versus-a-copy\n",
            "  if sys.path[0] == '':\n",
            "/usr/local/lib/python3.6/dist-packages/ipykernel_launcher.py:19: SettingWithCopyWarning: \n",
            "A value is trying to be set on a copy of a slice from a DataFrame.\n",
            "Try using .loc[row_indexer,col_indexer] = value instead\n",
            "\n",
            "See the caveats in the documentation: https://pandas.pydata.org/pandas-docs/stable/user_guide/indexing.html#returning-a-view-versus-a-copy\n"
          ],
          "name": "stderr"
        }
      ]
    },
    {
      "cell_type": "markdown",
      "metadata": {
        "id": "Plq9OgoGtqb8",
        "colab_type": "text"
      },
      "source": [
        "## Data distribution and visualization "
      ]
    },
    {
      "cell_type": "code",
      "metadata": {
        "id": "rKV_v3kvlmg7",
        "colab_type": "code",
        "outputId": "0d101eab-8980-4c6e-81f1-a8bccaf2a49c",
        "colab": {
          "base_uri": "https://localhost:8080/",
          "height": 596
        }
      },
      "source": [
        "# count how many letters in a sentence\n",
        "def label_distribution(train_df):\n",
        "    #  length of text\n",
        "    count = train_df['text'].str.split().apply(len).value_counts()\n",
        "    count.sort_index(inplace=True)\n",
        "    count.index = count.index.astype(str) + ' words:'\n",
        "    # logging.info(count[0:5])\n",
        "    # logging.info(count[-5:])\n",
        "    plt.plot(range(len(count)), count, color='blue')\n",
        "    plt.title(\"Text length\")\n",
        "    plt.show()\n",
        "    # label distribution\n",
        "    logging.info('number of label = 1 : ' + str((train_df['label'] != 0).sum()))\n",
        "    logging.info('number of category_TIN = 1: ' + str((train_df['category_TIN'] != 0).sum()))\n",
        "    logging.info('number of category_UNT = 1: ' + str((train_df['category_UNT'] != 0).sum()))\n",
        "\n",
        "    # plot histogram\n",
        "    train_df['label'].plot.hist(bins=2, title='label distribution')\n",
        "    plt.show()\n",
        "\n",
        "label_distribution(train_df)\n"
      ],
      "execution_count": 22,
      "outputs": [
        {
          "output_type": "display_data",
          "data": {
            "image/png": "[encoded data removed]",
            "text/plain": [
              "<Figure size 432x288 with 1 Axes>"
            ]
          },
          "metadata": {
            "tags": [],
            "needs_background": "light"
          }
        },
        {
          "output_type": "stream",
          "text": [
            "2020-05-24 01:16:41 INFO     number of label = 1 : 3520\n",
            "2020-05-24 01:16:41 INFO     number of category_TIN = 1: 3089\n",
            "2020-05-24 01:16:41 INFO     number of category_UNT = 1: 431\n"
          ],
          "name": "stdout"
        },
        {
          "output_type": "display_data",
          "data": {
            "image/png": "[encoded data removed]",
            "text/plain": [
              "<Figure size 432x288 with 1 Axes>"
            ]
          },
          "metadata": {
            "tags": [],
            "needs_background": "light"
          }
        }
      ]
    },
    {
      "cell_type": "markdown",
      "metadata": {
        "id": "mwxnd29E0lLP",
        "colab_type": "text"
      },
      "source": [
        "**Property of dataset**\n",
        "\n",
        "*   **Length of text:** [2, 60]\n",
        "\n",
        "*   **label:** \n",
        "1.   label = 0: 7072\n",
        "2.   label = 1: 3520\n",
        "\n",
        "* Among label = 1: \\\\\n",
        "1.   category_TIN = 1: 3089\n",
        "2.   category_UNT = 1: 431\n",
        "\n"
      ]
    },
    {
      "cell_type": "markdown",
      "metadata": {
        "id": "7kCi_RoLE8wP",
        "colab_type": "text"
      },
      "source": [
        "# Split data to X and y"
      ]
    },
    {
      "cell_type": "markdown",
      "metadata": {
        "id": "K8D_XrHPEaIV",
        "colab_type": "text"
      },
      "source": [
        "Split data to X and y"
      ]
    },
    {
      "cell_type": "code",
      "metadata": {
        "id": "vHcgmnATZA6k",
        "colab_type": "code",
        "outputId": "0056b6b1-924c-4124-dbe8-2668e2763e83",
        "colab": {
          "base_uri": "https://localhost:8080/",
          "height": 51
        }
      },
      "source": [
        "def split_train_val(train_df, val_df, test_df):\n",
        "    logging.info('splitting X and y ...')\n",
        "    train_X = train_df[\"text\"].fillna(\"_na_\").values\n",
        "    val_X = val_df[\"text\"].fillna(\"_na_\").values\n",
        "    test_X = test_df[\"text\"].fillna(\"_na_\").values\n",
        "\n",
        "    train_y = train_df['label'].values\n",
        "    val_y = val_df['label'].values\n",
        "    test_y = test_df['label'].values\n",
        "\n",
        "    logging.info('finished splitting X and y')\n",
        "    return train_X, val_X, test_X, test_y, train_y, val_y\n",
        "\n",
        "train_X, val_X, test_X, test_y, train_y, val_y = split_train_val(train_df, val_df, test_df)"
      ],
      "execution_count": 23,
      "outputs": [
        {
          "output_type": "stream",
          "text": [
            "2020-05-24 01:16:45 INFO     splitting X and y ...\n",
            "2020-05-24 01:16:45 INFO     finished splitting X and y\n"
          ],
          "name": "stdout"
        }
      ]
    },
    {
      "cell_type": "code",
      "metadata": {
        "id": "rdk4s-pCZA6o",
        "colab_type": "code",
        "outputId": "7d32b2b9-ec8d-49f2-9f96-33c2c9a42c0f",
        "colab": {
          "base_uri": "https://localhost:8080/",
          "height": 68
        }
      },
      "source": [
        "print(train_X.shape, train_y.shape)\n",
        "print(val_X.shape, val_y.shape)\n",
        "print(test_X.shape, test_y.shape)"
      ],
      "execution_count": 24,
      "outputs": [
        {
          "output_type": "stream",
          "text": [
            "(10592,) (10592,)\n",
            "(1324,) (1324,)\n",
            "(1528,) (1528,)\n"
          ],
          "name": "stdout"
        }
      ]
    },
    {
      "cell_type": "markdown",
      "metadata": {
        "id": "feMxvs73D-gx",
        "colab_type": "text"
      },
      "source": [
        "Tokenize and padding each sentence, split datafram to attributes and labels"
      ]
    },
    {
      "cell_type": "code",
      "metadata": {
        "id": "tNGTN3kVZA6m",
        "colab_type": "code",
        "outputId": "e9b9bb35-f1f7-43a7-f9c4-0028efb0dfa2",
        "colab": {
          "base_uri": "https://localhost:8080/",
          "height": 68
        }
      },
      "source": [
        "# each word embedding to 300 dimension\n",
        "embed_size = 300\n",
        "# count of vocabulary words\n",
        "max_features = 50000\n",
        "# length of each sentences\n",
        "max_len = 70\n",
        "\n",
        "def token_sentence(train_X, val_X, test_X ):\n",
        "    logging.info('tokenizing sentence...')\n",
        "    tokenizer = Tokenizer(num_words=max_features)\n",
        "    tokenizer.fit_on_texts(list(train_X))\n",
        "    train_X = tokenizer.texts_to_sequences(train_X)\n",
        "    val_X = tokenizer.texts_to_sequences(val_X)\n",
        "    test_X = tokenizer.texts_to_sequences(test_X)\n",
        "\n",
        "    logging.info('padding sentence...')\n",
        "    train_X = pad_sequences(train_X, maxlen=max_len)\n",
        "    val_X = pad_sequences(val_X, maxlen=max_len)\n",
        "    test_X = pad_sequences(test_X, maxlen=max_len)\n",
        "\n",
        "    logging.info('all finished...')\n",
        "    return train_X, val_X, test_X, tokenizer\n",
        "\n",
        "train_X, val_X, test_X, tokenizer = token_sentence(train_X, val_X, test_X)\n"
      ],
      "execution_count": 25,
      "outputs": [
        {
          "output_type": "stream",
          "text": [
            "2020-05-24 01:17:19 INFO     tokenizing sentence...\n",
            "2020-05-24 01:17:19 INFO     padding sentence...\n",
            "2020-05-24 01:17:19 INFO     all finished...\n"
          ],
          "name": "stdout"
        }
      ]
    },
    {
      "cell_type": "code",
      "metadata": {
        "id": "NBUErOp_QEK9",
        "colab_type": "code",
        "outputId": "061122bf-24ef-4906-b0d7-ce82914b934b",
        "colab": {
          "base_uri": "https://localhost:8080/",
          "height": 34
        }
      },
      "source": [
        "train_X.shape"
      ],
      "execution_count": 34,
      "outputs": [
        {
          "output_type": "execute_result",
          "data": {
            "text/plain": [
              "(10592, 70)"
            ]
          },
          "metadata": {
            "tags": []
          },
          "execution_count": 34
        }
      ]
    },
    {
      "cell_type": "markdown",
      "metadata": {
        "id": "AenyxjOSMCDL",
        "colab_type": "text"
      },
      "source": [
        "# Train model"
      ]
    },
    {
      "cell_type": "markdown",
      "metadata": {
        "id": "hV3ggXShw9_t",
        "colab_type": "text"
      },
      "source": [
        "Prediction results: \\\\\n",
        "DT: pred_val_y_dt \\\\\n",
        "LR: pred_val_y_lr \\\\\n",
        "NB: pred_val_y_NB \\\\\n",
        "\n",
        "LSTM: pred_val_y_lstm_noemb \\\\\n",
        "LSTM + GloVe: pred_val_y_lstm_emb \\\\\n",
        "\n",
        "CNN + GloVe: cnn_val_y_cnn_emb\n",
        "\n",
        "Evaluation results: \\\\\n",
        "tp_result \\\\\n",
        "tn_result \\\\\n",
        "fp_result \\\\\n",
        "fn_result \\\\\n",
        "acc_result \\\\\n",
        "precision_result \\\\\n",
        "recall_result \\\\\n",
        "f1_result\n"
      ]
    },
    {
      "cell_type": "markdown",
      "metadata": {
        "id": "QL2IvlW8qLJQ",
        "colab_type": "text"
      },
      "source": [
        "## Model1: base line"
      ]
    },
    {
      "cell_type": "code",
      "metadata": {
        "id": "0-uZ5egkQd58",
        "colab_type": "code",
        "colab": {}
      },
      "source": [
        "from sklearn import tree\n",
        "from sklearn.linear_model import LogisticRegression\n",
        "from sklearn.naive_bayes import GaussianNB\n",
        "from sklearn import svm\n",
        "\n",
        "from sklearn.metrics import accuracy_score, f1_score\n",
        "from sklearn.metrics import precision_score\n",
        "from sklearn.metrics import recall_score\n",
        "from sklearn.metrics import confusion_matrix\n",
        "\n",
        "# precision is the ratio tp / (tp + fp)\n",
        "# recall is the ratio tp / (tp + fn)\n",
        "# F1 = 2 * (precision * recall) / (precision + recall)"
      ],
      "execution_count": 0,
      "outputs": []
    },
    {
      "cell_type": "markdown",
      "metadata": {
        "id": "pYDgYFtKqO40",
        "colab_type": "text"
      },
      "source": [
        "### Decision tree"
      ]
    },
    {
      "cell_type": "code",
      "metadata": {
        "id": "odb9nd5WQST8",
        "colab_type": "code",
        "colab": {}
      },
      "source": [
        "def dt_model(train_X, train_y, val_X, val_y):\n",
        "    dt_clf = tree.DecisionTreeClassifier()\n",
        "    dt_clf = dt_clf.fit(train_X, train_y)\n",
        "    pred_val_y = dt_clf.predict(val_X).reshape(-1,1)\n",
        "    \n",
        "    \n",
        "    tn, fp, fn, tp = confusion_matrix(pred_val_y, val_y).ravel()\n",
        "    print('tn', tn, 'fp', fp, 'fn', fn, 'tp', tp)\n",
        "\n",
        "    dt_acc = accuracy_score(pred_val_y, val_y)\n",
        "    dt_precision = precision_score(pred_val_y, val_y)\n",
        "    dt_recall = recall_score(pred_val_y, val_y)\n",
        "    dt_f1_score = f1_score(pred_val_y, val_y)\n",
        "    return dt_acc, dt_precision, dt_recall, dt_f1_score, pred_val_y, tn, fp, fn, tp"
      ],
      "execution_count": 0,
      "outputs": []
    },
    {
      "cell_type": "code",
      "metadata": {
        "id": "6NbcgKG1RcQL",
        "colab_type": "code",
        "outputId": "0f801d68-4276-4c42-8ab4-fc5d33ca0531",
        "colab": {
          "base_uri": "https://localhost:8080/",
          "height": 71
        }
      },
      "source": [
        "dt_acc, dt_precision, dt_recall, dt_f1_score, pred_val_y_dt, tn_dt, fp_dt, fn_dt, tp_dt= dt_model(train_X, train_y, test_X, test_y)\n",
        "print('dt_acc: ', dt_acc, 'dt_precision: ', dt_precision, 'dt_recall: ',dt_recall,', dt_f1_score: ',  dt_f1_score)"
      ],
      "execution_count": 36,
      "outputs": [
        {
          "output_type": "stream",
          "text": [
            "tn 720 fp 290 fn 373 tp 145\n",
            "dt_acc:  0.5660994764397905 dt_precision:  0.3333333333333333 dt_recall:  0.2799227799227799 , dt_f1_score:  0.30430220356768106\n"
          ],
          "name": "stdout"
        }
      ]
    },
    {
      "cell_type": "markdown",
      "metadata": {
        "id": "63QJAP9RqSle",
        "colab_type": "text"
      },
      "source": [
        "### LogisticRegression"
      ]
    },
    {
      "cell_type": "code",
      "metadata": {
        "id": "J-FpKqDpWoiD",
        "colab_type": "code",
        "colab": {}
      },
      "source": [
        "def lr_model(train_X, train_y, val_X, val_y):\n",
        "    lr_clf = LogisticRegression(random_state=0, max_iter=4000).fit(train_X, train_y)\n",
        "    pred_val_y = lr_clf.predict(val_X).reshape(-1,1)\n",
        "\n",
        "    tn, fp, fn, tp = confusion_matrix(pred_val_y, val_y).ravel()\n",
        "    print('tn', tn, 'fp', fp, 'fn', fn, 'tp', tp)\n",
        "\n",
        "    lr_acc = accuracy_score(pred_val_y, val_y)\n",
        "    lr_precision = precision_score(pred_val_y, val_y)\n",
        "    lr_recall = recall_score(pred_val_y, val_y)\n",
        "    lr_f1_score = f1_score(pred_val_y, val_y)\n",
        "    return lr_acc, lr_precision, lr_recall, lr_f1_score, pred_val_y, tn, fp, fn, tp "
      ],
      "execution_count": 0,
      "outputs": []
    },
    {
      "cell_type": "code",
      "metadata": {
        "id": "W8B44OR0W_vF",
        "colab_type": "code",
        "outputId": "beb9ac16-6181-4920-9cac-82206851a284",
        "colab": {
          "base_uri": "https://localhost:8080/",
          "height": 68
        }
      },
      "source": [
        "lr_acc, lr_precision, lr_recall, lr_f1_score, pred_val_y_lr, tn_lr, fp_lr, fn_lr, tp_lr  = lr_model(train_X, train_y, test_X, test_y)\n",
        "print('lr_precision', lr_precision, 'lr_recall', lr_recall)\n",
        "print('lr_acc: ', lr_acc, ', lr_f1_score: ',  lr_f1_score)"
      ],
      "execution_count": 39,
      "outputs": [
        {
          "output_type": "stream",
          "text": [
            "tn 1092 fp 432 fn 1 tp 3\n",
            "lr_precision 0.006896551724137931 lr_recall 0.75\n",
            "lr_acc:  0.7166230366492147 , lr_f1_score:  0.01366742596810934\n"
          ],
          "name": "stdout"
        }
      ]
    },
    {
      "cell_type": "markdown",
      "metadata": {
        "id": "_i7BpltoqZza",
        "colab_type": "text"
      },
      "source": [
        "### GaussianNB"
      ]
    },
    {
      "cell_type": "code",
      "metadata": {
        "id": "_RDWko-oXO9N",
        "colab_type": "code",
        "colab": {}
      },
      "source": [
        "def gNB_model(train_X, train_y, val_X, val_y):\n",
        "    gNB_clf = GaussianNB()\n",
        "    gNB_clf = gNB_clf.fit(train_X, train_y)\n",
        "    pred_val_y = gNB_clf.predict(val_X).reshape(-1,1)\n",
        "\n",
        "    tn, fp, fn, tp = confusion_matrix(pred_val_y, val_y).ravel()\n",
        "    print('tn', tn, 'fp', fp, 'fn', fn, 'tp', tp)\n",
        "\n",
        "    gNB_acc = accuracy_score(pred_val_y, val_y)\n",
        "    gNB_precision = precision_score(pred_val_y, val_y)\n",
        "    gNB_recall = recall_score(pred_val_y, val_y)\n",
        "    gNB_f1_score = f1_score(pred_val_y, val_y)\n",
        "    return gNB_acc, gNB_precision, gNB_recall, gNB_f1_score, pred_val_y, tn, fp, fn, tp "
      ],
      "execution_count": 0,
      "outputs": []
    },
    {
      "cell_type": "code",
      "metadata": {
        "id": "heu4JLHgX164",
        "colab_type": "code",
        "outputId": "25812327-185e-40a0-cb0f-373409eeef65",
        "colab": {
          "base_uri": "https://localhost:8080/",
          "height": 71
        }
      },
      "source": [
        "gNB_acc, gNB_precision, gNB_recall, gNB_f1_score, pred_val_y_NB, tn_NB, fp_NB, fn_NB, tp_NB  = gNB_model(train_X, train_y, test_X, test_y)\n",
        "print('gNB_acc: ', gNB_acc, 'gNB_precision: ', gNB_precision, 'gNB_recall:', gNB_recall, 'gNB_f1_score: ',  gNB_f1_score)"
      ],
      "execution_count": 43,
      "outputs": [
        {
          "output_type": "stream",
          "text": [
            "tn 79 fp 55 fn 1014 tp 380\n",
            "gNB_acc:  0.30039267015706805 gNB_precision:  0.8735632183908046 gNB_recall: 0.27259684361549497 gNB_f1_score:  0.41552761071623834\n"
          ],
          "name": "stdout"
        }
      ]
    },
    {
      "cell_type": "markdown",
      "metadata": {
        "id": "pLKBBFKPaYTL",
        "colab_type": "text"
      },
      "source": [
        "### SVM"
      ]
    },
    {
      "cell_type": "code",
      "metadata": {
        "id": "T2rFe-AQcOKF",
        "colab_type": "code",
        "colab": {}
      },
      "source": [
        "def svm_model(train_X, train_y, val_X, val_y):\n",
        "    svm_clf = svm.SVC()\n",
        "    svm_clf = svm_clf.fit(train_X, train_y)\n",
        "    pred_val_y = svm_clf.predict(val_X).reshape(-1,1)\n",
        "\n",
        "    tn, fp, fn, tp = confusion_matrix(pred_val_y, val_y).ravel()\n",
        "    print('tn', tn, 'fp', fp, 'fn', fn, 'tp', tp)\n",
        "\n",
        "    svm_acc = accuracy_score(pred_val_y, val_y)\n",
        "    svm_precision = precision_score(pred_val_y, val_y)\n",
        "    svm_recall = recall_score(pred_val_y, val_y)\n",
        "    svm_f1_score = f1_score(pred_val_y, val_y)\n",
        "    return svm_acc, svm_precision, svm_recall, svm_f1_score, pred_val_y, tn, fp, fn, tp"
      ],
      "execution_count": 0,
      "outputs": []
    },
    {
      "cell_type": "code",
      "metadata": {
        "id": "qc3dO4YDcrEW",
        "colab_type": "code",
        "outputId": "b859cd9f-4895-47cc-ed7c-3742efab4cf5",
        "colab": {
          "base_uri": "https://localhost:8080/",
          "height": 51
        }
      },
      "source": [
        "svm_acc, svm_precision, svm_recall, svm_f1_score, pred_val_y_svm, tn_svm, fp_svm, fn_svm, tp_svm = svm_model(train_X, train_y, test_X, test_y)\n",
        "print('svm_acc: ', svm_acc, 'svm_precision: ', svm_precision, 'svm_recall:', svm_recall, 'svm_1_score: ',  svm_f1_score)"
      ],
      "execution_count": 45,
      "outputs": [
        {
          "output_type": "stream",
          "text": [
            "tn 1089 fp 434 fn 4 tp 1\n",
            "svm_acc:  0.7133507853403142 svm_precision:  0.0022988505747126436 svm_recall: 0.2 svm_1_score:  0.004545454545454546\n"
          ],
          "name": "stdout"
        }
      ]
    },
    {
      "cell_type": "markdown",
      "metadata": {
        "id": "REnqEUw_kKI8",
        "colab_type": "text"
      },
      "source": [
        "## Model2 : LSTM + Without Pretrained Embeddings:"
      ]
    },
    {
      "cell_type": "code",
      "metadata": {
        "id": "G9wKqZveyapX",
        "colab_type": "code",
        "outputId": "a0cdaa33-4431-440f-f60b-1f5e58baaaf8",
        "colab": {
          "base_uri": "https://localhost:8080/",
          "height": 323
        }
      },
      "source": [
        "import tensorflow as tf\n",
        "from tensorflow.keras import layers\n",
        "\n",
        "model = tf.keras.Sequential()\n",
        "\n",
        "# Add an Embedding layer expecting input vocab of size 50000, and\n",
        "# output embedding dimension of size 300.\n",
        "model.add(layers.Embedding(input_dim=50000, output_dim=300))\n",
        "\n",
        "# Add a LSTM layer with 128 internal units.\n",
        "model.add(layers.LSTM(128))\n",
        "model.add(layers.Dense(10,activation=\"relu\"))\n",
        "model.add(layers.Dropout(0.2))\n",
        "model.add(layers.Dense(1, activation=\"sigmoid\"))\n",
        "\n",
        "model.summary()"
      ],
      "execution_count": 46,
      "outputs": [
        {
          "output_type": "stream",
          "text": [
            "Model: \"sequential\"\n",
            "_________________________________________________________________\n",
            "Layer (type)                 Output Shape              Param #   \n",
            "=================================================================\n",
            "embedding (Embedding)        (None, None, 300)         15000000  \n",
            "_________________________________________________________________\n",
            "lstm (LSTM)                  (None, 128)               219648    \n",
            "_________________________________________________________________\n",
            "dense (Dense)                (None, 10)                1290      \n",
            "_________________________________________________________________\n",
            "dropout (Dropout)            (None, 10)                0         \n",
            "_________________________________________________________________\n",
            "dense_1 (Dense)              (None, 1)                 11        \n",
            "=================================================================\n",
            "Total params: 15,220,949\n",
            "Trainable params: 15,220,949\n",
            "Non-trainable params: 0\n",
            "_________________________________________________________________\n"
          ],
          "name": "stdout"
        }
      ]
    },
    {
      "cell_type": "code",
      "metadata": {
        "id": "71VTQNZjzgn9",
        "colab_type": "code",
        "outputId": "31e8005f-b834-4cf8-b2af-29fbe72c2551",
        "colab": {
          "base_uri": "https://localhost:8080/",
          "height": 173
        }
      },
      "source": [
        "model.compile(loss='binary_crossentropy', optimizer='adam', metrics=['accuracy'])\n",
        "\n",
        "from tensorflow.keras.callbacks import EarlyStopping\n",
        "callbacks = EarlyStopping(monitor='val_loss', min_delta=0, patience = 2)\n",
        "history = model.fit(train_X, \n",
        "                    train_y, \n",
        "                    batch_size=512, \n",
        "                    epochs=14, \n",
        "                    validation_data=(val_X, val_y),\n",
        "                    callbacks=callbacks\n",
        "                    )"
      ],
      "execution_count": 47,
      "outputs": [
        {
          "output_type": "stream",
          "text": [
            "Epoch 1/14\n",
            "21/21 [==============================] - 25s 1s/step - loss: 0.6425 - accuracy: 0.6618 - val_loss: 0.6250 - val_accuracy: 0.6677\n",
            "Epoch 2/14\n",
            "21/21 [==============================] - 24s 1s/step - loss: 0.5720 - accuracy: 0.6881 - val_loss: 0.5696 - val_accuracy: 0.7137\n",
            "Epoch 3/14\n",
            "21/21 [==============================] - 24s 1s/step - loss: 0.4561 - accuracy: 0.8158 - val_loss: 0.6037 - val_accuracy: 0.7017\n",
            "Epoch 4/14\n",
            "21/21 [==============================] - 24s 1s/step - loss: 0.3391 - accuracy: 0.8691 - val_loss: 0.6422 - val_accuracy: 0.7205\n"
          ],
          "name": "stdout"
        }
      ]
    },
    {
      "cell_type": "code",
      "metadata": {
        "id": "HXGOMPFjS6CU",
        "colab_type": "code",
        "colab": {
          "base_uri": "https://localhost:8080/",
          "height": 153
        },
        "outputId": "352c8dd0-da8d-4feb-bfc2-cf095f5aabf6"
      },
      "source": [
        "pred_noemb_val_y = model.predict([test_X], batch_size=1024, verbose=1)\n",
        "print(pred_noemb_val_y)"
      ],
      "execution_count": 48,
      "outputs": [
        {
          "output_type": "stream",
          "text": [
            "2/2 [==============================] - 0s 179ms/step\n",
            "[[0.0187555 ]\n",
            " [0.63574785]\n",
            " [0.335833  ]\n",
            " ...\n",
            " [0.16025752]\n",
            " [0.06807068]\n",
            " [0.60262245]]\n"
          ],
          "name": "stdout"
        }
      ]
    },
    {
      "cell_type": "code",
      "metadata": {
        "id": "gGPsgb7IQDsg",
        "colab_type": "code",
        "outputId": "82b8220e-2a2f-4a03-9bb7-24efd131689b",
        "colab": {
          "base_uri": "https://localhost:8080/",
          "height": 71
        }
      },
      "source": [
        "# validation the model(confusion matrix)\n",
        "def rnn_confusion_matrix(pred_noemb_val_y, val_y):\n",
        "    pred_val_y = pred_noemb_val_y > 0.5\n",
        "    tn, fp, fn, tp = confusion_matrix(pred_val_y, val_y).ravel()\n",
        "    print('tn', tn, 'fp', fp, 'fn', fn, 'tp', tp)\n",
        "\n",
        "    lstm_acc = accuracy_score(pred_val_y, val_y)\n",
        "    lstm_precision = precision_score(pred_val_y, val_y)\n",
        "    lstm_recall = recall_score(pred_val_y, val_y)\n",
        "    lstm_f1_score = f1_score(pred_val_y, val_y)\n",
        "    return lstm_acc, lstm_precision, lstm_recall, lstm_f1_score, pred_val_y, tn, fp, fn, tp\n",
        "\n",
        "lstm_acc, lstm_precision, lstm_recall, lstm_f1_score, pred_val_y_lstm_noemb, tn_l_no, fp_l_no, fn_l_no, tp_l_no = rnn_confusion_matrix(pred_noemb_val_y, test_y)\n",
        "print('lstm_acc: ',lstm_acc, ', lstm_precision: ', lstm_precision, ', lstm_recall: ', lstm_recall, ', lstm_f1_score', lstm_f1_score)"
      ],
      "execution_count": 49,
      "outputs": [
        {
          "output_type": "stream",
          "text": [
            "tn 892 fp 309 fn 201 tp 126\n",
            "lstm_acc:  0.6662303664921466 , lstm_precision:  0.2896551724137931 , lstm_recall:  0.3853211009174312 , lstm_f1_score 0.33070866141732286\n"
          ],
          "name": "stdout"
        }
      ]
    },
    {
      "cell_type": "markdown",
      "metadata": {
        "id": "hJSYLb3ykxyT",
        "colab_type": "text"
      },
      "source": [
        "## Model3: LSTM + Pretrained embeddings\n",
        "\n",
        "Embeddings:\n",
        "glove.840B.300d - https://nlp.stanford.edu/projects/glove/\n",
        "paragram_300_sl999 - https://cogcomp.org/page/resource_view/106\n",
        "\n",
        "It will take several minutes to load this 5G file. Be patient.. \n",
        "\n",
        "\n",
        "\n"
      ]
    },
    {
      "cell_type": "code",
      "metadata": {
        "id": "VS3iwFGqwHvT",
        "colab_type": "code",
        "outputId": "43609ca0-c63c-4621-acac-6969f93a5d1d",
        "colab": {
          "base_uri": "https://localhost:8080/",
          "height": 51
        }
      },
      "source": [
        "import io\n",
        "embeddings_index = {}\n",
        "logging.info(\"Loading Glove Model\")\n",
        "with io.open(PROJECT_PATH +'/glove.840B.300d.txt', encoding='utf8') as f:\n",
        "    for line in f:\n",
        "        values = line.split()\n",
        "        word = ''.join(values[:-300])\n",
        "        coefs = np.asarray(values[-300:], dtype='float32')\n",
        "        embeddings_index[word] = coefs\n",
        "logging.info(\"Loading Glove Model Done\")"
      ],
      "execution_count": 50,
      "outputs": [
        {
          "output_type": "stream",
          "text": [
            "2020-05-24 01:29:09 INFO     Loading Glove Model\n",
            "2020-05-24 01:32:44 INFO     Loading Glove Model Done\n"
          ],
          "name": "stdout"
        }
      ]
    },
    {
      "cell_type": "code",
      "metadata": {
        "id": "_7fswnbHDI2S",
        "colab_type": "code",
        "outputId": "ffd17079-8a2f-40e2-dd7d-1f84dc8306d7",
        "colab": {
          "base_uri": "https://localhost:8080/",
          "height": 88
        }
      },
      "source": [
        "all_embs = np.stack(embeddings_index.values())\n",
        "emb_mean,emb_std = all_embs.mean(), all_embs.std()\n",
        "embed_size = all_embs.shape[1]\n",
        "word_index = tokenizer.word_index\n",
        "nb_words = min(max_features, 1 + len(word_index))\n",
        "embedding_matrix = np.random.normal(emb_mean, emb_std, (nb_words, embed_size))\n",
        "embedding_matrix.shape"
      ],
      "execution_count": 51,
      "outputs": [
        {
          "output_type": "stream",
          "text": [
            "/usr/local/lib/python3.6/dist-packages/IPython/core/interactiveshell.py:2822: FutureWarning: arrays to stack must be passed as a \"sequence\" type such as list or tuple. Support for non-sequence iterables such as generators is deprecated as of NumPy 1.16 and will raise an error in the future.\n",
            "  if self.run_code(code, result):\n"
          ],
          "name": "stderr"
        },
        {
          "output_type": "execute_result",
          "data": {
            "text/plain": [
              "(19627, 300)"
            ]
          },
          "metadata": {
            "tags": []
          },
          "execution_count": 51
        }
      ]
    },
    {
      "cell_type": "code",
      "metadata": {
        "id": "vNslPaHb193k",
        "colab_type": "code",
        "outputId": "e3686756-400f-45bf-c278-7567af2ceec4",
        "colab": {
          "base_uri": "https://localhost:8080/",
          "height": 34
        }
      },
      "source": [
        "for word, i in word_index.items(): \n",
        "    if i >= max_features: continue\n",
        "    embedding_vector = embeddings_index.get(word)\n",
        "    if embedding_vector is not None: \n",
        "        embedding_matrix[i] = embedding_vector\n",
        "print(embedding_matrix.shape)"
      ],
      "execution_count": 52,
      "outputs": [
        {
          "output_type": "stream",
          "text": [
            "(19627, 300)\n"
          ],
          "name": "stdout"
        }
      ]
    },
    {
      "cell_type": "code",
      "metadata": {
        "id": "6RWtEloU2M1N",
        "colab_type": "code",
        "outputId": "d5547b66-48d4-4b31-89b3-8ac6edea793a",
        "colab": {
          "base_uri": "https://localhost:8080/",
          "height": 323
        }
      },
      "source": [
        "import tensorflow as tf\n",
        "from tensorflow.keras import layers\n",
        "from keras.initializers import Constant\n",
        "\n",
        "model = tf.keras.Sequential()\n",
        "model.add(layers.Embedding(nb_words,\n",
        "                            300,\n",
        "                            weights=[embedding_matrix],\n",
        "                            input_length=max_len,\n",
        "                            trainable=False))\n",
        "model.add(layers.LSTM(128))\n",
        "model.add(layers.Dense(10,activation=\"relu\"))\n",
        "model.add(layers.Dropout(0.2))\n",
        "model.add(layers.Dense(1, activation=\"sigmoid\"))\n",
        "model.summary()\n"
      ],
      "execution_count": 53,
      "outputs": [
        {
          "output_type": "stream",
          "text": [
            "Model: \"sequential_1\"\n",
            "_________________________________________________________________\n",
            "Layer (type)                 Output Shape              Param #   \n",
            "=================================================================\n",
            "embedding_1 (Embedding)      (None, 70, 300)           5888100   \n",
            "_________________________________________________________________\n",
            "lstm_1 (LSTM)                (None, 128)               219648    \n",
            "_________________________________________________________________\n",
            "dense_2 (Dense)              (None, 10)                1290      \n",
            "_________________________________________________________________\n",
            "dropout_1 (Dropout)          (None, 10)                0         \n",
            "_________________________________________________________________\n",
            "dense_3 (Dense)              (None, 1)                 11        \n",
            "=================================================================\n",
            "Total params: 6,109,049\n",
            "Trainable params: 220,949\n",
            "Non-trainable params: 5,888,100\n",
            "_________________________________________________________________\n"
          ],
          "name": "stdout"
        }
      ]
    },
    {
      "cell_type": "code",
      "metadata": {
        "id": "Txx27Bzd3gLM",
        "colab_type": "code",
        "colab": {}
      },
      "source": [
        "model.compile(loss='binary_crossentropy', optimizer='adam', metrics=['accuracy'])"
      ],
      "execution_count": 0,
      "outputs": []
    },
    {
      "cell_type": "code",
      "metadata": {
        "id": "BeVa4_2m3kzN",
        "colab_type": "code",
        "outputId": "99ac9456-b1ca-4fea-cc15-09ff5ae9578c",
        "colab": {
          "base_uri": "https://localhost:8080/",
          "height": 343
        }
      },
      "source": [
        "from tensorflow.keras.callbacks import EarlyStopping\n",
        "\n",
        "callbacks = EarlyStopping(monitor='val_loss', min_delta=0, patience = 2)\n",
        "\n",
        "history = model.fit(train_X, \n",
        "                    train_y, \n",
        "                    batch_size=512, \n",
        "                    epochs=15, \n",
        "                    validation_data=(val_X, val_y),\n",
        "                    callbacks=callbacks\n",
        "                    )"
      ],
      "execution_count": 55,
      "outputs": [
        {
          "output_type": "stream",
          "text": [
            "Epoch 1/15\n",
            "21/21 [==============================] - 18s 840ms/step - loss: 0.6089 - accuracy: 0.6786 - val_loss: 0.5579 - val_accuracy: 0.7198\n",
            "Epoch 2/15\n",
            "21/21 [==============================] - 17s 820ms/step - loss: 0.5308 - accuracy: 0.7387 - val_loss: 0.5142 - val_accuracy: 0.7530\n",
            "Epoch 3/15\n",
            "21/21 [==============================] - 17s 826ms/step - loss: 0.4975 - accuracy: 0.7617 - val_loss: 0.4948 - val_accuracy: 0.7681\n",
            "Epoch 4/15\n",
            "21/21 [==============================] - 17s 826ms/step - loss: 0.4731 - accuracy: 0.7808 - val_loss: 0.4862 - val_accuracy: 0.7696\n",
            "Epoch 5/15\n",
            "21/21 [==============================] - 17s 826ms/step - loss: 0.4648 - accuracy: 0.7864 - val_loss: 0.4841 - val_accuracy: 0.7749\n",
            "Epoch 6/15\n",
            "21/21 [==============================] - 17s 825ms/step - loss: 0.4507 - accuracy: 0.8015 - val_loss: 0.4768 - val_accuracy: 0.7727\n",
            "Epoch 7/15\n",
            "21/21 [==============================] - 17s 823ms/step - loss: 0.4362 - accuracy: 0.8067 - val_loss: 0.4744 - val_accuracy: 0.7817\n",
            "Epoch 8/15\n",
            "21/21 [==============================] - 17s 823ms/step - loss: 0.4225 - accuracy: 0.8119 - val_loss: 0.5119 - val_accuracy: 0.7757\n",
            "Epoch 9/15\n",
            "21/21 [==============================] - 17s 821ms/step - loss: 0.4334 - accuracy: 0.8057 - val_loss: 0.4763 - val_accuracy: 0.7757\n"
          ],
          "name": "stdout"
        }
      ]
    },
    {
      "cell_type": "code",
      "metadata": {
        "id": "ezSlgs1V0uZf",
        "colab_type": "code",
        "outputId": "519c0be7-ea7b-4676-9bde-00215a45b923",
        "colab": {
          "base_uri": "https://localhost:8080/",
          "height": 153
        }
      },
      "source": [
        "pred_emb_val_y = model.predict([test_X], batch_size=1024, verbose=1)\n",
        "print(pred_emb_val_y)"
      ],
      "execution_count": 56,
      "outputs": [
        {
          "output_type": "stream",
          "text": [
            "2/2 [==============================] - 0s 183ms/step\n",
            "[[0.07715839]\n",
            " [0.11265543]\n",
            " [0.5948218 ]\n",
            " ...\n",
            " [0.54774714]\n",
            " [0.66159195]\n",
            " [0.2740952 ]]\n"
          ],
          "name": "stdout"
        }
      ]
    },
    {
      "cell_type": "code",
      "metadata": {
        "id": "s5WXSJ6D0rgh",
        "colab_type": "code",
        "outputId": "d7086090-b12c-471f-d13c-e3ca6b42d6f3",
        "colab": {
          "base_uri": "https://localhost:8080/",
          "height": 71
        }
      },
      "source": [
        "# validation the model(confusion matrix)\n",
        "def rnn_confusion_matrix(pred_emb_val_y, val_y):\n",
        "    pred_val_y = pred_emb_val_y > 0.5\n",
        "    tn, fp, fn, tp = confusion_matrix(pred_val_y, val_y).ravel()\n",
        "    print('tn', tn, 'fp', fp, 'fn', fn, 'tp', tp)\n",
        "\n",
        "    lstm_acc = accuracy_score(pred_val_y, val_y)\n",
        "    lstm_precision = precision_score(pred_val_y, val_y)\n",
        "    lstm_recall = recall_score(pred_val_y, val_y)\n",
        "    lstm_f1_score = f1_score(pred_val_y, val_y)\n",
        "    return lstm_acc, lstm_precision, lstm_recall, lstm_f1_score, pred_val_y,  tn, fp, fn, tp\n",
        "\n",
        "lstm_e_acc, lstm_e_precision, lstm_e_recall, lstm_f1_e_score, pred_val_y_lstm_emb, tn_l_e, fp_l_e, fn_l_e, tp_l_e = rnn_confusion_matrix(pred_emb_val_y, test_y)\n",
        "print('lstm_e_acc: ',lstm_e_acc, ', lstm_e_precision: ', lstm_e_precision, ', lstm_e_recall: ', lstm_e_recall, ', lstm_f1_e_score', lstm_f1_e_score)"
      ],
      "execution_count": 57,
      "outputs": [
        {
          "output_type": "stream",
          "text": [
            "tn 860 fp 262 fn 233 tp 173\n",
            "lstm_e_acc:  0.6760471204188482 , lstm_e_precision:  0.39770114942528734 , lstm_e_recall:  0.42610837438423643 , lstm_f1_e_score 0.4114149821640904\n"
          ],
          "name": "stdout"
        }
      ]
    },
    {
      "cell_type": "markdown",
      "metadata": {
        "_uuid": "383e51177bf33da0b8fee42dd6a093908b808f64",
        "id": "nGYvEk8EZA6z",
        "colab_type": "text"
      },
      "source": [
        "## Model4: CNN + pre-trained"
      ]
    },
    {
      "cell_type": "code",
      "metadata": {
        "id": "NpCE96HTr71x",
        "colab_type": "code",
        "outputId": "99243686-e6b4-4a13-aae6-a38c5c4ba66f",
        "colab": {
          "base_uri": "https://localhost:8080/",
          "height": 323
        }
      },
      "source": [
        "import tensorflow as tf\n",
        "from tensorflow.keras import layers\n",
        "from keras.initializers import Constant\n",
        "\n",
        "model_CNN = tf.keras.Sequential()\n",
        "model_CNN.add(layers.Embedding(nb_words,\n",
        "                                300,\n",
        "                                weights=[embedding_matrix],\n",
        "                                input_length=max_len,\n",
        "                                trainable=False))\n",
        "model_CNN.add(layers.Conv1D(300, \n",
        "                            kernel_size=5, \n",
        "                            activation='relu',\n",
        "                            name='Conv1'))\n",
        "model_CNN.add(layers.GlobalMaxPool1D())\n",
        "\n",
        "# model_CNN.add(layers.Reshape((300,1)))\n",
        "# model_CNN.add(layers.Conv1D(300,\n",
        "#                             kernel_size=3, \n",
        "#                             activation='relu',\n",
        "#                             name='Conv2'))\n",
        "# model_CNN.add(layers.GlobalMaxPool1D())\n",
        "model_CNN.add(layers.Dense(10, activation=\"relu\"))\n",
        "model_CNN.add(layers.Dense(1, activation=\"sigmoid\"))\n",
        "model_CNN.summary()"
      ],
      "execution_count": 58,
      "outputs": [
        {
          "output_type": "stream",
          "text": [
            "Model: \"sequential_2\"\n",
            "_________________________________________________________________\n",
            "Layer (type)                 Output Shape              Param #   \n",
            "=================================================================\n",
            "embedding_2 (Embedding)      (None, 70, 300)           5888100   \n",
            "_________________________________________________________________\n",
            "Conv1 (Conv1D)               (None, 66, 300)           450300    \n",
            "_________________________________________________________________\n",
            "global_max_pooling1d (Global (None, 300)               0         \n",
            "_________________________________________________________________\n",
            "dense_4 (Dense)              (None, 10)                3010      \n",
            "_________________________________________________________________\n",
            "dense_5 (Dense)              (None, 1)                 11        \n",
            "=================================================================\n",
            "Total params: 6,341,421\n",
            "Trainable params: 453,321\n",
            "Non-trainable params: 5,888,100\n",
            "_________________________________________________________________\n"
          ],
          "name": "stdout"
        }
      ]
    },
    {
      "cell_type": "code",
      "metadata": {
        "id": "ooz1GuycuGrU",
        "colab_type": "code",
        "outputId": "b168ec59-981b-4a2b-a998-3da5a042d4ee",
        "colab": {
          "base_uri": "https://localhost:8080/",
          "height": 275
        }
      },
      "source": [
        "model_CNN.compile(loss='binary_crossentropy', optimizer='adam', metrics=['accuracy'])\n",
        "\n",
        "from tensorflow.keras.callbacks import EarlyStopping\n",
        "callbacks = EarlyStopping(monitor='val_loss', min_delta=0, patience = 2)\n",
        "history = model_CNN.fit(train_X, \n",
        "                        train_y, \n",
        "                        batch_size=512, \n",
        "                        epochs=14, \n",
        "                        validation_data=(val_X, val_y),\n",
        "                        callbacks=callbacks\n",
        "                        )"
      ],
      "execution_count": 59,
      "outputs": [
        {
          "output_type": "stream",
          "text": [
            "Epoch 1/14\n",
            "21/21 [==============================] - 24s 1s/step - loss: 0.6129 - accuracy: 0.6668 - val_loss: 0.5712 - val_accuracy: 0.6677\n",
            "Epoch 2/14\n",
            "21/21 [==============================] - 24s 1s/step - loss: 0.5317 - accuracy: 0.7231 - val_loss: 0.5412 - val_accuracy: 0.7349\n",
            "Epoch 3/14\n",
            "21/21 [==============================] - 24s 1s/step - loss: 0.4887 - accuracy: 0.7821 - val_loss: 0.5205 - val_accuracy: 0.7704\n",
            "Epoch 4/14\n",
            "21/21 [==============================] - 24s 1s/step - loss: 0.4620 - accuracy: 0.8021 - val_loss: 0.5229 - val_accuracy: 0.7719\n",
            "Epoch 5/14\n",
            "21/21 [==============================] - 24s 1s/step - loss: 0.4431 - accuracy: 0.8188 - val_loss: 0.5090 - val_accuracy: 0.7817\n",
            "Epoch 6/14\n",
            "21/21 [==============================] - 24s 1s/step - loss: 0.4197 - accuracy: 0.8300 - val_loss: 0.5153 - val_accuracy: 0.7840\n",
            "Epoch 7/14\n",
            "21/21 [==============================] - 24s 1s/step - loss: 0.3913 - accuracy: 0.8484 - val_loss: 0.5278 - val_accuracy: 0.7810\n"
          ],
          "name": "stdout"
        }
      ]
    },
    {
      "cell_type": "code",
      "metadata": {
        "id": "HbteFxRL3v-v",
        "colab_type": "code",
        "outputId": "a5c8cadb-e8b9-44d3-dec1-aa148c81a9e9",
        "colab": {
          "base_uri": "https://localhost:8080/",
          "height": 153
        }
      },
      "source": [
        "pred_emb_val_y = model_CNN.predict([test_X], batch_size=512, verbose=1)\n",
        "print(pred_noemb_val_y)"
      ],
      "execution_count": 60,
      "outputs": [
        {
          "output_type": "stream",
          "text": [
            "3/3 [==============================] - 1s 340ms/step\n",
            "[[0.0187555 ]\n",
            " [0.63574785]\n",
            " [0.335833  ]\n",
            " ...\n",
            " [0.16025752]\n",
            " [0.06807068]\n",
            " [0.60262245]]\n"
          ],
          "name": "stdout"
        }
      ]
    },
    {
      "cell_type": "code",
      "metadata": {
        "id": "hUUUA2bd3vmt",
        "colab_type": "code",
        "outputId": "e3af09dc-4d2e-45cf-d42f-5951953ec070",
        "colab": {
          "base_uri": "https://localhost:8080/",
          "height": 71
        }
      },
      "source": [
        "# validation the model(confusion matrix)\n",
        "def cnn_confusion_matrix(pred_emb_val_y, val_y):\n",
        "    pred_val_y = pred_emb_val_y > 0.5\n",
        "    tn, fp, fn, tp = confusion_matrix(pred_val_y, val_y).ravel()\n",
        "    print('tn', tn, 'fp', fp, 'fn', fn, 'tp', tp)\n",
        "\n",
        "    cnn_acc = accuracy_score(pred_val_y, val_y)\n",
        "    cnn_precision = precision_score(pred_val_y, val_y)\n",
        "    cnn_recall = recall_score(pred_val_y, val_y)\n",
        "    cnn_f1_score = f1_score(pred_val_y, val_y)\n",
        "    return cnn_acc, cnn_precision, cnn_recall, cnn_f1_score, pred_val_y, tn, fp, fn, tp\n",
        "\n",
        "cnn_acc, cnn_precision, cnn_recall, cnn_f1_score, cnn_val_y_cnn_emb, tn_c_e, fp_c_e, fn_c_e, tp_c_e = cnn_confusion_matrix(pred_emb_val_y, test_y)\n",
        "print('cnn_acc: ',cnn_acc, ', cnn_precision: ', cnn_precision, ', cnn_recall: ', cnn_recall, ', cnn_f1_score', cnn_f1_score)"
      ],
      "execution_count": 61,
      "outputs": [
        {
          "output_type": "stream",
          "text": [
            "tn 980 fp 333 fn 113 tp 102\n",
            "cnn_acc:  0.7081151832460733 , cnn_precision:  0.23448275862068965 , cnn_recall:  0.4744186046511628 , cnn_f1_score 0.31384615384615383\n"
          ],
          "name": "stdout"
        }
      ]
    },
    {
      "cell_type": "markdown",
      "metadata": {
        "id": "klqLbsWe6JdV",
        "colab_type": "text"
      },
      "source": [
        "# Save Results"
      ]
    },
    {
      "cell_type": "markdown",
      "metadata": {
        "id": "RrPIDwA8ZVgt",
        "colab_type": "text"
      },
      "source": [
        "## Evaluation results"
      ]
    },
    {
      "cell_type": "markdown",
      "metadata": {
        "id": "2L7Cu2jbZeWo",
        "colab_type": "text"
      },
      "source": [
        "Evaluation results: \\\\\n",
        "tp_result \\\\\n",
        "tn_result \\\\\n",
        "fp_result \\\\\n",
        "fn_result \\\\\n",
        "acc_result \\\\\n",
        "precision_result \\\\\n",
        "recall_result \\\\\n",
        "f1_result"
      ]
    },
    {
      "cell_type": "code",
      "metadata": {
        "id": "0_AD3stRZYRG",
        "colab_type": "code",
        "colab": {}
      },
      "source": [
        "tp_result = []\n",
        "tn_result = []\n",
        "fp_result = []\n",
        "fn_result = []\n",
        "acc_result = []\n",
        "precision_result = []\n",
        "recall_result = []\n",
        "f1_result = []\n",
        "\n",
        "tp_result.extend((tp_dt, tp_lr, tp_NB, tp_svm, tp_l_no, tp_l_e, tp_c_e))\n",
        "tn_result.extend((tn_dt, tn_lr, tn_NB, tn_svm, tn_l_no, tn_l_e, tn_c_e))\n",
        "fp_result.extend((fp_dt, fp_lr, fp_NB, fp_svm, fp_l_no, fp_l_e, fp_c_e))\n",
        "fn_result.extend((fn_dt, fn_lr, fn_NB, fn_svm, fn_l_no, fn_l_e, fn_c_e))\n",
        "\n",
        "acc_result.extend((dt_acc, lr_acc, gNB_acc, svm_acc, lstm_acc, lstm_e_acc, cnn_acc))\n",
        "precision_result.extend((dt_precision, lr_precision, gNB_precision, svm_precision, lstm_precision,lstm_e_precision, cnn_precision))\n",
        "recall_result.extend((dt_recall, lr_recall, gNB_recall, svm_recall, lstm_recall, lstm_e_recall, cnn_recall))\n",
        "f1_result.extend((dt_f1_score, lr_f1_score, gNB_f1_score, svm_f1_score, lstm_f1_score, lstm_f1_e_score, cnn_f1_score))\n"
      ],
      "execution_count": 0,
      "outputs": []
    },
    {
      "cell_type": "code",
      "metadata": {
        "id": "qxqa2FmHgtg7",
        "colab_type": "code",
        "colab": {}
      },
      "source": [
        "tp_result = np.reshape(np.asarray(tp_result), (-1, 1))\n",
        "tn_result = np.reshape(np.asarray(tn_result), (-1, 1))\n",
        "fp_result = np.reshape(np.asarray(fp_result), (-1, 1))\n",
        "fn_result = np.reshape(np.asarray(fn_result), (-1, 1))\n",
        "\n",
        "acc_result = np.reshape(np.asarray(acc_result), (-1, 1))\n",
        "precision_result = np.reshape(np.asarray(precision_result), (-1, 1))\n",
        "recall_result = np.reshape(np.asarray(recall_result), (-1, 1))\n",
        "f1_result = np.reshape(np.asarray(f1_result), (-1, 1))"
      ],
      "execution_count": 0,
      "outputs": []
    },
    {
      "cell_type": "code",
      "metadata": {
        "id": "9UKrLUxCi8A1",
        "colab_type": "code",
        "colab": {}
      },
      "source": [
        "array2 = np.column_stack((tp_result, tn_result))\n",
        "array2 = np.column_stack((array2, fp_result))\n",
        "array2 = np.column_stack((array2, fn_result))\n",
        "array2 = np.column_stack((array2, acc_result))\n",
        "array2 = np.column_stack((array2, precision_result))\n",
        "array2 = np.column_stack((array2, recall_result))\n",
        "array2 = np.column_stack((array2, f1_result))\n"
      ],
      "execution_count": 0,
      "outputs": []
    },
    {
      "cell_type": "code",
      "metadata": {
        "id": "49bRy9IckMGd",
        "colab_type": "code",
        "colab": {}
      },
      "source": [
        "df_evaluation = pd.DataFrame(array2,\n",
        "                             index=['dt', 'lr', 'nb', 'svm', 'lstm', 'lstm + emb', 'cnn + emb'],\n",
        "                             columns=['tp', 'tn', 'fp', 'fn', 'acc', 'precision', 'recall', 'f1'])"
      ],
      "execution_count": 0,
      "outputs": []
    },
    {
      "cell_type": "code",
      "metadata": {
        "id": "9dDWMWKKlB-t",
        "colab_type": "code",
        "outputId": "a7bb7688-ca52-4d78-ec3c-9a39e709b02b",
        "colab": {
          "base_uri": "https://localhost:8080/",
          "height": 266
        }
      },
      "source": [
        "df_evaluation"
      ],
      "execution_count": 67,
      "outputs": [
        {
          "output_type": "execute_result",
          "data": {
            "text/html": [
              "<div>\n",
              "<style scoped>\n",
              "    .dataframe tbody tr th:only-of-type {\n",
              "        vertical-align: middle;\n",
              "    }\n",
              "\n",
              "    .dataframe tbody tr th {\n",
              "        vertical-align: top;\n",
              "    }\n",
              "\n",
              "    .dataframe thead th {\n",
              "        text-align: right;\n",
              "    }\n",
              "</style>\n",
              "<table border=\"1\" class=\"dataframe\">\n",
              "  <thead>\n",
              "    <tr style=\"text-align: right;\">\n",
              "      <th></th>\n",
              "      <th>tp</th>\n",
              "      <th>tn</th>\n",
              "      <th>fp</th>\n",
              "      <th>fn</th>\n",
              "      <th>acc</th>\n",
              "      <th>precision</th>\n",
              "      <th>recall</th>\n",
              "      <th>f1</th>\n",
              "    </tr>\n",
              "  </thead>\n",
              "  <tbody>\n",
              "    <tr>\n",
              "      <th>dt</th>\n",
              "      <td>145.0</td>\n",
              "      <td>720.0</td>\n",
              "      <td>290.0</td>\n",
              "      <td>373.0</td>\n",
              "      <td>0.566099</td>\n",
              "      <td>0.333333</td>\n",
              "      <td>0.279923</td>\n",
              "      <td>0.304302</td>\n",
              "    </tr>\n",
              "    <tr>\n",
              "      <th>lr</th>\n",
              "      <td>3.0</td>\n",
              "      <td>1092.0</td>\n",
              "      <td>432.0</td>\n",
              "      <td>1.0</td>\n",
              "      <td>0.716623</td>\n",
              "      <td>0.006897</td>\n",
              "      <td>0.750000</td>\n",
              "      <td>0.013667</td>\n",
              "    </tr>\n",
              "    <tr>\n",
              "      <th>nb</th>\n",
              "      <td>380.0</td>\n",
              "      <td>79.0</td>\n",
              "      <td>55.0</td>\n",
              "      <td>1014.0</td>\n",
              "      <td>0.300393</td>\n",
              "      <td>0.873563</td>\n",
              "      <td>0.272597</td>\n",
              "      <td>0.415528</td>\n",
              "    </tr>\n",
              "    <tr>\n",
              "      <th>svm</th>\n",
              "      <td>1.0</td>\n",
              "      <td>1089.0</td>\n",
              "      <td>434.0</td>\n",
              "      <td>4.0</td>\n",
              "      <td>0.713351</td>\n",
              "      <td>0.002299</td>\n",
              "      <td>0.200000</td>\n",
              "      <td>0.004545</td>\n",
              "    </tr>\n",
              "    <tr>\n",
              "      <th>lstm</th>\n",
              "      <td>126.0</td>\n",
              "      <td>892.0</td>\n",
              "      <td>309.0</td>\n",
              "      <td>201.0</td>\n",
              "      <td>0.666230</td>\n",
              "      <td>0.289655</td>\n",
              "      <td>0.385321</td>\n",
              "      <td>0.330709</td>\n",
              "    </tr>\n",
              "    <tr>\n",
              "      <th>lstm + emb</th>\n",
              "      <td>173.0</td>\n",
              "      <td>860.0</td>\n",
              "      <td>262.0</td>\n",
              "      <td>233.0</td>\n",
              "      <td>0.676047</td>\n",
              "      <td>0.397701</td>\n",
              "      <td>0.426108</td>\n",
              "      <td>0.411415</td>\n",
              "    </tr>\n",
              "    <tr>\n",
              "      <th>cnn + emb</th>\n",
              "      <td>102.0</td>\n",
              "      <td>980.0</td>\n",
              "      <td>333.0</td>\n",
              "      <td>113.0</td>\n",
              "      <td>0.708115</td>\n",
              "      <td>0.234483</td>\n",
              "      <td>0.474419</td>\n",
              "      <td>0.313846</td>\n",
              "    </tr>\n",
              "  </tbody>\n",
              "</table>\n",
              "</div>"
            ],
            "text/plain": [
              "               tp      tn     fp  ...  precision    recall        f1\n",
              "dt          145.0  720.0   290.0  ...  0.333333   0.279923  0.304302\n",
              "lr          3.0    1092.0  432.0  ...  0.006897   0.750000  0.013667\n",
              "nb          380.0  79.0    55.0   ...  0.873563   0.272597  0.415528\n",
              "svm         1.0    1089.0  434.0  ...  0.002299   0.200000  0.004545\n",
              "lstm        126.0  892.0   309.0  ...  0.289655   0.385321  0.330709\n",
              "lstm + emb  173.0  860.0   262.0  ...  0.397701   0.426108  0.411415\n",
              "cnn + emb   102.0  980.0   333.0  ...  0.234483   0.474419  0.313846\n",
              "\n",
              "[7 rows x 8 columns]"
            ]
          },
          "metadata": {
            "tags": []
          },
          "execution_count": 67
        }
      ]
    },
    {
      "cell_type": "code",
      "metadata": {
        "id": "Ci80AglSmg3o",
        "colab_type": "code",
        "colab": {}
      },
      "source": [
        "df_evaluation.to_csv(PROJECT_PATH + '/pred1_fox_csv_file.csv')"
      ],
      "execution_count": 0,
      "outputs": []
    },
    {
      "cell_type": "code",
      "metadata": {
        "id": "O6Az3TMAOBPQ",
        "colab_type": "code",
        "outputId": "3519bbdb-a24d-44c5-ed6a-7721ea59f359",
        "colab": {
          "base_uri": "https://localhost:8080/",
          "height": 34
        }
      },
      "source": [
        "logging.info(\"==============done=================\")"
      ],
      "execution_count": 69,
      "outputs": [
        {
          "output_type": "stream",
          "text": [
            "2020-05-24 01:44:45 INFO     ==============done=================\n"
          ],
          "name": "stdout"
        }
      ]
    }
  ]
}