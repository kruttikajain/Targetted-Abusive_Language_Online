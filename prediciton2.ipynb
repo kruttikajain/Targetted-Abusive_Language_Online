{
  "nbformat": 4,
  "nbformat_minor": 0,
  "metadata": {
    "kernelspec": {
      "display_name": "Python 3",
      "language": "python",
      "name": "python3"
    },
    "language_info": {
      "codemirror_mode": {
        "name": "ipython",
        "version": 3
      },
      "file_extension": ".py",
      "mimetype": "text/x-python",
      "name": "python",
      "nbconvert_exporter": "python",
      "pygments_lexer": "ipython3",
      "version": "3.6.6"
    },
    "colab": {
      "name": "prediciton1.ipynb",
      "provenance": [],
      "collapsed_sections": [],
      "toc_visible": true,
      "include_colab_link": true
    },
    "accelerator": "TPU"
  },
  "cells": [
    {
      "cell_type": "markdown",
      "metadata": {
        "id": "view-in-github",
        "colab_type": "text"
      },
      "source": [
        "<a href=\"https://colab.research.google.com/github/kruttikajain/Targetted-Abusive_Language_Online/blob/master/prediciton2.ipynb\" target=\"_parent\"><img src=\"https://colab.research.google.com/assets/colab-badge.svg\" alt=\"Open In Colab\"/></a>"
      ]
    },
    {
      "cell_type": "markdown",
      "metadata": {
        "_uuid": "01f361ddc47e0b386595316fe3d7f4dabbd260db",
        "id": "XE0VGEF8ZA6M",
        "colab_type": "text"
      },
      "source": [
        "# Abusive Language Online \n",
        "\n",
        "Predition1: predict OFF/NOT\n",
        "\n",
        "* Upload it each time: Dataset: [data](http://demo.clab.cs.cmu.edu/ethical_nlp2019/homeworks/hw3/hw3.html)\n",
        "\n",
        "\n",
        "1.   train.tsv\n",
        "2.   dev.tsv\n",
        "3.   test.tsv\n",
        "\n",
        "* Need manually add log.txt\n",
        "* Mount drive to load GloVe embeddings\n",
        "\n",
        "\n"
      ]
    },
    {
      "cell_type": "markdown",
      "metadata": {
        "id": "PqazyGPwaTEe",
        "colab_type": "text"
      },
      "source": [
        "# Import useful lib"
      ]
    },
    {
      "cell_type": "code",
      "metadata": {
        "_cell_guid": "b1076dfc-b9ad-4769-8c92-a6c4dae69d19",
        "_uuid": "8f2839f25d086af736a60e9eeb907d3b93b6e0e5",
        "id": "ONg01KM4ZA6N",
        "colab_type": "code",
        "colab": {
          "base_uri": "https://localhost:8080/",
          "height": 34
        },
        "outputId": "33b73f54-1d2b-4d28-f9e1-e0624f57b163"
      },
      "source": [
        "import os\n",
        "import sys\n",
        "from logging import handlers\n",
        "from pathlib import Path\n",
        "import logging\n",
        "import time\n",
        "import numpy as np # linear algebra\n",
        "import pandas as pd # data processing, CSV file I/O (e.g. pd.read_csv)\n",
        "from tqdm import tqdm\n",
        "import math\n",
        "import random \n",
        "\n",
        "from sklearn.model_selection import train_test_split\n",
        "from sklearn import metrics\n",
        "from sklearn.model_selection import KFold\n",
        "from sklearn.model_selection import StratifiedShuffleSplit\n",
        "\n",
        "from keras.preprocessing.text import Tokenizer\n",
        "from keras.preprocessing.sequence import pad_sequences\n",
        "from keras.layers import Dense, Input, LSTM, Embedding, Dropout, Activation, CuDNNGRU, CuDNNLSTM, Conv1D\n",
        "from keras.layers import Bidirectional, GlobalMaxPool1D\n",
        "from keras.models import Model\n",
        "from keras import initializers, regularizers, constraints, optimizers, layers\n",
        "\n",
        "from os import path\n",
        "from PIL import Image\n",
        "from wordcloud import WordCloud, STOPWORDS, ImageColorGenerator\n",
        "%matplotlib inline \n",
        "import matplotlib.pyplot as plt"
      ],
      "execution_count": 1,
      "outputs": [
        {
          "output_type": "stream",
          "text": [
            "Using TensorFlow backend.\n"
          ],
          "name": "stderr"
        }
      ]
    },
    {
      "cell_type": "markdown",
      "metadata": {
        "id": "11l-8APTaOVP",
        "colab_type": "text"
      },
      "source": [
        "# Data proprecessing"
      ]
    },
    {
      "cell_type": "markdown",
      "metadata": {
        "id": "zaD_vgEytb9u",
        "colab_type": "text"
      },
      "source": [
        "## mounting drive"
      ]
    },
    {
      "cell_type": "code",
      "metadata": {
        "id": "flhVY6tUu-wN",
        "colab_type": "code",
        "outputId": "be25b598-120c-4c6a-af39-5da5fe475443",
        "colab": {
          "base_uri": "https://localhost:8080/",
          "height": 122
        }
      },
      "source": [
        "from google.colab import drive\n",
        "drive.mount('/content/gdrive')"
      ],
      "execution_count": 2,
      "outputs": [
        {
          "output_type": "stream",
          "text": [
            "Go to this URL in a browser: https://accounts.google.com/o/oauth2/auth?client_id=947318989803-6bn6qk8qdgf4n4g3pfee6491hc0brc4i.apps.googleusercontent.com&redirect_uri=urn%3aietf%3awg%3aoauth%3a2.0%3aoob&response_type=code&scope=email%20https%3a%2f%2fwww.googleapis.com%2fauth%2fdocs.test%20https%3a%2f%2fwww.googleapis.com%2fauth%2fdrive%20https%3a%2f%2fwww.googleapis.com%2fauth%2fdrive.photos.readonly%20https%3a%2f%2fwww.googleapis.com%2fauth%2fpeopleapi.readonly\n",
            "\n",
            "Enter your authorization code:\n",
            "··········\n",
            "Mounted at /content/gdrive\n"
          ],
          "name": "stdout"
        }
      ]
    },
    {
      "cell_type": "code",
      "metadata": {
        "id": "-lHhx4ivtQTp",
        "colab_type": "code",
        "outputId": "6fbf3958-181a-4334-cf6e-822a506ca84f",
        "colab": {
          "base_uri": "https://localhost:8080/",
          "height": 34
        }
      },
      "source": [
        "!pwd"
      ],
      "execution_count": 3,
      "outputs": [
        {
          "output_type": "stream",
          "text": [
            "/content\n"
          ],
          "name": "stdout"
        }
      ]
    },
    {
      "cell_type": "code",
      "metadata": {
        "id": "PhfBBtlIHN6p",
        "colab_type": "code",
        "outputId": "a5828561-e340-48b5-a2b4-ea823ce79fcc",
        "colab": {
          "base_uri": "https://localhost:8080/",
          "height": 68
        }
      },
      "source": [
        "# Clone github repository setup\n",
        "# import join used to join ROOT path and MY_GOOGLE_DRIVE_PATH\n",
        "from os.path import join  \n",
        "\n",
        "# path to your project on Google Drive\n",
        "MY_GOOGLE_DRIVE_PATH = '' \n",
        "# replace with your Github username \n",
        "GIT_USERNAME = \"kruttikajain\" \n",
        "# definitely replace with your\n",
        "GIT_TOKEN = \"5fae1c9f18e3a0c680bf35e9ef63c72308ef2b4c\"  \n",
        "# Replace with your github repository in this case we want \n",
        "# to clone deep-learning-v2-pytorch repository\n",
        "GIT_REPOSITORY = \"Targetted-Abusive_Language_Online\" \n",
        "\n",
        "# PROJECT_PATH = join(ROOT, MY_GOOGLE_DRIVE_PATH)\n",
        "\n",
        "'''\n",
        "only this line should be modify\n",
        "'''\n",
        "PROJECT_PATH = './gdrive/My Drive/Colab Notebooks/246Project'\n",
        "\n",
        "# It's good to print out the value if you are not sure \n",
        "print(\"PROJECT_PATH: \", PROJECT_PATH)   \n",
        "\n",
        "# In case we haven't created the folder already; we will create a folder in the project path \n",
        "!mkdir \"{PROJECT_PATH}\"    \n",
        "\n",
        "#GIT_PATH = \"https://{GIT_TOKEN}@github.com/{GIT_USERNAME}/{GIT_REPOSITORY}.git\" this return 400 Bad Request for me\n",
        "GIT_PATH = \"https://\" + GIT_TOKEN + \"@github.com/\" + GIT_USERNAME + \"/\" + GIT_REPOSITORY + \".git\"\n",
        "print(\"GIT_PATH: \", GIT_PATH)"
      ],
      "execution_count": 4,
      "outputs": [
        {
          "output_type": "stream",
          "text": [
            "PROJECT_PATH:  ./gdrive/My Drive/Colab Notebooks/246Project\n",
            "mkdir: cannot create directory ‘./gdrive/My Drive/Colab Notebooks/246Project’: File exists\n",
            "GIT_PATH:  https://5fae1c9f18e3a0c680bf35e9ef63c72308ef2b4c@github.com/kruttikajain/Targetted-Abusive_Language_Online.git\n"
          ],
          "name": "stdout"
        }
      ]
    },
    {
      "cell_type": "markdown",
      "metadata": {
        "id": "ZhWzw5Rtajm7",
        "colab_type": "text"
      },
      "source": [
        "## Prepare logging file"
      ]
    },
    {
      "cell_type": "code",
      "metadata": {
        "id": "Vggd1S4jZA6R",
        "colab_type": "code",
        "outputId": "b5720d1d-b6ea-4105-f0c8-c76403f3bc40",
        "colab": {
          "base_uri": "https://localhost:8080/",
          "height": 51
        }
      },
      "source": [
        "def init_logger(log_file):\n",
        "    if not os.path.exists(log_file):\n",
        "        os.makedirs(os.path.dirname(log_file))\n",
        "\n",
        "    log = logging.getLogger('')\n",
        "    log.setLevel(logging.INFO)\n",
        "    output_format = logging.Formatter(fmt='%(asctime)s %(levelname)-8s %(message)s', datefmt='%Y-%m-%d %H:%M:%S')\n",
        "    std_out_handler = logging.StreamHandler(sys.stdout)\n",
        "    std_out_handler.setFormatter(output_format)\n",
        "    logging.getLogger().addHandler(std_out_handler)\n",
        "    file_handler = logging.handlers.RotatingFileHandler(log_file, maxBytes=(1048576*5), backupCount=7)\n",
        "    file_handler.setFormatter(output_format)\n",
        "    logging.getLogger().addHandler(file_handler)\n",
        "\n",
        "init_logger(PROJECT_PATH + '/log.txt')\n",
        "logging.info('=============start2=================')\n",
        "logging.info('logging file prepared...')"
      ],
      "execution_count": 5,
      "outputs": [
        {
          "output_type": "stream",
          "text": [
            "2020-05-17 22:39:43 INFO     =============start2=================\n",
            "2020-05-17 22:39:43 INFO     logging file prepared...\n"
          ],
          "name": "stdout"
        }
      ]
    },
    {
      "cell_type": "markdown",
      "metadata": {
        "id": "7FwYT4vTyCzs",
        "colab_type": "text"
      },
      "source": [
        "## load data"
      ]
    },
    {
      "cell_type": "code",
      "metadata": {
        "id": "AOtNdORiaKqJ",
        "colab_type": "code",
        "outputId": "b29e45a2-3b13-4bd7-fb90-bba41d3582d0",
        "colab": {
          "base_uri": "https://localhost:8080/",
          "height": 221
        }
      },
      "source": [
        "def load_data():\n",
        "    logging.info('loading the dataset...')\n",
        "    train_df = pd.read_csv(PROJECT_PATH + '/project_data/train.tsv', sep=\"\\t\")\n",
        "    val_df = pd.read_csv(PROJECT_PATH + '/project_data/dev.tsv', sep=\"\\t\")\n",
        "    test_df = pd.read_csv(PROJECT_PATH + '/project_data/test.tsv', sep=\"\\t\")\n",
        "    \n",
        "    # shape of df, column names\n",
        "    logging.info('Train shape : ' + str(train_df.shape)) # 'text', 'label', 'category'\n",
        "    logging.info('Val shape: ' + str(val_df.shape))\n",
        "    logging.info('Test shape: ' + str(test_df.shape))\n",
        "    \n",
        "    logging.info('train_df.columns: ' + train_df.columns)\n",
        "    logging.info('val_df.columns: ' + val_df.columns)\n",
        "    logging.info('test_df.columns: ' + test_df.columns)\n",
        "\n",
        "    return train_df, val_df, test_df\n",
        "\n",
        "train_df, val_df, test_df = load_data()"
      ],
      "execution_count": 6,
      "outputs": [
        {
          "output_type": "stream",
          "text": [
            "2020-05-17 22:39:45 INFO     loading the dataset...\n",
            "2020-05-17 22:39:46 INFO     Train shape : (10592, 3)\n",
            "2020-05-17 22:39:46 INFO     Val shape: (1324, 3)\n",
            "2020-05-17 22:39:46 INFO     Test shape: (1324, 1)\n",
            "2020-05-17 22:39:46 INFO     NumExpr defaulting to 2 threads.\n",
            "2020-05-17 22:39:46 INFO     Index(['train_df.columns: text', 'train_df.columns: label',\n",
            "       'train_df.columns: category'],\n",
            "      dtype='object')\n",
            "2020-05-17 22:39:46 INFO     Index(['val_df.columns: text', 'val_df.columns: label',\n",
            "       'val_df.columns: category'],\n",
            "      dtype='object')\n",
            "2020-05-17 22:39:46 INFO     Index(['test_df.columns: text'], dtype='object')\n"
          ],
          "name": "stdout"
        }
      ]
    },
    {
      "cell_type": "code",
      "metadata": {
        "id": "MO55Z3UaXUsR",
        "colab_type": "code",
        "outputId": "95144316-9a67-4cf3-f7d2-bb9d10ca634b",
        "colab": {
          "base_uri": "https://localhost:8080/",
          "height": 204
        }
      },
      "source": [
        "train_df.head()"
      ],
      "execution_count": 7,
      "outputs": [
        {
          "output_type": "execute_result",
          "data": {
            "text/html": [
              "<div>\n",
              "<style scoped>\n",
              "    .dataframe tbody tr th:only-of-type {\n",
              "        vertical-align: middle;\n",
              "    }\n",
              "\n",
              "    .dataframe tbody tr th {\n",
              "        vertical-align: top;\n",
              "    }\n",
              "\n",
              "    .dataframe thead th {\n",
              "        text-align: right;\n",
              "    }\n",
              "</style>\n",
              "<table border=\"1\" class=\"dataframe\">\n",
              "  <thead>\n",
              "    <tr style=\"text-align: right;\">\n",
              "      <th></th>\n",
              "      <th>text</th>\n",
              "      <th>label</th>\n",
              "      <th>category</th>\n",
              "    </tr>\n",
              "  </thead>\n",
              "  <tbody>\n",
              "    <tr>\n",
              "      <th>0</th>\n",
              "      <td>@USER @USER You are an embarrassing citizen!!</td>\n",
              "      <td>OFF</td>\n",
              "      <td>TIN</td>\n",
              "    </tr>\n",
              "    <tr>\n",
              "      <th>1</th>\n",
              "      <td>@USER Seems hard to believe that you stood nex...</td>\n",
              "      <td>OFF</td>\n",
              "      <td>TIN</td>\n",
              "    </tr>\n",
              "    <tr>\n",
              "      <th>2</th>\n",
              "      <td>@USER @USER @USER Wow !!! no wonder the Libera...</td>\n",
              "      <td>OFF</td>\n",
              "      <td>TIN</td>\n",
              "    </tr>\n",
              "    <tr>\n",
              "      <th>3</th>\n",
              "      <td>@USER @USER And not all idiots grandstands lik...</td>\n",
              "      <td>OFF</td>\n",
              "      <td>TIN</td>\n",
              "    </tr>\n",
              "    <tr>\n",
              "      <th>4</th>\n",
              "      <td>@USER Bring on the hypocrite gungrabber. MAGA</td>\n",
              "      <td>OFF</td>\n",
              "      <td>TIN</td>\n",
              "    </tr>\n",
              "  </tbody>\n",
              "</table>\n",
              "</div>"
            ],
            "text/plain": [
              "                                                text label category\n",
              "0      @USER @USER You are an embarrassing citizen!!   OFF      TIN\n",
              "1  @USER Seems hard to believe that you stood nex...   OFF      TIN\n",
              "2  @USER @USER @USER Wow !!! no wonder the Libera...   OFF      TIN\n",
              "3  @USER @USER And not all idiots grandstands lik...   OFF      TIN\n",
              "4      @USER Bring on the hypocrite gungrabber. MAGA   OFF      TIN"
            ]
          },
          "metadata": {
            "tags": []
          },
          "execution_count": 7
        }
      ]
    },
    {
      "cell_type": "markdown",
      "metadata": {
        "id": "ApWoZxt1dc-a",
        "colab_type": "text"
      },
      "source": [
        "**Attributes in data:**\n",
        "\n",
        "\n",
        "***Trainning data:***  (10592, 3) \\\\\n",
        "\n",
        "* **text:** \\\\\n",
        "tweet content\n",
        "\n",
        "* **label:** \\\\\n",
        "1.   (NOT) Not Offensive - This post does not contain offense or profanity\n",
        "2.   (OFF) Offensive - This post contains offensive language or a targeted (veiled or direct) offense\n",
        "\n",
        "* **category:** (if label is 'OFF') \\\\\n",
        "1.   (TIN) Targeted Insult and Threats - A post containing an insult or threat to an individual, a group, or others\n",
        "2.   (UNT) Untargeted - A post containing non-targeted profanity and swearing.\n",
        "\n",
        "***Validation data:***  (1324, 3) \\\\\n",
        "\n",
        "***Testing data***:  'text' (1324, 1) \\\\\n",
        "* **text**"
      ]
    },
    {
      "cell_type": "markdown",
      "metadata": {
        "id": "oEJfFD-hkhu5",
        "colab_type": "text"
      },
      "source": [
        "## Data cleaning"
      ]
    },
    {
      "cell_type": "code",
      "metadata": {
        "id": "-g52M8qtkk36",
        "colab_type": "code",
        "colab": {}
      },
      "source": [
        "def data_cleaning(train_df, val_df, test_df):\n",
        "    # shuffle data\n",
        "    train_df = train_df.sample(frac=1, random_state=2020).reset_index(drop=True)\n",
        "    \n",
        "    # lo lowercae\n",
        "    train_df['text'] = train_df['text'].str.lower()\n",
        "    val_df['text'] = val_df['text'].str.lower()\n",
        "    test_df['text'] = test_df['text'].str.lower()\n",
        "\n",
        "    # delete \"noise words\"\n",
        "    noise = [\"url\",\"user\",\"@\",\"&amp;\",\"#\",\"-\",'.',\"!\",\"?\",\"rt\",\"dm\",\"retweet\",\"rt\",\"dm\"]\n",
        "    for WORD in noise:\n",
        "        train_df['text'] = train_df['text'].str.replace(WORD, '')\n",
        "        val_df['text'] = val_df['text'].str.replace(WORD, '')\n",
        "        test_df['text'] = test_df['text'].str.replace(WORD, '')\n",
        "\n",
        "    # change label to 0/a\n",
        "    train_df['label'] = train_df['label'].map({'OFF': 1, 'NOT': 0})\n",
        "    val_df['label'] = val_df['label'].map({'OFF': 1, 'NOT': 0})\n",
        "\n",
        "    # one-hot encoding of category\n",
        "    #train_df = pd.concat([train_df,pd.get_dummies(train_df['category'], prefix='category')],axis=1)\n",
        "    #train_df.drop(['category'],axis=1, inplace=True)\n",
        "    \n",
        "    #val_df = pd.concat([val_df,pd.get_dummies(val_df['category'], prefix='category')],axis=1)\n",
        "    #val_df.drop(['category'],axis=1, inplace=True)\n",
        "  \n",
        "    train_df['category'] = train_df['category'].map({'TIN': 1, 'UNT': 0},na_action='ignore')\n",
        "    val_df['category'] = val_df['category'].map({'TIN': 1, 'UNT': 0}, na_action='ignore')\n",
        "    return train_df, val_df, test_df\n",
        "\n",
        "train_df, val_df, test_df = data_cleaning(train_df, val_df, test_df)\n"
      ],
      "execution_count": 0,
      "outputs": []
    },
    {
      "cell_type": "code",
      "metadata": {
        "id": "S76YXn7RsPAu",
        "colab_type": "code",
        "colab": {}
      },
      "source": [
        "test"
      ],
      "execution_count": 0,
      "outputs": []
    },
    {
      "cell_type": "code",
      "metadata": {
        "id": "muL8B6aXSu3R",
        "colab_type": "code",
        "outputId": "39dea075-1db9-4b79-c7cd-783013d3d4c3",
        "colab": {
          "base_uri": "https://localhost:8080/",
          "height": 359
        }
      },
      "source": [
        "val_df.head(10)"
      ],
      "execution_count": 9,
      "outputs": [
        {
          "output_type": "execute_result",
          "data": {
            "text/html": [
              "<div>\n",
              "<style scoped>\n",
              "    .dataframe tbody tr th:only-of-type {\n",
              "        vertical-align: middle;\n",
              "    }\n",
              "\n",
              "    .dataframe tbody tr th {\n",
              "        vertical-align: top;\n",
              "    }\n",
              "\n",
              "    .dataframe thead th {\n",
              "        text-align: right;\n",
              "    }\n",
              "</style>\n",
              "<table border=\"1\" class=\"dataframe\">\n",
              "  <thead>\n",
              "    <tr style=\"text-align: right;\">\n",
              "      <th></th>\n",
              "      <th>text</th>\n",
              "      <th>label</th>\n",
              "      <th>category</th>\n",
              "    </tr>\n",
              "  </thead>\n",
              "  <tbody>\n",
              "    <tr>\n",
              "      <th>0</th>\n",
              "      <td>she should ask a few native americans what th...</td>\n",
              "      <td>1</td>\n",
              "      <td>0.0</td>\n",
              "    </tr>\n",
              "    <tr>\n",
              "      <th>1</th>\n",
              "      <td>go home you’re drunk  maga trump2020 👊🇺🇸👊</td>\n",
              "      <td>1</td>\n",
              "      <td>1.0</td>\n",
              "    </tr>\n",
              "    <tr>\n",
              "      <th>2</th>\n",
              "      <td>amazon is investigating chinese employees who ...</td>\n",
              "      <td>0</td>\n",
              "      <td>NaN</td>\n",
              "    </tr>\n",
              "    <tr>\n",
              "      <th>3</th>\n",
              "      <td>someone should'vetaken\" this piece of shit to...</td>\n",
              "      <td>1</td>\n",
              "      <td>0.0</td>\n",
              "    </tr>\n",
              "    <tr>\n",
              "      <th>4</th>\n",
              "      <td>obama wanted liberals  illegals to move into...</td>\n",
              "      <td>0</td>\n",
              "      <td>NaN</td>\n",
              "    </tr>\n",
              "    <tr>\n",
              "      <th>5</th>\n",
              "      <td>liberals are all kookoo</td>\n",
              "      <td>1</td>\n",
              "      <td>1.0</td>\n",
              "    </tr>\n",
              "    <tr>\n",
              "      <th>6</th>\n",
              "      <td>oh noes tough shit</td>\n",
              "      <td>1</td>\n",
              "      <td>0.0</td>\n",
              "    </tr>\n",
              "    <tr>\n",
              "      <th>7</th>\n",
              "      <td>was literally just talking about this lol all...</td>\n",
              "      <td>1</td>\n",
              "      <td>1.0</td>\n",
              "    </tr>\n",
              "    <tr>\n",
              "      <th>8</th>\n",
              "      <td>buy more icecream</td>\n",
              "      <td>0</td>\n",
              "      <td>NaN</td>\n",
              "    </tr>\n",
              "    <tr>\n",
              "      <th>9</th>\n",
              "      <td>canada doesn’t need another cuck we already h...</td>\n",
              "      <td>1</td>\n",
              "      <td>1.0</td>\n",
              "    </tr>\n",
              "  </tbody>\n",
              "</table>\n",
              "</div>"
            ],
            "text/plain": [
              "                                                text  label  category\n",
              "0   she should ask a few native americans what th...      1       0.0\n",
              "1         go home you’re drunk  maga trump2020 👊🇺🇸👊       1       1.0\n",
              "2  amazon is investigating chinese employees who ...      0       NaN\n",
              "3   someone should'vetaken\" this piece of shit to...      1       0.0\n",
              "4    obama wanted liberals  illegals to move into...      0       NaN\n",
              "5                           liberals are all kookoo       1       1.0\n",
              "6                                 oh noes tough shit      1       0.0\n",
              "7   was literally just talking about this lol all...      1       1.0\n",
              "8                                  buy more icecream      0       NaN\n",
              "9   canada doesn’t need another cuck we already h...      1       1.0"
            ]
          },
          "metadata": {
            "tags": []
          },
          "execution_count": 9
        }
      ]
    },
    {
      "cell_type": "code",
      "metadata": {
        "id": "47Gv6RyCnFA2",
        "colab_type": "code",
        "colab": {}
      },
      "source": [
        "train_df=train_df[train_df.label !=0]"
      ],
      "execution_count": 0,
      "outputs": []
    },
    {
      "cell_type": "code",
      "metadata": {
        "id": "ixMQAEB_nFPp",
        "colab_type": "code",
        "outputId": "0d23a29a-4028-4c70-82f6-f028e50d627a",
        "colab": {
          "base_uri": "https://localhost:8080/",
          "height": 359
        }
      },
      "source": [
        "train_df.head(10)"
      ],
      "execution_count": 11,
      "outputs": [
        {
          "output_type": "execute_result",
          "data": {
            "text/html": [
              "<div>\n",
              "<style scoped>\n",
              "    .dataframe tbody tr th:only-of-type {\n",
              "        vertical-align: middle;\n",
              "    }\n",
              "\n",
              "    .dataframe tbody tr th {\n",
              "        vertical-align: top;\n",
              "    }\n",
              "\n",
              "    .dataframe thead th {\n",
              "        text-align: right;\n",
              "    }\n",
              "</style>\n",
              "<table border=\"1\" class=\"dataframe\">\n",
              "  <thead>\n",
              "    <tr style=\"text-align: right;\">\n",
              "      <th></th>\n",
              "      <th>text</th>\n",
              "      <th>label</th>\n",
              "      <th>category</th>\n",
              "    </tr>\n",
              "  </thead>\n",
              "  <tbody>\n",
              "    <tr>\n",
              "      <th>0</th>\n",
              "      <td>didn't this trashy thing sleep her way to the...</td>\n",
              "      <td>1</td>\n",
              "      <td>1.0</td>\n",
              "    </tr>\n",
              "    <tr>\n",
              "      <th>1</th>\n",
              "      <td>gfy the nfl should get no protection from th...</td>\n",
              "      <td>1</td>\n",
              "      <td>1.0</td>\n",
              "    </tr>\n",
              "    <tr>\n",
              "      <th>10</th>\n",
              "      <td>👀 sitting here thinking he has a killer porn ...</td>\n",
              "      <td>1</td>\n",
              "      <td>0.0</td>\n",
              "    </tr>\n",
              "    <tr>\n",
              "      <th>13</th>\n",
              "      <td>all trump's and pense 2020 merch is being made...</td>\n",
              "      <td>1</td>\n",
              "      <td>1.0</td>\n",
              "    </tr>\n",
              "    <tr>\n",
              "      <th>16</th>\n",
              "      <td>gun control now enough is enough</td>\n",
              "      <td>1</td>\n",
              "      <td>0.0</td>\n",
              "    </tr>\n",
              "    <tr>\n",
              "      <th>17</th>\n",
              "      <td>you're full of s*** it's the liberals paid by...</td>\n",
              "      <td>1</td>\n",
              "      <td>1.0</td>\n",
              "    </tr>\n",
              "    <tr>\n",
              "      <th>20</th>\n",
              "      <td>liberals are addicted to fake news  chris is ...</td>\n",
              "      <td>1</td>\n",
              "      <td>1.0</td>\n",
              "    </tr>\n",
              "    <tr>\n",
              "      <th>23</th>\n",
              "      <td>any texan that would grant automatic citizens...</td>\n",
              "      <td>1</td>\n",
              "      <td>1.0</td>\n",
              "    </tr>\n",
              "    <tr>\n",
              "      <th>24</th>\n",
              "      <td>yeah he’s very immature  can dish out critic...</td>\n",
              "      <td>1</td>\n",
              "      <td>1.0</td>\n",
              "    </tr>\n",
              "    <tr>\n",
              "      <th>26</th>\n",
              "      <td>yoo our dogs should totally fuck</td>\n",
              "      <td>1</td>\n",
              "      <td>1.0</td>\n",
              "    </tr>\n",
              "  </tbody>\n",
              "</table>\n",
              "</div>"
            ],
            "text/plain": [
              "                                                 text  label  category\n",
              "0    didn't this trashy thing sleep her way to the...      1       1.0\n",
              "1     gfy the nfl should get no protection from th...      1       1.0\n",
              "10   👀 sitting here thinking he has a killer porn ...      1       0.0\n",
              "13  all trump's and pense 2020 merch is being made...      1       1.0\n",
              "16                   gun control now enough is enough      1       0.0\n",
              "17   you're full of s*** it's the liberals paid by...      1       1.0\n",
              "20   liberals are addicted to fake news  chris is ...      1       1.0\n",
              "23   any texan that would grant automatic citizens...      1       1.0\n",
              "24    yeah he’s very immature  can dish out critic...      1       1.0\n",
              "26                   yoo our dogs should totally fuck      1       1.0"
            ]
          },
          "metadata": {
            "tags": []
          },
          "execution_count": 11
        }
      ]
    },
    {
      "cell_type": "code",
      "metadata": {
        "id": "f1MwKwmAoRIF",
        "colab_type": "code",
        "colab": {}
      },
      "source": [
        "val_df=val_df[val_df.label !=0]\n"
      ],
      "execution_count": 0,
      "outputs": []
    },
    {
      "cell_type": "code",
      "metadata": {
        "id": "JxFJ4WnLo9YK",
        "colab_type": "code",
        "outputId": "6256fb1f-7d5b-40dc-cdba-c8f0851fc84f",
        "colab": {
          "base_uri": "https://localhost:8080/",
          "height": 359
        }
      },
      "source": [
        "val_df.head(10)"
      ],
      "execution_count": 13,
      "outputs": [
        {
          "output_type": "execute_result",
          "data": {
            "text/html": [
              "<div>\n",
              "<style scoped>\n",
              "    .dataframe tbody tr th:only-of-type {\n",
              "        vertical-align: middle;\n",
              "    }\n",
              "\n",
              "    .dataframe tbody tr th {\n",
              "        vertical-align: top;\n",
              "    }\n",
              "\n",
              "    .dataframe thead th {\n",
              "        text-align: right;\n",
              "    }\n",
              "</style>\n",
              "<table border=\"1\" class=\"dataframe\">\n",
              "  <thead>\n",
              "    <tr style=\"text-align: right;\">\n",
              "      <th></th>\n",
              "      <th>text</th>\n",
              "      <th>label</th>\n",
              "      <th>category</th>\n",
              "    </tr>\n",
              "  </thead>\n",
              "  <tbody>\n",
              "    <tr>\n",
              "      <th>0</th>\n",
              "      <td>she should ask a few native americans what th...</td>\n",
              "      <td>1</td>\n",
              "      <td>0.0</td>\n",
              "    </tr>\n",
              "    <tr>\n",
              "      <th>1</th>\n",
              "      <td>go home you’re drunk  maga trump2020 👊🇺🇸👊</td>\n",
              "      <td>1</td>\n",
              "      <td>1.0</td>\n",
              "    </tr>\n",
              "    <tr>\n",
              "      <th>3</th>\n",
              "      <td>someone should'vetaken\" this piece of shit to...</td>\n",
              "      <td>1</td>\n",
              "      <td>0.0</td>\n",
              "    </tr>\n",
              "    <tr>\n",
              "      <th>5</th>\n",
              "      <td>liberals are all kookoo</td>\n",
              "      <td>1</td>\n",
              "      <td>1.0</td>\n",
              "    </tr>\n",
              "    <tr>\n",
              "      <th>6</th>\n",
              "      <td>oh noes tough shit</td>\n",
              "      <td>1</td>\n",
              "      <td>0.0</td>\n",
              "    </tr>\n",
              "    <tr>\n",
              "      <th>7</th>\n",
              "      <td>was literally just talking about this lol all...</td>\n",
              "      <td>1</td>\n",
              "      <td>1.0</td>\n",
              "    </tr>\n",
              "    <tr>\n",
              "      <th>9</th>\n",
              "      <td>canada doesn’t need another cuck we already h...</td>\n",
              "      <td>1</td>\n",
              "      <td>1.0</td>\n",
              "    </tr>\n",
              "    <tr>\n",
              "      <th>12</th>\n",
              "      <td>you are a lying corrupt traitor nobody wants ...</td>\n",
              "      <td>1</td>\n",
              "      <td>1.0</td>\n",
              "    </tr>\n",
              "    <tr>\n",
              "      <th>19</th>\n",
              "      <td>gun control that is all these kids are aski...</td>\n",
              "      <td>1</td>\n",
              "      <td>1.0</td>\n",
              "    </tr>\n",
              "    <tr>\n",
              "      <th>20</th>\n",
              "      <td>lol   throwing the bullshit flag on such n...</td>\n",
              "      <td>1</td>\n",
              "      <td>1.0</td>\n",
              "    </tr>\n",
              "  </tbody>\n",
              "</table>\n",
              "</div>"
            ],
            "text/plain": [
              "                                                 text  label  category\n",
              "0    she should ask a few native americans what th...      1       0.0\n",
              "1          go home you’re drunk  maga trump2020 👊🇺🇸👊       1       1.0\n",
              "3    someone should'vetaken\" this piece of shit to...      1       0.0\n",
              "5                            liberals are all kookoo       1       1.0\n",
              "6                                  oh noes tough shit      1       0.0\n",
              "7    was literally just talking about this lol all...      1       1.0\n",
              "9    canada doesn’t need another cuck we already h...      1       1.0\n",
              "12   you are a lying corrupt traitor nobody wants ...      1       1.0\n",
              "19     gun control that is all these kids are aski...      1       1.0\n",
              "20      lol   throwing the bullshit flag on such n...      1       1.0"
            ]
          },
          "metadata": {
            "tags": []
          },
          "execution_count": 13
        }
      ]
    },
    {
      "cell_type": "code",
      "metadata": {
        "id": "Y2_xSflLI7kG",
        "colab_type": "code",
        "outputId": "af4b6c73-6ed8-4ebe-9b0b-4d596e8090ac",
        "colab": {
          "base_uri": "https://localhost:8080/",
          "height": 204
        }
      },
      "source": [
        "test_df.head()"
      ],
      "execution_count": 14,
      "outputs": [
        {
          "output_type": "execute_result",
          "data": {
            "text/html": [
              "<div>\n",
              "<style scoped>\n",
              "    .dataframe tbody tr th:only-of-type {\n",
              "        vertical-align: middle;\n",
              "    }\n",
              "\n",
              "    .dataframe tbody tr th {\n",
              "        vertical-align: top;\n",
              "    }\n",
              "\n",
              "    .dataframe thead th {\n",
              "        text-align: right;\n",
              "    }\n",
              "</style>\n",
              "<table border=\"1\" class=\"dataframe\">\n",
              "  <thead>\n",
              "    <tr style=\"text-align: right;\">\n",
              "      <th></th>\n",
              "      <th>text</th>\n",
              "    </tr>\n",
              "  </thead>\n",
              "  <tbody>\n",
              "    <tr>\n",
              "      <th>0</th>\n",
              "      <td>liberals got to crap all over everything</td>\n",
              "    </tr>\n",
              "    <tr>\n",
              "      <th>1</th>\n",
              "      <td>...</td>\n",
              "    </tr>\n",
              "    <tr>\n",
              "      <th>2</th>\n",
              "      <td>the liberals same old playbook it is so o...</td>\n",
              "    </tr>\n",
              "    <tr>\n",
              "      <th>3</th>\n",
              "      <td>all you do is lie all congress does us lie  maga</td>\n",
              "    </tr>\n",
              "    <tr>\n",
              "      <th>4</th>\n",
              "      <td>never nigga 💀💀</td>\n",
              "    </tr>\n",
              "  </tbody>\n",
              "</table>\n",
              "</div>"
            ],
            "text/plain": [
              "                                                text\n",
              "0           liberals got to crap all over everything\n",
              "1                                                ...\n",
              "2       the liberals same old playbook it is so o...\n",
              "3   all you do is lie all congress does us lie  maga\n",
              "4                                     never nigga 💀💀"
            ]
          },
          "metadata": {
            "tags": []
          },
          "execution_count": 14
        }
      ]
    },
    {
      "cell_type": "markdown",
      "metadata": {
        "id": "VwBBjRW0-Ubf",
        "colab_type": "text"
      },
      "source": [
        "Check the content of abusive text"
      ]
    },
    {
      "cell_type": "code",
      "metadata": {
        "id": "Q6em0dtx8D3I",
        "colab_type": "code",
        "outputId": "1950ebb2-67ae-4eec-dbc8-8399ae85c191",
        "colab": {
          "base_uri": "https://localhost:8080/",
          "height": 173
        }
      },
      "source": [
        "abusive_df = train_df.loc[train_df['label'] == 1]\n",
        "# pd.set_option('display.max_rows', None)\n",
        "# pd.set_option('display.width', None)\n",
        "pd.set_option('display.max_colwidth', -1)\n",
        "abusive_df['text'].head(5)"
      ],
      "execution_count": 15,
      "outputs": [
        {
          "output_type": "stream",
          "text": [
            "/usr/local/lib/python3.6/dist-packages/ipykernel_launcher.py:4: FutureWarning: Passing a negative integer is deprecated in version 1.0 and will not be supported in future version. Instead, use None to not limit the column width.\n",
            "  after removing the cwd from sys.path.\n"
          ],
          "name": "stderr"
        },
        {
          "output_type": "execute_result",
          "data": {
            "text/plain": [
              "0      didn't this trashy thing sleep her way to the top with married men                                                                 \n",
              "1       gfy the nfl should get no protection from the policeand no suppo from our militarythe league will slowly die on this road of shame\n",
              "10     👀 sitting here thinking he has a killer porn stache                                                                                \n",
              "13    all trump's and pense 2020 merch is being made is china and not the usa    maga    votethemout2018  trumpsarmy                      \n",
              "16     gun control now enough is enough                                                                                                   \n",
              "Name: text, dtype: object"
            ]
          },
          "metadata": {
            "tags": []
          },
          "execution_count": 15
        }
      ]
    },
    {
      "cell_type": "markdown",
      "metadata": {
        "id": "Plq9OgoGtqb8",
        "colab_type": "text"
      },
      "source": [
        "## Data distribution and visualization "
      ]
    },
    {
      "cell_type": "code",
      "metadata": {
        "id": "rKV_v3kvlmg7",
        "colab_type": "code",
        "outputId": "6d903bd4-efa6-46c9-9c30-aca10e3b64cb",
        "colab": {
          "base_uri": "https://localhost:8080/",
          "height": 979
        }
      },
      "source": [
        "# count how many letters in a sentence\n",
        "def label_distribution(train_df):\n",
        "    #  length of text\n",
        "    count = train_df['text'].str.split().apply(len).value_counts()\n",
        "    count.sort_index(inplace=True)\n",
        "    count.index = count.index.astype(str) + ' words:'\n",
        "    # logging.info(count[0:5])\n",
        "    # logging.info(count[-5:])\n",
        "    plt.plot(range(len(count)), count, color='blue')\n",
        "    plt.title(\"Text length\")\n",
        "    plt.show()\n",
        "    # label distribution\n",
        "    logging.info('number of label = 1 : ' + str((train_df['label'] != 0).sum()))\n",
        "    logging.info('number of category_TIN = 1: ' + str((train_df['category_TIN'] != 0).sum()))\n",
        "    logging.info('number of category_UNT = 1: ' + str((train_df['category_UNT'] != 0).sum()))\n",
        "\n",
        "    # plot histogram\n",
        "    train_df['label'].plot.hist(bins=2, title='label distribution')\n",
        "    plt.show()\n",
        "\n",
        "label_distribution(train_df)\n"
      ],
      "execution_count": 19,
      "outputs": [
        {
          "output_type": "display_data",
          "data": {
            "image/png": "[encoded data removed]",
            "text/plain": [
              "<Figure size 432x288 with 1 Axes>"
            ]
          },
          "metadata": {
            "tags": [],
            "needs_background": "light"
          }
        },
        {
          "output_type": "stream",
          "text": [
            "2020-05-17 22:43:08 INFO     number of label = 1 : 3520\n"
          ],
          "name": "stdout"
        },
        {
          "output_type": "error",
          "ename": "KeyError",
          "evalue": "ignored",
          "traceback": [
            "\u001b[0;31m---------------------------------------------------------------------------\u001b[0m",
            "\u001b[0;31mKeyError\u001b[0m                                  Traceback (most recent call last)",
            "\u001b[0;32m/usr/local/lib/python3.6/dist-packages/pandas/core/indexes/base.py\u001b[0m in \u001b[0;36mget_loc\u001b[0;34m(self, key, method, tolerance)\u001b[0m\n\u001b[1;32m   2645\u001b[0m             \u001b[0;32mtry\u001b[0m\u001b[0;34m:\u001b[0m\u001b[0;34m\u001b[0m\u001b[0;34m\u001b[0m\u001b[0m\n\u001b[0;32m-> 2646\u001b[0;31m                 \u001b[0;32mreturn\u001b[0m \u001b[0mself\u001b[0m\u001b[0;34m.\u001b[0m\u001b[0m_engine\u001b[0m\u001b[0;34m.\u001b[0m\u001b[0mget_loc\u001b[0m\u001b[0;34m(\u001b[0m\u001b[0mkey\u001b[0m\u001b[0;34m)\u001b[0m\u001b[0;34m\u001b[0m\u001b[0;34m\u001b[0m\u001b[0m\n\u001b[0m\u001b[1;32m   2647\u001b[0m             \u001b[0;32mexcept\u001b[0m \u001b[0mKeyError\u001b[0m\u001b[0;34m:\u001b[0m\u001b[0;34m\u001b[0m\u001b[0;34m\u001b[0m\u001b[0m\n",
            "\u001b[0;32mpandas/_libs/index.pyx\u001b[0m in \u001b[0;36mpandas._libs.index.IndexEngine.get_loc\u001b[0;34m()\u001b[0m\n",
            "\u001b[0;32mpandas/_libs/index.pyx\u001b[0m in \u001b[0;36mpandas._libs.index.IndexEngine.get_loc\u001b[0;34m()\u001b[0m\n",
            "\u001b[0;32mpandas/_libs/hashtable_class_helper.pxi\u001b[0m in \u001b[0;36mpandas._libs.hashtable.PyObjectHashTable.get_item\u001b[0;34m()\u001b[0m\n",
            "\u001b[0;32mpandas/_libs/hashtable_class_helper.pxi\u001b[0m in \u001b[0;36mpandas._libs.hashtable.PyObjectHashTable.get_item\u001b[0;34m()\u001b[0m\n",
            "\u001b[0;31mKeyError\u001b[0m: 'category_TIN'",
            "\nDuring handling of the above exception, another exception occurred:\n",
            "\u001b[0;31mKeyError\u001b[0m                                  Traceback (most recent call last)",
            "\u001b[0;32m<ipython-input-19-f3921ecf2778>\u001b[0m in \u001b[0;36m<module>\u001b[0;34m()\u001b[0m\n\u001b[1;32m     19\u001b[0m     \u001b[0mplt\u001b[0m\u001b[0;34m.\u001b[0m\u001b[0mshow\u001b[0m\u001b[0;34m(\u001b[0m\u001b[0;34m)\u001b[0m\u001b[0;34m\u001b[0m\u001b[0;34m\u001b[0m\u001b[0m\n\u001b[1;32m     20\u001b[0m \u001b[0;34m\u001b[0m\u001b[0m\n\u001b[0;32m---> 21\u001b[0;31m \u001b[0mlabel_distribution\u001b[0m\u001b[0;34m(\u001b[0m\u001b[0mtrain_df\u001b[0m\u001b[0;34m)\u001b[0m\u001b[0;34m\u001b[0m\u001b[0;34m\u001b[0m\u001b[0m\n\u001b[0m",
            "\u001b[0;32m<ipython-input-19-f3921ecf2778>\u001b[0m in \u001b[0;36mlabel_distribution\u001b[0;34m(train_df)\u001b[0m\n\u001b[1;32m     12\u001b[0m     \u001b[0;31m# label distribution\u001b[0m\u001b[0;34m\u001b[0m\u001b[0;34m\u001b[0m\u001b[0;34m\u001b[0m\u001b[0m\n\u001b[1;32m     13\u001b[0m     \u001b[0mlogging\u001b[0m\u001b[0;34m.\u001b[0m\u001b[0minfo\u001b[0m\u001b[0;34m(\u001b[0m\u001b[0;34m'number of label = 1 : '\u001b[0m \u001b[0;34m+\u001b[0m \u001b[0mstr\u001b[0m\u001b[0;34m(\u001b[0m\u001b[0;34m(\u001b[0m\u001b[0mtrain_df\u001b[0m\u001b[0;34m[\u001b[0m\u001b[0;34m'label'\u001b[0m\u001b[0;34m]\u001b[0m \u001b[0;34m!=\u001b[0m \u001b[0;36m0\u001b[0m\u001b[0;34m)\u001b[0m\u001b[0;34m.\u001b[0m\u001b[0msum\u001b[0m\u001b[0;34m(\u001b[0m\u001b[0;34m)\u001b[0m\u001b[0;34m)\u001b[0m\u001b[0;34m)\u001b[0m\u001b[0;34m\u001b[0m\u001b[0;34m\u001b[0m\u001b[0m\n\u001b[0;32m---> 14\u001b[0;31m     \u001b[0mlogging\u001b[0m\u001b[0;34m.\u001b[0m\u001b[0minfo\u001b[0m\u001b[0;34m(\u001b[0m\u001b[0;34m'number of category_TIN = 1: '\u001b[0m \u001b[0;34m+\u001b[0m \u001b[0mstr\u001b[0m\u001b[0;34m(\u001b[0m\u001b[0;34m(\u001b[0m\u001b[0mtrain_df\u001b[0m\u001b[0;34m[\u001b[0m\u001b[0;34m'category_TIN'\u001b[0m\u001b[0;34m]\u001b[0m \u001b[0;34m!=\u001b[0m \u001b[0;36m0\u001b[0m\u001b[0;34m)\u001b[0m\u001b[0;34m.\u001b[0m\u001b[0msum\u001b[0m\u001b[0;34m(\u001b[0m\u001b[0;34m)\u001b[0m\u001b[0;34m)\u001b[0m\u001b[0;34m)\u001b[0m\u001b[0;34m\u001b[0m\u001b[0;34m\u001b[0m\u001b[0m\n\u001b[0m\u001b[1;32m     15\u001b[0m     \u001b[0mlogging\u001b[0m\u001b[0;34m.\u001b[0m\u001b[0minfo\u001b[0m\u001b[0;34m(\u001b[0m\u001b[0;34m'number of category_UNT = 1: '\u001b[0m \u001b[0;34m+\u001b[0m \u001b[0mstr\u001b[0m\u001b[0;34m(\u001b[0m\u001b[0;34m(\u001b[0m\u001b[0mtrain_df\u001b[0m\u001b[0;34m[\u001b[0m\u001b[0;34m'category_UNT'\u001b[0m\u001b[0;34m]\u001b[0m \u001b[0;34m!=\u001b[0m \u001b[0;36m0\u001b[0m\u001b[0;34m)\u001b[0m\u001b[0;34m.\u001b[0m\u001b[0msum\u001b[0m\u001b[0;34m(\u001b[0m\u001b[0;34m)\u001b[0m\u001b[0;34m)\u001b[0m\u001b[0;34m)\u001b[0m\u001b[0;34m\u001b[0m\u001b[0;34m\u001b[0m\u001b[0m\n\u001b[1;32m     16\u001b[0m \u001b[0;34m\u001b[0m\u001b[0m\n",
            "\u001b[0;32m/usr/local/lib/python3.6/dist-packages/pandas/core/frame.py\u001b[0m in \u001b[0;36m__getitem__\u001b[0;34m(self, key)\u001b[0m\n\u001b[1;32m   2798\u001b[0m             \u001b[0;32mif\u001b[0m \u001b[0mself\u001b[0m\u001b[0;34m.\u001b[0m\u001b[0mcolumns\u001b[0m\u001b[0;34m.\u001b[0m\u001b[0mnlevels\u001b[0m \u001b[0;34m>\u001b[0m \u001b[0;36m1\u001b[0m\u001b[0;34m:\u001b[0m\u001b[0;34m\u001b[0m\u001b[0;34m\u001b[0m\u001b[0m\n\u001b[1;32m   2799\u001b[0m                 \u001b[0;32mreturn\u001b[0m \u001b[0mself\u001b[0m\u001b[0;34m.\u001b[0m\u001b[0m_getitem_multilevel\u001b[0m\u001b[0;34m(\u001b[0m\u001b[0mkey\u001b[0m\u001b[0;34m)\u001b[0m\u001b[0;34m\u001b[0m\u001b[0;34m\u001b[0m\u001b[0m\n\u001b[0;32m-> 2800\u001b[0;31m             \u001b[0mindexer\u001b[0m \u001b[0;34m=\u001b[0m \u001b[0mself\u001b[0m\u001b[0;34m.\u001b[0m\u001b[0mcolumns\u001b[0m\u001b[0;34m.\u001b[0m\u001b[0mget_loc\u001b[0m\u001b[0;34m(\u001b[0m\u001b[0mkey\u001b[0m\u001b[0;34m)\u001b[0m\u001b[0;34m\u001b[0m\u001b[0;34m\u001b[0m\u001b[0m\n\u001b[0m\u001b[1;32m   2801\u001b[0m             \u001b[0;32mif\u001b[0m \u001b[0mis_integer\u001b[0m\u001b[0;34m(\u001b[0m\u001b[0mindexer\u001b[0m\u001b[0;34m)\u001b[0m\u001b[0;34m:\u001b[0m\u001b[0;34m\u001b[0m\u001b[0;34m\u001b[0m\u001b[0m\n\u001b[1;32m   2802\u001b[0m                 \u001b[0mindexer\u001b[0m \u001b[0;34m=\u001b[0m \u001b[0;34m[\u001b[0m\u001b[0mindexer\u001b[0m\u001b[0;34m]\u001b[0m\u001b[0;34m\u001b[0m\u001b[0;34m\u001b[0m\u001b[0m\n",
            "\u001b[0;32m/usr/local/lib/python3.6/dist-packages/pandas/core/indexes/base.py\u001b[0m in \u001b[0;36mget_loc\u001b[0;34m(self, key, method, tolerance)\u001b[0m\n\u001b[1;32m   2646\u001b[0m                 \u001b[0;32mreturn\u001b[0m \u001b[0mself\u001b[0m\u001b[0;34m.\u001b[0m\u001b[0m_engine\u001b[0m\u001b[0;34m.\u001b[0m\u001b[0mget_loc\u001b[0m\u001b[0;34m(\u001b[0m\u001b[0mkey\u001b[0m\u001b[0;34m)\u001b[0m\u001b[0;34m\u001b[0m\u001b[0;34m\u001b[0m\u001b[0m\n\u001b[1;32m   2647\u001b[0m             \u001b[0;32mexcept\u001b[0m \u001b[0mKeyError\u001b[0m\u001b[0;34m:\u001b[0m\u001b[0;34m\u001b[0m\u001b[0;34m\u001b[0m\u001b[0m\n\u001b[0;32m-> 2648\u001b[0;31m                 \u001b[0;32mreturn\u001b[0m \u001b[0mself\u001b[0m\u001b[0;34m.\u001b[0m\u001b[0m_engine\u001b[0m\u001b[0;34m.\u001b[0m\u001b[0mget_loc\u001b[0m\u001b[0;34m(\u001b[0m\u001b[0mself\u001b[0m\u001b[0;34m.\u001b[0m\u001b[0m_maybe_cast_indexer\u001b[0m\u001b[0;34m(\u001b[0m\u001b[0mkey\u001b[0m\u001b[0;34m)\u001b[0m\u001b[0;34m)\u001b[0m\u001b[0;34m\u001b[0m\u001b[0;34m\u001b[0m\u001b[0m\n\u001b[0m\u001b[1;32m   2649\u001b[0m         \u001b[0mindexer\u001b[0m \u001b[0;34m=\u001b[0m \u001b[0mself\u001b[0m\u001b[0;34m.\u001b[0m\u001b[0mget_indexer\u001b[0m\u001b[0;34m(\u001b[0m\u001b[0;34m[\u001b[0m\u001b[0mkey\u001b[0m\u001b[0;34m]\u001b[0m\u001b[0;34m,\u001b[0m \u001b[0mmethod\u001b[0m\u001b[0;34m=\u001b[0m\u001b[0mmethod\u001b[0m\u001b[0;34m,\u001b[0m \u001b[0mtolerance\u001b[0m\u001b[0;34m=\u001b[0m\u001b[0mtolerance\u001b[0m\u001b[0;34m)\u001b[0m\u001b[0;34m\u001b[0m\u001b[0;34m\u001b[0m\u001b[0m\n\u001b[1;32m   2650\u001b[0m         \u001b[0;32mif\u001b[0m \u001b[0mindexer\u001b[0m\u001b[0;34m.\u001b[0m\u001b[0mndim\u001b[0m \u001b[0;34m>\u001b[0m \u001b[0;36m1\u001b[0m \u001b[0;32mor\u001b[0m \u001b[0mindexer\u001b[0m\u001b[0;34m.\u001b[0m\u001b[0msize\u001b[0m \u001b[0;34m>\u001b[0m \u001b[0;36m1\u001b[0m\u001b[0;34m:\u001b[0m\u001b[0;34m\u001b[0m\u001b[0;34m\u001b[0m\u001b[0m\n",
            "\u001b[0;32mpandas/_libs/index.pyx\u001b[0m in \u001b[0;36mpandas._libs.index.IndexEngine.get_loc\u001b[0;34m()\u001b[0m\n",
            "\u001b[0;32mpandas/_libs/index.pyx\u001b[0m in \u001b[0;36mpandas._libs.index.IndexEngine.get_loc\u001b[0;34m()\u001b[0m\n",
            "\u001b[0;32mpandas/_libs/hashtable_class_helper.pxi\u001b[0m in \u001b[0;36mpandas._libs.hashtable.PyObjectHashTable.get_item\u001b[0;34m()\u001b[0m\n",
            "\u001b[0;32mpandas/_libs/hashtable_class_helper.pxi\u001b[0m in \u001b[0;36mpandas._libs.hashtable.PyObjectHashTable.get_item\u001b[0;34m()\u001b[0m\n",
            "\u001b[0;31mKeyError\u001b[0m: 'category_TIN'"
          ]
        }
      ]
    },
    {
      "cell_type": "markdown",
      "metadata": {
        "id": "7kCi_RoLE8wP",
        "colab_type": "text"
      },
      "source": [
        "# Split data to X and y"
      ]
    },
    {
      "cell_type": "markdown",
      "metadata": {
        "id": "K8D_XrHPEaIV",
        "colab_type": "text"
      },
      "source": [
        "Split data to X and y"
      ]
    },
    {
      "cell_type": "code",
      "metadata": {
        "id": "vHcgmnATZA6k",
        "colab_type": "code",
        "outputId": "a84f7c83-20fc-48f3-a670-ff2db499bca5",
        "colab": {
          "base_uri": "https://localhost:8080/",
          "height": 51
        }
      },
      "source": [
        "def split_train_val(train_df, val_df, test_df):\n",
        "    logging.info('splitting X and y ...')\n",
        "    train_X = train_df[\"text\"].fillna(\"_na_\").values\n",
        "    val_X = val_df[\"text\"].fillna(\"_na_\").values\n",
        "    test_X = test_df[\"text\"].fillna(\"_na_\").values\n",
        "\n",
        "    train_y = train_df['category'].values\n",
        "    val_y = val_df['category'].values\n",
        "\n",
        "    logging.info('finished splitting X and y')\n",
        "    return train_X, val_X, test_X, train_y, val_y\n",
        "\n",
        "train_X, val_X, test_X, train_y, val_y = split_train_val(train_df, val_df, test_df)"
      ],
      "execution_count": 16,
      "outputs": [
        {
          "output_type": "stream",
          "text": [
            "2020-05-17 22:40:43 INFO     splitting X and y ...\n",
            "2020-05-17 22:40:43 INFO     finished splitting X and y\n"
          ],
          "name": "stdout"
        }
      ]
    },
    {
      "cell_type": "code",
      "metadata": {
        "id": "rdk4s-pCZA6o",
        "colab_type": "code",
        "outputId": "03b3eab7-8819-4e27-9747-8cc88160689d",
        "colab": {
          "base_uri": "https://localhost:8080/",
          "height": 51
        }
      },
      "source": [
        "print(train_X.shape, train_y.shape)\n",
        "print(val_X.shape, val_y.shape)"
      ],
      "execution_count": 17,
      "outputs": [
        {
          "output_type": "stream",
          "text": [
            "(3520,) (3520,)\n",
            "(440,) (440,)\n"
          ],
          "name": "stdout"
        }
      ]
    },
    {
      "cell_type": "markdown",
      "metadata": {
        "id": "feMxvs73D-gx",
        "colab_type": "text"
      },
      "source": [
        "Tokenize and padding each sentence, split datafram to attributes and labels"
      ]
    },
    {
      "cell_type": "code",
      "metadata": {
        "id": "tNGTN3kVZA6m",
        "colab_type": "code",
        "outputId": "887b4dde-078f-44bc-ca32-70dc5a131213",
        "colab": {
          "base_uri": "https://localhost:8080/",
          "height": 68
        }
      },
      "source": [
        "# each word embedding to 300 dimension\n",
        "embed_size = 300\n",
        "# count of vocabulary words\n",
        "max_features = 50000\n",
        "# length of each sentences\n",
        "max_len = 70\n",
        "\n",
        "def token_sentence(train_X, val_X, test_X ):\n",
        "    logging.info('tokenizing sentence...')\n",
        "    tokenizer = Tokenizer(num_words=max_features)\n",
        "    tokenizer.fit_on_texts(list(train_X))\n",
        "    train_X = tokenizer.texts_to_sequences(train_X)\n",
        "    val_X = tokenizer.texts_to_sequences(val_X)\n",
        "    test_X = tokenizer.texts_to_sequences(test_X)\n",
        "\n",
        "    logging.info('padding sentence...')\n",
        "    train_X = pad_sequences(train_X, maxlen=max_len)\n",
        "    val_X = pad_sequences(val_X, maxlen=max_len)\n",
        "    test_X = pad_sequences(test_X, maxlen=max_len)\n",
        "\n",
        "    logging.info('all finished...')\n",
        "    return train_X, val_X, test_X, tokenizer\n",
        "\n",
        "train_X, val_X, test_X, tokenizer = token_sentence(train_X, val_X, test_X)\n"
      ],
      "execution_count": 18,
      "outputs": [
        {
          "output_type": "stream",
          "text": [
            "2020-05-17 22:40:48 INFO     tokenizing sentence...\n",
            "2020-05-17 22:40:49 INFO     padding sentence...\n",
            "2020-05-17 22:40:49 INFO     all finished...\n"
          ],
          "name": "stdout"
        }
      ]
    },
    {
      "cell_type": "code",
      "metadata": {
        "id": "NBUErOp_QEK9",
        "colab_type": "code",
        "outputId": "f4ded0bc-b8a1-4c03-be23-a9648e6dd283",
        "colab": {
          "base_uri": "https://localhost:8080/",
          "height": 34
        }
      },
      "source": [
        "train_X.shape"
      ],
      "execution_count": 20,
      "outputs": [
        {
          "output_type": "execute_result",
          "data": {
            "text/plain": [
              "(3520, 70)"
            ]
          },
          "metadata": {
            "tags": []
          },
          "execution_count": 20
        }
      ]
    },
    {
      "cell_type": "markdown",
      "metadata": {
        "id": "AenyxjOSMCDL",
        "colab_type": "text"
      },
      "source": [
        "# Train model"
      ]
    },
    {
      "cell_type": "markdown",
      "metadata": {
        "id": "QL2IvlW8qLJQ",
        "colab_type": "text"
      },
      "source": [
        "## Model1: base line"
      ]
    },
    {
      "cell_type": "code",
      "metadata": {
        "id": "0-uZ5egkQd58",
        "colab_type": "code",
        "colab": {}
      },
      "source": [
        "from sklearn import tree\n",
        "from sklearn.linear_model import LogisticRegression\n",
        "from sklearn.naive_bayes import GaussianNB\n",
        "\n",
        "from sklearn.metrics import accuracy_score, f1_score\n",
        "from sklearn.metrics import precision_score\n",
        "from sklearn.metrics import recall_score\n",
        "from sklearn.metrics import confusion_matrix\n",
        "\n",
        "# precision is the ratio tp / (tp + fp)\n",
        "# recall is the ratio tp / (tp + fn)\n",
        "# F1 = 2 * (precision * recall) / (precision + recall)"
      ],
      "execution_count": 0,
      "outputs": []
    },
    {
      "cell_type": "markdown",
      "metadata": {
        "id": "pYDgYFtKqO40",
        "colab_type": "text"
      },
      "source": [
        "### Decision tree"
      ]
    },
    {
      "cell_type": "code",
      "metadata": {
        "id": "odb9nd5WQST8",
        "colab_type": "code",
        "colab": {}
      },
      "source": [
        "def dt_model(train_X, train_y, val_X, cal_y):\n",
        "    dt_clf = tree.DecisionTreeClassifier()\n",
        "    dt_clf = dt_clf.fit(train_X, train_y)\n",
        "    pred_val_y = dt_clf.predict(val_X).reshape(-1,1)\n",
        "    \n",
        "    tn, fp, fn, tp = confusion_matrix(pred_val_y, val_y).ravel()\n",
        "    print('tn', tn, 'fp', fp, 'fn', fn, 'tp', tp)\n",
        "\n",
        "    dt_acc = accuracy_score(pred_val_y, val_y)\n",
        "    dt_precision = precision_score(pred_val_y, val_y)\n",
        "    dt_recall = recall_score(pred_val_y, val_y)\n",
        "    dt_f1_score = f1_score(pred_val_y, val_y)\n",
        "    return dt_acc, dt_precision, dt_recall, dt_f1_score "
      ],
      "execution_count": 0,
      "outputs": []
    },
    {
      "cell_type": "code",
      "metadata": {
        "id": "6NbcgKG1RcQL",
        "colab_type": "code",
        "outputId": "1696972b-c445-411d-f42b-005993fd47df",
        "colab": {
          "base_uri": "https://localhost:8080/",
          "height": 71
        }
      },
      "source": [
        "dt_acc, dt_precision, dt_recall, dt_f1_score= dt_model(train_X, train_y, val_X, val_y)\n",
        "print('dt_acc: ', dt_acc, 'dt_precision: ', dt_precision, 'dt_recall: ',dt_recall,', dt_f1_score: ',  dt_f1_score)"
      ],
      "execution_count": 23,
      "outputs": [
        {
          "output_type": "stream",
          "text": [
            "tn 8 fp 55 fn 36 tp 341\n",
            "dt_acc:  0.7931818181818182 dt_precision:  0.8611111111111112 dt_recall:  0.9045092838196287 , dt_f1_score:  0.8822768434670117\n"
          ],
          "name": "stdout"
        }
      ]
    },
    {
      "cell_type": "markdown",
      "metadata": {
        "id": "63QJAP9RqSle",
        "colab_type": "text"
      },
      "source": [
        "### LogisticRegression"
      ]
    },
    {
      "cell_type": "code",
      "metadata": {
        "id": "J-FpKqDpWoiD",
        "colab_type": "code",
        "colab": {}
      },
      "source": [
        "def lr_model(train_X, train_y, val_X, cal_y):\n",
        "    lr_clf = LogisticRegression(random_state=0, max_iter=10000).fit(train_X, train_y)\n",
        "    pred_val_y = lr_clf.predict(val_X).reshape(-1,1)\n",
        "\n",
        "    tn, fp, fn, tp = confusion_matrix(pred_val_y, val_y).ravel()\n",
        "    print('tn', tn, 'fp', fp, 'fn', fn, 'tp', tp)\n",
        "\n",
        "    lr_acc = accuracy_score(pred_val_y, val_y)\n",
        "    lr_precision = precision_score(pred_val_y, val_y)\n",
        "    lr_recall = recall_score(pred_val_y, val_y)\n",
        "    lr_f1_score = f1_score(pred_val_y, val_y)\n",
        "    return lr_acc, lr_precision, lr_recall, lr_f1_score"
      ],
      "execution_count": 0,
      "outputs": []
    },
    {
      "cell_type": "code",
      "metadata": {
        "id": "W8B44OR0W_vF",
        "colab_type": "code",
        "outputId": "e8e4f85c-f12b-4a31-9a21-9fc85c092a3d",
        "colab": {
          "base_uri": "https://localhost:8080/",
          "height": 68
        }
      },
      "source": [
        "lr_acc, lr_precision, lr_recall, lr_f1_score = lr_model(train_X, train_y, val_X, val_y)\n",
        "print('lr_precision', lr_precision, 'lr_recall', lr_recall)\n",
        "print('lr_acc: ', lr_acc, ', lr_f1_score: ',  lr_f1_score)"
      ],
      "execution_count": 25,
      "outputs": [
        {
          "output_type": "stream",
          "text": [
            "tn 0 fp 0 fn 44 tp 396\n",
            "lr_precision 1.0 lr_recall 0.9\n",
            "lr_acc:  0.9 , lr_f1_score:  0.9473684210526316\n"
          ],
          "name": "stdout"
        }
      ]
    },
    {
      "cell_type": "markdown",
      "metadata": {
        "id": "_i7BpltoqZza",
        "colab_type": "text"
      },
      "source": [
        "### GaussianNB"
      ]
    },
    {
      "cell_type": "code",
      "metadata": {
        "id": "_RDWko-oXO9N",
        "colab_type": "code",
        "colab": {}
      },
      "source": [
        "def gNB_model(train_X, train_y, val_X, cal_y):\n",
        "    gNB_clf = GaussianNB()\n",
        "    gNB_clf = gNB_clf.fit(train_X, train_y)\n",
        "    pred_val_y = gNB_clf.predict(val_X).reshape(-1,1)\n",
        "\n",
        "    tn, fp, fn, tp = confusion_matrix(pred_val_y, val_y).ravel()\n",
        "    print('tn', tn, 'fp', fp, 'fn', fn, 'tp', tp)\n",
        "\n",
        "    gNB_acc = accuracy_score(pred_val_y, val_y)\n",
        "    gNB_precision = precision_score(pred_val_y, val_y)\n",
        "    gNB_recall = recall_score(pred_val_y, val_y)\n",
        "    gNB_f1_score = f1_score(pred_val_y, val_y)\n",
        "    return gNB_acc, gNB_precision, gNB_recall, gNB_f1_score"
      ],
      "execution_count": 0,
      "outputs": []
    },
    {
      "cell_type": "code",
      "metadata": {
        "id": "heu4JLHgX164",
        "colab_type": "code",
        "outputId": "70269184-14e3-44d2-ffe7-4d7cbf8e677a",
        "colab": {
          "base_uri": "https://localhost:8080/",
          "height": 71
        }
      },
      "source": [
        "gNB_acc, gNB_precision, gNB_recall, gNB_f1_score = gNB_model(train_X, train_y, val_X, val_y)\n",
        "print('gNB_acc: ', gNB_acc, 'gNB_precision: ', gNB_precision, 'gNB_recall:', gNB_recall, 'gNB_f1_score: ',  gNB_f1_score)"
      ],
      "execution_count": 27,
      "outputs": [
        {
          "output_type": "stream",
          "text": [
            "tn 42 fp 374 fn 2 tp 22\n",
            "gNB_acc:  0.14545454545454545 gNB_precision:  0.05555555555555555 gNB_recall: 0.9166666666666666 gNB_f1_score:  0.10476190476190475\n"
          ],
          "name": "stdout"
        }
      ]
    },
    {
      "cell_type": "markdown",
      "metadata": {
        "id": "REnqEUw_kKI8",
        "colab_type": "text"
      },
      "source": [
        "## Model2 : LSTM + Without Pretrained Embeddings:"
      ]
    },
    {
      "cell_type": "code",
      "metadata": {
        "id": "G9wKqZveyapX",
        "colab_type": "code",
        "outputId": "0f12c2c0-9782-4f83-96c3-0a05b5f54e55",
        "colab": {
          "base_uri": "https://localhost:8080/",
          "height": 323
        }
      },
      "source": [
        "import tensorflow as tf\n",
        "from tensorflow.keras import layers\n",
        "\n",
        "model = tf.keras.Sequential()\n",
        "\n",
        "# Add an Embedding layer expecting input vocab of size 50000, and\n",
        "# output embedding dimension of size 300.\n",
        "model.add(layers.Embedding(input_dim=50000, output_dim=300))\n",
        "\n",
        "# Add a LSTM layer with 128 internal units.\n",
        "model.add(layers.LSTM(128))\n",
        "model.add(layers.Dense(10,activation=\"relu\"))\n",
        "model.add(layers.Dropout(0.2))\n",
        "model.add(layers.Dense(1, activation=\"sigmoid\"))\n",
        "\n",
        "model.summary()"
      ],
      "execution_count": 28,
      "outputs": [
        {
          "output_type": "stream",
          "text": [
            "Model: \"sequential\"\n",
            "_________________________________________________________________\n",
            "Layer (type)                 Output Shape              Param #   \n",
            "=================================================================\n",
            "embedding (Embedding)        (None, None, 300)         15000000  \n",
            "_________________________________________________________________\n",
            "lstm (LSTM)                  (None, 128)               219648    \n",
            "_________________________________________________________________\n",
            "dense (Dense)                (None, 10)                1290      \n",
            "_________________________________________________________________\n",
            "dropout (Dropout)            (None, 10)                0         \n",
            "_________________________________________________________________\n",
            "dense_1 (Dense)              (None, 1)                 11        \n",
            "=================================================================\n",
            "Total params: 15,220,949\n",
            "Trainable params: 15,220,949\n",
            "Non-trainable params: 0\n",
            "_________________________________________________________________\n"
          ],
          "name": "stdout"
        }
      ]
    },
    {
      "cell_type": "code",
      "metadata": {
        "id": "71VTQNZjzgn9",
        "colab_type": "code",
        "outputId": "0aea9f56-4a17-43bb-d2c9-d9269fb16644",
        "colab": {
          "base_uri": "https://localhost:8080/",
          "height": 207
        }
      },
      "source": [
        "model.compile(loss='binary_crossentropy', optimizer='adam', metrics=['accuracy'])\n",
        "\n",
        "from tensorflow.keras.callbacks import EarlyStopping\n",
        "callbacks = EarlyStopping(monitor='val_loss', min_delta=0, patience = 2)\n",
        "history = model.fit(train_X, \n",
        "                    train_y, \n",
        "                    batch_size=512, \n",
        "                    epochs=14, \n",
        "                    validation_data=(val_X, val_y),\n",
        "                    callbacks=callbacks\n",
        "                    )"
      ],
      "execution_count": 29,
      "outputs": [
        {
          "output_type": "stream",
          "text": [
            "Epoch 1/14\n",
            "7/7 [==============================] - 8s 1s/step - loss: 0.6093 - accuracy: 0.8420 - val_loss: 0.3434 - val_accuracy: 0.9000\n",
            "Epoch 2/14\n",
            "7/7 [==============================] - 7s 1s/step - loss: 0.4219 - accuracy: 0.8776 - val_loss: 0.3618 - val_accuracy: 0.9000\n",
            "Epoch 3/14\n",
            "7/7 [==============================] - 7s 1s/step - loss: 0.3691 - accuracy: 0.8776 - val_loss: 0.3212 - val_accuracy: 0.9000\n",
            "Epoch 4/14\n",
            "7/7 [==============================] - 7s 1s/step - loss: 0.3496 - accuracy: 0.8776 - val_loss: 0.3271 - val_accuracy: 0.9000\n",
            "Epoch 5/14\n",
            "7/7 [==============================] - 7s 1s/step - loss: 0.3094 - accuracy: 0.8832 - val_loss: 0.3405 - val_accuracy: 0.8886\n"
          ],
          "name": "stdout"
        }
      ]
    },
    {
      "cell_type": "code",
      "metadata": {
        "id": "MiaEcGWWZA6v",
        "colab_type": "code",
        "colab": {
          "base_uri": "https://localhost:8080/",
          "height": 573
        },
        "outputId": "c52bcd26-191e-422e-f8d1-7acd3b10b036"
      },
      "source": [
        "# plot history\n",
        "# Plot training & validation accuracy values\n",
        "import matplotlib.pyplot as plt \n",
        "plt.plot(history.history['accuracy'])\n",
        "plt.plot(history.history['val_accuracy'])\n",
        "plt.title('Model accuracy')\n",
        "plt.ylabel('Accuracy')\n",
        "plt.xlabel('Epoch')\n",
        "plt.legend(['Train', 'Val'], loc='upper left')\n",
        "plt.show()\n",
        "\n",
        "# Plot training & validation loss values\n",
        "plt.plot(history.history['loss'])\n",
        "plt.plot(history.history['val_loss'])\n",
        "plt.title('Model loss')\n",
        "plt.ylabel('Loss')\n",
        "plt.xlabel('Epoch')\n",
        "plt.legend(['Train', 'Val'], loc='upper left')\n",
        "plt.show()"
      ],
      "execution_count": 30,
      "outputs": [
        {
          "output_type": "display_data",
          "data": {
            "image/png": "[encoded data removed]",
            "text/plain": [
              "<Figure size 432x288 with 1 Axes>"
            ]
          },
          "metadata": {
            "tags": [],
            "needs_background": "light"
          }
        },
        {
          "output_type": "display_data",
          "data": {
            "image/png": "[encoded data removed]",
            "text/plain": [
              "<Figure size 432x288 with 1 Axes>"
            ]
          },
          "metadata": {
            "tags": [],
            "needs_background": "light"
          }
        }
      ]
    },
    {
      "cell_type": "code",
      "metadata": {
        "id": "FntfkhFlRKfQ",
        "colab_type": "code",
        "outputId": "b0ddd9f1-bee4-48be-a117-607228c3d12f",
        "colab": {
          "base_uri": "https://localhost:8080/",
          "height": 1000
        }
      },
      "source": [
        "pred_noemb_val_y = model.predict([val_X], batch_size=1024, verbose=1)\n",
        "print(pred_noemb_val_y)"
      ],
      "execution_count": 31,
      "outputs": [
        {
          "output_type": "stream",
          "text": [
            "1/1 [==============================] - 0s 1ms/step\n",
            "[[0.9269377 ]\n",
            " [0.852852  ]\n",
            " [0.7878902 ]\n",
            " [0.74867177]\n",
            " [0.4579693 ]\n",
            " [0.9315051 ]\n",
            " [0.93214333]\n",
            " [0.94586194]\n",
            " [0.9136207 ]\n",
            " [0.88287073]\n",
            " [0.94120854]\n",
            " [0.9067286 ]\n",
            " [0.9124993 ]\n",
            " [0.94204915]\n",
            " [0.9509032 ]\n",
            " [0.8921709 ]\n",
            " [0.9087783 ]\n",
            " [0.95447993]\n",
            " [0.5038633 ]\n",
            " [0.9164127 ]\n",
            " [0.85762197]\n",
            " [0.94317365]\n",
            " [0.7829425 ]\n",
            " [0.9318727 ]\n",
            " [0.93075943]\n",
            " [0.83577734]\n",
            " [0.9522119 ]\n",
            " [0.7871301 ]\n",
            " [0.8894116 ]\n",
            " [0.9231559 ]\n",
            " [0.9174527 ]\n",
            " [0.842345  ]\n",
            " [0.47247857]\n",
            " [0.81388295]\n",
            " [0.89813274]\n",
            " [0.92347383]\n",
            " [0.8922976 ]\n",
            " [0.8281511 ]\n",
            " [0.6170418 ]\n",
            " [0.86695623]\n",
            " [0.95059645]\n",
            " [0.8907852 ]\n",
            " [0.704494  ]\n",
            " [0.9534503 ]\n",
            " [0.9450898 ]\n",
            " [0.9461509 ]\n",
            " [0.9126951 ]\n",
            " [0.9555905 ]\n",
            " [0.67172647]\n",
            " [0.8774157 ]\n",
            " [0.73192906]\n",
            " [0.90507126]\n",
            " [0.82247764]\n",
            " [0.94821525]\n",
            " [0.66768116]\n",
            " [0.8769998 ]\n",
            " [0.9522122 ]\n",
            " [0.9153606 ]\n",
            " [0.9589045 ]\n",
            " [0.8086945 ]\n",
            " [0.9147512 ]\n",
            " [0.672223  ]\n",
            " [0.87670374]\n",
            " [0.46032158]\n",
            " [0.94582295]\n",
            " [0.9522064 ]\n",
            " [0.87965727]\n",
            " [0.8722334 ]\n",
            " [0.8284298 ]\n",
            " [0.8868231 ]\n",
            " [0.86785793]\n",
            " [0.8943293 ]\n",
            " [0.9493472 ]\n",
            " [0.9571867 ]\n",
            " [0.9000505 ]\n",
            " [0.8852826 ]\n",
            " [0.66951734]\n",
            " [0.93120474]\n",
            " [0.7274252 ]\n",
            " [0.8411896 ]\n",
            " [0.9387812 ]\n",
            " [0.9512799 ]\n",
            " [0.9463211 ]\n",
            " [0.9266131 ]\n",
            " [0.9217759 ]\n",
            " [0.7023549 ]\n",
            " [0.515416  ]\n",
            " [0.837842  ]\n",
            " [0.8679947 ]\n",
            " [0.88385165]\n",
            " [0.94527686]\n",
            " [0.9199846 ]\n",
            " [0.9188645 ]\n",
            " [0.903653  ]\n",
            " [0.6459808 ]\n",
            " [0.88615096]\n",
            " [0.580064  ]\n",
            " [0.93996584]\n",
            " [0.9416578 ]\n",
            " [0.871212  ]\n",
            " [0.94458634]\n",
            " [0.94298506]\n",
            " [0.93927515]\n",
            " [0.83954954]\n",
            " [0.87950456]\n",
            " [0.9493414 ]\n",
            " [0.94799864]\n",
            " [0.930741  ]\n",
            " [0.8693886 ]\n",
            " [0.9498445 ]\n",
            " [0.79869354]\n",
            " [0.70932573]\n",
            " [0.9436889 ]\n",
            " [0.66738135]\n",
            " [0.9230506 ]\n",
            " [0.92141783]\n",
            " [0.9375342 ]\n",
            " [0.57307744]\n",
            " [0.9202709 ]\n",
            " [0.930173  ]\n",
            " [0.92943573]\n",
            " [0.7561842 ]\n",
            " [0.9159185 ]\n",
            " [0.9234117 ]\n",
            " [0.45690146]\n",
            " [0.92274356]\n",
            " [0.95837367]\n",
            " [0.93026805]\n",
            " [0.88379896]\n",
            " [0.8829138 ]\n",
            " [0.9554771 ]\n",
            " [0.8394313 ]\n",
            " [0.9497894 ]\n",
            " [0.9529366 ]\n",
            " [0.9491528 ]\n",
            " [0.93920267]\n",
            " [0.8863133 ]\n",
            " [0.9214946 ]\n",
            " [0.9222676 ]\n",
            " [0.9216057 ]\n",
            " [0.8940692 ]\n",
            " [0.7311374 ]\n",
            " [0.8241945 ]\n",
            " [0.8718585 ]\n",
            " [0.595164  ]\n",
            " [0.73737323]\n",
            " [0.92496115]\n",
            " [0.93206275]\n",
            " [0.9435643 ]\n",
            " [0.92411816]\n",
            " [0.92365843]\n",
            " [0.9038366 ]\n",
            " [0.9237816 ]\n",
            " [0.9370414 ]\n",
            " [0.7320429 ]\n",
            " [0.9227021 ]\n",
            " [0.85367835]\n",
            " [0.44782093]\n",
            " [0.73837084]\n",
            " [0.49784464]\n",
            " [0.944775  ]\n",
            " [0.94228494]\n",
            " [0.7772218 ]\n",
            " [0.94997036]\n",
            " [0.91595566]\n",
            " [0.8623178 ]\n",
            " [0.94333553]\n",
            " [0.92257524]\n",
            " [0.8384913 ]\n",
            " [0.8749307 ]\n",
            " [0.8419341 ]\n",
            " [0.94204634]\n",
            " [0.8728649 ]\n",
            " [0.88225055]\n",
            " [0.9121681 ]\n",
            " [0.93687886]\n",
            " [0.71904576]\n",
            " [0.93087643]\n",
            " [0.8907138 ]\n",
            " [0.9398668 ]\n",
            " [0.9021101 ]\n",
            " [0.6418704 ]\n",
            " [0.8812715 ]\n",
            " [0.8254982 ]\n",
            " [0.88974535]\n",
            " [0.9116985 ]\n",
            " [0.9588654 ]\n",
            " [0.96130097]\n",
            " [0.9602703 ]\n",
            " [0.90456843]\n",
            " [0.72020537]\n",
            " [0.9208498 ]\n",
            " [0.94493145]\n",
            " [0.9514337 ]\n",
            " [0.80374825]\n",
            " [0.738775  ]\n",
            " [0.9127645 ]\n",
            " [0.9539433 ]\n",
            " [0.946674  ]\n",
            " [0.9442312 ]\n",
            " [0.8000519 ]\n",
            " [0.92218983]\n",
            " [0.934226  ]\n",
            " [0.9548156 ]\n",
            " [0.9445363 ]\n",
            " [0.8801197 ]\n",
            " [0.92638874]\n",
            " [0.8839854 ]\n",
            " [0.82453763]\n",
            " [0.9643335 ]\n",
            " [0.8280549 ]\n",
            " [0.85939455]\n",
            " [0.95807123]\n",
            " [0.9264821 ]\n",
            " [0.515416  ]\n",
            " [0.8852451 ]\n",
            " [0.938046  ]\n",
            " [0.94040394]\n",
            " [0.90791816]\n",
            " [0.95213187]\n",
            " [0.9554759 ]\n",
            " [0.94683266]\n",
            " [0.8305845 ]\n",
            " [0.9345208 ]\n",
            " [0.77180934]\n",
            " [0.9055965 ]\n",
            " [0.8433712 ]\n",
            " [0.9258061 ]\n",
            " [0.8433597 ]\n",
            " [0.78524965]\n",
            " [0.9510888 ]\n",
            " [0.90776837]\n",
            " [0.74146914]\n",
            " [0.5038633 ]\n",
            " [0.8761068 ]\n",
            " [0.95098567]\n",
            " [0.91911685]\n",
            " [0.8741827 ]\n",
            " [0.7123196 ]\n",
            " [0.78684604]\n",
            " [0.9447486 ]\n",
            " [0.9140034 ]\n",
            " [0.964906  ]\n",
            " [0.49432445]\n",
            " [0.8410524 ]\n",
            " [0.9257742 ]\n",
            " [0.9481087 ]\n",
            " [0.9316807 ]\n",
            " [0.9504392 ]\n",
            " [0.9059521 ]\n",
            " [0.93745506]\n",
            " [0.89189947]\n",
            " [0.9391526 ]\n",
            " [0.9290538 ]\n",
            " [0.9419453 ]\n",
            " [0.88712186]\n",
            " [0.9330648 ]\n",
            " [0.9204762 ]\n",
            " [0.70998037]\n",
            " [0.95562065]\n",
            " [0.92653924]\n",
            " [0.77383554]\n",
            " [0.92452097]\n",
            " [0.7983341 ]\n",
            " [0.9315108 ]\n",
            " [0.82950795]\n",
            " [0.94374466]\n",
            " [0.8750601 ]\n",
            " [0.94417775]\n",
            " [0.96088856]\n",
            " [0.90721285]\n",
            " [0.86461705]\n",
            " [0.8800161 ]\n",
            " [0.8860831 ]\n",
            " [0.67476594]\n",
            " [0.96497494]\n",
            " [0.90405864]\n",
            " [0.95669913]\n",
            " [0.8226288 ]\n",
            " [0.88740146]\n",
            " [0.9150075 ]\n",
            " [0.9387282 ]\n",
            " [0.931558  ]\n",
            " [0.9227426 ]\n",
            " [0.92183423]\n",
            " [0.949828  ]\n",
            " [0.93692696]\n",
            " [0.8758833 ]\n",
            " [0.9077035 ]\n",
            " [0.9333688 ]\n",
            " [0.8694503 ]\n",
            " [0.9527382 ]\n",
            " [0.92985487]\n",
            " [0.9424453 ]\n",
            " [0.91854477]\n",
            " [0.93330896]\n",
            " [0.9518751 ]\n",
            " [0.9141946 ]\n",
            " [0.9502274 ]\n",
            " [0.92905444]\n",
            " [0.46137345]\n",
            " [0.7804204 ]\n",
            " [0.92332035]\n",
            " [0.85795295]\n",
            " [0.8092798 ]\n",
            " [0.455461  ]\n",
            " [0.90218955]\n",
            " [0.91225976]\n",
            " [0.85163546]\n",
            " [0.92007697]\n",
            " [0.87925136]\n",
            " [0.9523697 ]\n",
            " [0.945162  ]\n",
            " [0.9317514 ]\n",
            " [0.9601161 ]\n",
            " [0.93790644]\n",
            " [0.9440417 ]\n",
            " [0.8579651 ]\n",
            " [0.87206614]\n",
            " [0.63133395]\n",
            " [0.8760605 ]\n",
            " [0.92515963]\n",
            " [0.8822703 ]\n",
            " [0.92555714]\n",
            " [0.94505733]\n",
            " [0.9478473 ]\n",
            " [0.9261185 ]\n",
            " [0.90117306]\n",
            " [0.9359822 ]\n",
            " [0.9067067 ]\n",
            " [0.91757345]\n",
            " [0.7341418 ]\n",
            " [0.71197164]\n",
            " [0.9183184 ]\n",
            " [0.9205501 ]\n",
            " [0.9180949 ]\n",
            " [0.9365164 ]\n",
            " [0.8795645 ]\n",
            " [0.9094242 ]\n",
            " [0.8998795 ]\n",
            " [0.46532318]\n",
            " [0.922909  ]\n",
            " [0.96626276]\n",
            " [0.93935704]\n",
            " [0.9019254 ]\n",
            " [0.73833764]\n",
            " [0.8945279 ]\n",
            " [0.9205777 ]\n",
            " [0.866488  ]\n",
            " [0.94626355]\n",
            " [0.9344315 ]\n",
            " [0.8599591 ]\n",
            " [0.8135041 ]\n",
            " [0.9302446 ]\n",
            " [0.846542  ]\n",
            " [0.7214695 ]\n",
            " [0.93244064]\n",
            " [0.9350159 ]\n",
            " [0.94277173]\n",
            " [0.82349664]\n",
            " [0.9194923 ]\n",
            " [0.96623445]\n",
            " [0.9353267 ]\n",
            " [0.8922126 ]\n",
            " [0.93900234]\n",
            " [0.9196032 ]\n",
            " [0.9266366 ]\n",
            " [0.8473866 ]\n",
            " [0.8036175 ]\n",
            " [0.8400285 ]\n",
            " [0.9350828 ]\n",
            " [0.6258134 ]\n",
            " [0.9159114 ]\n",
            " [0.9270372 ]\n",
            " [0.92986894]\n",
            " [0.917119  ]\n",
            " [0.9102161 ]\n",
            " [0.8835021 ]\n",
            " [0.6617073 ]\n",
            " [0.8255464 ]\n",
            " [0.9425507 ]\n",
            " [0.4839908 ]\n",
            " [0.8684733 ]\n",
            " [0.95957255]\n",
            " [0.93823594]\n",
            " [0.9344199 ]\n",
            " [0.64476836]\n",
            " [0.8810508 ]\n",
            " [0.84969115]\n",
            " [0.93056965]\n",
            " [0.92854863]\n",
            " [0.94290996]\n",
            " [0.9283565 ]\n",
            " [0.9178745 ]\n",
            " [0.9187722 ]\n",
            " [0.82075816]\n",
            " [0.90511215]\n",
            " [0.78316206]\n",
            " [0.9438095 ]\n",
            " [0.9084947 ]\n",
            " [0.93680716]\n",
            " [0.90746856]\n",
            " [0.9042627 ]\n",
            " [0.89414835]\n",
            " [0.94977427]\n",
            " [0.77458864]\n",
            " [0.9447173 ]\n",
            " [0.92449045]\n",
            " [0.92131895]\n",
            " [0.8816675 ]\n",
            " [0.8906071 ]\n",
            " [0.9099214 ]\n",
            " [0.8442662 ]\n",
            " [0.71124136]\n",
            " [0.83305657]\n",
            " [0.9410683 ]\n",
            " [0.94801813]\n",
            " [0.92996895]\n",
            " [0.9575393 ]\n",
            " [0.94050646]\n",
            " [0.9452162 ]\n",
            " [0.91997826]\n",
            " [0.92604136]\n",
            " [0.86109847]\n",
            " [0.8277149 ]\n",
            " [0.9354476 ]\n",
            " [0.9227625 ]\n",
            " [0.9472766 ]\n",
            " [0.8995098 ]\n",
            " [0.9177323 ]\n",
            " [0.94691885]\n",
            " [0.8834398 ]\n",
            " [0.7944478 ]\n",
            " [0.9443517 ]\n",
            " [0.90950537]\n",
            " [0.9597111 ]\n",
            " [0.9186737 ]\n",
            " [0.9293557 ]\n",
            " [0.93492377]\n",
            " [0.8624487 ]]\n"
          ],
          "name": "stdout"
        }
      ]
    },
    {
      "cell_type": "code",
      "metadata": {
        "id": "gGPsgb7IQDsg",
        "colab_type": "code",
        "outputId": "4c0a927d-4c02-40d7-fbc5-1942fabec325",
        "colab": {
          "base_uri": "https://localhost:8080/",
          "height": 71
        }
      },
      "source": [
        "# validation the model(confusion matrix)\n",
        "def rnn_confusion_matrix(pred_noemb_val_y, val_y):\n",
        "    pred_val_y = pred_noemb_val_y > 0.5\n",
        "    tn, fp, fn, tp = confusion_matrix(pred_val_y, val_y).ravel()\n",
        "    print('tn', tn, 'fp', fp, 'fn', fn, 'tp', tp)\n",
        "\n",
        "    lstm_acc = accuracy_score(pred_val_y, val_y)\n",
        "    lstm_precision = precision_score(pred_val_y, val_y)\n",
        "    lstm_recall = recall_score(pred_val_y, val_y)\n",
        "    lstm_f1_score = f1_score(pred_val_y, val_y)\n",
        "    return lstm_acc, lstm_precision, lstm_recall, lstm_f1_score\n",
        "\n",
        "lstm_acc, lstm_precision, lstm_recall, lstm_f1_score = rnn_confusion_matrix(pred_noemb_val_y, val_y)\n",
        "print('lstm_acc: ',lstm_acc, ', lstm_precision: ', lstm_precision, ', lstm_recall: ', lstm_recall, ', lstm_f1_score', lstm_f1_score)"
      ],
      "execution_count": 32,
      "outputs": [
        {
          "output_type": "stream",
          "text": [
            "tn 3 fp 8 fn 41 tp 388\n",
            "lstm_acc:  0.8886363636363637 , lstm_precision:  0.9797979797979798 , lstm_recall:  0.9044289044289044 , lstm_f1_score 0.9406060606060607\n"
          ],
          "name": "stdout"
        }
      ]
    },
    {
      "cell_type": "code",
      "metadata": {
        "_uuid": "47b63dca0247a08a808db7ae6eea33065c554948",
        "id": "M4y418b5ZA6x",
        "colab_type": "code",
        "colab": {}
      },
      "source": [
        "# validation the model(f1-score)\n",
        "\n",
        "threshes=[]\n",
        "f1_scores=[]\n",
        "accuracy_scores=[]\n",
        "for thresh in np.arange(0.1, 0.801, 0.01):\n",
        "    thresh = np.round(thresh, 2)\n",
        "    threshes.append(thresh)\n",
        "    # logging.info(\"F1 score at threshold {0} is {1}\".format(thresh, metrics.f1_score(val_y, (pred_noemb_val_y>thresh).astype(int))))\n",
        "    f1_scores.append(metrics.f1_score(val_y, (pred_noemb_val_y>thresh).astype(int)))\n",
        "    # logging.info(\"Accuracy at threshold {0} is {1}\".format(thresh, metrics.accuracy_score(val_y, (pred_noemb_val_y>thresh).astype(int))))\n",
        "    accuracy_scores.append(metrics.accuracy_score(val_y, (pred_noemb_val_y>thresh).astype(int)))\n"
      ],
      "execution_count": 0,
      "outputs": []
    },
    {
      "cell_type": "code",
      "metadata": {
        "id": "aC0KxHrGnewO",
        "colab_type": "code",
        "outputId": "e27e93b9-5e48-43de-8c4d-2f72193028b3",
        "colab": {
          "base_uri": "https://localhost:8080/",
          "height": 295
        }
      },
      "source": [
        "# plot two measures\n",
        "plt.plot(threshes, f1_scores, color='blue', label='f1')\n",
        "plt.plot(threshes, accuracy_scores, color='green', label='acc')\n",
        "plt.title('Threhold vs f1 scores/acc')\n",
        "plt.ylabel('f1_scores/acc')\n",
        "plt.xlabel('threshold')\n",
        "plt.legend()\n",
        "plt.show()"
      ],
      "execution_count": 35,
      "outputs": [
        {
          "output_type": "display_data",
          "data": {
            "image/png": "[encoded data removed]",
            "text/plain": [
              "<Figure size 432x288 with 1 Axes>"
            ]
          },
          "metadata": {
            "tags": [],
            "needs_background": "light"
          }
        }
      ]
    },
    {
      "cell_type": "markdown",
      "metadata": {
        "id": "hJSYLb3ykxyT",
        "colab_type": "text"
      },
      "source": [
        "## Model3: LSTM + Pretrained embeddings\n",
        "\n",
        "Embeddings:\n",
        "glove.840B.300d - https://nlp.stanford.edu/projects/glove/\n",
        "paragram_300_sl999 - https://cogcomp.org/page/resource_view/106\n",
        "\n",
        "It will take several minutes to load this 5G file. Be patient.. \n",
        "\n",
        "\n",
        "\n"
      ]
    },
    {
      "cell_type": "code",
      "metadata": {
        "id": "VS3iwFGqwHvT",
        "colab_type": "code",
        "outputId": "802056d8-fa53-4c03-9edd-b43d506cf69b",
        "colab": {
          "base_uri": "https://localhost:8080/",
          "height": 51
        }
      },
      "source": [
        "import io\n",
        "embeddings_index = {}\n",
        "logging.info(\"Loading Glove Model\")\n",
        "with io.open(PROJECT_PATH +'/glove.840B.300d.txt', encoding='utf8') as f:\n",
        "    for line in f:\n",
        "        values = line.split()\n",
        "        word = ''.join(values[:-300])\n",
        "        coefs = np.asarray(values[-300:], dtype='float32')\n",
        "        embeddings_index[word] = coefs\n",
        "logging.info(\"Loading Glove Model Done\")"
      ],
      "execution_count": 36,
      "outputs": [
        {
          "output_type": "stream",
          "text": [
            "2020-05-17 22:50:37 INFO     Loading Glove Model\n",
            "2020-05-17 22:54:17 INFO     Loading Glove Model Done\n"
          ],
          "name": "stdout"
        }
      ]
    },
    {
      "cell_type": "code",
      "metadata": {
        "id": "_7fswnbHDI2S",
        "colab_type": "code",
        "outputId": "6139f96c-2a05-467a-d765-4e3d6782b8ab",
        "colab": {
          "base_uri": "https://localhost:8080/",
          "height": 88
        }
      },
      "source": [
        "all_embs = np.stack(embeddings_index.values())\n",
        "emb_mean,emb_std = all_embs.mean(), all_embs.std()\n",
        "embed_size = all_embs.shape[1]\n",
        "\n",
        "print(all_embs.shape, emb_mean, emb_std, embed_size )"
      ],
      "execution_count": 37,
      "outputs": [
        {
          "output_type": "stream",
          "text": [
            "/usr/local/lib/python3.6/dist-packages/IPython/core/interactiveshell.py:2822: FutureWarning: arrays to stack must be passed as a \"sequence\" type such as list or tuple. Support for non-sequence iterables such as generators is deprecated as of NumPy 1.16 and will raise an error in the future.\n",
            "  if self.run_code(code, result):\n"
          ],
          "name": "stderr"
        },
        {
          "output_type": "stream",
          "text": [
            "(2195893, 300) -0.005839112 0.48782477 300\n"
          ],
          "name": "stdout"
        }
      ]
    },
    {
      "cell_type": "code",
      "metadata": {
        "id": "uOx2DkzgDS-m",
        "colab_type": "code",
        "outputId": "e3e201b2-8d40-40f8-ad08-ca300e6f6a35",
        "colab": {
          "base_uri": "https://localhost:8080/",
          "height": 34
        }
      },
      "source": [
        "word_index = tokenizer.word_index\n",
        "len(word_index)"
      ],
      "execution_count": 38,
      "outputs": [
        {
          "output_type": "execute_result",
          "data": {
            "text/plain": [
              "10042"
            ]
          },
          "metadata": {
            "tags": []
          },
          "execution_count": 38
        }
      ]
    },
    {
      "cell_type": "code",
      "metadata": {
        "id": "E4Ng8SHSDxBx",
        "colab_type": "code",
        "outputId": "9d404d07-9f7b-4819-ed0a-452a36e64100",
        "colab": {
          "base_uri": "https://localhost:8080/",
          "height": 34
        }
      },
      "source": [
        "nb_words = min(max_features, 1 + len(word_index))\n",
        "nb_words"
      ],
      "execution_count": 39,
      "outputs": [
        {
          "output_type": "execute_result",
          "data": {
            "text/plain": [
              "10043"
            ]
          },
          "metadata": {
            "tags": []
          },
          "execution_count": 39
        }
      ]
    },
    {
      "cell_type": "code",
      "metadata": {
        "id": "LWf0qQ2iD2ve",
        "colab_type": "code",
        "outputId": "a947fff6-aa0d-4faf-c874-c1e138cf38b0",
        "colab": {
          "base_uri": "https://localhost:8080/",
          "height": 34
        }
      },
      "source": [
        "embedding_matrix = np.random.normal(emb_mean, emb_std, (nb_words, embed_size))\n",
        "embedding_matrix.shape"
      ],
      "execution_count": 40,
      "outputs": [
        {
          "output_type": "execute_result",
          "data": {
            "text/plain": [
              "(10043, 300)"
            ]
          },
          "metadata": {
            "tags": []
          },
          "execution_count": 40
        }
      ]
    },
    {
      "cell_type": "code",
      "metadata": {
        "id": "vNslPaHb193k",
        "colab_type": "code",
        "outputId": "ad44d480-e52b-4a2a-f34c-f2bbdd888b64",
        "colab": {
          "base_uri": "https://localhost:8080/",
          "height": 34
        }
      },
      "source": [
        "for word, i in word_index.items(): \n",
        "    if i >= max_features: continue\n",
        "    embedding_vector = embeddings_index.get(word)\n",
        "    if embedding_vector is not None: \n",
        "        embedding_matrix[i] = embedding_vector\n",
        "print(embedding_matrix.shape)"
      ],
      "execution_count": 41,
      "outputs": [
        {
          "output_type": "stream",
          "text": [
            "(10043, 300)\n"
          ],
          "name": "stdout"
        }
      ]
    },
    {
      "cell_type": "code",
      "metadata": {
        "id": "6RWtEloU2M1N",
        "colab_type": "code",
        "colab": {
          "base_uri": "https://localhost:8080/",
          "height": 323
        },
        "outputId": "6e999793-1fe5-4607-d727-1509c27cbdb9"
      },
      "source": [
        "import tensorflow as tf\n",
        "from tensorflow.keras import layers\n",
        "from keras.initializers import Constant\n",
        "\n",
        "model = tf.keras.Sequential()\n",
        "model.add(layers.Embedding(nb_words,\n",
        "                            300,\n",
        "                            weights=[embedding_matrix],\n",
        "                            input_length=max_len,\n",
        "                            trainable=False))\n",
        "model.add(layers.LSTM(128))\n",
        "model.add(layers.Dense(10,activation=\"relu\"))\n",
        "model.add(layers.Dropout(0.2))\n",
        "model.add(layers.Dense(1, activation=\"sigmoid\"))\n",
        "model.summary()\n"
      ],
      "execution_count": 42,
      "outputs": [
        {
          "output_type": "stream",
          "text": [
            "Model: \"sequential_1\"\n",
            "_________________________________________________________________\n",
            "Layer (type)                 Output Shape              Param #   \n",
            "=================================================================\n",
            "embedding_1 (Embedding)      (None, 70, 300)           3012900   \n",
            "_________________________________________________________________\n",
            "lstm_1 (LSTM)                (None, 128)               219648    \n",
            "_________________________________________________________________\n",
            "dense_2 (Dense)              (None, 10)                1290      \n",
            "_________________________________________________________________\n",
            "dropout_1 (Dropout)          (None, 10)                0         \n",
            "_________________________________________________________________\n",
            "dense_3 (Dense)              (None, 1)                 11        \n",
            "=================================================================\n",
            "Total params: 3,233,849\n",
            "Trainable params: 220,949\n",
            "Non-trainable params: 3,012,900\n",
            "_________________________________________________________________\n"
          ],
          "name": "stdout"
        }
      ]
    },
    {
      "cell_type": "code",
      "metadata": {
        "id": "Txx27Bzd3gLM",
        "colab_type": "code",
        "colab": {}
      },
      "source": [
        "model.compile(loss='binary_crossentropy', optimizer='adam', metrics=['accuracy'])"
      ],
      "execution_count": 0,
      "outputs": []
    },
    {
      "cell_type": "code",
      "metadata": {
        "id": "BeVa4_2m3kzN",
        "colab_type": "code",
        "outputId": "47eb6ba3-3570-4c8b-a647-b3f505dc56d1",
        "colab": {
          "base_uri": "https://localhost:8080/",
          "height": 241
        }
      },
      "source": [
        "from tensorflow.keras.callbacks import EarlyStopping\n",
        "\n",
        "callbacks = EarlyStopping(monitor='val_loss', min_delta=0, patience = 2)\n",
        "\n",
        "history = model.fit(train_X, \n",
        "                    train_y, \n",
        "                    batch_size=512, \n",
        "                    epochs=15, \n",
        "                    validation_data=(val_X, val_y),\n",
        "                    callbacks=callbacks\n",
        "                    )"
      ],
      "execution_count": 44,
      "outputs": [
        {
          "output_type": "stream",
          "text": [
            "Epoch 1/15\n",
            "7/7 [==============================] - 6s 905ms/step - loss: 0.4776 - accuracy: 0.8509 - val_loss: 0.3301 - val_accuracy: 0.9000\n",
            "Epoch 2/15\n",
            "7/7 [==============================] - 5s 753ms/step - loss: 0.3766 - accuracy: 0.8773 - val_loss: 0.3437 - val_accuracy: 0.9000\n",
            "Epoch 3/15\n",
            "7/7 [==============================] - 5s 755ms/step - loss: 0.3684 - accuracy: 0.8773 - val_loss: 0.3227 - val_accuracy: 0.9000\n",
            "Epoch 4/15\n",
            "7/7 [==============================] - 5s 757ms/step - loss: 0.3634 - accuracy: 0.8776 - val_loss: 0.3191 - val_accuracy: 0.9000\n",
            "Epoch 5/15\n",
            "7/7 [==============================] - 5s 760ms/step - loss: 0.3534 - accuracy: 0.8776 - val_loss: 0.3263 - val_accuracy: 0.9000\n",
            "Epoch 6/15\n",
            "7/7 [==============================] - 5s 765ms/step - loss: 0.3492 - accuracy: 0.8776 - val_loss: 0.3221 - val_accuracy: 0.9000\n"
          ],
          "name": "stdout"
        }
      ]
    },
    {
      "cell_type": "code",
      "metadata": {
        "id": "7JjJbtUNn3cM",
        "colab_type": "code",
        "colab": {
          "base_uri": "https://localhost:8080/",
          "height": 573
        },
        "outputId": "bd3b838b-5c6a-4d06-dac5-e3525480cfe8"
      },
      "source": [
        "# Plot training & validation accuracy values\n",
        "import matplotlib.pyplot as plt \n",
        "plt.plot(history.history['accuracy'])\n",
        "plt.plot(history.history['val_accuracy'])\n",
        "plt.title('Model accuracy')\n",
        "plt.ylabel('Accuracy')\n",
        "plt.xlabel('Epoch')\n",
        "plt.legend(['Train', 'Val'], loc='upper left')\n",
        "plt.show()\n",
        "\n",
        "# Plot training & validation loss values\n",
        "plt.plot(history.history['loss'])\n",
        "plt.plot(history.history['val_loss'])\n",
        "plt.title('Model loss')\n",
        "plt.ylabel('Loss')\n",
        "plt.xlabel('Epoch')\n",
        "plt.legend(['Train', 'Val'], loc='upper left')\n",
        "plt.show()"
      ],
      "execution_count": 45,
      "outputs": [
        {
          "output_type": "display_data",
          "data": {
            "image/png": "[encoded data removed]",
            "text/plain": [
              "<Figure size 432x288 with 1 Axes>"
            ]
          },
          "metadata": {
            "tags": [],
            "needs_background": "light"
          }
        },
        {
          "output_type": "display_data",
          "data": {
            "image/png": "[encoded data removed]",
            "text/plain": [
              "<Figure size 432x288 with 1 Axes>"
            ]
          },
          "metadata": {
            "tags": [],
            "needs_background": "light"
          }
        }
      ]
    },
    {
      "cell_type": "code",
      "metadata": {
        "id": "AslhlttleNnC",
        "colab_type": "code",
        "outputId": "9c2ca84a-fe8a-45d1-92e7-5c64eec3ccc5",
        "colab": {
          "base_uri": "https://localhost:8080/",
          "height": 1000
        }
      },
      "source": [
        "# validation the model(f1-score)\n",
        "pred_noemb_val_y = model.predict([val_X], batch_size=1024, verbose=1)\n",
        "print(pred_noemb_val_y)\n",
        "threshes=[]\n",
        "f1_scores=[]\n",
        "accuracy_scores=[]\n",
        "for thresh in np.arange(0.1, 0.801, 0.01):\n",
        "    thresh = np.round(thresh, 2)\n",
        "    threshes.append(thresh)\n",
        "    logging.info(\"F1 score at threshold {0} is {1}\".format(thresh, metrics.f1_score(val_y, (pred_noemb_val_y>thresh).astype(int))))\n",
        "    f1_scores.append(metrics.f1_score(val_y, (pred_noemb_val_y>thresh).astype(int)))\n",
        "    logging.info(\"Accuracy at threshold {0} is {1}\".format(thresh, metrics.accuracy_score(val_y, (pred_noemb_val_y>thresh).astype(int))))\n",
        "    accuracy_scores.append(metrics.accuracy_score(val_y, (pred_noemb_val_y>thresh).astype(int)))"
      ],
      "execution_count": 46,
      "outputs": [
        {
          "output_type": "stream",
          "text": [
            "1/1 [==============================] - 0s 1ms/step\n",
            "[[0.91016424]\n",
            " [0.76353276]\n",
            " [0.7914861 ]\n",
            " [0.8773641 ]\n",
            " [0.63779336]\n",
            " [0.94471425]\n",
            " [0.93593353]\n",
            " [0.9616212 ]\n",
            " [0.92016697]\n",
            " [0.87540114]\n",
            " [0.9386053 ]\n",
            " [0.8731986 ]\n",
            " [0.89856744]\n",
            " [0.95289093]\n",
            " [0.9263015 ]\n",
            " [0.9238187 ]\n",
            " [0.8808317 ]\n",
            " [0.97372943]\n",
            " [0.66912466]\n",
            " [0.8736842 ]\n",
            " [0.8604777 ]\n",
            " [0.91765785]\n",
            " [0.8170945 ]\n",
            " [0.9185722 ]\n",
            " [0.91248226]\n",
            " [0.85311407]\n",
            " [0.9316585 ]\n",
            " [0.86625034]\n",
            " [0.8810339 ]\n",
            " [0.84747374]\n",
            " [0.8122043 ]\n",
            " [0.9221535 ]\n",
            " [0.64144397]\n",
            " [0.881106  ]\n",
            " [0.9503151 ]\n",
            " [0.9268528 ]\n",
            " [0.8824864 ]\n",
            " [0.88891447]\n",
            " [0.7954489 ]\n",
            " [0.87230235]\n",
            " [0.947988  ]\n",
            " [0.89747787]\n",
            " [0.7365917 ]\n",
            " [0.92783386]\n",
            " [0.9136907 ]\n",
            " [0.9492912 ]\n",
            " [0.95655185]\n",
            " [0.94027257]\n",
            " [0.72129846]\n",
            " [0.90604603]\n",
            " [0.8324828 ]\n",
            " [0.9436823 ]\n",
            " [0.7827456 ]\n",
            " [0.9558939 ]\n",
            " [0.76535034]\n",
            " [0.84976256]\n",
            " [0.96421075]\n",
            " [0.9164763 ]\n",
            " [0.94368434]\n",
            " [0.8821159 ]\n",
            " [0.9184284 ]\n",
            " [0.8001812 ]\n",
            " [0.84322166]\n",
            " [0.59285134]\n",
            " [0.9748341 ]\n",
            " [0.96246094]\n",
            " [0.9118739 ]\n",
            " [0.83603776]\n",
            " [0.8709192 ]\n",
            " [0.81113315]\n",
            " [0.8666576 ]\n",
            " [0.87729305]\n",
            " [0.94315517]\n",
            " [0.95804816]\n",
            " [0.87961733]\n",
            " [0.88397884]\n",
            " [0.7976842 ]\n",
            " [0.9378729 ]\n",
            " [0.822191  ]\n",
            " [0.84214413]\n",
            " [0.91718215]\n",
            " [0.935634  ]\n",
            " [0.93872786]\n",
            " [0.91103995]\n",
            " [0.91330224]\n",
            " [0.77206844]\n",
            " [0.63329613]\n",
            " [0.93531466]\n",
            " [0.8758875 ]\n",
            " [0.8526257 ]\n",
            " [0.9261496 ]\n",
            " [0.90581036]\n",
            " [0.89263093]\n",
            " [0.86719465]\n",
            " [0.75492406]\n",
            " [0.96563023]\n",
            " [0.7295145 ]\n",
            " [0.9502472 ]\n",
            " [0.88239974]\n",
            " [0.8717879 ]\n",
            " [0.944762  ]\n",
            " [0.947372  ]\n",
            " [0.9314784 ]\n",
            " [0.8121534 ]\n",
            " [0.8882914 ]\n",
            " [0.920432  ]\n",
            " [0.91040426]\n",
            " [0.87114906]\n",
            " [0.9075562 ]\n",
            " [0.95070094]\n",
            " [0.8385499 ]\n",
            " [0.82538956]\n",
            " [0.9481007 ]\n",
            " [0.7669083 ]\n",
            " [0.92183805]\n",
            " [0.9288037 ]\n",
            " [0.97164714]\n",
            " [0.7630477 ]\n",
            " [0.9357133 ]\n",
            " [0.92593575]\n",
            " [0.94493574]\n",
            " [0.8046398 ]\n",
            " [0.8639357 ]\n",
            " [0.89755964]\n",
            " [0.55854744]\n",
            " [0.9138774 ]\n",
            " [0.9373706 ]\n",
            " [0.8595222 ]\n",
            " [0.9421958 ]\n",
            " [0.89781165]\n",
            " [0.93354213]\n",
            " [0.8843187 ]\n",
            " [0.9363579 ]\n",
            " [0.9343351 ]\n",
            " [0.9504452 ]\n",
            " [0.96491563]\n",
            " [0.8896042 ]\n",
            " [0.9026937 ]\n",
            " [0.8718455 ]\n",
            " [0.9129454 ]\n",
            " [0.9387547 ]\n",
            " [0.8639565 ]\n",
            " [0.85816514]\n",
            " [0.8599274 ]\n",
            " [0.73551375]\n",
            " [0.737923  ]\n",
            " [0.90359664]\n",
            " [0.9084708 ]\n",
            " [0.9385624 ]\n",
            " [0.8810537 ]\n",
            " [0.8279445 ]\n",
            " [0.8696439 ]\n",
            " [0.93741363]\n",
            " [0.8819994 ]\n",
            " [0.8206823 ]\n",
            " [0.9610923 ]\n",
            " [0.821069  ]\n",
            " [0.64827263]\n",
            " [0.7699319 ]\n",
            " [0.59812564]\n",
            " [0.95138735]\n",
            " [0.92907083]\n",
            " [0.84201896]\n",
            " [0.93777144]\n",
            " [0.86441624]\n",
            " [0.83432126]\n",
            " [0.9662465 ]\n",
            " [0.9652183 ]\n",
            " [0.9033362 ]\n",
            " [0.95148516]\n",
            " [0.83808154]\n",
            " [0.9640471 ]\n",
            " [0.905233  ]\n",
            " [0.9113716 ]\n",
            " [0.9169675 ]\n",
            " [0.92580414]\n",
            " [0.75732315]\n",
            " [0.9157376 ]\n",
            " [0.8913468 ]\n",
            " [0.9220505 ]\n",
            " [0.9250929 ]\n",
            " [0.73529726]\n",
            " [0.8313477 ]\n",
            " [0.8787642 ]\n",
            " [0.90881944]\n",
            " [0.86160386]\n",
            " [0.9471382 ]\n",
            " [0.9816093 ]\n",
            " [0.9702364 ]\n",
            " [0.88419294]\n",
            " [0.79502577]\n",
            " [0.92326677]\n",
            " [0.940669  ]\n",
            " [0.90955955]\n",
            " [0.8410835 ]\n",
            " [0.81426764]\n",
            " [0.82851464]\n",
            " [0.93843454]\n",
            " [0.91053116]\n",
            " [0.93054795]\n",
            " [0.64775336]\n",
            " [0.89582765]\n",
            " [0.91634667]\n",
            " [0.93029165]\n",
            " [0.9777011 ]\n",
            " [0.88754165]\n",
            " [0.9338176 ]\n",
            " [0.8116363 ]\n",
            " [0.7882861 ]\n",
            " [0.9743308 ]\n",
            " [0.8289119 ]\n",
            " [0.8153677 ]\n",
            " [0.9717748 ]\n",
            " [0.93018657]\n",
            " [0.63329613]\n",
            " [0.82226044]\n",
            " [0.96981883]\n",
            " [0.9479282 ]\n",
            " [0.8997617 ]\n",
            " [0.9445035 ]\n",
            " [0.9507842 ]\n",
            " [0.9581661 ]\n",
            " [0.85303277]\n",
            " [0.9303516 ]\n",
            " [0.74473894]\n",
            " [0.8205087 ]\n",
            " [0.83964574]\n",
            " [0.9384564 ]\n",
            " [0.8368124 ]\n",
            " [0.88361776]\n",
            " [0.9390989 ]\n",
            " [0.92409194]\n",
            " [0.7637008 ]\n",
            " [0.66912466]\n",
            " [0.9253656 ]\n",
            " [0.892817  ]\n",
            " [0.8765984 ]\n",
            " [0.8532219 ]\n",
            " [0.8317835 ]\n",
            " [0.79700446]\n",
            " [0.9493661 ]\n",
            " [0.9343679 ]\n",
            " [0.95298123]\n",
            " [0.5474688 ]\n",
            " [0.7290293 ]\n",
            " [0.90303826]\n",
            " [0.90527755]\n",
            " [0.9096554 ]\n",
            " [0.93613327]\n",
            " [0.87503505]\n",
            " [0.77397454]\n",
            " [0.8871433 ]\n",
            " [0.9351396 ]\n",
            " [0.95339525]\n",
            " [0.946669  ]\n",
            " [0.87745214]\n",
            " [0.9053124 ]\n",
            " [0.93184566]\n",
            " [0.78792477]\n",
            " [0.9345552 ]\n",
            " [0.9427016 ]\n",
            " [0.83580077]\n",
            " [0.9477699 ]\n",
            " [0.8566046 ]\n",
            " [0.9414058 ]\n",
            " [0.83788157]\n",
            " [0.9185383 ]\n",
            " [0.9311187 ]\n",
            " [0.93390167]\n",
            " [0.92140746]\n",
            " [0.90634525]\n",
            " [0.8633475 ]\n",
            " [0.8890424 ]\n",
            " [0.8327984 ]\n",
            " [0.8745407 ]\n",
            " [0.9415429 ]\n",
            " [0.869856  ]\n",
            " [0.96857464]\n",
            " [0.79304653]\n",
            " [0.9074565 ]\n",
            " [0.8992284 ]\n",
            " [0.92392355]\n",
            " [0.9038886 ]\n",
            " [0.93725955]\n",
            " [0.8955261 ]\n",
            " [0.9082765 ]\n",
            " [0.9224638 ]\n",
            " [0.89867264]\n",
            " [0.87641585]\n",
            " [0.93257964]\n",
            " [0.9088622 ]\n",
            " [0.9509167 ]\n",
            " [0.9454237 ]\n",
            " [0.9470489 ]\n",
            " [0.9460026 ]\n",
            " [0.9290471 ]\n",
            " [0.9448759 ]\n",
            " [0.8853768 ]\n",
            " [0.85095775]\n",
            " [0.91555816]\n",
            " [0.5798875 ]\n",
            " [0.82437384]\n",
            " [0.9255361 ]\n",
            " [0.87060857]\n",
            " [0.97239697]\n",
            " [0.6625117 ]\n",
            " [0.9228815 ]\n",
            " [0.90261924]\n",
            " [0.914935  ]\n",
            " [0.8634373 ]\n",
            " [0.8728628 ]\n",
            " [0.9385067 ]\n",
            " [0.9468083 ]\n",
            " [0.93643504]\n",
            " [0.9617059 ]\n",
            " [0.9363395 ]\n",
            " [0.944345  ]\n",
            " [0.89417017]\n",
            " [0.91165113]\n",
            " [0.6076485 ]\n",
            " [0.8661549 ]\n",
            " [0.9388093 ]\n",
            " [0.9410784 ]\n",
            " [0.93133557]\n",
            " [0.9320792 ]\n",
            " [0.9482013 ]\n",
            " [0.91131455]\n",
            " [0.8673297 ]\n",
            " [0.93861854]\n",
            " [0.8388853 ]\n",
            " [0.8901701 ]\n",
            " [0.85030067]\n",
            " [0.79298437]\n",
            " [0.9313053 ]\n",
            " [0.93330276]\n",
            " [0.89695907]\n",
            " [0.933419  ]\n",
            " [0.8988403 ]\n",
            " [0.8882681 ]\n",
            " [0.91837746]\n",
            " [0.7080662 ]\n",
            " [0.95660424]\n",
            " [0.96452606]\n",
            " [0.9472852 ]\n",
            " [0.8636764 ]\n",
            " [0.65217924]\n",
            " [0.9096072 ]\n",
            " [0.9079598 ]\n",
            " [0.8513916 ]\n",
            " [0.9094162 ]\n",
            " [0.90131617]\n",
            " [0.85907996]\n",
            " [0.8763472 ]\n",
            " [0.91428363]\n",
            " [0.8786043 ]\n",
            " [0.75853693]\n",
            " [0.9182776 ]\n",
            " [0.95215106]\n",
            " [0.9638525 ]\n",
            " [0.7838509 ]\n",
            " [0.8722273 ]\n",
            " [0.9631642 ]\n",
            " [0.8705341 ]\n",
            " [0.9258777 ]\n",
            " [0.9572272 ]\n",
            " [0.929889  ]\n",
            " [0.9403488 ]\n",
            " [0.89117426]\n",
            " [0.82262444]\n",
            " [0.9389453 ]\n",
            " [0.90765595]\n",
            " [0.7259881 ]\n",
            " [0.9582337 ]\n",
            " [0.949846  ]\n",
            " [0.85133934]\n",
            " [0.9138386 ]\n",
            " [0.879961  ]\n",
            " [0.9138044 ]\n",
            " [0.7231036 ]\n",
            " [0.77045906]\n",
            " [0.92587477]\n",
            " [0.61739033]\n",
            " [0.88961184]\n",
            " [0.9194106 ]\n",
            " [0.9505495 ]\n",
            " [0.8687105 ]\n",
            " [0.8990021 ]\n",
            " [0.86281854]\n",
            " [0.84585613]\n",
            " [0.9421295 ]\n",
            " [0.9423652 ]\n",
            " [0.9399798 ]\n",
            " [0.9347671 ]\n",
            " [0.88833773]\n",
            " [0.8709149 ]\n",
            " [0.8431125 ]\n",
            " [0.7942729 ]\n",
            " [0.81946474]\n",
            " [0.93303835]\n",
            " [0.89284784]\n",
            " [0.9365367 ]\n",
            " [0.86073077]\n",
            " [0.8480738 ]\n",
            " [0.87257826]\n",
            " [0.9458222 ]\n",
            " [0.80696607]\n",
            " [0.93946826]\n",
            " [0.9169355 ]\n",
            " [0.92384756]\n",
            " [0.8834845 ]\n",
            " [0.954553  ]\n",
            " [0.93418086]\n",
            " [0.865771  ]\n",
            " [0.812691  ]\n",
            " [0.8666956 ]\n",
            " [0.93028736]\n",
            " [0.95469624]\n",
            " [0.920502  ]\n",
            " [0.95013154]\n",
            " [0.94742703]\n",
            " [0.9349524 ]\n",
            " [0.9122704 ]\n",
            " [0.9377558 ]\n",
            " [0.9454074 ]\n",
            " [0.9089762 ]\n",
            " [0.94841886]\n",
            " [0.9733915 ]\n",
            " [0.9527799 ]\n",
            " [0.9010289 ]\n",
            " [0.9216473 ]\n",
            " [0.9420769 ]\n",
            " [0.82136786]\n",
            " [0.8401641 ]\n",
            " [0.9600123 ]\n",
            " [0.9419031 ]\n",
            " [0.93297094]\n",
            " [0.9518758 ]\n",
            " [0.93628275]\n",
            " [0.9205662 ]\n",
            " [0.85391057]]\n",
            "2020-05-17 22:55:09 INFO     F1 score at threshold 0.1 is 0.9473684210526316\n",
            "2020-05-17 22:55:09 INFO     Accuracy at threshold 0.1 is 0.9\n",
            "2020-05-17 22:55:09 INFO     F1 score at threshold 0.11 is 0.9473684210526316\n",
            "2020-05-17 22:55:09 INFO     Accuracy at threshold 0.11 is 0.9\n",
            "2020-05-17 22:55:09 INFO     F1 score at threshold 0.12 is 0.9473684210526316\n",
            "2020-05-17 22:55:09 INFO     Accuracy at threshold 0.12 is 0.9\n",
            "2020-05-17 22:55:09 INFO     F1 score at threshold 0.13 is 0.9473684210526316\n",
            "2020-05-17 22:55:09 INFO     Accuracy at threshold 0.13 is 0.9\n",
            "2020-05-17 22:55:09 INFO     F1 score at threshold 0.14 is 0.9473684210526316\n",
            "2020-05-17 22:55:09 INFO     Accuracy at threshold 0.14 is 0.9\n",
            "2020-05-17 22:55:09 INFO     F1 score at threshold 0.15 is 0.9473684210526316\n",
            "2020-05-17 22:55:09 INFO     Accuracy at threshold 0.15 is 0.9\n",
            "2020-05-17 22:55:09 INFO     F1 score at threshold 0.16 is 0.9473684210526316\n",
            "2020-05-17 22:55:09 INFO     Accuracy at threshold 0.16 is 0.9\n",
            "2020-05-17 22:55:09 INFO     F1 score at threshold 0.17 is 0.9473684210526316\n",
            "2020-05-17 22:55:09 INFO     Accuracy at threshold 0.17 is 0.9\n",
            "2020-05-17 22:55:09 INFO     F1 score at threshold 0.18 is 0.9473684210526316\n",
            "2020-05-17 22:55:09 INFO     Accuracy at threshold 0.18 is 0.9\n",
            "2020-05-17 22:55:10 INFO     F1 score at threshold 0.19 is 0.9473684210526316\n",
            "2020-05-17 22:55:10 INFO     Accuracy at threshold 0.19 is 0.9\n",
            "2020-05-17 22:55:10 INFO     F1 score at threshold 0.2 is 0.9473684210526316\n",
            "2020-05-17 22:55:10 INFO     Accuracy at threshold 0.2 is 0.9\n",
            "2020-05-17 22:55:10 INFO     F1 score at threshold 0.21 is 0.9473684210526316\n",
            "2020-05-17 22:55:10 INFO     Accuracy at threshold 0.21 is 0.9\n",
            "2020-05-17 22:55:10 INFO     F1 score at threshold 0.22 is 0.9473684210526316\n",
            "2020-05-17 22:55:10 INFO     Accuracy at threshold 0.22 is 0.9\n",
            "2020-05-17 22:55:10 INFO     F1 score at threshold 0.23 is 0.9473684210526316\n",
            "2020-05-17 22:55:10 INFO     Accuracy at threshold 0.23 is 0.9\n",
            "2020-05-17 22:55:10 INFO     F1 score at threshold 0.24 is 0.9473684210526316\n",
            "2020-05-17 22:55:10 INFO     Accuracy at threshold 0.24 is 0.9\n",
            "2020-05-17 22:55:10 INFO     F1 score at threshold 0.25 is 0.9473684210526316\n",
            "2020-05-17 22:55:10 INFO     Accuracy at threshold 0.25 is 0.9\n",
            "2020-05-17 22:55:10 INFO     F1 score at threshold 0.26 is 0.9473684210526316\n",
            "2020-05-17 22:55:10 INFO     Accuracy at threshold 0.26 is 0.9\n",
            "2020-05-17 22:55:10 INFO     F1 score at threshold 0.27 is 0.9473684210526316\n",
            "2020-05-17 22:55:10 INFO     Accuracy at threshold 0.27 is 0.9\n",
            "2020-05-17 22:55:10 INFO     F1 score at threshold 0.28 is 0.9473684210526316\n",
            "2020-05-17 22:55:10 INFO     Accuracy at threshold 0.28 is 0.9\n",
            "2020-05-17 22:55:10 INFO     F1 score at threshold 0.29 is 0.9473684210526316\n",
            "2020-05-17 22:55:10 INFO     Accuracy at threshold 0.29 is 0.9\n",
            "2020-05-17 22:55:10 INFO     F1 score at threshold 0.3 is 0.9473684210526316\n",
            "2020-05-17 22:55:10 INFO     Accuracy at threshold 0.3 is 0.9\n",
            "2020-05-17 22:55:10 INFO     F1 score at threshold 0.31 is 0.9473684210526316\n",
            "2020-05-17 22:55:10 INFO     Accuracy at threshold 0.31 is 0.9\n",
            "2020-05-17 22:55:10 INFO     F1 score at threshold 0.32 is 0.9473684210526316\n",
            "2020-05-17 22:55:10 INFO     Accuracy at threshold 0.32 is 0.9\n",
            "2020-05-17 22:55:10 INFO     F1 score at threshold 0.33 is 0.9473684210526316\n",
            "2020-05-17 22:55:10 INFO     Accuracy at threshold 0.33 is 0.9\n",
            "2020-05-17 22:55:10 INFO     F1 score at threshold 0.34 is 0.9473684210526316\n",
            "2020-05-17 22:55:10 INFO     Accuracy at threshold 0.34 is 0.9\n",
            "2020-05-17 22:55:10 INFO     F1 score at threshold 0.35 is 0.9473684210526316\n",
            "2020-05-17 22:55:10 INFO     Accuracy at threshold 0.35 is 0.9\n",
            "2020-05-17 22:55:10 INFO     F1 score at threshold 0.36 is 0.9473684210526316\n",
            "2020-05-17 22:55:10 INFO     Accuracy at threshold 0.36 is 0.9\n",
            "2020-05-17 22:55:10 INFO     F1 score at threshold 0.37 is 0.9473684210526316\n",
            "2020-05-17 22:55:10 INFO     Accuracy at threshold 0.37 is 0.9\n",
            "2020-05-17 22:55:10 INFO     F1 score at threshold 0.38 is 0.9473684210526316\n",
            "2020-05-17 22:55:10 INFO     Accuracy at threshold 0.38 is 0.9\n",
            "2020-05-17 22:55:10 INFO     F1 score at threshold 0.39 is 0.9473684210526316\n",
            "2020-05-17 22:55:10 INFO     Accuracy at threshold 0.39 is 0.9\n",
            "2020-05-17 22:55:10 INFO     F1 score at threshold 0.4 is 0.9473684210526316\n",
            "2020-05-17 22:55:10 INFO     Accuracy at threshold 0.4 is 0.9\n",
            "2020-05-17 22:55:10 INFO     F1 score at threshold 0.41 is 0.9473684210526316\n",
            "2020-05-17 22:55:10 INFO     Accuracy at threshold 0.41 is 0.9\n",
            "2020-05-17 22:55:10 INFO     F1 score at threshold 0.42 is 0.9473684210526316\n",
            "2020-05-17 22:55:10 INFO     Accuracy at threshold 0.42 is 0.9\n",
            "2020-05-17 22:55:10 INFO     F1 score at threshold 0.43 is 0.9473684210526316\n",
            "2020-05-17 22:55:10 INFO     Accuracy at threshold 0.43 is 0.9\n",
            "2020-05-17 22:55:10 INFO     F1 score at threshold 0.44 is 0.9473684210526316\n",
            "2020-05-17 22:55:10 INFO     Accuracy at threshold 0.44 is 0.9\n",
            "2020-05-17 22:55:10 INFO     F1 score at threshold 0.45 is 0.9473684210526316\n",
            "2020-05-17 22:55:10 INFO     Accuracy at threshold 0.45 is 0.9\n",
            "2020-05-17 22:55:10 INFO     F1 score at threshold 0.46 is 0.9473684210526316\n",
            "2020-05-17 22:55:10 INFO     Accuracy at threshold 0.46 is 0.9\n",
            "2020-05-17 22:55:10 INFO     F1 score at threshold 0.47 is 0.9473684210526316\n",
            "2020-05-17 22:55:10 INFO     Accuracy at threshold 0.47 is 0.9\n",
            "2020-05-17 22:55:10 INFO     F1 score at threshold 0.48 is 0.9473684210526316\n",
            "2020-05-17 22:55:10 INFO     Accuracy at threshold 0.48 is 0.9\n",
            "2020-05-17 22:55:10 INFO     F1 score at threshold 0.49 is 0.9473684210526316\n",
            "2020-05-17 22:55:10 INFO     Accuracy at threshold 0.49 is 0.9\n",
            "2020-05-17 22:55:10 INFO     F1 score at threshold 0.5 is 0.9473684210526316\n",
            "2020-05-17 22:55:10 INFO     Accuracy at threshold 0.5 is 0.9\n",
            "2020-05-17 22:55:10 INFO     F1 score at threshold 0.51 is 0.9473684210526316\n",
            "2020-05-17 22:55:10 INFO     Accuracy at threshold 0.51 is 0.9\n",
            "2020-05-17 22:55:10 INFO     F1 score at threshold 0.52 is 0.9473684210526316\n",
            "2020-05-17 22:55:10 INFO     Accuracy at threshold 0.52 is 0.9\n",
            "2020-05-17 22:55:10 INFO     F1 score at threshold 0.53 is 0.9473684210526316\n",
            "2020-05-17 22:55:10 INFO     Accuracy at threshold 0.53 is 0.9\n",
            "2020-05-17 22:55:10 INFO     F1 score at threshold 0.54 is 0.9473684210526316\n",
            "2020-05-17 22:55:10 INFO     Accuracy at threshold 0.54 is 0.9\n",
            "2020-05-17 22:55:10 INFO     F1 score at threshold 0.55 is 0.9461077844311377\n",
            "2020-05-17 22:55:10 INFO     Accuracy at threshold 0.55 is 0.8977272727272727\n",
            "2020-05-17 22:55:10 INFO     F1 score at threshold 0.56 is 0.9472422062350121\n",
            "2020-05-17 22:55:10 INFO     Accuracy at threshold 0.56 is 0.9\n",
            "2020-05-17 22:55:10 INFO     F1 score at threshold 0.57 is 0.9472422062350121\n",
            "2020-05-17 22:55:10 INFO     Accuracy at threshold 0.57 is 0.9\n",
            "2020-05-17 22:55:10 INFO     F1 score at threshold 0.58 is 0.9459783913565426\n",
            "2020-05-17 22:55:10 INFO     Accuracy at threshold 0.58 is 0.8977272727272727\n",
            "2020-05-17 22:55:10 INFO     F1 score at threshold 0.59 is 0.9459783913565426\n",
            "2020-05-17 22:55:10 INFO     Accuracy at threshold 0.59 is 0.8977272727272727\n",
            "2020-05-17 22:55:10 INFO     F1 score at threshold 0.6 is 0.9434416365824309\n",
            "2020-05-17 22:55:10 INFO     Accuracy at threshold 0.6 is 0.8931818181818182\n",
            "2020-05-17 22:55:10 INFO     F1 score at threshold 0.61 is 0.9421686746987952\n",
            "2020-05-17 22:55:10 INFO     Accuracy at threshold 0.61 is 0.8909090909090909\n",
            "2020-05-17 22:55:10 INFO     F1 score at threshold 0.62 is 0.9408926417370326\n",
            "2020-05-17 22:55:10 INFO     Accuracy at threshold 0.62 is 0.8886363636363637\n",
            "2020-05-17 22:55:10 INFO     F1 score at threshold 0.63 is 0.9408926417370326\n",
            "2020-05-17 22:55:10 INFO     Accuracy at threshold 0.63 is 0.8886363636363637\n",
            "2020-05-17 22:55:10 INFO     F1 score at threshold 0.64 is 0.9418886198547216\n",
            "2020-05-17 22:55:10 INFO     Accuracy at threshold 0.64 is 0.8909090909090909\n",
            "2020-05-17 22:55:10 INFO     F1 score at threshold 0.65 is 0.9404617253948967\n",
            "2020-05-17 22:55:10 INFO     Accuracy at threshold 0.65 is 0.8886363636363637\n",
            "2020-05-17 22:55:10 INFO     F1 score at threshold 0.66 is 0.9391727493917273\n",
            "2020-05-17 22:55:10 INFO     Accuracy at threshold 0.66 is 0.8863636363636364\n",
            "2020-05-17 22:55:10 INFO     F1 score at threshold 0.67 is 0.9377289377289377\n",
            "2020-05-17 22:55:10 INFO     Accuracy at threshold 0.67 is 0.884090909090909\n",
            "2020-05-17 22:55:10 INFO     F1 score at threshold 0.68 is 0.9377289377289377\n",
            "2020-05-17 22:55:10 INFO     Accuracy at threshold 0.68 is 0.884090909090909\n",
            "2020-05-17 22:55:10 INFO     F1 score at threshold 0.69 is 0.9377289377289377\n",
            "2020-05-17 22:55:10 INFO     Accuracy at threshold 0.69 is 0.884090909090909\n",
            "2020-05-17 22:55:10 INFO     F1 score at threshold 0.7 is 0.9377289377289377\n",
            "2020-05-17 22:55:10 INFO     Accuracy at threshold 0.7 is 0.884090909090909\n",
            "2020-05-17 22:55:10 INFO     F1 score at threshold 0.71 is 0.9364303178484107\n",
            "2020-05-17 22:55:10 INFO     Accuracy at threshold 0.71 is 0.8818181818181818\n",
            "2020-05-17 22:55:10 INFO     F1 score at threshold 0.72 is 0.9364303178484107\n",
            "2020-05-17 22:55:10 INFO     Accuracy at threshold 0.72 is 0.8818181818181818\n",
            "2020-05-17 22:55:10 INFO     F1 score at threshold 0.73 is 0.9298892988929889\n",
            "2020-05-17 22:55:10 INFO     Accuracy at threshold 0.73 is 0.8704545454545455\n",
            "2020-05-17 22:55:10 INFO     F1 score at threshold 0.74 is 0.927070457354759\n",
            "2020-05-17 22:55:10 INFO     Accuracy at threshold 0.74 is 0.865909090909091\n",
            "2020-05-17 22:55:10 INFO     F1 score at threshold 0.75 is 0.9257425742574257\n",
            "2020-05-17 22:55:10 INFO     Accuracy at threshold 0.75 is 0.8636363636363636\n",
            "2020-05-17 22:55:10 INFO     F1 score at threshold 0.76 is 0.9217391304347825\n",
            "2020-05-17 22:55:10 INFO     Accuracy at threshold 0.76 is 0.8568181818181818\n",
            "2020-05-17 22:55:10 INFO     F1 score at threshold 0.77 is 0.918648310387985\n",
            "2020-05-17 22:55:10 INFO     Accuracy at threshold 0.77 is 0.8522727272727273\n",
            "2020-05-17 22:55:10 INFO     F1 score at threshold 0.78 is 0.9170854271356783\n",
            "2020-05-17 22:55:10 INFO     Accuracy at threshold 0.78 is 0.85\n",
            "2020-05-17 22:55:10 INFO     F1 score at threshold 0.79 is 0.9116161616161617\n",
            "2020-05-17 22:55:10 INFO     Accuracy at threshold 0.79 is 0.8409090909090909\n",
            "2020-05-17 22:55:10 INFO     F1 score at threshold 0.8 is 0.9081632653061225\n",
            "2020-05-17 22:55:10 INFO     Accuracy at threshold 0.8 is 0.8363636363636363\n"
          ],
          "name": "stdout"
        }
      ]
    },
    {
      "cell_type": "code",
      "metadata": {
        "id": "JaSwqigUZA60",
        "colab_type": "code",
        "outputId": "54fa11d7-4c68-4a30-b8da-d9811615bc17",
        "colab": {
          "base_uri": "https://localhost:8080/",
          "height": 295
        }
      },
      "source": [
        "# plot two measures\n",
        "plt.plot(threshes, f1_scores, color='blue', label='f1')\n",
        "plt.plot(threshes, accuracy_scores, color='green', label='acc')\n",
        "plt.title('Threshold vs f1_scores/acc')\n",
        "plt.ylabel('f1_scores/acc')\n",
        "plt.xlabel('Threshold')\n",
        "plt.legend()\n",
        "plt.show()"
      ],
      "execution_count": 47,
      "outputs": [
        {
          "output_type": "display_data",
          "data": {
            "image/png": "[encoded data removed]",
            "text/plain": [
              "<Figure size 432x288 with 1 Axes>"
            ]
          },
          "metadata": {
            "tags": [],
            "needs_background": "light"
          }
        }
      ]
    },
    {
      "cell_type": "code",
      "metadata": {
        "id": "OOh74l0KZA65",
        "colab_type": "code",
        "outputId": "a424e201-ca64-4385-aa4e-1a7ee685432c",
        "colab": {
          "base_uri": "https://localhost:8080/",
          "height": 34
        }
      },
      "source": [
        "logging.info('=========done===========')"
      ],
      "execution_count": 48,
      "outputs": [
        {
          "output_type": "stream",
          "text": [
            "2020-05-17 22:55:10 INFO     =========done===========\n"
          ],
          "name": "stdout"
        }
      ]
    }
  ]
}