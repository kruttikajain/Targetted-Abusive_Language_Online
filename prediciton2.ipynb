{
  "nbformat": 4,
  "nbformat_minor": 0,
  "metadata": {
    "kernelspec": {
      "display_name": "Python 3",
      "language": "python",
      "name": "python3"
    },
    "language_info": {
      "codemirror_mode": {
        "name": "ipython",
        "version": 3
      },
      "file_extension": ".py",
      "mimetype": "text/x-python",
      "name": "python",
      "nbconvert_exporter": "python",
      "pygments_lexer": "ipython3",
      "version": "3.6.6"
    },
    "colab": {
      "name": "prediciton1.ipynb",
      "provenance": [],
      "collapsed_sections": [],
      "toc_visible": true,
      "include_colab_link": true
    },
    "accelerator": "TPU"
  },
  "cells": [
    {
      "cell_type": "markdown",
      "metadata": {
        "id": "view-in-github",
        "colab_type": "text"
      },
      "source": [
        "<a href=\"https://colab.research.google.com/github/kruttikajain/Targetted-Abusive_Language_Online/blob/master/prediciton2.ipynb\" target=\"_parent\"><img src=\"https://colab.research.google.com/assets/colab-badge.svg\" alt=\"Open In Colab\"/></a>"
      ]
    },
    {
      "cell_type": "markdown",
      "metadata": {
        "_uuid": "01f361ddc47e0b386595316fe3d7f4dabbd260db",
        "id": "XE0VGEF8ZA6M",
        "colab_type": "text"
      },
      "source": [
        "# Abusive Language Online \n",
        "\n",
        "Predition1: predict OFF/NOT\n",
        "\n",
        "* Upload it each time: Dataset: [data](http://demo.clab.cs.cmu.edu/ethical_nlp2019/homeworks/hw3/hw3.html)\n",
        "\n",
        "\n",
        "1.   train.tsv\n",
        "2.   dev.tsv\n",
        "3.   test.tsv\n",
        "\n",
        "* Need manually add log.txt\n",
        "* Mount drive to load GloVe embeddings\n",
        "\n",
        "\n"
      ]
    },
    {
      "cell_type": "markdown",
      "metadata": {
        "id": "PqazyGPwaTEe",
        "colab_type": "text"
      },
      "source": [
        "# Import useful lib"
      ]
    },
    {
      "cell_type": "code",
      "metadata": {
        "_cell_guid": "b1076dfc-b9ad-4769-8c92-a6c4dae69d19",
        "_uuid": "8f2839f25d086af736a60e9eeb907d3b93b6e0e5",
        "id": "ONg01KM4ZA6N",
        "colab_type": "code",
        "outputId": "b9774df7-d2e6-4b9d-c4be-0938a49d6b48",
        "colab": {
          "base_uri": "https://localhost:8080/",
          "height": 34
        }
      },
      "source": [
        "import os\n",
        "import sys\n",
        "from logging import handlers\n",
        "from pathlib import Path\n",
        "import logging\n",
        "import time\n",
        "import numpy as np # linear algebra\n",
        "import pandas as pd # data processing, CSV file I/O (e.g. pd.read_csv)\n",
        "from tqdm import tqdm\n",
        "import math\n",
        "import random \n",
        "\n",
        "from sklearn.model_selection import train_test_split\n",
        "from sklearn import metrics\n",
        "from sklearn.model_selection import KFold\n",
        "from sklearn.model_selection import StratifiedShuffleSplit\n",
        "\n",
        "from keras.preprocessing.text import Tokenizer\n",
        "from keras.preprocessing.sequence import pad_sequences\n",
        "from keras.layers import Dense, Input, LSTM, Embedding, Dropout, Activation, CuDNNGRU, CuDNNLSTM, Conv1D\n",
        "from keras.layers import Bidirectional, GlobalMaxPool1D\n",
        "from keras.models import Model\n",
        "from keras import initializers, regularizers, constraints, optimizers, layers\n",
        "\n",
        "from os import path\n",
        "from PIL import Image\n",
        "from wordcloud import WordCloud, STOPWORDS, ImageColorGenerator\n",
        "%matplotlib inline \n",
        "import matplotlib.pyplot as plt"
      ],
      "execution_count": 1,
      "outputs": [
        {
          "output_type": "stream",
          "text": [
            "Using TensorFlow backend.\n"
          ],
          "name": "stderr"
        }
      ]
    },
    {
      "cell_type": "markdown",
      "metadata": {
        "id": "11l-8APTaOVP",
        "colab_type": "text"
      },
      "source": [
        "# Data proprecessing"
      ]
    },
    {
      "cell_type": "markdown",
      "metadata": {
        "id": "zaD_vgEytb9u",
        "colab_type": "text"
      },
      "source": [
        "## mounting drive"
      ]
    },
    {
      "cell_type": "code",
      "metadata": {
        "id": "flhVY6tUu-wN",
        "colab_type": "code",
        "outputId": "2d82a465-9cb6-4804-ab44-f2cccb929c83",
        "colab": {
          "base_uri": "https://localhost:8080/",
          "height": 122
        }
      },
      "source": [
        "from google.colab import drive\n",
        "drive.mount('/content/gdrive')"
      ],
      "execution_count": 2,
      "outputs": [
        {
          "output_type": "stream",
          "text": [
            "Go to this URL in a browser: https://accounts.google.com/o/oauth2/auth?client_id=947318989803-6bn6qk8qdgf4n4g3pfee6491hc0brc4i.apps.googleusercontent.com&redirect_uri=urn%3aietf%3awg%3aoauth%3a2.0%3aoob&response_type=code&scope=email%20https%3a%2f%2fwww.googleapis.com%2fauth%2fdocs.test%20https%3a%2f%2fwww.googleapis.com%2fauth%2fdrive%20https%3a%2f%2fwww.googleapis.com%2fauth%2fdrive.photos.readonly%20https%3a%2f%2fwww.googleapis.com%2fauth%2fpeopleapi.readonly\n",
            "\n",
            "Enter your authorization code:\n",
            "··········\n",
            "Mounted at /content/gdrive\n"
          ],
          "name": "stdout"
        }
      ]
    },
    {
      "cell_type": "code",
      "metadata": {
        "id": "-lHhx4ivtQTp",
        "colab_type": "code",
        "outputId": "cc7ee9a0-45e1-4a1c-a13b-5c1b9b2f819d",
        "colab": {
          "base_uri": "https://localhost:8080/",
          "height": 34
        }
      },
      "source": [
        "!pwd"
      ],
      "execution_count": 3,
      "outputs": [
        {
          "output_type": "stream",
          "text": [
            "/content\n"
          ],
          "name": "stdout"
        }
      ]
    },
    {
      "cell_type": "code",
      "metadata": {
        "id": "PhfBBtlIHN6p",
        "colab_type": "code",
        "outputId": "3cec3872-5d31-4db9-fc8a-414fa6485c7c",
        "colab": {
          "base_uri": "https://localhost:8080/",
          "height": 68
        }
      },
      "source": [
        "# Clone github repository setup\n",
        "# import join used to join ROOT path and MY_GOOGLE_DRIVE_PATH\n",
        "from os.path import join  \n",
        "\n",
        "# path to your project on Google Drive\n",
        "MY_GOOGLE_DRIVE_PATH = '' \n",
        "# replace with your Github username \n",
        "GIT_USERNAME = \"kruttikajain\" \n",
        "# definitely replace with your\n",
        "GIT_TOKEN = \"5fae1c9f18e3a0c680bf35e9ef63c72308ef2b4c\"  \n",
        "# Replace with your github repository in this case we want \n",
        "# to clone deep-learning-v2-pytorch repository\n",
        "GIT_REPOSITORY = \"Targetted-Abusive_Language_Online\" \n",
        "\n",
        "# PROJECT_PATH = join(ROOT, MY_GOOGLE_DRIVE_PATH)\n",
        "\n",
        "'''\n",
        "only this line should be modify\n",
        "'''\n",
        "PROJECT_PATH = './gdrive/My Drive/Colab Notebooks/246Project'\n",
        "\n",
        "# It's good to print out the value if you are not sure \n",
        "print(\"PROJECT_PATH: \", PROJECT_PATH)   \n",
        "\n",
        "# In case we haven't created the folder already; we will create a folder in the project path \n",
        "!mkdir \"{PROJECT_PATH}\"    \n",
        "\n",
        "#GIT_PATH = \"https://{GIT_TOKEN}@github.com/{GIT_USERNAME}/{GIT_REPOSITORY}.git\" this return 400 Bad Request for me\n",
        "GIT_PATH = \"https://\" + GIT_TOKEN + \"@github.com/\" + GIT_USERNAME + \"/\" + GIT_REPOSITORY + \".git\"\n",
        "print(\"GIT_PATH: \", GIT_PATH)"
      ],
      "execution_count": 4,
      "outputs": [
        {
          "output_type": "stream",
          "text": [
            "PROJECT_PATH:  ./gdrive/My Drive/Colab Notebooks/246Project\n",
            "mkdir: cannot create directory ‘./gdrive/My Drive/Colab Notebooks/246Project’: File exists\n",
            "GIT_PATH:  https://5fae1c9f18e3a0c680bf35e9ef63c72308ef2b4c@github.com/kruttikajain/Targetted-Abusive_Language_Online.git\n"
          ],
          "name": "stdout"
        }
      ]
    },
    {
      "cell_type": "markdown",
      "metadata": {
        "id": "ZhWzw5Rtajm7",
        "colab_type": "text"
      },
      "source": [
        "## Prepare logging file"
      ]
    },
    {
      "cell_type": "code",
      "metadata": {
        "id": "Vggd1S4jZA6R",
        "colab_type": "code",
        "outputId": "698a7c13-87cd-40c0-e7a9-6fe5a23935c7",
        "colab": {
          "base_uri": "https://localhost:8080/",
          "height": 51
        }
      },
      "source": [
        "def init_logger(log_file):\n",
        "    if not os.path.exists(log_file):\n",
        "        os.makedirs(os.path.dirname(log_file))\n",
        "\n",
        "    log = logging.getLogger('')\n",
        "    log.setLevel(logging.INFO)\n",
        "    output_format = logging.Formatter(fmt='%(asctime)s %(levelname)-8s %(message)s', datefmt='%Y-%m-%d %H:%M:%S')\n",
        "    std_out_handler = logging.StreamHandler(sys.stdout)\n",
        "    std_out_handler.setFormatter(output_format)\n",
        "    logging.getLogger().addHandler(std_out_handler)\n",
        "    file_handler = logging.handlers.RotatingFileHandler(log_file, maxBytes=(1048576*5), backupCount=7)\n",
        "    file_handler.setFormatter(output_format)\n",
        "    logging.getLogger().addHandler(file_handler)\n",
        "\n",
        "init_logger(PROJECT_PATH + '/log.txt')\n",
        "logging.info('=============start2=================')\n",
        "logging.info('logging file prepared...')"
      ],
      "execution_count": 5,
      "outputs": [
        {
          "output_type": "stream",
          "text": [
            "2020-05-30 18:48:27 INFO     =============start2=================\n",
            "2020-05-30 18:48:27 INFO     logging file prepared...\n"
          ],
          "name": "stdout"
        }
      ]
    },
    {
      "cell_type": "markdown",
      "metadata": {
        "id": "7FwYT4vTyCzs",
        "colab_type": "text"
      },
      "source": [
        "## load data"
      ]
    },
    {
      "cell_type": "code",
      "metadata": {
        "id": "AOtNdORiaKqJ",
        "colab_type": "code",
        "outputId": "f0bc5d65-5c66-4df5-dd78-59415fdda3a5",
        "colab": {
          "base_uri": "https://localhost:8080/",
          "height": 221
        }
      },
      "source": [
        "def load_data():\n",
        "    logging.info('loading the dataset...')\n",
        "    train_df = pd.read_csv(PROJECT_PATH + '/project_data/train.tsv', sep=\"\\t\")\n",
        "    val_df = pd.read_csv(PROJECT_PATH + '/project_data/dev.tsv', sep=\"\\t\")\n",
        "    test_df = pd.read_csv(PROJECT_PATH + '/project_data/test.tsv', sep=\"\\t\")\n",
        "    \n",
        "    # shape of df, column names\n",
        "    logging.info('Train shape : ' + str(train_df.shape)) # 'text', 'label', 'category'\n",
        "    logging.info('Val shape: ' + str(val_df.shape))\n",
        "    logging.info('Test shape: ' + str(test_df.shape))\n",
        "    \n",
        "    logging.info('train_df.columns: ' + train_df.columns)\n",
        "    logging.info('val_df.columns: ' + val_df.columns)\n",
        "    logging.info('test_df.columns: ' + test_df.columns)\n",
        "\n",
        "    return train_df, val_df, test_df\n",
        "\n",
        "train_df, val_df, test_df = load_data()"
      ],
      "execution_count": 6,
      "outputs": [
        {
          "output_type": "stream",
          "text": [
            "2020-05-30 18:48:30 INFO     loading the dataset...\n",
            "2020-05-30 18:48:31 INFO     Train shape : (10592, 3)\n",
            "2020-05-30 18:48:31 INFO     Val shape: (1324, 3)\n",
            "2020-05-30 18:48:31 INFO     Test shape: (1324, 1)\n",
            "2020-05-30 18:48:31 INFO     NumExpr defaulting to 2 threads.\n",
            "2020-05-30 18:48:31 INFO     Index(['train_df.columns: text', 'train_df.columns: label',\n",
            "       'train_df.columns: category'],\n",
            "      dtype='object')\n",
            "2020-05-30 18:48:31 INFO     Index(['val_df.columns: text', 'val_df.columns: label',\n",
            "       'val_df.columns: category'],\n",
            "      dtype='object')\n",
            "2020-05-30 18:48:31 INFO     Index(['test_df.columns: text'], dtype='object')\n"
          ],
          "name": "stdout"
        }
      ]
    },
    {
      "cell_type": "code",
      "metadata": {
        "id": "MO55Z3UaXUsR",
        "colab_type": "code",
        "outputId": "5079d7f3-7ea3-4270-aab8-d9e9d2103457",
        "colab": {
          "base_uri": "https://localhost:8080/",
          "height": 204
        }
      },
      "source": [
        "train_df.head()"
      ],
      "execution_count": 7,
      "outputs": [
        {
          "output_type": "execute_result",
          "data": {
            "text/html": [
              "<div>\n",
              "<style scoped>\n",
              "    .dataframe tbody tr th:only-of-type {\n",
              "        vertical-align: middle;\n",
              "    }\n",
              "\n",
              "    .dataframe tbody tr th {\n",
              "        vertical-align: top;\n",
              "    }\n",
              "\n",
              "    .dataframe thead th {\n",
              "        text-align: right;\n",
              "    }\n",
              "</style>\n",
              "<table border=\"1\" class=\"dataframe\">\n",
              "  <thead>\n",
              "    <tr style=\"text-align: right;\">\n",
              "      <th></th>\n",
              "      <th>text</th>\n",
              "      <th>label</th>\n",
              "      <th>category</th>\n",
              "    </tr>\n",
              "  </thead>\n",
              "  <tbody>\n",
              "    <tr>\n",
              "      <th>0</th>\n",
              "      <td>@USER @USER You are an embarrassing citizen!!</td>\n",
              "      <td>OFF</td>\n",
              "      <td>TIN</td>\n",
              "    </tr>\n",
              "    <tr>\n",
              "      <th>1</th>\n",
              "      <td>@USER Seems hard to believe that you stood nex...</td>\n",
              "      <td>OFF</td>\n",
              "      <td>TIN</td>\n",
              "    </tr>\n",
              "    <tr>\n",
              "      <th>2</th>\n",
              "      <td>@USER @USER @USER Wow !!! no wonder the Libera...</td>\n",
              "      <td>OFF</td>\n",
              "      <td>TIN</td>\n",
              "    </tr>\n",
              "    <tr>\n",
              "      <th>3</th>\n",
              "      <td>@USER @USER And not all idiots grandstands lik...</td>\n",
              "      <td>OFF</td>\n",
              "      <td>TIN</td>\n",
              "    </tr>\n",
              "    <tr>\n",
              "      <th>4</th>\n",
              "      <td>@USER Bring on the hypocrite gungrabber. MAGA</td>\n",
              "      <td>OFF</td>\n",
              "      <td>TIN</td>\n",
              "    </tr>\n",
              "  </tbody>\n",
              "</table>\n",
              "</div>"
            ],
            "text/plain": [
              "                                                text label category\n",
              "0      @USER @USER You are an embarrassing citizen!!   OFF      TIN\n",
              "1  @USER Seems hard to believe that you stood nex...   OFF      TIN\n",
              "2  @USER @USER @USER Wow !!! no wonder the Libera...   OFF      TIN\n",
              "3  @USER @USER And not all idiots grandstands lik...   OFF      TIN\n",
              "4      @USER Bring on the hypocrite gungrabber. MAGA   OFF      TIN"
            ]
          },
          "metadata": {
            "tags": []
          },
          "execution_count": 7
        }
      ]
    },
    {
      "cell_type": "markdown",
      "metadata": {
        "id": "ApWoZxt1dc-a",
        "colab_type": "text"
      },
      "source": [
        "**Attributes in data:**\n",
        "\n",
        "\n",
        "***Trainning data:***  (10592, 3) \\\\\n",
        "\n",
        "* **text:** \\\\\n",
        "tweet content\n",
        "\n",
        "* **label:** \\\\\n",
        "1.   (NOT) Not Offensive - This post does not contain offense or profanity\n",
        "2.   (OFF) Offensive - This post contains offensive language or a targeted (veiled or direct) offense\n",
        "\n",
        "* **category:** (if label is 'OFF') \\\\\n",
        "1.   (TIN) Targeted Insult and Threats - A post containing an insult or threat to an individual, a group, or others\n",
        "2.   (UNT) Untargeted - A post containing non-targeted profanity and swearing.\n",
        "\n",
        "***Validation data:***  (1324, 3) \\\\\n",
        "\n",
        "***Testing data***:  'text' (1324, 1) \\\\\n",
        "* **text**"
      ]
    },
    {
      "cell_type": "markdown",
      "metadata": {
        "id": "oEJfFD-hkhu5",
        "colab_type": "text"
      },
      "source": [
        "## Data cleaning"
      ]
    },
    {
      "cell_type": "code",
      "metadata": {
        "id": "-g52M8qtkk36",
        "colab_type": "code",
        "colab": {}
      },
      "source": [
        "def data_cleaning(train_df, val_df, test_df):\n",
        "    # shuffle data\n",
        "    train_df = train_df.sample(frac=1, random_state=2020).reset_index(drop=True)\n",
        "    \n",
        "    # lo lowercae\n",
        "    train_df['text'] = train_df['text'].str.lower()\n",
        "    val_df['text'] = val_df['text'].str.lower()\n",
        "    test_df['text'] = test_df['text'].str.lower()\n",
        "\n",
        "    # delete \"noise words\"\n",
        "    noise = [\"url\",\"user\",\"@\",\"&amp;\",\"#\",\"-\",'.',\"!\",\"?\",\"rt\",\"dm\",\"retweet\",\"rt\",\"dm\"]\n",
        "    for WORD in noise:\n",
        "        train_df['text'] = train_df['text'].str.replace(WORD, '')\n",
        "        val_df['text'] = val_df['text'].str.replace(WORD, '')\n",
        "        test_df['text'] = test_df['text'].str.replace(WORD, '')\n",
        "\n",
        "    # change label to 0/a\n",
        "    train_df['label'] = train_df['label'].map({'OFF': 1, 'NOT': 0})\n",
        "    val_df['label'] = val_df['label'].map({'OFF': 1, 'NOT': 0})\n",
        "\n",
        "    # one-hot encoding of category\n",
        "    #train_df = pd.concat([train_df,pd.get_dummies(train_df['category'], prefix='category')],axis=1)\n",
        "    #train_df.drop(['category'],axis=1, inplace=True)\n",
        "    \n",
        "    #val_df = pd.concat([val_df,pd.get_dummies(val_df['category'], prefix='category')],axis=1)\n",
        "    #val_df.drop(['category'],axis=1, inplace=True)\n",
        "  \n",
        "    train_df['category'] = train_df['category'].map({'TIN': 1, 'UNT': 0},na_action='ignore')\n",
        "    val_df['category'] = val_df['category'].map({'TIN': 1, 'UNT': 0}, na_action='ignore')\n",
        "    return train_df, val_df, test_df\n",
        "\n",
        "train_df, val_df, test_df = data_cleaning(train_df, val_df, test_df)\n"
      ],
      "execution_count": 0,
      "outputs": []
    },
    {
      "cell_type": "code",
      "metadata": {
        "id": "muL8B6aXSu3R",
        "colab_type": "code",
        "outputId": "a00cd592-f085-42af-93fa-17a4590fa83f",
        "colab": {
          "base_uri": "https://localhost:8080/",
          "height": 359
        }
      },
      "source": [
        "val_df.head(10)"
      ],
      "execution_count": 9,
      "outputs": [
        {
          "output_type": "execute_result",
          "data": {
            "text/html": [
              "<div>\n",
              "<style scoped>\n",
              "    .dataframe tbody tr th:only-of-type {\n",
              "        vertical-align: middle;\n",
              "    }\n",
              "\n",
              "    .dataframe tbody tr th {\n",
              "        vertical-align: top;\n",
              "    }\n",
              "\n",
              "    .dataframe thead th {\n",
              "        text-align: right;\n",
              "    }\n",
              "</style>\n",
              "<table border=\"1\" class=\"dataframe\">\n",
              "  <thead>\n",
              "    <tr style=\"text-align: right;\">\n",
              "      <th></th>\n",
              "      <th>text</th>\n",
              "      <th>label</th>\n",
              "      <th>category</th>\n",
              "    </tr>\n",
              "  </thead>\n",
              "  <tbody>\n",
              "    <tr>\n",
              "      <th>0</th>\n",
              "      <td>she should ask a few native americans what th...</td>\n",
              "      <td>1</td>\n",
              "      <td>0.0</td>\n",
              "    </tr>\n",
              "    <tr>\n",
              "      <th>1</th>\n",
              "      <td>go home you’re drunk  maga trump2020 👊🇺🇸👊</td>\n",
              "      <td>1</td>\n",
              "      <td>1.0</td>\n",
              "    </tr>\n",
              "    <tr>\n",
              "      <th>2</th>\n",
              "      <td>amazon is investigating chinese employees who ...</td>\n",
              "      <td>0</td>\n",
              "      <td>NaN</td>\n",
              "    </tr>\n",
              "    <tr>\n",
              "      <th>3</th>\n",
              "      <td>someone should'vetaken\" this piece of shit to...</td>\n",
              "      <td>1</td>\n",
              "      <td>0.0</td>\n",
              "    </tr>\n",
              "    <tr>\n",
              "      <th>4</th>\n",
              "      <td>obama wanted liberals  illegals to move into...</td>\n",
              "      <td>0</td>\n",
              "      <td>NaN</td>\n",
              "    </tr>\n",
              "    <tr>\n",
              "      <th>5</th>\n",
              "      <td>liberals are all kookoo</td>\n",
              "      <td>1</td>\n",
              "      <td>1.0</td>\n",
              "    </tr>\n",
              "    <tr>\n",
              "      <th>6</th>\n",
              "      <td>oh noes tough shit</td>\n",
              "      <td>1</td>\n",
              "      <td>0.0</td>\n",
              "    </tr>\n",
              "    <tr>\n",
              "      <th>7</th>\n",
              "      <td>was literally just talking about this lol all...</td>\n",
              "      <td>1</td>\n",
              "      <td>1.0</td>\n",
              "    </tr>\n",
              "    <tr>\n",
              "      <th>8</th>\n",
              "      <td>buy more icecream</td>\n",
              "      <td>0</td>\n",
              "      <td>NaN</td>\n",
              "    </tr>\n",
              "    <tr>\n",
              "      <th>9</th>\n",
              "      <td>canada doesn’t need another cuck we already h...</td>\n",
              "      <td>1</td>\n",
              "      <td>1.0</td>\n",
              "    </tr>\n",
              "  </tbody>\n",
              "</table>\n",
              "</div>"
            ],
            "text/plain": [
              "                                                text  label  category\n",
              "0   she should ask a few native americans what th...      1       0.0\n",
              "1         go home you’re drunk  maga trump2020 👊🇺🇸👊       1       1.0\n",
              "2  amazon is investigating chinese employees who ...      0       NaN\n",
              "3   someone should'vetaken\" this piece of shit to...      1       0.0\n",
              "4    obama wanted liberals  illegals to move into...      0       NaN\n",
              "5                           liberals are all kookoo       1       1.0\n",
              "6                                 oh noes tough shit      1       0.0\n",
              "7   was literally just talking about this lol all...      1       1.0\n",
              "8                                  buy more icecream      0       NaN\n",
              "9   canada doesn’t need another cuck we already h...      1       1.0"
            ]
          },
          "metadata": {
            "tags": []
          },
          "execution_count": 9
        }
      ]
    },
    {
      "cell_type": "code",
      "metadata": {
        "id": "47Gv6RyCnFA2",
        "colab_type": "code",
        "colab": {}
      },
      "source": [
        "train_df=train_df[train_df.label !=0]"
      ],
      "execution_count": 0,
      "outputs": []
    },
    {
      "cell_type": "code",
      "metadata": {
        "id": "ixMQAEB_nFPp",
        "colab_type": "code",
        "outputId": "99c65a22-0475-436e-e116-7bbc0875b087",
        "colab": {
          "base_uri": "https://localhost:8080/",
          "height": 359
        }
      },
      "source": [
        "train_df.head(10)"
      ],
      "execution_count": 11,
      "outputs": [
        {
          "output_type": "execute_result",
          "data": {
            "text/html": [
              "<div>\n",
              "<style scoped>\n",
              "    .dataframe tbody tr th:only-of-type {\n",
              "        vertical-align: middle;\n",
              "    }\n",
              "\n",
              "    .dataframe tbody tr th {\n",
              "        vertical-align: top;\n",
              "    }\n",
              "\n",
              "    .dataframe thead th {\n",
              "        text-align: right;\n",
              "    }\n",
              "</style>\n",
              "<table border=\"1\" class=\"dataframe\">\n",
              "  <thead>\n",
              "    <tr style=\"text-align: right;\">\n",
              "      <th></th>\n",
              "      <th>text</th>\n",
              "      <th>label</th>\n",
              "      <th>category</th>\n",
              "    </tr>\n",
              "  </thead>\n",
              "  <tbody>\n",
              "    <tr>\n",
              "      <th>0</th>\n",
              "      <td>didn't this trashy thing sleep her way to the...</td>\n",
              "      <td>1</td>\n",
              "      <td>1.0</td>\n",
              "    </tr>\n",
              "    <tr>\n",
              "      <th>1</th>\n",
              "      <td>gfy the nfl should get no protection from th...</td>\n",
              "      <td>1</td>\n",
              "      <td>1.0</td>\n",
              "    </tr>\n",
              "    <tr>\n",
              "      <th>10</th>\n",
              "      <td>👀 sitting here thinking he has a killer porn ...</td>\n",
              "      <td>1</td>\n",
              "      <td>0.0</td>\n",
              "    </tr>\n",
              "    <tr>\n",
              "      <th>13</th>\n",
              "      <td>all trump's and pense 2020 merch is being made...</td>\n",
              "      <td>1</td>\n",
              "      <td>1.0</td>\n",
              "    </tr>\n",
              "    <tr>\n",
              "      <th>16</th>\n",
              "      <td>gun control now enough is enough</td>\n",
              "      <td>1</td>\n",
              "      <td>0.0</td>\n",
              "    </tr>\n",
              "    <tr>\n",
              "      <th>17</th>\n",
              "      <td>you're full of s*** it's the liberals paid by...</td>\n",
              "      <td>1</td>\n",
              "      <td>1.0</td>\n",
              "    </tr>\n",
              "    <tr>\n",
              "      <th>20</th>\n",
              "      <td>liberals are addicted to fake news  chris is ...</td>\n",
              "      <td>1</td>\n",
              "      <td>1.0</td>\n",
              "    </tr>\n",
              "    <tr>\n",
              "      <th>23</th>\n",
              "      <td>any texan that would grant automatic citizens...</td>\n",
              "      <td>1</td>\n",
              "      <td>1.0</td>\n",
              "    </tr>\n",
              "    <tr>\n",
              "      <th>24</th>\n",
              "      <td>yeah he’s very immature  can dish out critic...</td>\n",
              "      <td>1</td>\n",
              "      <td>1.0</td>\n",
              "    </tr>\n",
              "    <tr>\n",
              "      <th>26</th>\n",
              "      <td>yoo our dogs should totally fuck</td>\n",
              "      <td>1</td>\n",
              "      <td>1.0</td>\n",
              "    </tr>\n",
              "  </tbody>\n",
              "</table>\n",
              "</div>"
            ],
            "text/plain": [
              "                                                 text  label  category\n",
              "0    didn't this trashy thing sleep her way to the...      1       1.0\n",
              "1     gfy the nfl should get no protection from th...      1       1.0\n",
              "10   👀 sitting here thinking he has a killer porn ...      1       0.0\n",
              "13  all trump's and pense 2020 merch is being made...      1       1.0\n",
              "16                   gun control now enough is enough      1       0.0\n",
              "17   you're full of s*** it's the liberals paid by...      1       1.0\n",
              "20   liberals are addicted to fake news  chris is ...      1       1.0\n",
              "23   any texan that would grant automatic citizens...      1       1.0\n",
              "24    yeah he’s very immature  can dish out critic...      1       1.0\n",
              "26                   yoo our dogs should totally fuck      1       1.0"
            ]
          },
          "metadata": {
            "tags": []
          },
          "execution_count": 11
        }
      ]
    },
    {
      "cell_type": "code",
      "metadata": {
        "id": "f1MwKwmAoRIF",
        "colab_type": "code",
        "colab": {}
      },
      "source": [
        "val_df=val_df[val_df.label !=0]\n"
      ],
      "execution_count": 0,
      "outputs": []
    },
    {
      "cell_type": "code",
      "metadata": {
        "id": "JxFJ4WnLo9YK",
        "colab_type": "code",
        "outputId": "057f3e28-c6d2-429f-cbfe-8648c7ba7653",
        "colab": {
          "base_uri": "https://localhost:8080/",
          "height": 359
        }
      },
      "source": [
        "val_df.head(10)"
      ],
      "execution_count": 13,
      "outputs": [
        {
          "output_type": "execute_result",
          "data": {
            "text/html": [
              "<div>\n",
              "<style scoped>\n",
              "    .dataframe tbody tr th:only-of-type {\n",
              "        vertical-align: middle;\n",
              "    }\n",
              "\n",
              "    .dataframe tbody tr th {\n",
              "        vertical-align: top;\n",
              "    }\n",
              "\n",
              "    .dataframe thead th {\n",
              "        text-align: right;\n",
              "    }\n",
              "</style>\n",
              "<table border=\"1\" class=\"dataframe\">\n",
              "  <thead>\n",
              "    <tr style=\"text-align: right;\">\n",
              "      <th></th>\n",
              "      <th>text</th>\n",
              "      <th>label</th>\n",
              "      <th>category</th>\n",
              "    </tr>\n",
              "  </thead>\n",
              "  <tbody>\n",
              "    <tr>\n",
              "      <th>0</th>\n",
              "      <td>she should ask a few native americans what th...</td>\n",
              "      <td>1</td>\n",
              "      <td>0.0</td>\n",
              "    </tr>\n",
              "    <tr>\n",
              "      <th>1</th>\n",
              "      <td>go home you’re drunk  maga trump2020 👊🇺🇸👊</td>\n",
              "      <td>1</td>\n",
              "      <td>1.0</td>\n",
              "    </tr>\n",
              "    <tr>\n",
              "      <th>3</th>\n",
              "      <td>someone should'vetaken\" this piece of shit to...</td>\n",
              "      <td>1</td>\n",
              "      <td>0.0</td>\n",
              "    </tr>\n",
              "    <tr>\n",
              "      <th>5</th>\n",
              "      <td>liberals are all kookoo</td>\n",
              "      <td>1</td>\n",
              "      <td>1.0</td>\n",
              "    </tr>\n",
              "    <tr>\n",
              "      <th>6</th>\n",
              "      <td>oh noes tough shit</td>\n",
              "      <td>1</td>\n",
              "      <td>0.0</td>\n",
              "    </tr>\n",
              "    <tr>\n",
              "      <th>7</th>\n",
              "      <td>was literally just talking about this lol all...</td>\n",
              "      <td>1</td>\n",
              "      <td>1.0</td>\n",
              "    </tr>\n",
              "    <tr>\n",
              "      <th>9</th>\n",
              "      <td>canada doesn’t need another cuck we already h...</td>\n",
              "      <td>1</td>\n",
              "      <td>1.0</td>\n",
              "    </tr>\n",
              "    <tr>\n",
              "      <th>12</th>\n",
              "      <td>you are a lying corrupt traitor nobody wants ...</td>\n",
              "      <td>1</td>\n",
              "      <td>1.0</td>\n",
              "    </tr>\n",
              "    <tr>\n",
              "      <th>19</th>\n",
              "      <td>gun control that is all these kids are aski...</td>\n",
              "      <td>1</td>\n",
              "      <td>1.0</td>\n",
              "    </tr>\n",
              "    <tr>\n",
              "      <th>20</th>\n",
              "      <td>lol   throwing the bullshit flag on such n...</td>\n",
              "      <td>1</td>\n",
              "      <td>1.0</td>\n",
              "    </tr>\n",
              "  </tbody>\n",
              "</table>\n",
              "</div>"
            ],
            "text/plain": [
              "                                                 text  label  category\n",
              "0    she should ask a few native americans what th...      1       0.0\n",
              "1          go home you’re drunk  maga trump2020 👊🇺🇸👊       1       1.0\n",
              "3    someone should'vetaken\" this piece of shit to...      1       0.0\n",
              "5                            liberals are all kookoo       1       1.0\n",
              "6                                  oh noes tough shit      1       0.0\n",
              "7    was literally just talking about this lol all...      1       1.0\n",
              "9    canada doesn’t need another cuck we already h...      1       1.0\n",
              "12   you are a lying corrupt traitor nobody wants ...      1       1.0\n",
              "19     gun control that is all these kids are aski...      1       1.0\n",
              "20      lol   throwing the bullshit flag on such n...      1       1.0"
            ]
          },
          "metadata": {
            "tags": []
          },
          "execution_count": 13
        }
      ]
    },
    {
      "cell_type": "code",
      "metadata": {
        "id": "Y2_xSflLI7kG",
        "colab_type": "code",
        "outputId": "cbfa1b66-5b44-4c00-e728-a466821129e6",
        "colab": {
          "base_uri": "https://localhost:8080/",
          "height": 204
        }
      },
      "source": [
        "test_df.head()"
      ],
      "execution_count": 14,
      "outputs": [
        {
          "output_type": "execute_result",
          "data": {
            "text/html": [
              "<div>\n",
              "<style scoped>\n",
              "    .dataframe tbody tr th:only-of-type {\n",
              "        vertical-align: middle;\n",
              "    }\n",
              "\n",
              "    .dataframe tbody tr th {\n",
              "        vertical-align: top;\n",
              "    }\n",
              "\n",
              "    .dataframe thead th {\n",
              "        text-align: right;\n",
              "    }\n",
              "</style>\n",
              "<table border=\"1\" class=\"dataframe\">\n",
              "  <thead>\n",
              "    <tr style=\"text-align: right;\">\n",
              "      <th></th>\n",
              "      <th>text</th>\n",
              "    </tr>\n",
              "  </thead>\n",
              "  <tbody>\n",
              "    <tr>\n",
              "      <th>0</th>\n",
              "      <td>liberals got to crap all over everything</td>\n",
              "    </tr>\n",
              "    <tr>\n",
              "      <th>1</th>\n",
              "      <td>...</td>\n",
              "    </tr>\n",
              "    <tr>\n",
              "      <th>2</th>\n",
              "      <td>the liberals same old playbook it is so o...</td>\n",
              "    </tr>\n",
              "    <tr>\n",
              "      <th>3</th>\n",
              "      <td>all you do is lie all congress does us lie  maga</td>\n",
              "    </tr>\n",
              "    <tr>\n",
              "      <th>4</th>\n",
              "      <td>never nigga 💀💀</td>\n",
              "    </tr>\n",
              "  </tbody>\n",
              "</table>\n",
              "</div>"
            ],
            "text/plain": [
              "                                                text\n",
              "0           liberals got to crap all over everything\n",
              "1                                                ...\n",
              "2       the liberals same old playbook it is so o...\n",
              "3   all you do is lie all congress does us lie  maga\n",
              "4                                     never nigga 💀💀"
            ]
          },
          "metadata": {
            "tags": []
          },
          "execution_count": 14
        }
      ]
    },
    {
      "cell_type": "markdown",
      "metadata": {
        "id": "VwBBjRW0-Ubf",
        "colab_type": "text"
      },
      "source": [
        "Check the content of abusive text"
      ]
    },
    {
      "cell_type": "code",
      "metadata": {
        "id": "Q6em0dtx8D3I",
        "colab_type": "code",
        "outputId": "c9eee5c9-df44-4496-8b2f-55dc8f70afc5",
        "colab": {
          "base_uri": "https://localhost:8080/",
          "height": 173
        }
      },
      "source": [
        "abusive_df = train_df.loc[train_df['label'] == 1]\n",
        "# pd.set_option('display.max_rows', None)\n",
        "# pd.set_option('display.width', None)\n",
        "pd.set_option('display.max_colwidth', -1)\n",
        "abusive_df['text'].head(5)"
      ],
      "execution_count": 15,
      "outputs": [
        {
          "output_type": "stream",
          "text": [
            "/usr/local/lib/python3.6/dist-packages/ipykernel_launcher.py:4: FutureWarning: Passing a negative integer is deprecated in version 1.0 and will not be supported in future version. Instead, use None to not limit the column width.\n",
            "  after removing the cwd from sys.path.\n"
          ],
          "name": "stderr"
        },
        {
          "output_type": "execute_result",
          "data": {
            "text/plain": [
              "0      didn't this trashy thing sleep her way to the top with married men                                                                 \n",
              "1       gfy the nfl should get no protection from the policeand no suppo from our militarythe league will slowly die on this road of shame\n",
              "10     👀 sitting here thinking he has a killer porn stache                                                                                \n",
              "13    all trump's and pense 2020 merch is being made is china and not the usa    maga    votethemout2018  trumpsarmy                      \n",
              "16     gun control now enough is enough                                                                                                   \n",
              "Name: text, dtype: object"
            ]
          },
          "metadata": {
            "tags": []
          },
          "execution_count": 15
        }
      ]
    },
    {
      "cell_type": "markdown",
      "metadata": {
        "id": "Plq9OgoGtqb8",
        "colab_type": "text"
      },
      "source": [
        "## Data distribution and visualization "
      ]
    },
    {
      "cell_type": "code",
      "metadata": {
        "id": "rKV_v3kvlmg7",
        "colab_type": "code",
        "outputId": "868dbd7f-9cef-4f1c-c504-6f64bb807fec",
        "colab": {
          "base_uri": "https://localhost:8080/",
          "height": 979
        }
      },
      "source": [
        "# count how many letters in a sentence\n",
        "def label_distribution(train_df):\n",
        "    #  length of text\n",
        "    count = train_df['text'].str.split().apply(len).value_counts()\n",
        "    count.sort_index(inplace=True)\n",
        "    count.index = count.index.astype(str) + ' words:'\n",
        "    # logging.info(count[0:5])\n",
        "    # logging.info(count[-5:])\n",
        "    plt.plot(range(len(count)), count, color='blue')\n",
        "    plt.title(\"Text length\")\n",
        "    plt.show()\n",
        "    # label distribution\n",
        "    logging.info('number of label = 1 : ' + str((train_df['label'] != 0).sum()))\n",
        "    logging.info('number of category_TIN = 1: ' + str((train_df['category_TIN'] != 0).sum()))\n",
        "    logging.info('number of category_UNT = 1: ' + str((train_df['category_UNT'] != 0).sum()))\n",
        "\n",
        "    # plot histogram\n",
        "    train_df['label'].plot.hist(bins=2, title='label distribution')\n",
        "    plt.show()\n",
        "\n",
        "label_distribution(train_df)\n"
      ],
      "execution_count": 16,
      "outputs": [
        {
          "output_type": "display_data",
          "data": {
            "image/png": "[encoded data removed]",
            "text/plain": [
              "<Figure size 432x288 with 1 Axes>"
            ]
          },
          "metadata": {
            "tags": [],
            "needs_background": "light"
          }
        },
        {
          "output_type": "stream",
          "text": [
            "2020-05-30 18:49:07 INFO     number of label = 1 : 3520\n"
          ],
          "name": "stdout"
        },
        {
          "output_type": "error",
          "ename": "KeyError",
          "evalue": "ignored",
          "traceback": [
            "\u001b[0;31m---------------------------------------------------------------------------\u001b[0m",
            "\u001b[0;31mKeyError\u001b[0m                                  Traceback (most recent call last)",
            "\u001b[0;32m/usr/local/lib/python3.6/dist-packages/pandas/core/indexes/base.py\u001b[0m in \u001b[0;36mget_loc\u001b[0;34m(self, key, method, tolerance)\u001b[0m\n\u001b[1;32m   2645\u001b[0m             \u001b[0;32mtry\u001b[0m\u001b[0;34m:\u001b[0m\u001b[0;34m\u001b[0m\u001b[0;34m\u001b[0m\u001b[0m\n\u001b[0;32m-> 2646\u001b[0;31m                 \u001b[0;32mreturn\u001b[0m \u001b[0mself\u001b[0m\u001b[0;34m.\u001b[0m\u001b[0m_engine\u001b[0m\u001b[0;34m.\u001b[0m\u001b[0mget_loc\u001b[0m\u001b[0;34m(\u001b[0m\u001b[0mkey\u001b[0m\u001b[0;34m)\u001b[0m\u001b[0;34m\u001b[0m\u001b[0;34m\u001b[0m\u001b[0m\n\u001b[0m\u001b[1;32m   2647\u001b[0m             \u001b[0;32mexcept\u001b[0m \u001b[0mKeyError\u001b[0m\u001b[0;34m:\u001b[0m\u001b[0;34m\u001b[0m\u001b[0;34m\u001b[0m\u001b[0m\n",
            "\u001b[0;32mpandas/_libs/index.pyx\u001b[0m in \u001b[0;36mpandas._libs.index.IndexEngine.get_loc\u001b[0;34m()\u001b[0m\n",
            "\u001b[0;32mpandas/_libs/index.pyx\u001b[0m in \u001b[0;36mpandas._libs.index.IndexEngine.get_loc\u001b[0;34m()\u001b[0m\n",
            "\u001b[0;32mpandas/_libs/hashtable_class_helper.pxi\u001b[0m in \u001b[0;36mpandas._libs.hashtable.PyObjectHashTable.get_item\u001b[0;34m()\u001b[0m\n",
            "\u001b[0;32mpandas/_libs/hashtable_class_helper.pxi\u001b[0m in \u001b[0;36mpandas._libs.hashtable.PyObjectHashTable.get_item\u001b[0;34m()\u001b[0m\n",
            "\u001b[0;31mKeyError\u001b[0m: 'category_TIN'",
            "\nDuring handling of the above exception, another exception occurred:\n",
            "\u001b[0;31mKeyError\u001b[0m                                  Traceback (most recent call last)",
            "\u001b[0;32m<ipython-input-16-f3921ecf2778>\u001b[0m in \u001b[0;36m<module>\u001b[0;34m()\u001b[0m\n\u001b[1;32m     19\u001b[0m     \u001b[0mplt\u001b[0m\u001b[0;34m.\u001b[0m\u001b[0mshow\u001b[0m\u001b[0;34m(\u001b[0m\u001b[0;34m)\u001b[0m\u001b[0;34m\u001b[0m\u001b[0;34m\u001b[0m\u001b[0m\n\u001b[1;32m     20\u001b[0m \u001b[0;34m\u001b[0m\u001b[0m\n\u001b[0;32m---> 21\u001b[0;31m \u001b[0mlabel_distribution\u001b[0m\u001b[0;34m(\u001b[0m\u001b[0mtrain_df\u001b[0m\u001b[0;34m)\u001b[0m\u001b[0;34m\u001b[0m\u001b[0;34m\u001b[0m\u001b[0m\n\u001b[0m",
            "\u001b[0;32m<ipython-input-16-f3921ecf2778>\u001b[0m in \u001b[0;36mlabel_distribution\u001b[0;34m(train_df)\u001b[0m\n\u001b[1;32m     12\u001b[0m     \u001b[0;31m# label distribution\u001b[0m\u001b[0;34m\u001b[0m\u001b[0;34m\u001b[0m\u001b[0;34m\u001b[0m\u001b[0m\n\u001b[1;32m     13\u001b[0m     \u001b[0mlogging\u001b[0m\u001b[0;34m.\u001b[0m\u001b[0minfo\u001b[0m\u001b[0;34m(\u001b[0m\u001b[0;34m'number of label = 1 : '\u001b[0m \u001b[0;34m+\u001b[0m \u001b[0mstr\u001b[0m\u001b[0;34m(\u001b[0m\u001b[0;34m(\u001b[0m\u001b[0mtrain_df\u001b[0m\u001b[0;34m[\u001b[0m\u001b[0;34m'label'\u001b[0m\u001b[0;34m]\u001b[0m \u001b[0;34m!=\u001b[0m \u001b[0;36m0\u001b[0m\u001b[0;34m)\u001b[0m\u001b[0;34m.\u001b[0m\u001b[0msum\u001b[0m\u001b[0;34m(\u001b[0m\u001b[0;34m)\u001b[0m\u001b[0;34m)\u001b[0m\u001b[0;34m)\u001b[0m\u001b[0;34m\u001b[0m\u001b[0;34m\u001b[0m\u001b[0m\n\u001b[0;32m---> 14\u001b[0;31m     \u001b[0mlogging\u001b[0m\u001b[0;34m.\u001b[0m\u001b[0minfo\u001b[0m\u001b[0;34m(\u001b[0m\u001b[0;34m'number of category_TIN = 1: '\u001b[0m \u001b[0;34m+\u001b[0m \u001b[0mstr\u001b[0m\u001b[0;34m(\u001b[0m\u001b[0;34m(\u001b[0m\u001b[0mtrain_df\u001b[0m\u001b[0;34m[\u001b[0m\u001b[0;34m'category_TIN'\u001b[0m\u001b[0;34m]\u001b[0m \u001b[0;34m!=\u001b[0m \u001b[0;36m0\u001b[0m\u001b[0;34m)\u001b[0m\u001b[0;34m.\u001b[0m\u001b[0msum\u001b[0m\u001b[0;34m(\u001b[0m\u001b[0;34m)\u001b[0m\u001b[0;34m)\u001b[0m\u001b[0;34m)\u001b[0m\u001b[0;34m\u001b[0m\u001b[0;34m\u001b[0m\u001b[0m\n\u001b[0m\u001b[1;32m     15\u001b[0m     \u001b[0mlogging\u001b[0m\u001b[0;34m.\u001b[0m\u001b[0minfo\u001b[0m\u001b[0;34m(\u001b[0m\u001b[0;34m'number of category_UNT = 1: '\u001b[0m \u001b[0;34m+\u001b[0m \u001b[0mstr\u001b[0m\u001b[0;34m(\u001b[0m\u001b[0;34m(\u001b[0m\u001b[0mtrain_df\u001b[0m\u001b[0;34m[\u001b[0m\u001b[0;34m'category_UNT'\u001b[0m\u001b[0;34m]\u001b[0m \u001b[0;34m!=\u001b[0m \u001b[0;36m0\u001b[0m\u001b[0;34m)\u001b[0m\u001b[0;34m.\u001b[0m\u001b[0msum\u001b[0m\u001b[0;34m(\u001b[0m\u001b[0;34m)\u001b[0m\u001b[0;34m)\u001b[0m\u001b[0;34m)\u001b[0m\u001b[0;34m\u001b[0m\u001b[0;34m\u001b[0m\u001b[0m\n\u001b[1;32m     16\u001b[0m \u001b[0;34m\u001b[0m\u001b[0m\n",
            "\u001b[0;32m/usr/local/lib/python3.6/dist-packages/pandas/core/frame.py\u001b[0m in \u001b[0;36m__getitem__\u001b[0;34m(self, key)\u001b[0m\n\u001b[1;32m   2798\u001b[0m             \u001b[0;32mif\u001b[0m \u001b[0mself\u001b[0m\u001b[0;34m.\u001b[0m\u001b[0mcolumns\u001b[0m\u001b[0;34m.\u001b[0m\u001b[0mnlevels\u001b[0m \u001b[0;34m>\u001b[0m \u001b[0;36m1\u001b[0m\u001b[0;34m:\u001b[0m\u001b[0;34m\u001b[0m\u001b[0;34m\u001b[0m\u001b[0m\n\u001b[1;32m   2799\u001b[0m                 \u001b[0;32mreturn\u001b[0m \u001b[0mself\u001b[0m\u001b[0;34m.\u001b[0m\u001b[0m_getitem_multilevel\u001b[0m\u001b[0;34m(\u001b[0m\u001b[0mkey\u001b[0m\u001b[0;34m)\u001b[0m\u001b[0;34m\u001b[0m\u001b[0;34m\u001b[0m\u001b[0m\n\u001b[0;32m-> 2800\u001b[0;31m             \u001b[0mindexer\u001b[0m \u001b[0;34m=\u001b[0m \u001b[0mself\u001b[0m\u001b[0;34m.\u001b[0m\u001b[0mcolumns\u001b[0m\u001b[0;34m.\u001b[0m\u001b[0mget_loc\u001b[0m\u001b[0;34m(\u001b[0m\u001b[0mkey\u001b[0m\u001b[0;34m)\u001b[0m\u001b[0;34m\u001b[0m\u001b[0;34m\u001b[0m\u001b[0m\n\u001b[0m\u001b[1;32m   2801\u001b[0m             \u001b[0;32mif\u001b[0m \u001b[0mis_integer\u001b[0m\u001b[0;34m(\u001b[0m\u001b[0mindexer\u001b[0m\u001b[0;34m)\u001b[0m\u001b[0;34m:\u001b[0m\u001b[0;34m\u001b[0m\u001b[0;34m\u001b[0m\u001b[0m\n\u001b[1;32m   2802\u001b[0m                 \u001b[0mindexer\u001b[0m \u001b[0;34m=\u001b[0m \u001b[0;34m[\u001b[0m\u001b[0mindexer\u001b[0m\u001b[0;34m]\u001b[0m\u001b[0;34m\u001b[0m\u001b[0;34m\u001b[0m\u001b[0m\n",
            "\u001b[0;32m/usr/local/lib/python3.6/dist-packages/pandas/core/indexes/base.py\u001b[0m in \u001b[0;36mget_loc\u001b[0;34m(self, key, method, tolerance)\u001b[0m\n\u001b[1;32m   2646\u001b[0m                 \u001b[0;32mreturn\u001b[0m \u001b[0mself\u001b[0m\u001b[0;34m.\u001b[0m\u001b[0m_engine\u001b[0m\u001b[0;34m.\u001b[0m\u001b[0mget_loc\u001b[0m\u001b[0;34m(\u001b[0m\u001b[0mkey\u001b[0m\u001b[0;34m)\u001b[0m\u001b[0;34m\u001b[0m\u001b[0;34m\u001b[0m\u001b[0m\n\u001b[1;32m   2647\u001b[0m             \u001b[0;32mexcept\u001b[0m \u001b[0mKeyError\u001b[0m\u001b[0;34m:\u001b[0m\u001b[0;34m\u001b[0m\u001b[0;34m\u001b[0m\u001b[0m\n\u001b[0;32m-> 2648\u001b[0;31m                 \u001b[0;32mreturn\u001b[0m \u001b[0mself\u001b[0m\u001b[0;34m.\u001b[0m\u001b[0m_engine\u001b[0m\u001b[0;34m.\u001b[0m\u001b[0mget_loc\u001b[0m\u001b[0;34m(\u001b[0m\u001b[0mself\u001b[0m\u001b[0;34m.\u001b[0m\u001b[0m_maybe_cast_indexer\u001b[0m\u001b[0;34m(\u001b[0m\u001b[0mkey\u001b[0m\u001b[0;34m)\u001b[0m\u001b[0;34m)\u001b[0m\u001b[0;34m\u001b[0m\u001b[0;34m\u001b[0m\u001b[0m\n\u001b[0m\u001b[1;32m   2649\u001b[0m         \u001b[0mindexer\u001b[0m \u001b[0;34m=\u001b[0m \u001b[0mself\u001b[0m\u001b[0;34m.\u001b[0m\u001b[0mget_indexer\u001b[0m\u001b[0;34m(\u001b[0m\u001b[0;34m[\u001b[0m\u001b[0mkey\u001b[0m\u001b[0;34m]\u001b[0m\u001b[0;34m,\u001b[0m \u001b[0mmethod\u001b[0m\u001b[0;34m=\u001b[0m\u001b[0mmethod\u001b[0m\u001b[0;34m,\u001b[0m \u001b[0mtolerance\u001b[0m\u001b[0;34m=\u001b[0m\u001b[0mtolerance\u001b[0m\u001b[0;34m)\u001b[0m\u001b[0;34m\u001b[0m\u001b[0;34m\u001b[0m\u001b[0m\n\u001b[1;32m   2650\u001b[0m         \u001b[0;32mif\u001b[0m \u001b[0mindexer\u001b[0m\u001b[0;34m.\u001b[0m\u001b[0mndim\u001b[0m \u001b[0;34m>\u001b[0m \u001b[0;36m1\u001b[0m \u001b[0;32mor\u001b[0m \u001b[0mindexer\u001b[0m\u001b[0;34m.\u001b[0m\u001b[0msize\u001b[0m \u001b[0;34m>\u001b[0m \u001b[0;36m1\u001b[0m\u001b[0;34m:\u001b[0m\u001b[0;34m\u001b[0m\u001b[0;34m\u001b[0m\u001b[0m\n",
            "\u001b[0;32mpandas/_libs/index.pyx\u001b[0m in \u001b[0;36mpandas._libs.index.IndexEngine.get_loc\u001b[0;34m()\u001b[0m\n",
            "\u001b[0;32mpandas/_libs/index.pyx\u001b[0m in \u001b[0;36mpandas._libs.index.IndexEngine.get_loc\u001b[0;34m()\u001b[0m\n",
            "\u001b[0;32mpandas/_libs/hashtable_class_helper.pxi\u001b[0m in \u001b[0;36mpandas._libs.hashtable.PyObjectHashTable.get_item\u001b[0;34m()\u001b[0m\n",
            "\u001b[0;32mpandas/_libs/hashtable_class_helper.pxi\u001b[0m in \u001b[0;36mpandas._libs.hashtable.PyObjectHashTable.get_item\u001b[0;34m()\u001b[0m\n",
            "\u001b[0;31mKeyError\u001b[0m: 'category_TIN'"
          ]
        }
      ]
    },
    {
      "cell_type": "markdown",
      "metadata": {
        "id": "7kCi_RoLE8wP",
        "colab_type": "text"
      },
      "source": [
        "# Split data to X and y"
      ]
    },
    {
      "cell_type": "markdown",
      "metadata": {
        "id": "K8D_XrHPEaIV",
        "colab_type": "text"
      },
      "source": [
        "Split data to X and y"
      ]
    },
    {
      "cell_type": "code",
      "metadata": {
        "id": "vHcgmnATZA6k",
        "colab_type": "code",
        "outputId": "65d18dfe-06e4-4c4f-cf5b-2b2e750b67a9",
        "colab": {
          "base_uri": "https://localhost:8080/",
          "height": 51
        }
      },
      "source": [
        "def split_train_val(train_df, val_df, test_df):\n",
        "    logging.info('splitting X and y ...')\n",
        "    train_X = train_df[\"text\"].fillna(\"_na_\").values\n",
        "    val_X = val_df[\"text\"].fillna(\"_na_\").values\n",
        "    test_X = test_df[\"text\"].fillna(\"_na_\").values\n",
        "\n",
        "    train_y = train_df['category'].values\n",
        "    val_y = val_df['category'].values\n",
        "\n",
        "    logging.info('finished splitting X and y')\n",
        "    return train_X, val_X, test_X, train_y, val_y\n",
        "\n",
        "train_X, val_X, test_X, train_y, val_y = split_train_val(train_df, val_df, test_df)"
      ],
      "execution_count": 17,
      "outputs": [
        {
          "output_type": "stream",
          "text": [
            "2020-05-30 18:55:09 INFO     splitting X and y ...\n",
            "2020-05-30 18:55:09 INFO     finished splitting X and y\n"
          ],
          "name": "stdout"
        }
      ]
    },
    {
      "cell_type": "code",
      "metadata": {
        "id": "rdk4s-pCZA6o",
        "colab_type": "code",
        "outputId": "af352bd2-bb2f-49da-c08d-48c04c484838",
        "colab": {
          "base_uri": "https://localhost:8080/",
          "height": 51
        }
      },
      "source": [
        "print(train_X.shape, train_y.shape)\n",
        "print(val_X.shape, val_y.shape)"
      ],
      "execution_count": 18,
      "outputs": [
        {
          "output_type": "stream",
          "text": [
            "(3520,) (3520,)\n",
            "(440,) (440,)\n"
          ],
          "name": "stdout"
        }
      ]
    },
    {
      "cell_type": "markdown",
      "metadata": {
        "id": "feMxvs73D-gx",
        "colab_type": "text"
      },
      "source": [
        "Tokenize and padding each sentence, split datafram to attributes and labels"
      ]
    },
    {
      "cell_type": "code",
      "metadata": {
        "id": "tNGTN3kVZA6m",
        "colab_type": "code",
        "outputId": "89d8378d-a196-4fb0-daf8-76b0d671c661",
        "colab": {
          "base_uri": "https://localhost:8080/",
          "height": 68
        }
      },
      "source": [
        "# each word embedding to 300 dimension\n",
        "embed_size = 300\n",
        "# count of vocabulary words\n",
        "max_features = 50000\n",
        "# length of each sentences\n",
        "max_len = 70\n",
        "\n",
        "def token_sentence(train_X, val_X, test_X ):\n",
        "    logging.info('tokenizing sentence...')\n",
        "    tokenizer = Tokenizer(num_words=max_features)\n",
        "    tokenizer.fit_on_texts(list(train_X))\n",
        "    train_X = tokenizer.texts_to_sequences(train_X)\n",
        "    val_X = tokenizer.texts_to_sequences(val_X)\n",
        "    test_X = tokenizer.texts_to_sequences(test_X)\n",
        "\n",
        "    logging.info('padding sentence...')\n",
        "    train_X = pad_sequences(train_X, maxlen=max_len)\n",
        "    val_X = pad_sequences(val_X, maxlen=max_len)\n",
        "    test_X = pad_sequences(test_X, maxlen=max_len)\n",
        "\n",
        "    logging.info('all finished...')\n",
        "    return train_X, val_X, test_X, tokenizer\n",
        "\n",
        "train_X, val_X, test_X, tokenizer = token_sentence(train_X, val_X, test_X)\n"
      ],
      "execution_count": 19,
      "outputs": [
        {
          "output_type": "stream",
          "text": [
            "2020-05-30 18:55:16 INFO     tokenizing sentence...\n",
            "2020-05-30 18:55:16 INFO     padding sentence...\n",
            "2020-05-30 18:55:16 INFO     all finished...\n"
          ],
          "name": "stdout"
        }
      ]
    },
    {
      "cell_type": "code",
      "metadata": {
        "id": "NBUErOp_QEK9",
        "colab_type": "code",
        "outputId": "0123f769-eac5-4246-823b-8485a9c446da",
        "colab": {
          "base_uri": "https://localhost:8080/",
          "height": 34
        }
      },
      "source": [
        "train_X.shape"
      ],
      "execution_count": 20,
      "outputs": [
        {
          "output_type": "execute_result",
          "data": {
            "text/plain": [
              "(3520, 70)"
            ]
          },
          "metadata": {
            "tags": []
          },
          "execution_count": 20
        }
      ]
    },
    {
      "cell_type": "markdown",
      "metadata": {
        "id": "AenyxjOSMCDL",
        "colab_type": "text"
      },
      "source": [
        "# Train model"
      ]
    },
    {
      "cell_type": "markdown",
      "metadata": {
        "id": "QL2IvlW8qLJQ",
        "colab_type": "text"
      },
      "source": [
        "## Model1: base line"
      ]
    },
    {
      "cell_type": "code",
      "metadata": {
        "id": "0-uZ5egkQd58",
        "colab_type": "code",
        "colab": {}
      },
      "source": [
        "from sklearn import tree\n",
        "from sklearn.linear_model import LogisticRegression\n",
        "from sklearn.naive_bayes import GaussianNB\n",
        "\n",
        "from sklearn.metrics import accuracy_score, f1_score\n",
        "from sklearn.metrics import precision_score\n",
        "from sklearn.metrics import recall_score\n",
        "from sklearn.metrics import confusion_matrix\n",
        "\n",
        "# precision is the ratio tp / (tp + fp)\n",
        "# recall is the ratio tp / (tp + fn)\n",
        "# F1 = 2 * (precision * recall) / (precision + recall)"
      ],
      "execution_count": 0,
      "outputs": []
    },
    {
      "cell_type": "markdown",
      "metadata": {
        "id": "pYDgYFtKqO40",
        "colab_type": "text"
      },
      "source": [
        "### Decision tree"
      ]
    },
    {
      "cell_type": "code",
      "metadata": {
        "id": "odb9nd5WQST8",
        "colab_type": "code",
        "colab": {}
      },
      "source": [
        "def dt_model(train_X, train_y, val_X, cal_y):\n",
        "    dt_clf = tree.DecisionTreeClassifier()\n",
        "    dt_clf = dt_clf.fit(train_X, train_y)\n",
        "    pred_val_y = dt_clf.predict(val_X).reshape(-1,1)\n",
        "    \n",
        "    tn, fp, fn, tp = confusion_matrix( val_y,pred_val_y).ravel()\n",
        "    print('tn', tn, 'fp', fp, 'fn', fn, 'tp', tp)\n",
        "\n",
        "    dt_acc = accuracy_score( val_y,pred_val_y)\n",
        "    dt_precision = precision_score( val_y, pred_val_y)\n",
        "    dt_recall = recall_score( val_y,pred_val_y)\n",
        "    dt_f1_score = f1_score( val_y, pred_val_y)\n",
        "    return dt_acc, dt_precision, dt_recall, dt_f1_score "
      ],
      "execution_count": 0,
      "outputs": []
    },
    {
      "cell_type": "code",
      "metadata": {
        "id": "6NbcgKG1RcQL",
        "colab_type": "code",
        "outputId": "e5028f6a-e6fe-4dfe-ee9f-44cd8c2fae6d",
        "colab": {
          "base_uri": "https://localhost:8080/",
          "height": 71
        }
      },
      "source": [
        "dt_acc, dt_precision, dt_recall, dt_f1_score= dt_model(train_X, train_y, val_X, val_y)\n",
        "print('dt_acc: ', dt_acc, 'dt_precision: ', dt_precision, 'dt_recall: ',dt_recall,', dt_f1_score: ',  dt_f1_score)"
      ],
      "execution_count": 24,
      "outputs": [
        {
          "output_type": "stream",
          "text": [
            "tn 8 fp 36 fn 53 tp 343\n",
            "dt_acc:  0.7977272727272727 dt_precision:  0.9050131926121372 dt_recall:  0.8661616161616161 , dt_f1_score:  0.8851612903225807\n"
          ],
          "name": "stdout"
        }
      ]
    },
    {
      "cell_type": "markdown",
      "metadata": {
        "id": "63QJAP9RqSle",
        "colab_type": "text"
      },
      "source": [
        "### LogisticRegression"
      ]
    },
    {
      "cell_type": "code",
      "metadata": {
        "id": "J-FpKqDpWoiD",
        "colab_type": "code",
        "colab": {}
      },
      "source": [
        "def lr_model(train_X, train_y, val_X, cal_y):\n",
        "    lr_clf = LogisticRegression(random_state=0, max_iter=10000).fit(train_X, train_y)\n",
        "    pred_val_y = lr_clf.predict(val_X).reshape(-1,1)\n",
        "\n",
        "    tn, fp, fn, tp = confusion_matrix(val_y, pred_val_y,).ravel()\n",
        "    print('tn', tn, 'fp', fp, 'fn', fn, 'tp', tp)\n",
        "\n",
        "    lr_acc = accuracy_score( val_y,pred_val_y,)\n",
        "    lr_precision = precision_score( val_y,pred_val_y,)\n",
        "    lr_recall = recall_score( val_y,pred_val_y,)\n",
        "    lr_f1_score = f1_score( val_y,pred_val_y)\n",
        "    return lr_acc, lr_precision, lr_recall, lr_f1_score"
      ],
      "execution_count": 0,
      "outputs": []
    },
    {
      "cell_type": "code",
      "metadata": {
        "id": "W8B44OR0W_vF",
        "colab_type": "code",
        "outputId": "1e652cc7-0fdb-40a9-c82b-8974c471695e",
        "colab": {
          "base_uri": "https://localhost:8080/",
          "height": 68
        }
      },
      "source": [
        "lr_acc, lr_precision, lr_recall, lr_f1_score = lr_model(train_X, train_y, val_X, val_y)\n",
        "print('lr_precision', lr_precision, 'lr_recall', lr_recall)\n",
        "print('lr_acc: ', lr_acc, ', lr_f1_score: ',  lr_f1_score)"
      ],
      "execution_count": 27,
      "outputs": [
        {
          "output_type": "stream",
          "text": [
            "tn 0 fp 44 fn 0 tp 396\n",
            "lr_precision 0.9 lr_recall 1.0\n",
            "lr_acc:  0.9 , lr_f1_score:  0.9473684210526316\n"
          ],
          "name": "stdout"
        }
      ]
    },
    {
      "cell_type": "markdown",
      "metadata": {
        "id": "_i7BpltoqZza",
        "colab_type": "text"
      },
      "source": [
        "### GaussianNB"
      ]
    },
    {
      "cell_type": "code",
      "metadata": {
        "id": "_RDWko-oXO9N",
        "colab_type": "code",
        "colab": {}
      },
      "source": [
        "def gNB_model(train_X, train_y, val_X, cal_y):\n",
        "    gNB_clf = GaussianNB()\n",
        "    gNB_clf = gNB_clf.fit(train_X, train_y)\n",
        "    pred_val_y = gNB_clf.predict(val_X).reshape(-1,1)\n",
        "\n",
        "    tn, fp, fn, tp = confusion_matrix( val_y,pred_val_y).ravel()\n",
        "    print('tn', tn, 'fp', fp, 'fn', fn, 'tp', tp)\n",
        "\n",
        "    gNB_acc = accuracy_score( val_y,pred_val_y)\n",
        "    gNB_precision = precision_score(val_y,pred_val_y)\n",
        "    gNB_recall = recall_score( val_y,pred_val_y)\n",
        "    gNB_f1_score = f1_score( val_y,pred_val_y)\n",
        "    return gNB_acc, gNB_precision, gNB_recall, gNB_f1_score"
      ],
      "execution_count": 0,
      "outputs": []
    },
    {
      "cell_type": "code",
      "metadata": {
        "id": "heu4JLHgX164",
        "colab_type": "code",
        "outputId": "8a1a3912-3797-4c9b-c9fc-146194e09cc9",
        "colab": {
          "base_uri": "https://localhost:8080/",
          "height": 71
        }
      },
      "source": [
        "gNB_acc, gNB_precision, gNB_recall, gNB_f1_score = gNB_model(train_X, train_y, val_X, val_y)\n",
        "print('gNB_acc: ', gNB_acc, 'gNB_precision: ', gNB_precision, 'gNB_recall:', gNB_recall, 'gNB_f1_score: ',  gNB_f1_score)"
      ],
      "execution_count": 29,
      "outputs": [
        {
          "output_type": "stream",
          "text": [
            "tn 42 fp 2 fn 374 tp 22\n",
            "gNB_acc:  0.14545454545454545 gNB_precision:  0.9166666666666666 gNB_recall: 0.05555555555555555 gNB_f1_score:  0.10476190476190475\n"
          ],
          "name": "stdout"
        }
      ]
    },
    {
      "cell_type": "markdown",
      "metadata": {
        "id": "REnqEUw_kKI8",
        "colab_type": "text"
      },
      "source": [
        "## Model2 : LSTM + Without Pretrained Embeddings:"
      ]
    },
    {
      "cell_type": "code",
      "metadata": {
        "id": "G9wKqZveyapX",
        "colab_type": "code",
        "outputId": "2d57eb64-0de5-446d-8ba1-72c69a40d329",
        "colab": {
          "base_uri": "https://localhost:8080/",
          "height": 323
        }
      },
      "source": [
        "import tensorflow as tf\n",
        "from tensorflow.keras import layers\n",
        "\n",
        "model = tf.keras.Sequential()\n",
        "\n",
        "# Add an Embedding layer expecting input vocab of size 50000, and\n",
        "# output embedding dimension of size 300.\n",
        "model.add(layers.Embedding(input_dim=50000, output_dim=300))\n",
        "\n",
        "# Add a LSTM layer with 128 internal units.\n",
        "model.add(layers.LSTM(128))\n",
        "model.add(layers.Dense(10,activation=\"relu\"))\n",
        "model.add(layers.Dropout(0.2))\n",
        "model.add(layers.Dense(1, activation=\"sigmoid\"))\n",
        "\n",
        "model.summary()"
      ],
      "execution_count": 30,
      "outputs": [
        {
          "output_type": "stream",
          "text": [
            "Model: \"sequential\"\n",
            "_________________________________________________________________\n",
            "Layer (type)                 Output Shape              Param #   \n",
            "=================================================================\n",
            "embedding (Embedding)        (None, None, 300)         15000000  \n",
            "_________________________________________________________________\n",
            "lstm (LSTM)                  (None, 128)               219648    \n",
            "_________________________________________________________________\n",
            "dense (Dense)                (None, 10)                1290      \n",
            "_________________________________________________________________\n",
            "dropout (Dropout)            (None, 10)                0         \n",
            "_________________________________________________________________\n",
            "dense_1 (Dense)              (None, 1)                 11        \n",
            "=================================================================\n",
            "Total params: 15,220,949\n",
            "Trainable params: 15,220,949\n",
            "Non-trainable params: 0\n",
            "_________________________________________________________________\n"
          ],
          "name": "stdout"
        }
      ]
    },
    {
      "cell_type": "code",
      "metadata": {
        "id": "71VTQNZjzgn9",
        "colab_type": "code",
        "outputId": "3ced7417-b3af-4dad-fe73-f29be218420e",
        "colab": {
          "base_uri": "https://localhost:8080/",
          "height": 207
        }
      },
      "source": [
        "model.compile(loss='binary_crossentropy', optimizer='adam', metrics=['accuracy'])\n",
        "\n",
        "from tensorflow.keras.callbacks import EarlyStopping\n",
        "callbacks = EarlyStopping(monitor='val_loss', min_delta=0, patience = 2)\n",
        "history = model.fit(train_X, \n",
        "                    train_y, \n",
        "                    batch_size=512, \n",
        "                    epochs=14, \n",
        "                    validation_data=(val_X, val_y),\n",
        "                    callbacks=callbacks\n",
        "                    )"
      ],
      "execution_count": 31,
      "outputs": [
        {
          "output_type": "stream",
          "text": [
            "Epoch 1/14\n",
            "7/7 [==============================] - 8s 1s/step - loss: 0.5902 - accuracy: 0.8480 - val_loss: 0.3491 - val_accuracy: 0.9000\n",
            "Epoch 2/14\n",
            "7/7 [==============================] - 7s 1s/step - loss: 0.4162 - accuracy: 0.8776 - val_loss: 0.3511 - val_accuracy: 0.9000\n",
            "Epoch 3/14\n",
            "7/7 [==============================] - 7s 1s/step - loss: 0.3741 - accuracy: 0.8776 - val_loss: 0.3226 - val_accuracy: 0.9000\n",
            "Epoch 4/14\n",
            "7/7 [==============================] - 7s 1s/step - loss: 0.3460 - accuracy: 0.8776 - val_loss: 0.3294 - val_accuracy: 0.9000\n",
            "Epoch 5/14\n",
            "7/7 [==============================] - 7s 1s/step - loss: 0.3079 - accuracy: 0.8776 - val_loss: 0.3376 - val_accuracy: 0.9000\n"
          ],
          "name": "stdout"
        }
      ]
    },
    {
      "cell_type": "code",
      "metadata": {
        "id": "MiaEcGWWZA6v",
        "colab_type": "code",
        "outputId": "013277b5-b593-4aa3-83b3-011704508960",
        "colab": {
          "base_uri": "https://localhost:8080/",
          "height": 573
        }
      },
      "source": [
        "# plot history\n",
        "# Plot training & validation accuracy values\n",
        "import matplotlib.pyplot as plt \n",
        "plt.plot(history.history['accuracy'])\n",
        "plt.plot(history.history['val_accuracy'])\n",
        "plt.title('Model accuracy')\n",
        "plt.ylabel('Accuracy')\n",
        "plt.xlabel('Epoch')\n",
        "plt.legend(['Train', 'Val'], loc='upper left')\n",
        "plt.show()\n",
        "\n",
        "# Plot training & validation loss values\n",
        "plt.plot(history.history['loss'])\n",
        "plt.plot(history.history['val_loss'])\n",
        "plt.title('Model loss')\n",
        "plt.ylabel('Loss')\n",
        "plt.xlabel('Epoch')\n",
        "plt.legend(['Train', 'Val'], loc='upper left')\n",
        "plt.show()"
      ],
      "execution_count": 32,
      "outputs": [
        {
          "output_type": "display_data",
          "data": {
            "image/png": "[encoded data removed]",
            "text/plain": [
              "<Figure size 432x288 with 1 Axes>"
            ]
          },
          "metadata": {
            "tags": [],
            "needs_background": "light"
          }
        },
        {
          "output_type": "display_data",
          "data": {
            "image/png": "[encoded data removed]",
            "text/plain": [
              "<Figure size 432x288 with 1 Axes>"
            ]
          },
          "metadata": {
            "tags": [],
            "needs_background": "light"
          }
        }
      ]
    },
    {
      "cell_type": "code",
      "metadata": {
        "id": "FntfkhFlRKfQ",
        "colab_type": "code",
        "outputId": "8b5b202b-9a93-41f0-ed51-3f4c9cd6d54d",
        "colab": {
          "base_uri": "https://localhost:8080/",
          "height": 1000
        }
      },
      "source": [
        "pred_noemb_val_y = model.predict([val_X], batch_size=1024, verbose=1)\n",
        "print(pred_noemb_val_y)"
      ],
      "execution_count": 33,
      "outputs": [
        {
          "output_type": "stream",
          "text": [
            "1/1 [==============================] - 0s 1ms/step\n",
            "[[0.9323194 ]\n",
            " [0.86803937]\n",
            " [0.8213142 ]\n",
            " [0.8166314 ]\n",
            " [0.52469075]\n",
            " [0.93306935]\n",
            " [0.9444305 ]\n",
            " [0.9606081 ]\n",
            " [0.928672  ]\n",
            " [0.8762474 ]\n",
            " [0.9507273 ]\n",
            " [0.93687457]\n",
            " [0.9116204 ]\n",
            " [0.9555218 ]\n",
            " [0.95922565]\n",
            " [0.91311467]\n",
            " [0.92764556]\n",
            " [0.966624  ]\n",
            " [0.6121385 ]\n",
            " [0.93249863]\n",
            " [0.90666866]\n",
            " [0.9606316 ]\n",
            " [0.8517868 ]\n",
            " [0.95344484]\n",
            " [0.9496629 ]\n",
            " [0.8430326 ]\n",
            " [0.9552618 ]\n",
            " [0.80969965]\n",
            " [0.8856846 ]\n",
            " [0.9378555 ]\n",
            " [0.8927605 ]\n",
            " [0.87219256]\n",
            " [0.54285574]\n",
            " [0.82526535]\n",
            " [0.9119258 ]\n",
            " [0.9331603 ]\n",
            " [0.8940246 ]\n",
            " [0.8548623 ]\n",
            " [0.672209  ]\n",
            " [0.8712946 ]\n",
            " [0.9609524 ]\n",
            " [0.89075005]\n",
            " [0.7725189 ]\n",
            " [0.9650452 ]\n",
            " [0.952641  ]\n",
            " [0.95872694]\n",
            " [0.9271482 ]\n",
            " [0.96925247]\n",
            " [0.72825664]\n",
            " [0.89802563]\n",
            " [0.817719  ]\n",
            " [0.9204532 ]\n",
            " [0.8472496 ]\n",
            " [0.9589638 ]\n",
            " [0.73037374]\n",
            " [0.88902456]\n",
            " [0.96569836]\n",
            " [0.9198065 ]\n",
            " [0.9684    ]\n",
            " [0.8093585 ]\n",
            " [0.92747235]\n",
            " [0.77188677]\n",
            " [0.86484075]\n",
            " [0.5238747 ]\n",
            " [0.9485177 ]\n",
            " [0.9490623 ]\n",
            " [0.904668  ]\n",
            " [0.90208626]\n",
            " [0.82619417]\n",
            " [0.904256  ]\n",
            " [0.90029734]\n",
            " [0.8881612 ]\n",
            " [0.9548085 ]\n",
            " [0.97045493]\n",
            " [0.91077673]\n",
            " [0.866796  ]\n",
            " [0.73043495]\n",
            " [0.92749715]\n",
            " [0.7155758 ]\n",
            " [0.8514629 ]\n",
            " [0.9534857 ]\n",
            " [0.959671  ]\n",
            " [0.95725924]\n",
            " [0.9456973 ]\n",
            " [0.93310755]\n",
            " [0.75133   ]\n",
            " [0.65161616]\n",
            " [0.80182266]\n",
            " [0.8928916 ]\n",
            " [0.9207672 ]\n",
            " [0.967018  ]\n",
            " [0.9317801 ]\n",
            " [0.9359066 ]\n",
            " [0.9152622 ]\n",
            " [0.69382596]\n",
            " [0.90370476]\n",
            " [0.6152142 ]\n",
            " [0.9580902 ]\n",
            " [0.9344085 ]\n",
            " [0.90271246]\n",
            " [0.9627949 ]\n",
            " [0.96231186]\n",
            " [0.95905674]\n",
            " [0.8450601 ]\n",
            " [0.9086642 ]\n",
            " [0.96185964]\n",
            " [0.96073866]\n",
            " [0.9566395 ]\n",
            " [0.90261954]\n",
            " [0.9673877 ]\n",
            " [0.8575151 ]\n",
            " [0.7307169 ]\n",
            " [0.948393  ]\n",
            " [0.6820791 ]\n",
            " [0.92913824]\n",
            " [0.93201554]\n",
            " [0.9535924 ]\n",
            " [0.6591214 ]\n",
            " [0.9389688 ]\n",
            " [0.94522166]\n",
            " [0.9373886 ]\n",
            " [0.80600786]\n",
            " [0.9087275 ]\n",
            " [0.94038737]\n",
            " [0.58933604]\n",
            " [0.94619524]\n",
            " [0.9685974 ]\n",
            " [0.92279124]\n",
            " [0.9141118 ]\n",
            " [0.899954  ]\n",
            " [0.96003675]\n",
            " [0.87461704]\n",
            " [0.9573683 ]\n",
            " [0.9624313 ]\n",
            " [0.9570221 ]\n",
            " [0.9641473 ]\n",
            " [0.8748208 ]\n",
            " [0.94778347]\n",
            " [0.94361603]\n",
            " [0.93998516]\n",
            " [0.90537816]\n",
            " [0.78645784]\n",
            " [0.854412  ]\n",
            " [0.893204  ]\n",
            " [0.7264338 ]\n",
            " [0.7754626 ]\n",
            " [0.9411578 ]\n",
            " [0.9385787 ]\n",
            " [0.95145905]\n",
            " [0.9455265 ]\n",
            " [0.9262768 ]\n",
            " [0.91028047]\n",
            " [0.93964195]\n",
            " [0.9613223 ]\n",
            " [0.77804875]\n",
            " [0.94274735]\n",
            " [0.86900157]\n",
            " [0.5292051 ]\n",
            " [0.7133769 ]\n",
            " [0.6288346 ]\n",
            " [0.94739413]\n",
            " [0.9557136 ]\n",
            " [0.81162995]\n",
            " [0.9620595 ]\n",
            " [0.9340329 ]\n",
            " [0.88598484]\n",
            " [0.954436  ]\n",
            " [0.9330862 ]\n",
            " [0.8607488 ]\n",
            " [0.88668895]\n",
            " [0.85997355]\n",
            " [0.9509436 ]\n",
            " [0.88085127]\n",
            " [0.89957607]\n",
            " [0.9281044 ]\n",
            " [0.9545239 ]\n",
            " [0.7887907 ]\n",
            " [0.9504491 ]\n",
            " [0.8976518 ]\n",
            " [0.94558233]\n",
            " [0.9244491 ]\n",
            " [0.78040016]\n",
            " [0.8987259 ]\n",
            " [0.8552227 ]\n",
            " [0.93335557]\n",
            " [0.9402319 ]\n",
            " [0.9653236 ]\n",
            " [0.9714772 ]\n",
            " [0.97659504]\n",
            " [0.9225639 ]\n",
            " [0.7508832 ]\n",
            " [0.94070554]\n",
            " [0.9547004 ]\n",
            " [0.9685917 ]\n",
            " [0.8463465 ]\n",
            " [0.80028963]\n",
            " [0.93998593]\n",
            " [0.9672624 ]\n",
            " [0.95644915]\n",
            " [0.9627062 ]\n",
            " [0.8086203 ]\n",
            " [0.93271005]\n",
            " [0.94127595]\n",
            " [0.9699614 ]\n",
            " [0.9565049 ]\n",
            " [0.9155798 ]\n",
            " [0.9470711 ]\n",
            " [0.8928474 ]\n",
            " [0.829322  ]\n",
            " [0.9734467 ]\n",
            " [0.8447303 ]\n",
            " [0.83927995]\n",
            " [0.97257924]\n",
            " [0.94520277]\n",
            " [0.65161616]\n",
            " [0.89628226]\n",
            " [0.9530653 ]\n",
            " [0.9482883 ]\n",
            " [0.915439  ]\n",
            " [0.9646734 ]\n",
            " [0.96381056]\n",
            " [0.966521  ]\n",
            " [0.8300186 ]\n",
            " [0.94173384]\n",
            " [0.79614383]\n",
            " [0.9137285 ]\n",
            " [0.8528813 ]\n",
            " [0.9568125 ]\n",
            " [0.8340516 ]\n",
            " [0.83126867]\n",
            " [0.9547199 ]\n",
            " [0.9219961 ]\n",
            " [0.8178482 ]\n",
            " [0.6121385 ]\n",
            " [0.901615  ]\n",
            " [0.958175  ]\n",
            " [0.92955923]\n",
            " [0.90537983]\n",
            " [0.7061855 ]\n",
            " [0.83620894]\n",
            " [0.95794034]\n",
            " [0.9291078 ]\n",
            " [0.9694017 ]\n",
            " [0.60194206]\n",
            " [0.85419464]\n",
            " [0.9497217 ]\n",
            " [0.95795333]\n",
            " [0.9387393 ]\n",
            " [0.96323216]\n",
            " [0.9325332 ]\n",
            " [0.94881815]\n",
            " [0.92013264]\n",
            " [0.9459722 ]\n",
            " [0.93460196]\n",
            " [0.9505104 ]\n",
            " [0.9025692 ]\n",
            " [0.9456495 ]\n",
            " [0.9337623 ]\n",
            " [0.79813105]\n",
            " [0.9627335 ]\n",
            " [0.93659127]\n",
            " [0.8127096 ]\n",
            " [0.9458017 ]\n",
            " [0.8376967 ]\n",
            " [0.95677024]\n",
            " [0.8555478 ]\n",
            " [0.95755863]\n",
            " [0.9027627 ]\n",
            " [0.9624334 ]\n",
            " [0.96606064]\n",
            " [0.93524706]\n",
            " [0.8777169 ]\n",
            " [0.8767668 ]\n",
            " [0.89306635]\n",
            " [0.6967466 ]\n",
            " [0.97520006]\n",
            " [0.92313886]\n",
            " [0.9703838 ]\n",
            " [0.85441196]\n",
            " [0.8844075 ]\n",
            " [0.9455025 ]\n",
            " [0.9539863 ]\n",
            " [0.9523306 ]\n",
            " [0.9448364 ]\n",
            " [0.94379807]\n",
            " [0.95885134]\n",
            " [0.95400196]\n",
            " [0.88378847]\n",
            " [0.9303698 ]\n",
            " [0.9520515 ]\n",
            " [0.89724696]\n",
            " [0.96490633]\n",
            " [0.9417043 ]\n",
            " [0.949915  ]\n",
            " [0.9138557 ]\n",
            " [0.9399731 ]\n",
            " [0.9604333 ]\n",
            " [0.9318453 ]\n",
            " [0.9506037 ]\n",
            " [0.9409284 ]\n",
            " [0.51320475]\n",
            " [0.7917403 ]\n",
            " [0.9297355 ]\n",
            " [0.8713104 ]\n",
            " [0.8357173 ]\n",
            " [0.5174808 ]\n",
            " [0.9075582 ]\n",
            " [0.93408406]\n",
            " [0.8626207 ]\n",
            " [0.9397847 ]\n",
            " [0.9188598 ]\n",
            " [0.9515013 ]\n",
            " [0.96930015]\n",
            " [0.9514278 ]\n",
            " [0.973024  ]\n",
            " [0.9486083 ]\n",
            " [0.9578524 ]\n",
            " [0.8534254 ]\n",
            " [0.86641455]\n",
            " [0.7123832 ]\n",
            " [0.90005445]\n",
            " [0.92656815]\n",
            " [0.9066444 ]\n",
            " [0.92941165]\n",
            " [0.9547304 ]\n",
            " [0.9549403 ]\n",
            " [0.9263068 ]\n",
            " [0.9086114 ]\n",
            " [0.95134187]\n",
            " [0.91255236]\n",
            " [0.9367521 ]\n",
            " [0.7478536 ]\n",
            " [0.74246645]\n",
            " [0.95522344]\n",
            " [0.9188664 ]\n",
            " [0.94198513]\n",
            " [0.95586705]\n",
            " [0.88908255]\n",
            " [0.93003327]\n",
            " [0.90746415]\n",
            " [0.5156514 ]\n",
            " [0.94042325]\n",
            " [0.9788444 ]\n",
            " [0.9356271 ]\n",
            " [0.90603846]\n",
            " [0.80270934]\n",
            " [0.89245224]\n",
            " [0.9327301 ]\n",
            " [0.8426657 ]\n",
            " [0.95562464]\n",
            " [0.94204664]\n",
            " [0.8758543 ]\n",
            " [0.79294026]\n",
            " [0.94869304]\n",
            " [0.8671359 ]\n",
            " [0.7410138 ]\n",
            " [0.9425914 ]\n",
            " [0.9364084 ]\n",
            " [0.95660794]\n",
            " [0.8186561 ]\n",
            " [0.91246843]\n",
            " [0.9722551 ]\n",
            " [0.9466032 ]\n",
            " [0.9109105 ]\n",
            " [0.950953  ]\n",
            " [0.9308015 ]\n",
            " [0.9328548 ]\n",
            " [0.85430586]\n",
            " [0.8393997 ]\n",
            " [0.877174  ]\n",
            " [0.94800943]\n",
            " [0.7063881 ]\n",
            " [0.9422567 ]\n",
            " [0.9328569 ]\n",
            " [0.94054735]\n",
            " [0.9372628 ]\n",
            " [0.9148288 ]\n",
            " [0.8935775 ]\n",
            " [0.7205084 ]\n",
            " [0.80694497]\n",
            " [0.9540936 ]\n",
            " [0.5634704 ]\n",
            " [0.88016105]\n",
            " [0.9701102 ]\n",
            " [0.95532286]\n",
            " [0.9519511 ]\n",
            " [0.72485924]\n",
            " [0.8842459 ]\n",
            " [0.88152325]\n",
            " [0.947052  ]\n",
            " [0.9464493 ]\n",
            " [0.9512156 ]\n",
            " [0.9381671 ]\n",
            " [0.9389961 ]\n",
            " [0.92869323]\n",
            " [0.8306131 ]\n",
            " [0.91828036]\n",
            " [0.86337763]\n",
            " [0.9540374 ]\n",
            " [0.9157205 ]\n",
            " [0.9442888 ]\n",
            " [0.91672325]\n",
            " [0.91992915]\n",
            " [0.90627646]\n",
            " [0.9567828 ]\n",
            " [0.80010486]\n",
            " [0.95234096]\n",
            " [0.9282093 ]\n",
            " [0.9335432 ]\n",
            " [0.9007697 ]\n",
            " [0.90323126]\n",
            " [0.93162316]\n",
            " [0.87902325]\n",
            " [0.70720726]\n",
            " [0.832016  ]\n",
            " [0.95665467]\n",
            " [0.9660994 ]\n",
            " [0.9533357 ]\n",
            " [0.9661114 ]\n",
            " [0.95276624]\n",
            " [0.9601626 ]\n",
            " [0.93516916]\n",
            " [0.938367  ]\n",
            " [0.9004525 ]\n",
            " [0.84626174]\n",
            " [0.95357484]\n",
            " [0.9298967 ]\n",
            " [0.9651674 ]\n",
            " [0.9119136 ]\n",
            " [0.93077093]\n",
            " [0.9527656 ]\n",
            " [0.9007503 ]\n",
            " [0.8183255 ]\n",
            " [0.9583273 ]\n",
            " [0.9257345 ]\n",
            " [0.97113824]\n",
            " [0.94160116]\n",
            " [0.9406148 ]\n",
            " [0.9258257 ]\n",
            " [0.87939703]]\n"
          ],
          "name": "stdout"
        }
      ]
    },
    {
      "cell_type": "code",
      "metadata": {
        "id": "gGPsgb7IQDsg",
        "colab_type": "code",
        "outputId": "b6a373b8-9094-45c9-c98d-7858d4155509",
        "colab": {
          "base_uri": "https://localhost:8080/",
          "height": 51
        }
      },
      "source": [
        "# validation the model(confusion matrix)\n",
        "def rnn_confusion_matrix(pred_noemb_val_y, val_y):\n",
        "    pred_val_y = pred_noemb_val_y > 0.5\n",
        "    tn, fp, fn, tp = confusion_matrix(val_y,pred_val_y).ravel()\n",
        "    print('tn', tn, 'fp', fp, 'fn', fn, 'tp', tp)\n",
        "\n",
        "    lstm_acc = accuracy_score( val_y,pred_val_y)\n",
        "    lstm_precision = precision_score(val_y, pred_val_y)\n",
        "    lstm_recall = recall_score( val_y, pred_val_y)\n",
        "    lstm_f1_score = f1_score( val_y, pred_val_y)\n",
        "    return lstm_acc, lstm_precision, lstm_recall, lstm_f1_score\n",
        "\n",
        "lstm_acc, lstm_precision, lstm_recall, lstm_f1_score = rnn_confusion_matrix(pred_noemb_val_y, val_y)\n",
        "print('lstm_acc: ',lstm_acc, ', lstm_precision: ', lstm_precision, ', lstm_recall: ', lstm_recall, ', lstm_f1_score', lstm_f1_score)"
      ],
      "execution_count": 34,
      "outputs": [
        {
          "output_type": "stream",
          "text": [
            "tn 0 fp 44 fn 0 tp 396\n",
            "lstm_acc:  0.9 , lstm_precision:  0.9 , lstm_recall:  1.0 , lstm_f1_score 0.9473684210526316\n"
          ],
          "name": "stdout"
        }
      ]
    },
    {
      "cell_type": "code",
      "metadata": {
        "_uuid": "47b63dca0247a08a808db7ae6eea33065c554948",
        "id": "M4y418b5ZA6x",
        "colab_type": "code",
        "colab": {}
      },
      "source": [
        "# validation the model(f1-score)\n",
        "\n",
        "threshes=[]\n",
        "f1_scores=[]\n",
        "accuracy_scores=[]\n",
        "for thresh in np.arange(0.1, 0.801, 0.01):\n",
        "    thresh = np.round(thresh, 2)\n",
        "    threshes.append(thresh)\n",
        "    # logging.info(\"F1 score at threshold {0} is {1}\".format(thresh, metrics.f1_score(val_y, (pred_noemb_val_y>thresh).astype(int))))\n",
        "    f1_scores.append(metrics.f1_score(val_y, (pred_noemb_val_y>thresh).astype(int)))\n",
        "    # logging.info(\"Accuracy at threshold {0} is {1}\".format(thresh, metrics.accuracy_score(val_y, (pred_noemb_val_y>thresh).astype(int))))\n",
        "    accuracy_scores.append(metrics.accuracy_score(val_y, (pred_noemb_val_y>thresh).astype(int)))\n"
      ],
      "execution_count": 0,
      "outputs": []
    },
    {
      "cell_type": "code",
      "metadata": {
        "id": "aC0KxHrGnewO",
        "colab_type": "code",
        "outputId": "69c84129-a2de-40d7-c09c-dbaee1278fe4",
        "colab": {
          "base_uri": "https://localhost:8080/",
          "height": 295
        }
      },
      "source": [
        "# plot two measures\n",
        "plt.plot(threshes, f1_scores, color='blue', label='f1')\n",
        "plt.plot(threshes, accuracy_scores, color='green', label='acc')\n",
        "plt.title('Threhold vs f1 scores/acc')\n",
        "plt.ylabel('f1_scores/acc')\n",
        "plt.xlabel('threshold')\n",
        "plt.legend()\n",
        "plt.show()"
      ],
      "execution_count": 36,
      "outputs": [
        {
          "output_type": "display_data",
          "data": {
            "image/png": "[encoded data removed]",
            "text/plain": [
              "<Figure size 432x288 with 1 Axes>"
            ]
          },
          "metadata": {
            "tags": [],
            "needs_background": "light"
          }
        }
      ]
    },
    {
      "cell_type": "markdown",
      "metadata": {
        "id": "hJSYLb3ykxyT",
        "colab_type": "text"
      },
      "source": [
        "## Model3: LSTM + Pretrained embeddings\n",
        "\n",
        "Embeddings:\n",
        "glove.840B.300d - https://nlp.stanford.edu/projects/glove/\n",
        "paragram_300_sl999 - https://cogcomp.org/page/resource_view/106\n",
        "\n",
        "It will take several minutes to load this 5G file. Be patient.. \n",
        "\n",
        "\n",
        "\n"
      ]
    },
    {
      "cell_type": "code",
      "metadata": {
        "id": "VS3iwFGqwHvT",
        "colab_type": "code",
        "outputId": "78744bd2-4915-4532-e767-5b30288740dc",
        "colab": {
          "base_uri": "https://localhost:8080/",
          "height": 51
        }
      },
      "source": [
        "import io\n",
        "embeddings_index = {}\n",
        "logging.info(\"Loading Glove Model\")\n",
        "with io.open(PROJECT_PATH +'/glove.840B.300d.txt', encoding='utf8') as f:\n",
        "    for line in f:\n",
        "        values = line.split()\n",
        "        word = ''.join(values[:-300])\n",
        "        coefs = np.asarray(values[-300:], dtype='float32')\n",
        "        embeddings_index[word] = coefs\n",
        "logging.info(\"Loading Glove Model Done\")"
      ],
      "execution_count": 37,
      "outputs": [
        {
          "output_type": "stream",
          "text": [
            "2020-05-30 19:13:01 INFO     Loading Glove Model\n",
            "2020-05-30 19:16:45 INFO     Loading Glove Model Done\n"
          ],
          "name": "stdout"
        }
      ]
    },
    {
      "cell_type": "code",
      "metadata": {
        "id": "_7fswnbHDI2S",
        "colab_type": "code",
        "outputId": "fb1bed9d-799c-4377-dc4a-2a3a95ec40dd",
        "colab": {
          "base_uri": "https://localhost:8080/",
          "height": 88
        }
      },
      "source": [
        "all_embs = np.stack(embeddings_index.values())\n",
        "emb_mean,emb_std = all_embs.mean(), all_embs.std()\n",
        "embed_size = all_embs.shape[1]\n",
        "\n",
        "print(all_embs.shape, emb_mean, emb_std, embed_size )"
      ],
      "execution_count": 39,
      "outputs": [
        {
          "output_type": "stream",
          "text": [
            "/usr/local/lib/python3.6/dist-packages/IPython/core/interactiveshell.py:2822: FutureWarning: arrays to stack must be passed as a \"sequence\" type such as list or tuple. Support for non-sequence iterables such as generators is deprecated as of NumPy 1.16 and will raise an error in the future.\n",
            "  if self.run_code(code, result):\n"
          ],
          "name": "stderr"
        },
        {
          "output_type": "stream",
          "text": [
            "(2195893, 300) -0.005839112 0.48782477 300\n"
          ],
          "name": "stdout"
        }
      ]
    },
    {
      "cell_type": "code",
      "metadata": {
        "id": "uOx2DkzgDS-m",
        "colab_type": "code",
        "outputId": "d0f882a0-f918-49c1-b9a3-c6917a5fac6a",
        "colab": {
          "base_uri": "https://localhost:8080/",
          "height": 34
        }
      },
      "source": [
        "word_index = tokenizer.word_index\n",
        "len(word_index)"
      ],
      "execution_count": 40,
      "outputs": [
        {
          "output_type": "execute_result",
          "data": {
            "text/plain": [
              "10042"
            ]
          },
          "metadata": {
            "tags": []
          },
          "execution_count": 40
        }
      ]
    },
    {
      "cell_type": "code",
      "metadata": {
        "id": "E4Ng8SHSDxBx",
        "colab_type": "code",
        "outputId": "31769c2f-2a78-47ec-a18d-5939e4627e18",
        "colab": {
          "base_uri": "https://localhost:8080/",
          "height": 34
        }
      },
      "source": [
        "nb_words = min(max_features, 1 + len(word_index))\n",
        "nb_words"
      ],
      "execution_count": 41,
      "outputs": [
        {
          "output_type": "execute_result",
          "data": {
            "text/plain": [
              "10043"
            ]
          },
          "metadata": {
            "tags": []
          },
          "execution_count": 41
        }
      ]
    },
    {
      "cell_type": "code",
      "metadata": {
        "id": "LWf0qQ2iD2ve",
        "colab_type": "code",
        "outputId": "3e008a8e-f087-431d-fb4a-63a83ff02427",
        "colab": {
          "base_uri": "https://localhost:8080/",
          "height": 34
        }
      },
      "source": [
        "embedding_matrix = np.random.normal(emb_mean, emb_std, (nb_words, embed_size))\n",
        "embedding_matrix.shape"
      ],
      "execution_count": 42,
      "outputs": [
        {
          "output_type": "execute_result",
          "data": {
            "text/plain": [
              "(10043, 300)"
            ]
          },
          "metadata": {
            "tags": []
          },
          "execution_count": 42
        }
      ]
    },
    {
      "cell_type": "code",
      "metadata": {
        "id": "vNslPaHb193k",
        "colab_type": "code",
        "outputId": "88911c2d-a10a-4363-de0c-736ee656b897",
        "colab": {
          "base_uri": "https://localhost:8080/",
          "height": 34
        }
      },
      "source": [
        "for word, i in word_index.items(): \n",
        "    if i >= max_features: continue\n",
        "    embedding_vector = embeddings_index.get(word)\n",
        "    if embedding_vector is not None: \n",
        "        embedding_matrix[i] = embedding_vector\n",
        "print(embedding_matrix.shape)"
      ],
      "execution_count": 43,
      "outputs": [
        {
          "output_type": "stream",
          "text": [
            "(10043, 300)\n"
          ],
          "name": "stdout"
        }
      ]
    },
    {
      "cell_type": "code",
      "metadata": {
        "id": "6RWtEloU2M1N",
        "colab_type": "code",
        "outputId": "ce062b38-de87-4ecb-e8c7-41e07d661d69",
        "colab": {
          "base_uri": "https://localhost:8080/",
          "height": 323
        }
      },
      "source": [
        "import tensorflow as tf\n",
        "from tensorflow.keras import layers\n",
        "from keras.initializers import Constant\n",
        "\n",
        "model = tf.keras.Sequential()\n",
        "model.add(layers.Embedding(nb_words,\n",
        "                            300,\n",
        "                            weights=[embedding_matrix],\n",
        "                            input_length=max_len,\n",
        "                            trainable=False))\n",
        "model.add(layers.LSTM(128))\n",
        "model.add(layers.Dense(10,activation=\"relu\"))\n",
        "model.add(layers.Dropout(0.2))\n",
        "model.add(layers.Dense(1, activation=\"sigmoid\"))\n",
        "model.summary()\n"
      ],
      "execution_count": 44,
      "outputs": [
        {
          "output_type": "stream",
          "text": [
            "Model: \"sequential_1\"\n",
            "_________________________________________________________________\n",
            "Layer (type)                 Output Shape              Param #   \n",
            "=================================================================\n",
            "embedding_1 (Embedding)      (None, 70, 300)           3012900   \n",
            "_________________________________________________________________\n",
            "lstm_1 (LSTM)                (None, 128)               219648    \n",
            "_________________________________________________________________\n",
            "dense_2 (Dense)              (None, 10)                1290      \n",
            "_________________________________________________________________\n",
            "dropout_1 (Dropout)          (None, 10)                0         \n",
            "_________________________________________________________________\n",
            "dense_3 (Dense)              (None, 1)                 11        \n",
            "=================================================================\n",
            "Total params: 3,233,849\n",
            "Trainable params: 220,949\n",
            "Non-trainable params: 3,012,900\n",
            "_________________________________________________________________\n"
          ],
          "name": "stdout"
        }
      ]
    },
    {
      "cell_type": "code",
      "metadata": {
        "id": "Txx27Bzd3gLM",
        "colab_type": "code",
        "colab": {}
      },
      "source": [
        "model.compile(loss='binary_crossentropy', optimizer='adam', metrics=['accuracy'])"
      ],
      "execution_count": 0,
      "outputs": []
    },
    {
      "cell_type": "code",
      "metadata": {
        "id": "BeVa4_2m3kzN",
        "colab_type": "code",
        "outputId": "ed52a847-5e99-4456-94ba-c52eac04580d",
        "colab": {
          "base_uri": "https://localhost:8080/",
          "height": 173
        }
      },
      "source": [
        "from tensorflow.keras.callbacks import EarlyStopping\n",
        "\n",
        "callbacks = EarlyStopping(monitor='val_loss', min_delta=0, patience = 2)\n",
        "\n",
        "history = model.fit(train_X, \n",
        "                    train_y, \n",
        "                    batch_size=512, \n",
        "                    epochs=15, \n",
        "                    validation_data=(val_X, val_y),\n",
        "                    callbacks=callbacks\n",
        "                    )"
      ],
      "execution_count": 46,
      "outputs": [
        {
          "output_type": "stream",
          "text": [
            "Epoch 1/15\n",
            "7/7 [==============================] - 6s 890ms/step - loss: 0.6404 - accuracy: 0.6957 - val_loss: 0.4177 - val_accuracy: 0.9000\n",
            "Epoch 2/15\n",
            "7/7 [==============================] - 5s 767ms/step - loss: 0.4170 - accuracy: 0.8756 - val_loss: 0.3218 - val_accuracy: 0.9000\n",
            "Epoch 3/15\n",
            "7/7 [==============================] - 5s 767ms/step - loss: 0.3829 - accuracy: 0.8750 - val_loss: 0.3363 - val_accuracy: 0.9000\n",
            "Epoch 4/15\n",
            "7/7 [==============================] - 5s 762ms/step - loss: 0.3802 - accuracy: 0.8759 - val_loss: 0.3357 - val_accuracy: 0.9000\n"
          ],
          "name": "stdout"
        }
      ]
    },
    {
      "cell_type": "code",
      "metadata": {
        "id": "7JjJbtUNn3cM",
        "colab_type": "code",
        "outputId": "763dd7db-8f9a-4861-d03c-4619fbf1b0e2",
        "colab": {
          "base_uri": "https://localhost:8080/",
          "height": 573
        }
      },
      "source": [
        "# Plot training & validation accuracy values\n",
        "import matplotlib.pyplot as plt \n",
        "plt.plot(history.history['accuracy'])\n",
        "plt.plot(history.history['val_accuracy'])\n",
        "plt.title('Model accuracy')\n",
        "plt.ylabel('Accuracy')\n",
        "plt.xlabel('Epoch')\n",
        "plt.legend(['Train', 'Val'], loc='upper left')\n",
        "plt.show()\n",
        "\n",
        "# Plot training & validation loss values\n",
        "plt.plot(history.history['loss'])\n",
        "plt.plot(history.history['val_loss'])\n",
        "plt.title('Model loss')\n",
        "plt.ylabel('Loss')\n",
        "plt.xlabel('Epoch')\n",
        "plt.legend(['Train', 'Val'], loc='upper left')\n",
        "plt.show()"
      ],
      "execution_count": 47,
      "outputs": [
        {
          "output_type": "display_data",
          "data": {
            "image/png": "[encoded data removed]",
            "text/plain": [
              "<Figure size 432x288 with 1 Axes>"
            ]
          },
          "metadata": {
            "tags": [],
            "needs_background": "light"
          }
        },
        {
          "output_type": "display_data",
          "data": {
            "image/png": "[encoded data removed]",
            "text/plain": [
              "<Figure size 432x288 with 1 Axes>"
            ]
          },
          "metadata": {
            "tags": [],
            "needs_background": "light"
          }
        }
      ]
    },
    {
      "cell_type": "code",
      "metadata": {
        "id": "AslhlttleNnC",
        "colab_type": "code",
        "outputId": "6b004089-56b7-4d29-a031-5a8423d48c07",
        "colab": {
          "base_uri": "https://localhost:8080/",
          "height": 1000
        }
      },
      "source": [
        "# validation the model(f1-score)\n",
        "pred_noemb_val_y = model.predict([val_X], batch_size=1024, verbose=1)\n",
        "print(pred_noemb_val_y)\n",
        "threshes=[]\n",
        "f1_scores=[]\n",
        "accuracy_scores=[]\n",
        "for thresh in np.arange(0.1, 0.801, 0.01):\n",
        "    thresh = np.round(thresh, 2)\n",
        "    threshes.append(thresh)\n",
        "    logging.info(\"F1 score at threshold {0} is {1}\".format(thresh, metrics.f1_score(val_y, (pred_noemb_val_y>thresh).astype(int))))\n",
        "    f1_scores.append(metrics.f1_score(val_y, (pred_noemb_val_y>thresh).astype(int)))\n",
        "    logging.info(\"Accuracy at threshold {0} is {1}\".format(thresh, metrics.accuracy_score(val_y, (pred_noemb_val_y>thresh).astype(int))))\n",
        "    accuracy_scores.append(metrics.accuracy_score(val_y, (pred_noemb_val_y>thresh).astype(int)))"
      ],
      "execution_count": 48,
      "outputs": [
        {
          "output_type": "stream",
          "text": [
            "1/1 [==============================] - 0s 1ms/step\n",
            "[[0.87903786]\n",
            " [0.7093626 ]\n",
            " [0.81112266]\n",
            " [0.7170537 ]\n",
            " [0.71557873]\n",
            " [0.9084525 ]\n",
            " [0.8941581 ]\n",
            " [0.8994665 ]\n",
            " [0.8579763 ]\n",
            " [0.8129245 ]\n",
            " [0.88089323]\n",
            " [0.8933687 ]\n",
            " [0.8847557 ]\n",
            " [0.91335815]\n",
            " [0.8869804 ]\n",
            " [0.8832817 ]\n",
            " [0.8254986 ]\n",
            " [0.93366885]\n",
            " [0.67724955]\n",
            " [0.8854685 ]\n",
            " [0.8572266 ]\n",
            " [0.87875956]\n",
            " [0.76849043]\n",
            " [0.8713088 ]\n",
            " [0.858335  ]\n",
            " [0.8126838 ]\n",
            " [0.8845265 ]\n",
            " [0.8327842 ]\n",
            " [0.80462414]\n",
            " [0.85641015]\n",
            " [0.7631585 ]\n",
            " [0.8540636 ]\n",
            " [0.6824568 ]\n",
            " [0.7941085 ]\n",
            " [0.9052557 ]\n",
            " [0.8884798 ]\n",
            " [0.82700586]\n",
            " [0.81082976]\n",
            " [0.7375089 ]\n",
            " [0.806947  ]\n",
            " [0.9043784 ]\n",
            " [0.8638164 ]\n",
            " [0.73871577]\n",
            " [0.8829255 ]\n",
            " [0.89386904]\n",
            " [0.8549601 ]\n",
            " [0.91734695]\n",
            " [0.9011741 ]\n",
            " [0.73072743]\n",
            " [0.84510934]\n",
            " [0.75543547]\n",
            " [0.9083359 ]\n",
            " [0.86614466]\n",
            " [0.90789926]\n",
            " [0.77781224]\n",
            " [0.78555745]\n",
            " [0.9144908 ]\n",
            " [0.89494765]\n",
            " [0.9145901 ]\n",
            " [0.83255976]\n",
            " [0.8694823 ]\n",
            " [0.7228104 ]\n",
            " [0.7893456 ]\n",
            " [0.6935266 ]\n",
            " [0.93171704]\n",
            " [0.9131318 ]\n",
            " [0.85114825]\n",
            " [0.78630894]\n",
            " [0.76508355]\n",
            " [0.84451985]\n",
            " [0.8903581 ]\n",
            " [0.85196185]\n",
            " [0.90023947]\n",
            " [0.90778744]\n",
            " [0.8545201 ]\n",
            " [0.88699996]\n",
            " [0.71213335]\n",
            " [0.90947914]\n",
            " [0.7221031 ]\n",
            " [0.756599  ]\n",
            " [0.90038407]\n",
            " [0.8965237 ]\n",
            " [0.90369695]\n",
            " [0.88650143]\n",
            " [0.88621724]\n",
            " [0.72923887]\n",
            " [0.6571584 ]\n",
            " [0.86256146]\n",
            " [0.8292389 ]\n",
            " [0.8277092 ]\n",
            " [0.88684106]\n",
            " [0.89309967]\n",
            " [0.8955903 ]\n",
            " [0.86328185]\n",
            " [0.7127755 ]\n",
            " [0.87597686]\n",
            " [0.69504225]\n",
            " [0.9076865 ]\n",
            " [0.87696445]\n",
            " [0.812359  ]\n",
            " [0.8994025 ]\n",
            " [0.9016243 ]\n",
            " [0.9011705 ]\n",
            " [0.8111597 ]\n",
            " [0.80710316]\n",
            " [0.90591836]\n",
            " [0.8754536 ]\n",
            " [0.84871125]\n",
            " [0.77709913]\n",
            " [0.90638673]\n",
            " [0.79382324]\n",
            " [0.7215234 ]\n",
            " [0.91198915]\n",
            " [0.77310896]\n",
            " [0.86449444]\n",
            " [0.8725003 ]\n",
            " [0.9267429 ]\n",
            " [0.72459483]\n",
            " [0.89193255]\n",
            " [0.9011163 ]\n",
            " [0.89451396]\n",
            " [0.78419274]\n",
            " [0.8562757 ]\n",
            " [0.88657725]\n",
            " [0.62848747]\n",
            " [0.88471884]\n",
            " [0.9073762 ]\n",
            " [0.8600445 ]\n",
            " [0.8801203 ]\n",
            " [0.82598794]\n",
            " [0.8868337 ]\n",
            " [0.79146147]\n",
            " [0.89015466]\n",
            " [0.8987168 ]\n",
            " [0.9075408 ]\n",
            " [0.91411376]\n",
            " [0.8648156 ]\n",
            " [0.89567006]\n",
            " [0.8838184 ]\n",
            " [0.87195814]\n",
            " [0.90869665]\n",
            " [0.76232034]\n",
            " [0.730711  ]\n",
            " [0.8089459 ]\n",
            " [0.6921941 ]\n",
            " [0.73651874]\n",
            " [0.8872467 ]\n",
            " [0.8884517 ]\n",
            " [0.9044453 ]\n",
            " [0.89436424]\n",
            " [0.8683156 ]\n",
            " [0.8948429 ]\n",
            " [0.88812625]\n",
            " [0.89657104]\n",
            " [0.7499063 ]\n",
            " [0.9236461 ]\n",
            " [0.8778366 ]\n",
            " [0.6534232 ]\n",
            " [0.82070255]\n",
            " [0.64231354]\n",
            " [0.8983719 ]\n",
            " [0.87727803]\n",
            " [0.7988552 ]\n",
            " [0.90490794]\n",
            " [0.81571126]\n",
            " [0.81777155]\n",
            " [0.91160053]\n",
            " [0.9260591 ]\n",
            " [0.8560209 ]\n",
            " [0.8283144 ]\n",
            " [0.7960907 ]\n",
            " [0.929065  ]\n",
            " [0.8206867 ]\n",
            " [0.8591733 ]\n",
            " [0.8867791 ]\n",
            " [0.8944275 ]\n",
            " [0.8437786 ]\n",
            " [0.8970821 ]\n",
            " [0.8526466 ]\n",
            " [0.9021175 ]\n",
            " [0.889417  ]\n",
            " [0.6790476 ]\n",
            " [0.85172164]\n",
            " [0.7408131 ]\n",
            " [0.8834933 ]\n",
            " [0.8614377 ]\n",
            " [0.8994527 ]\n",
            " [0.93935305]\n",
            " [0.9293307 ]\n",
            " [0.8675642 ]\n",
            " [0.744451  ]\n",
            " [0.8549692 ]\n",
            " [0.8989078 ]\n",
            " [0.88933325]\n",
            " [0.7360164 ]\n",
            " [0.72360116]\n",
            " [0.86184025]\n",
            " [0.91342884]\n",
            " [0.8938688 ]\n",
            " [0.91432893]\n",
            " [0.6967186 ]\n",
            " [0.8683962 ]\n",
            " [0.886412  ]\n",
            " [0.89005363]\n",
            " [0.9347146 ]\n",
            " [0.81973124]\n",
            " [0.8831178 ]\n",
            " [0.83474696]\n",
            " [0.8286327 ]\n",
            " [0.93183845]\n",
            " [0.80558133]\n",
            " [0.8095062 ]\n",
            " [0.9224918 ]\n",
            " [0.90527165]\n",
            " [0.6571584 ]\n",
            " [0.825523  ]\n",
            " [0.92433906]\n",
            " [0.89943707]\n",
            " [0.8582456 ]\n",
            " [0.90845585]\n",
            " [0.91777885]\n",
            " [0.91310257]\n",
            " [0.7746103 ]\n",
            " [0.8998264 ]\n",
            " [0.75932217]\n",
            " [0.8041235 ]\n",
            " [0.8651916 ]\n",
            " [0.88679403]\n",
            " [0.83228874]\n",
            " [0.80512583]\n",
            " [0.9014411 ]\n",
            " [0.8580706 ]\n",
            " [0.70523715]\n",
            " [0.67724955]\n",
            " [0.87011933]\n",
            " [0.88140154]\n",
            " [0.8879667 ]\n",
            " [0.8315706 ]\n",
            " [0.7942229 ]\n",
            " [0.7638271 ]\n",
            " [0.9141276 ]\n",
            " [0.90012974]\n",
            " [0.9078636 ]\n",
            " [0.6412002 ]\n",
            " [0.8146776 ]\n",
            " [0.8758818 ]\n",
            " [0.87932056]\n",
            " [0.88561606]\n",
            " [0.9013857 ]\n",
            " [0.83469296]\n",
            " [0.8220607 ]\n",
            " [0.8263123 ]\n",
            " [0.8948202 ]\n",
            " [0.8951181 ]\n",
            " [0.8910128 ]\n",
            " [0.78072906]\n",
            " [0.88722044]\n",
            " [0.90387523]\n",
            " [0.73703253]\n",
            " [0.8867307 ]\n",
            " [0.8992256 ]\n",
            " [0.7207111 ]\n",
            " [0.8817481 ]\n",
            " [0.7668051 ]\n",
            " [0.90518636]\n",
            " [0.7669692 ]\n",
            " [0.9007553 ]\n",
            " [0.85607076]\n",
            " [0.88969386]\n",
            " [0.8926092 ]\n",
            " [0.86814654]\n",
            " [0.8087837 ]\n",
            " [0.84243387]\n",
            " [0.85457134]\n",
            " [0.77290463]\n",
            " [0.90095717]\n",
            " [0.8524963 ]\n",
            " [0.9092963 ]\n",
            " [0.7506696 ]\n",
            " [0.8917031 ]\n",
            " [0.8953685 ]\n",
            " [0.88884723]\n",
            " [0.8900281 ]\n",
            " [0.90204257]\n",
            " [0.8537986 ]\n",
            " [0.8857775 ]\n",
            " [0.89549494]\n",
            " [0.8195293 ]\n",
            " [0.8776418 ]\n",
            " [0.8993193 ]\n",
            " [0.8643222 ]\n",
            " [0.90669155]\n",
            " [0.89749426]\n",
            " [0.89931273]\n",
            " [0.9116373 ]\n",
            " [0.9076216 ]\n",
            " [0.90020573]\n",
            " [0.84095615]\n",
            " [0.8728047 ]\n",
            " [0.8976773 ]\n",
            " [0.6955799 ]\n",
            " [0.8069272 ]\n",
            " [0.8964641 ]\n",
            " [0.86576307]\n",
            " [0.8736533 ]\n",
            " [0.67980313]\n",
            " [0.8893329 ]\n",
            " [0.8807219 ]\n",
            " [0.81547046]\n",
            " [0.87740093]\n",
            " [0.8357706 ]\n",
            " [0.8757777 ]\n",
            " [0.8965972 ]\n",
            " [0.9020596 ]\n",
            " [0.9127805 ]\n",
            " [0.90566385]\n",
            " [0.90261483]\n",
            " [0.8191834 ]\n",
            " [0.86511075]\n",
            " [0.67769223]\n",
            " [0.87168443]\n",
            " [0.84979343]\n",
            " [0.85386515]\n",
            " [0.88967633]\n",
            " [0.895931  ]\n",
            " [0.9065105 ]\n",
            " [0.89420605]\n",
            " [0.87307453]\n",
            " [0.89440656]\n",
            " [0.8444418 ]\n",
            " [0.8899493 ]\n",
            " [0.8352796 ]\n",
            " [0.697171  ]\n",
            " [0.87865746]\n",
            " [0.90014553]\n",
            " [0.86904293]\n",
            " [0.8987276 ]\n",
            " [0.8644054 ]\n",
            " [0.8801432 ]\n",
            " [0.9051461 ]\n",
            " [0.6814905 ]\n",
            " [0.910281  ]\n",
            " [0.9149167 ]\n",
            " [0.8965566 ]\n",
            " [0.8416654 ]\n",
            " [0.7789155 ]\n",
            " [0.8950341 ]\n",
            " [0.88682115]\n",
            " [0.8527876 ]\n",
            " [0.8695209 ]\n",
            " [0.89461493]\n",
            " [0.80209327]\n",
            " [0.89285827]\n",
            " [0.89666206]\n",
            " [0.86560804]\n",
            " [0.7272606 ]\n",
            " [0.8817743 ]\n",
            " [0.91790974]\n",
            " [0.9245728 ]\n",
            " [0.77687067]\n",
            " [0.88639605]\n",
            " [0.9180372 ]\n",
            " [0.85058445]\n",
            " [0.89607835]\n",
            " [0.90987957]\n",
            " [0.87868834]\n",
            " [0.87782395]\n",
            " [0.85629654]\n",
            " [0.8352611 ]\n",
            " [0.79705966]\n",
            " [0.8823583 ]\n",
            " [0.7686231 ]\n",
            " [0.8689513 ]\n",
            " [0.9021492 ]\n",
            " [0.8159678 ]\n",
            " [0.8953558 ]\n",
            " [0.8904483 ]\n",
            " [0.8738333 ]\n",
            " [0.7778479 ]\n",
            " [0.81539595]\n",
            " [0.9089317 ]\n",
            " [0.67943573]\n",
            " [0.88052154]\n",
            " [0.8938197 ]\n",
            " [0.91531426]\n",
            " [0.8886864 ]\n",
            " [0.7111398 ]\n",
            " [0.8774981 ]\n",
            " [0.87381935]\n",
            " [0.9102938 ]\n",
            " [0.9019939 ]\n",
            " [0.86185473]\n",
            " [0.9037782 ]\n",
            " [0.8787923 ]\n",
            " [0.877892  ]\n",
            " [0.8151269 ]\n",
            " [0.87289286]\n",
            " [0.7389435 ]\n",
            " [0.90764546]\n",
            " [0.8908706 ]\n",
            " [0.90699506]\n",
            " [0.85146785]\n",
            " [0.8673582 ]\n",
            " [0.88346815]\n",
            " [0.90393126]\n",
            " [0.76672363]\n",
            " [0.89208376]\n",
            " [0.8740249 ]\n",
            " [0.8926023 ]\n",
            " [0.8453615 ]\n",
            " [0.8841994 ]\n",
            " [0.89107877]\n",
            " [0.8687144 ]\n",
            " [0.7854502 ]\n",
            " [0.80649734]\n",
            " [0.8980894 ]\n",
            " [0.9267397 ]\n",
            " [0.89411664]\n",
            " [0.9005939 ]\n",
            " [0.8995677 ]\n",
            " [0.8927335 ]\n",
            " [0.8973061 ]\n",
            " [0.85703653]\n",
            " [0.87689465]\n",
            " [0.8668277 ]\n",
            " [0.8931531 ]\n",
            " [0.93511546]\n",
            " [0.9034319 ]\n",
            " [0.8642116 ]\n",
            " [0.8833802 ]\n",
            " [0.8995505 ]\n",
            " [0.8020983 ]\n",
            " [0.81246555]\n",
            " [0.9069597 ]\n",
            " [0.84381586]\n",
            " [0.879235  ]\n",
            " [0.908299  ]\n",
            " [0.8958889 ]\n",
            " [0.904714  ]\n",
            " [0.8887922 ]]\n",
            "2020-05-30 19:18:46 INFO     F1 score at threshold 0.1 is 0.9473684210526316\n",
            "2020-05-30 19:18:46 INFO     Accuracy at threshold 0.1 is 0.9\n",
            "2020-05-30 19:18:46 INFO     F1 score at threshold 0.11 is 0.9473684210526316\n",
            "2020-05-30 19:18:46 INFO     Accuracy at threshold 0.11 is 0.9\n",
            "2020-05-30 19:18:46 INFO     F1 score at threshold 0.12 is 0.9473684210526316\n",
            "2020-05-30 19:18:46 INFO     Accuracy at threshold 0.12 is 0.9\n",
            "2020-05-30 19:18:46 INFO     F1 score at threshold 0.13 is 0.9473684210526316\n",
            "2020-05-30 19:18:46 INFO     Accuracy at threshold 0.13 is 0.9\n",
            "2020-05-30 19:18:46 INFO     F1 score at threshold 0.14 is 0.9473684210526316\n",
            "2020-05-30 19:18:46 INFO     Accuracy at threshold 0.14 is 0.9\n",
            "2020-05-30 19:18:46 INFO     F1 score at threshold 0.15 is 0.9473684210526316\n",
            "2020-05-30 19:18:46 INFO     Accuracy at threshold 0.15 is 0.9\n",
            "2020-05-30 19:18:46 INFO     F1 score at threshold 0.16 is 0.9473684210526316\n",
            "2020-05-30 19:18:46 INFO     Accuracy at threshold 0.16 is 0.9\n",
            "2020-05-30 19:18:46 INFO     F1 score at threshold 0.17 is 0.9473684210526316\n",
            "2020-05-30 19:18:46 INFO     Accuracy at threshold 0.17 is 0.9\n",
            "2020-05-30 19:18:46 INFO     F1 score at threshold 0.18 is 0.9473684210526316\n",
            "2020-05-30 19:18:46 INFO     Accuracy at threshold 0.18 is 0.9\n",
            "2020-05-30 19:18:46 INFO     F1 score at threshold 0.19 is 0.9473684210526316\n",
            "2020-05-30 19:18:46 INFO     Accuracy at threshold 0.19 is 0.9\n",
            "2020-05-30 19:18:46 INFO     F1 score at threshold 0.2 is 0.9473684210526316\n",
            "2020-05-30 19:18:46 INFO     Accuracy at threshold 0.2 is 0.9\n",
            "2020-05-30 19:18:46 INFO     F1 score at threshold 0.21 is 0.9473684210526316\n",
            "2020-05-30 19:18:46 INFO     Accuracy at threshold 0.21 is 0.9\n",
            "2020-05-30 19:18:46 INFO     F1 score at threshold 0.22 is 0.9473684210526316\n",
            "2020-05-30 19:18:46 INFO     Accuracy at threshold 0.22 is 0.9\n",
            "2020-05-30 19:18:46 INFO     F1 score at threshold 0.23 is 0.9473684210526316\n",
            "2020-05-30 19:18:46 INFO     Accuracy at threshold 0.23 is 0.9\n",
            "2020-05-30 19:18:46 INFO     F1 score at threshold 0.24 is 0.9473684210526316\n",
            "2020-05-30 19:18:46 INFO     Accuracy at threshold 0.24 is 0.9\n",
            "2020-05-30 19:18:46 INFO     F1 score at threshold 0.25 is 0.9473684210526316\n",
            "2020-05-30 19:18:46 INFO     Accuracy at threshold 0.25 is 0.9\n",
            "2020-05-30 19:18:46 INFO     F1 score at threshold 0.26 is 0.9473684210526316\n",
            "2020-05-30 19:18:46 INFO     Accuracy at threshold 0.26 is 0.9\n",
            "2020-05-30 19:18:46 INFO     F1 score at threshold 0.27 is 0.9473684210526316\n",
            "2020-05-30 19:18:46 INFO     Accuracy at threshold 0.27 is 0.9\n",
            "2020-05-30 19:18:46 INFO     F1 score at threshold 0.28 is 0.9473684210526316\n",
            "2020-05-30 19:18:46 INFO     Accuracy at threshold 0.28 is 0.9\n",
            "2020-05-30 19:18:46 INFO     F1 score at threshold 0.29 is 0.9473684210526316\n",
            "2020-05-30 19:18:46 INFO     Accuracy at threshold 0.29 is 0.9\n",
            "2020-05-30 19:18:46 INFO     F1 score at threshold 0.3 is 0.9473684210526316\n",
            "2020-05-30 19:18:46 INFO     Accuracy at threshold 0.3 is 0.9\n",
            "2020-05-30 19:18:46 INFO     F1 score at threshold 0.31 is 0.9473684210526316\n",
            "2020-05-30 19:18:46 INFO     Accuracy at threshold 0.31 is 0.9\n",
            "2020-05-30 19:18:46 INFO     F1 score at threshold 0.32 is 0.9473684210526316\n",
            "2020-05-30 19:18:46 INFO     Accuracy at threshold 0.32 is 0.9\n",
            "2020-05-30 19:18:46 INFO     F1 score at threshold 0.33 is 0.9473684210526316\n",
            "2020-05-30 19:18:46 INFO     Accuracy at threshold 0.33 is 0.9\n",
            "2020-05-30 19:18:46 INFO     F1 score at threshold 0.34 is 0.9473684210526316\n",
            "2020-05-30 19:18:46 INFO     Accuracy at threshold 0.34 is 0.9\n",
            "2020-05-30 19:18:46 INFO     F1 score at threshold 0.35 is 0.9473684210526316\n",
            "2020-05-30 19:18:46 INFO     Accuracy at threshold 0.35 is 0.9\n",
            "2020-05-30 19:18:46 INFO     F1 score at threshold 0.36 is 0.9473684210526316\n",
            "2020-05-30 19:18:46 INFO     Accuracy at threshold 0.36 is 0.9\n",
            "2020-05-30 19:18:46 INFO     F1 score at threshold 0.37 is 0.9473684210526316\n",
            "2020-05-30 19:18:46 INFO     Accuracy at threshold 0.37 is 0.9\n",
            "2020-05-30 19:18:46 INFO     F1 score at threshold 0.38 is 0.9473684210526316\n",
            "2020-05-30 19:18:46 INFO     Accuracy at threshold 0.38 is 0.9\n",
            "2020-05-30 19:18:46 INFO     F1 score at threshold 0.39 is 0.9473684210526316\n",
            "2020-05-30 19:18:46 INFO     Accuracy at threshold 0.39 is 0.9\n",
            "2020-05-30 19:18:46 INFO     F1 score at threshold 0.4 is 0.9473684210526316\n",
            "2020-05-30 19:18:46 INFO     Accuracy at threshold 0.4 is 0.9\n",
            "2020-05-30 19:18:46 INFO     F1 score at threshold 0.41 is 0.9473684210526316\n",
            "2020-05-30 19:18:46 INFO     Accuracy at threshold 0.41 is 0.9\n",
            "2020-05-30 19:18:46 INFO     F1 score at threshold 0.42 is 0.9473684210526316\n",
            "2020-05-30 19:18:46 INFO     Accuracy at threshold 0.42 is 0.9\n",
            "2020-05-30 19:18:46 INFO     F1 score at threshold 0.43 is 0.9473684210526316\n",
            "2020-05-30 19:18:46 INFO     Accuracy at threshold 0.43 is 0.9\n",
            "2020-05-30 19:18:46 INFO     F1 score at threshold 0.44 is 0.9473684210526316\n",
            "2020-05-30 19:18:46 INFO     Accuracy at threshold 0.44 is 0.9\n",
            "2020-05-30 19:18:46 INFO     F1 score at threshold 0.45 is 0.9473684210526316\n",
            "2020-05-30 19:18:46 INFO     Accuracy at threshold 0.45 is 0.9\n",
            "2020-05-30 19:18:46 INFO     F1 score at threshold 0.46 is 0.9473684210526316\n",
            "2020-05-30 19:18:46 INFO     Accuracy at threshold 0.46 is 0.9\n",
            "2020-05-30 19:18:46 INFO     F1 score at threshold 0.47 is 0.9473684210526316\n",
            "2020-05-30 19:18:47 INFO     Accuracy at threshold 0.47 is 0.9\n",
            "2020-05-30 19:18:47 INFO     F1 score at threshold 0.48 is 0.9473684210526316\n",
            "2020-05-30 19:18:47 INFO     Accuracy at threshold 0.48 is 0.9\n",
            "2020-05-30 19:18:47 INFO     F1 score at threshold 0.49 is 0.9473684210526316\n",
            "2020-05-30 19:18:47 INFO     Accuracy at threshold 0.49 is 0.9\n",
            "2020-05-30 19:18:47 INFO     F1 score at threshold 0.5 is 0.9473684210526316\n",
            "2020-05-30 19:18:47 INFO     Accuracy at threshold 0.5 is 0.9\n",
            "2020-05-30 19:18:47 INFO     F1 score at threshold 0.51 is 0.9473684210526316\n",
            "2020-05-30 19:18:47 INFO     Accuracy at threshold 0.51 is 0.9\n",
            "2020-05-30 19:18:47 INFO     F1 score at threshold 0.52 is 0.9473684210526316\n",
            "2020-05-30 19:18:47 INFO     Accuracy at threshold 0.52 is 0.9\n",
            "2020-05-30 19:18:47 INFO     F1 score at threshold 0.53 is 0.9473684210526316\n",
            "2020-05-30 19:18:47 INFO     Accuracy at threshold 0.53 is 0.9\n",
            "2020-05-30 19:18:47 INFO     F1 score at threshold 0.54 is 0.9473684210526316\n",
            "2020-05-30 19:18:47 INFO     Accuracy at threshold 0.54 is 0.9\n",
            "2020-05-30 19:18:47 INFO     F1 score at threshold 0.55 is 0.9473684210526316\n",
            "2020-05-30 19:18:47 INFO     Accuracy at threshold 0.55 is 0.9\n",
            "2020-05-30 19:18:47 INFO     F1 score at threshold 0.56 is 0.9473684210526316\n",
            "2020-05-30 19:18:47 INFO     Accuracy at threshold 0.56 is 0.9\n",
            "2020-05-30 19:18:47 INFO     F1 score at threshold 0.57 is 0.9473684210526316\n",
            "2020-05-30 19:18:47 INFO     Accuracy at threshold 0.57 is 0.9\n",
            "2020-05-30 19:18:47 INFO     F1 score at threshold 0.58 is 0.9473684210526316\n",
            "2020-05-30 19:18:47 INFO     Accuracy at threshold 0.58 is 0.9\n",
            "2020-05-30 19:18:47 INFO     F1 score at threshold 0.59 is 0.9473684210526316\n",
            "2020-05-30 19:18:47 INFO     Accuracy at threshold 0.59 is 0.9\n",
            "2020-05-30 19:18:47 INFO     F1 score at threshold 0.6 is 0.9473684210526316\n",
            "2020-05-30 19:18:47 INFO     Accuracy at threshold 0.6 is 0.9\n",
            "2020-05-30 19:18:47 INFO     F1 score at threshold 0.61 is 0.9473684210526316\n",
            "2020-05-30 19:18:47 INFO     Accuracy at threshold 0.61 is 0.9\n",
            "2020-05-30 19:18:47 INFO     F1 score at threshold 0.62 is 0.9473684210526316\n",
            "2020-05-30 19:18:47 INFO     Accuracy at threshold 0.62 is 0.9\n",
            "2020-05-30 19:18:47 INFO     F1 score at threshold 0.63 is 0.948502994011976\n",
            "2020-05-30 19:18:47 INFO     Accuracy at threshold 0.63 is 0.9022727272727272\n",
            "2020-05-30 19:18:47 INFO     F1 score at threshold 0.64 is 0.948502994011976\n",
            "2020-05-30 19:18:47 INFO     Accuracy at threshold 0.64 is 0.9022727272727272\n",
            "2020-05-30 19:18:47 INFO     F1 score at threshold 0.65 is 0.9459783913565426\n",
            "2020-05-30 19:18:47 INFO     Accuracy at threshold 0.65 is 0.8977272727272727\n",
            "2020-05-30 19:18:47 INFO     F1 score at threshold 0.66 is 0.946987951807229\n",
            "2020-05-30 19:18:47 INFO     Accuracy at threshold 0.66 is 0.9\n",
            "2020-05-30 19:18:47 INFO     F1 score at threshold 0.67 is 0.946987951807229\n",
            "2020-05-30 19:18:47 INFO     Accuracy at threshold 0.67 is 0.9\n",
            "2020-05-30 19:18:47 INFO     F1 score at threshold 0.68 is 0.9417475728155339\n",
            "2020-05-30 19:18:47 INFO     Accuracy at threshold 0.68 is 0.8909090909090909\n",
            "2020-05-30 19:18:47 INFO     F1 score at threshold 0.69 is 0.9391727493917273\n",
            "2020-05-30 19:18:47 INFO     Accuracy at threshold 0.69 is 0.8863636363636364\n",
            "2020-05-30 19:18:47 INFO     F1 score at threshold 0.7 is 0.9338235294117646\n",
            "2020-05-30 19:18:47 INFO     Accuracy at threshold 0.7 is 0.8772727272727273\n",
            "2020-05-30 19:18:47 INFO     F1 score at threshold 0.71 is 0.9312039312039311\n",
            "2020-05-30 19:18:47 INFO     Accuracy at threshold 0.71 is 0.8727272727272727\n",
            "2020-05-30 19:18:47 INFO     F1 score at threshold 0.72 is 0.927070457354759\n",
            "2020-05-30 19:18:47 INFO     Accuracy at threshold 0.72 is 0.865909090909091\n",
            "2020-05-30 19:18:47 INFO     F1 score at threshold 0.73 is 0.9188514357053684\n",
            "2020-05-30 19:18:47 INFO     Accuracy at threshold 0.73 is 0.8522727272727273\n",
            "2020-05-30 19:18:47 INFO     F1 score at threshold 0.74 is 0.9104665825977302\n",
            "2020-05-30 19:18:47 INFO     Accuracy at threshold 0.74 is 0.8386363636363636\n",
            "2020-05-30 19:18:47 INFO     F1 score at threshold 0.75 is 0.9063291139240507\n",
            "2020-05-30 19:18:47 INFO     Accuracy at threshold 0.75 is 0.8318181818181818\n",
            "2020-05-30 19:18:47 INFO     F1 score at threshold 0.76 is 0.900763358778626\n",
            "2020-05-30 19:18:47 INFO     Accuracy at threshold 0.76 is 0.8227272727272728\n",
            "2020-05-30 19:18:47 INFO     F1 score at threshold 0.77 is 0.8906048906048907\n",
            "2020-05-30 19:18:47 INFO     Accuracy at threshold 0.77 is 0.8068181818181818\n",
            "2020-05-30 19:18:47 INFO     F1 score at threshold 0.78 is 0.8790637191157348\n",
            "2020-05-30 19:18:47 INFO     Accuracy at threshold 0.78 is 0.7886363636363637\n",
            "2020-05-30 19:18:47 INFO     F1 score at threshold 0.79 is 0.8702490170380079\n",
            "2020-05-30 19:18:47 INFO     Accuracy at threshold 0.79 is 0.775\n",
            "2020-05-30 19:18:47 INFO     F1 score at threshold 0.8 is 0.8597883597883598\n",
            "2020-05-30 19:18:47 INFO     Accuracy at threshold 0.8 is 0.759090909090909\n"
          ],
          "name": "stdout"
        }
      ]
    },
    {
      "cell_type": "code",
      "metadata": {
        "id": "JaSwqigUZA60",
        "colab_type": "code",
        "outputId": "4fdebedb-d30b-46b0-acef-b536cc83b50f",
        "colab": {
          "base_uri": "https://localhost:8080/",
          "height": 295
        }
      },
      "source": [
        "# plot two measures\n",
        "plt.plot(threshes, f1_scores, color='blue', label='f1')\n",
        "plt.plot(threshes, accuracy_scores, color='green', label='acc')\n",
        "plt.title('Threshold vs f1_scores/acc')\n",
        "plt.ylabel('f1_scores/acc')\n",
        "plt.xlabel('Threshold')\n",
        "plt.legend()\n",
        "plt.show()"
      ],
      "execution_count": 49,
      "outputs": [
        {
          "output_type": "display_data",
          "data": {
            "image/png": "[encoded data removed]",
            "text/plain": [
              "<Figure size 432x288 with 1 Axes>"
            ]
          },
          "metadata": {
            "tags": [],
            "needs_background": "light"
          }
        }
      ]
    },
    {
      "cell_type": "code",
      "metadata": {
        "id": "OOh74l0KZA65",
        "colab_type": "code",
        "outputId": "1444fbf1-11b8-40ee-9ef8-cc0008be8d9a",
        "colab": {
          "base_uri": "https://localhost:8080/",
          "height": 34
        }
      },
      "source": [
        "logging.info('=========done===========')"
      ],
      "execution_count": 50,
      "outputs": [
        {
          "output_type": "stream",
          "text": [
            "2020-05-30 19:19:06 INFO     =========done===========\n"
          ],
          "name": "stdout"
        }
      ]
    },
    {
      "cell_type": "code",
      "metadata": {
        "id": "QIkFJIMFYaDB",
        "colab_type": "code",
        "colab": {}
      },
      "source": [
        ""
      ],
      "execution_count": 0,
      "outputs": []
    },
    {
      "cell_type": "markdown",
      "metadata": {
        "id": "bK7spt4DYanW",
        "colab_type": "text"
      },
      "source": [
        "## Hybrid Model"
      ]
    },
    {
      "cell_type": "code",
      "metadata": {
        "id": "RorzEqLcYn57",
        "colab_type": "code",
        "outputId": "0c7cb49f-174b-452d-c5cd-e8dff16fa0ac",
        "colab": {
          "base_uri": "https://localhost:8080/",
          "height": 130
        }
      },
      "source": [
        "from tensorflow.keras import layers\n",
        "from keras.initializers import Constant\n",
        "from keras.regularizers import regularizers\n",
        "\n",
        "\n",
        "model_CNN = tf.keras.Sequential()\n",
        "model_CNN.add(layers.Embedding(nb_words,\n",
        "                                300,\n",
        "                                weights=[embedding_matrix],\n",
        "                                input_length=max_len,\n",
        "                                trainable=False))\n",
        "model_CNN.add(layers.Conv1D(300, \n",
        "                            kernel_size=5, \n",
        "                            activation='relu',\n",
        "                            name='Conv1'))\n",
        "model_CNN.add(layers.GlobalMaxPool1D())\n",
        "\n",
        "\n",
        "# model_CNN.add(layers.GlobalMaxPool1D())\n",
        "#model_CNN.add(layers.Dense(10, activation=\"relu\"))\n",
        "\n",
        "model_CNN.add(layers.Dense(1,kernel_regularizer=l2(0.01), activation='sigmoid')\n",
        "#model_CNN.add(Activation('linear'))\n",
        "#model_CNN.summary()\n",
        "model_CNN.summary()"
      ],
      "execution_count": 0,
      "outputs": [
        {
          "output_type": "error",
          "ename": "SyntaxError",
          "evalue": "ignored",
          "traceback": [
            "\u001b[0;36m  File \u001b[0;32m\"<ipython-input-50-b9c26fe2db18>\"\u001b[0;36m, line \u001b[0;32m25\u001b[0m\n\u001b[0;31m    model_CNN.summary()\u001b[0m\n\u001b[0m            ^\u001b[0m\n\u001b[0;31mSyntaxError\u001b[0m\u001b[0;31m:\u001b[0m invalid syntax\n"
          ]
        }
      ]
    },
    {
      "cell_type": "code",
      "metadata": {
        "id": "wr6DOoG-X6rD",
        "colab_type": "code",
        "outputId": "73d2ea38-acf6-4b12-b6e5-5d9a05de332f",
        "colab": {
          "base_uri": "https://localhost:8080/",
          "height": 232
        }
      },
      "source": [
        "model_CNN.compile(loss='binary_crossentropy', optimizer='adam', metrics=['accuracy'])\n",
        "\n",
        "from tensorflow.keras.callbacks import EarlyStopping\n",
        "callbacks = EarlyStopping(monitor='val_loss', min_delta=0, patience = 2)\n",
        "history = model_CNN.fit(train_X, \n",
        "                        train_y, \n",
        "                        batch_size=512, \n",
        "                        epochs=14, \n",
        "                        validation_data=(val_X, val_y),\n",
        "                        callbacks=callbacks\n",
        "                        )"
      ],
      "execution_count": 0,
      "outputs": [
        {
          "output_type": "error",
          "ename": "NameError",
          "evalue": "ignored",
          "traceback": [
            "\u001b[0;31m---------------------------------------------------------------------------\u001b[0m",
            "\u001b[0;31mNameError\u001b[0m                                 Traceback (most recent call last)",
            "\u001b[0;32m<ipython-input-5-415af488be08>\u001b[0m in \u001b[0;36m<module>\u001b[0;34m()\u001b[0m\n\u001b[0;32m----> 1\u001b[0;31m \u001b[0mmodel_CNN\u001b[0m\u001b[0;34m.\u001b[0m\u001b[0mcompile\u001b[0m\u001b[0;34m(\u001b[0m\u001b[0mloss\u001b[0m\u001b[0;34m=\u001b[0m\u001b[0;34m'binary_crossentropy'\u001b[0m\u001b[0;34m,\u001b[0m \u001b[0moptimizer\u001b[0m\u001b[0;34m=\u001b[0m\u001b[0;34m'adam'\u001b[0m\u001b[0;34m,\u001b[0m \u001b[0mmetrics\u001b[0m\u001b[0;34m=\u001b[0m\u001b[0;34m[\u001b[0m\u001b[0;34m'accuracy'\u001b[0m\u001b[0;34m]\u001b[0m\u001b[0;34m)\u001b[0m\u001b[0;34m\u001b[0m\u001b[0;34m\u001b[0m\u001b[0m\n\u001b[0m\u001b[1;32m      2\u001b[0m \u001b[0;34m\u001b[0m\u001b[0m\n\u001b[1;32m      3\u001b[0m \u001b[0;32mfrom\u001b[0m \u001b[0mtensorflow\u001b[0m\u001b[0;34m.\u001b[0m\u001b[0mkeras\u001b[0m\u001b[0;34m.\u001b[0m\u001b[0mcallbacks\u001b[0m \u001b[0;32mimport\u001b[0m \u001b[0mEarlyStopping\u001b[0m\u001b[0;34m\u001b[0m\u001b[0;34m\u001b[0m\u001b[0m\n\u001b[1;32m      4\u001b[0m \u001b[0mcallbacks\u001b[0m \u001b[0;34m=\u001b[0m \u001b[0mEarlyStopping\u001b[0m\u001b[0;34m(\u001b[0m\u001b[0mmonitor\u001b[0m\u001b[0;34m=\u001b[0m\u001b[0;34m'val_loss'\u001b[0m\u001b[0;34m,\u001b[0m \u001b[0mmin_delta\u001b[0m\u001b[0;34m=\u001b[0m\u001b[0;36m0\u001b[0m\u001b[0;34m,\u001b[0m \u001b[0mpatience\u001b[0m \u001b[0;34m=\u001b[0m \u001b[0;36m2\u001b[0m\u001b[0;34m)\u001b[0m\u001b[0;34m\u001b[0m\u001b[0;34m\u001b[0m\u001b[0m\n\u001b[1;32m      5\u001b[0m history = model_CNN.fit(train_X, \n",
            "\u001b[0;31mNameError\u001b[0m: name 'model_CNN' is not defined"
          ]
        }
      ]
    },
    {
      "cell_type": "code",
      "metadata": {
        "id": "qzEs5gGpYR-G",
        "colab_type": "code",
        "outputId": "a4ac8856-b651-43e3-d9dd-bee65e514048",
        "colab": {
          "base_uri": "https://localhost:8080/",
          "height": 573
        }
      },
      "source": [
        "\n",
        "# Plot training & validation accuracy values\n",
        "import matplotlib.pyplot as plt \n",
        "plt.plot(history.history['accuracy'])\n",
        "plt.plot(history.history['val_accuracy'])\n",
        "plt.title('Model accuracy')\n",
        "plt.ylabel('Accuracy')\n",
        "plt.xlabel('Epoch')\n",
        "plt.legend(['Train', 'Val'], loc='upper left')\n",
        "plt.show()\n",
        "\n",
        "# Plot training & validation loss values\n",
        "plt.plot(history.history['loss'])\n",
        "plt.plot(history.history['val_loss'])\n",
        "plt.title('Model loss')\n",
        "plt.ylabel('Loss')\n",
        "plt.xlabel('Epoch')\n",
        "plt.legend(['Train', 'Val'], loc='upper left')\n",
        "plt.show()"
      ],
      "execution_count": 0,
      "outputs": [
        {
          "output_type": "display_data",
          "data": {
            "image/png": "[encoded data removed]",
            "text/plain": [
              "<Figure size 432x288 with 1 Axes>"
            ]
          },
          "metadata": {
            "tags": [],
            "needs_background": "light"
          }
        },
        {
          "output_type": "display_data",
          "data": {
            "image/png": "[encoded data removed]",
            "text/plain": [
              "<Figure size 432x288 with 1 Axes>"
            ]
          },
          "metadata": {
            "tags": [],
            "needs_background": "light"
          }
        }
      ]
    },
    {
      "cell_type": "code",
      "metadata": {
        "id": "avN_tCKLa3pa",
        "colab_type": "code",
        "outputId": "b512f684-76d2-448c-fa89-7ee4922c2fa8",
        "colab": {
          "base_uri": "https://localhost:8080/",
          "height": 493
        }
      },
      "source": [
        "from tensorflow.keras import layers\n",
        "from keras.initializers import Constant\n",
        "from tensorflow.keras import regularizers\n",
        "\n",
        "model_CNNx = tf.keras.Sequential()\n",
        "model_CNNx.add(layers.Embedding(nb_words,\n",
        "                                100,\n",
        "                                input_length=max_len,))\n",
        "model_CNNx.add(layers.Conv1D(100,\n",
        "                             kernel_size=3,\n",
        "                             activation='relu',\n",
        "                             name='Conv1'))\n",
        "model_CNNx.add(layers.GlobalMaxPool1D())\n",
        "model_CNNx.add(layers.Reshape((100,1)))\n",
        "model_CNNx.add(layers.Conv1D(100, kernel_size=5,\n",
        "                             activation='relu',\n",
        "                             name='Conv2'))\n",
        "model_CNNx.add(layers.Conv1D(100, kernel_size=3,\n",
        "                             activation='relu',\n",
        "                             name='Conv3'))\n",
        "model_CNNx.add(layers.GlobalMaxPool1D())\n",
        "model_CNNx.add(layers.Dense(10,kernel_regularizer=regularizers.l2(0.01), activation='sigmoid'))\n",
        "model_CNNx.add(layers.Dropout(0.2))\n",
        "model_CNNx.add(layers.Dense(1, activation=\"sigmoid\"))\n",
        "model_CNNx.summary()\n",
        "\n",
        "\n",
        "\n",
        "\n",
        "                                \n",
        "\n",
        "                               "
      ],
      "execution_count": 51,
      "outputs": [
        {
          "output_type": "stream",
          "text": [
            "Model: \"sequential_2\"\n",
            "_________________________________________________________________\n",
            "Layer (type)                 Output Shape              Param #   \n",
            "=================================================================\n",
            "embedding_2 (Embedding)      (None, 70, 100)           1004300   \n",
            "_________________________________________________________________\n",
            "Conv1 (Conv1D)               (None, 68, 100)           30100     \n",
            "_________________________________________________________________\n",
            "global_max_pooling1d (Global (None, 100)               0         \n",
            "_________________________________________________________________\n",
            "reshape (Reshape)            (None, 100, 1)            0         \n",
            "_________________________________________________________________\n",
            "Conv2 (Conv1D)               (None, 96, 100)           600       \n",
            "_________________________________________________________________\n",
            "Conv3 (Conv1D)               (None, 94, 100)           30100     \n",
            "_________________________________________________________________\n",
            "global_max_pooling1d_1 (Glob (None, 100)               0         \n",
            "_________________________________________________________________\n",
            "dense_4 (Dense)              (None, 10)                1010      \n",
            "_________________________________________________________________\n",
            "dropout_2 (Dropout)          (None, 10)                0         \n",
            "_________________________________________________________________\n",
            "dense_5 (Dense)              (None, 1)                 11        \n",
            "=================================================================\n",
            "Total params: 1,066,121\n",
            "Trainable params: 1,066,121\n",
            "Non-trainable params: 0\n",
            "_________________________________________________________________\n"
          ],
          "name": "stdout"
        }
      ]
    },
    {
      "cell_type": "code",
      "metadata": {
        "id": "VNUBZF0qa30A",
        "colab_type": "code",
        "outputId": "0fe13218-88d8-48c1-c5c0-4919ab3b77f4",
        "colab": {
          "base_uri": "https://localhost:8080/",
          "height": 513
        }
      },
      "source": [
        "model_CNNx.compile(loss=tf.keras.losses.SquaredHinge(), optimizer='adam', metrics=['accuracy'])\n",
        "#loss=tf.keras.losses.Hinge())\n",
        "from tensorflow.keras.callbacks import EarlyStopping\n",
        "callbacks = EarlyStopping(monitor='val_loss', min_delta=0, patience = 2)\n",
        "history = model_CNNx.fit(train_X, \n",
        "                        train_y, \n",
        "                        batch_size=512, \n",
        "                        epochs=14, \n",
        "                        validation_data=(val_X, val_y),\n",
        "                        callbacks=callbacks\n",
        "                        )"
      ],
      "execution_count": 52,
      "outputs": [
        {
          "output_type": "stream",
          "text": [
            "Epoch 1/14\n",
            "7/7 [==============================] - 3s 438ms/step - loss: 0.6608 - accuracy: 0.6614 - val_loss: 0.5882 - val_accuracy: 0.9000\n",
            "Epoch 2/14\n",
            "7/7 [==============================] - 3s 416ms/step - loss: 0.6295 - accuracy: 0.7063 - val_loss: 0.5593 - val_accuracy: 0.9000\n",
            "Epoch 3/14\n",
            "7/7 [==============================] - 3s 408ms/step - loss: 0.6072 - accuracy: 0.7827 - val_loss: 0.5267 - val_accuracy: 0.9000\n",
            "Epoch 4/14\n",
            "7/7 [==============================] - 3s 406ms/step - loss: 0.5766 - accuracy: 0.8364 - val_loss: 0.4950 - val_accuracy: 0.9000\n",
            "Epoch 5/14\n",
            "7/7 [==============================] - 3s 408ms/step - loss: 0.5544 - accuracy: 0.8690 - val_loss: 0.4754 - val_accuracy: 0.9000\n",
            "Epoch 6/14\n",
            "7/7 [==============================] - 3s 406ms/step - loss: 0.5365 - accuracy: 0.8739 - val_loss: 0.4634 - val_accuracy: 0.9000\n",
            "Epoch 7/14\n",
            "7/7 [==============================] - 3s 408ms/step - loss: 0.5213 - accuracy: 0.8713 - val_loss: 0.4536 - val_accuracy: 0.9000\n",
            "Epoch 8/14\n",
            "7/7 [==============================] - 3s 411ms/step - loss: 0.5089 - accuracy: 0.8741 - val_loss: 0.4458 - val_accuracy: 0.9000\n",
            "Epoch 9/14\n",
            "7/7 [==============================] - 3s 408ms/step - loss: 0.4901 - accuracy: 0.8724 - val_loss: 0.4373 - val_accuracy: 0.9000\n",
            "Epoch 10/14\n",
            "7/7 [==============================] - 3s 405ms/step - loss: 0.4711 - accuracy: 0.8793 - val_loss: 0.4292 - val_accuracy: 0.9000\n",
            "Epoch 11/14\n",
            "7/7 [==============================] - 3s 407ms/step - loss: 0.4479 - accuracy: 0.8835 - val_loss: 0.4239 - val_accuracy: 0.9000\n",
            "Epoch 12/14\n",
            "7/7 [==============================] - 3s 407ms/step - loss: 0.4242 - accuracy: 0.8983 - val_loss: 0.4216 - val_accuracy: 0.8750\n",
            "Epoch 13/14\n",
            "7/7 [==============================] - 3s 403ms/step - loss: 0.3951 - accuracy: 0.9230 - val_loss: 0.4250 - val_accuracy: 0.8227\n",
            "Epoch 14/14\n",
            "7/7 [==============================] - 3s 408ms/step - loss: 0.3607 - accuracy: 0.9415 - val_loss: 0.4313 - val_accuracy: 0.8136\n"
          ],
          "name": "stdout"
        }
      ]
    },
    {
      "cell_type": "code",
      "metadata": {
        "id": "Ui-9x-nSa36s",
        "colab_type": "code",
        "outputId": "ec7ee981-18a6-42e8-fd89-ec193a629f40",
        "colab": {
          "base_uri": "https://localhost:8080/",
          "height": 573
        }
      },
      "source": [
        "# Plot training & validation accuracy values\n",
        "import matplotlib.pyplot as plt \n",
        "plt.plot(history.history['accuracy'])\n",
        "plt.plot(history.history['val_accuracy'])\n",
        "plt.title('CNN+ SVM Hybrid Model accuracy')\n",
        "plt.ylabel('Accuracy')\n",
        "plt.xlabel('Epoch')\n",
        "plt.legend(['Train', 'Val'], loc='upper left')\n",
        "plt.show()\n",
        "\n",
        "# Plot training & validation loss values\n",
        "plt.plot(history.history['loss'])\n",
        "plt.plot(history.history['val_loss'])\n",
        "plt.title('CNN+ SVM Hybrid Model loss')\n",
        "plt.ylabel('Loss')\n",
        "plt.xlabel('Epoch')\n",
        "plt.legend(['Train', 'Val'], loc='upper left')\n",
        "plt.show()"
      ],
      "execution_count": 53,
      "outputs": [
        {
          "output_type": "display_data",
          "data": {
            "image/png": "[encoded data removed]",
            "text/plain": [
              "<Figure size 432x288 with 1 Axes>"
            ]
          },
          "metadata": {
            "tags": [],
            "needs_background": "light"
          }
        },
        {
          "output_type": "display_data",
          "data": {
            "image/png": "[encoded data removed]",
            "text/plain": [
              "<Figure size 432x288 with 1 Axes>"
            ]
          },
          "metadata": {
            "tags": [],
            "needs_background": "light"
          }
        }
      ]
    },
    {
      "cell_type": "code",
      "metadata": {
        "id": "AaQ_ik4LNQGg",
        "colab_type": "code",
        "outputId": "207d58a1-0fa7-49d4-afef-69f7e896aaef",
        "colab": {
          "base_uri": "https://localhost:8080/",
          "height": 34
        }
      },
      "source": [
        "pred_emb_val_yx = model_CNNx.predict([val_X], batch_size=512, verbose=1)\n",
        "#print(pred_noemb_val_y)"
      ],
      "execution_count": 54,
      "outputs": [
        {
          "output_type": "stream",
          "text": [
            "1/1 [==============================] - 0s 2ms/step\n"
          ],
          "name": "stdout"
        }
      ]
    },
    {
      "cell_type": "code",
      "metadata": {
        "id": "rkm_NOipa3_7",
        "colab_type": "code",
        "outputId": "0cedefb3-b823-4fbd-e248-1531faf09abe",
        "colab": {
          "base_uri": "https://localhost:8080/",
          "height": 71
        }
      },
      "source": [
        "def cnn_svm_confusion_matrix(pred_emb_val_yx, val_y):\n",
        "    pred_val_y = pred_emb_val_yx > 0.5\n",
        "    tn, fp, fn, tp = confusion_matrix(pred_val_y, val_y).ravel()\n",
        "    print('tn', tn, 'fp', fp, 'fn', fn, 'tp', tp)\n",
        "\n",
        "    cnn_acc = accuracy_score(pred_val_y, val_y)\n",
        "    cnn_precision = precision_score(pred_val_y, val_y)\n",
        "    cnn_recall = recall_score(pred_val_y, val_y)\n",
        "    cnn_f1_score = f1_score(pred_val_y, val_y)\n",
        "    return cnn_acc, cnn_precision, cnn_recall, cnn_f1_score, pred_val_y, tn, fp, fn, tp\n",
        "\n",
        "cnn_acc, cnn_precision, cnn_recall, cnn_f1_score, cnn_val_y_cnn_emb, tn_c_e, fp_c_e, fn_c_e, tp_c_e = cnn_svm_confusion_matrix(pred_emb_val_yx, val_y)\n",
        "print('cnn_svm_acc: ',cnn_acc, ', cnn_svm_precision: ', cnn_precision, ', cnn_svm_recall: ', cnn_recall, ', cnn_svm_f1_score', cnn_f1_score)"
      ],
      "execution_count": 55,
      "outputs": [
        {
          "output_type": "stream",
          "text": [
            "tn 9 fp 47 fn 35 tp 349\n",
            "cnn_svm_acc:  0.8136363636363636 , cnn_svm_precision:  0.8813131313131313 , cnn_svm_recall:  0.9088541666666666 , cnn_svm_f1_score 0.8948717948717948\n"
          ],
          "name": "stdout"
        }
      ]
    },
    {
      "cell_type": "code",
      "metadata": {
        "id": "vR4KdBmia4Kq",
        "colab_type": "code",
        "colab": {}
      },
      "source": [
        ""
      ],
      "execution_count": 0,
      "outputs": []
    },
    {
      "cell_type": "code",
      "metadata": {
        "id": "41szzz3_a34x",
        "colab_type": "code",
        "colab": {}
      },
      "source": [
        ""
      ],
      "execution_count": 0,
      "outputs": []
    }
  ]
}