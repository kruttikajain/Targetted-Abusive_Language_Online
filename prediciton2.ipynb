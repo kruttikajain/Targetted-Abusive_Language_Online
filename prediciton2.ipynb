{
  "nbformat": 4,
  "nbformat_minor": 0,
  "metadata": {
    "kernelspec": {
      "display_name": "Python 3",
      "language": "python",
      "name": "python3"
    },
    "language_info": {
      "codemirror_mode": {
        "name": "ipython",
        "version": 3
      },
      "file_extension": ".py",
      "mimetype": "text/x-python",
      "name": "python",
      "nbconvert_exporter": "python",
      "pygments_lexer": "ipython3",
      "version": "3.6.6"
    },
    "colab": {
      "name": "prediciton1.ipynb",
      "provenance": [],
      "collapsed_sections": [],
      "toc_visible": true,
      "include_colab_link": true
    },
    "accelerator": "TPU"
  },
  "cells": [
    {
      "cell_type": "markdown",
      "metadata": {
        "id": "view-in-github",
        "colab_type": "text"
      },
      "source": [
        "<a href=\"https://colab.research.google.com/github/kruttikajain/Targetted-Abusive_Language_Online/blob/master/prediciton2.ipynb\" target=\"_parent\"><img src=\"https://colab.research.google.com/assets/colab-badge.svg\" alt=\"Open In Colab\"/></a>"
      ]
    },
    {
      "cell_type": "markdown",
      "metadata": {
        "_uuid": "01f361ddc47e0b386595316fe3d7f4dabbd260db",
        "id": "XE0VGEF8ZA6M",
        "colab_type": "text"
      },
      "source": [
        "# Abusive Language Online \n",
        "\n",
        "Predition1: predict OFF/NOT\n",
        "\n",
        "* Upload it each time: Dataset: [data](http://demo.clab.cs.cmu.edu/ethical_nlp2019/homeworks/hw3/hw3.html)\n",
        "\n",
        "\n",
        "1.   train.tsv\n",
        "2.   dev.tsv\n",
        "3.   test.tsv\n",
        "\n",
        "* Need manually add log.txt\n",
        "* Mount drive to load GloVe embeddings\n",
        "\n",
        "\n"
      ]
    },
    {
      "cell_type": "markdown",
      "metadata": {
        "id": "PqazyGPwaTEe",
        "colab_type": "text"
      },
      "source": [
        "# Import useful lib"
      ]
    },
    {
      "cell_type": "code",
      "metadata": {
        "_cell_guid": "b1076dfc-b9ad-4769-8c92-a6c4dae69d19",
        "_uuid": "8f2839f25d086af736a60e9eeb907d3b93b6e0e5",
        "id": "ONg01KM4ZA6N",
        "colab_type": "code",
        "outputId": "324b36cc-9349-4d9c-b027-90cbf353a2eb",
        "colab": {
          "base_uri": "https://localhost:8080/",
          "height": 34
        }
      },
      "source": [
        "import os\n",
        "import sys\n",
        "from logging import handlers\n",
        "from pathlib import Path\n",
        "import logging\n",
        "import time\n",
        "import numpy as np # linear algebra\n",
        "import pandas as pd # data processing, CSV file I/O (e.g. pd.read_csv)\n",
        "from tqdm import tqdm\n",
        "import math\n",
        "import random \n",
        "\n",
        "from sklearn.model_selection import train_test_split\n",
        "from sklearn import metrics\n",
        "from sklearn.model_selection import KFold\n",
        "from sklearn.model_selection import StratifiedShuffleSplit\n",
        "\n",
        "from keras.preprocessing.text import Tokenizer\n",
        "from keras.preprocessing.sequence import pad_sequences\n",
        "from keras.layers import Dense, Input, LSTM, Embedding, Dropout, Activation, CuDNNGRU, CuDNNLSTM, Conv1D\n",
        "from keras.layers import Bidirectional, GlobalMaxPool1D\n",
        "from keras.models import Model\n",
        "from keras import initializers, regularizers, constraints, optimizers, layers\n",
        "\n",
        "from os import path\n",
        "from PIL import Image\n",
        "from wordcloud import WordCloud, STOPWORDS, ImageColorGenerator\n",
        "%matplotlib inline \n",
        "import matplotlib.pyplot as plt"
      ],
      "execution_count": 2,
      "outputs": [
        {
          "output_type": "stream",
          "text": [
            "Using TensorFlow backend.\n"
          ],
          "name": "stderr"
        }
      ]
    },
    {
      "cell_type": "markdown",
      "metadata": {
        "id": "11l-8APTaOVP",
        "colab_type": "text"
      },
      "source": [
        "# Data proprecessing"
      ]
    },
    {
      "cell_type": "markdown",
      "metadata": {
        "id": "zaD_vgEytb9u",
        "colab_type": "text"
      },
      "source": [
        "## mounting drive"
      ]
    },
    {
      "cell_type": "code",
      "metadata": {
        "id": "flhVY6tUu-wN",
        "colab_type": "code",
        "outputId": "c96e06ef-3ad2-41f0-f17e-c2ac18a31227",
        "colab": {
          "base_uri": "https://localhost:8080/",
          "height": 54
        }
      },
      "source": [
        "from google.colab import drive\n",
        "drive.mount('/content/gdrive')"
      ],
      "execution_count": 3,
      "outputs": [
        {
          "output_type": "stream",
          "text": [
            "Drive already mounted at /content/gdrive; to attempt to forcibly remount, call drive.mount(\"/content/gdrive\", force_remount=True).\n"
          ],
          "name": "stdout"
        }
      ]
    },
    {
      "cell_type": "code",
      "metadata": {
        "id": "-lHhx4ivtQTp",
        "colab_type": "code",
        "outputId": "49247229-d691-421b-9200-38ec6eb63176",
        "colab": {
          "base_uri": "https://localhost:8080/",
          "height": 34
        }
      },
      "source": [
        "!pwd"
      ],
      "execution_count": 4,
      "outputs": [
        {
          "output_type": "stream",
          "text": [
            "/content\n"
          ],
          "name": "stdout"
        }
      ]
    },
    {
      "cell_type": "code",
      "metadata": {
        "id": "PhfBBtlIHN6p",
        "colab_type": "code",
        "outputId": "1cbad942-6ad0-4ce5-904a-374f72a910c3",
        "colab": {
          "base_uri": "https://localhost:8080/",
          "height": 68
        }
      },
      "source": [
        "# Clone github repository setup\n",
        "# import join used to join ROOT path and MY_GOOGLE_DRIVE_PATH\n",
        "from os.path import join  \n",
        "\n",
        "# path to your project on Google Drive\n",
        "MY_GOOGLE_DRIVE_PATH = '' \n",
        "# replace with your Github username \n",
        "GIT_USERNAME = \"kruttikajain\" \n",
        "# definitely replace with your\n",
        "GIT_TOKEN = \"5fae1c9f18e3a0c680bf35e9ef63c72308ef2b4c\"  \n",
        "# Replace with your github repository in this case we want \n",
        "# to clone deep-learning-v2-pytorch repository\n",
        "GIT_REPOSITORY = \"Targetted-Abusive_Language_Online\" \n",
        "\n",
        "# PROJECT_PATH = join(ROOT, MY_GOOGLE_DRIVE_PATH)\n",
        "\n",
        "'''\n",
        "only this line should be modify\n",
        "'''\n",
        "PROJECT_PATH = './gdrive/My Drive/Colab Notebooks/246Project'\n",
        "\n",
        "# It's good to print out the value if you are not sure \n",
        "print(\"PROJECT_PATH: \", PROJECT_PATH)   \n",
        "\n",
        "# In case we haven't created the folder already; we will create a folder in the project path \n",
        "!mkdir \"{PROJECT_PATH}\"    \n",
        "\n",
        "#GIT_PATH = \"https://{GIT_TOKEN}@github.com/{GIT_USERNAME}/{GIT_REPOSITORY}.git\" this return 400 Bad Request for me\n",
        "GIT_PATH = \"https://\" + GIT_TOKEN + \"@github.com/\" + GIT_USERNAME + \"/\" + GIT_REPOSITORY + \".git\"\n",
        "print(\"GIT_PATH: \", GIT_PATH)"
      ],
      "execution_count": 5,
      "outputs": [
        {
          "output_type": "stream",
          "text": [
            "PROJECT_PATH:  ./gdrive/My Drive/Colab Notebooks/246Project\n",
            "mkdir: cannot create directory ‘./gdrive/My Drive/Colab Notebooks/246Project’: File exists\n",
            "GIT_PATH:  https://5fae1c9f18e3a0c680bf35e9ef63c72308ef2b4c@github.com/kruttikajain/Targetted-Abusive_Language_Online.git\n"
          ],
          "name": "stdout"
        }
      ]
    },
    {
      "cell_type": "markdown",
      "metadata": {
        "id": "ZhWzw5Rtajm7",
        "colab_type": "text"
      },
      "source": [
        "## Prepare logging file"
      ]
    },
    {
      "cell_type": "code",
      "metadata": {
        "id": "Vggd1S4jZA6R",
        "colab_type": "code",
        "outputId": "a37cb683-f39d-4c85-d51d-999e41871aca",
        "colab": {
          "base_uri": "https://localhost:8080/",
          "height": 51
        }
      },
      "source": [
        "def init_logger(log_file):\n",
        "    if not os.path.exists(log_file):\n",
        "        os.makedirs(os.path.dirname(log_file))\n",
        "\n",
        "    log = logging.getLogger('')\n",
        "    log.setLevel(logging.INFO)\n",
        "    output_format = logging.Formatter(fmt='%(asctime)s %(levelname)-8s %(message)s', datefmt='%Y-%m-%d %H:%M:%S')\n",
        "    std_out_handler = logging.StreamHandler(sys.stdout)\n",
        "    std_out_handler.setFormatter(output_format)\n",
        "    logging.getLogger().addHandler(std_out_handler)\n",
        "    file_handler = logging.handlers.RotatingFileHandler(log_file, maxBytes=(1048576*5), backupCount=7)\n",
        "    file_handler.setFormatter(output_format)\n",
        "    logging.getLogger().addHandler(file_handler)\n",
        "\n",
        "init_logger(PROJECT_PATH + '/log.txt')\n",
        "logging.info('=============start2=================')\n",
        "logging.info('logging file prepared...')"
      ],
      "execution_count": 6,
      "outputs": [
        {
          "output_type": "stream",
          "text": [
            "2020-05-25 07:13:03 INFO     =============start2=================\n",
            "2020-05-25 07:13:03 INFO     logging file prepared...\n"
          ],
          "name": "stdout"
        }
      ]
    },
    {
      "cell_type": "markdown",
      "metadata": {
        "id": "7FwYT4vTyCzs",
        "colab_type": "text"
      },
      "source": [
        "## load data"
      ]
    },
    {
      "cell_type": "code",
      "metadata": {
        "id": "AOtNdORiaKqJ",
        "colab_type": "code",
        "outputId": "eacd42ef-0de9-4efb-ab36-bf15f5132f4b",
        "colab": {
          "base_uri": "https://localhost:8080/",
          "height": 221
        }
      },
      "source": [
        "def load_data():\n",
        "    logging.info('loading the dataset...')\n",
        "    train_df = pd.read_csv(PROJECT_PATH + '/project_data/train.tsv', sep=\"\\t\")\n",
        "    val_df = pd.read_csv(PROJECT_PATH + '/project_data/dev.tsv', sep=\"\\t\")\n",
        "    test_df = pd.read_csv(PROJECT_PATH + '/project_data/test.tsv', sep=\"\\t\")\n",
        "    \n",
        "    # shape of df, column names\n",
        "    logging.info('Train shape : ' + str(train_df.shape)) # 'text', 'label', 'category'\n",
        "    logging.info('Val shape: ' + str(val_df.shape))\n",
        "    logging.info('Test shape: ' + str(test_df.shape))\n",
        "    \n",
        "    logging.info('train_df.columns: ' + train_df.columns)\n",
        "    logging.info('val_df.columns: ' + val_df.columns)\n",
        "    logging.info('test_df.columns: ' + test_df.columns)\n",
        "\n",
        "    return train_df, val_df, test_df\n",
        "\n",
        "train_df, val_df, test_df = load_data()"
      ],
      "execution_count": 7,
      "outputs": [
        {
          "output_type": "stream",
          "text": [
            "2020-05-25 07:13:07 INFO     loading the dataset...\n",
            "2020-05-25 07:13:07 INFO     Train shape : (10592, 3)\n",
            "2020-05-25 07:13:07 INFO     Val shape: (1324, 3)\n",
            "2020-05-25 07:13:07 INFO     Test shape: (1324, 1)\n",
            "2020-05-25 07:13:07 INFO     NumExpr defaulting to 2 threads.\n",
            "2020-05-25 07:13:07 INFO     Index(['train_df.columns: text', 'train_df.columns: label',\n",
            "       'train_df.columns: category'],\n",
            "      dtype='object')\n",
            "2020-05-25 07:13:07 INFO     Index(['val_df.columns: text', 'val_df.columns: label',\n",
            "       'val_df.columns: category'],\n",
            "      dtype='object')\n",
            "2020-05-25 07:13:07 INFO     Index(['test_df.columns: text'], dtype='object')\n"
          ],
          "name": "stdout"
        }
      ]
    },
    {
      "cell_type": "code",
      "metadata": {
        "id": "MO55Z3UaXUsR",
        "colab_type": "code",
        "outputId": "754e4dda-848b-40b9-e855-e7d45070191d",
        "colab": {
          "base_uri": "https://localhost:8080/",
          "height": 204
        }
      },
      "source": [
        "train_df.head()"
      ],
      "execution_count": 8,
      "outputs": [
        {
          "output_type": "execute_result",
          "data": {
            "text/html": [
              "<div>\n",
              "<style scoped>\n",
              "    .dataframe tbody tr th:only-of-type {\n",
              "        vertical-align: middle;\n",
              "    }\n",
              "\n",
              "    .dataframe tbody tr th {\n",
              "        vertical-align: top;\n",
              "    }\n",
              "\n",
              "    .dataframe thead th {\n",
              "        text-align: right;\n",
              "    }\n",
              "</style>\n",
              "<table border=\"1\" class=\"dataframe\">\n",
              "  <thead>\n",
              "    <tr style=\"text-align: right;\">\n",
              "      <th></th>\n",
              "      <th>text</th>\n",
              "      <th>label</th>\n",
              "      <th>category</th>\n",
              "    </tr>\n",
              "  </thead>\n",
              "  <tbody>\n",
              "    <tr>\n",
              "      <th>0</th>\n",
              "      <td>@USER @USER You are an embarrassing citizen!!</td>\n",
              "      <td>OFF</td>\n",
              "      <td>TIN</td>\n",
              "    </tr>\n",
              "    <tr>\n",
              "      <th>1</th>\n",
              "      <td>@USER Seems hard to believe that you stood nex...</td>\n",
              "      <td>OFF</td>\n",
              "      <td>TIN</td>\n",
              "    </tr>\n",
              "    <tr>\n",
              "      <th>2</th>\n",
              "      <td>@USER @USER @USER Wow !!! no wonder the Libera...</td>\n",
              "      <td>OFF</td>\n",
              "      <td>TIN</td>\n",
              "    </tr>\n",
              "    <tr>\n",
              "      <th>3</th>\n",
              "      <td>@USER @USER And not all idiots grandstands lik...</td>\n",
              "      <td>OFF</td>\n",
              "      <td>TIN</td>\n",
              "    </tr>\n",
              "    <tr>\n",
              "      <th>4</th>\n",
              "      <td>@USER Bring on the hypocrite gungrabber. MAGA</td>\n",
              "      <td>OFF</td>\n",
              "      <td>TIN</td>\n",
              "    </tr>\n",
              "  </tbody>\n",
              "</table>\n",
              "</div>"
            ],
            "text/plain": [
              "                                                text label category\n",
              "0      @USER @USER You are an embarrassing citizen!!   OFF      TIN\n",
              "1  @USER Seems hard to believe that you stood nex...   OFF      TIN\n",
              "2  @USER @USER @USER Wow !!! no wonder the Libera...   OFF      TIN\n",
              "3  @USER @USER And not all idiots grandstands lik...   OFF      TIN\n",
              "4      @USER Bring on the hypocrite gungrabber. MAGA   OFF      TIN"
            ]
          },
          "metadata": {
            "tags": []
          },
          "execution_count": 8
        }
      ]
    },
    {
      "cell_type": "markdown",
      "metadata": {
        "id": "ApWoZxt1dc-a",
        "colab_type": "text"
      },
      "source": [
        "**Attributes in data:**\n",
        "\n",
        "\n",
        "***Trainning data:***  (10592, 3) \\\\\n",
        "\n",
        "* **text:** \\\\\n",
        "tweet content\n",
        "\n",
        "* **label:** \\\\\n",
        "1.   (NOT) Not Offensive - This post does not contain offense or profanity\n",
        "2.   (OFF) Offensive - This post contains offensive language or a targeted (veiled or direct) offense\n",
        "\n",
        "* **category:** (if label is 'OFF') \\\\\n",
        "1.   (TIN) Targeted Insult and Threats - A post containing an insult or threat to an individual, a group, or others\n",
        "2.   (UNT) Untargeted - A post containing non-targeted profanity and swearing.\n",
        "\n",
        "***Validation data:***  (1324, 3) \\\\\n",
        "\n",
        "***Testing data***:  'text' (1324, 1) \\\\\n",
        "* **text**"
      ]
    },
    {
      "cell_type": "markdown",
      "metadata": {
        "id": "oEJfFD-hkhu5",
        "colab_type": "text"
      },
      "source": [
        "## Data cleaning"
      ]
    },
    {
      "cell_type": "code",
      "metadata": {
        "id": "-g52M8qtkk36",
        "colab_type": "code",
        "colab": {}
      },
      "source": [
        "def data_cleaning(train_df, val_df, test_df):\n",
        "    # shuffle data\n",
        "    train_df = train_df.sample(frac=1, random_state=2020).reset_index(drop=True)\n",
        "    \n",
        "    # lo lowercae\n",
        "    train_df['text'] = train_df['text'].str.lower()\n",
        "    val_df['text'] = val_df['text'].str.lower()\n",
        "    test_df['text'] = test_df['text'].str.lower()\n",
        "\n",
        "    # delete \"noise words\"\n",
        "    noise = [\"url\",\"user\",\"@\",\"&amp;\",\"#\",\"-\",'.',\"!\",\"?\",\"rt\",\"dm\",\"retweet\",\"rt\",\"dm\"]\n",
        "    for WORD in noise:\n",
        "        train_df['text'] = train_df['text'].str.replace(WORD, '')\n",
        "        val_df['text'] = val_df['text'].str.replace(WORD, '')\n",
        "        test_df['text'] = test_df['text'].str.replace(WORD, '')\n",
        "\n",
        "    # change label to 0/a\n",
        "    train_df['label'] = train_df['label'].map({'OFF': 1, 'NOT': 0})\n",
        "    val_df['label'] = val_df['label'].map({'OFF': 1, 'NOT': 0})\n",
        "\n",
        "    # one-hot encoding of category\n",
        "    #train_df = pd.concat([train_df,pd.get_dummies(train_df['category'], prefix='category')],axis=1)\n",
        "    #train_df.drop(['category'],axis=1, inplace=True)\n",
        "    \n",
        "    #val_df = pd.concat([val_df,pd.get_dummies(val_df['category'], prefix='category')],axis=1)\n",
        "    #val_df.drop(['category'],axis=1, inplace=True)\n",
        "  \n",
        "    train_df['category'] = train_df['category'].map({'TIN': 1, 'UNT': 0},na_action='ignore')\n",
        "    val_df['category'] = val_df['category'].map({'TIN': 1, 'UNT': 0}, na_action='ignore')\n",
        "    return train_df, val_df, test_df\n",
        "\n",
        "train_df, val_df, test_df = data_cleaning(train_df, val_df, test_df)\n"
      ],
      "execution_count": 0,
      "outputs": []
    },
    {
      "cell_type": "code",
      "metadata": {
        "id": "muL8B6aXSu3R",
        "colab_type": "code",
        "outputId": "82b03554-a345-474b-bc61-d759d862b960",
        "colab": {
          "base_uri": "https://localhost:8080/",
          "height": 359
        }
      },
      "source": [
        "val_df.head(10)"
      ],
      "execution_count": 10,
      "outputs": [
        {
          "output_type": "execute_result",
          "data": {
            "text/html": [
              "<div>\n",
              "<style scoped>\n",
              "    .dataframe tbody tr th:only-of-type {\n",
              "        vertical-align: middle;\n",
              "    }\n",
              "\n",
              "    .dataframe tbody tr th {\n",
              "        vertical-align: top;\n",
              "    }\n",
              "\n",
              "    .dataframe thead th {\n",
              "        text-align: right;\n",
              "    }\n",
              "</style>\n",
              "<table border=\"1\" class=\"dataframe\">\n",
              "  <thead>\n",
              "    <tr style=\"text-align: right;\">\n",
              "      <th></th>\n",
              "      <th>text</th>\n",
              "      <th>label</th>\n",
              "      <th>category</th>\n",
              "    </tr>\n",
              "  </thead>\n",
              "  <tbody>\n",
              "    <tr>\n",
              "      <th>0</th>\n",
              "      <td>she should ask a few native americans what th...</td>\n",
              "      <td>1</td>\n",
              "      <td>0.0</td>\n",
              "    </tr>\n",
              "    <tr>\n",
              "      <th>1</th>\n",
              "      <td>go home you’re drunk  maga trump2020 👊🇺🇸👊</td>\n",
              "      <td>1</td>\n",
              "      <td>1.0</td>\n",
              "    </tr>\n",
              "    <tr>\n",
              "      <th>2</th>\n",
              "      <td>amazon is investigating chinese employees who ...</td>\n",
              "      <td>0</td>\n",
              "      <td>NaN</td>\n",
              "    </tr>\n",
              "    <tr>\n",
              "      <th>3</th>\n",
              "      <td>someone should'vetaken\" this piece of shit to...</td>\n",
              "      <td>1</td>\n",
              "      <td>0.0</td>\n",
              "    </tr>\n",
              "    <tr>\n",
              "      <th>4</th>\n",
              "      <td>obama wanted liberals  illegals to move into...</td>\n",
              "      <td>0</td>\n",
              "      <td>NaN</td>\n",
              "    </tr>\n",
              "    <tr>\n",
              "      <th>5</th>\n",
              "      <td>liberals are all kookoo</td>\n",
              "      <td>1</td>\n",
              "      <td>1.0</td>\n",
              "    </tr>\n",
              "    <tr>\n",
              "      <th>6</th>\n",
              "      <td>oh noes tough shit</td>\n",
              "      <td>1</td>\n",
              "      <td>0.0</td>\n",
              "    </tr>\n",
              "    <tr>\n",
              "      <th>7</th>\n",
              "      <td>was literally just talking about this lol all...</td>\n",
              "      <td>1</td>\n",
              "      <td>1.0</td>\n",
              "    </tr>\n",
              "    <tr>\n",
              "      <th>8</th>\n",
              "      <td>buy more icecream</td>\n",
              "      <td>0</td>\n",
              "      <td>NaN</td>\n",
              "    </tr>\n",
              "    <tr>\n",
              "      <th>9</th>\n",
              "      <td>canada doesn’t need another cuck we already h...</td>\n",
              "      <td>1</td>\n",
              "      <td>1.0</td>\n",
              "    </tr>\n",
              "  </tbody>\n",
              "</table>\n",
              "</div>"
            ],
            "text/plain": [
              "                                                text  label  category\n",
              "0   she should ask a few native americans what th...      1       0.0\n",
              "1         go home you’re drunk  maga trump2020 👊🇺🇸👊       1       1.0\n",
              "2  amazon is investigating chinese employees who ...      0       NaN\n",
              "3   someone should'vetaken\" this piece of shit to...      1       0.0\n",
              "4    obama wanted liberals  illegals to move into...      0       NaN\n",
              "5                           liberals are all kookoo       1       1.0\n",
              "6                                 oh noes tough shit      1       0.0\n",
              "7   was literally just talking about this lol all...      1       1.0\n",
              "8                                  buy more icecream      0       NaN\n",
              "9   canada doesn’t need another cuck we already h...      1       1.0"
            ]
          },
          "metadata": {
            "tags": []
          },
          "execution_count": 10
        }
      ]
    },
    {
      "cell_type": "code",
      "metadata": {
        "id": "47Gv6RyCnFA2",
        "colab_type": "code",
        "colab": {}
      },
      "source": [
        "train_df=train_df[train_df.label !=0]"
      ],
      "execution_count": 0,
      "outputs": []
    },
    {
      "cell_type": "code",
      "metadata": {
        "id": "ixMQAEB_nFPp",
        "colab_type": "code",
        "outputId": "8aeecbf6-50fe-45c3-9f74-3cd0defd3eb9",
        "colab": {
          "base_uri": "https://localhost:8080/",
          "height": 359
        }
      },
      "source": [
        "train_df.head(10)"
      ],
      "execution_count": 12,
      "outputs": [
        {
          "output_type": "execute_result",
          "data": {
            "text/html": [
              "<div>\n",
              "<style scoped>\n",
              "    .dataframe tbody tr th:only-of-type {\n",
              "        vertical-align: middle;\n",
              "    }\n",
              "\n",
              "    .dataframe tbody tr th {\n",
              "        vertical-align: top;\n",
              "    }\n",
              "\n",
              "    .dataframe thead th {\n",
              "        text-align: right;\n",
              "    }\n",
              "</style>\n",
              "<table border=\"1\" class=\"dataframe\">\n",
              "  <thead>\n",
              "    <tr style=\"text-align: right;\">\n",
              "      <th></th>\n",
              "      <th>text</th>\n",
              "      <th>label</th>\n",
              "      <th>category</th>\n",
              "    </tr>\n",
              "  </thead>\n",
              "  <tbody>\n",
              "    <tr>\n",
              "      <th>0</th>\n",
              "      <td>didn't this trashy thing sleep her way to the...</td>\n",
              "      <td>1</td>\n",
              "      <td>1.0</td>\n",
              "    </tr>\n",
              "    <tr>\n",
              "      <th>1</th>\n",
              "      <td>gfy the nfl should get no protection from th...</td>\n",
              "      <td>1</td>\n",
              "      <td>1.0</td>\n",
              "    </tr>\n",
              "    <tr>\n",
              "      <th>10</th>\n",
              "      <td>👀 sitting here thinking he has a killer porn ...</td>\n",
              "      <td>1</td>\n",
              "      <td>0.0</td>\n",
              "    </tr>\n",
              "    <tr>\n",
              "      <th>13</th>\n",
              "      <td>all trump's and pense 2020 merch is being made...</td>\n",
              "      <td>1</td>\n",
              "      <td>1.0</td>\n",
              "    </tr>\n",
              "    <tr>\n",
              "      <th>16</th>\n",
              "      <td>gun control now enough is enough</td>\n",
              "      <td>1</td>\n",
              "      <td>0.0</td>\n",
              "    </tr>\n",
              "    <tr>\n",
              "      <th>17</th>\n",
              "      <td>you're full of s*** it's the liberals paid by...</td>\n",
              "      <td>1</td>\n",
              "      <td>1.0</td>\n",
              "    </tr>\n",
              "    <tr>\n",
              "      <th>20</th>\n",
              "      <td>liberals are addicted to fake news  chris is ...</td>\n",
              "      <td>1</td>\n",
              "      <td>1.0</td>\n",
              "    </tr>\n",
              "    <tr>\n",
              "      <th>23</th>\n",
              "      <td>any texan that would grant automatic citizens...</td>\n",
              "      <td>1</td>\n",
              "      <td>1.0</td>\n",
              "    </tr>\n",
              "    <tr>\n",
              "      <th>24</th>\n",
              "      <td>yeah he’s very immature  can dish out critic...</td>\n",
              "      <td>1</td>\n",
              "      <td>1.0</td>\n",
              "    </tr>\n",
              "    <tr>\n",
              "      <th>26</th>\n",
              "      <td>yoo our dogs should totally fuck</td>\n",
              "      <td>1</td>\n",
              "      <td>1.0</td>\n",
              "    </tr>\n",
              "  </tbody>\n",
              "</table>\n",
              "</div>"
            ],
            "text/plain": [
              "                                                 text  label  category\n",
              "0    didn't this trashy thing sleep her way to the...      1       1.0\n",
              "1     gfy the nfl should get no protection from th...      1       1.0\n",
              "10   👀 sitting here thinking he has a killer porn ...      1       0.0\n",
              "13  all trump's and pense 2020 merch is being made...      1       1.0\n",
              "16                   gun control now enough is enough      1       0.0\n",
              "17   you're full of s*** it's the liberals paid by...      1       1.0\n",
              "20   liberals are addicted to fake news  chris is ...      1       1.0\n",
              "23   any texan that would grant automatic citizens...      1       1.0\n",
              "24    yeah he’s very immature  can dish out critic...      1       1.0\n",
              "26                   yoo our dogs should totally fuck      1       1.0"
            ]
          },
          "metadata": {
            "tags": []
          },
          "execution_count": 12
        }
      ]
    },
    {
      "cell_type": "code",
      "metadata": {
        "id": "f1MwKwmAoRIF",
        "colab_type": "code",
        "colab": {}
      },
      "source": [
        "val_df=val_df[val_df.label !=0]\n"
      ],
      "execution_count": 0,
      "outputs": []
    },
    {
      "cell_type": "code",
      "metadata": {
        "id": "JxFJ4WnLo9YK",
        "colab_type": "code",
        "outputId": "d170a18d-718c-4a36-8e4c-73e12696f4d9",
        "colab": {
          "base_uri": "https://localhost:8080/",
          "height": 359
        }
      },
      "source": [
        "val_df.head(10)"
      ],
      "execution_count": 14,
      "outputs": [
        {
          "output_type": "execute_result",
          "data": {
            "text/html": [
              "<div>\n",
              "<style scoped>\n",
              "    .dataframe tbody tr th:only-of-type {\n",
              "        vertical-align: middle;\n",
              "    }\n",
              "\n",
              "    .dataframe tbody tr th {\n",
              "        vertical-align: top;\n",
              "    }\n",
              "\n",
              "    .dataframe thead th {\n",
              "        text-align: right;\n",
              "    }\n",
              "</style>\n",
              "<table border=\"1\" class=\"dataframe\">\n",
              "  <thead>\n",
              "    <tr style=\"text-align: right;\">\n",
              "      <th></th>\n",
              "      <th>text</th>\n",
              "      <th>label</th>\n",
              "      <th>category</th>\n",
              "    </tr>\n",
              "  </thead>\n",
              "  <tbody>\n",
              "    <tr>\n",
              "      <th>0</th>\n",
              "      <td>she should ask a few native americans what th...</td>\n",
              "      <td>1</td>\n",
              "      <td>0.0</td>\n",
              "    </tr>\n",
              "    <tr>\n",
              "      <th>1</th>\n",
              "      <td>go home you’re drunk  maga trump2020 👊🇺🇸👊</td>\n",
              "      <td>1</td>\n",
              "      <td>1.0</td>\n",
              "    </tr>\n",
              "    <tr>\n",
              "      <th>3</th>\n",
              "      <td>someone should'vetaken\" this piece of shit to...</td>\n",
              "      <td>1</td>\n",
              "      <td>0.0</td>\n",
              "    </tr>\n",
              "    <tr>\n",
              "      <th>5</th>\n",
              "      <td>liberals are all kookoo</td>\n",
              "      <td>1</td>\n",
              "      <td>1.0</td>\n",
              "    </tr>\n",
              "    <tr>\n",
              "      <th>6</th>\n",
              "      <td>oh noes tough shit</td>\n",
              "      <td>1</td>\n",
              "      <td>0.0</td>\n",
              "    </tr>\n",
              "    <tr>\n",
              "      <th>7</th>\n",
              "      <td>was literally just talking about this lol all...</td>\n",
              "      <td>1</td>\n",
              "      <td>1.0</td>\n",
              "    </tr>\n",
              "    <tr>\n",
              "      <th>9</th>\n",
              "      <td>canada doesn’t need another cuck we already h...</td>\n",
              "      <td>1</td>\n",
              "      <td>1.0</td>\n",
              "    </tr>\n",
              "    <tr>\n",
              "      <th>12</th>\n",
              "      <td>you are a lying corrupt traitor nobody wants ...</td>\n",
              "      <td>1</td>\n",
              "      <td>1.0</td>\n",
              "    </tr>\n",
              "    <tr>\n",
              "      <th>19</th>\n",
              "      <td>gun control that is all these kids are aski...</td>\n",
              "      <td>1</td>\n",
              "      <td>1.0</td>\n",
              "    </tr>\n",
              "    <tr>\n",
              "      <th>20</th>\n",
              "      <td>lol   throwing the bullshit flag on such n...</td>\n",
              "      <td>1</td>\n",
              "      <td>1.0</td>\n",
              "    </tr>\n",
              "  </tbody>\n",
              "</table>\n",
              "</div>"
            ],
            "text/plain": [
              "                                                 text  label  category\n",
              "0    she should ask a few native americans what th...      1       0.0\n",
              "1          go home you’re drunk  maga trump2020 👊🇺🇸👊       1       1.0\n",
              "3    someone should'vetaken\" this piece of shit to...      1       0.0\n",
              "5                            liberals are all kookoo       1       1.0\n",
              "6                                  oh noes tough shit      1       0.0\n",
              "7    was literally just talking about this lol all...      1       1.0\n",
              "9    canada doesn’t need another cuck we already h...      1       1.0\n",
              "12   you are a lying corrupt traitor nobody wants ...      1       1.0\n",
              "19     gun control that is all these kids are aski...      1       1.0\n",
              "20      lol   throwing the bullshit flag on such n...      1       1.0"
            ]
          },
          "metadata": {
            "tags": []
          },
          "execution_count": 14
        }
      ]
    },
    {
      "cell_type": "code",
      "metadata": {
        "id": "Y2_xSflLI7kG",
        "colab_type": "code",
        "outputId": "33b076d7-84bf-47aa-e8cb-90052d63229d",
        "colab": {
          "base_uri": "https://localhost:8080/",
          "height": 204
        }
      },
      "source": [
        "test_df.head()"
      ],
      "execution_count": 15,
      "outputs": [
        {
          "output_type": "execute_result",
          "data": {
            "text/html": [
              "<div>\n",
              "<style scoped>\n",
              "    .dataframe tbody tr th:only-of-type {\n",
              "        vertical-align: middle;\n",
              "    }\n",
              "\n",
              "    .dataframe tbody tr th {\n",
              "        vertical-align: top;\n",
              "    }\n",
              "\n",
              "    .dataframe thead th {\n",
              "        text-align: right;\n",
              "    }\n",
              "</style>\n",
              "<table border=\"1\" class=\"dataframe\">\n",
              "  <thead>\n",
              "    <tr style=\"text-align: right;\">\n",
              "      <th></th>\n",
              "      <th>text</th>\n",
              "    </tr>\n",
              "  </thead>\n",
              "  <tbody>\n",
              "    <tr>\n",
              "      <th>0</th>\n",
              "      <td>liberals got to crap all over everything</td>\n",
              "    </tr>\n",
              "    <tr>\n",
              "      <th>1</th>\n",
              "      <td>...</td>\n",
              "    </tr>\n",
              "    <tr>\n",
              "      <th>2</th>\n",
              "      <td>the liberals same old playbook it is so o...</td>\n",
              "    </tr>\n",
              "    <tr>\n",
              "      <th>3</th>\n",
              "      <td>all you do is lie all congress does us lie  maga</td>\n",
              "    </tr>\n",
              "    <tr>\n",
              "      <th>4</th>\n",
              "      <td>never nigga 💀💀</td>\n",
              "    </tr>\n",
              "  </tbody>\n",
              "</table>\n",
              "</div>"
            ],
            "text/plain": [
              "                                                text\n",
              "0           liberals got to crap all over everything\n",
              "1                                                ...\n",
              "2       the liberals same old playbook it is so o...\n",
              "3   all you do is lie all congress does us lie  maga\n",
              "4                                     never nigga 💀💀"
            ]
          },
          "metadata": {
            "tags": []
          },
          "execution_count": 15
        }
      ]
    },
    {
      "cell_type": "markdown",
      "metadata": {
        "id": "VwBBjRW0-Ubf",
        "colab_type": "text"
      },
      "source": [
        "Check the content of abusive text"
      ]
    },
    {
      "cell_type": "code",
      "metadata": {
        "id": "Q6em0dtx8D3I",
        "colab_type": "code",
        "outputId": "6ab0e4fb-6194-4999-afc1-901f5e55ab73",
        "colab": {
          "base_uri": "https://localhost:8080/",
          "height": 173
        }
      },
      "source": [
        "abusive_df = train_df.loc[train_df['label'] == 1]\n",
        "# pd.set_option('display.max_rows', None)\n",
        "# pd.set_option('display.width', None)\n",
        "pd.set_option('display.max_colwidth', -1)\n",
        "abusive_df['text'].head(5)"
      ],
      "execution_count": 16,
      "outputs": [
        {
          "output_type": "stream",
          "text": [
            "/usr/local/lib/python3.6/dist-packages/ipykernel_launcher.py:4: FutureWarning: Passing a negative integer is deprecated in version 1.0 and will not be supported in future version. Instead, use None to not limit the column width.\n",
            "  after removing the cwd from sys.path.\n"
          ],
          "name": "stderr"
        },
        {
          "output_type": "execute_result",
          "data": {
            "text/plain": [
              "0      didn't this trashy thing sleep her way to the top with married men                                                                 \n",
              "1       gfy the nfl should get no protection from the policeand no suppo from our militarythe league will slowly die on this road of shame\n",
              "10     👀 sitting here thinking he has a killer porn stache                                                                                \n",
              "13    all trump's and pense 2020 merch is being made is china and not the usa    maga    votethemout2018  trumpsarmy                      \n",
              "16     gun control now enough is enough                                                                                                   \n",
              "Name: text, dtype: object"
            ]
          },
          "metadata": {
            "tags": []
          },
          "execution_count": 16
        }
      ]
    },
    {
      "cell_type": "markdown",
      "metadata": {
        "id": "Plq9OgoGtqb8",
        "colab_type": "text"
      },
      "source": [
        "## Data distribution and visualization "
      ]
    },
    {
      "cell_type": "code",
      "metadata": {
        "id": "rKV_v3kvlmg7",
        "colab_type": "code",
        "outputId": "95f99c87-8bd4-4494-97b6-2a8b2d9f691d",
        "colab": {
          "base_uri": "https://localhost:8080/",
          "height": 979
        }
      },
      "source": [
        "# count how many letters in a sentence\n",
        "def label_distribution(train_df):\n",
        "    #  length of text\n",
        "    count = train_df['text'].str.split().apply(len).value_counts()\n",
        "    count.sort_index(inplace=True)\n",
        "    count.index = count.index.astype(str) + ' words:'\n",
        "    # logging.info(count[0:5])\n",
        "    # logging.info(count[-5:])\n",
        "    plt.plot(range(len(count)), count, color='blue')\n",
        "    plt.title(\"Text length\")\n",
        "    plt.show()\n",
        "    # label distribution\n",
        "    logging.info('number of label = 1 : ' + str((train_df['label'] != 0).sum()))\n",
        "    logging.info('number of category_TIN = 1: ' + str((train_df['category_TIN'] != 0).sum()))\n",
        "    logging.info('number of category_UNT = 1: ' + str((train_df['category_UNT'] != 0).sum()))\n",
        "\n",
        "    # plot histogram\n",
        "    train_df['label'].plot.hist(bins=2, title='label distribution')\n",
        "    plt.show()\n",
        "\n",
        "label_distribution(train_df)\n"
      ],
      "execution_count": 17,
      "outputs": [
        {
          "output_type": "display_data",
          "data": {
            "image/png": "[encoded data removed]",
            "text/plain": [
              "<Figure size 432x288 with 1 Axes>"
            ]
          },
          "metadata": {
            "tags": [],
            "needs_background": "light"
          }
        },
        {
          "output_type": "stream",
          "text": [
            "2020-05-25 07:13:36 INFO     number of label = 1 : 3520\n"
          ],
          "name": "stdout"
        },
        {
          "output_type": "error",
          "ename": "KeyError",
          "evalue": "ignored",
          "traceback": [
            "\u001b[0;31m---------------------------------------------------------------------------\u001b[0m",
            "\u001b[0;31mKeyError\u001b[0m                                  Traceback (most recent call last)",
            "\u001b[0;32m/usr/local/lib/python3.6/dist-packages/pandas/core/indexes/base.py\u001b[0m in \u001b[0;36mget_loc\u001b[0;34m(self, key, method, tolerance)\u001b[0m\n\u001b[1;32m   2645\u001b[0m             \u001b[0;32mtry\u001b[0m\u001b[0;34m:\u001b[0m\u001b[0;34m\u001b[0m\u001b[0;34m\u001b[0m\u001b[0m\n\u001b[0;32m-> 2646\u001b[0;31m                 \u001b[0;32mreturn\u001b[0m \u001b[0mself\u001b[0m\u001b[0;34m.\u001b[0m\u001b[0m_engine\u001b[0m\u001b[0;34m.\u001b[0m\u001b[0mget_loc\u001b[0m\u001b[0;34m(\u001b[0m\u001b[0mkey\u001b[0m\u001b[0;34m)\u001b[0m\u001b[0;34m\u001b[0m\u001b[0;34m\u001b[0m\u001b[0m\n\u001b[0m\u001b[1;32m   2647\u001b[0m             \u001b[0;32mexcept\u001b[0m \u001b[0mKeyError\u001b[0m\u001b[0;34m:\u001b[0m\u001b[0;34m\u001b[0m\u001b[0;34m\u001b[0m\u001b[0m\n",
            "\u001b[0;32mpandas/_libs/index.pyx\u001b[0m in \u001b[0;36mpandas._libs.index.IndexEngine.get_loc\u001b[0;34m()\u001b[0m\n",
            "\u001b[0;32mpandas/_libs/index.pyx\u001b[0m in \u001b[0;36mpandas._libs.index.IndexEngine.get_loc\u001b[0;34m()\u001b[0m\n",
            "\u001b[0;32mpandas/_libs/hashtable_class_helper.pxi\u001b[0m in \u001b[0;36mpandas._libs.hashtable.PyObjectHashTable.get_item\u001b[0;34m()\u001b[0m\n",
            "\u001b[0;32mpandas/_libs/hashtable_class_helper.pxi\u001b[0m in \u001b[0;36mpandas._libs.hashtable.PyObjectHashTable.get_item\u001b[0;34m()\u001b[0m\n",
            "\u001b[0;31mKeyError\u001b[0m: 'category_TIN'",
            "\nDuring handling of the above exception, another exception occurred:\n",
            "\u001b[0;31mKeyError\u001b[0m                                  Traceback (most recent call last)",
            "\u001b[0;32m<ipython-input-17-f3921ecf2778>\u001b[0m in \u001b[0;36m<module>\u001b[0;34m()\u001b[0m\n\u001b[1;32m     19\u001b[0m     \u001b[0mplt\u001b[0m\u001b[0;34m.\u001b[0m\u001b[0mshow\u001b[0m\u001b[0;34m(\u001b[0m\u001b[0;34m)\u001b[0m\u001b[0;34m\u001b[0m\u001b[0;34m\u001b[0m\u001b[0m\n\u001b[1;32m     20\u001b[0m \u001b[0;34m\u001b[0m\u001b[0m\n\u001b[0;32m---> 21\u001b[0;31m \u001b[0mlabel_distribution\u001b[0m\u001b[0;34m(\u001b[0m\u001b[0mtrain_df\u001b[0m\u001b[0;34m)\u001b[0m\u001b[0;34m\u001b[0m\u001b[0;34m\u001b[0m\u001b[0m\n\u001b[0m",
            "\u001b[0;32m<ipython-input-17-f3921ecf2778>\u001b[0m in \u001b[0;36mlabel_distribution\u001b[0;34m(train_df)\u001b[0m\n\u001b[1;32m     12\u001b[0m     \u001b[0;31m# label distribution\u001b[0m\u001b[0;34m\u001b[0m\u001b[0;34m\u001b[0m\u001b[0;34m\u001b[0m\u001b[0m\n\u001b[1;32m     13\u001b[0m     \u001b[0mlogging\u001b[0m\u001b[0;34m.\u001b[0m\u001b[0minfo\u001b[0m\u001b[0;34m(\u001b[0m\u001b[0;34m'number of label = 1 : '\u001b[0m \u001b[0;34m+\u001b[0m \u001b[0mstr\u001b[0m\u001b[0;34m(\u001b[0m\u001b[0;34m(\u001b[0m\u001b[0mtrain_df\u001b[0m\u001b[0;34m[\u001b[0m\u001b[0;34m'label'\u001b[0m\u001b[0;34m]\u001b[0m \u001b[0;34m!=\u001b[0m \u001b[0;36m0\u001b[0m\u001b[0;34m)\u001b[0m\u001b[0;34m.\u001b[0m\u001b[0msum\u001b[0m\u001b[0;34m(\u001b[0m\u001b[0;34m)\u001b[0m\u001b[0;34m)\u001b[0m\u001b[0;34m)\u001b[0m\u001b[0;34m\u001b[0m\u001b[0;34m\u001b[0m\u001b[0m\n\u001b[0;32m---> 14\u001b[0;31m     \u001b[0mlogging\u001b[0m\u001b[0;34m.\u001b[0m\u001b[0minfo\u001b[0m\u001b[0;34m(\u001b[0m\u001b[0;34m'number of category_TIN = 1: '\u001b[0m \u001b[0;34m+\u001b[0m \u001b[0mstr\u001b[0m\u001b[0;34m(\u001b[0m\u001b[0;34m(\u001b[0m\u001b[0mtrain_df\u001b[0m\u001b[0;34m[\u001b[0m\u001b[0;34m'category_TIN'\u001b[0m\u001b[0;34m]\u001b[0m \u001b[0;34m!=\u001b[0m \u001b[0;36m0\u001b[0m\u001b[0;34m)\u001b[0m\u001b[0;34m.\u001b[0m\u001b[0msum\u001b[0m\u001b[0;34m(\u001b[0m\u001b[0;34m)\u001b[0m\u001b[0;34m)\u001b[0m\u001b[0;34m)\u001b[0m\u001b[0;34m\u001b[0m\u001b[0;34m\u001b[0m\u001b[0m\n\u001b[0m\u001b[1;32m     15\u001b[0m     \u001b[0mlogging\u001b[0m\u001b[0;34m.\u001b[0m\u001b[0minfo\u001b[0m\u001b[0;34m(\u001b[0m\u001b[0;34m'number of category_UNT = 1: '\u001b[0m \u001b[0;34m+\u001b[0m \u001b[0mstr\u001b[0m\u001b[0;34m(\u001b[0m\u001b[0;34m(\u001b[0m\u001b[0mtrain_df\u001b[0m\u001b[0;34m[\u001b[0m\u001b[0;34m'category_UNT'\u001b[0m\u001b[0;34m]\u001b[0m \u001b[0;34m!=\u001b[0m \u001b[0;36m0\u001b[0m\u001b[0;34m)\u001b[0m\u001b[0;34m.\u001b[0m\u001b[0msum\u001b[0m\u001b[0;34m(\u001b[0m\u001b[0;34m)\u001b[0m\u001b[0;34m)\u001b[0m\u001b[0;34m)\u001b[0m\u001b[0;34m\u001b[0m\u001b[0;34m\u001b[0m\u001b[0m\n\u001b[1;32m     16\u001b[0m \u001b[0;34m\u001b[0m\u001b[0m\n",
            "\u001b[0;32m/usr/local/lib/python3.6/dist-packages/pandas/core/frame.py\u001b[0m in \u001b[0;36m__getitem__\u001b[0;34m(self, key)\u001b[0m\n\u001b[1;32m   2798\u001b[0m             \u001b[0;32mif\u001b[0m \u001b[0mself\u001b[0m\u001b[0;34m.\u001b[0m\u001b[0mcolumns\u001b[0m\u001b[0;34m.\u001b[0m\u001b[0mnlevels\u001b[0m \u001b[0;34m>\u001b[0m \u001b[0;36m1\u001b[0m\u001b[0;34m:\u001b[0m\u001b[0;34m\u001b[0m\u001b[0;34m\u001b[0m\u001b[0m\n\u001b[1;32m   2799\u001b[0m                 \u001b[0;32mreturn\u001b[0m \u001b[0mself\u001b[0m\u001b[0;34m.\u001b[0m\u001b[0m_getitem_multilevel\u001b[0m\u001b[0;34m(\u001b[0m\u001b[0mkey\u001b[0m\u001b[0;34m)\u001b[0m\u001b[0;34m\u001b[0m\u001b[0;34m\u001b[0m\u001b[0m\n\u001b[0;32m-> 2800\u001b[0;31m             \u001b[0mindexer\u001b[0m \u001b[0;34m=\u001b[0m \u001b[0mself\u001b[0m\u001b[0;34m.\u001b[0m\u001b[0mcolumns\u001b[0m\u001b[0;34m.\u001b[0m\u001b[0mget_loc\u001b[0m\u001b[0;34m(\u001b[0m\u001b[0mkey\u001b[0m\u001b[0;34m)\u001b[0m\u001b[0;34m\u001b[0m\u001b[0;34m\u001b[0m\u001b[0m\n\u001b[0m\u001b[1;32m   2801\u001b[0m             \u001b[0;32mif\u001b[0m \u001b[0mis_integer\u001b[0m\u001b[0;34m(\u001b[0m\u001b[0mindexer\u001b[0m\u001b[0;34m)\u001b[0m\u001b[0;34m:\u001b[0m\u001b[0;34m\u001b[0m\u001b[0;34m\u001b[0m\u001b[0m\n\u001b[1;32m   2802\u001b[0m                 \u001b[0mindexer\u001b[0m \u001b[0;34m=\u001b[0m \u001b[0;34m[\u001b[0m\u001b[0mindexer\u001b[0m\u001b[0;34m]\u001b[0m\u001b[0;34m\u001b[0m\u001b[0;34m\u001b[0m\u001b[0m\n",
            "\u001b[0;32m/usr/local/lib/python3.6/dist-packages/pandas/core/indexes/base.py\u001b[0m in \u001b[0;36mget_loc\u001b[0;34m(self, key, method, tolerance)\u001b[0m\n\u001b[1;32m   2646\u001b[0m                 \u001b[0;32mreturn\u001b[0m \u001b[0mself\u001b[0m\u001b[0;34m.\u001b[0m\u001b[0m_engine\u001b[0m\u001b[0;34m.\u001b[0m\u001b[0mget_loc\u001b[0m\u001b[0;34m(\u001b[0m\u001b[0mkey\u001b[0m\u001b[0;34m)\u001b[0m\u001b[0;34m\u001b[0m\u001b[0;34m\u001b[0m\u001b[0m\n\u001b[1;32m   2647\u001b[0m             \u001b[0;32mexcept\u001b[0m \u001b[0mKeyError\u001b[0m\u001b[0;34m:\u001b[0m\u001b[0;34m\u001b[0m\u001b[0;34m\u001b[0m\u001b[0m\n\u001b[0;32m-> 2648\u001b[0;31m                 \u001b[0;32mreturn\u001b[0m \u001b[0mself\u001b[0m\u001b[0;34m.\u001b[0m\u001b[0m_engine\u001b[0m\u001b[0;34m.\u001b[0m\u001b[0mget_loc\u001b[0m\u001b[0;34m(\u001b[0m\u001b[0mself\u001b[0m\u001b[0;34m.\u001b[0m\u001b[0m_maybe_cast_indexer\u001b[0m\u001b[0;34m(\u001b[0m\u001b[0mkey\u001b[0m\u001b[0;34m)\u001b[0m\u001b[0;34m)\u001b[0m\u001b[0;34m\u001b[0m\u001b[0;34m\u001b[0m\u001b[0m\n\u001b[0m\u001b[1;32m   2649\u001b[0m         \u001b[0mindexer\u001b[0m \u001b[0;34m=\u001b[0m \u001b[0mself\u001b[0m\u001b[0;34m.\u001b[0m\u001b[0mget_indexer\u001b[0m\u001b[0;34m(\u001b[0m\u001b[0;34m[\u001b[0m\u001b[0mkey\u001b[0m\u001b[0;34m]\u001b[0m\u001b[0;34m,\u001b[0m \u001b[0mmethod\u001b[0m\u001b[0;34m=\u001b[0m\u001b[0mmethod\u001b[0m\u001b[0;34m,\u001b[0m \u001b[0mtolerance\u001b[0m\u001b[0;34m=\u001b[0m\u001b[0mtolerance\u001b[0m\u001b[0;34m)\u001b[0m\u001b[0;34m\u001b[0m\u001b[0;34m\u001b[0m\u001b[0m\n\u001b[1;32m   2650\u001b[0m         \u001b[0;32mif\u001b[0m \u001b[0mindexer\u001b[0m\u001b[0;34m.\u001b[0m\u001b[0mndim\u001b[0m \u001b[0;34m>\u001b[0m \u001b[0;36m1\u001b[0m \u001b[0;32mor\u001b[0m \u001b[0mindexer\u001b[0m\u001b[0;34m.\u001b[0m\u001b[0msize\u001b[0m \u001b[0;34m>\u001b[0m \u001b[0;36m1\u001b[0m\u001b[0;34m:\u001b[0m\u001b[0;34m\u001b[0m\u001b[0;34m\u001b[0m\u001b[0m\n",
            "\u001b[0;32mpandas/_libs/index.pyx\u001b[0m in \u001b[0;36mpandas._libs.index.IndexEngine.get_loc\u001b[0;34m()\u001b[0m\n",
            "\u001b[0;32mpandas/_libs/index.pyx\u001b[0m in \u001b[0;36mpandas._libs.index.IndexEngine.get_loc\u001b[0;34m()\u001b[0m\n",
            "\u001b[0;32mpandas/_libs/hashtable_class_helper.pxi\u001b[0m in \u001b[0;36mpandas._libs.hashtable.PyObjectHashTable.get_item\u001b[0;34m()\u001b[0m\n",
            "\u001b[0;32mpandas/_libs/hashtable_class_helper.pxi\u001b[0m in \u001b[0;36mpandas._libs.hashtable.PyObjectHashTable.get_item\u001b[0;34m()\u001b[0m\n",
            "\u001b[0;31mKeyError\u001b[0m: 'category_TIN'"
          ]
        }
      ]
    },
    {
      "cell_type": "markdown",
      "metadata": {
        "id": "7kCi_RoLE8wP",
        "colab_type": "text"
      },
      "source": [
        "# Split data to X and y"
      ]
    },
    {
      "cell_type": "markdown",
      "metadata": {
        "id": "K8D_XrHPEaIV",
        "colab_type": "text"
      },
      "source": [
        "Split data to X and y"
      ]
    },
    {
      "cell_type": "code",
      "metadata": {
        "id": "vHcgmnATZA6k",
        "colab_type": "code",
        "outputId": "85cfba9f-6313-4051-f47e-85629709c832",
        "colab": {
          "base_uri": "https://localhost:8080/",
          "height": 51
        }
      },
      "source": [
        "def split_train_val(train_df, val_df, test_df):\n",
        "    logging.info('splitting X and y ...')\n",
        "    train_X = train_df[\"text\"].fillna(\"_na_\").values\n",
        "    val_X = val_df[\"text\"].fillna(\"_na_\").values\n",
        "    test_X = test_df[\"text\"].fillna(\"_na_\").values\n",
        "\n",
        "    train_y = train_df['category'].values\n",
        "    val_y = val_df['category'].values\n",
        "\n",
        "    logging.info('finished splitting X and y')\n",
        "    return train_X, val_X, test_X, train_y, val_y\n",
        "\n",
        "train_X, val_X, test_X, train_y, val_y = split_train_val(train_df, val_df, test_df)"
      ],
      "execution_count": 18,
      "outputs": [
        {
          "output_type": "stream",
          "text": [
            "2020-05-25 07:13:41 INFO     splitting X and y ...\n",
            "2020-05-25 07:13:41 INFO     finished splitting X and y\n"
          ],
          "name": "stdout"
        }
      ]
    },
    {
      "cell_type": "code",
      "metadata": {
        "id": "rdk4s-pCZA6o",
        "colab_type": "code",
        "outputId": "969dc39e-424a-45f1-dbe9-895188a478ff",
        "colab": {
          "base_uri": "https://localhost:8080/",
          "height": 51
        }
      },
      "source": [
        "print(train_X.shape, train_y.shape)\n",
        "print(val_X.shape, val_y.shape)"
      ],
      "execution_count": 19,
      "outputs": [
        {
          "output_type": "stream",
          "text": [
            "(3520,) (3520,)\n",
            "(440,) (440,)\n"
          ],
          "name": "stdout"
        }
      ]
    },
    {
      "cell_type": "markdown",
      "metadata": {
        "id": "feMxvs73D-gx",
        "colab_type": "text"
      },
      "source": [
        "Tokenize and padding each sentence, split datafram to attributes and labels"
      ]
    },
    {
      "cell_type": "code",
      "metadata": {
        "id": "tNGTN3kVZA6m",
        "colab_type": "code",
        "outputId": "a7055f85-0f85-4aab-8071-bcc57b2dfc1d",
        "colab": {
          "base_uri": "https://localhost:8080/",
          "height": 68
        }
      },
      "source": [
        "# each word embedding to 300 dimension\n",
        "embed_size = 300\n",
        "# count of vocabulary words\n",
        "max_features = 50000\n",
        "# length of each sentences\n",
        "max_len = 70\n",
        "\n",
        "def token_sentence(train_X, val_X, test_X ):\n",
        "    logging.info('tokenizing sentence...')\n",
        "    tokenizer = Tokenizer(num_words=max_features)\n",
        "    tokenizer.fit_on_texts(list(train_X))\n",
        "    train_X = tokenizer.texts_to_sequences(train_X)\n",
        "    val_X = tokenizer.texts_to_sequences(val_X)\n",
        "    test_X = tokenizer.texts_to_sequences(test_X)\n",
        "\n",
        "    logging.info('padding sentence...')\n",
        "    train_X = pad_sequences(train_X, maxlen=max_len)\n",
        "    val_X = pad_sequences(val_X, maxlen=max_len)\n",
        "    test_X = pad_sequences(test_X, maxlen=max_len)\n",
        "\n",
        "    logging.info('all finished...')\n",
        "    return train_X, val_X, test_X, tokenizer\n",
        "\n",
        "train_X, val_X, test_X, tokenizer = token_sentence(train_X, val_X, test_X)\n"
      ],
      "execution_count": 20,
      "outputs": [
        {
          "output_type": "stream",
          "text": [
            "2020-05-25 07:13:47 INFO     tokenizing sentence...\n",
            "2020-05-25 07:13:47 INFO     padding sentence...\n",
            "2020-05-25 07:13:47 INFO     all finished...\n"
          ],
          "name": "stdout"
        }
      ]
    },
    {
      "cell_type": "code",
      "metadata": {
        "id": "NBUErOp_QEK9",
        "colab_type": "code",
        "outputId": "915d22de-45a4-428c-a303-8ae2abc72dcf",
        "colab": {
          "base_uri": "https://localhost:8080/",
          "height": 34
        }
      },
      "source": [
        "train_X.shape"
      ],
      "execution_count": 21,
      "outputs": [
        {
          "output_type": "execute_result",
          "data": {
            "text/plain": [
              "(3520, 70)"
            ]
          },
          "metadata": {
            "tags": []
          },
          "execution_count": 21
        }
      ]
    },
    {
      "cell_type": "markdown",
      "metadata": {
        "id": "AenyxjOSMCDL",
        "colab_type": "text"
      },
      "source": [
        "# Train model"
      ]
    },
    {
      "cell_type": "markdown",
      "metadata": {
        "id": "QL2IvlW8qLJQ",
        "colab_type": "text"
      },
      "source": [
        "## Model1: base line"
      ]
    },
    {
      "cell_type": "code",
      "metadata": {
        "id": "0-uZ5egkQd58",
        "colab_type": "code",
        "colab": {}
      },
      "source": [
        "from sklearn import tree\n",
        "from sklearn.linear_model import LogisticRegression\n",
        "from sklearn.naive_bayes import GaussianNB\n",
        "\n",
        "from sklearn.metrics import accuracy_score, f1_score\n",
        "from sklearn.metrics import precision_score\n",
        "from sklearn.metrics import recall_score\n",
        "from sklearn.metrics import confusion_matrix\n",
        "\n",
        "# precision is the ratio tp / (tp + fp)\n",
        "# recall is the ratio tp / (tp + fn)\n",
        "# F1 = 2 * (precision * recall) / (precision + recall)"
      ],
      "execution_count": 0,
      "outputs": []
    },
    {
      "cell_type": "markdown",
      "metadata": {
        "id": "pYDgYFtKqO40",
        "colab_type": "text"
      },
      "source": [
        "### Decision tree"
      ]
    },
    {
      "cell_type": "code",
      "metadata": {
        "id": "odb9nd5WQST8",
        "colab_type": "code",
        "colab": {}
      },
      "source": [
        "def dt_model(train_X, train_y, val_X, cal_y):\n",
        "    dt_clf = tree.DecisionTreeClassifier()\n",
        "    dt_clf = dt_clf.fit(train_X, train_y)\n",
        "    pred_val_y = dt_clf.predict(val_X).reshape(-1,1)\n",
        "    \n",
        "    tn, fp, fn, tp = confusion_matrix(pred_val_y, val_y).ravel()\n",
        "    print('tn', tn, 'fp', fp, 'fn', fn, 'tp', tp)\n",
        "\n",
        "    dt_acc = accuracy_score(pred_val_y, val_y)\n",
        "    dt_precision = precision_score(pred_val_y, val_y)\n",
        "    dt_recall = recall_score(pred_val_y, val_y)\n",
        "    dt_f1_score = f1_score(pred_val_y, val_y)\n",
        "    return dt_acc, dt_precision, dt_recall, dt_f1_score "
      ],
      "execution_count": 0,
      "outputs": []
    },
    {
      "cell_type": "code",
      "metadata": {
        "id": "6NbcgKG1RcQL",
        "colab_type": "code",
        "outputId": "71139945-bc03-46cb-d73b-8325e7450ab4",
        "colab": {
          "base_uri": "https://localhost:8080/",
          "height": 71
        }
      },
      "source": [
        "dt_acc, dt_precision, dt_recall, dt_f1_score= dt_model(train_X, train_y, val_X, val_y)\n",
        "print('dt_acc: ', dt_acc, 'dt_precision: ', dt_precision, 'dt_recall: ',dt_recall,', dt_f1_score: ',  dt_f1_score)"
      ],
      "execution_count": 24,
      "outputs": [
        {
          "output_type": "stream",
          "text": [
            "tn 9 fp 51 fn 35 tp 345\n",
            "dt_acc:  0.8045454545454546 dt_precision:  0.8712121212121212 dt_recall:  0.9078947368421053 , dt_f1_score:  0.8891752577319588\n"
          ],
          "name": "stdout"
        }
      ]
    },
    {
      "cell_type": "markdown",
      "metadata": {
        "id": "63QJAP9RqSle",
        "colab_type": "text"
      },
      "source": [
        "### LogisticRegression"
      ]
    },
    {
      "cell_type": "code",
      "metadata": {
        "id": "J-FpKqDpWoiD",
        "colab_type": "code",
        "colab": {}
      },
      "source": [
        "def lr_model(train_X, train_y, val_X, cal_y):\n",
        "    lr_clf = LogisticRegression(random_state=0, max_iter=10000).fit(train_X, train_y)\n",
        "    pred_val_y = lr_clf.predict(val_X).reshape(-1,1)\n",
        "\n",
        "    tn, fp, fn, tp = confusion_matrix(pred_val_y, val_y).ravel()\n",
        "    print('tn', tn, 'fp', fp, 'fn', fn, 'tp', tp)\n",
        "\n",
        "    lr_acc = accuracy_score(pred_val_y, val_y)\n",
        "    lr_precision = precision_score(pred_val_y, val_y)\n",
        "    lr_recall = recall_score(pred_val_y, val_y)\n",
        "    lr_f1_score = f1_score(pred_val_y, val_y)\n",
        "    return lr_acc, lr_precision, lr_recall, lr_f1_score"
      ],
      "execution_count": 0,
      "outputs": []
    },
    {
      "cell_type": "code",
      "metadata": {
        "id": "W8B44OR0W_vF",
        "colab_type": "code",
        "outputId": "58afd93d-c019-4e93-8d85-73bd8018f6db",
        "colab": {
          "base_uri": "https://localhost:8080/",
          "height": 68
        }
      },
      "source": [
        "lr_acc, lr_precision, lr_recall, lr_f1_score = lr_model(train_X, train_y, val_X, val_y)\n",
        "print('lr_precision', lr_precision, 'lr_recall', lr_recall)\n",
        "print('lr_acc: ', lr_acc, ', lr_f1_score: ',  lr_f1_score)"
      ],
      "execution_count": 26,
      "outputs": [
        {
          "output_type": "stream",
          "text": [
            "tn 0 fp 0 fn 44 tp 396\n",
            "lr_precision 1.0 lr_recall 0.9\n",
            "lr_acc:  0.9 , lr_f1_score:  0.9473684210526316\n"
          ],
          "name": "stdout"
        }
      ]
    },
    {
      "cell_type": "markdown",
      "metadata": {
        "id": "_i7BpltoqZza",
        "colab_type": "text"
      },
      "source": [
        "### GaussianNB"
      ]
    },
    {
      "cell_type": "code",
      "metadata": {
        "id": "_RDWko-oXO9N",
        "colab_type": "code",
        "colab": {}
      },
      "source": [
        "def gNB_model(train_X, train_y, val_X, cal_y):\n",
        "    gNB_clf = GaussianNB()\n",
        "    gNB_clf = gNB_clf.fit(train_X, train_y)\n",
        "    pred_val_y = gNB_clf.predict(val_X).reshape(-1,1)\n",
        "\n",
        "    tn, fp, fn, tp = confusion_matrix(pred_val_y, val_y).ravel()\n",
        "    print('tn', tn, 'fp', fp, 'fn', fn, 'tp', tp)\n",
        "\n",
        "    gNB_acc = accuracy_score(pred_val_y, val_y)\n",
        "    gNB_precision = precision_score(pred_val_y, val_y)\n",
        "    gNB_recall = recall_score(pred_val_y, val_y)\n",
        "    gNB_f1_score = f1_score(pred_val_y, val_y)\n",
        "    return gNB_acc, gNB_precision, gNB_recall, gNB_f1_score"
      ],
      "execution_count": 0,
      "outputs": []
    },
    {
      "cell_type": "code",
      "metadata": {
        "id": "heu4JLHgX164",
        "colab_type": "code",
        "outputId": "4df8eac4-860a-4030-9b50-db06293c9f3b",
        "colab": {
          "base_uri": "https://localhost:8080/",
          "height": 71
        }
      },
      "source": [
        "gNB_acc, gNB_precision, gNB_recall, gNB_f1_score = gNB_model(train_X, train_y, val_X, val_y)\n",
        "print('gNB_acc: ', gNB_acc, 'gNB_precision: ', gNB_precision, 'gNB_recall:', gNB_recall, 'gNB_f1_score: ',  gNB_f1_score)"
      ],
      "execution_count": 28,
      "outputs": [
        {
          "output_type": "stream",
          "text": [
            "tn 42 fp 374 fn 2 tp 22\n",
            "gNB_acc:  0.14545454545454545 gNB_precision:  0.05555555555555555 gNB_recall: 0.9166666666666666 gNB_f1_score:  0.10476190476190475\n"
          ],
          "name": "stdout"
        }
      ]
    },
    {
      "cell_type": "markdown",
      "metadata": {
        "id": "REnqEUw_kKI8",
        "colab_type": "text"
      },
      "source": [
        "## Model2 : LSTM + Without Pretrained Embeddings:"
      ]
    },
    {
      "cell_type": "code",
      "metadata": {
        "id": "G9wKqZveyapX",
        "colab_type": "code",
        "outputId": "fbf0c839-3c19-44ec-9beb-91c54fea3881",
        "colab": {
          "base_uri": "https://localhost:8080/",
          "height": 323
        }
      },
      "source": [
        "import tensorflow as tf\n",
        "from tensorflow.keras import layers\n",
        "\n",
        "model = tf.keras.Sequential()\n",
        "\n",
        "# Add an Embedding layer expecting input vocab of size 50000, and\n",
        "# output embedding dimension of size 300.\n",
        "model.add(layers.Embedding(input_dim=50000, output_dim=300))\n",
        "\n",
        "# Add a LSTM layer with 128 internal units.\n",
        "model.add(layers.LSTM(128))\n",
        "model.add(layers.Dense(10,activation=\"relu\"))\n",
        "model.add(layers.Dropout(0.2))\n",
        "model.add(layers.Dense(1, activation=\"sigmoid\"))\n",
        "\n",
        "model.summary()"
      ],
      "execution_count": 29,
      "outputs": [
        {
          "output_type": "stream",
          "text": [
            "Model: \"sequential\"\n",
            "_________________________________________________________________\n",
            "Layer (type)                 Output Shape              Param #   \n",
            "=================================================================\n",
            "embedding (Embedding)        (None, None, 300)         15000000  \n",
            "_________________________________________________________________\n",
            "lstm (LSTM)                  (None, 128)               219648    \n",
            "_________________________________________________________________\n",
            "dense (Dense)                (None, 10)                1290      \n",
            "_________________________________________________________________\n",
            "dropout (Dropout)            (None, 10)                0         \n",
            "_________________________________________________________________\n",
            "dense_1 (Dense)              (None, 1)                 11        \n",
            "=================================================================\n",
            "Total params: 15,220,949\n",
            "Trainable params: 15,220,949\n",
            "Non-trainable params: 0\n",
            "_________________________________________________________________\n"
          ],
          "name": "stdout"
        }
      ]
    },
    {
      "cell_type": "code",
      "metadata": {
        "id": "71VTQNZjzgn9",
        "colab_type": "code",
        "outputId": "b5cabc5b-18ae-409d-f083-343169b01e23",
        "colab": {
          "base_uri": "https://localhost:8080/",
          "height": 241
        }
      },
      "source": [
        "model.compile(loss='binary_crossentropy', optimizer='adam', metrics=['accuracy'])\n",
        "\n",
        "from tensorflow.keras.callbacks import EarlyStopping\n",
        "callbacks = EarlyStopping(monitor='val_loss', min_delta=0, patience = 2)\n",
        "history = model.fit(train_X, \n",
        "                    train_y, \n",
        "                    batch_size=512, \n",
        "                    epochs=14, \n",
        "                    validation_data=(val_X, val_y),\n",
        "                    callbacks=callbacks\n",
        "                    )"
      ],
      "execution_count": 30,
      "outputs": [
        {
          "output_type": "stream",
          "text": [
            "Epoch 1/14\n",
            "7/7 [==============================] - 8s 1s/step - loss: 0.6410 - accuracy: 0.8108 - val_loss: 0.4087 - val_accuracy: 0.9000\n",
            "Epoch 2/14\n",
            "7/7 [==============================] - 8s 1s/step - loss: 0.4352 - accuracy: 0.8778 - val_loss: 0.3264 - val_accuracy: 0.9000\n",
            "Epoch 3/14\n",
            "7/7 [==============================] - 8s 1s/step - loss: 0.3909 - accuracy: 0.8776 - val_loss: 0.3416 - val_accuracy: 0.9000\n",
            "Epoch 4/14\n",
            "7/7 [==============================] - 7s 1s/step - loss: 0.3731 - accuracy: 0.8776 - val_loss: 0.3235 - val_accuracy: 0.9000\n",
            "Epoch 5/14\n",
            "7/7 [==============================] - 8s 1s/step - loss: 0.3435 - accuracy: 0.8784 - val_loss: 0.3433 - val_accuracy: 0.9000\n",
            "Epoch 6/14\n",
            "7/7 [==============================] - 8s 1s/step - loss: 0.3131 - accuracy: 0.8801 - val_loss: 0.3355 - val_accuracy: 0.8977\n"
          ],
          "name": "stdout"
        }
      ]
    },
    {
      "cell_type": "code",
      "metadata": {
        "id": "MiaEcGWWZA6v",
        "colab_type": "code",
        "outputId": "7c8e4c67-4696-48fa-b81d-6a31783175e8",
        "colab": {
          "base_uri": "https://localhost:8080/",
          "height": 573
        }
      },
      "source": [
        "# plot history\n",
        "# Plot training & validation accuracy values\n",
        "import matplotlib.pyplot as plt \n",
        "plt.plot(history.history['accuracy'])\n",
        "plt.plot(history.history['val_accuracy'])\n",
        "plt.title('Model accuracy')\n",
        "plt.ylabel('Accuracy')\n",
        "plt.xlabel('Epoch')\n",
        "plt.legend(['Train', 'Val'], loc='upper left')\n",
        "plt.show()\n",
        "\n",
        "# Plot training & validation loss values\n",
        "plt.plot(history.history['loss'])\n",
        "plt.plot(history.history['val_loss'])\n",
        "plt.title('Model loss')\n",
        "plt.ylabel('Loss')\n",
        "plt.xlabel('Epoch')\n",
        "plt.legend(['Train', 'Val'], loc='upper left')\n",
        "plt.show()"
      ],
      "execution_count": 31,
      "outputs": [
        {
          "output_type": "display_data",
          "data": {
            "image/png": "[encoded data removed]",
            "text/plain": [
              "<Figure size 432x288 with 1 Axes>"
            ]
          },
          "metadata": {
            "tags": [],
            "needs_background": "light"
          }
        },
        {
          "output_type": "display_data",
          "data": {
            "image/png": "[encoded data removed]",
            "text/plain": [
              "<Figure size 432x288 with 1 Axes>"
            ]
          },
          "metadata": {
            "tags": [],
            "needs_background": "light"
          }
        }
      ]
    },
    {
      "cell_type": "code",
      "metadata": {
        "id": "FntfkhFlRKfQ",
        "colab_type": "code",
        "outputId": "cf46496b-03a8-4f2b-caae-7e7cea61120a",
        "colab": {
          "base_uri": "https://localhost:8080/",
          "height": 1000
        }
      },
      "source": [
        "pred_noemb_val_y = model.predict([val_X], batch_size=1024, verbose=1)\n",
        "print(pred_noemb_val_y)"
      ],
      "execution_count": 32,
      "outputs": [
        {
          "output_type": "stream",
          "text": [
            "1/1 [==============================] - 0s 2ms/step\n",
            "[[0.9202014 ]\n",
            " [0.85042477]\n",
            " [0.7746433 ]\n",
            " [0.81941575]\n",
            " [0.50392395]\n",
            " [0.93471193]\n",
            " [0.9331747 ]\n",
            " [0.9557554 ]\n",
            " [0.93129325]\n",
            " [0.85418606]\n",
            " [0.9488279 ]\n",
            " [0.91174555]\n",
            " [0.9136013 ]\n",
            " [0.9480501 ]\n",
            " [0.95272714]\n",
            " [0.9011313 ]\n",
            " [0.9114024 ]\n",
            " [0.9591664 ]\n",
            " [0.5762221 ]\n",
            " [0.91899383]\n",
            " [0.84822106]\n",
            " [0.95071507]\n",
            " [0.81986636]\n",
            " [0.94865763]\n",
            " [0.9345548 ]\n",
            " [0.8124726 ]\n",
            " [0.94955367]\n",
            " [0.7501652 ]\n",
            " [0.8914758 ]\n",
            " [0.93101466]\n",
            " [0.89455247]\n",
            " [0.85691285]\n",
            " [0.54517305]\n",
            " [0.835884  ]\n",
            " [0.88430876]\n",
            " [0.9275547 ]\n",
            " [0.8732985 ]\n",
            " [0.86004287]\n",
            " [0.6610662 ]\n",
            " [0.8437935 ]\n",
            " [0.9529189 ]\n",
            " [0.89831746]\n",
            " [0.7611247 ]\n",
            " [0.9604683 ]\n",
            " [0.95427155]\n",
            " [0.95215523]\n",
            " [0.9187902 ]\n",
            " [0.9622977 ]\n",
            " [0.69194907]\n",
            " [0.9019612 ]\n",
            " [0.77055085]\n",
            " [0.8977492 ]\n",
            " [0.81821984]\n",
            " [0.954834  ]\n",
            " [0.68226093]\n",
            " [0.8864259 ]\n",
            " [0.955675  ]\n",
            " [0.9000263 ]\n",
            " [0.9611306 ]\n",
            " [0.7965977 ]\n",
            " [0.89578164]\n",
            " [0.72657573]\n",
            " [0.8535227 ]\n",
            " [0.5203435 ]\n",
            " [0.94991744]\n",
            " [0.95270884]\n",
            " [0.8816327 ]\n",
            " [0.887535  ]\n",
            " [0.853517  ]\n",
            " [0.89457536]\n",
            " [0.8758739 ]\n",
            " [0.88867265]\n",
            " [0.95120895]\n",
            " [0.9632051 ]\n",
            " [0.89093673]\n",
            " [0.84480965]\n",
            " [0.71417534]\n",
            " [0.9101193 ]\n",
            " [0.7410966 ]\n",
            " [0.83045757]\n",
            " [0.9379052 ]\n",
            " [0.95397455]\n",
            " [0.9434701 ]\n",
            " [0.93818223]\n",
            " [0.92554986]\n",
            " [0.6863674 ]\n",
            " [0.6784976 ]\n",
            " [0.75269145]\n",
            " [0.8462157 ]\n",
            " [0.88940036]\n",
            " [0.9511387 ]\n",
            " [0.9084848 ]\n",
            " [0.9139007 ]\n",
            " [0.9159834 ]\n",
            " [0.6678666 ]\n",
            " [0.88342035]\n",
            " [0.61228347]\n",
            " [0.94962764]\n",
            " [0.93915254]\n",
            " [0.9054785 ]\n",
            " [0.94268537]\n",
            " [0.9531981 ]\n",
            " [0.9405103 ]\n",
            " [0.81794834]\n",
            " [0.8878298 ]\n",
            " [0.9618382 ]\n",
            " [0.95727885]\n",
            " [0.94600296]\n",
            " [0.8866066 ]\n",
            " [0.95588195]\n",
            " [0.8259064 ]\n",
            " [0.7127964 ]\n",
            " [0.94071305]\n",
            " [0.6685811 ]\n",
            " [0.9327347 ]\n",
            " [0.9169808 ]\n",
            " [0.9441019 ]\n",
            " [0.61125267]\n",
            " [0.9214768 ]\n",
            " [0.9325044 ]\n",
            " [0.92177534]\n",
            " [0.7460346 ]\n",
            " [0.9082421 ]\n",
            " [0.9244431 ]\n",
            " [0.5761482 ]\n",
            " [0.94060683]\n",
            " [0.9647559 ]\n",
            " [0.91879517]\n",
            " [0.8754088 ]\n",
            " [0.8940818 ]\n",
            " [0.95099795]\n",
            " [0.86434686]\n",
            " [0.94722426]\n",
            " [0.95418817]\n",
            " [0.94821   ]\n",
            " [0.9486099 ]\n",
            " [0.8441541 ]\n",
            " [0.9421737 ]\n",
            " [0.9338844 ]\n",
            " [0.9269924 ]\n",
            " [0.9035424 ]\n",
            " [0.7172871 ]\n",
            " [0.8667158 ]\n",
            " [0.859086  ]\n",
            " [0.70310014]\n",
            " [0.8103744 ]\n",
            " [0.92546123]\n",
            " [0.93292004]\n",
            " [0.9422005 ]\n",
            " [0.9319214 ]\n",
            " [0.92192733]\n",
            " [0.8934201 ]\n",
            " [0.9378723 ]\n",
            " [0.9456519 ]\n",
            " [0.75635624]\n",
            " [0.9242181 ]\n",
            " [0.8482079 ]\n",
            " [0.5104615 ]\n",
            " [0.7421923 ]\n",
            " [0.60899186]\n",
            " [0.9473481 ]\n",
            " [0.94634986]\n",
            " [0.79539347]\n",
            " [0.95500946]\n",
            " [0.9255949 ]\n",
            " [0.8236266 ]\n",
            " [0.9407861 ]\n",
            " [0.92841667]\n",
            " [0.83740604]\n",
            " [0.8873948 ]\n",
            " [0.84606284]\n",
            " [0.9420564 ]\n",
            " [0.8746059 ]\n",
            " [0.884758  ]\n",
            " [0.905676  ]\n",
            " [0.931005  ]\n",
            " [0.6529529 ]\n",
            " [0.9420297 ]\n",
            " [0.9023859 ]\n",
            " [0.9399512 ]\n",
            " [0.90496063]\n",
            " [0.7587768 ]\n",
            " [0.88452905]\n",
            " [0.8398017 ]\n",
            " [0.908532  ]\n",
            " [0.9299501 ]\n",
            " [0.9591051 ]\n",
            " [0.9640151 ]\n",
            " [0.96798944]\n",
            " [0.8978621 ]\n",
            " [0.7681535 ]\n",
            " [0.9331416 ]\n",
            " [0.9385654 ]\n",
            " [0.96064353]\n",
            " [0.83857405]\n",
            " [0.76253116]\n",
            " [0.92332435]\n",
            " [0.9505007 ]\n",
            " [0.94913137]\n",
            " [0.9448581 ]\n",
            " [0.7734512 ]\n",
            " [0.93186426]\n",
            " [0.9393817 ]\n",
            " [0.96555936]\n",
            " [0.95750237]\n",
            " [0.9043317 ]\n",
            " [0.93647146]\n",
            " [0.8872671 ]\n",
            " [0.8245578 ]\n",
            " [0.96671546]\n",
            " [0.8291129 ]\n",
            " [0.83805263]\n",
            " [0.9604342 ]\n",
            " [0.9352257 ]\n",
            " [0.6784976 ]\n",
            " [0.87515813]\n",
            " [0.94080174]\n",
            " [0.9407089 ]\n",
            " [0.9084898 ]\n",
            " [0.9523566 ]\n",
            " [0.9555521 ]\n",
            " [0.95557845]\n",
            " [0.80668926]\n",
            " [0.92879236]\n",
            " [0.7709166 ]\n",
            " [0.9113187 ]\n",
            " [0.8397428 ]\n",
            " [0.9390495 ]\n",
            " [0.85103977]\n",
            " [0.8093727 ]\n",
            " [0.94821006]\n",
            " [0.91236556]\n",
            " [0.79754007]\n",
            " [0.5762221 ]\n",
            " [0.8939787 ]\n",
            " [0.9500365 ]\n",
            " [0.931231  ]\n",
            " [0.88889945]\n",
            " [0.6966245 ]\n",
            " [0.81415206]\n",
            " [0.9537803 ]\n",
            " [0.92051446]\n",
            " [0.9618602 ]\n",
            " [0.6093011 ]\n",
            " [0.841664  ]\n",
            " [0.9429809 ]\n",
            " [0.9587497 ]\n",
            " [0.91884524]\n",
            " [0.952348  ]\n",
            " [0.9205067 ]\n",
            " [0.9494739 ]\n",
            " [0.91293263]\n",
            " [0.93739665]\n",
            " [0.9295081 ]\n",
            " [0.9483211 ]\n",
            " [0.89739335]\n",
            " [0.92649746]\n",
            " [0.9199764 ]\n",
            " [0.789607  ]\n",
            " [0.9579731 ]\n",
            " [0.92484164]\n",
            " [0.7816907 ]\n",
            " [0.9433769 ]\n",
            " [0.7862638 ]\n",
            " [0.9485172 ]\n",
            " [0.8526063 ]\n",
            " [0.94487417]\n",
            " [0.8839036 ]\n",
            " [0.9575033 ]\n",
            " [0.95729774]\n",
            " [0.9096351 ]\n",
            " [0.88478345]\n",
            " [0.8560562 ]\n",
            " [0.87508047]\n",
            " [0.66219825]\n",
            " [0.9655206 ]\n",
            " [0.8930491 ]\n",
            " [0.95797575]\n",
            " [0.8427256 ]\n",
            " [0.887873  ]\n",
            " [0.93278265]\n",
            " [0.94771206]\n",
            " [0.9363435 ]\n",
            " [0.9278128 ]\n",
            " [0.9296367 ]\n",
            " [0.95163965]\n",
            " [0.9372412 ]\n",
            " [0.8684803 ]\n",
            " [0.9053507 ]\n",
            " [0.9397612 ]\n",
            " [0.8830712 ]\n",
            " [0.9557326 ]\n",
            " [0.926514  ]\n",
            " [0.94873345]\n",
            " [0.90805817]\n",
            " [0.92970484]\n",
            " [0.95395124]\n",
            " [0.920166  ]\n",
            " [0.9497336 ]\n",
            " [0.92494833]\n",
            " [0.5220592 ]\n",
            " [0.8047471 ]\n",
            " [0.9236663 ]\n",
            " [0.85570014]\n",
            " [0.8438772 ]\n",
            " [0.51422155]\n",
            " [0.89918697]\n",
            " [0.92474055]\n",
            " [0.8805771 ]\n",
            " [0.9300553 ]\n",
            " [0.90208685]\n",
            " [0.95370936]\n",
            " [0.9537443 ]\n",
            " [0.9362462 ]\n",
            " [0.9650985 ]\n",
            " [0.9345457 ]\n",
            " [0.9405836 ]\n",
            " [0.88275075]\n",
            " [0.8716321 ]\n",
            " [0.71107763]\n",
            " [0.8800212 ]\n",
            " [0.9206033 ]\n",
            " [0.9008225 ]\n",
            " [0.9303538 ]\n",
            " [0.9434144 ]\n",
            " [0.9563141 ]\n",
            " [0.9296524 ]\n",
            " [0.8894292 ]\n",
            " [0.9426575 ]\n",
            " [0.8930516 ]\n",
            " [0.93374693]\n",
            " [0.72639596]\n",
            " [0.720548  ]\n",
            " [0.93474823]\n",
            " [0.9205892 ]\n",
            " [0.9265145 ]\n",
            " [0.9510244 ]\n",
            " [0.872929  ]\n",
            " [0.9141232 ]\n",
            " [0.904574  ]\n",
            " [0.48068622]\n",
            " [0.92172986]\n",
            " [0.9725565 ]\n",
            " [0.93312585]\n",
            " [0.90127194]\n",
            " [0.7683666 ]\n",
            " [0.8668906 ]\n",
            " [0.92267364]\n",
            " [0.83423126]\n",
            " [0.9500438 ]\n",
            " [0.9399438 ]\n",
            " [0.8828685 ]\n",
            " [0.8064457 ]\n",
            " [0.9414016 ]\n",
            " [0.8327836 ]\n",
            " [0.7131059 ]\n",
            " [0.9363886 ]\n",
            " [0.94373065]\n",
            " [0.9487903 ]\n",
            " [0.8250056 ]\n",
            " [0.9066912 ]\n",
            " [0.9648899 ]\n",
            " [0.9430877 ]\n",
            " [0.896436  ]\n",
            " [0.939695  ]\n",
            " [0.9165866 ]\n",
            " [0.91900706]\n",
            " [0.80421233]\n",
            " [0.7862021 ]\n",
            " [0.8543292 ]\n",
            " [0.94199455]\n",
            " [0.62389916]\n",
            " [0.92823446]\n",
            " [0.92695874]\n",
            " [0.9372883 ]\n",
            " [0.9278436 ]\n",
            " [0.8880825 ]\n",
            " [0.8703778 ]\n",
            " [0.69481933]\n",
            " [0.8209599 ]\n",
            " [0.9528866 ]\n",
            " [0.5702475 ]\n",
            " [0.8471301 ]\n",
            " [0.9583671 ]\n",
            " [0.93852663]\n",
            " [0.9413265 ]\n",
            " [0.7230092 ]\n",
            " [0.8723903 ]\n",
            " [0.85414636]\n",
            " [0.93891335]\n",
            " [0.9334099 ]\n",
            " [0.9446871 ]\n",
            " [0.9340254 ]\n",
            " [0.91545886]\n",
            " [0.92126274]\n",
            " [0.8210957 ]\n",
            " [0.895085  ]\n",
            " [0.824989  ]\n",
            " [0.95020455]\n",
            " [0.9072032 ]\n",
            " [0.9323509 ]\n",
            " [0.90542614]\n",
            " [0.9109541 ]\n",
            " [0.8916571 ]\n",
            " [0.95270926]\n",
            " [0.78964514]\n",
            " [0.9516705 ]\n",
            " [0.9045096 ]\n",
            " [0.93715346]\n",
            " [0.8830477 ]\n",
            " [0.8840811 ]\n",
            " [0.9078665 ]\n",
            " [0.8355888 ]\n",
            " [0.7037397 ]\n",
            " [0.8180021 ]\n",
            " [0.95015657]\n",
            " [0.9563445 ]\n",
            " [0.9497324 ]\n",
            " [0.958451  ]\n",
            " [0.9466713 ]\n",
            " [0.94617933]\n",
            " [0.9260335 ]\n",
            " [0.9415724 ]\n",
            " [0.87784857]\n",
            " [0.83674437]\n",
            " [0.9366882 ]\n",
            " [0.92715293]\n",
            " [0.9529214 ]\n",
            " [0.91032547]\n",
            " [0.91472644]\n",
            " [0.9496281 ]\n",
            " [0.88619304]\n",
            " [0.81137025]\n",
            " [0.9452052 ]\n",
            " [0.91151273]\n",
            " [0.95982033]\n",
            " [0.93183196]\n",
            " [0.9267013 ]\n",
            " [0.92881227]\n",
            " [0.8608791 ]]\n"
          ],
          "name": "stdout"
        }
      ]
    },
    {
      "cell_type": "code",
      "metadata": {
        "id": "gGPsgb7IQDsg",
        "colab_type": "code",
        "outputId": "d7456825-76e5-44e2-8136-853c28510fa5",
        "colab": {
          "base_uri": "https://localhost:8080/",
          "height": 71
        }
      },
      "source": [
        "# validation the model(confusion matrix)\n",
        "def rnn_confusion_matrix(pred_noemb_val_y, val_y):\n",
        "    pred_val_y = pred_noemb_val_y > 0.5\n",
        "    tn, fp, fn, tp = confusion_matrix(pred_val_y, val_y).ravel()\n",
        "    print('tn', tn, 'fp', fp, 'fn', fn, 'tp', tp)\n",
        "\n",
        "    lstm_acc = accuracy_score(pred_val_y, val_y)\n",
        "    lstm_precision = precision_score(pred_val_y, val_y)\n",
        "    lstm_recall = recall_score(pred_val_y, val_y)\n",
        "    lstm_f1_score = f1_score(pred_val_y, val_y)\n",
        "    return lstm_acc, lstm_precision, lstm_recall, lstm_f1_score\n",
        "\n",
        "lstm_acc, lstm_precision, lstm_recall, lstm_f1_score = rnn_confusion_matrix(pred_noemb_val_y, val_y)\n",
        "print('lstm_acc: ',lstm_acc, ', lstm_precision: ', lstm_precision, ', lstm_recall: ', lstm_recall, ', lstm_f1_score', lstm_f1_score)"
      ],
      "execution_count": 33,
      "outputs": [
        {
          "output_type": "stream",
          "text": [
            "tn 0 fp 1 fn 44 tp 395\n",
            "lstm_acc:  0.8977272727272727 , lstm_precision:  0.9974747474747475 , lstm_recall:  0.8997722095671982 , lstm_f1_score 0.9461077844311377\n"
          ],
          "name": "stdout"
        }
      ]
    },
    {
      "cell_type": "code",
      "metadata": {
        "_uuid": "47b63dca0247a08a808db7ae6eea33065c554948",
        "id": "M4y418b5ZA6x",
        "colab_type": "code",
        "colab": {}
      },
      "source": [
        "# validation the model(f1-score)\n",
        "\n",
        "threshes=[]\n",
        "f1_scores=[]\n",
        "accuracy_scores=[]\n",
        "for thresh in np.arange(0.1, 0.801, 0.01):\n",
        "    thresh = np.round(thresh, 2)\n",
        "    threshes.append(thresh)\n",
        "    # logging.info(\"F1 score at threshold {0} is {1}\".format(thresh, metrics.f1_score(val_y, (pred_noemb_val_y>thresh).astype(int))))\n",
        "    f1_scores.append(metrics.f1_score(val_y, (pred_noemb_val_y>thresh).astype(int)))\n",
        "    # logging.info(\"Accuracy at threshold {0} is {1}\".format(thresh, metrics.accuracy_score(val_y, (pred_noemb_val_y>thresh).astype(int))))\n",
        "    accuracy_scores.append(metrics.accuracy_score(val_y, (pred_noemb_val_y>thresh).astype(int)))\n"
      ],
      "execution_count": 0,
      "outputs": []
    },
    {
      "cell_type": "code",
      "metadata": {
        "id": "aC0KxHrGnewO",
        "colab_type": "code",
        "outputId": "584b1acc-17e7-450f-9078-7859a648262f",
        "colab": {
          "base_uri": "https://localhost:8080/",
          "height": 295
        }
      },
      "source": [
        "# plot two measures\n",
        "plt.plot(threshes, f1_scores, color='blue', label='f1')\n",
        "plt.plot(threshes, accuracy_scores, color='green', label='acc')\n",
        "plt.title('Threhold vs f1 scores/acc')\n",
        "plt.ylabel('f1_scores/acc')\n",
        "plt.xlabel('threshold')\n",
        "plt.legend()\n",
        "plt.show()"
      ],
      "execution_count": 35,
      "outputs": [
        {
          "output_type": "display_data",
          "data": {
            "image/png": "[encoded data removed]",
            "text/plain": [
              "<Figure size 432x288 with 1 Axes>"
            ]
          },
          "metadata": {
            "tags": [],
            "needs_background": "light"
          }
        }
      ]
    },
    {
      "cell_type": "markdown",
      "metadata": {
        "id": "hJSYLb3ykxyT",
        "colab_type": "text"
      },
      "source": [
        "## Model3: LSTM + Pretrained embeddings\n",
        "\n",
        "Embeddings:\n",
        "glove.840B.300d - https://nlp.stanford.edu/projects/glove/\n",
        "paragram_300_sl999 - https://cogcomp.org/page/resource_view/106\n",
        "\n",
        "It will take several minutes to load this 5G file. Be patient.. \n",
        "\n",
        "\n",
        "\n"
      ]
    },
    {
      "cell_type": "code",
      "metadata": {
        "id": "VS3iwFGqwHvT",
        "colab_type": "code",
        "outputId": "6f65a5ea-08dd-4a25-ba27-c305eea57fd5",
        "colab": {
          "base_uri": "https://localhost:8080/",
          "height": 249
        }
      },
      "source": [
        "import io\n",
        "embeddings_index = {}\n",
        "logging.info(\"Loading Glove Model\")\n",
        "with io.open(PROJECT_PATH +'/glove.840B.300d.txt', encoding='utf8') as f:\n",
        "    for line in f:\n",
        "        values = line.split()\n",
        "        word = ''.join(values[:-300])\n",
        "        coefs = np.asarray(values[-300:], dtype='float32')\n",
        "        embeddings_index[word] = coefs\n",
        "logging.info(\"Loading Glove Model Done\")"
      ],
      "execution_count": 36,
      "outputs": [
        {
          "output_type": "stream",
          "text": [
            "2020-05-25 07:15:35 INFO     Loading Glove Model\n"
          ],
          "name": "stdout"
        },
        {
          "output_type": "error",
          "ename": "OSError",
          "evalue": "ignored",
          "traceback": [
            "\u001b[0;31m---------------------------------------------------------------------------\u001b[0m",
            "\u001b[0;31mOSError\u001b[0m                                   Traceback (most recent call last)",
            "\u001b[0;32m<ipython-input-36-4797011fc503>\u001b[0m in \u001b[0;36m<module>\u001b[0;34m()\u001b[0m\n\u001b[1;32m      3\u001b[0m \u001b[0mlogging\u001b[0m\u001b[0;34m.\u001b[0m\u001b[0minfo\u001b[0m\u001b[0;34m(\u001b[0m\u001b[0;34m\"Loading Glove Model\"\u001b[0m\u001b[0;34m)\u001b[0m\u001b[0;34m\u001b[0m\u001b[0;34m\u001b[0m\u001b[0m\n\u001b[1;32m      4\u001b[0m \u001b[0;32mwith\u001b[0m \u001b[0mio\u001b[0m\u001b[0;34m.\u001b[0m\u001b[0mopen\u001b[0m\u001b[0;34m(\u001b[0m\u001b[0mPROJECT_PATH\u001b[0m \u001b[0;34m+\u001b[0m\u001b[0;34m'/glove.840B.300d.txt'\u001b[0m\u001b[0;34m,\u001b[0m \u001b[0mencoding\u001b[0m\u001b[0;34m=\u001b[0m\u001b[0;34m'utf8'\u001b[0m\u001b[0;34m)\u001b[0m \u001b[0;32mas\u001b[0m \u001b[0mf\u001b[0m\u001b[0;34m:\u001b[0m\u001b[0;34m\u001b[0m\u001b[0;34m\u001b[0m\u001b[0m\n\u001b[0;32m----> 5\u001b[0;31m     \u001b[0;32mfor\u001b[0m \u001b[0mline\u001b[0m \u001b[0;32min\u001b[0m \u001b[0mf\u001b[0m\u001b[0;34m:\u001b[0m\u001b[0;34m\u001b[0m\u001b[0;34m\u001b[0m\u001b[0m\n\u001b[0m\u001b[1;32m      6\u001b[0m         \u001b[0mvalues\u001b[0m \u001b[0;34m=\u001b[0m \u001b[0mline\u001b[0m\u001b[0;34m.\u001b[0m\u001b[0msplit\u001b[0m\u001b[0;34m(\u001b[0m\u001b[0;34m)\u001b[0m\u001b[0;34m\u001b[0m\u001b[0;34m\u001b[0m\u001b[0m\n\u001b[1;32m      7\u001b[0m         \u001b[0mword\u001b[0m \u001b[0;34m=\u001b[0m \u001b[0;34m''\u001b[0m\u001b[0;34m.\u001b[0m\u001b[0mjoin\u001b[0m\u001b[0;34m(\u001b[0m\u001b[0mvalues\u001b[0m\u001b[0;34m[\u001b[0m\u001b[0;34m:\u001b[0m\u001b[0;34m-\u001b[0m\u001b[0;36m300\u001b[0m\u001b[0;34m]\u001b[0m\u001b[0;34m)\u001b[0m\u001b[0;34m\u001b[0m\u001b[0;34m\u001b[0m\u001b[0m\n",
            "\u001b[0;31mOSError\u001b[0m: [Errno 125] Operation canceled"
          ]
        }
      ]
    },
    {
      "cell_type": "code",
      "metadata": {
        "id": "_7fswnbHDI2S",
        "colab_type": "code",
        "outputId": "5df3084c-ce90-493f-a907-99d426b2be58",
        "colab": {
          "base_uri": "https://localhost:8080/",
          "height": 88
        }
      },
      "source": [
        "all_embs = np.stack(embeddings_index.values())\n",
        "emb_mean,emb_std = all_embs.mean(), all_embs.std()\n",
        "embed_size = all_embs.shape[1]\n",
        "\n",
        "print(all_embs.shape, emb_mean, emb_std, embed_size )"
      ],
      "execution_count": 37,
      "outputs": [
        {
          "output_type": "stream",
          "text": [
            "/usr/local/lib/python3.6/dist-packages/IPython/core/interactiveshell.py:2822: FutureWarning: arrays to stack must be passed as a \"sequence\" type such as list or tuple. Support for non-sequence iterables such as generators is deprecated as of NumPy 1.16 and will raise an error in the future.\n",
            "  if self.run_code(code, result):\n"
          ],
          "name": "stderr"
        },
        {
          "output_type": "stream",
          "text": [
            "(909900, 300) -0.0052907746 0.4613098 300\n"
          ],
          "name": "stdout"
        }
      ]
    },
    {
      "cell_type": "code",
      "metadata": {
        "id": "uOx2DkzgDS-m",
        "colab_type": "code",
        "outputId": "82b30081-b7d1-430e-acb1-cc6d5cad7a0f",
        "colab": {
          "base_uri": "https://localhost:8080/",
          "height": 34
        }
      },
      "source": [
        "word_index = tokenizer.word_index\n",
        "len(word_index)"
      ],
      "execution_count": 38,
      "outputs": [
        {
          "output_type": "execute_result",
          "data": {
            "text/plain": [
              "10042"
            ]
          },
          "metadata": {
            "tags": []
          },
          "execution_count": 38
        }
      ]
    },
    {
      "cell_type": "code",
      "metadata": {
        "id": "E4Ng8SHSDxBx",
        "colab_type": "code",
        "outputId": "96be5ff7-63d5-4fe5-fe03-dfd3f0e42858",
        "colab": {
          "base_uri": "https://localhost:8080/",
          "height": 34
        }
      },
      "source": [
        "nb_words = min(max_features, 1 + len(word_index))\n",
        "nb_words"
      ],
      "execution_count": 39,
      "outputs": [
        {
          "output_type": "execute_result",
          "data": {
            "text/plain": [
              "10043"
            ]
          },
          "metadata": {
            "tags": []
          },
          "execution_count": 39
        }
      ]
    },
    {
      "cell_type": "code",
      "metadata": {
        "id": "LWf0qQ2iD2ve",
        "colab_type": "code",
        "outputId": "5b252dd2-4163-49f2-83c1-5d23290aef3e",
        "colab": {
          "base_uri": "https://localhost:8080/",
          "height": 34
        }
      },
      "source": [
        "embedding_matrix = np.random.normal(emb_mean, emb_std, (nb_words, embed_size))\n",
        "embedding_matrix.shape"
      ],
      "execution_count": 40,
      "outputs": [
        {
          "output_type": "execute_result",
          "data": {
            "text/plain": [
              "(10043, 300)"
            ]
          },
          "metadata": {
            "tags": []
          },
          "execution_count": 40
        }
      ]
    },
    {
      "cell_type": "code",
      "metadata": {
        "id": "vNslPaHb193k",
        "colab_type": "code",
        "outputId": "b379e1e7-ecd4-4c8d-92e5-bb910b891c66",
        "colab": {
          "base_uri": "https://localhost:8080/",
          "height": 34
        }
      },
      "source": [
        "for word, i in word_index.items(): \n",
        "    if i >= max_features: continue\n",
        "    embedding_vector = embeddings_index.get(word)\n",
        "    if embedding_vector is not None: \n",
        "        embedding_matrix[i] = embedding_vector\n",
        "print(embedding_matrix.shape)"
      ],
      "execution_count": 41,
      "outputs": [
        {
          "output_type": "stream",
          "text": [
            "(10043, 300)\n"
          ],
          "name": "stdout"
        }
      ]
    },
    {
      "cell_type": "code",
      "metadata": {
        "id": "6RWtEloU2M1N",
        "colab_type": "code",
        "outputId": "8c36ee2c-c89f-4f87-e912-310dd2c10320",
        "colab": {
          "base_uri": "https://localhost:8080/",
          "height": 323
        }
      },
      "source": [
        "import tensorflow as tf\n",
        "from tensorflow.keras import layers\n",
        "from keras.initializers import Constant\n",
        "\n",
        "model = tf.keras.Sequential()\n",
        "model.add(layers.Embedding(nb_words,\n",
        "                            300,\n",
        "                            weights=[embedding_matrix],\n",
        "                            input_length=max_len,\n",
        "                            trainable=False))\n",
        "model.add(layers.LSTM(128))\n",
        "model.add(layers.Dense(10,activation=\"relu\"))\n",
        "model.add(layers.Dropout(0.2))\n",
        "model.add(layers.Dense(1, activation=\"sigmoid\"))\n",
        "model.summary()\n"
      ],
      "execution_count": 42,
      "outputs": [
        {
          "output_type": "stream",
          "text": [
            "Model: \"sequential_1\"\n",
            "_________________________________________________________________\n",
            "Layer (type)                 Output Shape              Param #   \n",
            "=================================================================\n",
            "embedding_1 (Embedding)      (None, 70, 300)           3012900   \n",
            "_________________________________________________________________\n",
            "lstm_1 (LSTM)                (None, 128)               219648    \n",
            "_________________________________________________________________\n",
            "dense_2 (Dense)              (None, 10)                1290      \n",
            "_________________________________________________________________\n",
            "dropout_1 (Dropout)          (None, 10)                0         \n",
            "_________________________________________________________________\n",
            "dense_3 (Dense)              (None, 1)                 11        \n",
            "=================================================================\n",
            "Total params: 3,233,849\n",
            "Trainable params: 220,949\n",
            "Non-trainable params: 3,012,900\n",
            "_________________________________________________________________\n"
          ],
          "name": "stdout"
        }
      ]
    },
    {
      "cell_type": "code",
      "metadata": {
        "id": "Txx27Bzd3gLM",
        "colab_type": "code",
        "colab": {}
      },
      "source": [
        "model.compile(loss='binary_crossentropy', optimizer='adam', metrics=['accuracy'])"
      ],
      "execution_count": 0,
      "outputs": []
    },
    {
      "cell_type": "code",
      "metadata": {
        "id": "BeVa4_2m3kzN",
        "colab_type": "code",
        "outputId": "b3e304f3-7d3c-407e-9640-93a2ca7b543c",
        "colab": {
          "base_uri": "https://localhost:8080/",
          "height": 139
        }
      },
      "source": [
        "from tensorflow.keras.callbacks import EarlyStopping\n",
        "\n",
        "callbacks = EarlyStopping(monitor='val_loss', min_delta=0, patience = 2)\n",
        "\n",
        "history = model.fit(train_X, \n",
        "                    train_y, \n",
        "                    batch_size=512, \n",
        "                    epochs=15, \n",
        "                    validation_data=(val_X, val_y),\n",
        "                    callbacks=callbacks\n",
        "                    )"
      ],
      "execution_count": 44,
      "outputs": [
        {
          "output_type": "stream",
          "text": [
            "Epoch 1/15\n",
            "7/7 [==============================] - 6s 810ms/step - loss: 0.5102 - accuracy: 0.8182 - val_loss: 0.3214 - val_accuracy: 0.9000\n",
            "Epoch 2/15\n",
            "7/7 [==============================] - 5s 739ms/step - loss: 0.3980 - accuracy: 0.8773 - val_loss: 0.3565 - val_accuracy: 0.9000\n",
            "Epoch 3/15\n",
            "7/7 [==============================] - 5s 733ms/step - loss: 0.3853 - accuracy: 0.8778 - val_loss: 0.3251 - val_accuracy: 0.9000\n"
          ],
          "name": "stdout"
        }
      ]
    },
    {
      "cell_type": "code",
      "metadata": {
        "id": "7JjJbtUNn3cM",
        "colab_type": "code",
        "outputId": "cc154221-77c5-4c5c-dcb9-640cff861714",
        "colab": {
          "base_uri": "https://localhost:8080/",
          "height": 573
        }
      },
      "source": [
        "# Plot training & validation accuracy values\n",
        "import matplotlib.pyplot as plt \n",
        "plt.plot(history.history['accuracy'])\n",
        "plt.plot(history.history['val_accuracy'])\n",
        "plt.title('Model accuracy')\n",
        "plt.ylabel('Accuracy')\n",
        "plt.xlabel('Epoch')\n",
        "plt.legend(['Train', 'Val'], loc='upper left')\n",
        "plt.show()\n",
        "\n",
        "# Plot training & validation loss values\n",
        "plt.plot(history.history['loss'])\n",
        "plt.plot(history.history['val_loss'])\n",
        "plt.title('Model loss')\n",
        "plt.ylabel('Loss')\n",
        "plt.xlabel('Epoch')\n",
        "plt.legend(['Train', 'Val'], loc='upper left')\n",
        "plt.show()"
      ],
      "execution_count": 46,
      "outputs": [
        {
          "output_type": "display_data",
          "data": {
            "image/png": "[encoded data removed]",
            "text/plain": [
              "<Figure size 432x288 with 1 Axes>"
            ]
          },
          "metadata": {
            "tags": [],
            "needs_background": "light"
          }
        },
        {
          "output_type": "display_data",
          "data": {
            "image/png": "[encoded data removed]",
            "text/plain": [
              "<Figure size 432x288 with 1 Axes>"
            ]
          },
          "metadata": {
            "tags": [],
            "needs_background": "light"
          }
        }
      ]
    },
    {
      "cell_type": "code",
      "metadata": {
        "id": "AslhlttleNnC",
        "colab_type": "code",
        "outputId": "3aa8f99b-ae19-442f-f778-02b6d526ef44",
        "colab": {
          "base_uri": "https://localhost:8080/",
          "height": 1000
        }
      },
      "source": [
        "# validation the model(f1-score)\n",
        "pred_noemb_val_y = model.predict([val_X], batch_size=1024, verbose=1)\n",
        "print(pred_noemb_val_y)\n",
        "threshes=[]\n",
        "f1_scores=[]\n",
        "accuracy_scores=[]\n",
        "for thresh in np.arange(0.1, 0.801, 0.01):\n",
        "    thresh = np.round(thresh, 2)\n",
        "    threshes.append(thresh)\n",
        "    logging.info(\"F1 score at threshold {0} is {1}\".format(thresh, metrics.f1_score(val_y, (pred_noemb_val_y>thresh).astype(int))))\n",
        "    f1_scores.append(metrics.f1_score(val_y, (pred_noemb_val_y>thresh).astype(int)))\n",
        "    logging.info(\"Accuracy at threshold {0} is {1}\".format(thresh, metrics.accuracy_score(val_y, (pred_noemb_val_y>thresh).astype(int))))\n",
        "    accuracy_scores.append(metrics.accuracy_score(val_y, (pred_noemb_val_y>thresh).astype(int)))"
      ],
      "execution_count": 47,
      "outputs": [
        {
          "output_type": "stream",
          "text": [
            "1/1 [==============================] - 0s 2ms/step\n",
            "[[0.8966491 ]\n",
            " [0.79245996]\n",
            " [0.8371675 ]\n",
            " [0.7872294 ]\n",
            " [0.7010151 ]\n",
            " [0.9182968 ]\n",
            " [0.9119188 ]\n",
            " [0.91954726]\n",
            " [0.88366914]\n",
            " [0.849002  ]\n",
            " [0.8757759 ]\n",
            " [0.862051  ]\n",
            " [0.8953416 ]\n",
            " [0.91196525]\n",
            " [0.89757043]\n",
            " [0.90134907]\n",
            " [0.829553  ]\n",
            " [0.934119  ]\n",
            " [0.6742536 ]\n",
            " [0.88818145]\n",
            " [0.8779013 ]\n",
            " [0.88707614]\n",
            " [0.8145143 ]\n",
            " [0.8930335 ]\n",
            " [0.8830355 ]\n",
            " [0.8356501 ]\n",
            " [0.90254474]\n",
            " [0.8688351 ]\n",
            " [0.86369616]\n",
            " [0.8845504 ]\n",
            " [0.78821194]\n",
            " [0.89126545]\n",
            " [0.65419275]\n",
            " [0.84421533]\n",
            " [0.91124505]\n",
            " [0.9039341 ]\n",
            " [0.85273397]\n",
            " [0.8624798 ]\n",
            " [0.79725826]\n",
            " [0.8535242 ]\n",
            " [0.9050971 ]\n",
            " [0.8948885 ]\n",
            " [0.78573644]\n",
            " [0.896322  ]\n",
            " [0.9038675 ]\n",
            " [0.87641454]\n",
            " [0.9285998 ]\n",
            " [0.90602267]\n",
            " [0.7277067 ]\n",
            " [0.8592746 ]\n",
            " [0.8275449 ]\n",
            " [0.9336487 ]\n",
            " [0.8707629 ]\n",
            " [0.9213337 ]\n",
            " [0.8390568 ]\n",
            " [0.8208705 ]\n",
            " [0.9246689 ]\n",
            " [0.90501964]\n",
            " [0.9196173 ]\n",
            " [0.8685175 ]\n",
            " [0.88796055]\n",
            " [0.75937766]\n",
            " [0.8432996 ]\n",
            " [0.67026067]\n",
            " [0.931444  ]\n",
            " [0.91592294]\n",
            " [0.88844275]\n",
            " [0.825103  ]\n",
            " [0.8190615 ]\n",
            " [0.844302  ]\n",
            " [0.89188856]\n",
            " [0.8661822 ]\n",
            " [0.8989712 ]\n",
            " [0.9248399 ]\n",
            " [0.87818635]\n",
            " [0.8984098 ]\n",
            " [0.74924934]\n",
            " [0.91148806]\n",
            " [0.80008   ]\n",
            " [0.81646216]\n",
            " [0.90845716]\n",
            " [0.9010014 ]\n",
            " [0.90934026]\n",
            " [0.90615714]\n",
            " [0.89149225]\n",
            " [0.7589146 ]\n",
            " [0.6204572 ]\n",
            " [0.8808618 ]\n",
            " [0.8641503 ]\n",
            " [0.8703861 ]\n",
            " [0.89546746]\n",
            " [0.9000472 ]\n",
            " [0.8995236 ]\n",
            " [0.8876053 ]\n",
            " [0.7230053 ]\n",
            " [0.917793  ]\n",
            " [0.7399867 ]\n",
            " [0.9097506 ]\n",
            " [0.87272024]\n",
            " [0.8232899 ]\n",
            " [0.9153944 ]\n",
            " [0.9066187 ]\n",
            " [0.9124464 ]\n",
            " [0.8407446 ]\n",
            " [0.8651107 ]\n",
            " [0.9151028 ]\n",
            " [0.8847139 ]\n",
            " [0.8726522 ]\n",
            " [0.8365712 ]\n",
            " [0.9065238 ]\n",
            " [0.8461248 ]\n",
            " [0.7927828 ]\n",
            " [0.91349214]\n",
            " [0.8329468 ]\n",
            " [0.89446646]\n",
            " [0.8823042 ]\n",
            " [0.9285648 ]\n",
            " [0.774004  ]\n",
            " [0.90113145]\n",
            " [0.9091308 ]\n",
            " [0.8952588 ]\n",
            " [0.8373641 ]\n",
            " [0.868882  ]\n",
            " [0.900512  ]\n",
            " [0.56762904]\n",
            " [0.8939681 ]\n",
            " [0.91264486]\n",
            " [0.84116155]\n",
            " [0.91499346]\n",
            " [0.86379653]\n",
            " [0.8988567 ]\n",
            " [0.85681057]\n",
            " [0.9011775 ]\n",
            " [0.90766895]\n",
            " [0.9043271 ]\n",
            " [0.92048895]\n",
            " [0.8823396 ]\n",
            " [0.91113675]\n",
            " [0.8965596 ]\n",
            " [0.89724773]\n",
            " [0.9069996 ]\n",
            " [0.8252312 ]\n",
            " [0.7940117 ]\n",
            " [0.8624433 ]\n",
            " [0.66647005]\n",
            " [0.75344074]\n",
            " [0.90864325]\n",
            " [0.89562917]\n",
            " [0.90976644]\n",
            " [0.8949075 ]\n",
            " [0.8709676 ]\n",
            " [0.8970905 ]\n",
            " [0.9109477 ]\n",
            " [0.89275587]\n",
            " [0.8125913 ]\n",
            " [0.9278431 ]\n",
            " [0.8838545 ]\n",
            " [0.63241744]\n",
            " [0.8478924 ]\n",
            " [0.59131545]\n",
            " [0.90140533]\n",
            " [0.906694  ]\n",
            " [0.83747745]\n",
            " [0.89989686]\n",
            " [0.84485626]\n",
            " [0.86098933]\n",
            " [0.93077105]\n",
            " [0.93367016]\n",
            " [0.8877715 ]\n",
            " [0.87940013]\n",
            " [0.85017693]\n",
            " [0.93404174]\n",
            " [0.870401  ]\n",
            " [0.8845494 ]\n",
            " [0.90068334]\n",
            " [0.89934504]\n",
            " [0.8694681 ]\n",
            " [0.8977253 ]\n",
            " [0.88406307]\n",
            " [0.9178152 ]\n",
            " [0.90254796]\n",
            " [0.7114824 ]\n",
            " [0.87010574]\n",
            " [0.79343414]\n",
            " [0.88693464]\n",
            " [0.8783188 ]\n",
            " [0.9078002 ]\n",
            " [0.9463085 ]\n",
            " [0.91088605]\n",
            " [0.89929163]\n",
            " [0.8101244 ]\n",
            " [0.8935329 ]\n",
            " [0.9028975 ]\n",
            " [0.89940983]\n",
            " [0.8004267 ]\n",
            " [0.80093014]\n",
            " [0.8791623 ]\n",
            " [0.92301035]\n",
            " [0.89790297]\n",
            " [0.916772  ]\n",
            " [0.75611323]\n",
            " [0.85532445]\n",
            " [0.87838984]\n",
            " [0.9033974 ]\n",
            " [0.9396222 ]\n",
            " [0.8651122 ]\n",
            " [0.90210354]\n",
            " [0.8941016 ]\n",
            " [0.8575138 ]\n",
            " [0.943151  ]\n",
            " [0.83476114]\n",
            " [0.8475877 ]\n",
            " [0.92716384]\n",
            " [0.9117924 ]\n",
            " [0.6204572 ]\n",
            " [0.8495921 ]\n",
            " [0.9277344 ]\n",
            " [0.90070605]\n",
            " [0.88074386]\n",
            " [0.90479904]\n",
            " [0.9211706 ]\n",
            " [0.92143047]\n",
            " [0.83355844]\n",
            " [0.90994036]\n",
            " [0.7884971 ]\n",
            " [0.84196544]\n",
            " [0.8881525 ]\n",
            " [0.9076063 ]\n",
            " [0.8537306 ]\n",
            " [0.8509003 ]\n",
            " [0.9028213 ]\n",
            " [0.88994443]\n",
            " [0.745257  ]\n",
            " [0.6742536 ]\n",
            " [0.89579964]\n",
            " [0.88769567]\n",
            " [0.89289397]\n",
            " [0.8782426 ]\n",
            " [0.8380866 ]\n",
            " [0.7931895 ]\n",
            " [0.922806  ]\n",
            " [0.9073343 ]\n",
            " [0.91265255]\n",
            " [0.585499  ]\n",
            " [0.8465322 ]\n",
            " [0.86714065]\n",
            " [0.893638  ]\n",
            " [0.8919234 ]\n",
            " [0.91510713]\n",
            " [0.85906136]\n",
            " [0.8285533 ]\n",
            " [0.86514974]\n",
            " [0.9031506 ]\n",
            " [0.8924293 ]\n",
            " [0.9042388 ]\n",
            " [0.828915  ]\n",
            " [0.89296675]\n",
            " [0.90855104]\n",
            " [0.78044355]\n",
            " [0.90354985]\n",
            " [0.91959935]\n",
            " [0.7639572 ]\n",
            " [0.91437197]\n",
            " [0.8012588 ]\n",
            " [0.9127369 ]\n",
            " [0.8194608 ]\n",
            " [0.91023135]\n",
            " [0.89057046]\n",
            " [0.9094294 ]\n",
            " [0.9034648 ]\n",
            " [0.8889782 ]\n",
            " [0.862073  ]\n",
            " [0.8764929 ]\n",
            " [0.87101066]\n",
            " [0.8497392 ]\n",
            " [0.9095932 ]\n",
            " [0.86410534]\n",
            " [0.91055775]\n",
            " [0.79755074]\n",
            " [0.90266645]\n",
            " [0.8804674 ]\n",
            " [0.9054423 ]\n",
            " [0.9015018 ]\n",
            " [0.90504736]\n",
            " [0.8791477 ]\n",
            " [0.89654315]\n",
            " [0.90222216]\n",
            " [0.85405827]\n",
            " [0.88191295]\n",
            " [0.92019486]\n",
            " [0.90334785]\n",
            " [0.91278994]\n",
            " [0.9159827 ]\n",
            " [0.9106443 ]\n",
            " [0.91913235]\n",
            " [0.90810466]\n",
            " [0.9034646 ]\n",
            " [0.8797646 ]\n",
            " [0.86644727]\n",
            " [0.874321  ]\n",
            " [0.6708323 ]\n",
            " [0.85027504]\n",
            " [0.90291667]\n",
            " [0.8845273 ]\n",
            " [0.9059577 ]\n",
            " [0.6615863 ]\n",
            " [0.88999957]\n",
            " [0.89510477]\n",
            " [0.8680998 ]\n",
            " [0.8795627 ]\n",
            " [0.8499961 ]\n",
            " [0.8753681 ]\n",
            " [0.89940965]\n",
            " [0.9123392 ]\n",
            " [0.91746825]\n",
            " [0.9123099 ]\n",
            " [0.91302633]\n",
            " [0.85592294]\n",
            " [0.88900435]\n",
            " [0.65603614]\n",
            " [0.8882645 ]\n",
            " [0.87945354]\n",
            " [0.8998157 ]\n",
            " [0.8925276 ]\n",
            " [0.9078108 ]\n",
            " [0.90873915]\n",
            " [0.9029354 ]\n",
            " [0.8895649 ]\n",
            " [0.9058242 ]\n",
            " [0.87102747]\n",
            " [0.8929776 ]\n",
            " [0.8734797 ]\n",
            " [0.7267965 ]\n",
            " [0.8992934 ]\n",
            " [0.9072429 ]\n",
            " [0.89033115]\n",
            " [0.90109456]\n",
            " [0.8923846 ]\n",
            " [0.8865758 ]\n",
            " [0.8937417 ]\n",
            " [0.7477492 ]\n",
            " [0.92731535]\n",
            " [0.93097687]\n",
            " [0.9072957 ]\n",
            " [0.8726226 ]\n",
            " [0.80266213]\n",
            " [0.90251744]\n",
            " [0.8889994 ]\n",
            " [0.86813813]\n",
            " [0.8851945 ]\n",
            " [0.90334177]\n",
            " [0.84757674]\n",
            " [0.88984996]\n",
            " [0.90519214]\n",
            " [0.87848717]\n",
            " [0.782233  ]\n",
            " [0.88735235]\n",
            " [0.93511844]\n",
            " [0.9343991 ]\n",
            " [0.82800364]\n",
            " [0.8892449 ]\n",
            " [0.92863303]\n",
            " [0.8686106 ]\n",
            " [0.9137496 ]\n",
            " [0.9230242 ]\n",
            " [0.89275765]\n",
            " [0.89891624]\n",
            " [0.88018656]\n",
            " [0.858088  ]\n",
            " [0.8688768 ]\n",
            " [0.88163567]\n",
            " [0.7985657 ]\n",
            " [0.90396756]\n",
            " [0.91976655]\n",
            " [0.8306861 ]\n",
            " [0.8928727 ]\n",
            " [0.8955098 ]\n",
            " [0.8989392 ]\n",
            " [0.81045043]\n",
            " [0.84287655]\n",
            " [0.90696883]\n",
            " [0.6303375 ]\n",
            " [0.89894664]\n",
            " [0.884503  ]\n",
            " [0.92099917]\n",
            " [0.8864771 ]\n",
            " [0.7739662 ]\n",
            " [0.8942026 ]\n",
            " [0.87061554]\n",
            " [0.9217819 ]\n",
            " [0.9083992 ]\n",
            " [0.86376995]\n",
            " [0.9198843 ]\n",
            " [0.8965455 ]\n",
            " [0.90057087]\n",
            " [0.85877395]\n",
            " [0.88897145]\n",
            " [0.80535525]\n",
            " [0.90806603]\n",
            " [0.88867456]\n",
            " [0.9098595 ]\n",
            " [0.87625486]\n",
            " [0.87889487]\n",
            " [0.89421344]\n",
            " [0.9089141 ]\n",
            " [0.7230724 ]\n",
            " [0.9105455 ]\n",
            " [0.89153945]\n",
            " [0.8760005 ]\n",
            " [0.86520565]\n",
            " [0.9157462 ]\n",
            " [0.88828766]\n",
            " [0.87578106]\n",
            " [0.8446851 ]\n",
            " [0.8457624 ]\n",
            " [0.9145887 ]\n",
            " [0.9273343 ]\n",
            " [0.90114266]\n",
            " [0.9017588 ]\n",
            " [0.91032827]\n",
            " [0.9087354 ]\n",
            " [0.90808296]\n",
            " [0.8843803 ]\n",
            " [0.8935401 ]\n",
            " [0.8568535 ]\n",
            " [0.9013722 ]\n",
            " [0.9398806 ]\n",
            " [0.92469674]\n",
            " [0.8842201 ]\n",
            " [0.9058267 ]\n",
            " [0.9047128 ]\n",
            " [0.8418529 ]\n",
            " [0.85283345]\n",
            " [0.908597  ]\n",
            " [0.88807994]\n",
            " [0.88214093]\n",
            " [0.9154104 ]\n",
            " [0.8904747 ]\n",
            " [0.9038886 ]\n",
            " [0.89802396]]\n",
            "2020-05-25 07:20:50 INFO     F1 score at threshold 0.1 is 0.9473684210526316\n",
            "2020-05-25 07:20:50 INFO     Accuracy at threshold 0.1 is 0.9\n",
            "2020-05-25 07:20:50 INFO     F1 score at threshold 0.11 is 0.9473684210526316\n",
            "2020-05-25 07:20:50 INFO     Accuracy at threshold 0.11 is 0.9\n",
            "2020-05-25 07:20:50 INFO     F1 score at threshold 0.12 is 0.9473684210526316\n",
            "2020-05-25 07:20:50 INFO     Accuracy at threshold 0.12 is 0.9\n",
            "2020-05-25 07:20:50 INFO     F1 score at threshold 0.13 is 0.9473684210526316\n",
            "2020-05-25 07:20:50 INFO     Accuracy at threshold 0.13 is 0.9\n",
            "2020-05-25 07:20:50 INFO     F1 score at threshold 0.14 is 0.9473684210526316\n",
            "2020-05-25 07:20:50 INFO     Accuracy at threshold 0.14 is 0.9\n",
            "2020-05-25 07:20:50 INFO     F1 score at threshold 0.15 is 0.9473684210526316\n",
            "2020-05-25 07:20:50 INFO     Accuracy at threshold 0.15 is 0.9\n",
            "2020-05-25 07:20:50 INFO     F1 score at threshold 0.16 is 0.9473684210526316\n",
            "2020-05-25 07:20:50 INFO     Accuracy at threshold 0.16 is 0.9\n",
            "2020-05-25 07:20:50 INFO     F1 score at threshold 0.17 is 0.9473684210526316\n",
            "2020-05-25 07:20:50 INFO     Accuracy at threshold 0.17 is 0.9\n",
            "2020-05-25 07:20:50 INFO     F1 score at threshold 0.18 is 0.9473684210526316\n",
            "2020-05-25 07:20:50 INFO     Accuracy at threshold 0.18 is 0.9\n",
            "2020-05-25 07:20:50 INFO     F1 score at threshold 0.19 is 0.9473684210526316\n",
            "2020-05-25 07:20:50 INFO     Accuracy at threshold 0.19 is 0.9\n",
            "2020-05-25 07:20:50 INFO     F1 score at threshold 0.2 is 0.9473684210526316\n",
            "2020-05-25 07:20:50 INFO     Accuracy at threshold 0.2 is 0.9\n",
            "2020-05-25 07:20:50 INFO     F1 score at threshold 0.21 is 0.9473684210526316\n",
            "2020-05-25 07:20:50 INFO     Accuracy at threshold 0.21 is 0.9\n",
            "2020-05-25 07:20:50 INFO     F1 score at threshold 0.22 is 0.9473684210526316\n",
            "2020-05-25 07:20:50 INFO     Accuracy at threshold 0.22 is 0.9\n",
            "2020-05-25 07:20:50 INFO     F1 score at threshold 0.23 is 0.9473684210526316\n",
            "2020-05-25 07:20:50 INFO     Accuracy at threshold 0.23 is 0.9\n",
            "2020-05-25 07:20:50 INFO     F1 score at threshold 0.24 is 0.9473684210526316\n",
            "2020-05-25 07:20:50 INFO     Accuracy at threshold 0.24 is 0.9\n",
            "2020-05-25 07:20:50 INFO     F1 score at threshold 0.25 is 0.9473684210526316\n",
            "2020-05-25 07:20:50 INFO     Accuracy at threshold 0.25 is 0.9\n",
            "2020-05-25 07:20:50 INFO     F1 score at threshold 0.26 is 0.9473684210526316\n",
            "2020-05-25 07:20:50 INFO     Accuracy at threshold 0.26 is 0.9\n",
            "2020-05-25 07:20:50 INFO     F1 score at threshold 0.27 is 0.9473684210526316\n",
            "2020-05-25 07:20:50 INFO     Accuracy at threshold 0.27 is 0.9\n",
            "2020-05-25 07:20:50 INFO     F1 score at threshold 0.28 is 0.9473684210526316\n",
            "2020-05-25 07:20:50 INFO     Accuracy at threshold 0.28 is 0.9\n",
            "2020-05-25 07:20:50 INFO     F1 score at threshold 0.29 is 0.9473684210526316\n",
            "2020-05-25 07:20:50 INFO     Accuracy at threshold 0.29 is 0.9\n",
            "2020-05-25 07:20:50 INFO     F1 score at threshold 0.3 is 0.9473684210526316\n",
            "2020-05-25 07:20:50 INFO     Accuracy at threshold 0.3 is 0.9\n",
            "2020-05-25 07:20:50 INFO     F1 score at threshold 0.31 is 0.9473684210526316\n",
            "2020-05-25 07:20:50 INFO     Accuracy at threshold 0.31 is 0.9\n",
            "2020-05-25 07:20:50 INFO     F1 score at threshold 0.32 is 0.9473684210526316\n",
            "2020-05-25 07:20:50 INFO     Accuracy at threshold 0.32 is 0.9\n",
            "2020-05-25 07:20:50 INFO     F1 score at threshold 0.33 is 0.9473684210526316\n",
            "2020-05-25 07:20:50 INFO     Accuracy at threshold 0.33 is 0.9\n",
            "2020-05-25 07:20:50 INFO     F1 score at threshold 0.34 is 0.9473684210526316\n",
            "2020-05-25 07:20:50 INFO     Accuracy at threshold 0.34 is 0.9\n",
            "2020-05-25 07:20:50 INFO     F1 score at threshold 0.35 is 0.9473684210526316\n",
            "2020-05-25 07:20:50 INFO     Accuracy at threshold 0.35 is 0.9\n",
            "2020-05-25 07:20:50 INFO     F1 score at threshold 0.36 is 0.9473684210526316\n",
            "2020-05-25 07:20:50 INFO     Accuracy at threshold 0.36 is 0.9\n",
            "2020-05-25 07:20:50 INFO     F1 score at threshold 0.37 is 0.9473684210526316\n",
            "2020-05-25 07:20:50 INFO     Accuracy at threshold 0.37 is 0.9\n",
            "2020-05-25 07:20:50 INFO     F1 score at threshold 0.38 is 0.9473684210526316\n",
            "2020-05-25 07:20:50 INFO     Accuracy at threshold 0.38 is 0.9\n",
            "2020-05-25 07:20:50 INFO     F1 score at threshold 0.39 is 0.9473684210526316\n",
            "2020-05-25 07:20:50 INFO     Accuracy at threshold 0.39 is 0.9\n",
            "2020-05-25 07:20:50 INFO     F1 score at threshold 0.4 is 0.9473684210526316\n",
            "2020-05-25 07:20:50 INFO     Accuracy at threshold 0.4 is 0.9\n",
            "2020-05-25 07:20:50 INFO     F1 score at threshold 0.41 is 0.9473684210526316\n",
            "2020-05-25 07:20:50 INFO     Accuracy at threshold 0.41 is 0.9\n",
            "2020-05-25 07:20:50 INFO     F1 score at threshold 0.42 is 0.9473684210526316\n",
            "2020-05-25 07:20:50 INFO     Accuracy at threshold 0.42 is 0.9\n",
            "2020-05-25 07:20:50 INFO     F1 score at threshold 0.43 is 0.9473684210526316\n",
            "2020-05-25 07:20:50 INFO     Accuracy at threshold 0.43 is 0.9\n",
            "2020-05-25 07:20:50 INFO     F1 score at threshold 0.44 is 0.9473684210526316\n",
            "2020-05-25 07:20:50 INFO     Accuracy at threshold 0.44 is 0.9\n",
            "2020-05-25 07:20:50 INFO     F1 score at threshold 0.45 is 0.9473684210526316\n",
            "2020-05-25 07:20:50 INFO     Accuracy at threshold 0.45 is 0.9\n",
            "2020-05-25 07:20:50 INFO     F1 score at threshold 0.46 is 0.9473684210526316\n",
            "2020-05-25 07:20:50 INFO     Accuracy at threshold 0.46 is 0.9\n",
            "2020-05-25 07:20:50 INFO     F1 score at threshold 0.47 is 0.9473684210526316\n",
            "2020-05-25 07:20:50 INFO     Accuracy at threshold 0.47 is 0.9\n",
            "2020-05-25 07:20:50 INFO     F1 score at threshold 0.48 is 0.9473684210526316\n",
            "2020-05-25 07:20:50 INFO     Accuracy at threshold 0.48 is 0.9\n",
            "2020-05-25 07:20:50 INFO     F1 score at threshold 0.49 is 0.9473684210526316\n",
            "2020-05-25 07:20:50 INFO     Accuracy at threshold 0.49 is 0.9\n",
            "2020-05-25 07:20:50 INFO     F1 score at threshold 0.5 is 0.9473684210526316\n",
            "2020-05-25 07:20:50 INFO     Accuracy at threshold 0.5 is 0.9\n",
            "2020-05-25 07:20:50 INFO     F1 score at threshold 0.51 is 0.9473684210526316\n",
            "2020-05-25 07:20:50 INFO     Accuracy at threshold 0.51 is 0.9\n",
            "2020-05-25 07:20:50 INFO     F1 score at threshold 0.52 is 0.9473684210526316\n",
            "2020-05-25 07:20:50 INFO     Accuracy at threshold 0.52 is 0.9\n",
            "2020-05-25 07:20:50 INFO     F1 score at threshold 0.53 is 0.9473684210526316\n",
            "2020-05-25 07:20:50 INFO     Accuracy at threshold 0.53 is 0.9\n",
            "2020-05-25 07:20:50 INFO     F1 score at threshold 0.54 is 0.9473684210526316\n",
            "2020-05-25 07:20:50 INFO     Accuracy at threshold 0.54 is 0.9\n",
            "2020-05-25 07:20:50 INFO     F1 score at threshold 0.55 is 0.9473684210526316\n",
            "2020-05-25 07:20:50 INFO     Accuracy at threshold 0.55 is 0.9\n",
            "2020-05-25 07:20:50 INFO     F1 score at threshold 0.56 is 0.9473684210526316\n",
            "2020-05-25 07:20:50 INFO     Accuracy at threshold 0.56 is 0.9\n",
            "2020-05-25 07:20:50 INFO     F1 score at threshold 0.57 is 0.948502994011976\n",
            "2020-05-25 07:20:50 INFO     Accuracy at threshold 0.57 is 0.9022727272727272\n",
            "2020-05-25 07:20:50 INFO     F1 score at threshold 0.58 is 0.948502994011976\n",
            "2020-05-25 07:20:50 INFO     Accuracy at threshold 0.58 is 0.9022727272727272\n",
            "2020-05-25 07:20:50 INFO     F1 score at threshold 0.59 is 0.9472422062350121\n",
            "2020-05-25 07:20:50 INFO     Accuracy at threshold 0.59 is 0.9\n",
            "2020-05-25 07:20:51 INFO     F1 score at threshold 0.6 is 0.9459783913565426\n",
            "2020-05-25 07:20:51 INFO     Accuracy at threshold 0.6 is 0.8977272727272727\n",
            "2020-05-25 07:20:51 INFO     F1 score at threshold 0.61 is 0.9459783913565426\n",
            "2020-05-25 07:20:51 INFO     Accuracy at threshold 0.61 is 0.8977272727272727\n",
            "2020-05-25 07:20:51 INFO     F1 score at threshold 0.62 is 0.9459783913565426\n",
            "2020-05-25 07:20:51 INFO     Accuracy at threshold 0.62 is 0.8977272727272727\n",
            "2020-05-25 07:20:51 INFO     F1 score at threshold 0.63 is 0.9458483754512635\n",
            "2020-05-25 07:20:51 INFO     Accuracy at threshold 0.63 is 0.8977272727272727\n",
            "2020-05-25 07:20:51 INFO     F1 score at threshold 0.64 is 0.9457177322074789\n",
            "2020-05-25 07:20:51 INFO     Accuracy at threshold 0.64 is 0.8977272727272727\n",
            "2020-05-25 07:20:51 INFO     F1 score at threshold 0.65 is 0.9457177322074789\n",
            "2020-05-25 07:20:51 INFO     Accuracy at threshold 0.65 is 0.8977272727272727\n",
            "2020-05-25 07:20:51 INFO     F1 score at threshold 0.66 is 0.9431680773881499\n",
            "2020-05-25 07:20:51 INFO     Accuracy at threshold 0.66 is 0.8931818181818182\n",
            "2020-05-25 07:20:51 INFO     F1 score at threshold 0.67 is 0.9430303030303032\n",
            "2020-05-25 07:20:51 INFO     Accuracy at threshold 0.67 is 0.8931818181818182\n",
            "2020-05-25 07:20:51 INFO     F1 score at threshold 0.68 is 0.9403166869671132\n",
            "2020-05-25 07:20:51 INFO     Accuracy at threshold 0.68 is 0.8886363636363637\n",
            "2020-05-25 07:20:51 INFO     F1 score at threshold 0.69 is 0.9403166869671132\n",
            "2020-05-25 07:20:51 INFO     Accuracy at threshold 0.69 is 0.8886363636363637\n",
            "2020-05-25 07:20:51 INFO     F1 score at threshold 0.7 is 0.9403166869671132\n",
            "2020-05-25 07:20:51 INFO     Accuracy at threshold 0.7 is 0.8886363636363637\n",
            "2020-05-25 07:20:51 INFO     F1 score at threshold 0.71 is 0.9414634146341463\n",
            "2020-05-25 07:20:51 INFO     Accuracy at threshold 0.71 is 0.8909090909090909\n",
            "2020-05-25 07:20:51 INFO     F1 score at threshold 0.72 is 0.9401709401709402\n",
            "2020-05-25 07:20:51 INFO     Accuracy at threshold 0.72 is 0.8886363636363637\n",
            "2020-05-25 07:20:51 INFO     F1 score at threshold 0.73 is 0.9349693251533743\n",
            "2020-05-25 07:20:51 INFO     Accuracy at threshold 0.73 is 0.8795454545454545\n",
            "2020-05-25 07:20:51 INFO     F1 score at threshold 0.74 is 0.9336609336609336\n",
            "2020-05-25 07:20:51 INFO     Accuracy at threshold 0.74 is 0.8772727272727273\n",
            "2020-05-25 07:20:51 INFO     F1 score at threshold 0.75 is 0.9297163995067818\n",
            "2020-05-25 07:20:51 INFO     Accuracy at threshold 0.75 is 0.8704545454545455\n",
            "2020-05-25 07:20:51 INFO     F1 score at threshold 0.76 is 0.9244114002478315\n",
            "2020-05-25 07:20:51 INFO     Accuracy at threshold 0.76 is 0.8613636363636363\n",
            "2020-05-25 07:20:51 INFO     F1 score at threshold 0.77 is 0.9230769230769231\n",
            "2020-05-25 07:20:51 INFO     Accuracy at threshold 0.77 is 0.8590909090909091\n",
            "2020-05-25 07:20:51 INFO     F1 score at threshold 0.78 is 0.9228855721393036\n",
            "2020-05-25 07:20:51 INFO     Accuracy at threshold 0.78 is 0.8590909090909091\n",
            "2020-05-25 07:20:51 INFO     F1 score at threshold 0.79 is 0.9147869674185463\n",
            "2020-05-25 07:20:51 INFO     Accuracy at threshold 0.79 is 0.8454545454545455\n",
            "2020-05-25 07:20:51 INFO     F1 score at threshold 0.8 is 0.9088607594936708\n",
            "2020-05-25 07:20:51 INFO     Accuracy at threshold 0.8 is 0.8363636363636363\n"
          ],
          "name": "stdout"
        }
      ]
    },
    {
      "cell_type": "code",
      "metadata": {
        "id": "JaSwqigUZA60",
        "colab_type": "code",
        "outputId": "7e192502-e5de-4644-f7f7-efe6b6c2d8f0",
        "colab": {
          "base_uri": "https://localhost:8080/",
          "height": 295
        }
      },
      "source": [
        "# plot two measures\n",
        "plt.plot(threshes, f1_scores, color='blue', label='f1')\n",
        "plt.plot(threshes, accuracy_scores, color='green', label='acc')\n",
        "plt.title('Threshold vs f1_scores/acc')\n",
        "plt.ylabel('f1_scores/acc')\n",
        "plt.xlabel('Threshold')\n",
        "plt.legend()\n",
        "plt.show()"
      ],
      "execution_count": 48,
      "outputs": [
        {
          "output_type": "display_data",
          "data": {
            "image/png": "[encoded data removed]",
            "text/plain": [
              "<Figure size 432x288 with 1 Axes>"
            ]
          },
          "metadata": {
            "tags": [],
            "needs_background": "light"
          }
        }
      ]
    },
    {
      "cell_type": "code",
      "metadata": {
        "id": "OOh74l0KZA65",
        "colab_type": "code",
        "outputId": "8ac68293-968d-41e8-a519-14c13adff5d2",
        "colab": {
          "base_uri": "https://localhost:8080/",
          "height": 34
        }
      },
      "source": [
        "logging.info('=========done===========')"
      ],
      "execution_count": 49,
      "outputs": [
        {
          "output_type": "stream",
          "text": [
            "2020-05-25 07:21:04 INFO     =========done===========\n"
          ],
          "name": "stdout"
        }
      ]
    },
    {
      "cell_type": "code",
      "metadata": {
        "id": "QIkFJIMFYaDB",
        "colab_type": "code",
        "colab": {}
      },
      "source": [
        ""
      ],
      "execution_count": 0,
      "outputs": []
    },
    {
      "cell_type": "markdown",
      "metadata": {
        "id": "bK7spt4DYanW",
        "colab_type": "text"
      },
      "source": [
        "## Hybrid Model"
      ]
    },
    {
      "cell_type": "code",
      "metadata": {
        "id": "RorzEqLcYn57",
        "colab_type": "code",
        "colab": {
          "base_uri": "https://localhost:8080/",
          "height": 130
        },
        "outputId": "0c7cb49f-174b-452d-c5cd-e8dff16fa0ac"
      },
      "source": [
        "from tensorflow.keras import layers\n",
        "from keras.initializers import Constant\n",
        "from keras.regularizers import regularizers\n",
        "\n",
        "\n",
        "model_CNN = tf.keras.Sequential()\n",
        "model_CNN.add(layers.Embedding(nb_words,\n",
        "                                300,\n",
        "                                weights=[embedding_matrix],\n",
        "                                input_length=max_len,\n",
        "                                trainable=False))\n",
        "model_CNN.add(layers.Conv1D(300, \n",
        "                            kernel_size=5, \n",
        "                            activation='relu',\n",
        "                            name='Conv1'))\n",
        "model_CNN.add(layers.GlobalMaxPool1D())\n",
        "\n",
        "\n",
        "# model_CNN.add(layers.GlobalMaxPool1D())\n",
        "#model_CNN.add(layers.Dense(10, activation=\"relu\"))\n",
        "\n",
        "model_CNN.add(layers.Dense(1,kernel_regularizer=l2(0.01), activation='sigmoid')\n",
        "#model_CNN.add(Activation('linear'))\n",
        "#model_CNN.summary()\n",
        "model_CNN.summary()"
      ],
      "execution_count": 50,
      "outputs": [
        {
          "output_type": "error",
          "ename": "SyntaxError",
          "evalue": "ignored",
          "traceback": [
            "\u001b[0;36m  File \u001b[0;32m\"<ipython-input-50-b9c26fe2db18>\"\u001b[0;36m, line \u001b[0;32m25\u001b[0m\n\u001b[0;31m    model_CNN.summary()\u001b[0m\n\u001b[0m            ^\u001b[0m\n\u001b[0;31mSyntaxError\u001b[0m\u001b[0;31m:\u001b[0m invalid syntax\n"
          ]
        }
      ]
    },
    {
      "cell_type": "code",
      "metadata": {
        "id": "wr6DOoG-X6rD",
        "colab_type": "code",
        "colab": {
          "base_uri": "https://localhost:8080/",
          "height": 232
        },
        "outputId": "73d2ea38-acf6-4b12-b6e5-5d9a05de332f"
      },
      "source": [
        "model_CNN.compile(loss='binary_crossentropy', optimizer='adam', metrics=['accuracy'])\n",
        "\n",
        "from tensorflow.keras.callbacks import EarlyStopping\n",
        "callbacks = EarlyStopping(monitor='val_loss', min_delta=0, patience = 2)\n",
        "history = model_CNN.fit(train_X, \n",
        "                        train_y, \n",
        "                        batch_size=512, \n",
        "                        epochs=14, \n",
        "                        validation_data=(val_X, val_y),\n",
        "                        callbacks=callbacks\n",
        "                        )"
      ],
      "execution_count": 5,
      "outputs": [
        {
          "output_type": "error",
          "ename": "NameError",
          "evalue": "ignored",
          "traceback": [
            "\u001b[0;31m---------------------------------------------------------------------------\u001b[0m",
            "\u001b[0;31mNameError\u001b[0m                                 Traceback (most recent call last)",
            "\u001b[0;32m<ipython-input-5-415af488be08>\u001b[0m in \u001b[0;36m<module>\u001b[0;34m()\u001b[0m\n\u001b[0;32m----> 1\u001b[0;31m \u001b[0mmodel_CNN\u001b[0m\u001b[0;34m.\u001b[0m\u001b[0mcompile\u001b[0m\u001b[0;34m(\u001b[0m\u001b[0mloss\u001b[0m\u001b[0;34m=\u001b[0m\u001b[0;34m'binary_crossentropy'\u001b[0m\u001b[0;34m,\u001b[0m \u001b[0moptimizer\u001b[0m\u001b[0;34m=\u001b[0m\u001b[0;34m'adam'\u001b[0m\u001b[0;34m,\u001b[0m \u001b[0mmetrics\u001b[0m\u001b[0;34m=\u001b[0m\u001b[0;34m[\u001b[0m\u001b[0;34m'accuracy'\u001b[0m\u001b[0;34m]\u001b[0m\u001b[0;34m)\u001b[0m\u001b[0;34m\u001b[0m\u001b[0;34m\u001b[0m\u001b[0m\n\u001b[0m\u001b[1;32m      2\u001b[0m \u001b[0;34m\u001b[0m\u001b[0m\n\u001b[1;32m      3\u001b[0m \u001b[0;32mfrom\u001b[0m \u001b[0mtensorflow\u001b[0m\u001b[0;34m.\u001b[0m\u001b[0mkeras\u001b[0m\u001b[0;34m.\u001b[0m\u001b[0mcallbacks\u001b[0m \u001b[0;32mimport\u001b[0m \u001b[0mEarlyStopping\u001b[0m\u001b[0;34m\u001b[0m\u001b[0;34m\u001b[0m\u001b[0m\n\u001b[1;32m      4\u001b[0m \u001b[0mcallbacks\u001b[0m \u001b[0;34m=\u001b[0m \u001b[0mEarlyStopping\u001b[0m\u001b[0;34m(\u001b[0m\u001b[0mmonitor\u001b[0m\u001b[0;34m=\u001b[0m\u001b[0;34m'val_loss'\u001b[0m\u001b[0;34m,\u001b[0m \u001b[0mmin_delta\u001b[0m\u001b[0;34m=\u001b[0m\u001b[0;36m0\u001b[0m\u001b[0;34m,\u001b[0m \u001b[0mpatience\u001b[0m \u001b[0;34m=\u001b[0m \u001b[0;36m2\u001b[0m\u001b[0;34m)\u001b[0m\u001b[0;34m\u001b[0m\u001b[0;34m\u001b[0m\u001b[0m\n\u001b[1;32m      5\u001b[0m history = model_CNN.fit(train_X, \n",
            "\u001b[0;31mNameError\u001b[0m: name 'model_CNN' is not defined"
          ]
        }
      ]
    },
    {
      "cell_type": "code",
      "metadata": {
        "id": "qzEs5gGpYR-G",
        "colab_type": "code",
        "colab": {
          "base_uri": "https://localhost:8080/",
          "height": 573
        },
        "outputId": "a4ac8856-b651-43e3-d9dd-bee65e514048"
      },
      "source": [
        "\n",
        "# Plot training & validation accuracy values\n",
        "import matplotlib.pyplot as plt \n",
        "plt.plot(history.history['accuracy'])\n",
        "plt.plot(history.history['val_accuracy'])\n",
        "plt.title('Model accuracy')\n",
        "plt.ylabel('Accuracy')\n",
        "plt.xlabel('Epoch')\n",
        "plt.legend(['Train', 'Val'], loc='upper left')\n",
        "plt.show()\n",
        "\n",
        "# Plot training & validation loss values\n",
        "plt.plot(history.history['loss'])\n",
        "plt.plot(history.history['val_loss'])\n",
        "plt.title('Model loss')\n",
        "plt.ylabel('Loss')\n",
        "plt.xlabel('Epoch')\n",
        "plt.legend(['Train', 'Val'], loc='upper left')\n",
        "plt.show()"
      ],
      "execution_count": 65,
      "outputs": [
        {
          "output_type": "display_data",
          "data": {
            "image/png": "[encoded data removed]",
            "text/plain": [
              "<Figure size 432x288 with 1 Axes>"
            ]
          },
          "metadata": {
            "tags": [],
            "needs_background": "light"
          }
        },
        {
          "output_type": "display_data",
          "data": {
            "image/png": "[encoded data removed]",
            "text/plain": [
              "<Figure size 432x288 with 1 Axes>"
            ]
          },
          "metadata": {
            "tags": [],
            "needs_background": "light"
          }
        }
      ]
    },
    {
      "cell_type": "code",
      "metadata": {
        "id": "avN_tCKLa3pa",
        "colab_type": "code",
        "colab": {
          "base_uri": "https://localhost:8080/",
          "height": 493
        },
        "outputId": "c1a227d5-ec78-49d6-9921-d4b68494c2dc"
      },
      "source": [
        "from tensorflow.keras import layers\n",
        "from keras.initializers import Constant\n",
        "from tensorflow.keras import regularizers\n",
        "\n",
        "model_CNNx = tf.keras.Sequential()\n",
        "model_CNNx.add(layers.Embedding(nb_words,\n",
        "                                100,\n",
        "                                input_length=max_len,))\n",
        "model_CNNx.add(layers.Conv1D(100,\n",
        "                             kernel_size=3,\n",
        "                             activation='relu',\n",
        "                             name='Conv1'))\n",
        "model_CNNx.add(layers.GlobalMaxPool1D())\n",
        "model_CNNx.add(layers.Reshape((100,1)))\n",
        "model_CNNx.add(layers.Conv1D(100, kernel_size=5,\n",
        "                             activation='relu',\n",
        "                             name='Conv2'))\n",
        "model_CNNx.add(layers.Conv1D(100, kernel_size=3,\n",
        "                             activation='relu',\n",
        "                             name='Conv3'))\n",
        "model_CNNx.add(layers.GlobalMaxPool1D())\n",
        "model_CNNx.add(layers.Dense(10,kernel_regularizer=regularizers.l2(0.01), activation='sigmoid'))\n",
        "model_CNNx.add(layers.Dropout(0.2))\n",
        "model_CNNx.add(layers.Dense(1, activation=\"sigmoid\"))\n",
        "model_CNNx.summary()\n",
        "\n",
        "\n",
        "\n",
        "\n",
        "                                \n",
        "\n",
        "                               "
      ],
      "execution_count": 52,
      "outputs": [
        {
          "output_type": "stream",
          "text": [
            "Model: \"sequential_3\"\n",
            "_________________________________________________________________\n",
            "Layer (type)                 Output Shape              Param #   \n",
            "=================================================================\n",
            "embedding_3 (Embedding)      (None, 70, 100)           1004300   \n",
            "_________________________________________________________________\n",
            "Conv1 (Conv1D)               (None, 68, 100)           30100     \n",
            "_________________________________________________________________\n",
            "global_max_pooling1d_2 (Glob (None, 100)               0         \n",
            "_________________________________________________________________\n",
            "reshape_1 (Reshape)          (None, 100, 1)            0         \n",
            "_________________________________________________________________\n",
            "Conv2 (Conv1D)               (None, 96, 100)           600       \n",
            "_________________________________________________________________\n",
            "Conv3 (Conv1D)               (None, 94, 100)           30100     \n",
            "_________________________________________________________________\n",
            "global_max_pooling1d_3 (Glob (None, 100)               0         \n",
            "_________________________________________________________________\n",
            "dense_6 (Dense)              (None, 10)                1010      \n",
            "_________________________________________________________________\n",
            "dropout_3 (Dropout)          (None, 10)                0         \n",
            "_________________________________________________________________\n",
            "dense_7 (Dense)              (None, 1)                 11        \n",
            "=================================================================\n",
            "Total params: 1,066,121\n",
            "Trainable params: 1,066,121\n",
            "Non-trainable params: 0\n",
            "_________________________________________________________________\n"
          ],
          "name": "stdout"
        }
      ]
    },
    {
      "cell_type": "code",
      "metadata": {
        "id": "VNUBZF0qa30A",
        "colab_type": "code",
        "colab": {
          "base_uri": "https://localhost:8080/",
          "height": 513
        },
        "outputId": "c4cf6f93-01b2-414b-d8da-d1375f54cc92"
      },
      "source": [
        "model_CNNx.compile(loss=tf.keras.losses.SquaredHinge(), optimizer='adam', metrics=['accuracy'])\n",
        "#loss=tf.keras.losses.Hinge())\n",
        "from tensorflow.keras.callbacks import EarlyStopping\n",
        "callbacks = EarlyStopping(monitor='val_loss', min_delta=0, patience = 2)\n",
        "history = model_CNNx.fit(train_X, \n",
        "                        train_y, \n",
        "                        batch_size=512, \n",
        "                        epochs=14, \n",
        "                        validation_data=(val_X, val_y),\n",
        "                        callbacks=callbacks\n",
        "                        )"
      ],
      "execution_count": 53,
      "outputs": [
        {
          "output_type": "stream",
          "text": [
            "Epoch 1/14\n",
            "7/7 [==============================] - 3s 420ms/step - loss: 0.7139 - accuracy: 0.3105 - val_loss: 0.6503 - val_accuracy: 0.1000\n",
            "Epoch 2/14\n",
            "7/7 [==============================] - 3s 406ms/step - loss: 0.6836 - accuracy: 0.3949 - val_loss: 0.6103 - val_accuracy: 0.1000\n",
            "Epoch 3/14\n",
            "7/7 [==============================] - 3s 405ms/step - loss: 0.6459 - accuracy: 0.5662 - val_loss: 0.5579 - val_accuracy: 0.9000\n",
            "Epoch 4/14\n",
            "7/7 [==============================] - 3s 403ms/step - loss: 0.5958 - accuracy: 0.7432 - val_loss: 0.5032 - val_accuracy: 0.9000\n",
            "Epoch 5/14\n",
            "7/7 [==============================] - 3s 406ms/step - loss: 0.5589 - accuracy: 0.8506 - val_loss: 0.4769 - val_accuracy: 0.9000\n",
            "Epoch 6/14\n",
            "7/7 [==============================] - 3s 404ms/step - loss: 0.5464 - accuracy: 0.8682 - val_loss: 0.4653 - val_accuracy: 0.9000\n",
            "Epoch 7/14\n",
            "7/7 [==============================] - 3s 398ms/step - loss: 0.5276 - accuracy: 0.8719 - val_loss: 0.4542 - val_accuracy: 0.9000\n",
            "Epoch 8/14\n",
            "7/7 [==============================] - 3s 405ms/step - loss: 0.5113 - accuracy: 0.8702 - val_loss: 0.4468 - val_accuracy: 0.9000\n",
            "Epoch 9/14\n",
            "7/7 [==============================] - 3s 405ms/step - loss: 0.4927 - accuracy: 0.8707 - val_loss: 0.4396 - val_accuracy: 0.9000\n",
            "Epoch 10/14\n",
            "7/7 [==============================] - 3s 403ms/step - loss: 0.4805 - accuracy: 0.8753 - val_loss: 0.4307 - val_accuracy: 0.9000\n",
            "Epoch 11/14\n",
            "7/7 [==============================] - 3s 413ms/step - loss: 0.4591 - accuracy: 0.8770 - val_loss: 0.4229 - val_accuracy: 0.9000\n",
            "Epoch 12/14\n",
            "7/7 [==============================] - 3s 407ms/step - loss: 0.4391 - accuracy: 0.8847 - val_loss: 0.4178 - val_accuracy: 0.8909\n",
            "Epoch 13/14\n",
            "7/7 [==============================] - 3s 404ms/step - loss: 0.4199 - accuracy: 0.8955 - val_loss: 0.4136 - val_accuracy: 0.8795\n",
            "Epoch 14/14\n",
            "7/7 [==============================] - 3s 403ms/step - loss: 0.3909 - accuracy: 0.9182 - val_loss: 0.4125 - val_accuracy: 0.8727\n"
          ],
          "name": "stdout"
        }
      ]
    },
    {
      "cell_type": "code",
      "metadata": {
        "id": "Ui-9x-nSa36s",
        "colab_type": "code",
        "colab": {
          "base_uri": "https://localhost:8080/",
          "height": 573
        },
        "outputId": "d22bee7e-7842-48e6-cfbc-feeb03ef979b"
      },
      "source": [
        "# Plot training & validation accuracy values\n",
        "import matplotlib.pyplot as plt \n",
        "plt.plot(history.history['accuracy'])\n",
        "plt.plot(history.history['val_accuracy'])\n",
        "plt.title('CNN+ SVM Hybrid Model accuracy')\n",
        "plt.ylabel('Accuracy')\n",
        "plt.xlabel('Epoch')\n",
        "plt.legend(['Train', 'Val'], loc='upper left')\n",
        "plt.show()\n",
        "\n",
        "# Plot training & validation loss values\n",
        "plt.plot(history.history['loss'])\n",
        "plt.plot(history.history['val_loss'])\n",
        "plt.title('CNN+ SVM Hybrid Model loss')\n",
        "plt.ylabel('Loss')\n",
        "plt.xlabel('Epoch')\n",
        "plt.legend(['Train', 'Val'], loc='upper left')\n",
        "plt.show()"
      ],
      "execution_count": 54,
      "outputs": [
        {
          "output_type": "display_data",
          "data": {
            "image/png": "[encoded data removed]",
            "text/plain": [
              "<Figure size 432x288 with 1 Axes>"
            ]
          },
          "metadata": {
            "tags": [],
            "needs_background": "light"
          }
        },
        {
          "output_type": "display_data",
          "data": {
            "image/png": "[encoded data removed]",
            "text/plain": [
              "<Figure size 432x288 with 1 Axes>"
            ]
          },
          "metadata": {
            "tags": [],
            "needs_background": "light"
          }
        }
      ]
    },
    {
      "cell_type": "code",
      "metadata": {
        "id": "AaQ_ik4LNQGg",
        "colab_type": "code",
        "colab": {
          "base_uri": "https://localhost:8080/",
          "height": 34
        },
        "outputId": "5feb9fed-e2fd-4b0f-d26a-deff1540c15f"
      },
      "source": [
        "pred_emb_val_yx = model_CNNx.predict([val_X], batch_size=512, verbose=1)\n",
        "#print(pred_noemb_val_y)"
      ],
      "execution_count": 55,
      "outputs": [
        {
          "output_type": "stream",
          "text": [
            "1/1 [==============================] - 0s 1ms/step\n"
          ],
          "name": "stdout"
        }
      ]
    },
    {
      "cell_type": "code",
      "metadata": {
        "id": "rkm_NOipa3_7",
        "colab_type": "code",
        "colab": {
          "base_uri": "https://localhost:8080/",
          "height": 71
        },
        "outputId": "aab91483-6b19-47fe-fd53-649659a25a19"
      },
      "source": [
        "def cnn_svm_confusion_matrix(pred_emb_val_yx, val_y):\n",
        "    pred_val_y = pred_emb_val_yx > 0.5\n",
        "    tn, fp, fn, tp = confusion_matrix(pred_val_y, val_y).ravel()\n",
        "    print('tn', tn, 'fp', fp, 'fn', fn, 'tp', tp)\n",
        "\n",
        "    cnn_acc = accuracy_score(pred_val_y, val_y)\n",
        "    cnn_precision = precision_score(pred_val_y, val_y)\n",
        "    cnn_recall = recall_score(pred_val_y, val_y)\n",
        "    cnn_f1_score = f1_score(pred_val_y, val_y)\n",
        "    return cnn_acc, cnn_precision, cnn_recall, cnn_f1_score, pred_val_y, tn, fp, fn, tp\n",
        "\n",
        "cnn_acc, cnn_precision, cnn_recall, cnn_f1_score, cnn_val_y_cnn_emb, tn_c_e, fp_c_e, fn_c_e, tp_c_e = cnn_svm_confusion_matrix(pred_emb_val_yx, val_y)\n",
        "print('cnn_svm_acc: ',cnn_acc, ', cnn_svm_precision: ', cnn_precision, ', cnn_svm_recall: ', cnn_recall, ', cnn_svm_f1_score', cnn_f1_score)"
      ],
      "execution_count": 57,
      "outputs": [
        {
          "output_type": "stream",
          "text": [
            "tn 8 fp 20 fn 36 tp 376\n",
            "cnn_svm_acc:  0.8727272727272727 , cnn_svm_precision:  0.9494949494949495 , cnn_svm_recall:  0.912621359223301 , cnn_svm_f1_score 0.9306930693069307\n"
          ],
          "name": "stdout"
        }
      ]
    },
    {
      "cell_type": "code",
      "metadata": {
        "id": "vR4KdBmia4Kq",
        "colab_type": "code",
        "colab": {}
      },
      "source": [
        ""
      ],
      "execution_count": 0,
      "outputs": []
    },
    {
      "cell_type": "code",
      "metadata": {
        "id": "41szzz3_a34x",
        "colab_type": "code",
        "colab": {}
      },
      "source": [
        ""
      ],
      "execution_count": 0,
      "outputs": []
    }
  ]
}