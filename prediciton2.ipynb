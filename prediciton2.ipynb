{
  "nbformat": 4,
  "nbformat_minor": 0,
  "metadata": {
    "kernelspec": {
      "display_name": "Python 3",
      "language": "python",
      "name": "python3"
    },
    "language_info": {
      "codemirror_mode": {
        "name": "ipython",
        "version": 3
      },
      "file_extension": ".py",
      "mimetype": "text/x-python",
      "name": "python",
      "nbconvert_exporter": "python",
      "pygments_lexer": "ipython3",
      "version": "3.6.6"
    },
    "colab": {
      "name": "prediciton1.ipynb",
      "provenance": [],
      "collapsed_sections": [],
      "toc_visible": true,
      "include_colab_link": true
    },
    "accelerator": "TPU"
  },
  "cells": [
    {
      "cell_type": "markdown",
      "metadata": {
        "id": "view-in-github",
        "colab_type": "text"
      },
      "source": [
        "<a href=\"https://colab.research.google.com/github/kruttikajain/Targetted-Abusive_Language_Online/blob/master/prediciton2.ipynb\" target=\"_parent\"><img src=\"https://colab.research.google.com/assets/colab-badge.svg\" alt=\"Open In Colab\"/></a>"
      ]
    },
    {
      "cell_type": "markdown",
      "metadata": {
        "_uuid": "01f361ddc47e0b386595316fe3d7f4dabbd260db",
        "id": "XE0VGEF8ZA6M",
        "colab_type": "text"
      },
      "source": [
        "# Abusive Language Online \n",
        "\n",
        "Predition1: predict OFF/NOT\n",
        "\n",
        "* Upload it each time: Dataset: [data](http://demo.clab.cs.cmu.edu/ethical_nlp2019/homeworks/hw3/hw3.html)\n",
        "\n",
        "\n",
        "1.   train.tsv\n",
        "2.   dev.tsv\n",
        "3.   test.tsv\n",
        "\n",
        "* Need manually add log.txt\n",
        "* Mount drive to load GloVe embeddings\n",
        "\n",
        "\n"
      ]
    },
    {
      "cell_type": "markdown",
      "metadata": {
        "id": "PqazyGPwaTEe",
        "colab_type": "text"
      },
      "source": [
        "# Import useful lib"
      ]
    },
    {
      "cell_type": "code",
      "metadata": {
        "_cell_guid": "b1076dfc-b9ad-4769-8c92-a6c4dae69d19",
        "_uuid": "8f2839f25d086af736a60e9eeb907d3b93b6e0e5",
        "id": "ONg01KM4ZA6N",
        "colab_type": "code",
        "colab": {}
      },
      "source": [
        "import os\n",
        "import sys\n",
        "from logging import handlers\n",
        "from pathlib import Path\n",
        "import logging\n",
        "import time\n",
        "import numpy as np # linear algebra\n",
        "import pandas as pd # data processing, CSV file I/O (e.g. pd.read_csv)\n",
        "from tqdm import tqdm\n",
        "import math\n",
        "import random \n",
        "\n",
        "from sklearn.model_selection import train_test_split\n",
        "from sklearn import metrics\n",
        "from sklearn.model_selection import KFold\n",
        "from sklearn.model_selection import StratifiedShuffleSplit\n",
        "\n",
        "from keras.preprocessing.text import Tokenizer\n",
        "from keras.preprocessing.sequence import pad_sequences\n",
        "from keras.layers import Dense, Input, LSTM, Embedding, Dropout, Activation, CuDNNGRU, CuDNNLSTM, Conv1D\n",
        "from keras.layers import Bidirectional, GlobalMaxPool1D\n",
        "from keras.models import Model\n",
        "from keras import initializers, regularizers, constraints, optimizers, layers\n",
        "\n",
        "from os import path\n",
        "from PIL import Image\n",
        "from wordcloud import WordCloud, STOPWORDS, ImageColorGenerator\n",
        "%matplotlib inline \n",
        "import matplotlib.pyplot as plt"
      ],
      "execution_count": 0,
      "outputs": []
    },
    {
      "cell_type": "markdown",
      "metadata": {
        "id": "11l-8APTaOVP",
        "colab_type": "text"
      },
      "source": [
        "# Data proprecessing"
      ]
    },
    {
      "cell_type": "markdown",
      "metadata": {
        "id": "zaD_vgEytb9u",
        "colab_type": "text"
      },
      "source": [
        "## mounting drive"
      ]
    },
    {
      "cell_type": "code",
      "metadata": {
        "id": "flhVY6tUu-wN",
        "colab_type": "code",
        "outputId": "90eb4567-c120-41f4-d949-1dd1ffa44a03",
        "colab": {
          "base_uri": "https://localhost:8080/",
          "height": 54
        }
      },
      "source": [
        "from google.colab import drive\n",
        "drive.mount('/content/gdrive')"
      ],
      "execution_count": 56,
      "outputs": [
        {
          "output_type": "stream",
          "text": [
            "Drive already mounted at /content/gdrive; to attempt to forcibly remount, call drive.mount(\"/content/gdrive\", force_remount=True).\n"
          ],
          "name": "stdout"
        }
      ]
    },
    {
      "cell_type": "code",
      "metadata": {
        "id": "-lHhx4ivtQTp",
        "colab_type": "code",
        "outputId": "5f540109-1eb6-43f4-bd91-9e9b0e9bb3d3",
        "colab": {
          "base_uri": "https://localhost:8080/",
          "height": 34
        }
      },
      "source": [
        "!pwd"
      ],
      "execution_count": 57,
      "outputs": [
        {
          "output_type": "stream",
          "text": [
            "/content\n"
          ],
          "name": "stdout"
        }
      ]
    },
    {
      "cell_type": "code",
      "metadata": {
        "id": "PhfBBtlIHN6p",
        "colab_type": "code",
        "outputId": "72a24f03-9511-44e1-afe6-01892bc5aff5",
        "colab": {
          "base_uri": "https://localhost:8080/",
          "height": 68
        }
      },
      "source": [
        "# Clone github repository setup\n",
        "# import join used to join ROOT path and MY_GOOGLE_DRIVE_PATH\n",
        "from os.path import join  \n",
        "\n",
        "# path to your project on Google Drive\n",
        "MY_GOOGLE_DRIVE_PATH = '' \n",
        "# replace with your Github username \n",
        "GIT_USERNAME = \"kruttikajain\" \n",
        "# definitely replace with your\n",
        "GIT_TOKEN = \"5fae1c9f18e3a0c680bf35e9ef63c72308ef2b4c\"  \n",
        "# Replace with your github repository in this case we want \n",
        "# to clone deep-learning-v2-pytorch repository\n",
        "GIT_REPOSITORY = \"Targetted-Abusive_Language_Online\" \n",
        "\n",
        "# PROJECT_PATH = join(ROOT, MY_GOOGLE_DRIVE_PATH)\n",
        "\n",
        "'''\n",
        "only this line should be modify\n",
        "'''\n",
        "PROJECT_PATH = './gdrive/My Drive/Colab Notebooks/246Project'\n",
        "\n",
        "# It's good to print out the value if you are not sure \n",
        "print(\"PROJECT_PATH: \", PROJECT_PATH)   \n",
        "\n",
        "# In case we haven't created the folder already; we will create a folder in the project path \n",
        "!mkdir \"{PROJECT_PATH}\"    \n",
        "\n",
        "#GIT_PATH = \"https://{GIT_TOKEN}@github.com/{GIT_USERNAME}/{GIT_REPOSITORY}.git\" this return 400 Bad Request for me\n",
        "GIT_PATH = \"https://\" + GIT_TOKEN + \"@github.com/\" + GIT_USERNAME + \"/\" + GIT_REPOSITORY + \".git\"\n",
        "print(\"GIT_PATH: \", GIT_PATH)"
      ],
      "execution_count": 80,
      "outputs": [
        {
          "output_type": "stream",
          "text": [
            "PROJECT_PATH:  ./gdrive/My Drive/Colab Notebooks/246Project\n",
            "mkdir: cannot create directory ‘./gdrive/My Drive/Colab Notebooks/246Project’: File exists\n",
            "GIT_PATH:  https://5fae1c9f18e3a0c680bf35e9ef63c72308ef2b4c@github.com/kruttikajain/Targetted-Abusive_Language_Online.git\n"
          ],
          "name": "stdout"
        }
      ]
    },
    {
      "cell_type": "markdown",
      "metadata": {
        "id": "ZhWzw5Rtajm7",
        "colab_type": "text"
      },
      "source": [
        "## Prepare logging file"
      ]
    },
    {
      "cell_type": "code",
      "metadata": {
        "id": "Vggd1S4jZA6R",
        "colab_type": "code",
        "outputId": "7f9d3786-6480-45e4-c5bb-1162802ff3bc",
        "colab": {
          "base_uri": "https://localhost:8080/",
          "height": 187
        }
      },
      "source": [
        "def init_logger(log_file):\n",
        "    if not os.path.exists(log_file):\n",
        "        os.makedirs(os.path.dirname(log_file))\n",
        "\n",
        "    log = logging.getLogger('')\n",
        "    log.setLevel(logging.INFO)\n",
        "    output_format = logging.Formatter(fmt='%(asctime)s %(levelname)-8s %(message)s', datefmt='%Y-%m-%d %H:%M:%S')\n",
        "    std_out_handler = logging.StreamHandler(sys.stdout)\n",
        "    std_out_handler.setFormatter(output_format)\n",
        "    logging.getLogger().addHandler(std_out_handler)\n",
        "    file_handler = logging.handlers.RotatingFileHandler(log_file, maxBytes=(1048576*5), backupCount=7)\n",
        "    file_handler.setFormatter(output_format)\n",
        "    logging.getLogger().addHandler(file_handler)\n",
        "\n",
        "init_logger(PROJECT_PATH + '/log.txt')\n",
        "logging.info('=============start2=================')\n",
        "logging.info('logging file prepared...')"
      ],
      "execution_count": 81,
      "outputs": [
        {
          "output_type": "stream",
          "text": [
            "2020-05-17 18:22:34 INFO     =============start2=================\n",
            "2020-05-17 18:22:34 INFO     =============start2=================\n",
            "2020-05-17 18:22:34 INFO     =============start2=================\n",
            "2020-05-17 18:22:34 INFO     =============start2=================\n",
            "2020-05-17 18:22:34 INFO     =============start2=================\n",
            "2020-05-17 18:22:34 INFO     logging file prepared...\n",
            "2020-05-17 18:22:34 INFO     logging file prepared...\n",
            "2020-05-17 18:22:34 INFO     logging file prepared...\n",
            "2020-05-17 18:22:34 INFO     logging file prepared...\n",
            "2020-05-17 18:22:34 INFO     logging file prepared...\n"
          ],
          "name": "stdout"
        }
      ]
    },
    {
      "cell_type": "markdown",
      "metadata": {
        "id": "7FwYT4vTyCzs",
        "colab_type": "text"
      },
      "source": [
        "## load data"
      ]
    },
    {
      "cell_type": "code",
      "metadata": {
        "id": "AOtNdORiaKqJ",
        "colab_type": "code",
        "outputId": "205e5239-6bbc-4304-8a5f-94f1c5651192",
        "colab": {
          "base_uri": "https://localhost:8080/",
          "height": 952
        }
      },
      "source": [
        "def load_data():\n",
        "    logging.info('loading the dataset...')\n",
        "    train_df = pd.read_csv(PROJECT_PATH + '/project_data/train.tsv', sep=\"\\t\")\n",
        "    val_df = pd.read_csv(PROJECT_PATH + '/project_data/dev.tsv', sep=\"\\t\")\n",
        "    test_df = pd.read_csv(PROJECT_PATH + '/project_data/test.tsv', sep=\"\\t\")\n",
        "    \n",
        "    # shape of df, column names\n",
        "    logging.info('Train shape : ' + str(train_df.shape)) # 'text', 'label', 'category'\n",
        "    logging.info('Val shape: ' + str(val_df.shape))\n",
        "    logging.info('Test shape: ' + str(test_df.shape))\n",
        "    \n",
        "    logging.info('train_df.columns: ' + train_df.columns)\n",
        "    logging.info('val_df.columns: ' + val_df.columns)\n",
        "    logging.info('test_df.columns: ' + test_df.columns)\n",
        "\n",
        "    return train_df, val_df, test_df\n",
        "\n",
        "train_df, val_df, test_df = load_data()"
      ],
      "execution_count": 82,
      "outputs": [
        {
          "output_type": "stream",
          "text": [
            "2020-05-17 18:22:37 INFO     loading the dataset...\n",
            "2020-05-17 18:22:37 INFO     loading the dataset...\n",
            "2020-05-17 18:22:37 INFO     loading the dataset...\n",
            "2020-05-17 18:22:37 INFO     loading the dataset...\n",
            "2020-05-17 18:22:37 INFO     loading the dataset...\n",
            "2020-05-17 18:22:37 INFO     Train shape : (10592, 3)\n",
            "2020-05-17 18:22:37 INFO     Train shape : (10592, 3)\n",
            "2020-05-17 18:22:37 INFO     Train shape : (10592, 3)\n",
            "2020-05-17 18:22:37 INFO     Train shape : (10592, 3)\n",
            "2020-05-17 18:22:37 INFO     Train shape : (10592, 3)\n",
            "2020-05-17 18:22:37 INFO     Val shape: (1324, 3)\n",
            "2020-05-17 18:22:37 INFO     Val shape: (1324, 3)\n",
            "2020-05-17 18:22:37 INFO     Val shape: (1324, 3)\n",
            "2020-05-17 18:22:37 INFO     Val shape: (1324, 3)\n",
            "2020-05-17 18:22:37 INFO     Val shape: (1324, 3)\n",
            "2020-05-17 18:22:37 INFO     Test shape: (1324, 1)\n",
            "2020-05-17 18:22:37 INFO     Test shape: (1324, 1)\n",
            "2020-05-17 18:22:37 INFO     Test shape: (1324, 1)\n",
            "2020-05-17 18:22:37 INFO     Test shape: (1324, 1)\n",
            "2020-05-17 18:22:37 INFO     Test shape: (1324, 1)\n",
            "2020-05-17 18:22:37 INFO     Index(['train_df.columns: text', 'train_df.columns: label',\n",
            "       'train_df.columns: category'],\n",
            "      dtype='object')\n",
            "2020-05-17 18:22:37 INFO     Index(['train_df.columns: text', 'train_df.columns: label',\n",
            "       'train_df.columns: category'],\n",
            "      dtype='object')\n",
            "2020-05-17 18:22:37 INFO     Index(['train_df.columns: text', 'train_df.columns: label',\n",
            "       'train_df.columns: category'],\n",
            "      dtype='object')\n",
            "2020-05-17 18:22:37 INFO     Index(['train_df.columns: text', 'train_df.columns: label',\n",
            "       'train_df.columns: category'],\n",
            "      dtype='object')\n",
            "2020-05-17 18:22:37 INFO     Index(['train_df.columns: text', 'train_df.columns: label',\n",
            "       'train_df.columns: category'],\n",
            "      dtype='object')\n",
            "2020-05-17 18:22:37 INFO     Index(['val_df.columns: text', 'val_df.columns: label',\n",
            "       'val_df.columns: category'],\n",
            "      dtype='object')\n",
            "2020-05-17 18:22:37 INFO     Index(['val_df.columns: text', 'val_df.columns: label',\n",
            "       'val_df.columns: category'],\n",
            "      dtype='object')\n",
            "2020-05-17 18:22:37 INFO     Index(['val_df.columns: text', 'val_df.columns: label',\n",
            "       'val_df.columns: category'],\n",
            "      dtype='object')\n",
            "2020-05-17 18:22:37 INFO     Index(['val_df.columns: text', 'val_df.columns: label',\n",
            "       'val_df.columns: category'],\n",
            "      dtype='object')\n",
            "2020-05-17 18:22:37 INFO     Index(['val_df.columns: text', 'val_df.columns: label',\n",
            "       'val_df.columns: category'],\n",
            "      dtype='object')\n",
            "2020-05-17 18:22:37 INFO     Index(['test_df.columns: text'], dtype='object')\n",
            "2020-05-17 18:22:37 INFO     Index(['test_df.columns: text'], dtype='object')\n",
            "2020-05-17 18:22:37 INFO     Index(['test_df.columns: text'], dtype='object')\n",
            "2020-05-17 18:22:37 INFO     Index(['test_df.columns: text'], dtype='object')\n",
            "2020-05-17 18:22:37 INFO     Index(['test_df.columns: text'], dtype='object')\n"
          ],
          "name": "stdout"
        }
      ]
    },
    {
      "cell_type": "code",
      "metadata": {
        "id": "MO55Z3UaXUsR",
        "colab_type": "code",
        "outputId": "37709d11-6cdb-47eb-b1a0-9167b7582b69",
        "colab": {
          "base_uri": "https://localhost:8080/",
          "height": 1000
        }
      },
      "source": [
        "train_df.head(40)"
      ],
      "execution_count": 83,
      "outputs": [
        {
          "output_type": "execute_result",
          "data": {
            "text/html": [
              "<div>\n",
              "<style scoped>\n",
              "    .dataframe tbody tr th:only-of-type {\n",
              "        vertical-align: middle;\n",
              "    }\n",
              "\n",
              "    .dataframe tbody tr th {\n",
              "        vertical-align: top;\n",
              "    }\n",
              "\n",
              "    .dataframe thead th {\n",
              "        text-align: right;\n",
              "    }\n",
              "</style>\n",
              "<table border=\"1\" class=\"dataframe\">\n",
              "  <thead>\n",
              "    <tr style=\"text-align: right;\">\n",
              "      <th></th>\n",
              "      <th>text</th>\n",
              "      <th>label</th>\n",
              "      <th>category</th>\n",
              "    </tr>\n",
              "  </thead>\n",
              "  <tbody>\n",
              "    <tr>\n",
              "      <th>0</th>\n",
              "      <td>@USER @USER You are an embarrassing citizen!!</td>\n",
              "      <td>OFF</td>\n",
              "      <td>TIN</td>\n",
              "    </tr>\n",
              "    <tr>\n",
              "      <th>1</th>\n",
              "      <td>@USER Seems hard to believe that you stood next to a guy wearing those shorts and didn't masturbate but I'll take your word for it</td>\n",
              "      <td>OFF</td>\n",
              "      <td>TIN</td>\n",
              "    </tr>\n",
              "    <tr>\n",
              "      <th>2</th>\n",
              "      <td>@USER @USER @USER Wow !!! no wonder the Liberals only got worse as a party of bullies to women...??? no accountability.</td>\n",
              "      <td>OFF</td>\n",
              "      <td>TIN</td>\n",
              "    </tr>\n",
              "    <tr>\n",
              "      <th>3</th>\n",
              "      <td>@USER @USER And not all idiots grandstands like he did</td>\n",
              "      <td>OFF</td>\n",
              "      <td>TIN</td>\n",
              "    </tr>\n",
              "    <tr>\n",
              "      <th>4</th>\n",
              "      <td>@USER Bring on the hypocrite gungrabber. MAGA</td>\n",
              "      <td>OFF</td>\n",
              "      <td>TIN</td>\n",
              "    </tr>\n",
              "    <tr>\n",
              "      <th>5</th>\n",
              "      <td>@USER bitch call me.</td>\n",
              "      <td>OFF</td>\n",
              "      <td>TIN</td>\n",
              "    </tr>\n",
              "    <tr>\n",
              "      <th>6</th>\n",
              "      <td>@USER The only thing i didn’t agree with was the match point he was following the rules i think this was more about her sex honestly all she did was call him a thief and he penalized her shit was wack</td>\n",
              "      <td>OFF</td>\n",
              "      <td>TIN</td>\n",
              "    </tr>\n",
              "    <tr>\n",
              "      <th>7</th>\n",
              "      <td>@USER I second this they’re fucking nuts</td>\n",
              "      <td>OFF</td>\n",
              "      <td>TIN</td>\n",
              "    </tr>\n",
              "    <tr>\n",
              "      <th>8</th>\n",
              "      <td>@USER Eric Holder a major embarrassment  to law enforcement. @USER you did nothing about those innocent black males killed in those streets. One sorry black brother.</td>\n",
              "      <td>OFF</td>\n",
              "      <td>TIN</td>\n",
              "    </tr>\n",
              "    <tr>\n",
              "      <th>9</th>\n",
              "      <td>@USER @USER because the average American has $500 lying around to buy a new Glock. more likely Mr. Antifa will be using his unemployment check to purchase some dental work or a casket.</td>\n",
              "      <td>OFF</td>\n",
              "      <td>TIN</td>\n",
              "    </tr>\n",
              "    <tr>\n",
              "      <th>10</th>\n",
              "      <td>@USER @USER Liberals don’t realize that thousands of unaccompanied minors were thrown across the border..... who is supposed to take care of them? Angelina Jolie?</td>\n",
              "      <td>OFF</td>\n",
              "      <td>TIN</td>\n",
              "    </tr>\n",
              "    <tr>\n",
              "      <th>11</th>\n",
              "      <td>@USER You are turd 💞</td>\n",
              "      <td>OFF</td>\n",
              "      <td>TIN</td>\n",
              "    </tr>\n",
              "    <tr>\n",
              "      <th>12</th>\n",
              "      <td>@USER @USER @USER @USER Fascists &amp;amp;Nazis don't abide by patriotic views shared in their presence. Glad the brownshirt arm (AntiFa) of the left wasn't there to inflict the usual violence vs citizens who dare to speak. Do you hear that, Dems who enjoy wings/beer/country music? You're less-than.\" #WalkAway\"</td>\n",
              "      <td>OFF</td>\n",
              "      <td>TIN</td>\n",
              "    </tr>\n",
              "    <tr>\n",
              "      <th>13</th>\n",
              "      <td>@USER BITCH I FUCKING FELT THAT SHIT🤧💀</td>\n",
              "      <td>OFF</td>\n",
              "      <td>TIN</td>\n",
              "    </tr>\n",
              "    <tr>\n",
              "      <th>14</th>\n",
              "      <td>@USER I told you to stop eating my booty that day but nooooo</td>\n",
              "      <td>OFF</td>\n",
              "      <td>TIN</td>\n",
              "    </tr>\n",
              "    <tr>\n",
              "      <th>15</th>\n",
              "      <td>@USER He should be given 5000 volts!</td>\n",
              "      <td>OFF</td>\n",
              "      <td>TIN</td>\n",
              "    </tr>\n",
              "    <tr>\n",
              "      <th>16</th>\n",
              "      <td>@USER @USER @USER @USER @USER @USER @USER @USER @USER @USER @USER @USER @USER @USER @USER @USER @USER @USER @USER @USER @USER @USER @USER @USER @USER @USER @USER @USER @USER @USER @USER @USER @USER @USER @USER @USER @USER @USER @USER @USER @USER It really pisses them off 🤗</td>\n",
              "      <td>NOT</td>\n",
              "      <td>NaN</td>\n",
              "    </tr>\n",
              "    <tr>\n",
              "      <th>17</th>\n",
              "      <td>@USER BREAKING: 9th Circuit Order @USER To Delete Above Tweet As It Makes Trump Look Like He Knows What He Is Doing</td>\n",
              "      <td>NOT</td>\n",
              "      <td>NaN</td>\n",
              "    </tr>\n",
              "    <tr>\n",
              "      <th>18</th>\n",
              "      <td>@USER @USER @USER @USER @USER I know you are not being facetious.  You are incapable of understanding contradictions.</td>\n",
              "      <td>OFF</td>\n",
              "      <td>TIN</td>\n",
              "    </tr>\n",
              "    <tr>\n",
              "      <th>19</th>\n",
              "      <td>@USER Peach is naturally human. Toadette just created a drug to become human.  That and Nintendo wanted Peach playable and needed an excuse since in NSMBU she is kidnapped.</td>\n",
              "      <td>NOT</td>\n",
              "      <td>NaN</td>\n",
              "    </tr>\n",
              "    <tr>\n",
              "      <th>20</th>\n",
              "      <td>80% of women use silence to express pain You know she is truly hurt when she chooses to ignore you</td>\n",
              "      <td>NOT</td>\n",
              "      <td>NaN</td>\n",
              "    </tr>\n",
              "    <tr>\n",
              "      <th>21</th>\n",
              "      <td>@USER Why cant ISIS blow up these two assholes??</td>\n",
              "      <td>OFF</td>\n",
              "      <td>TIN</td>\n",
              "    </tr>\n",
              "    <tr>\n",
              "      <th>22</th>\n",
              "      <td>@USER @USER @USER @USER What exactly do you mean by “common sense gun control” you first need to understand firearms how they function what their role is in our constitutional republic and that banning them from law abiding citizens does nothing to protect law abiding citizens.</td>\n",
              "      <td>NOT</td>\n",
              "      <td>NaN</td>\n",
              "    </tr>\n",
              "    <tr>\n",
              "      <th>23</th>\n",
              "      <td>@USER @USER Free milk is a health issue not an education one. It’s nothing to do with the education budget.</td>\n",
              "      <td>NOT</td>\n",
              "      <td>NaN</td>\n",
              "    </tr>\n",
              "    <tr>\n",
              "      <th>24</th>\n",
              "      <td>@USER @USER @USER @USER @USER @USER @USER @USER @USER @USER @USER @USER @USER @USER @USER @USER @USER @USER @USER @USER @USER @USER @USER @USER @USER @USER @USER @USER @USER @USER @USER @USER @USER @USER @USER @USER @USER @USER @USER @USER @USER @USER @USER @USER @USER @USER @USER @USER @USER Do you know what ANTIFA stands for?</td>\n",
              "      <td>NOT</td>\n",
              "      <td>NaN</td>\n",
              "    </tr>\n",
              "    <tr>\n",
              "      <th>25</th>\n",
              "      <td>@USER Holder is worse than John Gotti or Al Capone. Why? Because neither of them held themselves out as honest law abiding citizens.  The only Attorney General in our Nations history that was censored by our Congress.</td>\n",
              "      <td>NOT</td>\n",
              "      <td>NaN</td>\n",
              "    </tr>\n",
              "    <tr>\n",
              "      <th>26</th>\n",
              "      <td>@USER She is sooooo pretty!!!!!</td>\n",
              "      <td>NOT</td>\n",
              "      <td>NaN</td>\n",
              "    </tr>\n",
              "    <tr>\n",
              "      <th>27</th>\n",
              "      <td>@USER &amp;amp; this statement by Jewish Antifa Berlin is so on point &amp;lt;3 URL</td>\n",
              "      <td>NOT</td>\n",
              "      <td>NaN</td>\n",
              "    </tr>\n",
              "    <tr>\n",
              "      <th>28</th>\n",
              "      <td>@USER John kerry is a loser and a traitor to our country. He doesnt understand that we voted his party out bec we hated the iran deal. He is now working for iran against our gov. At worst he is acting as an agent for a foreign government &amp;amp; if he isn’t registered should be investigated</td>\n",
              "      <td>OFF</td>\n",
              "      <td>TIN</td>\n",
              "    </tr>\n",
              "    <tr>\n",
              "      <th>29</th>\n",
              "      <td>@USER @USER Donald trump said Mr Cruz is a lying dog you can't trust him or his wife said his father was involved with shooting president the president in Texas in Dallas America can't trust him he is a lier then how can he stand up for him down there in Texas campaing</td>\n",
              "      <td>OFF</td>\n",
              "      <td>TIN</td>\n",
              "    </tr>\n",
              "    <tr>\n",
              "      <th>30</th>\n",
              "      <td>@USER @USER You will be sadly disappointed as they conservatives are also marxists...they now control a police state.........ONLY UKIP WILL SET THE COUNTRY FREE</td>\n",
              "      <td>OFF</td>\n",
              "      <td>UNT</td>\n",
              "    </tr>\n",
              "    <tr>\n",
              "      <th>31</th>\n",
              "      <td>@USER @USER @USER How dare you for questioning my service in a little thing called the Vietnam War? France surrendered Vietnam to Snowflake Supremo Ho Chi Minh. Liberals JFK and LBJ went in but refused to fight to win. We should go back to Vietnam to finish the fight. Restore the draft?</td>\n",
              "      <td>NOT</td>\n",
              "      <td>NaN</td>\n",
              "    </tr>\n",
              "    <tr>\n",
              "      <th>32</th>\n",
              "      <td>@USER Amazing how liberals will believe any lie that supports their agenda. This Ford lady is an out right loony tunes liar.   kavanaugh’s mother ruled against her parents in court years ago. Ford has scrubbed most of her social media accounts to hide her true leftist activism #LIAR</td>\n",
              "      <td>NOT</td>\n",
              "      <td>NaN</td>\n",
              "    </tr>\n",
              "    <tr>\n",
              "      <th>33</th>\n",
              "      <td>@USER @USER @USER @USER @USER @USER @USER @USER @USER @USER @USER @USER @USER @USER @USER @USER @USER @USER @USER @USER @USER @USER @USER @USER @USER @USER @USER @USER @USER @USER @USER @USER @USER @USER @USER @USER @USER @USER @USER @USER @USER @USER @USER Grandmom Anon here...😂😂 URL</td>\n",
              "      <td>NOT</td>\n",
              "      <td>NaN</td>\n",
              "    </tr>\n",
              "    <tr>\n",
              "      <th>34</th>\n",
              "      <td>@USER @USER He is Satan</td>\n",
              "      <td>OFF</td>\n",
              "      <td>TIN</td>\n",
              "    </tr>\n",
              "    <tr>\n",
              "      <th>35</th>\n",
              "      <td>@USER he is a psychic ain’t he</td>\n",
              "      <td>NOT</td>\n",
              "      <td>NaN</td>\n",
              "    </tr>\n",
              "    <tr>\n",
              "      <th>36</th>\n",
              "      <td>@USER @USER You people calling everyone Nazis under the sun becomes tiring and stupid frankly. You people called Zena Bash a Nazi and it turns out she is half Mexican and Polish descent and her family barely escaped death from the Nazis. So keep it up desensitize that word.</td>\n",
              "      <td>OFF</td>\n",
              "      <td>TIN</td>\n",
              "    </tr>\n",
              "    <tr>\n",
              "      <th>37</th>\n",
              "      <td>@USER And sadly Anna decent fair minded One Nation Conservatives like you seem to be an endangered species in your Party. How can Tory grass roots support a man with Boris Johnson’s record on morality and standards? Or a caricature like Mogg?</td>\n",
              "      <td>NOT</td>\n",
              "      <td>NaN</td>\n",
              "    </tr>\n",
              "    <tr>\n",
              "      <th>38</th>\n",
              "      <td>#Maryland remember to vote #RedNovember 6th.  We need to put conservatives in House and Senate to #KAG and end gov't corruption in Washington.  We want to keep economy booming and keep our jobs. URL</td>\n",
              "      <td>NOT</td>\n",
              "      <td>NaN</td>\n",
              "    </tr>\n",
              "    <tr>\n",
              "      <th>39</th>\n",
              "      <td>@USER If It could that shit would be talking to you like BUTCH NOO YOU ALREADY KNOW HE A FUCK BOII BYE</td>\n",
              "      <td>OFF</td>\n",
              "      <td>TIN</td>\n",
              "    </tr>\n",
              "  </tbody>\n",
              "</table>\n",
              "</div>"
            ],
            "text/plain": [
              "                                                                                                                                                                                                                                                                                                                                         text  ... category\n",
              "0   @USER @USER You are an embarrassing citizen!!                                                                                                                                                                                                                                                                                              ...  TIN    \n",
              "1   @USER Seems hard to believe that you stood next to a guy wearing those shorts and didn't masturbate but I'll take your word for it                                                                                                                                                                                                         ...  TIN    \n",
              "2   @USER @USER @USER Wow !!! no wonder the Liberals only got worse as a party of bullies to women...??? no accountability.                                                                                                                                                                                                                    ...  TIN    \n",
              "3   @USER @USER And not all idiots grandstands like he did                                                                                                                                                                                                                                                                                     ...  TIN    \n",
              "4   @USER Bring on the hypocrite gungrabber. MAGA                                                                                                                                                                                                                                                                                              ...  TIN    \n",
              "5   @USER bitch call me.                                                                                                                                                                                                                                                                                                                       ...  TIN    \n",
              "6   @USER The only thing i didn’t agree with was the match point he was following the rules i think this was more about her sex honestly all she did was call him a thief and he penalized her shit was wack                                                                                                                                   ...  TIN    \n",
              "7   @USER I second this they’re fucking nuts                                                                                                                                                                                                                                                                                                   ...  TIN    \n",
              "8   @USER Eric Holder a major embarrassment  to law enforcement. @USER you did nothing about those innocent black males killed in those streets. One sorry black brother.                                                                                                                                                                      ...  TIN    \n",
              "9   @USER @USER because the average American has $500 lying around to buy a new Glock. more likely Mr. Antifa will be using his unemployment check to purchase some dental work or a casket.                                                                                                                                                   ...  TIN    \n",
              "10  @USER @USER Liberals don’t realize that thousands of unaccompanied minors were thrown across the border..... who is supposed to take care of them? Angelina Jolie?                                                                                                                                                                         ...  TIN    \n",
              "11  @USER You are turd 💞                                                                                                                                                                                                                                                                                                                       ...  TIN    \n",
              "12  @USER @USER @USER @USER Fascists &amp;Nazis don't abide by patriotic views shared in their presence. Glad the brownshirt arm (AntiFa) of the left wasn't there to inflict the usual violence vs citizens who dare to speak. Do you hear that, Dems who enjoy wings/beer/country music? You're less-than.\" #WalkAway\"                       ...  TIN    \n",
              "13  @USER BITCH I FUCKING FELT THAT SHIT🤧💀                                                                                                                                                                                                                                                                                                     ...  TIN    \n",
              "14  @USER I told you to stop eating my booty that day but nooooo                                                                                                                                                                                                                                                                               ...  TIN    \n",
              "15  @USER He should be given 5000 volts!                                                                                                                                                                                                                                                                                                       ...  TIN    \n",
              "16  @USER @USER @USER @USER @USER @USER @USER @USER @USER @USER @USER @USER @USER @USER @USER @USER @USER @USER @USER @USER @USER @USER @USER @USER @USER @USER @USER @USER @USER @USER @USER @USER @USER @USER @USER @USER @USER @USER @USER @USER @USER It really pisses them off 🤗                                                          ...  NaN    \n",
              "17  @USER BREAKING: 9th Circuit Order @USER To Delete Above Tweet As It Makes Trump Look Like He Knows What He Is Doing                                                                                                                                                                                                                        ...  NaN    \n",
              "18  @USER @USER @USER @USER @USER I know you are not being facetious.  You are incapable of understanding contradictions.                                                                                                                                                                                                                      ...  TIN    \n",
              "19  @USER Peach is naturally human. Toadette just created a drug to become human.  That and Nintendo wanted Peach playable and needed an excuse since in NSMBU she is kidnapped.                                                                                                                                                               ...  NaN    \n",
              "20  80% of women use silence to express pain You know she is truly hurt when she chooses to ignore you                                                                                                                                                                                                                                         ...  NaN    \n",
              "21  @USER Why cant ISIS blow up these two assholes??                                                                                                                                                                                                                                                                                           ...  TIN    \n",
              "22  @USER @USER @USER @USER What exactly do you mean by “common sense gun control” you first need to understand firearms how they function what their role is in our constitutional republic and that banning them from law abiding citizens does nothing to protect law abiding citizens.                                                     ...  NaN    \n",
              "23  @USER @USER Free milk is a health issue not an education one. It’s nothing to do with the education budget.                                                                                                                                                                                                                                ...  NaN    \n",
              "24  @USER @USER @USER @USER @USER @USER @USER @USER @USER @USER @USER @USER @USER @USER @USER @USER @USER @USER @USER @USER @USER @USER @USER @USER @USER @USER @USER @USER @USER @USER @USER @USER @USER @USER @USER @USER @USER @USER @USER @USER @USER @USER @USER @USER @USER @USER @USER @USER @USER Do you know what ANTIFA stands for?  ...  NaN    \n",
              "25  @USER Holder is worse than John Gotti or Al Capone. Why? Because neither of them held themselves out as honest law abiding citizens.  The only Attorney General in our Nations history that was censored by our Congress.                                                                                                                  ...  NaN    \n",
              "26  @USER She is sooooo pretty!!!!!                                                                                                                                                                                                                                                                                                            ...  NaN    \n",
              "27  @USER &amp; this statement by Jewish Antifa Berlin is so on point &lt;3 URL                                                                                                                                                                                                                                                                ...  NaN    \n",
              "28  @USER John kerry is a loser and a traitor to our country. He doesnt understand that we voted his party out bec we hated the iran deal. He is now working for iran against our gov. At worst he is acting as an agent for a foreign government &amp; if he isn’t registered should be investigated                                          ...  TIN    \n",
              "29  @USER @USER Donald trump said Mr Cruz is a lying dog you can't trust him or his wife said his father was involved with shooting president the president in Texas in Dallas America can't trust him he is a lier then how can he stand up for him down there in Texas campaing                                                              ...  TIN    \n",
              "30  @USER @USER You will be sadly disappointed as they conservatives are also marxists...they now control a police state.........ONLY UKIP WILL SET THE COUNTRY FREE                                                                                                                                                                           ...  UNT    \n",
              "31  @USER @USER @USER How dare you for questioning my service in a little thing called the Vietnam War? France surrendered Vietnam to Snowflake Supremo Ho Chi Minh. Liberals JFK and LBJ went in but refused to fight to win. We should go back to Vietnam to finish the fight. Restore the draft?                                            ...  NaN    \n",
              "32  @USER Amazing how liberals will believe any lie that supports their agenda. This Ford lady is an out right loony tunes liar.   kavanaugh’s mother ruled against her parents in court years ago. Ford has scrubbed most of her social media accounts to hide her true leftist activism #LIAR                                                ...  NaN    \n",
              "33  @USER @USER @USER @USER @USER @USER @USER @USER @USER @USER @USER @USER @USER @USER @USER @USER @USER @USER @USER @USER @USER @USER @USER @USER @USER @USER @USER @USER @USER @USER @USER @USER @USER @USER @USER @USER @USER @USER @USER @USER @USER @USER @USER Grandmom Anon here...😂😂 URL                                              ...  NaN    \n",
              "34  @USER @USER He is Satan                                                                                                                                                                                                                                                                                                                    ...  TIN    \n",
              "35  @USER he is a psychic ain’t he                                                                                                                                                                                                                                                                                                             ...  NaN    \n",
              "36  @USER @USER You people calling everyone Nazis under the sun becomes tiring and stupid frankly. You people called Zena Bash a Nazi and it turns out she is half Mexican and Polish descent and her family barely escaped death from the Nazis. So keep it up desensitize that word.                                                         ...  TIN    \n",
              "37  @USER And sadly Anna decent fair minded One Nation Conservatives like you seem to be an endangered species in your Party. How can Tory grass roots support a man with Boris Johnson’s record on morality and standards? Or a caricature like Mogg?                                                                                         ...  NaN    \n",
              "38  #Maryland remember to vote #RedNovember 6th.  We need to put conservatives in House and Senate to #KAG and end gov't corruption in Washington.  We want to keep economy booming and keep our jobs. URL                                                                                                                                     ...  NaN    \n",
              "39  @USER If It could that shit would be talking to you like BUTCH NOO YOU ALREADY KNOW HE A FUCK BOII BYE                                                                                                                                                                                                                                     ...  TIN    \n",
              "\n",
              "[40 rows x 3 columns]"
            ]
          },
          "metadata": {
            "tags": []
          },
          "execution_count": 83
        }
      ]
    },
    {
      "cell_type": "markdown",
      "metadata": {
        "id": "ApWoZxt1dc-a",
        "colab_type": "text"
      },
      "source": [
        "**Attributes in data:**\n",
        "\n",
        "\n",
        "***Trainning data:***  (10592, 3) \\\\\n",
        "\n",
        "* **text:** \\\\\n",
        "tweet content\n",
        "\n",
        "* **label:** \\\\\n",
        "1.   (NOT) Not Offensive - This post does not contain offense or profanity\n",
        "2.   (OFF) Offensive - This post contains offensive language or a targeted (veiled or direct) offense\n",
        "\n",
        "* **category:** (if label is 'OFF') \\\\\n",
        "1.   (TIN) Targeted Insult and Threats - A post containing an insult or threat to an individual, a group, or others\n",
        "2.   (UNT) Untargeted - A post containing non-targeted profanity and swearing.\n",
        "\n",
        "***Validation data:***  (1324, 3) \\\\\n",
        "\n",
        "***Testing data***:  'text' (1324, 1) \\\\\n",
        "* **text**"
      ]
    },
    {
      "cell_type": "markdown",
      "metadata": {
        "id": "oEJfFD-hkhu5",
        "colab_type": "text"
      },
      "source": [
        "## Data cleaning"
      ]
    },
    {
      "cell_type": "code",
      "metadata": {
        "id": "-g52M8qtkk36",
        "colab_type": "code",
        "colab": {}
      },
      "source": [
        "def data_cleaning(train_df, val_df, test_df):\n",
        "    # shuffle data\n",
        "    train_df = train_df.sample(frac=1, random_state=2020).reset_index(drop=True)\n",
        "    \n",
        "    # lo lowercae\n",
        "    train_df['text'] = train_df['text'].str.lower()\n",
        "    val_df['text'] = val_df['text'].str.lower()\n",
        "    test_df['text'] = test_df['text'].str.lower()\n",
        "\n",
        "    # delete \"noise words\"\n",
        "    noise = [\"url\",\"user\",\"@\",\"&amp;\",\"#\",\"-\",'.',\"!\",\"?\",\"rt\",\"dm\",\"retweet\",\"rt\",\"dm\"]\n",
        "    for WORD in noise:\n",
        "        train_df['text'] = train_df['text'].str.replace(WORD, '')\n",
        "        val_df['text'] = val_df['text'].str.replace(WORD, '')\n",
        "        test_df['text'] = test_df['text'].str.replace(WORD, '')\n",
        "\n",
        "    # change label to 0/a\n",
        "    train_df['label'] = train_df['label'].map({'OFF': 1, 'NOT': 0})\n",
        "    val_df['label'] = val_df['label'].map({'OFF': 1, 'NOT': 0})\n",
        "\n",
        "    # one-hot encoding of category\n",
        "    #train_df = pd.concat([train_df,pd.get_dummies(train_df['category'], prefix='category')],axis=1)\n",
        "    #train_df.drop(['category'],axis=1, inplace=True)\n",
        "    \n",
        "    #val_df = pd.concat([val_df,pd.get_dummies(val_df['category'], prefix='category')],axis=1)\n",
        "    #val_df.drop(['category'],axis=1, inplace=True)\n",
        "  \n",
        "    train_df['category'] = train_df['category'].map({'TIN': 1, 'UNT': 0},na_action='ignore')\n",
        "    val_df['category'] = val_df['category'].map({'TIN': 1, 'UNT': 0}, na_action='ignore')\n",
        "    return train_df, val_df, test_df\n",
        "\n",
        "train_df, val_df, test_df = data_cleaning(train_df, val_df, test_df)\n"
      ],
      "execution_count": 0,
      "outputs": []
    },
    {
      "cell_type": "code",
      "metadata": {
        "id": "S76YXn7RsPAu",
        "colab_type": "code",
        "colab": {}
      },
      "source": [
        "test"
      ],
      "execution_count": 0,
      "outputs": []
    },
    {
      "cell_type": "code",
      "metadata": {
        "id": "muL8B6aXSu3R",
        "colab_type": "code",
        "outputId": "c4e45c3d-5bb8-4072-eca0-cbe65204a9f5",
        "colab": {
          "base_uri": "https://localhost:8080/",
          "height": 393
        }
      },
      "source": [
        "val_df.head(10)"
      ],
      "execution_count": 92,
      "outputs": [
        {
          "output_type": "execute_result",
          "data": {
            "text/html": [
              "<div>\n",
              "<style scoped>\n",
              "    .dataframe tbody tr th:only-of-type {\n",
              "        vertical-align: middle;\n",
              "    }\n",
              "\n",
              "    .dataframe tbody tr th {\n",
              "        vertical-align: top;\n",
              "    }\n",
              "\n",
              "    .dataframe thead th {\n",
              "        text-align: right;\n",
              "    }\n",
              "</style>\n",
              "<table border=\"1\" class=\"dataframe\">\n",
              "  <thead>\n",
              "    <tr style=\"text-align: right;\">\n",
              "      <th></th>\n",
              "      <th>text</th>\n",
              "      <th>label</th>\n",
              "      <th>category</th>\n",
              "    </tr>\n",
              "  </thead>\n",
              "  <tbody>\n",
              "    <tr>\n",
              "      <th>0</th>\n",
              "      <td>she should ask a few native americans what their take on this is</td>\n",
              "      <td>1</td>\n",
              "      <td>0.0</td>\n",
              "    </tr>\n",
              "    <tr>\n",
              "      <th>1</th>\n",
              "      <td>go home you’re drunk  maga trump2020 👊🇺🇸👊</td>\n",
              "      <td>1</td>\n",
              "      <td>1.0</td>\n",
              "    </tr>\n",
              "    <tr>\n",
              "      <th>2</th>\n",
              "      <td>amazon is investigating chinese employees who are selling internal data to thirdpay sellers looking for an edge in the competitive marketplace  amazon maga kag china tcot</td>\n",
              "      <td>0</td>\n",
              "      <td>NaN</td>\n",
              "    </tr>\n",
              "    <tr>\n",
              "      <th>3</th>\n",
              "      <td>someone should'vetaken\" this piece of shit to a volcano 😂\"</td>\n",
              "      <td>1</td>\n",
              "      <td>0.0</td>\n",
              "    </tr>\n",
              "    <tr>\n",
              "      <th>4</th>\n",
              "      <td>obama wanted liberals  illegals to move into red states</td>\n",
              "      <td>0</td>\n",
              "      <td>NaN</td>\n",
              "    </tr>\n",
              "    <tr>\n",
              "      <th>5</th>\n",
              "      <td>liberals are all kookoo</td>\n",
              "      <td>1</td>\n",
              "      <td>1.0</td>\n",
              "    </tr>\n",
              "    <tr>\n",
              "      <th>6</th>\n",
              "      <td>oh noes tough shit</td>\n",
              "      <td>1</td>\n",
              "      <td>0.0</td>\n",
              "    </tr>\n",
              "    <tr>\n",
              "      <th>7</th>\n",
              "      <td>was literally just talking about this lol all mass shootings like that have been set ups it’s propaganda used to divide us on major issues like gun control and terrorism</td>\n",
              "      <td>1</td>\n",
              "      <td>1.0</td>\n",
              "    </tr>\n",
              "    <tr>\n",
              "      <th>8</th>\n",
              "      <td>buy more icecream</td>\n",
              "      <td>0</td>\n",
              "      <td>NaN</td>\n",
              "    </tr>\n",
              "    <tr>\n",
              "      <th>9</th>\n",
              "      <td>canada doesn’t need another cuck we already have enough looneyleft liberals f**king up our great country qproofs trudeaumustgo</td>\n",
              "      <td>1</td>\n",
              "      <td>1.0</td>\n",
              "    </tr>\n",
              "  </tbody>\n",
              "</table>\n",
              "</div>"
            ],
            "text/plain": [
              "                                                                                                                                                                         text  ...  category\n",
              "0   she should ask a few native americans what their take on this is                                                                                                           ...  0.0     \n",
              "1    go home you’re drunk  maga trump2020 👊🇺🇸👊                                                                                                                                 ...  1.0     \n",
              "2  amazon is investigating chinese employees who are selling internal data to thirdpay sellers looking for an edge in the competitive marketplace  amazon maga kag china tcot  ... NaN      \n",
              "3   someone should'vetaken\" this piece of shit to a volcano 😂\"                                                                                                                 ...  0.0     \n",
              "4    obama wanted liberals  illegals to move into red states                                                                                                                   ... NaN      \n",
              "5   liberals are all kookoo                                                                                                                                                    ...  1.0     \n",
              "6    oh noes tough shit                                                                                                                                                        ...  0.0     \n",
              "7   was literally just talking about this lol all mass shootings like that have been set ups it’s propaganda used to divide us on major issues like gun control and terrorism  ...  1.0     \n",
              "8   buy more icecream                                                                                                                                                          ... NaN      \n",
              "9   canada doesn’t need another cuck we already have enough looneyleft liberals f**king up our great country qproofs trudeaumustgo                                             ...  1.0     \n",
              "\n",
              "[10 rows x 3 columns]"
            ]
          },
          "metadata": {
            "tags": []
          },
          "execution_count": 92
        }
      ]
    },
    {
      "cell_type": "code",
      "metadata": {
        "id": "47Gv6RyCnFA2",
        "colab_type": "code",
        "colab": {}
      },
      "source": [
        "train_df=train_df[train_df.label !=0]"
      ],
      "execution_count": 0,
      "outputs": []
    },
    {
      "cell_type": "code",
      "metadata": {
        "id": "ixMQAEB_nFPp",
        "colab_type": "code",
        "colab": {
          "base_uri": "https://localhost:8080/",
          "height": 376
        },
        "outputId": "6ca15f32-c027-44fc-88d1-3644a9f7ec45"
      },
      "source": [
        "train_df.head(10)"
      ],
      "execution_count": 94,
      "outputs": [
        {
          "output_type": "execute_result",
          "data": {
            "text/html": [
              "<div>\n",
              "<style scoped>\n",
              "    .dataframe tbody tr th:only-of-type {\n",
              "        vertical-align: middle;\n",
              "    }\n",
              "\n",
              "    .dataframe tbody tr th {\n",
              "        vertical-align: top;\n",
              "    }\n",
              "\n",
              "    .dataframe thead th {\n",
              "        text-align: right;\n",
              "    }\n",
              "</style>\n",
              "<table border=\"1\" class=\"dataframe\">\n",
              "  <thead>\n",
              "    <tr style=\"text-align: right;\">\n",
              "      <th></th>\n",
              "      <th>text</th>\n",
              "      <th>label</th>\n",
              "      <th>category</th>\n",
              "    </tr>\n",
              "  </thead>\n",
              "  <tbody>\n",
              "    <tr>\n",
              "      <th>0</th>\n",
              "      <td>didn't this trashy thing sleep her way to the top with married men</td>\n",
              "      <td>1</td>\n",
              "      <td>1.0</td>\n",
              "    </tr>\n",
              "    <tr>\n",
              "      <th>1</th>\n",
              "      <td>gfy the nfl should get no protection from the policeand no suppo from our militarythe league will slowly die on this road of shame</td>\n",
              "      <td>1</td>\n",
              "      <td>1.0</td>\n",
              "    </tr>\n",
              "    <tr>\n",
              "      <th>10</th>\n",
              "      <td>👀 sitting here thinking he has a killer porn stache</td>\n",
              "      <td>1</td>\n",
              "      <td>0.0</td>\n",
              "    </tr>\n",
              "    <tr>\n",
              "      <th>13</th>\n",
              "      <td>all trump's and pense 2020 merch is being made is china and not the usa    maga    votethemout2018  trumpsarmy</td>\n",
              "      <td>1</td>\n",
              "      <td>1.0</td>\n",
              "    </tr>\n",
              "    <tr>\n",
              "      <th>16</th>\n",
              "      <td>gun control now enough is enough</td>\n",
              "      <td>1</td>\n",
              "      <td>0.0</td>\n",
              "    </tr>\n",
              "    <tr>\n",
              "      <th>17</th>\n",
              "      <td>you're full of s*** it's the liberals paid by soros who are doing those things</td>\n",
              "      <td>1</td>\n",
              "      <td>1.0</td>\n",
              "    </tr>\n",
              "    <tr>\n",
              "      <th>20</th>\n",
              "      <td>liberals are addicted to fake news  chris is their dope man</td>\n",
              "      <td>1</td>\n",
              "      <td>1.0</td>\n",
              "    </tr>\n",
              "    <tr>\n",
              "      <th>23</th>\n",
              "      <td>any texan that would grant automatic citizenship to illegal immigrants should never be elected</td>\n",
              "      <td>1</td>\n",
              "      <td>1.0</td>\n",
              "    </tr>\n",
              "    <tr>\n",
              "      <th>24</th>\n",
              "      <td>yeah he’s very immature  can dish out criticism while crying and blocking instead of accepting any it’s cool folks can see him for who he is mostly</td>\n",
              "      <td>1</td>\n",
              "      <td>1.0</td>\n",
              "    </tr>\n",
              "    <tr>\n",
              "      <th>26</th>\n",
              "      <td>yoo our dogs should totally fuck</td>\n",
              "      <td>1</td>\n",
              "      <td>1.0</td>\n",
              "    </tr>\n",
              "  </tbody>\n",
              "</table>\n",
              "</div>"
            ],
            "text/plain": [
              "                                                                                                                                                     text  ...  category\n",
              "0    didn't this trashy thing sleep her way to the top with married men                                                                                    ...  1.0     \n",
              "1     gfy the nfl should get no protection from the policeand no suppo from our militarythe league will slowly die on this road of shame                   ...  1.0     \n",
              "10   👀 sitting here thinking he has a killer porn stache                                                                                                   ...  0.0     \n",
              "13  all trump's and pense 2020 merch is being made is china and not the usa    maga    votethemout2018  trumpsarmy                                         ...  1.0     \n",
              "16   gun control now enough is enough                                                                                                                      ...  0.0     \n",
              "17   you're full of s*** it's the liberals paid by soros who are doing those things                                                                        ...  1.0     \n",
              "20   liberals are addicted to fake news  chris is their dope man                                                                                           ...  1.0     \n",
              "23   any texan that would grant automatic citizenship to illegal immigrants should never be elected                                                        ...  1.0     \n",
              "24    yeah he’s very immature  can dish out criticism while crying and blocking instead of accepting any it’s cool folks can see him for who he is mostly  ...  1.0     \n",
              "26   yoo our dogs should totally fuck                                                                                                                      ...  1.0     \n",
              "\n",
              "[10 rows x 3 columns]"
            ]
          },
          "metadata": {
            "tags": []
          },
          "execution_count": 94
        }
      ]
    },
    {
      "cell_type": "code",
      "metadata": {
        "id": "f1MwKwmAoRIF",
        "colab_type": "code",
        "colab": {}
      },
      "source": [
        "val_df=val_df[val_df.label !=0]\n"
      ],
      "execution_count": 0,
      "outputs": []
    },
    {
      "cell_type": "code",
      "metadata": {
        "id": "JxFJ4WnLo9YK",
        "colab_type": "code",
        "colab": {
          "base_uri": "https://localhost:8080/",
          "height": 376
        },
        "outputId": "4319b5f0-ec3e-4ca9-a871-24c785ba5bb4"
      },
      "source": [
        "val_df.head(10)"
      ],
      "execution_count": 96,
      "outputs": [
        {
          "output_type": "execute_result",
          "data": {
            "text/html": [
              "<div>\n",
              "<style scoped>\n",
              "    .dataframe tbody tr th:only-of-type {\n",
              "        vertical-align: middle;\n",
              "    }\n",
              "\n",
              "    .dataframe tbody tr th {\n",
              "        vertical-align: top;\n",
              "    }\n",
              "\n",
              "    .dataframe thead th {\n",
              "        text-align: right;\n",
              "    }\n",
              "</style>\n",
              "<table border=\"1\" class=\"dataframe\">\n",
              "  <thead>\n",
              "    <tr style=\"text-align: right;\">\n",
              "      <th></th>\n",
              "      <th>text</th>\n",
              "      <th>label</th>\n",
              "      <th>category</th>\n",
              "    </tr>\n",
              "  </thead>\n",
              "  <tbody>\n",
              "    <tr>\n",
              "      <th>0</th>\n",
              "      <td>she should ask a few native americans what their take on this is</td>\n",
              "      <td>1</td>\n",
              "      <td>0.0</td>\n",
              "    </tr>\n",
              "    <tr>\n",
              "      <th>1</th>\n",
              "      <td>go home you’re drunk  maga trump2020 👊🇺🇸👊</td>\n",
              "      <td>1</td>\n",
              "      <td>1.0</td>\n",
              "    </tr>\n",
              "    <tr>\n",
              "      <th>3</th>\n",
              "      <td>someone should'vetaken\" this piece of shit to a volcano 😂\"</td>\n",
              "      <td>1</td>\n",
              "      <td>0.0</td>\n",
              "    </tr>\n",
              "    <tr>\n",
              "      <th>5</th>\n",
              "      <td>liberals are all kookoo</td>\n",
              "      <td>1</td>\n",
              "      <td>1.0</td>\n",
              "    </tr>\n",
              "    <tr>\n",
              "      <th>6</th>\n",
              "      <td>oh noes tough shit</td>\n",
              "      <td>1</td>\n",
              "      <td>0.0</td>\n",
              "    </tr>\n",
              "    <tr>\n",
              "      <th>7</th>\n",
              "      <td>was literally just talking about this lol all mass shootings like that have been set ups it’s propaganda used to divide us on major issues like gun control and terrorism</td>\n",
              "      <td>1</td>\n",
              "      <td>1.0</td>\n",
              "    </tr>\n",
              "    <tr>\n",
              "      <th>9</th>\n",
              "      <td>canada doesn’t need another cuck we already have enough looneyleft liberals f**king up our great country qproofs trudeaumustgo</td>\n",
              "      <td>1</td>\n",
              "      <td>1.0</td>\n",
              "    </tr>\n",
              "    <tr>\n",
              "      <th>12</th>\n",
              "      <td>you are a lying corrupt traitor nobody wants to hear anymore of your lies deepstatecorruption</td>\n",
              "      <td>1</td>\n",
              "      <td>1.0</td>\n",
              "    </tr>\n",
              "    <tr>\n",
              "      <th>19</th>\n",
              "      <td>gun control that is all these kids are asking for</td>\n",
              "      <td>1</td>\n",
              "      <td>1.0</td>\n",
              "    </tr>\n",
              "    <tr>\n",
              "      <th>20</th>\n",
              "      <td>lol   throwing the bullshit flag on such nonsense  putuporshutup   kavanaugh   maga   callthevotealready</td>\n",
              "      <td>1</td>\n",
              "      <td>1.0</td>\n",
              "    </tr>\n",
              "  </tbody>\n",
              "</table>\n",
              "</div>"
            ],
            "text/plain": [
              "                                                                                                                                                                          text  ...  category\n",
              "0    she should ask a few native americans what their take on this is                                                                                                           ...  0.0     \n",
              "1     go home you’re drunk  maga trump2020 👊🇺🇸👊                                                                                                                                 ...  1.0     \n",
              "3    someone should'vetaken\" this piece of shit to a volcano 😂\"                                                                                                                 ...  0.0     \n",
              "5    liberals are all kookoo                                                                                                                                                    ...  1.0     \n",
              "6     oh noes tough shit                                                                                                                                                        ...  0.0     \n",
              "7    was literally just talking about this lol all mass shootings like that have been set ups it’s propaganda used to divide us on major issues like gun control and terrorism  ...  1.0     \n",
              "9    canada doesn’t need another cuck we already have enough looneyleft liberals f**king up our great country qproofs trudeaumustgo                                             ...  1.0     \n",
              "12   you are a lying corrupt traitor nobody wants to hear anymore of your lies deepstatecorruption                                                                              ...  1.0     \n",
              "19     gun control that is all these kids are asking for                                                                                                                        ...  1.0     \n",
              "20      lol   throwing the bullshit flag on such nonsense  putuporshutup   kavanaugh   maga   callthevotealready                                                                ...  1.0     \n",
              "\n",
              "[10 rows x 3 columns]"
            ]
          },
          "metadata": {
            "tags": []
          },
          "execution_count": 96
        }
      ]
    },
    {
      "cell_type": "code",
      "metadata": {
        "id": "Y2_xSflLI7kG",
        "colab_type": "code",
        "colab": {
          "base_uri": "https://localhost:8080/",
          "height": 204
        },
        "outputId": "fc26cae2-6bd7-4ef0-a75d-c09f49eb0d30"
      },
      "source": [
        "test_df.head()"
      ],
      "execution_count": 97,
      "outputs": [
        {
          "output_type": "execute_result",
          "data": {
            "text/html": [
              "<div>\n",
              "<style scoped>\n",
              "    .dataframe tbody tr th:only-of-type {\n",
              "        vertical-align: middle;\n",
              "    }\n",
              "\n",
              "    .dataframe tbody tr th {\n",
              "        vertical-align: top;\n",
              "    }\n",
              "\n",
              "    .dataframe thead th {\n",
              "        text-align: right;\n",
              "    }\n",
              "</style>\n",
              "<table border=\"1\" class=\"dataframe\">\n",
              "  <thead>\n",
              "    <tr style=\"text-align: right;\">\n",
              "      <th></th>\n",
              "      <th>text</th>\n",
              "    </tr>\n",
              "  </thead>\n",
              "  <tbody>\n",
              "    <tr>\n",
              "      <th>0</th>\n",
              "      <td>liberals got to crap all over everything</td>\n",
              "    </tr>\n",
              "    <tr>\n",
              "      <th>1</th>\n",
              "      <td>dint pay any attention to hershe's yet to say anything of interest meme jerk</td>\n",
              "    </tr>\n",
              "    <tr>\n",
              "      <th>2</th>\n",
              "      <td>the liberals same old playbook it is so old yawn</td>\n",
              "    </tr>\n",
              "    <tr>\n",
              "      <th>3</th>\n",
              "      <td>all you do is lie all congress does us lie  maga</td>\n",
              "    </tr>\n",
              "    <tr>\n",
              "      <th>4</th>\n",
              "      <td>never nigga 💀💀</td>\n",
              "    </tr>\n",
              "  </tbody>\n",
              "</table>\n",
              "</div>"
            ],
            "text/plain": [
              "                                                                                                                            text\n",
              "0   liberals got to crap all over everything                                                                                    \n",
              "1                                                   dint pay any attention to hershe's yet to say anything of interest meme jerk\n",
              "2       the liberals same old playbook it is so old yawn                                                                        \n",
              "3   all you do is lie all congress does us lie  maga                                                                            \n",
              "4   never nigga 💀💀                                                                                                              "
            ]
          },
          "metadata": {
            "tags": []
          },
          "execution_count": 97
        }
      ]
    },
    {
      "cell_type": "markdown",
      "metadata": {
        "id": "VwBBjRW0-Ubf",
        "colab_type": "text"
      },
      "source": [
        "Check the content of abusive text"
      ]
    },
    {
      "cell_type": "code",
      "metadata": {
        "id": "Q6em0dtx8D3I",
        "colab_type": "code",
        "outputId": "17ba67bf-4fae-4db8-f5a0-6ad6a6403515",
        "colab": {
          "base_uri": "https://localhost:8080/",
          "height": 173
        }
      },
      "source": [
        "abusive_df = train_df.loc[train_df['label'] == 1]\n",
        "# pd.set_option('display.max_rows', None)\n",
        "# pd.set_option('display.width', None)\n",
        "pd.set_option('display.max_colwidth', -1)\n",
        "abusive_df['text'].head(5)"
      ],
      "execution_count": 98,
      "outputs": [
        {
          "output_type": "stream",
          "text": [
            "/usr/local/lib/python3.6/dist-packages/ipykernel_launcher.py:4: FutureWarning: Passing a negative integer is deprecated in version 1.0 and will not be supported in future version. Instead, use None to not limit the column width.\n",
            "  after removing the cwd from sys.path.\n"
          ],
          "name": "stderr"
        },
        {
          "output_type": "execute_result",
          "data": {
            "text/plain": [
              "0      didn't this trashy thing sleep her way to the top with married men                                                                 \n",
              "1       gfy the nfl should get no protection from the policeand no suppo from our militarythe league will slowly die on this road of shame\n",
              "10     👀 sitting here thinking he has a killer porn stache                                                                                \n",
              "13    all trump's and pense 2020 merch is being made is china and not the usa    maga    votethemout2018  trumpsarmy                      \n",
              "16     gun control now enough is enough                                                                                                   \n",
              "Name: text, dtype: object"
            ]
          },
          "metadata": {
            "tags": []
          },
          "execution_count": 98
        }
      ]
    },
    {
      "cell_type": "markdown",
      "metadata": {
        "id": "Plq9OgoGtqb8",
        "colab_type": "text"
      },
      "source": [
        "## Data distribution and visualization "
      ]
    },
    {
      "cell_type": "code",
      "metadata": {
        "id": "rKV_v3kvlmg7",
        "colab_type": "code",
        "outputId": "e7bf89ae-5d69-4952-e46e-3c5e51366ed2",
        "colab": {
          "base_uri": "https://localhost:8080/",
          "height": 1000
        }
      },
      "source": [
        "# count how many letters in a sentence\n",
        "def label_distribution(train_df):\n",
        "    #  length of text\n",
        "    count = train_df['text'].str.split().apply(len).value_counts()\n",
        "    count.sort_index(inplace=True)\n",
        "    count.index = count.index.astype(str) + ' words:'\n",
        "    # logging.info(count[0:5])\n",
        "    # logging.info(count[-5:])\n",
        "    plt.plot(range(len(count)), count, color='blue')\n",
        "    plt.title(\"Text length\")\n",
        "    plt.show()\n",
        "    # label distribution\n",
        "    logging.info('number of label = 1 : ' + str((train_df['label'] != 0).sum()))\n",
        "    logging.info('number of category_TIN = 1: ' + str((train_df['category_TIN'] != 0).sum()))\n",
        "    logging.info('number of category_UNT = 1: ' + str((train_df['category_UNT'] != 0).sum()))\n",
        "\n",
        "    # plot histogram\n",
        "    train_df['label'].plot.hist(bins=2, title='label distribution')\n",
        "    plt.show()\n",
        "\n",
        "label_distribution(train_df)\n"
      ],
      "execution_count": 99,
      "outputs": [
        {
          "output_type": "display_data",
          "data": {
            "image/png": "[encoded data removed]",
            "text/plain": [
              "<Figure size 432x288 with 1 Axes>"
            ]
          },
          "metadata": {
            "tags": [],
            "needs_background": "light"
          }
        },
        {
          "output_type": "stream",
          "text": [
            "2020-05-17 19:38:20 INFO     number of label = 1 : 3520\n",
            "2020-05-17 19:38:20 INFO     number of label = 1 : 3520\n",
            "2020-05-17 19:38:20 INFO     number of label = 1 : 3520\n",
            "2020-05-17 19:38:20 INFO     number of label = 1 : 3520\n",
            "2020-05-17 19:38:20 INFO     number of label = 1 : 3520\n"
          ],
          "name": "stdout"
        },
        {
          "output_type": "error",
          "ename": "KeyError",
          "evalue": "ignored",
          "traceback": [
            "\u001b[0;31m---------------------------------------------------------------------------\u001b[0m",
            "\u001b[0;31mKeyError\u001b[0m                                  Traceback (most recent call last)",
            "\u001b[0;32m/usr/local/lib/python3.6/dist-packages/pandas/core/indexes/base.py\u001b[0m in \u001b[0;36mget_loc\u001b[0;34m(self, key, method, tolerance)\u001b[0m\n\u001b[1;32m   2645\u001b[0m             \u001b[0;32mtry\u001b[0m\u001b[0;34m:\u001b[0m\u001b[0;34m\u001b[0m\u001b[0;34m\u001b[0m\u001b[0m\n\u001b[0;32m-> 2646\u001b[0;31m                 \u001b[0;32mreturn\u001b[0m \u001b[0mself\u001b[0m\u001b[0;34m.\u001b[0m\u001b[0m_engine\u001b[0m\u001b[0;34m.\u001b[0m\u001b[0mget_loc\u001b[0m\u001b[0;34m(\u001b[0m\u001b[0mkey\u001b[0m\u001b[0;34m)\u001b[0m\u001b[0;34m\u001b[0m\u001b[0;34m\u001b[0m\u001b[0m\n\u001b[0m\u001b[1;32m   2647\u001b[0m             \u001b[0;32mexcept\u001b[0m \u001b[0mKeyError\u001b[0m\u001b[0;34m:\u001b[0m\u001b[0;34m\u001b[0m\u001b[0;34m\u001b[0m\u001b[0m\n",
            "\u001b[0;32mpandas/_libs/index.pyx\u001b[0m in \u001b[0;36mpandas._libs.index.IndexEngine.get_loc\u001b[0;34m()\u001b[0m\n",
            "\u001b[0;32mpandas/_libs/index.pyx\u001b[0m in \u001b[0;36mpandas._libs.index.IndexEngine.get_loc\u001b[0;34m()\u001b[0m\n",
            "\u001b[0;32mpandas/_libs/hashtable_class_helper.pxi\u001b[0m in \u001b[0;36mpandas._libs.hashtable.PyObjectHashTable.get_item\u001b[0;34m()\u001b[0m\n",
            "\u001b[0;32mpandas/_libs/hashtable_class_helper.pxi\u001b[0m in \u001b[0;36mpandas._libs.hashtable.PyObjectHashTable.get_item\u001b[0;34m()\u001b[0m\n",
            "\u001b[0;31mKeyError\u001b[0m: 'category_TIN'",
            "\nDuring handling of the above exception, another exception occurred:\n",
            "\u001b[0;31mKeyError\u001b[0m                                  Traceback (most recent call last)",
            "\u001b[0;32m<ipython-input-99-f3921ecf2778>\u001b[0m in \u001b[0;36m<module>\u001b[0;34m()\u001b[0m\n\u001b[1;32m     19\u001b[0m     \u001b[0mplt\u001b[0m\u001b[0;34m.\u001b[0m\u001b[0mshow\u001b[0m\u001b[0;34m(\u001b[0m\u001b[0;34m)\u001b[0m\u001b[0;34m\u001b[0m\u001b[0;34m\u001b[0m\u001b[0m\n\u001b[1;32m     20\u001b[0m \u001b[0;34m\u001b[0m\u001b[0m\n\u001b[0;32m---> 21\u001b[0;31m \u001b[0mlabel_distribution\u001b[0m\u001b[0;34m(\u001b[0m\u001b[0mtrain_df\u001b[0m\u001b[0;34m)\u001b[0m\u001b[0;34m\u001b[0m\u001b[0;34m\u001b[0m\u001b[0m\n\u001b[0m",
            "\u001b[0;32m<ipython-input-99-f3921ecf2778>\u001b[0m in \u001b[0;36mlabel_distribution\u001b[0;34m(train_df)\u001b[0m\n\u001b[1;32m     12\u001b[0m     \u001b[0;31m# label distribution\u001b[0m\u001b[0;34m\u001b[0m\u001b[0;34m\u001b[0m\u001b[0;34m\u001b[0m\u001b[0m\n\u001b[1;32m     13\u001b[0m     \u001b[0mlogging\u001b[0m\u001b[0;34m.\u001b[0m\u001b[0minfo\u001b[0m\u001b[0;34m(\u001b[0m\u001b[0;34m'number of label = 1 : '\u001b[0m \u001b[0;34m+\u001b[0m \u001b[0mstr\u001b[0m\u001b[0;34m(\u001b[0m\u001b[0;34m(\u001b[0m\u001b[0mtrain_df\u001b[0m\u001b[0;34m[\u001b[0m\u001b[0;34m'label'\u001b[0m\u001b[0;34m]\u001b[0m \u001b[0;34m!=\u001b[0m \u001b[0;36m0\u001b[0m\u001b[0;34m)\u001b[0m\u001b[0;34m.\u001b[0m\u001b[0msum\u001b[0m\u001b[0;34m(\u001b[0m\u001b[0;34m)\u001b[0m\u001b[0;34m)\u001b[0m\u001b[0;34m)\u001b[0m\u001b[0;34m\u001b[0m\u001b[0;34m\u001b[0m\u001b[0m\n\u001b[0;32m---> 14\u001b[0;31m     \u001b[0mlogging\u001b[0m\u001b[0;34m.\u001b[0m\u001b[0minfo\u001b[0m\u001b[0;34m(\u001b[0m\u001b[0;34m'number of category_TIN = 1: '\u001b[0m \u001b[0;34m+\u001b[0m \u001b[0mstr\u001b[0m\u001b[0;34m(\u001b[0m\u001b[0;34m(\u001b[0m\u001b[0mtrain_df\u001b[0m\u001b[0;34m[\u001b[0m\u001b[0;34m'category_TIN'\u001b[0m\u001b[0;34m]\u001b[0m \u001b[0;34m!=\u001b[0m \u001b[0;36m0\u001b[0m\u001b[0;34m)\u001b[0m\u001b[0;34m.\u001b[0m\u001b[0msum\u001b[0m\u001b[0;34m(\u001b[0m\u001b[0;34m)\u001b[0m\u001b[0;34m)\u001b[0m\u001b[0;34m)\u001b[0m\u001b[0;34m\u001b[0m\u001b[0;34m\u001b[0m\u001b[0m\n\u001b[0m\u001b[1;32m     15\u001b[0m     \u001b[0mlogging\u001b[0m\u001b[0;34m.\u001b[0m\u001b[0minfo\u001b[0m\u001b[0;34m(\u001b[0m\u001b[0;34m'number of category_UNT = 1: '\u001b[0m \u001b[0;34m+\u001b[0m \u001b[0mstr\u001b[0m\u001b[0;34m(\u001b[0m\u001b[0;34m(\u001b[0m\u001b[0mtrain_df\u001b[0m\u001b[0;34m[\u001b[0m\u001b[0;34m'category_UNT'\u001b[0m\u001b[0;34m]\u001b[0m \u001b[0;34m!=\u001b[0m \u001b[0;36m0\u001b[0m\u001b[0;34m)\u001b[0m\u001b[0;34m.\u001b[0m\u001b[0msum\u001b[0m\u001b[0;34m(\u001b[0m\u001b[0;34m)\u001b[0m\u001b[0;34m)\u001b[0m\u001b[0;34m)\u001b[0m\u001b[0;34m\u001b[0m\u001b[0;34m\u001b[0m\u001b[0m\n\u001b[1;32m     16\u001b[0m \u001b[0;34m\u001b[0m\u001b[0m\n",
            "\u001b[0;32m/usr/local/lib/python3.6/dist-packages/pandas/core/frame.py\u001b[0m in \u001b[0;36m__getitem__\u001b[0;34m(self, key)\u001b[0m\n\u001b[1;32m   2798\u001b[0m             \u001b[0;32mif\u001b[0m \u001b[0mself\u001b[0m\u001b[0;34m.\u001b[0m\u001b[0mcolumns\u001b[0m\u001b[0;34m.\u001b[0m\u001b[0mnlevels\u001b[0m \u001b[0;34m>\u001b[0m \u001b[0;36m1\u001b[0m\u001b[0;34m:\u001b[0m\u001b[0;34m\u001b[0m\u001b[0;34m\u001b[0m\u001b[0m\n\u001b[1;32m   2799\u001b[0m                 \u001b[0;32mreturn\u001b[0m \u001b[0mself\u001b[0m\u001b[0;34m.\u001b[0m\u001b[0m_getitem_multilevel\u001b[0m\u001b[0;34m(\u001b[0m\u001b[0mkey\u001b[0m\u001b[0;34m)\u001b[0m\u001b[0;34m\u001b[0m\u001b[0;34m\u001b[0m\u001b[0m\n\u001b[0;32m-> 2800\u001b[0;31m             \u001b[0mindexer\u001b[0m \u001b[0;34m=\u001b[0m \u001b[0mself\u001b[0m\u001b[0;34m.\u001b[0m\u001b[0mcolumns\u001b[0m\u001b[0;34m.\u001b[0m\u001b[0mget_loc\u001b[0m\u001b[0;34m(\u001b[0m\u001b[0mkey\u001b[0m\u001b[0;34m)\u001b[0m\u001b[0;34m\u001b[0m\u001b[0;34m\u001b[0m\u001b[0m\n\u001b[0m\u001b[1;32m   2801\u001b[0m             \u001b[0;32mif\u001b[0m \u001b[0mis_integer\u001b[0m\u001b[0;34m(\u001b[0m\u001b[0mindexer\u001b[0m\u001b[0;34m)\u001b[0m\u001b[0;34m:\u001b[0m\u001b[0;34m\u001b[0m\u001b[0;34m\u001b[0m\u001b[0m\n\u001b[1;32m   2802\u001b[0m                 \u001b[0mindexer\u001b[0m \u001b[0;34m=\u001b[0m \u001b[0;34m[\u001b[0m\u001b[0mindexer\u001b[0m\u001b[0;34m]\u001b[0m\u001b[0;34m\u001b[0m\u001b[0;34m\u001b[0m\u001b[0m\n",
            "\u001b[0;32m/usr/local/lib/python3.6/dist-packages/pandas/core/indexes/base.py\u001b[0m in \u001b[0;36mget_loc\u001b[0;34m(self, key, method, tolerance)\u001b[0m\n\u001b[1;32m   2646\u001b[0m                 \u001b[0;32mreturn\u001b[0m \u001b[0mself\u001b[0m\u001b[0;34m.\u001b[0m\u001b[0m_engine\u001b[0m\u001b[0;34m.\u001b[0m\u001b[0mget_loc\u001b[0m\u001b[0;34m(\u001b[0m\u001b[0mkey\u001b[0m\u001b[0;34m)\u001b[0m\u001b[0;34m\u001b[0m\u001b[0;34m\u001b[0m\u001b[0m\n\u001b[1;32m   2647\u001b[0m             \u001b[0;32mexcept\u001b[0m \u001b[0mKeyError\u001b[0m\u001b[0;34m:\u001b[0m\u001b[0;34m\u001b[0m\u001b[0;34m\u001b[0m\u001b[0m\n\u001b[0;32m-> 2648\u001b[0;31m                 \u001b[0;32mreturn\u001b[0m \u001b[0mself\u001b[0m\u001b[0;34m.\u001b[0m\u001b[0m_engine\u001b[0m\u001b[0;34m.\u001b[0m\u001b[0mget_loc\u001b[0m\u001b[0;34m(\u001b[0m\u001b[0mself\u001b[0m\u001b[0;34m.\u001b[0m\u001b[0m_maybe_cast_indexer\u001b[0m\u001b[0;34m(\u001b[0m\u001b[0mkey\u001b[0m\u001b[0;34m)\u001b[0m\u001b[0;34m)\u001b[0m\u001b[0;34m\u001b[0m\u001b[0;34m\u001b[0m\u001b[0m\n\u001b[0m\u001b[1;32m   2649\u001b[0m         \u001b[0mindexer\u001b[0m \u001b[0;34m=\u001b[0m \u001b[0mself\u001b[0m\u001b[0;34m.\u001b[0m\u001b[0mget_indexer\u001b[0m\u001b[0;34m(\u001b[0m\u001b[0;34m[\u001b[0m\u001b[0mkey\u001b[0m\u001b[0;34m]\u001b[0m\u001b[0;34m,\u001b[0m \u001b[0mmethod\u001b[0m\u001b[0;34m=\u001b[0m\u001b[0mmethod\u001b[0m\u001b[0;34m,\u001b[0m \u001b[0mtolerance\u001b[0m\u001b[0;34m=\u001b[0m\u001b[0mtolerance\u001b[0m\u001b[0;34m)\u001b[0m\u001b[0;34m\u001b[0m\u001b[0;34m\u001b[0m\u001b[0m\n\u001b[1;32m   2650\u001b[0m         \u001b[0;32mif\u001b[0m \u001b[0mindexer\u001b[0m\u001b[0;34m.\u001b[0m\u001b[0mndim\u001b[0m \u001b[0;34m>\u001b[0m \u001b[0;36m1\u001b[0m \u001b[0;32mor\u001b[0m \u001b[0mindexer\u001b[0m\u001b[0;34m.\u001b[0m\u001b[0msize\u001b[0m \u001b[0;34m>\u001b[0m \u001b[0;36m1\u001b[0m\u001b[0;34m:\u001b[0m\u001b[0;34m\u001b[0m\u001b[0;34m\u001b[0m\u001b[0m\n",
            "\u001b[0;32mpandas/_libs/index.pyx\u001b[0m in \u001b[0;36mpandas._libs.index.IndexEngine.get_loc\u001b[0;34m()\u001b[0m\n",
            "\u001b[0;32mpandas/_libs/index.pyx\u001b[0m in \u001b[0;36mpandas._libs.index.IndexEngine.get_loc\u001b[0;34m()\u001b[0m\n",
            "\u001b[0;32mpandas/_libs/hashtable_class_helper.pxi\u001b[0m in \u001b[0;36mpandas._libs.hashtable.PyObjectHashTable.get_item\u001b[0;34m()\u001b[0m\n",
            "\u001b[0;32mpandas/_libs/hashtable_class_helper.pxi\u001b[0m in \u001b[0;36mpandas._libs.hashtable.PyObjectHashTable.get_item\u001b[0;34m()\u001b[0m\n",
            "\u001b[0;31mKeyError\u001b[0m: 'category_TIN'"
          ]
        }
      ]
    },
    {
      "cell_type": "markdown",
      "metadata": {
        "id": "mwxnd29E0lLP",
        "colab_type": "text"
      },
      "source": [
        "**Property of dataset**\n",
        "\n",
        "*   **Length of text:** [2, 60]\n",
        "\n",
        "*   **label:** \n",
        "1.   label = 0: 7072\n",
        "2.   label = 1: 3520\n",
        "\n",
        "* Among label = 1: \\\\\n",
        "1.   category_TIN = 1: 3089\n",
        "2.   category_UNT = 1: 431\n",
        "\n"
      ]
    },
    {
      "cell_type": "markdown",
      "metadata": {
        "id": "0VD0DcUi-mGZ",
        "colab_type": "text"
      },
      "source": [
        "Word cloud"
      ]
    },
    {
      "cell_type": "code",
      "metadata": {
        "id": "ouIzGaJMZA6c",
        "colab_type": "code",
        "colab": {}
      },
      "source": [
        "# word cloud\n",
        "normal_df = train_df.loc[train_df.label == 0]\n",
        "abusive_df = train_df.loc[train_df.label == 1]\n",
        "\n",
        "normal_text_array = np.array(normal_df['text'])\n",
        "abusive_text_array = np.array(abusive_df['text'])\n",
        "\n",
        "normal_text = ''.join(normal_text_array)\n",
        "abusive_text = ''.join(abusive_text_array)\n",
        "\n",
        "logging.info(\"convert to text finished\")"
      ],
      "execution_count": 0,
      "outputs": []
    },
    {
      "cell_type": "code",
      "metadata": {
        "id": "HfupiI1PZA6f",
        "colab_type": "code",
        "outputId": "51efe8e9-a192-45c8-fd77-8eb06b205751",
        "colab": {
          "base_uri": "https://localhost:8080/",
          "height": 379
        }
      },
      "source": [
        "# normal\n",
        "wordcloud = WordCloud(background_color=\"white\").generate(normal_text)\n",
        "plt.imshow(wordcloud, interpolation='bilinear')\n",
        "plt.axis(\"off\")\n",
        "plt.show()\n",
        "\n",
        "# abusive\n",
        "wordcloud = WordCloud(background_color=\"white\").generate(abusive_text)\n",
        "plt.imshow(wordcloud, interpolation='bilinear')\n",
        "plt.axis(\"off\")\n",
        "plt.show()"
      ],
      "execution_count": 0,
      "outputs": [
        {
          "output_type": "display_data",
          "data": {
            "image/png": "[encoded data removed]",
            "text/plain": [
              "<Figure size 432x288 with 1 Axes>"
            ]
          },
          "metadata": {
            "tags": [],
            "needs_background": "light"
          }
        },
        {
          "output_type": "display_data",
          "data": {
            "image/png": "[encoded data removed]",
            "text/plain": [
              "<Figure size 432x288 with 1 Axes>"
            ]
          },
          "metadata": {
            "tags": [],
            "needs_background": "light"
          }
        }
      ]
    },
    {
      "cell_type": "markdown",
      "metadata": {
        "id": "g6rcUOlh_IOy",
        "colab_type": "text"
      },
      "source": [
        "Delete some common words"
      ]
    },
    {
      "cell_type": "code",
      "metadata": {
        "id": "In65Isr_Am-I",
        "colab_type": "code",
        "colab": {}
      },
      "source": [
        "normal_text = normal_text.replace('liberal','',1000).replace('people','',1000).replace('will','',1000)\n",
        "abusive_text = abusive_text.replace('liberal','',1000).replace('people','',1000).replace('will','',1000)"
      ],
      "execution_count": 0,
      "outputs": []
    },
    {
      "cell_type": "code",
      "metadata": {
        "id": "7GXy9WegBJwy",
        "colab_type": "code",
        "outputId": "de7b2b57-b876-4bd4-ddf9-f131a4273dca",
        "colab": {
          "base_uri": "https://localhost:8080/",
          "height": 395
        }
      },
      "source": [
        "# normal\n",
        "wordcloud = WordCloud(background_color=\"white\").generate(normal_text)\n",
        "plt.imshow(wordcloud, interpolation='bilinear')\n",
        "plt.axis(\"off\")\n",
        "plt.show()\n",
        "\n",
        "# abusive\n",
        "wordcloud = WordCloud(background_color=\"white\").generate(abusive_text)\n",
        "plt.imshow(wordcloud, interpolation='bilinear')\n",
        "plt.axis(\"off\")\n",
        "plt.show()"
      ],
      "execution_count": 102,
      "outputs": [
        {
          "output_type": "error",
          "ename": "ValueError",
          "evalue": "ignored",
          "traceback": [
            "\u001b[0;31m---------------------------------------------------------------------------\u001b[0m",
            "\u001b[0;31mValueError\u001b[0m                                Traceback (most recent call last)",
            "\u001b[0;32m<ipython-input-102-1de487a92cd6>\u001b[0m in \u001b[0;36m<module>\u001b[0;34m()\u001b[0m\n\u001b[1;32m      1\u001b[0m \u001b[0;31m# normal\u001b[0m\u001b[0;34m\u001b[0m\u001b[0;34m\u001b[0m\u001b[0;34m\u001b[0m\u001b[0m\n\u001b[0;32m----> 2\u001b[0;31m \u001b[0mwordcloud\u001b[0m \u001b[0;34m=\u001b[0m \u001b[0mWordCloud\u001b[0m\u001b[0;34m(\u001b[0m\u001b[0mbackground_color\u001b[0m\u001b[0;34m=\u001b[0m\u001b[0;34m\"white\"\u001b[0m\u001b[0;34m)\u001b[0m\u001b[0;34m.\u001b[0m\u001b[0mgenerate\u001b[0m\u001b[0;34m(\u001b[0m\u001b[0mnormal_text\u001b[0m\u001b[0;34m)\u001b[0m\u001b[0;34m\u001b[0m\u001b[0;34m\u001b[0m\u001b[0m\n\u001b[0m\u001b[1;32m      3\u001b[0m \u001b[0mplt\u001b[0m\u001b[0;34m.\u001b[0m\u001b[0mimshow\u001b[0m\u001b[0;34m(\u001b[0m\u001b[0mwordcloud\u001b[0m\u001b[0;34m,\u001b[0m \u001b[0minterpolation\u001b[0m\u001b[0;34m=\u001b[0m\u001b[0;34m'bilinear'\u001b[0m\u001b[0;34m)\u001b[0m\u001b[0;34m\u001b[0m\u001b[0;34m\u001b[0m\u001b[0m\n\u001b[1;32m      4\u001b[0m \u001b[0mplt\u001b[0m\u001b[0;34m.\u001b[0m\u001b[0maxis\u001b[0m\u001b[0;34m(\u001b[0m\u001b[0;34m\"off\"\u001b[0m\u001b[0;34m)\u001b[0m\u001b[0;34m\u001b[0m\u001b[0;34m\u001b[0m\u001b[0m\n\u001b[1;32m      5\u001b[0m \u001b[0mplt\u001b[0m\u001b[0;34m.\u001b[0m\u001b[0mshow\u001b[0m\u001b[0;34m(\u001b[0m\u001b[0;34m)\u001b[0m\u001b[0;34m\u001b[0m\u001b[0;34m\u001b[0m\u001b[0m\n",
            "\u001b[0;32m/usr/local/lib/python3.6/dist-packages/wordcloud/wordcloud.py\u001b[0m in \u001b[0;36mgenerate\u001b[0;34m(self, text)\u001b[0m\n\u001b[1;32m    603\u001b[0m         \u001b[0mself\u001b[0m\u001b[0;34m\u001b[0m\u001b[0;34m\u001b[0m\u001b[0m\n\u001b[1;32m    604\u001b[0m         \"\"\"\n\u001b[0;32m--> 605\u001b[0;31m         \u001b[0;32mreturn\u001b[0m \u001b[0mself\u001b[0m\u001b[0;34m.\u001b[0m\u001b[0mgenerate_from_text\u001b[0m\u001b[0;34m(\u001b[0m\u001b[0mtext\u001b[0m\u001b[0;34m)\u001b[0m\u001b[0;34m\u001b[0m\u001b[0;34m\u001b[0m\u001b[0m\n\u001b[0m\u001b[1;32m    606\u001b[0m \u001b[0;34m\u001b[0m\u001b[0m\n\u001b[1;32m    607\u001b[0m     \u001b[0;32mdef\u001b[0m \u001b[0m_check_generated\u001b[0m\u001b[0;34m(\u001b[0m\u001b[0mself\u001b[0m\u001b[0;34m)\u001b[0m\u001b[0;34m:\u001b[0m\u001b[0;34m\u001b[0m\u001b[0;34m\u001b[0m\u001b[0m\n",
            "\u001b[0;32m/usr/local/lib/python3.6/dist-packages/wordcloud/wordcloud.py\u001b[0m in \u001b[0;36mgenerate_from_text\u001b[0;34m(self, text)\u001b[0m\n\u001b[1;32m    585\u001b[0m         \"\"\"\n\u001b[1;32m    586\u001b[0m         \u001b[0mwords\u001b[0m \u001b[0;34m=\u001b[0m \u001b[0mself\u001b[0m\u001b[0;34m.\u001b[0m\u001b[0mprocess_text\u001b[0m\u001b[0;34m(\u001b[0m\u001b[0mtext\u001b[0m\u001b[0;34m)\u001b[0m\u001b[0;34m\u001b[0m\u001b[0;34m\u001b[0m\u001b[0m\n\u001b[0;32m--> 587\u001b[0;31m         \u001b[0mself\u001b[0m\u001b[0;34m.\u001b[0m\u001b[0mgenerate_from_frequencies\u001b[0m\u001b[0;34m(\u001b[0m\u001b[0mwords\u001b[0m\u001b[0;34m)\u001b[0m\u001b[0;34m\u001b[0m\u001b[0;34m\u001b[0m\u001b[0m\n\u001b[0m\u001b[1;32m    588\u001b[0m         \u001b[0;32mreturn\u001b[0m \u001b[0mself\u001b[0m\u001b[0;34m\u001b[0m\u001b[0;34m\u001b[0m\u001b[0m\n\u001b[1;32m    589\u001b[0m \u001b[0;34m\u001b[0m\u001b[0m\n",
            "\u001b[0;32m/usr/local/lib/python3.6/dist-packages/wordcloud/wordcloud.py\u001b[0m in \u001b[0;36mgenerate_from_frequencies\u001b[0;34m(self, frequencies, max_font_size)\u001b[0m\n\u001b[1;32m    381\u001b[0m         \u001b[0;32mif\u001b[0m \u001b[0mlen\u001b[0m\u001b[0;34m(\u001b[0m\u001b[0mfrequencies\u001b[0m\u001b[0;34m)\u001b[0m \u001b[0;34m<=\u001b[0m \u001b[0;36m0\u001b[0m\u001b[0;34m:\u001b[0m\u001b[0;34m\u001b[0m\u001b[0;34m\u001b[0m\u001b[0m\n\u001b[1;32m    382\u001b[0m             raise ValueError(\"We need at least 1 word to plot a word cloud, \"\n\u001b[0;32m--> 383\u001b[0;31m                              \"got %d.\" % len(frequencies))\n\u001b[0m\u001b[1;32m    384\u001b[0m         \u001b[0mfrequencies\u001b[0m \u001b[0;34m=\u001b[0m \u001b[0mfrequencies\u001b[0m\u001b[0;34m[\u001b[0m\u001b[0;34m:\u001b[0m\u001b[0mself\u001b[0m\u001b[0;34m.\u001b[0m\u001b[0mmax_words\u001b[0m\u001b[0;34m]\u001b[0m\u001b[0;34m\u001b[0m\u001b[0;34m\u001b[0m\u001b[0m\n\u001b[1;32m    385\u001b[0m \u001b[0;34m\u001b[0m\u001b[0m\n",
            "\u001b[0;31mValueError\u001b[0m: We need at least 1 word to plot a word cloud, got 0."
          ]
        }
      ]
    },
    {
      "cell_type": "markdown",
      "metadata": {
        "id": "7kCi_RoLE8wP",
        "colab_type": "text"
      },
      "source": [
        "# Split data to X and y"
      ]
    },
    {
      "cell_type": "markdown",
      "metadata": {
        "id": "K8D_XrHPEaIV",
        "colab_type": "text"
      },
      "source": [
        "Split data to X and y"
      ]
    },
    {
      "cell_type": "code",
      "metadata": {
        "id": "vHcgmnATZA6k",
        "colab_type": "code",
        "outputId": "741807d1-ef34-43cc-83c7-0c1fb38eccea",
        "colab": {
          "base_uri": "https://localhost:8080/",
          "height": 187
        }
      },
      "source": [
        "def split_train_val(train_df, val_df, test_df):\n",
        "    logging.info('splitting X and y ...')\n",
        "    train_X = train_df[\"text\"].fillna(\"_na_\").values\n",
        "    val_X = val_df[\"text\"].fillna(\"_na_\").values\n",
        "    test_X = test_df[\"text\"].fillna(\"_na_\").values\n",
        "\n",
        "    train_y = train_df['category'].values\n",
        "    val_y = val_df['category'].values\n",
        "\n",
        "    logging.info('finished splitting X and y')\n",
        "    return train_X, val_X, test_X, train_y, val_y\n",
        "\n",
        "train_X, val_X, test_X, train_y, val_y = split_train_val(train_df, val_df, test_df)"
      ],
      "execution_count": 103,
      "outputs": [
        {
          "output_type": "stream",
          "text": [
            "2020-05-17 19:40:02 INFO     splitting X and y ...\n",
            "2020-05-17 19:40:02 INFO     splitting X and y ...\n",
            "2020-05-17 19:40:02 INFO     splitting X and y ...\n",
            "2020-05-17 19:40:02 INFO     splitting X and y ...\n",
            "2020-05-17 19:40:02 INFO     splitting X and y ...\n",
            "2020-05-17 19:40:02 INFO     finished splitting X and y\n",
            "2020-05-17 19:40:02 INFO     finished splitting X and y\n",
            "2020-05-17 19:40:02 INFO     finished splitting X and y\n",
            "2020-05-17 19:40:02 INFO     finished splitting X and y\n",
            "2020-05-17 19:40:02 INFO     finished splitting X and y\n"
          ],
          "name": "stdout"
        }
      ]
    },
    {
      "cell_type": "code",
      "metadata": {
        "id": "rdk4s-pCZA6o",
        "colab_type": "code",
        "outputId": "a6c0033c-5950-4b0a-9d00-d2c557aa00f0",
        "colab": {
          "base_uri": "https://localhost:8080/",
          "height": 51
        }
      },
      "source": [
        "print(train_X.shape, train_y.shape)\n",
        "print(val_X.shape, val_y.shape)"
      ],
      "execution_count": 104,
      "outputs": [
        {
          "output_type": "stream",
          "text": [
            "(3520,) (3520,)\n",
            "(440,) (440,)\n"
          ],
          "name": "stdout"
        }
      ]
    },
    {
      "cell_type": "markdown",
      "metadata": {
        "id": "feMxvs73D-gx",
        "colab_type": "text"
      },
      "source": [
        "Tokenize and padding each sentence, split datafram to attributes and labels"
      ]
    },
    {
      "cell_type": "code",
      "metadata": {
        "id": "tNGTN3kVZA6m",
        "colab_type": "code",
        "outputId": "564bec97-12b6-4e9a-f3bf-687fd8290e8e",
        "colab": {
          "base_uri": "https://localhost:8080/",
          "height": 272
        }
      },
      "source": [
        "# each word embedding to 300 dimension\n",
        "embed_size = 300\n",
        "# count of vocabulary words\n",
        "max_features = 50000\n",
        "# length of each sentences\n",
        "max_len = 70\n",
        "\n",
        "def token_sentence(train_X, val_X, test_X ):\n",
        "    logging.info('tokenizing sentence...')\n",
        "    tokenizer = Tokenizer(num_words=max_features)\n",
        "    tokenizer.fit_on_texts(list(train_X))\n",
        "    train_X = tokenizer.texts_to_sequences(train_X)\n",
        "    val_X = tokenizer.texts_to_sequences(val_X)\n",
        "    test_X = tokenizer.texts_to_sequences(test_X)\n",
        "\n",
        "    logging.info('padding sentence...')\n",
        "    train_X = pad_sequences(train_X, maxlen=max_len)\n",
        "    val_X = pad_sequences(val_X, maxlen=max_len)\n",
        "    test_X = pad_sequences(test_X, maxlen=max_len)\n",
        "\n",
        "    logging.info('all finished...')\n",
        "    return train_X, val_X, test_X, tokenizer\n",
        "\n",
        "train_X, val_X, test_X, tokenizer = token_sentence(train_X, val_X, test_X)\n"
      ],
      "execution_count": 105,
      "outputs": [
        {
          "output_type": "stream",
          "text": [
            "2020-05-17 19:40:23 INFO     tokenizing sentence...\n",
            "2020-05-17 19:40:23 INFO     tokenizing sentence...\n",
            "2020-05-17 19:40:23 INFO     tokenizing sentence...\n",
            "2020-05-17 19:40:23 INFO     tokenizing sentence...\n",
            "2020-05-17 19:40:23 INFO     tokenizing sentence...\n",
            "2020-05-17 19:40:23 INFO     padding sentence...\n",
            "2020-05-17 19:40:23 INFO     padding sentence...\n",
            "2020-05-17 19:40:23 INFO     padding sentence...\n",
            "2020-05-17 19:40:23 INFO     padding sentence...\n",
            "2020-05-17 19:40:23 INFO     padding sentence...\n",
            "2020-05-17 19:40:23 INFO     all finished...\n",
            "2020-05-17 19:40:23 INFO     all finished...\n",
            "2020-05-17 19:40:23 INFO     all finished...\n",
            "2020-05-17 19:40:23 INFO     all finished...\n",
            "2020-05-17 19:40:23 INFO     all finished...\n"
          ],
          "name": "stdout"
        }
      ]
    },
    {
      "cell_type": "code",
      "metadata": {
        "id": "NBUErOp_QEK9",
        "colab_type": "code",
        "outputId": "b729b92e-df2f-42c4-edc1-c410da5ec504",
        "colab": {
          "base_uri": "https://localhost:8080/",
          "height": 34
        }
      },
      "source": [
        "train_X.shape"
      ],
      "execution_count": 106,
      "outputs": [
        {
          "output_type": "execute_result",
          "data": {
            "text/plain": [
              "(3520, 70)"
            ]
          },
          "metadata": {
            "tags": []
          },
          "execution_count": 106
        }
      ]
    },
    {
      "cell_type": "markdown",
      "metadata": {
        "id": "AenyxjOSMCDL",
        "colab_type": "text"
      },
      "source": [
        "# Train model"
      ]
    },
    {
      "cell_type": "markdown",
      "metadata": {
        "id": "QL2IvlW8qLJQ",
        "colab_type": "text"
      },
      "source": [
        "## Model1: base line"
      ]
    },
    {
      "cell_type": "code",
      "metadata": {
        "id": "0-uZ5egkQd58",
        "colab_type": "code",
        "colab": {}
      },
      "source": [
        "from sklearn import tree\n",
        "from sklearn.linear_model import LogisticRegression\n",
        "from sklearn.naive_bayes import GaussianNB\n",
        "\n",
        "from sklearn.metrics import accuracy_score, f1_score\n",
        "from sklearn.metrics import precision_score\n",
        "from sklearn.metrics import recall_score\n",
        "from sklearn.metrics import confusion_matrix\n",
        "\n",
        "# precision is the ratio tp / (tp + fp)\n",
        "# recall is the ratio tp / (tp + fn)\n",
        "# F1 = 2 * (precision * recall) / (precision + recall)"
      ],
      "execution_count": 0,
      "outputs": []
    },
    {
      "cell_type": "markdown",
      "metadata": {
        "id": "pYDgYFtKqO40",
        "colab_type": "text"
      },
      "source": [
        "### Decision tree"
      ]
    },
    {
      "cell_type": "code",
      "metadata": {
        "id": "odb9nd5WQST8",
        "colab_type": "code",
        "colab": {}
      },
      "source": [
        "def dt_model(train_X, train_y, val_X, cal_y):\n",
        "    dt_clf = tree.DecisionTreeClassifier()\n",
        "    dt_clf = dt_clf.fit(train_X, train_y)\n",
        "    pred_val_y = dt_clf.predict(val_X).reshape(-1,1)\n",
        "    \n",
        "    tn, fp, fn, tp = confusion_matrix(pred_val_y, val_y).ravel()\n",
        "    print('tn', tn, 'fp', fp, 'fn', fn, 'tp', tp)\n",
        "\n",
        "    dt_acc = accuracy_score(pred_val_y, val_y)\n",
        "    dt_precision = precision_score(pred_val_y, val_y)\n",
        "    dt_recall = recall_score(pred_val_y, val_y)\n",
        "    dt_f1_score = f1_score(pred_val_y, val_y)\n",
        "    return dt_acc, dt_precision, dt_recall, dt_f1_score "
      ],
      "execution_count": 0,
      "outputs": []
    },
    {
      "cell_type": "code",
      "metadata": {
        "id": "6NbcgKG1RcQL",
        "colab_type": "code",
        "outputId": "6c581d11-35fd-4a07-be90-53634bfcecc7",
        "colab": {
          "base_uri": "https://localhost:8080/",
          "height": 71
        }
      },
      "source": [
        "dt_acc, dt_precision, dt_recall, dt_f1_score= dt_model(train_X, train_y, val_X, val_y)\n",
        "print('dt_acc: ', dt_acc, 'dt_precision: ', dt_precision, 'dt_recall: ',dt_recall,', dt_f1_score: ',  dt_f1_score)"
      ],
      "execution_count": 109,
      "outputs": [
        {
          "output_type": "stream",
          "text": [
            "tn 9 fp 48 fn 35 tp 348\n",
            "dt_acc:  0.8113636363636364 dt_precision:  0.8787878787878788 dt_recall:  0.9086161879895561 , dt_f1_score:  0.8934531450577664\n"
          ],
          "name": "stdout"
        }
      ]
    },
    {
      "cell_type": "markdown",
      "metadata": {
        "id": "63QJAP9RqSle",
        "colab_type": "text"
      },
      "source": [
        "### LogisticRegression"
      ]
    },
    {
      "cell_type": "code",
      "metadata": {
        "id": "J-FpKqDpWoiD",
        "colab_type": "code",
        "colab": {}
      },
      "source": [
        "def lr_model(train_X, train_y, val_X, cal_y):\n",
        "    lr_clf = LogisticRegression(random_state=0, max_iter=4000).fit(train_X, train_y)\n",
        "    pred_val_y = lr_clf.predict(val_X).reshape(-1,1)\n",
        "\n",
        "    tn, fp, fn, tp = confusion_matrix(pred_val_y, val_y).ravel()\n",
        "    print('tn', tn, 'fp', fp, 'fn', fn, 'tp', tp)\n",
        "\n",
        "    lr_acc = accuracy_score(pred_val_y, val_y)\n",
        "    lr_precision = precision_score(pred_val_y, val_y)\n",
        "    lr_recall = recall_score(pred_val_y, val_y)\n",
        "    lr_f1_score = f1_score(pred_val_y, val_y)\n",
        "    return lr_acc, lr_precision, lr_recall, lr_f1_score"
      ],
      "execution_count": 0,
      "outputs": []
    },
    {
      "cell_type": "code",
      "metadata": {
        "id": "W8B44OR0W_vF",
        "colab_type": "code",
        "outputId": "ddcb6517-b678-4153-d9f8-c60ec498a998",
        "colab": {
          "base_uri": "https://localhost:8080/",
          "height": 68
        }
      },
      "source": [
        "lr_acc, lr_precision, lr_recall, lr_f1_score = lr_model(train_X, train_y, val_X, val_y)\n",
        "print('lr_precision', lr_precision, 'lr_recall', lr_recall)\n",
        "print('lr_acc: ', lr_acc, ', lr_f1_score: ',  lr_f1_score)"
      ],
      "execution_count": 0,
      "outputs": [
        {
          "output_type": "stream",
          "text": [
            "tn 881 fp 439 fn 3 tp 1\n",
            "lr_precision 0.0022727272727272726 lr_recall 0.25\n",
            "lr_acc:  0.6661631419939577 , lr_f1_score:  0.0045045045045045045\n"
          ],
          "name": "stdout"
        }
      ]
    },
    {
      "cell_type": "markdown",
      "metadata": {
        "id": "_i7BpltoqZza",
        "colab_type": "text"
      },
      "source": [
        "### GaussianNB"
      ]
    },
    {
      "cell_type": "code",
      "metadata": {
        "id": "_RDWko-oXO9N",
        "colab_type": "code",
        "colab": {}
      },
      "source": [
        "def gNB_model(train_X, train_y, val_X, cal_y):\n",
        "    gNB_clf = GaussianNB()\n",
        "    gNB_clf = gNB_clf.fit(train_X, train_y)\n",
        "    pred_val_y = gNB_clf.predict(val_X).reshape(-1,1)\n",
        "\n",
        "    tn, fp, fn, tp = confusion_matrix(pred_val_y, val_y).ravel()\n",
        "    print('tn', tn, 'fp', fp, 'fn', fn, 'tp', tp)\n",
        "\n",
        "    gNB_acc = accuracy_score(pred_val_y, val_y)\n",
        "    gNB_precision = precision_score(pred_val_y, val_y)\n",
        "    gNB_recall = recall_score(pred_val_y, val_y)\n",
        "    gNB_f1_score = f1_score(pred_val_y, val_y)\n",
        "    return gNB_acc, gNB_precision, gNB_recall, gNB_f1_score"
      ],
      "execution_count": 0,
      "outputs": []
    },
    {
      "cell_type": "code",
      "metadata": {
        "id": "heu4JLHgX164",
        "colab_type": "code",
        "outputId": "8d1c9a1d-e2c0-4796-cb9d-a1ab93a70783",
        "colab": {
          "base_uri": "https://localhost:8080/",
          "height": 71
        }
      },
      "source": [
        "gNB_acc, gNB_precision, gNB_recall, gNB_f1_score = gNB_model(train_X, train_y, val_X, val_y)\n",
        "print('gNB_acc: ', gNB_acc, 'gNB_precision: ', gNB_precision, 'gNB_recall:', gNB_recall, 'gNB_f1_score: ',  gNB_f1_score)"
      ],
      "execution_count": 0,
      "outputs": [
        {
          "output_type": "stream",
          "text": [
            "tn 1 fp 1 fn 883 tp 439\n",
            "gNB_acc:  0.3323262839879154 gNB_precision:  0.9977272727272727 gNB_recall: 0.3320726172465961 gNB_f1_score:  0.49829738933030654\n"
          ],
          "name": "stdout"
        }
      ]
    },
    {
      "cell_type": "markdown",
      "metadata": {
        "id": "REnqEUw_kKI8",
        "colab_type": "text"
      },
      "source": [
        "## Model2 : LSTM + Without Pretrained Embeddings:"
      ]
    },
    {
      "cell_type": "code",
      "metadata": {
        "id": "G9wKqZveyapX",
        "colab_type": "code",
        "outputId": "3ae370a2-5c33-4745-eef5-d2cc8fd04cbc",
        "colab": {
          "base_uri": "https://localhost:8080/",
          "height": 323
        }
      },
      "source": [
        "import tensorflow as tf\n",
        "from tensorflow.keras import layers\n",
        "\n",
        "model = tf.keras.Sequential()\n",
        "\n",
        "# Add an Embedding layer expecting input vocab of size 50000, and\n",
        "# output embedding dimension of size 300.\n",
        "model.add(layers.Embedding(input_dim=50000, output_dim=300))\n",
        "\n",
        "# Add a LSTM layer with 128 internal units.\n",
        "model.add(layers.LSTM(128))\n",
        "model.add(layers.Dense(10,activation=\"relu\"))\n",
        "model.add(layers.Dropout(0.2))\n",
        "model.add(layers.Dense(1, activation=\"sigmoid\"))\n",
        "\n",
        "model.summary()"
      ],
      "execution_count": 0,
      "outputs": [
        {
          "output_type": "stream",
          "text": [
            "Model: \"sequential\"\n",
            "_________________________________________________________________\n",
            "Layer (type)                 Output Shape              Param #   \n",
            "=================================================================\n",
            "embedding (Embedding)        (None, None, 300)         15000000  \n",
            "_________________________________________________________________\n",
            "lstm (LSTM)                  (None, 128)               219648    \n",
            "_________________________________________________________________\n",
            "dense (Dense)                (None, 10)                1290      \n",
            "_________________________________________________________________\n",
            "dropout (Dropout)            (None, 10)                0         \n",
            "_________________________________________________________________\n",
            "dense_1 (Dense)              (None, 1)                 11        \n",
            "=================================================================\n",
            "Total params: 15,220,949\n",
            "Trainable params: 15,220,949\n",
            "Non-trainable params: 0\n",
            "_________________________________________________________________\n"
          ],
          "name": "stdout"
        }
      ]
    },
    {
      "cell_type": "code",
      "metadata": {
        "id": "71VTQNZjzgn9",
        "colab_type": "code",
        "outputId": "86c01a1d-4e0b-43f5-9691-c12dde026555",
        "colab": {
          "base_uri": "https://localhost:8080/",
          "height": 173
        }
      },
      "source": [
        "model.compile(loss='binary_crossentropy', optimizer='adam', metrics=['accuracy'])\n",
        "\n",
        "from tensorflow.keras.callbacks import EarlyStopping\n",
        "callbacks = EarlyStopping(monitor='val_loss', min_delta=0, patience = 2)\n",
        "history = model.fit(train_X, \n",
        "                    train_y, \n",
        "                    batch_size=512, \n",
        "                    epochs=14, \n",
        "                    validation_data=(val_X, val_y),\n",
        "                    callbacks=callbacks\n",
        "                    )"
      ],
      "execution_count": 0,
      "outputs": [
        {
          "output_type": "stream",
          "text": [
            "Epoch 1/14\n",
            "21/21 [==============================] - 26s 1s/step - loss: 0.6411 - accuracy: 0.6634 - val_loss: 0.6224 - val_accuracy: 0.6677\n",
            "Epoch 2/14\n",
            "21/21 [==============================] - 25s 1s/step - loss: 0.5697 - accuracy: 0.6859 - val_loss: 0.5799 - val_accuracy: 0.6903\n",
            "Epoch 3/14\n",
            "21/21 [==============================] - 25s 1s/step - loss: 0.4241 - accuracy: 0.8266 - val_loss: 0.5858 - val_accuracy: 0.7236\n",
            "Epoch 4/14\n",
            "21/21 [==============================] - 25s 1s/step - loss: 0.2720 - accuracy: 0.9041 - val_loss: 0.6918 - val_accuracy: 0.6971\n"
          ],
          "name": "stdout"
        }
      ]
    },
    {
      "cell_type": "code",
      "metadata": {
        "id": "MiaEcGWWZA6v",
        "colab_type": "code",
        "outputId": "3aead79f-484b-4d0f-e236-5db4ef2e7433",
        "colab": {
          "base_uri": "https://localhost:8080/",
          "height": 573
        }
      },
      "source": [
        "# plot history\n",
        "# Plot training & validation accuracy values\n",
        "import matplotlib.pyplot as plt \n",
        "plt.plot(history.history['accuracy'])\n",
        "plt.plot(history.history['val_accuracy'])\n",
        "plt.title('Model accuracy')\n",
        "plt.ylabel('Accuracy')\n",
        "plt.xlabel('Epoch')\n",
        "plt.legend(['Train', 'Val'], loc='upper left')\n",
        "plt.show()\n",
        "\n",
        "# Plot training & validation loss values\n",
        "plt.plot(history.history['loss'])\n",
        "plt.plot(history.history['val_loss'])\n",
        "plt.title('Model loss')\n",
        "plt.ylabel('Loss')\n",
        "plt.xlabel('Epoch')\n",
        "plt.legend(['Train', 'Val'], loc='upper left')\n",
        "plt.show()"
      ],
      "execution_count": 0,
      "outputs": [
        {
          "output_type": "display_data",
          "data": {
            "image/png": "[encoded data removed]",
            "text/plain": [
              "<Figure size 432x288 with 1 Axes>"
            ]
          },
          "metadata": {
            "tags": [],
            "needs_background": "light"
          }
        },
        {
          "output_type": "display_data",
          "data": {
            "image/png": "[encoded data removed]",
            "text/plain": [
              "<Figure size 432x288 with 1 Axes>"
            ]
          },
          "metadata": {
            "tags": [],
            "needs_background": "light"
          }
        }
      ]
    },
    {
      "cell_type": "code",
      "metadata": {
        "id": "FntfkhFlRKfQ",
        "colab_type": "code",
        "outputId": "0ee53b5b-c587-4aa4-c19e-bc4a8d28d2c9",
        "colab": {
          "base_uri": "https://localhost:8080/",
          "height": 153
        }
      },
      "source": [
        "pred_noemb_val_y = model.predict([val_X], batch_size=1024, verbose=1)\n",
        "print(pred_noemb_val_y)"
      ],
      "execution_count": 0,
      "outputs": [
        {
          "output_type": "stream",
          "text": [
            "2/2 [==============================] - 0s 121ms/step\n",
            "[[0.01626626]\n",
            " [0.44740385]\n",
            " [0.07183039]\n",
            " ...\n",
            " [0.10910358]\n",
            " [0.88955307]\n",
            " [0.35217392]]\n"
          ],
          "name": "stdout"
        }
      ]
    },
    {
      "cell_type": "code",
      "metadata": {
        "id": "gGPsgb7IQDsg",
        "colab_type": "code",
        "outputId": "0f29e568-2e5e-4385-e430-76baf1417d29",
        "colab": {
          "base_uri": "https://localhost:8080/",
          "height": 71
        }
      },
      "source": [
        "# validation the model(confusion matrix)\n",
        "def rnn_confusion_matrix(pred_noemb_val_y, val_y):\n",
        "    pred_val_y = pred_noemb_val_y > 0.5\n",
        "    tn, fp, fn, tp = confusion_matrix(pred_val_y, val_y).ravel()\n",
        "    print('tn', tn, 'fp', fp, 'fn', fn, 'tp', tp)\n",
        "\n",
        "    lstm_acc = accuracy_score(pred_val_y, val_y)\n",
        "    lstm_precision = precision_score(pred_val_y, val_y)\n",
        "    lstm_recall = recall_score(pred_val_y, val_y)\n",
        "    lstm_f1_score = f1_score(pred_val_y, val_y)\n",
        "    return lstm_acc, lstm_precision, lstm_recall, lstm_f1_score\n",
        "\n",
        "lstm_acc, lstm_precision, lstm_recall, lstm_f1_score = rnn_confusion_matrix(pred_noemb_val_y, val_y)\n",
        "print('lstm_acc: ',lstm_acc, ', lstm_precision: ', lstm_precision, ', lstm_recall: ', lstm_recall, ', lstm_f1_score', lstm_f1_score)"
      ],
      "execution_count": 0,
      "outputs": [
        {
          "output_type": "stream",
          "text": [
            "tn 676 fp 193 fn 208 tp 247\n",
            "lstm_acc:  0.697129909365559 lstm_precision:  0.5613636363636364 lstm_recall:  0.5428571428571428 lstm_f1_score 0.5519553072625699\n"
          ],
          "name": "stdout"
        }
      ]
    },
    {
      "cell_type": "code",
      "metadata": {
        "_uuid": "47b63dca0247a08a808db7ae6eea33065c554948",
        "id": "M4y418b5ZA6x",
        "colab_type": "code",
        "colab": {}
      },
      "source": [
        "# validation the model(f1-score)\n",
        "\n",
        "threshes=[]\n",
        "f1_scores=[]\n",
        "accuracy_scores=[]\n",
        "for thresh in np.arange(0.1, 0.801, 0.01):\n",
        "    thresh = np.round(thresh, 2)\n",
        "    threshes.append(thresh)\n",
        "    # logging.info(\"F1 score at threshold {0} is {1}\".format(thresh, metrics.f1_score(val_y, (pred_noemb_val_y>thresh).astype(int))))\n",
        "    f1_scores.append(metrics.f1_score(val_y, (pred_noemb_val_y>thresh).astype(int)))\n",
        "    # logging.info(\"Accuracy at threshold {0} is {1}\".format(thresh, metrics.accuracy_score(val_y, (pred_noemb_val_y>thresh).astype(int))))\n",
        "    accuracy_scores.append(metrics.accuracy_score(val_y, (pred_noemb_val_y>thresh).astype(int)))\n"
      ],
      "execution_count": 0,
      "outputs": []
    },
    {
      "cell_type": "code",
      "metadata": {
        "id": "aC0KxHrGnewO",
        "colab_type": "code",
        "outputId": "604b637a-542d-4660-f300-da1fb4d52450",
        "colab": {
          "base_uri": "https://localhost:8080/",
          "height": 295
        }
      },
      "source": [
        "# plot two measures\n",
        "plt.plot(threshes, f1_scores, color='blue', label='f1')\n",
        "plt.plot(threshes, accuracy_scores, color='orange', label='acc')\n",
        "plt.title('f1_scores/acc')\n",
        "plt.ylabel('f1_scores/acc')\n",
        "plt.xlabel('threshold')\n",
        "plt.legend()\n",
        "plt.show()"
      ],
      "execution_count": 0,
      "outputs": [
        {
          "output_type": "display_data",
          "data": {
            "image/png": "[encoded data removed]",
            "text/plain": [
              "<Figure size 432x288 with 1 Axes>"
            ]
          },
          "metadata": {
            "tags": [],
            "needs_background": "light"
          }
        }
      ]
    },
    {
      "cell_type": "markdown",
      "metadata": {
        "id": "hJSYLb3ykxyT",
        "colab_type": "text"
      },
      "source": [
        "## Model3: LSTM + Pretrained embeddings\n",
        "\n",
        "Embeddings:\n",
        "glove.840B.300d - https://nlp.stanford.edu/projects/glove/\n",
        "paragram_300_sl999 - https://cogcomp.org/page/resource_view/106\n",
        "\n",
        "It will take several minutes to load this 5G file. Be patient.. \n",
        "\n",
        "\n",
        "\n"
      ]
    },
    {
      "cell_type": "code",
      "metadata": {
        "id": "VS3iwFGqwHvT",
        "colab_type": "code",
        "outputId": "57fd3dca-cbf7-4f61-f85b-d2b54ad4f709",
        "colab": {
          "base_uri": "https://localhost:8080/",
          "height": 51
        }
      },
      "source": [
        "import io\n",
        "embeddings_index = {}\n",
        "logging.info(\"Loading Glove Model\")\n",
        "with io.open(PROJECT_PATH +'/glove.840B.300d.txt', encoding='utf8') as f:\n",
        "    for line in f:\n",
        "        values = line.split()\n",
        "        word = ''.join(values[:-300])\n",
        "        coefs = np.asarray(values[-300:], dtype='float32')\n",
        "        embeddings_index[word] = coefs\n",
        "logging.info(\"Loading Glove Model Done\")"
      ],
      "execution_count": 0,
      "outputs": [
        {
          "output_type": "stream",
          "text": [
            "2020-05-10 06:08:53 INFO     Loading Glove Model\n",
            "2020-05-10 06:12:03 INFO     Loading Glove Model Done\n"
          ],
          "name": "stdout"
        }
      ]
    },
    {
      "cell_type": "code",
      "metadata": {
        "id": "_7fswnbHDI2S",
        "colab_type": "code",
        "outputId": "4860da2b-5532-4223-ca4d-8227d04e52f1",
        "colab": {
          "base_uri": "https://localhost:8080/",
          "height": 88
        }
      },
      "source": [
        "all_embs = np.stack(embeddings_index.values())\n",
        "emb_mean,emb_std = all_embs.mean(), all_embs.std()\n",
        "embed_size = all_embs.shape[1]\n",
        "\n",
        "print(all_embs.shape, emb_mean, emb_std, embed_size )"
      ],
      "execution_count": 0,
      "outputs": [
        {
          "output_type": "stream",
          "text": [
            "/usr/local/lib/python3.6/dist-packages/IPython/core/interactiveshell.py:2822: FutureWarning: arrays to stack must be passed as a \"sequence\" type such as list or tuple. Support for non-sequence iterables such as generators is deprecated as of NumPy 1.16 and will raise an error in the future.\n",
            "  if self.run_code(code, result):\n"
          ],
          "name": "stderr"
        },
        {
          "output_type": "stream",
          "text": [
            "(2195893, 300) -0.005839112 0.48782477 300\n"
          ],
          "name": "stdout"
        }
      ]
    },
    {
      "cell_type": "code",
      "metadata": {
        "id": "uOx2DkzgDS-m",
        "colab_type": "code",
        "outputId": "ed4f282b-5bfc-4a9f-9094-07348ff3072c",
        "colab": {
          "base_uri": "https://localhost:8080/",
          "height": 34
        }
      },
      "source": [
        "word_index = tokenizer.word_index\n",
        "len(word_index)"
      ],
      "execution_count": 0,
      "outputs": [
        {
          "output_type": "execute_result",
          "data": {
            "text/plain": [
              "19626"
            ]
          },
          "metadata": {
            "tags": []
          },
          "execution_count": 79
        }
      ]
    },
    {
      "cell_type": "code",
      "metadata": {
        "id": "E4Ng8SHSDxBx",
        "colab_type": "code",
        "outputId": "42b74636-be21-4b55-8ff1-c6433161aa9f",
        "colab": {
          "base_uri": "https://localhost:8080/",
          "height": 34
        }
      },
      "source": [
        "nb_words = min(max_features, 1 + len(word_index))\n",
        "nb_words"
      ],
      "execution_count": 0,
      "outputs": [
        {
          "output_type": "execute_result",
          "data": {
            "text/plain": [
              "19627"
            ]
          },
          "metadata": {
            "tags": []
          },
          "execution_count": 80
        }
      ]
    },
    {
      "cell_type": "code",
      "metadata": {
        "id": "LWf0qQ2iD2ve",
        "colab_type": "code",
        "outputId": "8d4b0037-6a1c-49f3-e892-3adc63bbb998",
        "colab": {
          "base_uri": "https://localhost:8080/",
          "height": 34
        }
      },
      "source": [
        "embedding_matrix = np.random.normal(emb_mean, emb_std, (nb_words, embed_size))\n",
        "embedding_matrix.shape"
      ],
      "execution_count": 0,
      "outputs": [
        {
          "output_type": "execute_result",
          "data": {
            "text/plain": [
              "(19627, 300)"
            ]
          },
          "metadata": {
            "tags": []
          },
          "execution_count": 81
        }
      ]
    },
    {
      "cell_type": "code",
      "metadata": {
        "id": "vNslPaHb193k",
        "colab_type": "code",
        "outputId": "2d43b7fb-680b-4fec-9c30-9ead48c0447e",
        "colab": {
          "base_uri": "https://localhost:8080/",
          "height": 34
        }
      },
      "source": [
        "for word, i in word_index.items(): \n",
        "    if i >= max_features: continue\n",
        "    embedding_vector = embeddings_index.get(word)\n",
        "    if embedding_vector is not None: \n",
        "        embedding_matrix[i] = embedding_vector\n",
        "print(embedding_matrix.shape)"
      ],
      "execution_count": 0,
      "outputs": [
        {
          "output_type": "stream",
          "text": [
            "(19627, 300)\n"
          ],
          "name": "stdout"
        }
      ]
    },
    {
      "cell_type": "code",
      "metadata": {
        "id": "6RWtEloU2M1N",
        "colab_type": "code",
        "outputId": "77ca6a01-159c-4020-f391-576307b88fb1",
        "colab": {
          "base_uri": "https://localhost:8080/",
          "height": 323
        }
      },
      "source": [
        "import tensorflow as tf\n",
        "from tensorflow.keras import layers\n",
        "from keras.initializers import Constant\n",
        "\n",
        "model = tf.keras.Sequential()\n",
        "model.add(layers.Embedding(nb_words,\n",
        "                            300,\n",
        "                            weights=[embedding_matrix],\n",
        "                            input_length=max_len,\n",
        "                            trainable=False))\n",
        "model.add(layers.LSTM(128))\n",
        "model.add(layers.Dense(10,activation=\"relu\"))\n",
        "model.add(layers.Dropout(0.2))\n",
        "model.add(layers.Dense(1, activation=\"sigmoid\"))\n",
        "model.summary()\n"
      ],
      "execution_count": 0,
      "outputs": [
        {
          "output_type": "stream",
          "text": [
            "Model: \"sequential_4\"\n",
            "_________________________________________________________________\n",
            "Layer (type)                 Output Shape              Param #   \n",
            "=================================================================\n",
            "embedding_4 (Embedding)      (None, 70, 300)           5888100   \n",
            "_________________________________________________________________\n",
            "lstm_3 (LSTM)                (None, 128)               219648    \n",
            "_________________________________________________________________\n",
            "dense_8 (Dense)              (None, 10)                1290      \n",
            "_________________________________________________________________\n",
            "dropout_3 (Dropout)          (None, 10)                0         \n",
            "_________________________________________________________________\n",
            "dense_9 (Dense)              (None, 1)                 11        \n",
            "=================================================================\n",
            "Total params: 6,109,049\n",
            "Trainable params: 220,949\n",
            "Non-trainable params: 5,888,100\n",
            "_________________________________________________________________\n"
          ],
          "name": "stdout"
        }
      ]
    },
    {
      "cell_type": "code",
      "metadata": {
        "id": "Txx27Bzd3gLM",
        "colab_type": "code",
        "colab": {}
      },
      "source": [
        "model.compile(loss='binary_crossentropy', optimizer='adam', metrics=['accuracy'])"
      ],
      "execution_count": 0,
      "outputs": []
    },
    {
      "cell_type": "code",
      "metadata": {
        "id": "BeVa4_2m3kzN",
        "colab_type": "code",
        "outputId": "67abf7e5-b7f4-4698-fec4-b90bb0544ad6",
        "colab": {
          "base_uri": "https://localhost:8080/",
          "height": 377
        }
      },
      "source": [
        "from tensorflow.keras.callbacks import EarlyStopping\n",
        "\n",
        "callbacks = EarlyStopping(monitor='val_loss', min_delta=0, patience = 2)\n",
        "\n",
        "history = model.fit(train_X, \n",
        "                    train_y, \n",
        "                    batch_size=512, \n",
        "                    epochs=15, \n",
        "                    validation_data=(val_X, val_y),\n",
        "                    callbacks=callbacks\n",
        "                    )"
      ],
      "execution_count": 0,
      "outputs": [
        {
          "output_type": "stream",
          "text": [
            "Epoch 1/15\n",
            "21/21 [==============================] - 18s 846ms/step - loss: 0.5992 - accuracy: 0.6720 - val_loss: 0.5743 - val_accuracy: 0.6790\n",
            "Epoch 2/15\n",
            "21/21 [==============================] - 17s 825ms/step - loss: 0.5319 - accuracy: 0.7325 - val_loss: 0.5249 - val_accuracy: 0.7424\n",
            "Epoch 3/15\n",
            "21/21 [==============================] - 17s 819ms/step - loss: 0.4925 - accuracy: 0.7644 - val_loss: 0.4994 - val_accuracy: 0.7651\n",
            "Epoch 4/15\n",
            "21/21 [==============================] - 17s 819ms/step - loss: 0.4800 - accuracy: 0.7754 - val_loss: 0.4918 - val_accuracy: 0.7749\n",
            "Epoch 5/15\n",
            "21/21 [==============================] - 17s 819ms/step - loss: 0.4594 - accuracy: 0.7852 - val_loss: 0.4943 - val_accuracy: 0.7795\n",
            "Epoch 6/15\n",
            "21/21 [==============================] - 17s 821ms/step - loss: 0.4412 - accuracy: 0.7959 - val_loss: 0.4886 - val_accuracy: 0.7825\n",
            "Epoch 7/15\n",
            "21/21 [==============================] - 17s 819ms/step - loss: 0.4256 - accuracy: 0.8050 - val_loss: 0.4869 - val_accuracy: 0.7576\n",
            "Epoch 8/15\n",
            "21/21 [==============================] - 17s 817ms/step - loss: 0.4150 - accuracy: 0.8131 - val_loss: 0.4788 - val_accuracy: 0.7689\n",
            "Epoch 9/15\n",
            "21/21 [==============================] - 17s 822ms/step - loss: 0.4028 - accuracy: 0.8194 - val_loss: 0.4791 - val_accuracy: 0.7734\n",
            "Epoch 10/15\n",
            "21/21 [==============================] - 17s 821ms/step - loss: 0.3854 - accuracy: 0.8284 - val_loss: 0.4860 - val_accuracy: 0.7817\n"
          ],
          "name": "stdout"
        }
      ]
    },
    {
      "cell_type": "code",
      "metadata": {
        "id": "7JjJbtUNn3cM",
        "colab_type": "code",
        "outputId": "841d37e4-4121-41c6-e37d-9ad1baf85328",
        "colab": {
          "base_uri": "https://localhost:8080/",
          "height": 573
        }
      },
      "source": [
        "# Plot training & validation accuracy values\n",
        "import matplotlib.pyplot as plt \n",
        "plt.plot(history.history['accuracy'])\n",
        "plt.plot(history.history['val_accuracy'])\n",
        "plt.title('Model accuracy')\n",
        "plt.ylabel('Accuracy')\n",
        "plt.xlabel('Epoch')\n",
        "plt.legend(['Train', 'Val'], loc='upper left')\n",
        "plt.show()\n",
        "\n",
        "# Plot training & validation loss values\n",
        "plt.plot(history.history['loss'])\n",
        "plt.plot(history.history['val_loss'])\n",
        "plt.title('Model loss')\n",
        "plt.ylabel('Loss')\n",
        "plt.xlabel('Epoch')\n",
        "plt.legend(['Train', 'Val'], loc='upper left')\n",
        "plt.show()"
      ],
      "execution_count": 0,
      "outputs": [
        {
          "output_type": "display_data",
          "data": {
            "image/png": "[encoded data removed]",
            "text/plain": [
              "<Figure size 432x288 with 1 Axes>"
            ]
          },
          "metadata": {
            "tags": [],
            "needs_background": "light"
          }
        },
        {
          "output_type": "display_data",
          "data": {
            "image/png": "[encoded data removed]",
            "text/plain": [
              "<Figure size 432x288 with 1 Axes>"
            ]
          },
          "metadata": {
            "tags": [],
            "needs_background": "light"
          }
        }
      ]
    },
    {
      "cell_type": "code",
      "metadata": {
        "id": "AslhlttleNnC",
        "colab_type": "code",
        "outputId": "46cbb2e1-4da6-48d9-b2b6-043bd4c028f0",
        "colab": {
          "base_uri": "https://localhost:8080/",
          "height": 1000
        }
      },
      "source": [
        "# validation the model(f1-score)\n",
        "pred_noemb_val_y = model.predict([val_X], batch_size=1024, verbose=1)\n",
        "print(pred_noemb_val_y)\n",
        "threshes=[]\n",
        "f1_scores=[]\n",
        "accuracy_scores=[]\n",
        "for thresh in np.arange(0.1, 0.801, 0.01):\n",
        "    thresh = np.round(thresh, 2)\n",
        "    threshes.append(thresh)\n",
        "    logging.info(\"F1 score at threshold {0} is {1}\".format(thresh, metrics.f1_score(val_y, (pred_noemb_val_y>thresh).astype(int))))\n",
        "    f1_scores.append(metrics.f1_score(val_y, (pred_noemb_val_y>thresh).astype(int)))\n",
        "    logging.info(\"Accuracy at threshold {0} is {1}\".format(thresh, metrics.accuracy_score(val_y, (pred_noemb_val_y>thresh).astype(int))))\n",
        "    accuracy_scores.append(metrics.accuracy_score(val_y, (pred_noemb_val_y>thresh).astype(int)))"
      ],
      "execution_count": 0,
      "outputs": [
        {
          "output_type": "stream",
          "text": [
            "2/2 [==============================] - 0s 117ms/step\n",
            "[[0.10481516]\n",
            " [0.38649255]\n",
            " [0.01356268]\n",
            " ...\n",
            " [0.3059154 ]\n",
            " [0.30343664]\n",
            " [0.0591504 ]]\n",
            "2020-05-10 06:16:20 INFO     F1 score at threshold 0.1 is 0.6162332545311269\n",
            "2020-05-10 06:16:20 INFO     Accuracy at threshold 0.1 is 0.6321752265861027\n",
            "2020-05-10 06:16:20 INFO     F1 score at threshold 0.11 is 0.6193548387096774\n",
            "2020-05-10 06:16:20 INFO     Accuracy at threshold 0.11 is 0.6435045317220544\n",
            "2020-05-10 06:16:20 INFO     F1 score at threshold 0.12 is 0.6238683127572017\n",
            "2020-05-10 06:16:20 INFO     Accuracy at threshold 0.12 is 0.654833836858006\n",
            "2020-05-10 06:16:20 INFO     F1 score at threshold 0.13 is 0.6282372598162071\n",
            "2020-05-10 06:16:20 INFO     Accuracy at threshold 0.13 is 0.6638972809667674\n",
            "2020-05-10 06:16:20 INFO     F1 score at threshold 0.14 is 0.629881154499151\n",
            "2020-05-10 06:16:20 INFO     Accuracy at threshold 0.14 is 0.6706948640483383\n",
            "2020-05-10 06:16:20 INFO     F1 score at threshold 0.15 is 0.6335616438356165\n",
            "2020-05-10 06:16:20 INFO     Accuracy at threshold 0.15 is 0.676737160120846\n",
            "2020-05-10 06:16:20 INFO     F1 score at threshold 0.16 is 0.6382608695652174\n",
            "2020-05-10 06:16:20 INFO     Accuracy at threshold 0.16 is 0.6858006042296072\n",
            "2020-05-10 06:16:20 INFO     F1 score at threshold 0.17 is 0.6390114739629302\n",
            "2020-05-10 06:16:20 INFO     Accuracy at threshold 0.17 is 0.6910876132930514\n",
            "2020-05-10 06:16:20 INFO     F1 score at threshold 0.18 is 0.6422182468694096\n",
            "2020-05-10 06:16:20 INFO     Accuracy at threshold 0.18 is 0.6978851963746223\n",
            "2020-05-10 06:16:20 INFO     F1 score at threshold 0.19 is 0.6401446654611213\n",
            "2020-05-10 06:16:20 INFO     Accuracy at threshold 0.19 is 0.6993957703927492\n",
            "2020-05-10 06:16:20 INFO     F1 score at threshold 0.2 is 0.6404391582799634\n",
            "2020-05-10 06:16:20 INFO     Accuracy at threshold 0.2 is 0.7031722054380665\n",
            "2020-05-10 06:16:20 INFO     F1 score at threshold 0.21 is 0.6415441176470589\n",
            "2020-05-10 06:16:20 INFO     Accuracy at threshold 0.21 is 0.7054380664652568\n",
            "2020-05-10 06:16:20 INFO     F1 score at threshold 0.22 is 0.6388888888888888\n",
            "2020-05-10 06:16:20 INFO     Accuracy at threshold 0.22 is 0.7054380664652568\n",
            "2020-05-10 06:16:20 INFO     F1 score at threshold 0.23 is 0.6360225140712946\n",
            "2020-05-10 06:16:20 INFO     Accuracy at threshold 0.23 is 0.7069486404833837\n",
            "2020-05-10 06:16:20 INFO     F1 score at threshold 0.24 is 0.6419047619047619\n",
            "2020-05-10 06:16:20 INFO     Accuracy at threshold 0.24 is 0.716012084592145\n",
            "2020-05-10 06:16:20 INFO     F1 score at threshold 0.25 is 0.6442307692307692\n",
            "2020-05-10 06:16:20 INFO     Accuracy at threshold 0.25 is 0.7205438066465257\n",
            "2020-05-10 06:16:20 INFO     F1 score at threshold 0.26 is 0.6433430515063168\n",
            "2020-05-10 06:16:20 INFO     Accuracy at threshold 0.26 is 0.722809667673716\n",
            "2020-05-10 06:16:20 INFO     F1 score at threshold 0.27 is 0.6432062561094818\n",
            "2020-05-10 06:16:20 INFO     Accuracy at threshold 0.27 is 0.724320241691843\n",
            "2020-05-10 06:16:20 INFO     F1 score at threshold 0.28 is 0.6428571428571429\n",
            "2020-05-10 06:16:20 INFO     Accuracy at threshold 0.28 is 0.7280966767371602\n",
            "2020-05-10 06:16:20 INFO     F1 score at threshold 0.29 is 0.646586345381526\n",
            "2020-05-10 06:16:20 INFO     Accuracy at threshold 0.29 is 0.7341389728096677\n",
            "2020-05-10 06:16:20 INFO     F1 score at threshold 0.3 is 0.6437246963562754\n",
            "2020-05-10 06:16:20 INFO     Accuracy at threshold 0.3 is 0.7341389728096677\n",
            "2020-05-10 06:16:21 INFO     F1 score at threshold 0.31 is 0.6392600205549845\n",
            "2020-05-10 06:16:21 INFO     Accuracy at threshold 0.31 is 0.7348942598187311\n",
            "2020-05-10 06:16:21 INFO     F1 score at threshold 0.32 is 0.6458982346832814\n",
            "2020-05-10 06:16:21 INFO     Accuracy at threshold 0.32 is 0.7424471299093656\n",
            "2020-05-10 06:16:21 INFO     F1 score at threshold 0.33 is 0.6442812172088143\n",
            "2020-05-10 06:16:21 INFO     Accuracy at threshold 0.33 is 0.7439577039274925\n",
            "2020-05-10 06:16:21 INFO     F1 score at threshold 0.34 is 0.6475583864118896\n",
            "2020-05-10 06:16:21 INFO     Accuracy at threshold 0.34 is 0.7492447129909365\n",
            "2020-05-10 06:16:21 INFO     F1 score at threshold 0.35 is 0.6502145922746781\n",
            "2020-05-10 06:16:21 INFO     Accuracy at threshold 0.35 is 0.7537764350453172\n",
            "2020-05-10 06:16:21 INFO     F1 score at threshold 0.36 is 0.652972972972973\n",
            "2020-05-10 06:16:21 INFO     Accuracy at threshold 0.36 is 0.7575528700906344\n",
            "2020-05-10 06:16:21 INFO     F1 score at threshold 0.37 is 0.6557377049180327\n",
            "2020-05-10 06:16:21 INFO     Accuracy at threshold 0.37 is 0.7620845921450151\n",
            "2020-05-10 06:16:21 INFO     F1 score at threshold 0.38 is 0.6563535911602211\n",
            "2020-05-10 06:16:21 INFO     Accuracy at threshold 0.38 is 0.7651057401812689\n",
            "2020-05-10 06:16:21 INFO     F1 score at threshold 0.39 is 0.6510067114093959\n",
            "2020-05-10 06:16:21 INFO     Accuracy at threshold 0.39 is 0.7643504531722054\n",
            "2020-05-10 06:16:21 INFO     F1 score at threshold 0.4 is 0.6501128668171559\n",
            "2020-05-10 06:16:21 INFO     Accuracy at threshold 0.4 is 0.7658610271903323\n",
            "2020-05-10 06:16:21 INFO     F1 score at threshold 0.41 is 0.6477272727272727\n",
            "2020-05-10 06:16:21 INFO     Accuracy at threshold 0.41 is 0.7658610271903323\n",
            "2020-05-10 06:16:21 INFO     F1 score at threshold 0.42 is 0.6466512702078522\n",
            "2020-05-10 06:16:21 INFO     Accuracy at threshold 0.42 is 0.7688821752265861\n",
            "2020-05-10 06:16:21 INFO     F1 score at threshold 0.43 is 0.6456140350877193\n",
            "2020-05-10 06:16:21 INFO     Accuracy at threshold 0.43 is 0.7711480362537765\n",
            "2020-05-10 06:16:21 INFO     F1 score at threshold 0.44 is 0.6461538461538461\n",
            "2020-05-10 06:16:21 INFO     Accuracy at threshold 0.44 is 0.7741691842900302\n",
            "2020-05-10 06:16:21 INFO     F1 score at threshold 0.45 is 0.6466346153846154\n",
            "2020-05-10 06:16:21 INFO     Accuracy at threshold 0.45 is 0.7779456193353474\n",
            "2020-05-10 06:16:21 INFO     F1 score at threshold 0.46 is 0.6446078431372549\n",
            "2020-05-10 06:16:21 INFO     Accuracy at threshold 0.46 is 0.7809667673716012\n",
            "2020-05-10 06:16:21 INFO     F1 score at threshold 0.47 is 0.644361833952912\n",
            "2020-05-10 06:16:21 INFO     Accuracy at threshold 0.47 is 0.7832326283987915\n",
            "2020-05-10 06:16:21 INFO     F1 score at threshold 0.48 is 0.6375\n",
            "2020-05-10 06:16:21 INFO     Accuracy at threshold 0.48 is 0.7809667673716012\n",
            "2020-05-10 06:16:21 INFO     F1 score at threshold 0.49 is 0.6353240152477764\n",
            "2020-05-10 06:16:21 INFO     Accuracy at threshold 0.49 is 0.7832326283987915\n",
            "2020-05-10 06:16:21 INFO     F1 score at threshold 0.5 is 0.6280566280566281\n",
            "2020-05-10 06:16:21 INFO     Accuracy at threshold 0.5 is 0.7817220543806647\n",
            "2020-05-10 06:16:21 INFO     F1 score at threshold 0.51 is 0.6190476190476191\n",
            "2020-05-10 06:16:21 INFO     Accuracy at threshold 0.51 is 0.7824773413897281\n",
            "2020-05-10 06:16:21 INFO     F1 score at threshold 0.52 is 0.6145552560646901\n",
            "2020-05-10 06:16:21 INFO     Accuracy at threshold 0.52 is 0.783987915407855\n",
            "2020-05-10 06:16:21 INFO     F1 score at threshold 0.53 is 0.6038251366120219\n",
            "2020-05-10 06:16:21 INFO     Accuracy at threshold 0.53 is 0.7809667673716012\n",
            "2020-05-10 06:16:21 INFO     F1 score at threshold 0.54 is 0.5939226519337018\n",
            "2020-05-10 06:16:21 INFO     Accuracy at threshold 0.54 is 0.7779456193353474\n",
            "2020-05-10 06:16:21 INFO     F1 score at threshold 0.55 is 0.5893854748603352\n",
            "2020-05-10 06:16:21 INFO     Accuracy at threshold 0.55 is 0.7779456193353474\n",
            "2020-05-10 06:16:21 INFO     F1 score at threshold 0.56 is 0.5887323943661972\n",
            "2020-05-10 06:16:21 INFO     Accuracy at threshold 0.56 is 0.7794561933534743\n",
            "2020-05-10 06:16:21 INFO     F1 score at threshold 0.57 is 0.586894586894587\n",
            "2020-05-10 06:16:21 INFO     Accuracy at threshold 0.57 is 0.7809667673716012\n",
            "2020-05-10 06:16:21 INFO     F1 score at threshold 0.58 is 0.5850144092219021\n",
            "2020-05-10 06:16:21 INFO     Accuracy at threshold 0.58 is 0.7824773413897281\n",
            "2020-05-10 06:16:21 INFO     F1 score at threshold 0.59 is 0.5764192139737991\n",
            "2020-05-10 06:16:21 INFO     Accuracy at threshold 0.59 is 0.7802114803625377\n",
            "2020-05-10 06:16:21 INFO     F1 score at threshold 0.6 is 0.5781021897810219\n",
            "2020-05-10 06:16:21 INFO     Accuracy at threshold 0.6 is 0.7817220543806647\n",
            "2020-05-10 06:16:21 INFO     F1 score at threshold 0.61 is 0.5701624815361891\n",
            "2020-05-10 06:16:21 INFO     Accuracy at threshold 0.61 is 0.7802114803625377\n",
            "2020-05-10 06:16:21 INFO     F1 score at threshold 0.62 is 0.5680119581464874\n",
            "2020-05-10 06:16:21 INFO     Accuracy at threshold 0.62 is 0.7817220543806647\n",
            "2020-05-10 06:16:21 INFO     F1 score at threshold 0.63 is 0.5636363636363637\n",
            "2020-05-10 06:16:21 INFO     Accuracy at threshold 0.63 is 0.7824773413897281\n",
            "2020-05-10 06:16:21 INFO     F1 score at threshold 0.64 is 0.5557251908396946\n",
            "2020-05-10 06:16:21 INFO     Accuracy at threshold 0.64 is 0.7802114803625377\n",
            "2020-05-10 06:16:21 INFO     F1 score at threshold 0.65 is 0.5513016845329249\n",
            "2020-05-10 06:16:21 INFO     Accuracy at threshold 0.65 is 0.7787009063444109\n",
            "2020-05-10 06:16:21 INFO     F1 score at threshold 0.66 is 0.5426356589147285\n",
            "2020-05-10 06:16:21 INFO     Accuracy at threshold 0.66 is 0.777190332326284\n",
            "2020-05-10 06:16:21 INFO     F1 score at threshold 0.67 is 0.5297805642633229\n",
            "2020-05-10 06:16:21 INFO     Accuracy at threshold 0.67 is 0.7734138972809668\n",
            "2020-05-10 06:16:21 INFO     F1 score at threshold 0.68 is 0.5244865718799367\n",
            "2020-05-10 06:16:21 INFO     Accuracy at threshold 0.68 is 0.7726586102719033\n",
            "2020-05-10 06:16:21 INFO     F1 score at threshold 0.69 is 0.5221518987341772\n",
            "2020-05-10 06:16:21 INFO     Accuracy at threshold 0.69 is 0.7719033232628398\n",
            "2020-05-10 06:16:21 INFO     F1 score at threshold 0.7 is 0.5056360708534621\n",
            "2020-05-10 06:16:21 INFO     Accuracy at threshold 0.7 is 0.7681268882175226\n",
            "2020-05-10 06:16:21 INFO     F1 score at threshold 0.71 is 0.501628664495114\n",
            "2020-05-10 06:16:21 INFO     Accuracy at threshold 0.71 is 0.7688821752265861\n",
            "2020-05-10 06:16:21 INFO     F1 score at threshold 0.72 is 0.4834437086092715\n",
            "2020-05-10 06:16:21 INFO     Accuracy at threshold 0.72 is 0.7643504531722054\n",
            "2020-05-10 06:16:21 INFO     F1 score at threshold 0.73 is 0.4733333333333334\n",
            "2020-05-10 06:16:21 INFO     Accuracy at threshold 0.73 is 0.7613293051359517\n",
            "2020-05-10 06:16:21 INFO     F1 score at threshold 0.74 is 0.4500846023688664\n",
            "2020-05-10 06:16:21 INFO     Accuracy at threshold 0.74 is 0.7545317220543807\n",
            "2020-05-10 06:16:21 INFO     F1 score at threshold 0.75 is 0.4402730375426621\n",
            "2020-05-10 06:16:21 INFO     Accuracy at threshold 0.75 is 0.7522658610271903\n",
            "2020-05-10 06:16:21 INFO     F1 score at threshold 0.76 is 0.4221453287197232\n",
            "2020-05-10 06:16:21 INFO     Accuracy at threshold 0.76 is 0.7477341389728097\n",
            "2020-05-10 06:16:21 INFO     F1 score at threshold 0.77 is 0.4160839160839161\n",
            "2020-05-10 06:16:21 INFO     Accuracy at threshold 0.77 is 0.7477341389728097\n",
            "2020-05-10 06:16:21 INFO     F1 score at threshold 0.78 is 0.4105263157894737\n",
            "2020-05-10 06:16:21 INFO     Accuracy at threshold 0.78 is 0.7462235649546828\n",
            "2020-05-10 06:16:21 INFO     F1 score at threshold 0.79 is 0.39646017699115044\n",
            "2020-05-10 06:16:21 INFO     Accuracy at threshold 0.79 is 0.7424471299093656\n",
            "2020-05-10 06:16:21 INFO     F1 score at threshold 0.8 is 0.3914590747330961\n",
            "2020-05-10 06:16:21 INFO     Accuracy at threshold 0.8 is 0.7416918429003021\n"
          ],
          "name": "stdout"
        }
      ]
    },
    {
      "cell_type": "code",
      "metadata": {
        "id": "JaSwqigUZA60",
        "colab_type": "code",
        "outputId": "db6402bb-a250-4865-a65c-f01a56e2f147",
        "colab": {
          "base_uri": "https://localhost:8080/",
          "height": 295
        }
      },
      "source": [
        "# plot two measures\n",
        "plt.plot(threshes, f1_scores, color='blue', label='f1')\n",
        "plt.plot(threshes, accuracy_scores, color='orange', label='acc')\n",
        "plt.title('f1_scores/acc')\n",
        "plt.ylabel('f1_scores/acc')\n",
        "plt.xlabel('threshold')\n",
        "plt.legend()\n",
        "plt.show()"
      ],
      "execution_count": 0,
      "outputs": [
        {
          "output_type": "display_data",
          "data": {
            "image/png": "[encoded data removed]",
            "text/plain": [
              "<Figure size 432x288 with 1 Axes>"
            ]
          },
          "metadata": {
            "tags": [],
            "needs_background": "light"
          }
        }
      ]
    },
    {
      "cell_type": "code",
      "metadata": {
        "id": "OOh74l0KZA65",
        "colab_type": "code",
        "outputId": "f9d2aaa3-24c8-469a-8ed7-688a075d7dbe",
        "colab": {
          "base_uri": "https://localhost:8080/",
          "height": 34
        }
      },
      "source": [
        "logging.info('=========done===========')"
      ],
      "execution_count": 0,
      "outputs": [
        {
          "output_type": "stream",
          "text": [
            "2020-05-10 05:53:03 INFO     =========done===========\n"
          ],
          "name": "stdout"
        }
      ]
    },
    {
      "cell_type": "markdown",
      "metadata": {
        "_uuid": "383e51177bf33da0b8fee42dd6a093908b808f64",
        "id": "nGYvEk8EZA6z",
        "colab_type": "text"
      },
      "source": [
        "## Model4: CNN"
      ]
    },
    {
      "cell_type": "code",
      "metadata": {
        "id": "NpCE96HTr71x",
        "colab_type": "code",
        "outputId": "ece5c504-3429-41b8-8a92-61121054155a",
        "colab": {
          "base_uri": "https://localhost:8080/",
          "height": 323
        }
      },
      "source": [
        "import tensorflow as tf\n",
        "from tensorflow.keras import layers\n",
        "from keras.initializers import Constant\n",
        "\n",
        "model_CNN = tf.keras.Sequential()\n",
        "model_CNN.add(layers.Embedding(nb_words,\n",
        "                                300,\n",
        "                                weights=[embedding_matrix],\n",
        "                                input_length=max_len,\n",
        "                                trainable=False))\n",
        "model_CNN.add(layers.Conv1D(300, \n",
        "                            kernel_size=5, \n",
        "                            activation='relu',\n",
        "                            name='Conv1'))\n",
        "model_CNN.add(layers.GlobalMaxPool1D())\n",
        "\n",
        "# model_CNN.add(layers.Reshape((300,1)))\n",
        "# model_CNN.add(layers.Conv1D(300,\n",
        "#                             kernel_size=3, \n",
        "#                             activation='relu',\n",
        "#                             name='Conv2'))\n",
        "# model_CNN.add(layers.GlobalMaxPool1D())\n",
        "model_CNN.add(layers.Dense(10, activation=\"relu\"))\n",
        "model_CNN.add(layers.Dense(1, activation=\"sigmoid\"))\n",
        "model_CNN.summary()"
      ],
      "execution_count": 0,
      "outputs": [
        {
          "output_type": "stream",
          "text": [
            "Model: \"sequential_5\"\n",
            "_________________________________________________________________\n",
            "Layer (type)                 Output Shape              Param #   \n",
            "=================================================================\n",
            "embedding_5 (Embedding)      (None, 70, 300)           5888100   \n",
            "_________________________________________________________________\n",
            "Conv1 (Conv1D)               (None, 66, 300)           450300    \n",
            "_________________________________________________________________\n",
            "global_max_pooling1d_1 (Glob (None, 300)               0         \n",
            "_________________________________________________________________\n",
            "dense_10 (Dense)             (None, 10)                3010      \n",
            "_________________________________________________________________\n",
            "dense_11 (Dense)             (None, 1)                 11        \n",
            "=================================================================\n",
            "Total params: 6,341,421\n",
            "Trainable params: 453,321\n",
            "Non-trainable params: 5,888,100\n",
            "_________________________________________________________________\n"
          ],
          "name": "stdout"
        }
      ]
    },
    {
      "cell_type": "code",
      "metadata": {
        "id": "ooz1GuycuGrU",
        "colab_type": "code",
        "outputId": "be698742-24f7-4b6b-c0d4-619961e8a149",
        "colab": {
          "base_uri": "https://localhost:8080/",
          "height": 309
        }
      },
      "source": [
        "model_CNN.compile(loss='binary_crossentropy', optimizer='adam', metrics=['accuracy'])\n",
        "\n",
        "from tensorflow.keras.callbacks import EarlyStopping\n",
        "callbacks = EarlyStopping(monitor='val_loss', min_delta=0, patience = 2)\n",
        "history = model_CNN.fit(train_X, \n",
        "                        train_y, \n",
        "                        batch_size=512, \n",
        "                        epochs=14, \n",
        "                        validation_data=(val_X, val_y),\n",
        "                        callbacks=callbacks\n",
        "                        )"
      ],
      "execution_count": 0,
      "outputs": [
        {
          "output_type": "stream",
          "text": [
            "Epoch 1/14\n",
            "21/21 [==============================] - 24s 1s/step - loss: 0.6432 - accuracy: 0.6657 - val_loss: 0.5894 - val_accuracy: 0.6677\n",
            "Epoch 2/14\n",
            "21/21 [==============================] - 24s 1s/step - loss: 0.5438 - accuracy: 0.7032 - val_loss: 0.5354 - val_accuracy: 0.7417\n",
            "Epoch 3/14\n",
            "21/21 [==============================] - 24s 1s/step - loss: 0.4874 - accuracy: 0.7783 - val_loss: 0.5217 - val_accuracy: 0.7727\n",
            "Epoch 4/14\n",
            "21/21 [==============================] - 24s 1s/step - loss: 0.4533 - accuracy: 0.8066 - val_loss: 0.5247 - val_accuracy: 0.7719\n",
            "Epoch 5/14\n",
            "21/21 [==============================] - 28s 1s/step - loss: 0.4217 - accuracy: 0.8211 - val_loss: 0.5209 - val_accuracy: 0.7802\n",
            "Epoch 6/14\n",
            "21/21 [==============================] - 24s 1s/step - loss: 0.3881 - accuracy: 0.8421 - val_loss: 0.5176 - val_accuracy: 0.7825\n",
            "Epoch 7/14\n",
            "21/21 [==============================] - 24s 1s/step - loss: 0.3523 - accuracy: 0.8702 - val_loss: 0.5226 - val_accuracy: 0.7885\n",
            "Epoch 8/14\n",
            "21/21 [==============================] - 24s 1s/step - loss: 0.3257 - accuracy: 0.8833 - val_loss: 0.5671 - val_accuracy: 0.7749\n"
          ],
          "name": "stdout"
        }
      ]
    },
    {
      "cell_type": "code",
      "metadata": {
        "id": "qJ2nGLwDu5T2",
        "colab_type": "code",
        "outputId": "df54fcc3-80c0-47fa-91d9-a27b509170de",
        "colab": {
          "base_uri": "https://localhost:8080/",
          "height": 573
        }
      },
      "source": [
        "# Plot training & validation accuracy values\n",
        "import matplotlib.pyplot as plt \n",
        "plt.plot(history.history['accuracy'])\n",
        "plt.plot(history.history['val_accuracy'])\n",
        "plt.title('Model accuracy')\n",
        "plt.ylabel('Accuracy')\n",
        "plt.xlabel('Epoch')\n",
        "plt.legend(['Train', 'Val'], loc='upper left')\n",
        "plt.show()\n",
        "\n",
        "# Plot training & validation loss values\n",
        "plt.plot(history.history['loss'])\n",
        "plt.plot(history.history['val_loss'])\n",
        "plt.title('Model loss')\n",
        "plt.ylabel('Loss')\n",
        "plt.xlabel('Epoch')\n",
        "plt.legend(['Train', 'Val'], loc='upper left')\n",
        "plt.show()"
      ],
      "execution_count": 0,
      "outputs": [
        {
          "output_type": "display_data",
          "data": {
            "image/png": "[encoded data removed]",
            "text/plain": [
              "<Figure size 432x288 with 1 Axes>"
            ]
          },
          "metadata": {
            "tags": [],
            "needs_background": "light"
          }
        },
        {
          "output_type": "display_data",
          "data": {
            "image/png": "[encoded data removed]",
            "text/plain": [
              "<Figure size 432x288 with 1 Axes>"
            ]
          },
          "metadata": {
            "tags": [],
            "needs_background": "light"
          }
        }
      ]
    },
    {
      "cell_type": "code",
      "metadata": {
        "id": "eRfQ-LuLvFd3",
        "colab_type": "code",
        "outputId": "22591cc2-2e19-4939-d3be-e5894da2e018",
        "colab": {
          "base_uri": "https://localhost:8080/",
          "height": 431
        }
      },
      "source": [
        "# validation the model(f1-score)\n",
        "pred_noemb_val_y = model_CNN.predict([val_X], batch_size=512, verbose=1)\n",
        "print(pred_noemb_val_y)\n",
        "threshes=[]\n",
        "f1_scores=[]\n",
        "accuracy_scores=[]\n",
        "for thresh in np.arange(0.1, 0.801, 0.01):\n",
        "    thresh = np.round(thresh, 2)\n",
        "    threshes.append(thresh)\n",
        "    # logging.info(\"F1 score at threshold {0} is {1}\".format(thresh, metrics.f1_score(val_y, (pred_noemb_val_y>thresh).astype(int))))\n",
        "    f1_scores.append(metrics.f1_score(val_y, (pred_noemb_val_y>thresh).astype(int)))\n",
        "    # logging.info(\"Accuracy at threshold {0} is {1}\".format(thresh, metrics.accuracy_score(val_y, (pred_noemb_val_y>thresh).astype(int))))\n",
        "    accuracy_scores.append(metrics.accuracy_score(val_y, (pred_noemb_val_y>thresh).astype(int)))\n",
        "\n",
        "# plot two measures\n",
        "plt.plot(threshes, f1_scores, color='blue', label='f1')\n",
        "plt.plot(threshes, accuracy_scores, color='orange', label='acc')\n",
        "plt.title('f1_scores/acc')\n",
        "plt.ylabel('f1_scores/acc')\n",
        "plt.xlabel('threshold')\n",
        "plt.legend()\n",
        "plt.show()"
      ],
      "execution_count": 0,
      "outputs": [
        {
          "output_type": "stream",
          "text": [
            "3/3 [==============================] - 1s 266ms/step\n",
            "[[0.05386436]\n",
            " [0.3564797 ]\n",
            " [0.02221528]\n",
            " ...\n",
            " [0.19842783]\n",
            " [0.22555141]\n",
            " [0.13463804]]\n"
          ],
          "name": "stdout"
        },
        {
          "output_type": "display_data",
          "data": {
            "image/png": "[encoded data removed]",
            "text/plain": [
              "<Figure size 432x288 with 1 Axes>"
            ]
          },
          "metadata": {
            "tags": [],
            "needs_background": "light"
          }
        }
      ]
    },
    {
      "cell_type": "markdown",
      "metadata": {
        "id": "1-7ZNGOwwPmd",
        "colab_type": "text"
      },
      "source": [
        "CNN visualiazation"
      ]
    },
    {
      "cell_type": "code",
      "metadata": {
        "id": "x_hHPR7LwS13",
        "colab_type": "code",
        "colab": {}
      },
      "source": [
        "class_idx = np.argmax(pred_noemb_val_y[0]) #not needed in this case as only two classes\n",
        "class_output = model_CNN.output[:, class_idx]\n",
        "last_conv_layer = model_CNN.get_layer(\"Conv1\")"
      ],
      "execution_count": 0,
      "outputs": []
    },
    {
      "cell_type": "code",
      "metadata": {
        "id": "WKoBjqn5P7Ey",
        "colab_type": "code",
        "outputId": "03398715-c019-48b4-c41a-7761f0bd6258",
        "colab": {
          "base_uri": "https://localhost:8080/",
          "height": 51
        }
      },
      "source": [
        "print(class_idx)\n",
        "print(class_output)"
      ],
      "execution_count": 0,
      "outputs": [
        {
          "output_type": "stream",
          "text": [
            "0\n",
            "Tensor(\"strided_slice_2:0\", shape=(None,), dtype=float32)\n"
          ],
          "name": "stdout"
        }
      ]
    },
    {
      "cell_type": "code",
      "metadata": {
        "id": "E8CqIb3l6NNG",
        "colab_type": "code",
        "colab": {}
      },
      "source": [
        "from keras import backend as K \n",
        "grads = K.gradients(class_output, last_conv_layer.output)[0]\n",
        "pooled_grads = K.mean(grads)\n",
        "iterate = K.function([model_CNN.input], [pooled_grads, last_conv_layer.output[0]])\n",
        "pooled_grads_value, conv_layer_output_value = iterate([val_X])"
      ],
      "execution_count": 0,
      "outputs": []
    },
    {
      "cell_type": "code",
      "metadata": {
        "id": "-MXzpFtU6hM4",
        "colab_type": "code",
        "colab": {}
      },
      "source": [
        "heatmap = np.mean(conv_layer_output_value, axis=-1)\n",
        "heatmap = np.maximum(heatmap,0)\n",
        "heatmap /= np.max(heatmap)#normalise values in the prediction"
      ],
      "execution_count": 0,
      "outputs": []
    },
    {
      "cell_type": "code",
      "metadata": {
        "id": "EjEfKkOO7VVz",
        "colab_type": "code",
        "outputId": "009521af-b994-4cff-f339-1aa71604a4c4",
        "colab": {
          "base_uri": "https://localhost:8080/",
          "height": 114
        }
      },
      "source": [
        "from IPython.display import HTML\n",
        "norm_len = max_len/last_conv_layer.output_shape[1] # find the ratio of the text vs the conv layer length\n",
        "html = \"\"\n",
        "\n",
        "if pred_noemb_val_y[0]>0.5:\n",
        "    pred = 'light'\n",
        "else:\n",
        "    pred = 'dark'\n",
        "    html += \"<span><h3>Based on the description, the model believes that this is a {} XXX\".format(pred)\n",
        "    html += \"<small><br>Confidence: {:.0f}%<br><br></small></h3></span>\".format(abs(((pred_noemb_val_y[0][0]*100)-50)*2))\n",
        "for j,i in enumerate(tokenizer.sequences_to_texts(val_X)[0].split()):\n",
        "    html += \"<span style='background-color:rgba({},0,150,{})'>{} </span>\".format(heatmap[math.floor(j/norm_len)]*255,heatmap[math.floor(j/norm_len)]-0.3,i)\n",
        "HTML(html)"
      ],
      "execution_count": 0,
      "outputs": [
        {
          "output_type": "execute_result",
          "data": {
            "text/html": [
              "<span><h3>Based on the description, the model believes that this is a dark XXX<small><br>Confidence: 89%<br><br></small></h3></span><span style='background-color:rgba(247.4666154384613,0,150,0.6704573154449462)'>she </span><span style='background-color:rgba(247.4666154384613,0,150,0.6704573154449462)'>should </span><span style='background-color:rgba(247.4666154384613,0,150,0.6704573154449462)'>ask </span><span style='background-color:rgba(247.4666154384613,0,150,0.6704573154449462)'>a </span><span style='background-color:rgba(247.4666154384613,0,150,0.6704573154449462)'>few </span><span style='background-color:rgba(247.4666154384613,0,150,0.6704573154449462)'>native </span><span style='background-color:rgba(247.4666154384613,0,150,0.6704573154449462)'>americans </span><span style='background-color:rgba(247.4666154384613,0,150,0.6704573154449462)'>what </span><span style='background-color:rgba(247.4666154384613,0,150,0.6704573154449462)'>their </span><span style='background-color:rgba(247.4666154384613,0,150,0.6704573154449462)'>take </span><span style='background-color:rgba(247.4666154384613,0,150,0.6704573154449462)'>on </span><span style='background-color:rgba(247.4666154384613,0,150,0.6704573154449462)'>this </span><span style='background-color:rgba(247.4666154384613,0,150,0.6704573154449462)'>is </span>"
            ],
            "text/plain": [
              "<IPython.core.display.HTML object>"
            ]
          },
          "metadata": {
            "tags": []
          },
          "execution_count": 95
        }
      ]
    },
    {
      "cell_type": "markdown",
      "metadata": {
        "id": "jCyyLJl17ISm",
        "colab_type": "text"
      },
      "source": [
        "Credit to \\\\\n",
        "https://towardsdatascience.com/viewing-text-through-the-eyes-of-a-machine-db30c744ee17"
      ]
    },
    {
      "cell_type": "markdown",
      "metadata": {
        "id": "5gT0baX2dXqc",
        "colab_type": "text"
      },
      "source": [
        "# Prediction 2\n"
      ]
    }
  ]
}