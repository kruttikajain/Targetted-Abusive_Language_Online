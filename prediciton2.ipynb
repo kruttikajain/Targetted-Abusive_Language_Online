{
  "nbformat": 4,
  "nbformat_minor": 0,
  "metadata": {
    "kernelspec": {
      "display_name": "Python 3",
      "language": "python",
      "name": "python3"
    },
    "language_info": {
      "codemirror_mode": {
        "name": "ipython",
        "version": 3
      },
      "file_extension": ".py",
      "mimetype": "text/x-python",
      "name": "python",
      "nbconvert_exporter": "python",
      "pygments_lexer": "ipython3",
      "version": "3.6.6"
    },
    "colab": {
      "name": "prediciton1.ipynb",
      "provenance": [],
      "collapsed_sections": [],
      "toc_visible": true,
      "include_colab_link": true
    },
    "accelerator": "TPU"
  },
  "cells": [
    {
      "cell_type": "markdown",
      "metadata": {
        "id": "view-in-github",
        "colab_type": "text"
      },
      "source": [
        "<a href=\"https://colab.research.google.com/github/kruttikajain/Targetted-Abusive_Language_Online/blob/master/prediciton2.ipynb\" target=\"_parent\"><img src=\"https://colab.research.google.com/assets/colab-badge.svg\" alt=\"Open In Colab\"/></a>"
      ]
    },
    {
      "cell_type": "markdown",
      "metadata": {
        "_uuid": "01f361ddc47e0b386595316fe3d7f4dabbd260db",
        "id": "XE0VGEF8ZA6M",
        "colab_type": "text"
      },
      "source": [
        "# Abusive Language Online \n",
        "\n",
        "Predition1: predict OFF/NOT\n",
        "\n",
        "* Upload it each time: Dataset: [data](http://demo.clab.cs.cmu.edu/ethical_nlp2019/homeworks/hw3/hw3.html)\n",
        "\n",
        "\n",
        "1.   train.tsv\n",
        "2.   dev.tsv\n",
        "3.   test.tsv\n",
        "\n",
        "* Need manually add log.txt\n",
        "* Mount drive to load GloVe embeddings\n",
        "\n",
        "\n"
      ]
    },
    {
      "cell_type": "markdown",
      "metadata": {
        "id": "PqazyGPwaTEe",
        "colab_type": "text"
      },
      "source": [
        "# Import useful lib"
      ]
    },
    {
      "cell_type": "code",
      "metadata": {
        "_cell_guid": "b1076dfc-b9ad-4769-8c92-a6c4dae69d19",
        "_uuid": "8f2839f25d086af736a60e9eeb907d3b93b6e0e5",
        "id": "ONg01KM4ZA6N",
        "colab_type": "code",
        "outputId": "10f912bf-7daa-4d15-f7e7-508dac3e9e1e",
        "colab": {
          "base_uri": "https://localhost:8080/",
          "height": 34
        }
      },
      "source": [
        "import os\n",
        "import sys\n",
        "from logging import handlers\n",
        "from pathlib import Path\n",
        "import logging\n",
        "import time\n",
        "import numpy as np # linear algebra\n",
        "import pandas as pd # data processing, CSV file I/O (e.g. pd.read_csv)\n",
        "from tqdm import tqdm\n",
        "import math\n",
        "import random \n",
        "\n",
        "from sklearn.model_selection import train_test_split\n",
        "from sklearn import metrics\n",
        "from sklearn.model_selection import KFold\n",
        "from sklearn.model_selection import StratifiedShuffleSplit\n",
        "\n",
        "from keras.preprocessing.text import Tokenizer\n",
        "from keras.preprocessing.sequence import pad_sequences\n",
        "from keras.layers import Dense, Input, LSTM, Embedding, Dropout, Activation, CuDNNGRU, CuDNNLSTM, Conv1D\n",
        "from keras.layers import Bidirectional, GlobalMaxPool1D\n",
        "from keras.models import Model\n",
        "from keras import initializers, regularizers, constraints, optimizers, layers\n",
        "\n",
        "from os import path\n",
        "from PIL import Image\n",
        "from wordcloud import WordCloud, STOPWORDS, ImageColorGenerator\n",
        "%matplotlib inline \n",
        "import matplotlib.pyplot as plt"
      ],
      "execution_count": 6,
      "outputs": [
        {
          "output_type": "stream",
          "text": [
            "Using TensorFlow backend.\n"
          ],
          "name": "stderr"
        }
      ]
    },
    {
      "cell_type": "markdown",
      "metadata": {
        "id": "11l-8APTaOVP",
        "colab_type": "text"
      },
      "source": [
        "# Data proprecessing"
      ]
    },
    {
      "cell_type": "markdown",
      "metadata": {
        "id": "zaD_vgEytb9u",
        "colab_type": "text"
      },
      "source": [
        "## mounting drive"
      ]
    },
    {
      "cell_type": "code",
      "metadata": {
        "id": "flhVY6tUu-wN",
        "colab_type": "code",
        "outputId": "2db85aa4-6aa3-4c9e-ac08-547e3df271d4",
        "colab": {
          "base_uri": "https://localhost:8080/",
          "height": 122
        }
      },
      "source": [
        "from google.colab import drive\n",
        "drive.mount('/content/gdrive')"
      ],
      "execution_count": 7,
      "outputs": [
        {
          "output_type": "stream",
          "text": [
            "Go to this URL in a browser: https://accounts.google.com/o/oauth2/auth?client_id=947318989803-6bn6qk8qdgf4n4g3pfee6491hc0brc4i.apps.googleusercontent.com&redirect_uri=urn%3aietf%3awg%3aoauth%3a2.0%3aoob&response_type=code&scope=email%20https%3a%2f%2fwww.googleapis.com%2fauth%2fdocs.test%20https%3a%2f%2fwww.googleapis.com%2fauth%2fdrive%20https%3a%2f%2fwww.googleapis.com%2fauth%2fdrive.photos.readonly%20https%3a%2f%2fwww.googleapis.com%2fauth%2fpeopleapi.readonly\n",
            "\n",
            "Enter your authorization code:\n",
            "··········\n",
            "Mounted at /content/gdrive\n"
          ],
          "name": "stdout"
        }
      ]
    },
    {
      "cell_type": "code",
      "metadata": {
        "id": "-lHhx4ivtQTp",
        "colab_type": "code",
        "outputId": "eb3116c6-2296-4ad7-f77c-1d3d70eb8d7d",
        "colab": {
          "base_uri": "https://localhost:8080/",
          "height": 34
        }
      },
      "source": [
        "!pwd"
      ],
      "execution_count": 8,
      "outputs": [
        {
          "output_type": "stream",
          "text": [
            "/content\n"
          ],
          "name": "stdout"
        }
      ]
    },
    {
      "cell_type": "code",
      "metadata": {
        "id": "PhfBBtlIHN6p",
        "colab_type": "code",
        "outputId": "9a9bbde3-b4bb-423e-ed82-ee152cd8a7e9",
        "colab": {
          "base_uri": "https://localhost:8080/",
          "height": 68
        }
      },
      "source": [
        "# Clone github repository setup\n",
        "# import join used to join ROOT path and MY_GOOGLE_DRIVE_PATH\n",
        "from os.path import join  \n",
        "\n",
        "# path to your project on Google Drive\n",
        "MY_GOOGLE_DRIVE_PATH = '' \n",
        "# replace with your Github username \n",
        "GIT_USERNAME = \"kruttikajain\" \n",
        "# definitely replace with your\n",
        "GIT_TOKEN = \"5fae1c9f18e3a0c680bf35e9ef63c72308ef2b4c\"  \n",
        "# Replace with your github repository in this case we want \n",
        "# to clone deep-learning-v2-pytorch repository\n",
        "GIT_REPOSITORY = \"Targetted-Abusive_Language_Online\" \n",
        "\n",
        "# PROJECT_PATH = join(ROOT, MY_GOOGLE_DRIVE_PATH)\n",
        "\n",
        "'''\n",
        "only this line should be modify\n",
        "'''\n",
        "PROJECT_PATH = './gdrive/My Drive/Colab Notebooks/246Project'\n",
        "\n",
        "# It's good to print out the value if you are not sure \n",
        "print(\"PROJECT_PATH: \", PROJECT_PATH)   \n",
        "\n",
        "# In case we haven't created the folder already; we will create a folder in the project path \n",
        "!mkdir \"{PROJECT_PATH}\"    \n",
        "\n",
        "#GIT_PATH = \"https://{GIT_TOKEN}@github.com/{GIT_USERNAME}/{GIT_REPOSITORY}.git\" this return 400 Bad Request for me\n",
        "GIT_PATH = \"https://\" + GIT_TOKEN + \"@github.com/\" + GIT_USERNAME + \"/\" + GIT_REPOSITORY + \".git\"\n",
        "print(\"GIT_PATH: \", GIT_PATH)"
      ],
      "execution_count": 9,
      "outputs": [
        {
          "output_type": "stream",
          "text": [
            "PROJECT_PATH:  ./gdrive/My Drive/Colab Notebooks/246Project\n",
            "mkdir: cannot create directory ‘./gdrive/My Drive/Colab Notebooks/246Project’: File exists\n",
            "GIT_PATH:  https://5fae1c9f18e3a0c680bf35e9ef63c72308ef2b4c@github.com/kruttikajain/Targetted-Abusive_Language_Online.git\n"
          ],
          "name": "stdout"
        }
      ]
    },
    {
      "cell_type": "markdown",
      "metadata": {
        "id": "ZhWzw5Rtajm7",
        "colab_type": "text"
      },
      "source": [
        "## Prepare logging file"
      ]
    },
    {
      "cell_type": "code",
      "metadata": {
        "id": "Vggd1S4jZA6R",
        "colab_type": "code",
        "outputId": "13768e34-9ff6-4521-bb60-64dfae7df905",
        "colab": {
          "base_uri": "https://localhost:8080/",
          "height": 51
        }
      },
      "source": [
        "def init_logger(log_file):\n",
        "    if not os.path.exists(log_file):\n",
        "        os.makedirs(os.path.dirname(log_file))\n",
        "\n",
        "    log = logging.getLogger('')\n",
        "    log.setLevel(logging.INFO)\n",
        "    output_format = logging.Formatter(fmt='%(asctime)s %(levelname)-8s %(message)s', datefmt='%Y-%m-%d %H:%M:%S')\n",
        "    std_out_handler = logging.StreamHandler(sys.stdout)\n",
        "    std_out_handler.setFormatter(output_format)\n",
        "    logging.getLogger().addHandler(std_out_handler)\n",
        "    file_handler = logging.handlers.RotatingFileHandler(log_file, maxBytes=(1048576*5), backupCount=7)\n",
        "    file_handler.setFormatter(output_format)\n",
        "    logging.getLogger().addHandler(file_handler)\n",
        "\n",
        "init_logger(PROJECT_PATH + '/log.txt')\n",
        "logging.info('=============start2=================')\n",
        "logging.info('logging file prepared...')"
      ],
      "execution_count": 10,
      "outputs": [
        {
          "output_type": "stream",
          "text": [
            "2020-05-25 05:03:26 INFO     =============start2=================\n",
            "2020-05-25 05:03:26 INFO     logging file prepared...\n"
          ],
          "name": "stdout"
        }
      ]
    },
    {
      "cell_type": "markdown",
      "metadata": {
        "id": "7FwYT4vTyCzs",
        "colab_type": "text"
      },
      "source": [
        "## load data"
      ]
    },
    {
      "cell_type": "code",
      "metadata": {
        "id": "AOtNdORiaKqJ",
        "colab_type": "code",
        "outputId": "fa0bedc7-62dd-4712-8d1d-a6c92f9cb8e9",
        "colab": {
          "base_uri": "https://localhost:8080/",
          "height": 221
        }
      },
      "source": [
        "def load_data():\n",
        "    logging.info('loading the dataset...')\n",
        "    train_df = pd.read_csv(PROJECT_PATH + '/project_data/train.tsv', sep=\"\\t\")\n",
        "    val_df = pd.read_csv(PROJECT_PATH + '/project_data/dev.tsv', sep=\"\\t\")\n",
        "    test_df = pd.read_csv(PROJECT_PATH + '/project_data/test.tsv', sep=\"\\t\")\n",
        "    \n",
        "    # shape of df, column names\n",
        "    logging.info('Train shape : ' + str(train_df.shape)) # 'text', 'label', 'category'\n",
        "    logging.info('Val shape: ' + str(val_df.shape))\n",
        "    logging.info('Test shape: ' + str(test_df.shape))\n",
        "    \n",
        "    logging.info('train_df.columns: ' + train_df.columns)\n",
        "    logging.info('val_df.columns: ' + val_df.columns)\n",
        "    logging.info('test_df.columns: ' + test_df.columns)\n",
        "\n",
        "    return train_df, val_df, test_df\n",
        "\n",
        "train_df, val_df, test_df = load_data()"
      ],
      "execution_count": 11,
      "outputs": [
        {
          "output_type": "stream",
          "text": [
            "2020-05-25 05:03:32 INFO     loading the dataset...\n",
            "2020-05-25 05:03:33 INFO     Train shape : (10592, 3)\n",
            "2020-05-25 05:03:33 INFO     Val shape: (1324, 3)\n",
            "2020-05-25 05:03:33 INFO     Test shape: (1324, 1)\n",
            "2020-05-25 05:03:33 INFO     NumExpr defaulting to 2 threads.\n",
            "2020-05-25 05:03:33 INFO     Index(['train_df.columns: text', 'train_df.columns: label',\n",
            "       'train_df.columns: category'],\n",
            "      dtype='object')\n",
            "2020-05-25 05:03:33 INFO     Index(['val_df.columns: text', 'val_df.columns: label',\n",
            "       'val_df.columns: category'],\n",
            "      dtype='object')\n",
            "2020-05-25 05:03:33 INFO     Index(['test_df.columns: text'], dtype='object')\n"
          ],
          "name": "stdout"
        }
      ]
    },
    {
      "cell_type": "code",
      "metadata": {
        "id": "MO55Z3UaXUsR",
        "colab_type": "code",
        "outputId": "9863bd44-61d6-438c-fc1a-cd2e62882ea7",
        "colab": {
          "base_uri": "https://localhost:8080/",
          "height": 204
        }
      },
      "source": [
        "train_df.head()"
      ],
      "execution_count": 12,
      "outputs": [
        {
          "output_type": "execute_result",
          "data": {
            "text/html": [
              "<div>\n",
              "<style scoped>\n",
              "    .dataframe tbody tr th:only-of-type {\n",
              "        vertical-align: middle;\n",
              "    }\n",
              "\n",
              "    .dataframe tbody tr th {\n",
              "        vertical-align: top;\n",
              "    }\n",
              "\n",
              "    .dataframe thead th {\n",
              "        text-align: right;\n",
              "    }\n",
              "</style>\n",
              "<table border=\"1\" class=\"dataframe\">\n",
              "  <thead>\n",
              "    <tr style=\"text-align: right;\">\n",
              "      <th></th>\n",
              "      <th>text</th>\n",
              "      <th>label</th>\n",
              "      <th>category</th>\n",
              "    </tr>\n",
              "  </thead>\n",
              "  <tbody>\n",
              "    <tr>\n",
              "      <th>0</th>\n",
              "      <td>@USER @USER You are an embarrassing citizen!!</td>\n",
              "      <td>OFF</td>\n",
              "      <td>TIN</td>\n",
              "    </tr>\n",
              "    <tr>\n",
              "      <th>1</th>\n",
              "      <td>@USER Seems hard to believe that you stood nex...</td>\n",
              "      <td>OFF</td>\n",
              "      <td>TIN</td>\n",
              "    </tr>\n",
              "    <tr>\n",
              "      <th>2</th>\n",
              "      <td>@USER @USER @USER Wow !!! no wonder the Libera...</td>\n",
              "      <td>OFF</td>\n",
              "      <td>TIN</td>\n",
              "    </tr>\n",
              "    <tr>\n",
              "      <th>3</th>\n",
              "      <td>@USER @USER And not all idiots grandstands lik...</td>\n",
              "      <td>OFF</td>\n",
              "      <td>TIN</td>\n",
              "    </tr>\n",
              "    <tr>\n",
              "      <th>4</th>\n",
              "      <td>@USER Bring on the hypocrite gungrabber. MAGA</td>\n",
              "      <td>OFF</td>\n",
              "      <td>TIN</td>\n",
              "    </tr>\n",
              "  </tbody>\n",
              "</table>\n",
              "</div>"
            ],
            "text/plain": [
              "                                                text label category\n",
              "0      @USER @USER You are an embarrassing citizen!!   OFF      TIN\n",
              "1  @USER Seems hard to believe that you stood nex...   OFF      TIN\n",
              "2  @USER @USER @USER Wow !!! no wonder the Libera...   OFF      TIN\n",
              "3  @USER @USER And not all idiots grandstands lik...   OFF      TIN\n",
              "4      @USER Bring on the hypocrite gungrabber. MAGA   OFF      TIN"
            ]
          },
          "metadata": {
            "tags": []
          },
          "execution_count": 12
        }
      ]
    },
    {
      "cell_type": "markdown",
      "metadata": {
        "id": "ApWoZxt1dc-a",
        "colab_type": "text"
      },
      "source": [
        "**Attributes in data:**\n",
        "\n",
        "\n",
        "***Trainning data:***  (10592, 3) \\\\\n",
        "\n",
        "* **text:** \\\\\n",
        "tweet content\n",
        "\n",
        "* **label:** \\\\\n",
        "1.   (NOT) Not Offensive - This post does not contain offense or profanity\n",
        "2.   (OFF) Offensive - This post contains offensive language or a targeted (veiled or direct) offense\n",
        "\n",
        "* **category:** (if label is 'OFF') \\\\\n",
        "1.   (TIN) Targeted Insult and Threats - A post containing an insult or threat to an individual, a group, or others\n",
        "2.   (UNT) Untargeted - A post containing non-targeted profanity and swearing.\n",
        "\n",
        "***Validation data:***  (1324, 3) \\\\\n",
        "\n",
        "***Testing data***:  'text' (1324, 1) \\\\\n",
        "* **text**"
      ]
    },
    {
      "cell_type": "markdown",
      "metadata": {
        "id": "oEJfFD-hkhu5",
        "colab_type": "text"
      },
      "source": [
        "## Data cleaning"
      ]
    },
    {
      "cell_type": "code",
      "metadata": {
        "id": "-g52M8qtkk36",
        "colab_type": "code",
        "colab": {}
      },
      "source": [
        "def data_cleaning(train_df, val_df, test_df):\n",
        "    # shuffle data\n",
        "    train_df = train_df.sample(frac=1, random_state=2020).reset_index(drop=True)\n",
        "    \n",
        "    # lo lowercae\n",
        "    train_df['text'] = train_df['text'].str.lower()\n",
        "    val_df['text'] = val_df['text'].str.lower()\n",
        "    test_df['text'] = test_df['text'].str.lower()\n",
        "\n",
        "    # delete \"noise words\"\n",
        "    noise = [\"url\",\"user\",\"@\",\"&amp;\",\"#\",\"-\",'.',\"!\",\"?\",\"rt\",\"dm\",\"retweet\",\"rt\",\"dm\"]\n",
        "    for WORD in noise:\n",
        "        train_df['text'] = train_df['text'].str.replace(WORD, '')\n",
        "        val_df['text'] = val_df['text'].str.replace(WORD, '')\n",
        "        test_df['text'] = test_df['text'].str.replace(WORD, '')\n",
        "\n",
        "    # change label to 0/a\n",
        "    train_df['label'] = train_df['label'].map({'OFF': 1, 'NOT': 0})\n",
        "    val_df['label'] = val_df['label'].map({'OFF': 1, 'NOT': 0})\n",
        "\n",
        "    # one-hot encoding of category\n",
        "    #train_df = pd.concat([train_df,pd.get_dummies(train_df['category'], prefix='category')],axis=1)\n",
        "    #train_df.drop(['category'],axis=1, inplace=True)\n",
        "    \n",
        "    #val_df = pd.concat([val_df,pd.get_dummies(val_df['category'], prefix='category')],axis=1)\n",
        "    #val_df.drop(['category'],axis=1, inplace=True)\n",
        "  \n",
        "    train_df['category'] = train_df['category'].map({'TIN': 1, 'UNT': 0},na_action='ignore')\n",
        "    val_df['category'] = val_df['category'].map({'TIN': 1, 'UNT': 0}, na_action='ignore')\n",
        "    return train_df, val_df, test_df\n",
        "\n",
        "train_df, val_df, test_df = data_cleaning(train_df, val_df, test_df)\n"
      ],
      "execution_count": 0,
      "outputs": []
    },
    {
      "cell_type": "code",
      "metadata": {
        "id": "muL8B6aXSu3R",
        "colab_type": "code",
        "outputId": "97ffb6d7-e35d-4814-9794-ae43ae3a3331",
        "colab": {
          "base_uri": "https://localhost:8080/",
          "height": 359
        }
      },
      "source": [
        "val_df.head(10)"
      ],
      "execution_count": 14,
      "outputs": [
        {
          "output_type": "execute_result",
          "data": {
            "text/html": [
              "<div>\n",
              "<style scoped>\n",
              "    .dataframe tbody tr th:only-of-type {\n",
              "        vertical-align: middle;\n",
              "    }\n",
              "\n",
              "    .dataframe tbody tr th {\n",
              "        vertical-align: top;\n",
              "    }\n",
              "\n",
              "    .dataframe thead th {\n",
              "        text-align: right;\n",
              "    }\n",
              "</style>\n",
              "<table border=\"1\" class=\"dataframe\">\n",
              "  <thead>\n",
              "    <tr style=\"text-align: right;\">\n",
              "      <th></th>\n",
              "      <th>text</th>\n",
              "      <th>label</th>\n",
              "      <th>category</th>\n",
              "    </tr>\n",
              "  </thead>\n",
              "  <tbody>\n",
              "    <tr>\n",
              "      <th>0</th>\n",
              "      <td>she should ask a few native americans what th...</td>\n",
              "      <td>1</td>\n",
              "      <td>0.0</td>\n",
              "    </tr>\n",
              "    <tr>\n",
              "      <th>1</th>\n",
              "      <td>go home you’re drunk  maga trump2020 👊🇺🇸👊</td>\n",
              "      <td>1</td>\n",
              "      <td>1.0</td>\n",
              "    </tr>\n",
              "    <tr>\n",
              "      <th>2</th>\n",
              "      <td>amazon is investigating chinese employees who ...</td>\n",
              "      <td>0</td>\n",
              "      <td>NaN</td>\n",
              "    </tr>\n",
              "    <tr>\n",
              "      <th>3</th>\n",
              "      <td>someone should'vetaken\" this piece of shit to...</td>\n",
              "      <td>1</td>\n",
              "      <td>0.0</td>\n",
              "    </tr>\n",
              "    <tr>\n",
              "      <th>4</th>\n",
              "      <td>obama wanted liberals  illegals to move into...</td>\n",
              "      <td>0</td>\n",
              "      <td>NaN</td>\n",
              "    </tr>\n",
              "    <tr>\n",
              "      <th>5</th>\n",
              "      <td>liberals are all kookoo</td>\n",
              "      <td>1</td>\n",
              "      <td>1.0</td>\n",
              "    </tr>\n",
              "    <tr>\n",
              "      <th>6</th>\n",
              "      <td>oh noes tough shit</td>\n",
              "      <td>1</td>\n",
              "      <td>0.0</td>\n",
              "    </tr>\n",
              "    <tr>\n",
              "      <th>7</th>\n",
              "      <td>was literally just talking about this lol all...</td>\n",
              "      <td>1</td>\n",
              "      <td>1.0</td>\n",
              "    </tr>\n",
              "    <tr>\n",
              "      <th>8</th>\n",
              "      <td>buy more icecream</td>\n",
              "      <td>0</td>\n",
              "      <td>NaN</td>\n",
              "    </tr>\n",
              "    <tr>\n",
              "      <th>9</th>\n",
              "      <td>canada doesn’t need another cuck we already h...</td>\n",
              "      <td>1</td>\n",
              "      <td>1.0</td>\n",
              "    </tr>\n",
              "  </tbody>\n",
              "</table>\n",
              "</div>"
            ],
            "text/plain": [
              "                                                text  label  category\n",
              "0   she should ask a few native americans what th...      1       0.0\n",
              "1         go home you’re drunk  maga trump2020 👊🇺🇸👊       1       1.0\n",
              "2  amazon is investigating chinese employees who ...      0       NaN\n",
              "3   someone should'vetaken\" this piece of shit to...      1       0.0\n",
              "4    obama wanted liberals  illegals to move into...      0       NaN\n",
              "5                           liberals are all kookoo       1       1.0\n",
              "6                                 oh noes tough shit      1       0.0\n",
              "7   was literally just talking about this lol all...      1       1.0\n",
              "8                                  buy more icecream      0       NaN\n",
              "9   canada doesn’t need another cuck we already h...      1       1.0"
            ]
          },
          "metadata": {
            "tags": []
          },
          "execution_count": 14
        }
      ]
    },
    {
      "cell_type": "code",
      "metadata": {
        "id": "47Gv6RyCnFA2",
        "colab_type": "code",
        "colab": {}
      },
      "source": [
        "train_df=train_df[train_df.label !=0]"
      ],
      "execution_count": 0,
      "outputs": []
    },
    {
      "cell_type": "code",
      "metadata": {
        "id": "ixMQAEB_nFPp",
        "colab_type": "code",
        "outputId": "4c941251-0f60-4b19-d180-d4b0b3c20265",
        "colab": {
          "base_uri": "https://localhost:8080/",
          "height": 359
        }
      },
      "source": [
        "train_df.head(10)"
      ],
      "execution_count": 16,
      "outputs": [
        {
          "output_type": "execute_result",
          "data": {
            "text/html": [
              "<div>\n",
              "<style scoped>\n",
              "    .dataframe tbody tr th:only-of-type {\n",
              "        vertical-align: middle;\n",
              "    }\n",
              "\n",
              "    .dataframe tbody tr th {\n",
              "        vertical-align: top;\n",
              "    }\n",
              "\n",
              "    .dataframe thead th {\n",
              "        text-align: right;\n",
              "    }\n",
              "</style>\n",
              "<table border=\"1\" class=\"dataframe\">\n",
              "  <thead>\n",
              "    <tr style=\"text-align: right;\">\n",
              "      <th></th>\n",
              "      <th>text</th>\n",
              "      <th>label</th>\n",
              "      <th>category</th>\n",
              "    </tr>\n",
              "  </thead>\n",
              "  <tbody>\n",
              "    <tr>\n",
              "      <th>0</th>\n",
              "      <td>didn't this trashy thing sleep her way to the...</td>\n",
              "      <td>1</td>\n",
              "      <td>1.0</td>\n",
              "    </tr>\n",
              "    <tr>\n",
              "      <th>1</th>\n",
              "      <td>gfy the nfl should get no protection from th...</td>\n",
              "      <td>1</td>\n",
              "      <td>1.0</td>\n",
              "    </tr>\n",
              "    <tr>\n",
              "      <th>10</th>\n",
              "      <td>👀 sitting here thinking he has a killer porn ...</td>\n",
              "      <td>1</td>\n",
              "      <td>0.0</td>\n",
              "    </tr>\n",
              "    <tr>\n",
              "      <th>13</th>\n",
              "      <td>all trump's and pense 2020 merch is being made...</td>\n",
              "      <td>1</td>\n",
              "      <td>1.0</td>\n",
              "    </tr>\n",
              "    <tr>\n",
              "      <th>16</th>\n",
              "      <td>gun control now enough is enough</td>\n",
              "      <td>1</td>\n",
              "      <td>0.0</td>\n",
              "    </tr>\n",
              "    <tr>\n",
              "      <th>17</th>\n",
              "      <td>you're full of s*** it's the liberals paid by...</td>\n",
              "      <td>1</td>\n",
              "      <td>1.0</td>\n",
              "    </tr>\n",
              "    <tr>\n",
              "      <th>20</th>\n",
              "      <td>liberals are addicted to fake news  chris is ...</td>\n",
              "      <td>1</td>\n",
              "      <td>1.0</td>\n",
              "    </tr>\n",
              "    <tr>\n",
              "      <th>23</th>\n",
              "      <td>any texan that would grant automatic citizens...</td>\n",
              "      <td>1</td>\n",
              "      <td>1.0</td>\n",
              "    </tr>\n",
              "    <tr>\n",
              "      <th>24</th>\n",
              "      <td>yeah he’s very immature  can dish out critic...</td>\n",
              "      <td>1</td>\n",
              "      <td>1.0</td>\n",
              "    </tr>\n",
              "    <tr>\n",
              "      <th>26</th>\n",
              "      <td>yoo our dogs should totally fuck</td>\n",
              "      <td>1</td>\n",
              "      <td>1.0</td>\n",
              "    </tr>\n",
              "  </tbody>\n",
              "</table>\n",
              "</div>"
            ],
            "text/plain": [
              "                                                 text  label  category\n",
              "0    didn't this trashy thing sleep her way to the...      1       1.0\n",
              "1     gfy the nfl should get no protection from th...      1       1.0\n",
              "10   👀 sitting here thinking he has a killer porn ...      1       0.0\n",
              "13  all trump's and pense 2020 merch is being made...      1       1.0\n",
              "16                   gun control now enough is enough      1       0.0\n",
              "17   you're full of s*** it's the liberals paid by...      1       1.0\n",
              "20   liberals are addicted to fake news  chris is ...      1       1.0\n",
              "23   any texan that would grant automatic citizens...      1       1.0\n",
              "24    yeah he’s very immature  can dish out critic...      1       1.0\n",
              "26                   yoo our dogs should totally fuck      1       1.0"
            ]
          },
          "metadata": {
            "tags": []
          },
          "execution_count": 16
        }
      ]
    },
    {
      "cell_type": "code",
      "metadata": {
        "id": "f1MwKwmAoRIF",
        "colab_type": "code",
        "colab": {}
      },
      "source": [
        "val_df=val_df[val_df.label !=0]\n"
      ],
      "execution_count": 0,
      "outputs": []
    },
    {
      "cell_type": "code",
      "metadata": {
        "id": "JxFJ4WnLo9YK",
        "colab_type": "code",
        "outputId": "f694dc2e-1095-41a4-d9ea-4ede5aa28749",
        "colab": {
          "base_uri": "https://localhost:8080/",
          "height": 359
        }
      },
      "source": [
        "val_df.head(10)"
      ],
      "execution_count": 19,
      "outputs": [
        {
          "output_type": "execute_result",
          "data": {
            "text/html": [
              "<div>\n",
              "<style scoped>\n",
              "    .dataframe tbody tr th:only-of-type {\n",
              "        vertical-align: middle;\n",
              "    }\n",
              "\n",
              "    .dataframe tbody tr th {\n",
              "        vertical-align: top;\n",
              "    }\n",
              "\n",
              "    .dataframe thead th {\n",
              "        text-align: right;\n",
              "    }\n",
              "</style>\n",
              "<table border=\"1\" class=\"dataframe\">\n",
              "  <thead>\n",
              "    <tr style=\"text-align: right;\">\n",
              "      <th></th>\n",
              "      <th>text</th>\n",
              "      <th>label</th>\n",
              "      <th>category</th>\n",
              "    </tr>\n",
              "  </thead>\n",
              "  <tbody>\n",
              "    <tr>\n",
              "      <th>0</th>\n",
              "      <td>she should ask a few native americans what th...</td>\n",
              "      <td>1</td>\n",
              "      <td>0.0</td>\n",
              "    </tr>\n",
              "    <tr>\n",
              "      <th>1</th>\n",
              "      <td>go home you’re drunk  maga trump2020 👊🇺🇸👊</td>\n",
              "      <td>1</td>\n",
              "      <td>1.0</td>\n",
              "    </tr>\n",
              "    <tr>\n",
              "      <th>3</th>\n",
              "      <td>someone should'vetaken\" this piece of shit to...</td>\n",
              "      <td>1</td>\n",
              "      <td>0.0</td>\n",
              "    </tr>\n",
              "    <tr>\n",
              "      <th>5</th>\n",
              "      <td>liberals are all kookoo</td>\n",
              "      <td>1</td>\n",
              "      <td>1.0</td>\n",
              "    </tr>\n",
              "    <tr>\n",
              "      <th>6</th>\n",
              "      <td>oh noes tough shit</td>\n",
              "      <td>1</td>\n",
              "      <td>0.0</td>\n",
              "    </tr>\n",
              "    <tr>\n",
              "      <th>7</th>\n",
              "      <td>was literally just talking about this lol all...</td>\n",
              "      <td>1</td>\n",
              "      <td>1.0</td>\n",
              "    </tr>\n",
              "    <tr>\n",
              "      <th>9</th>\n",
              "      <td>canada doesn’t need another cuck we already h...</td>\n",
              "      <td>1</td>\n",
              "      <td>1.0</td>\n",
              "    </tr>\n",
              "    <tr>\n",
              "      <th>12</th>\n",
              "      <td>you are a lying corrupt traitor nobody wants ...</td>\n",
              "      <td>1</td>\n",
              "      <td>1.0</td>\n",
              "    </tr>\n",
              "    <tr>\n",
              "      <th>19</th>\n",
              "      <td>gun control that is all these kids are aski...</td>\n",
              "      <td>1</td>\n",
              "      <td>1.0</td>\n",
              "    </tr>\n",
              "    <tr>\n",
              "      <th>20</th>\n",
              "      <td>lol   throwing the bullshit flag on such n...</td>\n",
              "      <td>1</td>\n",
              "      <td>1.0</td>\n",
              "    </tr>\n",
              "  </tbody>\n",
              "</table>\n",
              "</div>"
            ],
            "text/plain": [
              "                                                 text  label  category\n",
              "0    she should ask a few native americans what th...      1       0.0\n",
              "1          go home you’re drunk  maga trump2020 👊🇺🇸👊       1       1.0\n",
              "3    someone should'vetaken\" this piece of shit to...      1       0.0\n",
              "5                            liberals are all kookoo       1       1.0\n",
              "6                                  oh noes tough shit      1       0.0\n",
              "7    was literally just talking about this lol all...      1       1.0\n",
              "9    canada doesn’t need another cuck we already h...      1       1.0\n",
              "12   you are a lying corrupt traitor nobody wants ...      1       1.0\n",
              "19     gun control that is all these kids are aski...      1       1.0\n",
              "20      lol   throwing the bullshit flag on such n...      1       1.0"
            ]
          },
          "metadata": {
            "tags": []
          },
          "execution_count": 19
        }
      ]
    },
    {
      "cell_type": "code",
      "metadata": {
        "id": "Y2_xSflLI7kG",
        "colab_type": "code",
        "outputId": "db34027f-0959-4b5d-f6ea-26037bd2c9b2",
        "colab": {
          "base_uri": "https://localhost:8080/",
          "height": 204
        }
      },
      "source": [
        "test_df.head()"
      ],
      "execution_count": 20,
      "outputs": [
        {
          "output_type": "execute_result",
          "data": {
            "text/html": [
              "<div>\n",
              "<style scoped>\n",
              "    .dataframe tbody tr th:only-of-type {\n",
              "        vertical-align: middle;\n",
              "    }\n",
              "\n",
              "    .dataframe tbody tr th {\n",
              "        vertical-align: top;\n",
              "    }\n",
              "\n",
              "    .dataframe thead th {\n",
              "        text-align: right;\n",
              "    }\n",
              "</style>\n",
              "<table border=\"1\" class=\"dataframe\">\n",
              "  <thead>\n",
              "    <tr style=\"text-align: right;\">\n",
              "      <th></th>\n",
              "      <th>text</th>\n",
              "    </tr>\n",
              "  </thead>\n",
              "  <tbody>\n",
              "    <tr>\n",
              "      <th>0</th>\n",
              "      <td>liberals got to crap all over everything</td>\n",
              "    </tr>\n",
              "    <tr>\n",
              "      <th>1</th>\n",
              "      <td>...</td>\n",
              "    </tr>\n",
              "    <tr>\n",
              "      <th>2</th>\n",
              "      <td>the liberals same old playbook it is so o...</td>\n",
              "    </tr>\n",
              "    <tr>\n",
              "      <th>3</th>\n",
              "      <td>all you do is lie all congress does us lie  maga</td>\n",
              "    </tr>\n",
              "    <tr>\n",
              "      <th>4</th>\n",
              "      <td>never nigga 💀💀</td>\n",
              "    </tr>\n",
              "  </tbody>\n",
              "</table>\n",
              "</div>"
            ],
            "text/plain": [
              "                                                text\n",
              "0           liberals got to crap all over everything\n",
              "1                                                ...\n",
              "2       the liberals same old playbook it is so o...\n",
              "3   all you do is lie all congress does us lie  maga\n",
              "4                                     never nigga 💀💀"
            ]
          },
          "metadata": {
            "tags": []
          },
          "execution_count": 20
        }
      ]
    },
    {
      "cell_type": "markdown",
      "metadata": {
        "id": "VwBBjRW0-Ubf",
        "colab_type": "text"
      },
      "source": [
        "Check the content of abusive text"
      ]
    },
    {
      "cell_type": "code",
      "metadata": {
        "id": "Q6em0dtx8D3I",
        "colab_type": "code",
        "outputId": "bd3a95b0-72bd-41b4-bd9b-50eb55cdac6e",
        "colab": {
          "base_uri": "https://localhost:8080/",
          "height": 173
        }
      },
      "source": [
        "abusive_df = train_df.loc[train_df['label'] == 1]\n",
        "# pd.set_option('display.max_rows', None)\n",
        "# pd.set_option('display.width', None)\n",
        "pd.set_option('display.max_colwidth', -1)\n",
        "abusive_df['text'].head(5)"
      ],
      "execution_count": 21,
      "outputs": [
        {
          "output_type": "stream",
          "text": [
            "/usr/local/lib/python3.6/dist-packages/ipykernel_launcher.py:4: FutureWarning: Passing a negative integer is deprecated in version 1.0 and will not be supported in future version. Instead, use None to not limit the column width.\n",
            "  after removing the cwd from sys.path.\n"
          ],
          "name": "stderr"
        },
        {
          "output_type": "execute_result",
          "data": {
            "text/plain": [
              "0      didn't this trashy thing sleep her way to the top with married men                                                                 \n",
              "1       gfy the nfl should get no protection from the policeand no suppo from our militarythe league will slowly die on this road of shame\n",
              "10     👀 sitting here thinking he has a killer porn stache                                                                                \n",
              "13    all trump's and pense 2020 merch is being made is china and not the usa    maga    votethemout2018  trumpsarmy                      \n",
              "16     gun control now enough is enough                                                                                                   \n",
              "Name: text, dtype: object"
            ]
          },
          "metadata": {
            "tags": []
          },
          "execution_count": 21
        }
      ]
    },
    {
      "cell_type": "markdown",
      "metadata": {
        "id": "Plq9OgoGtqb8",
        "colab_type": "text"
      },
      "source": [
        "## Data distribution and visualization "
      ]
    },
    {
      "cell_type": "code",
      "metadata": {
        "id": "rKV_v3kvlmg7",
        "colab_type": "code",
        "outputId": "32e0a1e2-9d2d-4962-ab4b-f41c5f47c430",
        "colab": {
          "base_uri": "https://localhost:8080/",
          "height": 979
        }
      },
      "source": [
        "# count how many letters in a sentence\n",
        "def label_distribution(train_df):\n",
        "    #  length of text\n",
        "    count = train_df['text'].str.split().apply(len).value_counts()\n",
        "    count.sort_index(inplace=True)\n",
        "    count.index = count.index.astype(str) + ' words:'\n",
        "    # logging.info(count[0:5])\n",
        "    # logging.info(count[-5:])\n",
        "    plt.plot(range(len(count)), count, color='blue')\n",
        "    plt.title(\"Text length\")\n",
        "    plt.show()\n",
        "    # label distribution\n",
        "    logging.info('number of label = 1 : ' + str((train_df['label'] != 0).sum()))\n",
        "    logging.info('number of category_TIN = 1: ' + str((train_df['category_TIN'] != 0).sum()))\n",
        "    logging.info('number of category_UNT = 1: ' + str((train_df['category_UNT'] != 0).sum()))\n",
        "\n",
        "    # plot histogram\n",
        "    train_df['label'].plot.hist(bins=2, title='label distribution')\n",
        "    plt.show()\n",
        "\n",
        "label_distribution(train_df)\n"
      ],
      "execution_count": 22,
      "outputs": [
        {
          "output_type": "display_data",
          "data": {
            "image/png": "[encoded data removed]",
            "text/plain": [
              "<Figure size 432x288 with 1 Axes>"
            ]
          },
          "metadata": {
            "tags": [],
            "needs_background": "light"
          }
        },
        {
          "output_type": "stream",
          "text": [
            "2020-05-25 05:04:19 INFO     number of label = 1 : 3520\n"
          ],
          "name": "stdout"
        },
        {
          "output_type": "error",
          "ename": "KeyError",
          "evalue": "ignored",
          "traceback": [
            "\u001b[0;31m---------------------------------------------------------------------------\u001b[0m",
            "\u001b[0;31mKeyError\u001b[0m                                  Traceback (most recent call last)",
            "\u001b[0;32m/usr/local/lib/python3.6/dist-packages/pandas/core/indexes/base.py\u001b[0m in \u001b[0;36mget_loc\u001b[0;34m(self, key, method, tolerance)\u001b[0m\n\u001b[1;32m   2645\u001b[0m             \u001b[0;32mtry\u001b[0m\u001b[0;34m:\u001b[0m\u001b[0;34m\u001b[0m\u001b[0;34m\u001b[0m\u001b[0m\n\u001b[0;32m-> 2646\u001b[0;31m                 \u001b[0;32mreturn\u001b[0m \u001b[0mself\u001b[0m\u001b[0;34m.\u001b[0m\u001b[0m_engine\u001b[0m\u001b[0;34m.\u001b[0m\u001b[0mget_loc\u001b[0m\u001b[0;34m(\u001b[0m\u001b[0mkey\u001b[0m\u001b[0;34m)\u001b[0m\u001b[0;34m\u001b[0m\u001b[0;34m\u001b[0m\u001b[0m\n\u001b[0m\u001b[1;32m   2647\u001b[0m             \u001b[0;32mexcept\u001b[0m \u001b[0mKeyError\u001b[0m\u001b[0;34m:\u001b[0m\u001b[0;34m\u001b[0m\u001b[0;34m\u001b[0m\u001b[0m\n",
            "\u001b[0;32mpandas/_libs/index.pyx\u001b[0m in \u001b[0;36mpandas._libs.index.IndexEngine.get_loc\u001b[0;34m()\u001b[0m\n",
            "\u001b[0;32mpandas/_libs/index.pyx\u001b[0m in \u001b[0;36mpandas._libs.index.IndexEngine.get_loc\u001b[0;34m()\u001b[0m\n",
            "\u001b[0;32mpandas/_libs/hashtable_class_helper.pxi\u001b[0m in \u001b[0;36mpandas._libs.hashtable.PyObjectHashTable.get_item\u001b[0;34m()\u001b[0m\n",
            "\u001b[0;32mpandas/_libs/hashtable_class_helper.pxi\u001b[0m in \u001b[0;36mpandas._libs.hashtable.PyObjectHashTable.get_item\u001b[0;34m()\u001b[0m\n",
            "\u001b[0;31mKeyError\u001b[0m: 'category_TIN'",
            "\nDuring handling of the above exception, another exception occurred:\n",
            "\u001b[0;31mKeyError\u001b[0m                                  Traceback (most recent call last)",
            "\u001b[0;32m<ipython-input-22-f3921ecf2778>\u001b[0m in \u001b[0;36m<module>\u001b[0;34m()\u001b[0m\n\u001b[1;32m     19\u001b[0m     \u001b[0mplt\u001b[0m\u001b[0;34m.\u001b[0m\u001b[0mshow\u001b[0m\u001b[0;34m(\u001b[0m\u001b[0;34m)\u001b[0m\u001b[0;34m\u001b[0m\u001b[0;34m\u001b[0m\u001b[0m\n\u001b[1;32m     20\u001b[0m \u001b[0;34m\u001b[0m\u001b[0m\n\u001b[0;32m---> 21\u001b[0;31m \u001b[0mlabel_distribution\u001b[0m\u001b[0;34m(\u001b[0m\u001b[0mtrain_df\u001b[0m\u001b[0;34m)\u001b[0m\u001b[0;34m\u001b[0m\u001b[0;34m\u001b[0m\u001b[0m\n\u001b[0m",
            "\u001b[0;32m<ipython-input-22-f3921ecf2778>\u001b[0m in \u001b[0;36mlabel_distribution\u001b[0;34m(train_df)\u001b[0m\n\u001b[1;32m     12\u001b[0m     \u001b[0;31m# label distribution\u001b[0m\u001b[0;34m\u001b[0m\u001b[0;34m\u001b[0m\u001b[0;34m\u001b[0m\u001b[0m\n\u001b[1;32m     13\u001b[0m     \u001b[0mlogging\u001b[0m\u001b[0;34m.\u001b[0m\u001b[0minfo\u001b[0m\u001b[0;34m(\u001b[0m\u001b[0;34m'number of label = 1 : '\u001b[0m \u001b[0;34m+\u001b[0m \u001b[0mstr\u001b[0m\u001b[0;34m(\u001b[0m\u001b[0;34m(\u001b[0m\u001b[0mtrain_df\u001b[0m\u001b[0;34m[\u001b[0m\u001b[0;34m'label'\u001b[0m\u001b[0;34m]\u001b[0m \u001b[0;34m!=\u001b[0m \u001b[0;36m0\u001b[0m\u001b[0;34m)\u001b[0m\u001b[0;34m.\u001b[0m\u001b[0msum\u001b[0m\u001b[0;34m(\u001b[0m\u001b[0;34m)\u001b[0m\u001b[0;34m)\u001b[0m\u001b[0;34m)\u001b[0m\u001b[0;34m\u001b[0m\u001b[0;34m\u001b[0m\u001b[0m\n\u001b[0;32m---> 14\u001b[0;31m     \u001b[0mlogging\u001b[0m\u001b[0;34m.\u001b[0m\u001b[0minfo\u001b[0m\u001b[0;34m(\u001b[0m\u001b[0;34m'number of category_TIN = 1: '\u001b[0m \u001b[0;34m+\u001b[0m \u001b[0mstr\u001b[0m\u001b[0;34m(\u001b[0m\u001b[0;34m(\u001b[0m\u001b[0mtrain_df\u001b[0m\u001b[0;34m[\u001b[0m\u001b[0;34m'category_TIN'\u001b[0m\u001b[0;34m]\u001b[0m \u001b[0;34m!=\u001b[0m \u001b[0;36m0\u001b[0m\u001b[0;34m)\u001b[0m\u001b[0;34m.\u001b[0m\u001b[0msum\u001b[0m\u001b[0;34m(\u001b[0m\u001b[0;34m)\u001b[0m\u001b[0;34m)\u001b[0m\u001b[0;34m)\u001b[0m\u001b[0;34m\u001b[0m\u001b[0;34m\u001b[0m\u001b[0m\n\u001b[0m\u001b[1;32m     15\u001b[0m     \u001b[0mlogging\u001b[0m\u001b[0;34m.\u001b[0m\u001b[0minfo\u001b[0m\u001b[0;34m(\u001b[0m\u001b[0;34m'number of category_UNT = 1: '\u001b[0m \u001b[0;34m+\u001b[0m \u001b[0mstr\u001b[0m\u001b[0;34m(\u001b[0m\u001b[0;34m(\u001b[0m\u001b[0mtrain_df\u001b[0m\u001b[0;34m[\u001b[0m\u001b[0;34m'category_UNT'\u001b[0m\u001b[0;34m]\u001b[0m \u001b[0;34m!=\u001b[0m \u001b[0;36m0\u001b[0m\u001b[0;34m)\u001b[0m\u001b[0;34m.\u001b[0m\u001b[0msum\u001b[0m\u001b[0;34m(\u001b[0m\u001b[0;34m)\u001b[0m\u001b[0;34m)\u001b[0m\u001b[0;34m)\u001b[0m\u001b[0;34m\u001b[0m\u001b[0;34m\u001b[0m\u001b[0m\n\u001b[1;32m     16\u001b[0m \u001b[0;34m\u001b[0m\u001b[0m\n",
            "\u001b[0;32m/usr/local/lib/python3.6/dist-packages/pandas/core/frame.py\u001b[0m in \u001b[0;36m__getitem__\u001b[0;34m(self, key)\u001b[0m\n\u001b[1;32m   2798\u001b[0m             \u001b[0;32mif\u001b[0m \u001b[0mself\u001b[0m\u001b[0;34m.\u001b[0m\u001b[0mcolumns\u001b[0m\u001b[0;34m.\u001b[0m\u001b[0mnlevels\u001b[0m \u001b[0;34m>\u001b[0m \u001b[0;36m1\u001b[0m\u001b[0;34m:\u001b[0m\u001b[0;34m\u001b[0m\u001b[0;34m\u001b[0m\u001b[0m\n\u001b[1;32m   2799\u001b[0m                 \u001b[0;32mreturn\u001b[0m \u001b[0mself\u001b[0m\u001b[0;34m.\u001b[0m\u001b[0m_getitem_multilevel\u001b[0m\u001b[0;34m(\u001b[0m\u001b[0mkey\u001b[0m\u001b[0;34m)\u001b[0m\u001b[0;34m\u001b[0m\u001b[0;34m\u001b[0m\u001b[0m\n\u001b[0;32m-> 2800\u001b[0;31m             \u001b[0mindexer\u001b[0m \u001b[0;34m=\u001b[0m \u001b[0mself\u001b[0m\u001b[0;34m.\u001b[0m\u001b[0mcolumns\u001b[0m\u001b[0;34m.\u001b[0m\u001b[0mget_loc\u001b[0m\u001b[0;34m(\u001b[0m\u001b[0mkey\u001b[0m\u001b[0;34m)\u001b[0m\u001b[0;34m\u001b[0m\u001b[0;34m\u001b[0m\u001b[0m\n\u001b[0m\u001b[1;32m   2801\u001b[0m             \u001b[0;32mif\u001b[0m \u001b[0mis_integer\u001b[0m\u001b[0;34m(\u001b[0m\u001b[0mindexer\u001b[0m\u001b[0;34m)\u001b[0m\u001b[0;34m:\u001b[0m\u001b[0;34m\u001b[0m\u001b[0;34m\u001b[0m\u001b[0m\n\u001b[1;32m   2802\u001b[0m                 \u001b[0mindexer\u001b[0m \u001b[0;34m=\u001b[0m \u001b[0;34m[\u001b[0m\u001b[0mindexer\u001b[0m\u001b[0;34m]\u001b[0m\u001b[0;34m\u001b[0m\u001b[0;34m\u001b[0m\u001b[0m\n",
            "\u001b[0;32m/usr/local/lib/python3.6/dist-packages/pandas/core/indexes/base.py\u001b[0m in \u001b[0;36mget_loc\u001b[0;34m(self, key, method, tolerance)\u001b[0m\n\u001b[1;32m   2646\u001b[0m                 \u001b[0;32mreturn\u001b[0m \u001b[0mself\u001b[0m\u001b[0;34m.\u001b[0m\u001b[0m_engine\u001b[0m\u001b[0;34m.\u001b[0m\u001b[0mget_loc\u001b[0m\u001b[0;34m(\u001b[0m\u001b[0mkey\u001b[0m\u001b[0;34m)\u001b[0m\u001b[0;34m\u001b[0m\u001b[0;34m\u001b[0m\u001b[0m\n\u001b[1;32m   2647\u001b[0m             \u001b[0;32mexcept\u001b[0m \u001b[0mKeyError\u001b[0m\u001b[0;34m:\u001b[0m\u001b[0;34m\u001b[0m\u001b[0;34m\u001b[0m\u001b[0m\n\u001b[0;32m-> 2648\u001b[0;31m                 \u001b[0;32mreturn\u001b[0m \u001b[0mself\u001b[0m\u001b[0;34m.\u001b[0m\u001b[0m_engine\u001b[0m\u001b[0;34m.\u001b[0m\u001b[0mget_loc\u001b[0m\u001b[0;34m(\u001b[0m\u001b[0mself\u001b[0m\u001b[0;34m.\u001b[0m\u001b[0m_maybe_cast_indexer\u001b[0m\u001b[0;34m(\u001b[0m\u001b[0mkey\u001b[0m\u001b[0;34m)\u001b[0m\u001b[0;34m)\u001b[0m\u001b[0;34m\u001b[0m\u001b[0;34m\u001b[0m\u001b[0m\n\u001b[0m\u001b[1;32m   2649\u001b[0m         \u001b[0mindexer\u001b[0m \u001b[0;34m=\u001b[0m \u001b[0mself\u001b[0m\u001b[0;34m.\u001b[0m\u001b[0mget_indexer\u001b[0m\u001b[0;34m(\u001b[0m\u001b[0;34m[\u001b[0m\u001b[0mkey\u001b[0m\u001b[0;34m]\u001b[0m\u001b[0;34m,\u001b[0m \u001b[0mmethod\u001b[0m\u001b[0;34m=\u001b[0m\u001b[0mmethod\u001b[0m\u001b[0;34m,\u001b[0m \u001b[0mtolerance\u001b[0m\u001b[0;34m=\u001b[0m\u001b[0mtolerance\u001b[0m\u001b[0;34m)\u001b[0m\u001b[0;34m\u001b[0m\u001b[0;34m\u001b[0m\u001b[0m\n\u001b[1;32m   2650\u001b[0m         \u001b[0;32mif\u001b[0m \u001b[0mindexer\u001b[0m\u001b[0;34m.\u001b[0m\u001b[0mndim\u001b[0m \u001b[0;34m>\u001b[0m \u001b[0;36m1\u001b[0m \u001b[0;32mor\u001b[0m \u001b[0mindexer\u001b[0m\u001b[0;34m.\u001b[0m\u001b[0msize\u001b[0m \u001b[0;34m>\u001b[0m \u001b[0;36m1\u001b[0m\u001b[0;34m:\u001b[0m\u001b[0;34m\u001b[0m\u001b[0;34m\u001b[0m\u001b[0m\n",
            "\u001b[0;32mpandas/_libs/index.pyx\u001b[0m in \u001b[0;36mpandas._libs.index.IndexEngine.get_loc\u001b[0;34m()\u001b[0m\n",
            "\u001b[0;32mpandas/_libs/index.pyx\u001b[0m in \u001b[0;36mpandas._libs.index.IndexEngine.get_loc\u001b[0;34m()\u001b[0m\n",
            "\u001b[0;32mpandas/_libs/hashtable_class_helper.pxi\u001b[0m in \u001b[0;36mpandas._libs.hashtable.PyObjectHashTable.get_item\u001b[0;34m()\u001b[0m\n",
            "\u001b[0;32mpandas/_libs/hashtable_class_helper.pxi\u001b[0m in \u001b[0;36mpandas._libs.hashtable.PyObjectHashTable.get_item\u001b[0;34m()\u001b[0m\n",
            "\u001b[0;31mKeyError\u001b[0m: 'category_TIN'"
          ]
        }
      ]
    },
    {
      "cell_type": "markdown",
      "metadata": {
        "id": "7kCi_RoLE8wP",
        "colab_type": "text"
      },
      "source": [
        "# Split data to X and y"
      ]
    },
    {
      "cell_type": "markdown",
      "metadata": {
        "id": "K8D_XrHPEaIV",
        "colab_type": "text"
      },
      "source": [
        "Split data to X and y"
      ]
    },
    {
      "cell_type": "code",
      "metadata": {
        "id": "vHcgmnATZA6k",
        "colab_type": "code",
        "outputId": "35f9f00b-4d7d-48d0-df58-8d3a86856dff",
        "colab": {
          "base_uri": "https://localhost:8080/",
          "height": 51
        }
      },
      "source": [
        "def split_train_val(train_df, val_df, test_df):\n",
        "    logging.info('splitting X and y ...')\n",
        "    train_X = train_df[\"text\"].fillna(\"_na_\").values\n",
        "    val_X = val_df[\"text\"].fillna(\"_na_\").values\n",
        "    test_X = test_df[\"text\"].fillna(\"_na_\").values\n",
        "\n",
        "    train_y = train_df['category'].values\n",
        "    val_y = val_df['category'].values\n",
        "\n",
        "    logging.info('finished splitting X and y')\n",
        "    return train_X, val_X, test_X, train_y, val_y\n",
        "\n",
        "train_X, val_X, test_X, train_y, val_y = split_train_val(train_df, val_df, test_df)"
      ],
      "execution_count": 23,
      "outputs": [
        {
          "output_type": "stream",
          "text": [
            "2020-05-25 05:04:26 INFO     splitting X and y ...\n",
            "2020-05-25 05:04:26 INFO     finished splitting X and y\n"
          ],
          "name": "stdout"
        }
      ]
    },
    {
      "cell_type": "code",
      "metadata": {
        "id": "rdk4s-pCZA6o",
        "colab_type": "code",
        "outputId": "0a0d89bf-5897-4554-aa9d-5fb01e8e688b",
        "colab": {
          "base_uri": "https://localhost:8080/",
          "height": 51
        }
      },
      "source": [
        "print(train_X.shape, train_y.shape)\n",
        "print(val_X.shape, val_y.shape)"
      ],
      "execution_count": 24,
      "outputs": [
        {
          "output_type": "stream",
          "text": [
            "(3520,) (3520,)\n",
            "(440,) (440,)\n"
          ],
          "name": "stdout"
        }
      ]
    },
    {
      "cell_type": "markdown",
      "metadata": {
        "id": "feMxvs73D-gx",
        "colab_type": "text"
      },
      "source": [
        "Tokenize and padding each sentence, split datafram to attributes and labels"
      ]
    },
    {
      "cell_type": "code",
      "metadata": {
        "id": "tNGTN3kVZA6m",
        "colab_type": "code",
        "outputId": "bb513e3c-dfba-494a-878f-c883dbbd8cb8",
        "colab": {
          "base_uri": "https://localhost:8080/",
          "height": 68
        }
      },
      "source": [
        "# each word embedding to 300 dimension\n",
        "embed_size = 300\n",
        "# count of vocabulary words\n",
        "max_features = 50000\n",
        "# length of each sentences\n",
        "max_len = 70\n",
        "\n",
        "def token_sentence(train_X, val_X, test_X ):\n",
        "    logging.info('tokenizing sentence...')\n",
        "    tokenizer = Tokenizer(num_words=max_features)\n",
        "    tokenizer.fit_on_texts(list(train_X))\n",
        "    train_X = tokenizer.texts_to_sequences(train_X)\n",
        "    val_X = tokenizer.texts_to_sequences(val_X)\n",
        "    test_X = tokenizer.texts_to_sequences(test_X)\n",
        "\n",
        "    logging.info('padding sentence...')\n",
        "    train_X = pad_sequences(train_X, maxlen=max_len)\n",
        "    val_X = pad_sequences(val_X, maxlen=max_len)\n",
        "    test_X = pad_sequences(test_X, maxlen=max_len)\n",
        "\n",
        "    logging.info('all finished...')\n",
        "    return train_X, val_X, test_X, tokenizer\n",
        "\n",
        "train_X, val_X, test_X, tokenizer = token_sentence(train_X, val_X, test_X)\n"
      ],
      "execution_count": 25,
      "outputs": [
        {
          "output_type": "stream",
          "text": [
            "2020-05-25 05:04:30 INFO     tokenizing sentence...\n",
            "2020-05-25 05:04:30 INFO     padding sentence...\n",
            "2020-05-25 05:04:30 INFO     all finished...\n"
          ],
          "name": "stdout"
        }
      ]
    },
    {
      "cell_type": "code",
      "metadata": {
        "id": "NBUErOp_QEK9",
        "colab_type": "code",
        "outputId": "ea88a3fc-91e6-4f55-87d0-96791bdd783f",
        "colab": {
          "base_uri": "https://localhost:8080/",
          "height": 34
        }
      },
      "source": [
        "train_X.shape"
      ],
      "execution_count": 26,
      "outputs": [
        {
          "output_type": "execute_result",
          "data": {
            "text/plain": [
              "(3520, 70)"
            ]
          },
          "metadata": {
            "tags": []
          },
          "execution_count": 26
        }
      ]
    },
    {
      "cell_type": "markdown",
      "metadata": {
        "id": "AenyxjOSMCDL",
        "colab_type": "text"
      },
      "source": [
        "# Train model"
      ]
    },
    {
      "cell_type": "markdown",
      "metadata": {
        "id": "QL2IvlW8qLJQ",
        "colab_type": "text"
      },
      "source": [
        "## Model1: base line"
      ]
    },
    {
      "cell_type": "code",
      "metadata": {
        "id": "0-uZ5egkQd58",
        "colab_type": "code",
        "colab": {}
      },
      "source": [
        "from sklearn import tree\n",
        "from sklearn.linear_model import LogisticRegression\n",
        "from sklearn.naive_bayes import GaussianNB\n",
        "\n",
        "from sklearn.metrics import accuracy_score, f1_score\n",
        "from sklearn.metrics import precision_score\n",
        "from sklearn.metrics import recall_score\n",
        "from sklearn.metrics import confusion_matrix\n",
        "\n",
        "# precision is the ratio tp / (tp + fp)\n",
        "# recall is the ratio tp / (tp + fn)\n",
        "# F1 = 2 * (precision * recall) / (precision + recall)"
      ],
      "execution_count": 0,
      "outputs": []
    },
    {
      "cell_type": "markdown",
      "metadata": {
        "id": "pYDgYFtKqO40",
        "colab_type": "text"
      },
      "source": [
        "### Decision tree"
      ]
    },
    {
      "cell_type": "code",
      "metadata": {
        "id": "odb9nd5WQST8",
        "colab_type": "code",
        "colab": {}
      },
      "source": [
        "def dt_model(train_X, train_y, val_X, cal_y):\n",
        "    dt_clf = tree.DecisionTreeClassifier()\n",
        "    dt_clf = dt_clf.fit(train_X, train_y)\n",
        "    pred_val_y = dt_clf.predict(val_X).reshape(-1,1)\n",
        "    \n",
        "    tn, fp, fn, tp = confusion_matrix(pred_val_y, val_y).ravel()\n",
        "    print('tn', tn, 'fp', fp, 'fn', fn, 'tp', tp)\n",
        "\n",
        "    dt_acc = accuracy_score(pred_val_y, val_y)\n",
        "    dt_precision = precision_score(pred_val_y, val_y)\n",
        "    dt_recall = recall_score(pred_val_y, val_y)\n",
        "    dt_f1_score = f1_score(pred_val_y, val_y)\n",
        "    return dt_acc, dt_precision, dt_recall, dt_f1_score "
      ],
      "execution_count": 0,
      "outputs": []
    },
    {
      "cell_type": "code",
      "metadata": {
        "id": "6NbcgKG1RcQL",
        "colab_type": "code",
        "outputId": "c8f941c4-5ae0-4812-a6a5-0d105c14d8bd",
        "colab": {
          "base_uri": "https://localhost:8080/",
          "height": 71
        }
      },
      "source": [
        "dt_acc, dt_precision, dt_recall, dt_f1_score= dt_model(train_X, train_y, val_X, val_y)\n",
        "print('dt_acc: ', dt_acc, 'dt_precision: ', dt_precision, 'dt_recall: ',dt_recall,', dt_f1_score: ',  dt_f1_score)"
      ],
      "execution_count": 29,
      "outputs": [
        {
          "output_type": "stream",
          "text": [
            "tn 9 fp 51 fn 35 tp 345\n",
            "dt_acc:  0.8045454545454546 dt_precision:  0.8712121212121212 dt_recall:  0.9078947368421053 , dt_f1_score:  0.8891752577319588\n"
          ],
          "name": "stdout"
        }
      ]
    },
    {
      "cell_type": "markdown",
      "metadata": {
        "id": "63QJAP9RqSle",
        "colab_type": "text"
      },
      "source": [
        "### LogisticRegression"
      ]
    },
    {
      "cell_type": "code",
      "metadata": {
        "id": "J-FpKqDpWoiD",
        "colab_type": "code",
        "colab": {}
      },
      "source": [
        "def lr_model(train_X, train_y, val_X, cal_y):\n",
        "    lr_clf = LogisticRegression(random_state=0, max_iter=10000).fit(train_X, train_y)\n",
        "    pred_val_y = lr_clf.predict(val_X).reshape(-1,1)\n",
        "\n",
        "    tn, fp, fn, tp = confusion_matrix(pred_val_y, val_y).ravel()\n",
        "    print('tn', tn, 'fp', fp, 'fn', fn, 'tp', tp)\n",
        "\n",
        "    lr_acc = accuracy_score(pred_val_y, val_y)\n",
        "    lr_precision = precision_score(pred_val_y, val_y)\n",
        "    lr_recall = recall_score(pred_val_y, val_y)\n",
        "    lr_f1_score = f1_score(pred_val_y, val_y)\n",
        "    return lr_acc, lr_precision, lr_recall, lr_f1_score"
      ],
      "execution_count": 0,
      "outputs": []
    },
    {
      "cell_type": "code",
      "metadata": {
        "id": "W8B44OR0W_vF",
        "colab_type": "code",
        "outputId": "c85fcfeb-dad1-4ed0-bdef-d00c53d5c606",
        "colab": {
          "base_uri": "https://localhost:8080/",
          "height": 68
        }
      },
      "source": [
        "lr_acc, lr_precision, lr_recall, lr_f1_score = lr_model(train_X, train_y, val_X, val_y)\n",
        "print('lr_precision', lr_precision, 'lr_recall', lr_recall)\n",
        "print('lr_acc: ', lr_acc, ', lr_f1_score: ',  lr_f1_score)"
      ],
      "execution_count": 31,
      "outputs": [
        {
          "output_type": "stream",
          "text": [
            "tn 0 fp 0 fn 44 tp 396\n",
            "lr_precision 1.0 lr_recall 0.9\n",
            "lr_acc:  0.9 , lr_f1_score:  0.9473684210526316\n"
          ],
          "name": "stdout"
        }
      ]
    },
    {
      "cell_type": "markdown",
      "metadata": {
        "id": "_i7BpltoqZza",
        "colab_type": "text"
      },
      "source": [
        "### GaussianNB"
      ]
    },
    {
      "cell_type": "code",
      "metadata": {
        "id": "_RDWko-oXO9N",
        "colab_type": "code",
        "colab": {}
      },
      "source": [
        "def gNB_model(train_X, train_y, val_X, cal_y):\n",
        "    gNB_clf = GaussianNB()\n",
        "    gNB_clf = gNB_clf.fit(train_X, train_y)\n",
        "    pred_val_y = gNB_clf.predict(val_X).reshape(-1,1)\n",
        "\n",
        "    tn, fp, fn, tp = confusion_matrix(pred_val_y, val_y).ravel()\n",
        "    print('tn', tn, 'fp', fp, 'fn', fn, 'tp', tp)\n",
        "\n",
        "    gNB_acc = accuracy_score(pred_val_y, val_y)\n",
        "    gNB_precision = precision_score(pred_val_y, val_y)\n",
        "    gNB_recall = recall_score(pred_val_y, val_y)\n",
        "    gNB_f1_score = f1_score(pred_val_y, val_y)\n",
        "    return gNB_acc, gNB_precision, gNB_recall, gNB_f1_score"
      ],
      "execution_count": 0,
      "outputs": []
    },
    {
      "cell_type": "code",
      "metadata": {
        "id": "heu4JLHgX164",
        "colab_type": "code",
        "outputId": "d7541ae1-7669-46b9-a6c1-f8215e28a604",
        "colab": {
          "base_uri": "https://localhost:8080/",
          "height": 71
        }
      },
      "source": [
        "gNB_acc, gNB_precision, gNB_recall, gNB_f1_score = gNB_model(train_X, train_y, val_X, val_y)\n",
        "print('gNB_acc: ', gNB_acc, 'gNB_precision: ', gNB_precision, 'gNB_recall:', gNB_recall, 'gNB_f1_score: ',  gNB_f1_score)"
      ],
      "execution_count": 33,
      "outputs": [
        {
          "output_type": "stream",
          "text": [
            "tn 42 fp 374 fn 2 tp 22\n",
            "gNB_acc:  0.14545454545454545 gNB_precision:  0.05555555555555555 gNB_recall: 0.9166666666666666 gNB_f1_score:  0.10476190476190475\n"
          ],
          "name": "stdout"
        }
      ]
    },
    {
      "cell_type": "markdown",
      "metadata": {
        "id": "REnqEUw_kKI8",
        "colab_type": "text"
      },
      "source": [
        "## Model2 : LSTM + Without Pretrained Embeddings:"
      ]
    },
    {
      "cell_type": "code",
      "metadata": {
        "id": "G9wKqZveyapX",
        "colab_type": "code",
        "outputId": "6ceb4775-5822-44c1-a56a-644ddf7e73c6",
        "colab": {
          "base_uri": "https://localhost:8080/",
          "height": 323
        }
      },
      "source": [
        "import tensorflow as tf\n",
        "from tensorflow.keras import layers\n",
        "\n",
        "model = tf.keras.Sequential()\n",
        "\n",
        "# Add an Embedding layer expecting input vocab of size 50000, and\n",
        "# output embedding dimension of size 300.\n",
        "model.add(layers.Embedding(input_dim=50000, output_dim=300))\n",
        "\n",
        "# Add a LSTM layer with 128 internal units.\n",
        "model.add(layers.LSTM(128))\n",
        "model.add(layers.Dense(10,activation=\"relu\"))\n",
        "model.add(layers.Dropout(0.2))\n",
        "model.add(layers.Dense(1, activation=\"sigmoid\"))\n",
        "\n",
        "model.summary()"
      ],
      "execution_count": 34,
      "outputs": [
        {
          "output_type": "stream",
          "text": [
            "Model: \"sequential\"\n",
            "_________________________________________________________________\n",
            "Layer (type)                 Output Shape              Param #   \n",
            "=================================================================\n",
            "embedding (Embedding)        (None, None, 300)         15000000  \n",
            "_________________________________________________________________\n",
            "lstm (LSTM)                  (None, 128)               219648    \n",
            "_________________________________________________________________\n",
            "dense (Dense)                (None, 10)                1290      \n",
            "_________________________________________________________________\n",
            "dropout (Dropout)            (None, 10)                0         \n",
            "_________________________________________________________________\n",
            "dense_1 (Dense)              (None, 1)                 11        \n",
            "=================================================================\n",
            "Total params: 15,220,949\n",
            "Trainable params: 15,220,949\n",
            "Non-trainable params: 0\n",
            "_________________________________________________________________\n"
          ],
          "name": "stdout"
        }
      ]
    },
    {
      "cell_type": "code",
      "metadata": {
        "id": "71VTQNZjzgn9",
        "colab_type": "code",
        "outputId": "ff236624-bf28-402b-e4fc-71a71b1ac40b",
        "colab": {
          "base_uri": "https://localhost:8080/",
          "height": 241
        }
      },
      "source": [
        "model.compile(loss='binary_crossentropy', optimizer='adam', metrics=['accuracy'])\n",
        "\n",
        "from tensorflow.keras.callbacks import EarlyStopping\n",
        "callbacks = EarlyStopping(monitor='val_loss', min_delta=0, patience = 2)\n",
        "history = model.fit(train_X, \n",
        "                    train_y, \n",
        "                    batch_size=512, \n",
        "                    epochs=14, \n",
        "                    validation_data=(val_X, val_y),\n",
        "                    callbacks=callbacks\n",
        "                    )"
      ],
      "execution_count": 35,
      "outputs": [
        {
          "output_type": "stream",
          "text": [
            "Epoch 1/14\n",
            "7/7 [==============================] - 8s 1s/step - loss: 0.6067 - accuracy: 0.8378 - val_loss: 0.3312 - val_accuracy: 0.9000\n",
            "Epoch 2/14\n",
            "7/7 [==============================] - 7s 1s/step - loss: 0.4211 - accuracy: 0.8776 - val_loss: 0.3468 - val_accuracy: 0.9000\n",
            "Epoch 3/14\n",
            "7/7 [==============================] - 7s 1s/step - loss: 0.3889 - accuracy: 0.8776 - val_loss: 0.3289 - val_accuracy: 0.9000\n",
            "Epoch 4/14\n",
            "7/7 [==============================] - 7s 1s/step - loss: 0.3686 - accuracy: 0.8776 - val_loss: 0.3224 - val_accuracy: 0.9000\n",
            "Epoch 5/14\n",
            "7/7 [==============================] - 7s 1s/step - loss: 0.3500 - accuracy: 0.8776 - val_loss: 0.3280 - val_accuracy: 0.9000\n",
            "Epoch 6/14\n",
            "7/7 [==============================] - 7s 1s/step - loss: 0.3187 - accuracy: 0.8787 - val_loss: 0.3290 - val_accuracy: 0.9000\n"
          ],
          "name": "stdout"
        }
      ]
    },
    {
      "cell_type": "code",
      "metadata": {
        "id": "MiaEcGWWZA6v",
        "colab_type": "code",
        "outputId": "3f6085c7-c915-436f-f6ff-f6841a3b12c6",
        "colab": {
          "base_uri": "https://localhost:8080/",
          "height": 573
        }
      },
      "source": [
        "# plot history\n",
        "# Plot training & validation accuracy values\n",
        "import matplotlib.pyplot as plt \n",
        "plt.plot(history.history['accuracy'])\n",
        "plt.plot(history.history['val_accuracy'])\n",
        "plt.title('Model accuracy')\n",
        "plt.ylabel('Accuracy')\n",
        "plt.xlabel('Epoch')\n",
        "plt.legend(['Train', 'Val'], loc='upper left')\n",
        "plt.show()\n",
        "\n",
        "# Plot training & validation loss values\n",
        "plt.plot(history.history['loss'])\n",
        "plt.plot(history.history['val_loss'])\n",
        "plt.title('Model loss')\n",
        "plt.ylabel('Loss')\n",
        "plt.xlabel('Epoch')\n",
        "plt.legend(['Train', 'Val'], loc='upper left')\n",
        "plt.show()"
      ],
      "execution_count": 36,
      "outputs": [
        {
          "output_type": "display_data",
          "data": {
            "image/png": "[encoded data removed]",
            "text/plain": [
              "<Figure size 432x288 with 1 Axes>"
            ]
          },
          "metadata": {
            "tags": [],
            "needs_background": "light"
          }
        },
        {
          "output_type": "display_data",
          "data": {
            "image/png": "[encoded data removed]",
            "text/plain": [
              "<Figure size 432x288 with 1 Axes>"
            ]
          },
          "metadata": {
            "tags": [],
            "needs_background": "light"
          }
        }
      ]
    },
    {
      "cell_type": "code",
      "metadata": {
        "id": "FntfkhFlRKfQ",
        "colab_type": "code",
        "outputId": "b2341fcc-3c6b-4e93-9bf6-f3f2ae35af18",
        "colab": {
          "base_uri": "https://localhost:8080/",
          "height": 1000
        }
      },
      "source": [
        "pred_noemb_val_y = model.predict([val_X], batch_size=1024, verbose=1)\n",
        "print(pred_noemb_val_y)"
      ],
      "execution_count": 37,
      "outputs": [
        {
          "output_type": "stream",
          "text": [
            "1/1 [==============================] - 0s 1ms/step\n",
            "[[0.9056799 ]\n",
            " [0.8852545 ]\n",
            " [0.7938906 ]\n",
            " [0.81915575]\n",
            " [0.5187492 ]\n",
            " [0.9203656 ]\n",
            " [0.9305432 ]\n",
            " [0.94009507]\n",
            " [0.92386603]\n",
            " [0.8785031 ]\n",
            " [0.9368354 ]\n",
            " [0.87791276]\n",
            " [0.9101052 ]\n",
            " [0.9365522 ]\n",
            " [0.9386936 ]\n",
            " [0.87566155]\n",
            " [0.9026661 ]\n",
            " [0.95154715]\n",
            " [0.5877484 ]\n",
            " [0.9001689 ]\n",
            " [0.8783179 ]\n",
            " [0.9472349 ]\n",
            " [0.8424586 ]\n",
            " [0.92074233]\n",
            " [0.93978137]\n",
            " [0.87437296]\n",
            " [0.9442376 ]\n",
            " [0.8346963 ]\n",
            " [0.90128595]\n",
            " [0.9184477 ]\n",
            " [0.9097227 ]\n",
            " [0.8690284 ]\n",
            " [0.5698826 ]\n",
            " [0.8464799 ]\n",
            " [0.8658531 ]\n",
            " [0.92463857]\n",
            " [0.8800516 ]\n",
            " [0.8604225 ]\n",
            " [0.7044072 ]\n",
            " [0.8920733 ]\n",
            " [0.9374752 ]\n",
            " [0.9003774 ]\n",
            " [0.8028983 ]\n",
            " [0.95199347]\n",
            " [0.947179  ]\n",
            " [0.94465935]\n",
            " [0.9092287 ]\n",
            " [0.94717205]\n",
            " [0.7340683 ]\n",
            " [0.9068209 ]\n",
            " [0.7823913 ]\n",
            " [0.89155483]\n",
            " [0.81907   ]\n",
            " [0.94328654]\n",
            " [0.68832624]\n",
            " [0.8971549 ]\n",
            " [0.94743425]\n",
            " [0.8973594 ]\n",
            " [0.9561696 ]\n",
            " [0.80905676]\n",
            " [0.9124307 ]\n",
            " [0.738665  ]\n",
            " [0.88834643]\n",
            " [0.5205319 ]\n",
            " [0.9353833 ]\n",
            " [0.94566846]\n",
            " [0.89590865]\n",
            " [0.9013659 ]\n",
            " [0.8498976 ]\n",
            " [0.8932011 ]\n",
            " [0.8751172 ]\n",
            " [0.8808678 ]\n",
            " [0.93317795]\n",
            " [0.9529887 ]\n",
            " [0.8872263 ]\n",
            " [0.871151  ]\n",
            " [0.75181365]\n",
            " [0.92648065]\n",
            " [0.7902633 ]\n",
            " [0.87192345]\n",
            " [0.93183875]\n",
            " [0.95037377]\n",
            " [0.93772763]\n",
            " [0.93625283]\n",
            " [0.92554694]\n",
            " [0.7621442 ]\n",
            " [0.656641  ]\n",
            " [0.8534523 ]\n",
            " [0.8706825 ]\n",
            " [0.8912331 ]\n",
            " [0.9493499 ]\n",
            " [0.8878195 ]\n",
            " [0.90568256]\n",
            " [0.9103327 ]\n",
            " [0.74923885]\n",
            " [0.90674406]\n",
            " [0.6560737 ]\n",
            " [0.9350909 ]\n",
            " [0.92139256]\n",
            " [0.8854149 ]\n",
            " [0.9386281 ]\n",
            " [0.94040054]\n",
            " [0.92725873]\n",
            " [0.87168956]\n",
            " [0.87863886]\n",
            " [0.94636106]\n",
            " [0.94759566]\n",
            " [0.9406024 ]\n",
            " [0.8929922 ]\n",
            " [0.94292295]\n",
            " [0.83215797]\n",
            " [0.7530137 ]\n",
            " [0.9430222 ]\n",
            " [0.68561566]\n",
            " [0.91908425]\n",
            " [0.93528664]\n",
            " [0.93212056]\n",
            " [0.6471524 ]\n",
            " [0.92412627]\n",
            " [0.91380537]\n",
            " [0.93263876]\n",
            " [0.8147043 ]\n",
            " [0.90961325]\n",
            " [0.9121971 ]\n",
            " [0.55290747]\n",
            " [0.927412  ]\n",
            " [0.9532974 ]\n",
            " [0.93508375]\n",
            " [0.8940805 ]\n",
            " [0.8877754 ]\n",
            " [0.94725454]\n",
            " [0.8720757 ]\n",
            " [0.93990314]\n",
            " [0.93588877]\n",
            " [0.9391538 ]\n",
            " [0.9319187 ]\n",
            " [0.88999057]\n",
            " [0.9285972 ]\n",
            " [0.9223777 ]\n",
            " [0.9064671 ]\n",
            " [0.8850781 ]\n",
            " [0.7598038 ]\n",
            " [0.85515124]\n",
            " [0.8931712 ]\n",
            " [0.70992476]\n",
            " [0.8110939 ]\n",
            " [0.90524936]\n",
            " [0.91905487]\n",
            " [0.9279714 ]\n",
            " [0.9280647 ]\n",
            " [0.9095516 ]\n",
            " [0.88142204]\n",
            " [0.91989017]\n",
            " [0.9354109 ]\n",
            " [0.796423  ]\n",
            " [0.9120244 ]\n",
            " [0.8486413 ]\n",
            " [0.51558775]\n",
            " [0.7375635 ]\n",
            " [0.61194336]\n",
            " [0.94403386]\n",
            " [0.9434458 ]\n",
            " [0.81392956]\n",
            " [0.94660276]\n",
            " [0.9210607 ]\n",
            " [0.87617445]\n",
            " [0.9310214 ]\n",
            " [0.92915606]\n",
            " [0.8403576 ]\n",
            " [0.88692796]\n",
            " [0.8481375 ]\n",
            " [0.933668  ]\n",
            " [0.88667715]\n",
            " [0.892364  ]\n",
            " [0.9110197 ]\n",
            " [0.93587804]\n",
            " [0.67138743]\n",
            " [0.93407047]\n",
            " [0.9067031 ]\n",
            " [0.9366864 ]\n",
            " [0.9027668 ]\n",
            " [0.7561917 ]\n",
            " [0.866204  ]\n",
            " [0.8559542 ]\n",
            " [0.8921044 ]\n",
            " [0.925461  ]\n",
            " [0.94725883]\n",
            " [0.9571941 ]\n",
            " [0.9569354 ]\n",
            " [0.8941333 ]\n",
            " [0.75376785]\n",
            " [0.9258523 ]\n",
            " [0.9342849 ]\n",
            " [0.9525389 ]\n",
            " [0.8468667 ]\n",
            " [0.79156953]\n",
            " [0.9176822 ]\n",
            " [0.95066047]\n",
            " [0.9264796 ]\n",
            " [0.9439331 ]\n",
            " [0.83641803]\n",
            " [0.92579716]\n",
            " [0.92860186]\n",
            " [0.9522754 ]\n",
            " [0.937788  ]\n",
            " [0.8919568 ]\n",
            " [0.9378738 ]\n",
            " [0.8619294 ]\n",
            " [0.8353659 ]\n",
            " [0.9629129 ]\n",
            " [0.83886707]\n",
            " [0.8626263 ]\n",
            " [0.94830996]\n",
            " [0.9302558 ]\n",
            " [0.656641  ]\n",
            " [0.892897  ]\n",
            " [0.9270749 ]\n",
            " [0.9329072 ]\n",
            " [0.9150966 ]\n",
            " [0.94218457]\n",
            " [0.9435725 ]\n",
            " [0.9396766 ]\n",
            " [0.8315486 ]\n",
            " [0.92995024]\n",
            " [0.81408453]\n",
            " [0.927613  ]\n",
            " [0.87239563]\n",
            " [0.92569566]\n",
            " [0.8389195 ]\n",
            " [0.81933343]\n",
            " [0.9447453 ]\n",
            " [0.9022406 ]\n",
            " [0.8136754 ]\n",
            " [0.5877484 ]\n",
            " [0.88619834]\n",
            " [0.95253634]\n",
            " [0.9111458 ]\n",
            " [0.86967874]\n",
            " [0.7531481 ]\n",
            " [0.8663912 ]\n",
            " [0.9262685 ]\n",
            " [0.8988392 ]\n",
            " [0.9586756 ]\n",
            " [0.61073905]\n",
            " [0.84823596]\n",
            " [0.9446657 ]\n",
            " [0.9539385 ]\n",
            " [0.919991  ]\n",
            " [0.9505831 ]\n",
            " [0.91895735]\n",
            " [0.92663836]\n",
            " [0.9063763 ]\n",
            " [0.9294448 ]\n",
            " [0.92280054]\n",
            " [0.93211013]\n",
            " [0.90753204]\n",
            " [0.91625404]\n",
            " [0.9016639 ]\n",
            " [0.7692927 ]\n",
            " [0.9506496 ]\n",
            " [0.93271965]\n",
            " [0.81518877]\n",
            " [0.9192796 ]\n",
            " [0.8341162 ]\n",
            " [0.9278598 ]\n",
            " [0.8732008 ]\n",
            " [0.94471365]\n",
            " [0.8934095 ]\n",
            " [0.9475038 ]\n",
            " [0.9443573 ]\n",
            " [0.90786564]\n",
            " [0.853994  ]\n",
            " [0.8807044 ]\n",
            " [0.8947688 ]\n",
            " [0.6869066 ]\n",
            " [0.959401  ]\n",
            " [0.8994682 ]\n",
            " [0.9549513 ]\n",
            " [0.8716972 ]\n",
            " [0.87987363]\n",
            " [0.91086787]\n",
            " [0.9328748 ]\n",
            " [0.927238  ]\n",
            " [0.9217458 ]\n",
            " [0.931327  ]\n",
            " [0.94470495]\n",
            " [0.9287653 ]\n",
            " [0.8818258 ]\n",
            " [0.912269  ]\n",
            " [0.9283685 ]\n",
            " [0.9005489 ]\n",
            " [0.94994235]\n",
            " [0.93022954]\n",
            " [0.93488324]\n",
            " [0.90469867]\n",
            " [0.92137027]\n",
            " [0.94340014]\n",
            " [0.91980493]\n",
            " [0.943125  ]\n",
            " [0.90334165]\n",
            " [0.52519643]\n",
            " [0.81487036]\n",
            " [0.90981364]\n",
            " [0.8508108 ]\n",
            " [0.82463753]\n",
            " [0.5201208 ]\n",
            " [0.9006216 ]\n",
            " [0.90837795]\n",
            " [0.8550987 ]\n",
            " [0.9195802 ]\n",
            " [0.88844275]\n",
            " [0.94501126]\n",
            " [0.9485562 ]\n",
            " [0.9178418 ]\n",
            " [0.9598007 ]\n",
            " [0.9257246 ]\n",
            " [0.9475659 ]\n",
            " [0.8730283 ]\n",
            " [0.88683784]\n",
            " [0.7350703 ]\n",
            " [0.8787637 ]\n",
            " [0.9118662 ]\n",
            " [0.90075994]\n",
            " [0.9289577 ]\n",
            " [0.9381695 ]\n",
            " [0.944532  ]\n",
            " [0.9160011 ]\n",
            " [0.9094491 ]\n",
            " [0.9303998 ]\n",
            " [0.8735043 ]\n",
            " [0.92154455]\n",
            " [0.7434295 ]\n",
            " [0.7765625 ]\n",
            " [0.9228378 ]\n",
            " [0.9066701 ]\n",
            " [0.9194486 ]\n",
            " [0.9399147 ]\n",
            " [0.856958  ]\n",
            " [0.9083341 ]\n",
            " [0.897011  ]\n",
            " [0.5240488 ]\n",
            " [0.91756153]\n",
            " [0.96469927]\n",
            " [0.9169692 ]\n",
            " [0.8979384 ]\n",
            " [0.75616705]\n",
            " [0.86581683]\n",
            " [0.9238727 ]\n",
            " [0.8528408 ]\n",
            " [0.92604077]\n",
            " [0.92583704]\n",
            " [0.87912416]\n",
            " [0.8021998 ]\n",
            " [0.9202796 ]\n",
            " [0.83392954]\n",
            " [0.7419047 ]\n",
            " [0.9413469 ]\n",
            " [0.9228011 ]\n",
            " [0.94138044]\n",
            " [0.8538154 ]\n",
            " [0.8937766 ]\n",
            " [0.9553335 ]\n",
            " [0.9330469 ]\n",
            " [0.8920813 ]\n",
            " [0.9253315 ]\n",
            " [0.92259806]\n",
            " [0.90627146]\n",
            " [0.84252435]\n",
            " [0.8365928 ]\n",
            " [0.8821832 ]\n",
            " [0.92787814]\n",
            " [0.656312  ]\n",
            " [0.93480086]\n",
            " [0.93231225]\n",
            " [0.9325899 ]\n",
            " [0.919119  ]\n",
            " [0.9077337 ]\n",
            " [0.9084985 ]\n",
            " [0.6716862 ]\n",
            " [0.83739054]\n",
            " [0.9324193 ]\n",
            " [0.6057063 ]\n",
            " [0.8771672 ]\n",
            " [0.95082587]\n",
            " [0.9450295 ]\n",
            " [0.9304511 ]\n",
            " [0.73472595]\n",
            " [0.83919036]\n",
            " [0.8477093 ]\n",
            " [0.9307294 ]\n",
            " [0.92586637]\n",
            " [0.940657  ]\n",
            " [0.9205334 ]\n",
            " [0.90652275]\n",
            " [0.9201571 ]\n",
            " [0.8209145 ]\n",
            " [0.87905705]\n",
            " [0.84275764]\n",
            " [0.93631744]\n",
            " [0.90318096]\n",
            " [0.93265724]\n",
            " [0.9107457 ]\n",
            " [0.9195585 ]\n",
            " [0.89905775]\n",
            " [0.94002104]\n",
            " [0.8005078 ]\n",
            " [0.9450176 ]\n",
            " [0.9004366 ]\n",
            " [0.9159064 ]\n",
            " [0.8949163 ]\n",
            " [0.8821597 ]\n",
            " [0.9201205 ]\n",
            " [0.82036805]\n",
            " [0.74854666]\n",
            " [0.8513466 ]\n",
            " [0.9374231 ]\n",
            " [0.95162845]\n",
            " [0.94111407]\n",
            " [0.9465948 ]\n",
            " [0.9298025 ]\n",
            " [0.9492769 ]\n",
            " [0.91058016]\n",
            " [0.92769015]\n",
            " [0.8890058 ]\n",
            " [0.82632494]\n",
            " [0.92912054]\n",
            " [0.91729426]\n",
            " [0.9448899 ]\n",
            " [0.91754746]\n",
            " [0.9120912 ]\n",
            " [0.94210935]\n",
            " [0.897576  ]\n",
            " [0.8659489 ]\n",
            " [0.9371715 ]\n",
            " [0.9112117 ]\n",
            " [0.9549849 ]\n",
            " [0.916442  ]\n",
            " [0.91525036]\n",
            " [0.9166531 ]\n",
            " [0.8511406 ]]\n"
          ],
          "name": "stdout"
        }
      ]
    },
    {
      "cell_type": "code",
      "metadata": {
        "id": "gGPsgb7IQDsg",
        "colab_type": "code",
        "outputId": "5ff18ea8-fa54-4de7-9cf3-f4dcc96a8500",
        "colab": {
          "base_uri": "https://localhost:8080/",
          "height": 51
        }
      },
      "source": [
        "# validation the model(confusion matrix)\n",
        "def rnn_confusion_matrix(pred_noemb_val_y, val_y):\n",
        "    pred_val_y = pred_noemb_val_y > 0.5\n",
        "    tn, fp, fn, tp = confusion_matrix(pred_val_y, val_y).ravel()\n",
        "    print('tn', tn, 'fp', fp, 'fn', fn, 'tp', tp)\n",
        "\n",
        "    lstm_acc = accuracy_score(pred_val_y, val_y)\n",
        "    lstm_precision = precision_score(pred_val_y, val_y)\n",
        "    lstm_recall = recall_score(pred_val_y, val_y)\n",
        "    lstm_f1_score = f1_score(pred_val_y, val_y)\n",
        "    return lstm_acc, lstm_precision, lstm_recall, lstm_f1_score\n",
        "\n",
        "lstm_acc, lstm_precision, lstm_recall, lstm_f1_score = rnn_confusion_matrix(pred_noemb_val_y, val_y)\n",
        "print('lstm_acc: ',lstm_acc, ', lstm_precision: ', lstm_precision, ', lstm_recall: ', lstm_recall, ', lstm_f1_score', lstm_f1_score)"
      ],
      "execution_count": 38,
      "outputs": [
        {
          "output_type": "stream",
          "text": [
            "tn 0 fp 0 fn 44 tp 396\n",
            "lstm_acc:  0.9 , lstm_precision:  1.0 , lstm_recall:  0.9 , lstm_f1_score 0.9473684210526316\n"
          ],
          "name": "stdout"
        }
      ]
    },
    {
      "cell_type": "code",
      "metadata": {
        "_uuid": "47b63dca0247a08a808db7ae6eea33065c554948",
        "id": "M4y418b5ZA6x",
        "colab_type": "code",
        "colab": {}
      },
      "source": [
        "# validation the model(f1-score)\n",
        "\n",
        "threshes=[]\n",
        "f1_scores=[]\n",
        "accuracy_scores=[]\n",
        "for thresh in np.arange(0.1, 0.801, 0.01):\n",
        "    thresh = np.round(thresh, 2)\n",
        "    threshes.append(thresh)\n",
        "    # logging.info(\"F1 score at threshold {0} is {1}\".format(thresh, metrics.f1_score(val_y, (pred_noemb_val_y>thresh).astype(int))))\n",
        "    f1_scores.append(metrics.f1_score(val_y, (pred_noemb_val_y>thresh).astype(int)))\n",
        "    # logging.info(\"Accuracy at threshold {0} is {1}\".format(thresh, metrics.accuracy_score(val_y, (pred_noemb_val_y>thresh).astype(int))))\n",
        "    accuracy_scores.append(metrics.accuracy_score(val_y, (pred_noemb_val_y>thresh).astype(int)))\n"
      ],
      "execution_count": 0,
      "outputs": []
    },
    {
      "cell_type": "code",
      "metadata": {
        "id": "aC0KxHrGnewO",
        "colab_type": "code",
        "outputId": "19517131-926f-4fdc-e69d-9e463f6700c8",
        "colab": {
          "base_uri": "https://localhost:8080/",
          "height": 295
        }
      },
      "source": [
        "# plot two measures\n",
        "plt.plot(threshes, f1_scores, color='blue', label='f1')\n",
        "plt.plot(threshes, accuracy_scores, color='green', label='acc')\n",
        "plt.title('Threhold vs f1 scores/acc')\n",
        "plt.ylabel('f1_scores/acc')\n",
        "plt.xlabel('threshold')\n",
        "plt.legend()\n",
        "plt.show()"
      ],
      "execution_count": 40,
      "outputs": [
        {
          "output_type": "display_data",
          "data": {
            "image/png": "[encoded data removed]",
            "text/plain": [
              "<Figure size 432x288 with 1 Axes>"
            ]
          },
          "metadata": {
            "tags": [],
            "needs_background": "light"
          }
        }
      ]
    },
    {
      "cell_type": "markdown",
      "metadata": {
        "id": "hJSYLb3ykxyT",
        "colab_type": "text"
      },
      "source": [
        "## Model3: LSTM + Pretrained embeddings\n",
        "\n",
        "Embeddings:\n",
        "glove.840B.300d - https://nlp.stanford.edu/projects/glove/\n",
        "paragram_300_sl999 - https://cogcomp.org/page/resource_view/106\n",
        "\n",
        "It will take several minutes to load this 5G file. Be patient.. \n",
        "\n",
        "\n",
        "\n"
      ]
    },
    {
      "cell_type": "code",
      "metadata": {
        "id": "VS3iwFGqwHvT",
        "colab_type": "code",
        "outputId": "d6c7a961-065f-4dd1-d0ae-9bca5afbab0b",
        "colab": {
          "base_uri": "https://localhost:8080/",
          "height": 249
        }
      },
      "source": [
        "import io\n",
        "embeddings_index = {}\n",
        "logging.info(\"Loading Glove Model\")\n",
        "with io.open(PROJECT_PATH +'/glove.840B.300d.txt', encoding='utf8') as f:\n",
        "    for line in f:\n",
        "        values = line.split()\n",
        "        word = ''.join(values[:-300])\n",
        "        coefs = np.asarray(values[-300:], dtype='float32')\n",
        "        embeddings_index[word] = coefs\n",
        "logging.info(\"Loading Glove Model Done\")"
      ],
      "execution_count": 41,
      "outputs": [
        {
          "output_type": "stream",
          "text": [
            "2020-05-25 05:05:57 INFO     Loading Glove Model\n"
          ],
          "name": "stdout"
        },
        {
          "output_type": "error",
          "ename": "OSError",
          "evalue": "ignored",
          "traceback": [
            "\u001b[0;31m---------------------------------------------------------------------------\u001b[0m",
            "\u001b[0;31mOSError\u001b[0m                                   Traceback (most recent call last)",
            "\u001b[0;32m<ipython-input-41-4797011fc503>\u001b[0m in \u001b[0;36m<module>\u001b[0;34m()\u001b[0m\n\u001b[1;32m      3\u001b[0m \u001b[0mlogging\u001b[0m\u001b[0;34m.\u001b[0m\u001b[0minfo\u001b[0m\u001b[0;34m(\u001b[0m\u001b[0;34m\"Loading Glove Model\"\u001b[0m\u001b[0;34m)\u001b[0m\u001b[0;34m\u001b[0m\u001b[0;34m\u001b[0m\u001b[0m\n\u001b[1;32m      4\u001b[0m \u001b[0;32mwith\u001b[0m \u001b[0mio\u001b[0m\u001b[0;34m.\u001b[0m\u001b[0mopen\u001b[0m\u001b[0;34m(\u001b[0m\u001b[0mPROJECT_PATH\u001b[0m \u001b[0;34m+\u001b[0m\u001b[0;34m'/glove.840B.300d.txt'\u001b[0m\u001b[0;34m,\u001b[0m \u001b[0mencoding\u001b[0m\u001b[0;34m=\u001b[0m\u001b[0;34m'utf8'\u001b[0m\u001b[0;34m)\u001b[0m \u001b[0;32mas\u001b[0m \u001b[0mf\u001b[0m\u001b[0;34m:\u001b[0m\u001b[0;34m\u001b[0m\u001b[0;34m\u001b[0m\u001b[0m\n\u001b[0;32m----> 5\u001b[0;31m     \u001b[0;32mfor\u001b[0m \u001b[0mline\u001b[0m \u001b[0;32min\u001b[0m \u001b[0mf\u001b[0m\u001b[0;34m:\u001b[0m\u001b[0;34m\u001b[0m\u001b[0;34m\u001b[0m\u001b[0m\n\u001b[0m\u001b[1;32m      6\u001b[0m         \u001b[0mvalues\u001b[0m \u001b[0;34m=\u001b[0m \u001b[0mline\u001b[0m\u001b[0;34m.\u001b[0m\u001b[0msplit\u001b[0m\u001b[0;34m(\u001b[0m\u001b[0;34m)\u001b[0m\u001b[0;34m\u001b[0m\u001b[0;34m\u001b[0m\u001b[0m\n\u001b[1;32m      7\u001b[0m         \u001b[0mword\u001b[0m \u001b[0;34m=\u001b[0m \u001b[0;34m''\u001b[0m\u001b[0;34m.\u001b[0m\u001b[0mjoin\u001b[0m\u001b[0;34m(\u001b[0m\u001b[0mvalues\u001b[0m\u001b[0;34m[\u001b[0m\u001b[0;34m:\u001b[0m\u001b[0;34m-\u001b[0m\u001b[0;36m300\u001b[0m\u001b[0;34m]\u001b[0m\u001b[0;34m)\u001b[0m\u001b[0;34m\u001b[0m\u001b[0;34m\u001b[0m\u001b[0m\n",
            "\u001b[0;31mOSError\u001b[0m: [Errno 125] Operation canceled"
          ]
        }
      ]
    },
    {
      "cell_type": "code",
      "metadata": {
        "id": "_7fswnbHDI2S",
        "colab_type": "code",
        "outputId": "c3b5aa40-6385-4013-bbd4-0298e968893d",
        "colab": {
          "base_uri": "https://localhost:8080/",
          "height": 88
        }
      },
      "source": [
        "all_embs = np.stack(embeddings_index.values())\n",
        "emb_mean,emb_std = all_embs.mean(), all_embs.std()\n",
        "embed_size = all_embs.shape[1]\n",
        "\n",
        "print(all_embs.shape, emb_mean, emb_std, embed_size )"
      ],
      "execution_count": 48,
      "outputs": [
        {
          "output_type": "stream",
          "text": [
            "/usr/local/lib/python3.6/dist-packages/IPython/core/interactiveshell.py:2822: FutureWarning: arrays to stack must be passed as a \"sequence\" type such as list or tuple. Support for non-sequence iterables such as generators is deprecated as of NumPy 1.16 and will raise an error in the future.\n",
            "  if self.run_code(code, result):\n"
          ],
          "name": "stderr"
        },
        {
          "output_type": "stream",
          "text": [
            "(909623, 300) -0.005290132 0.4613024 300\n"
          ],
          "name": "stdout"
        }
      ]
    },
    {
      "cell_type": "code",
      "metadata": {
        "id": "uOx2DkzgDS-m",
        "colab_type": "code",
        "outputId": "3cd63b7a-76ab-474a-b162-12d03dbd6561",
        "colab": {
          "base_uri": "https://localhost:8080/",
          "height": 34
        }
      },
      "source": [
        "word_index = tokenizer.word_index\n",
        "len(word_index)"
      ],
      "execution_count": 49,
      "outputs": [
        {
          "output_type": "execute_result",
          "data": {
            "text/plain": [
              "10042"
            ]
          },
          "metadata": {
            "tags": []
          },
          "execution_count": 49
        }
      ]
    },
    {
      "cell_type": "code",
      "metadata": {
        "id": "E4Ng8SHSDxBx",
        "colab_type": "code",
        "outputId": "ed9fd72a-02b8-4b7c-d6eb-5f95bbf9741d",
        "colab": {
          "base_uri": "https://localhost:8080/",
          "height": 34
        }
      },
      "source": [
        "nb_words = min(max_features, 1 + len(word_index))\n",
        "nb_words"
      ],
      "execution_count": 50,
      "outputs": [
        {
          "output_type": "execute_result",
          "data": {
            "text/plain": [
              "10043"
            ]
          },
          "metadata": {
            "tags": []
          },
          "execution_count": 50
        }
      ]
    },
    {
      "cell_type": "code",
      "metadata": {
        "id": "LWf0qQ2iD2ve",
        "colab_type": "code",
        "outputId": "32cb1d1b-e99e-4f13-a35b-bb85a90577ac",
        "colab": {
          "base_uri": "https://localhost:8080/",
          "height": 34
        }
      },
      "source": [
        "embedding_matrix = np.random.normal(emb_mean, emb_std, (nb_words, embed_size))\n",
        "embedding_matrix.shape"
      ],
      "execution_count": 51,
      "outputs": [
        {
          "output_type": "execute_result",
          "data": {
            "text/plain": [
              "(10043, 300)"
            ]
          },
          "metadata": {
            "tags": []
          },
          "execution_count": 51
        }
      ]
    },
    {
      "cell_type": "code",
      "metadata": {
        "id": "vNslPaHb193k",
        "colab_type": "code",
        "outputId": "f207ffca-ddba-4a53-80a8-2a017f4e60fa",
        "colab": {
          "base_uri": "https://localhost:8080/",
          "height": 34
        }
      },
      "source": [
        "for word, i in word_index.items(): \n",
        "    if i >= max_features: continue\n",
        "    embedding_vector = embeddings_index.get(word)\n",
        "    if embedding_vector is not None: \n",
        "        embedding_matrix[i] = embedding_vector\n",
        "print(embedding_matrix.shape)"
      ],
      "execution_count": 52,
      "outputs": [
        {
          "output_type": "stream",
          "text": [
            "(10043, 300)\n"
          ],
          "name": "stdout"
        }
      ]
    },
    {
      "cell_type": "code",
      "metadata": {
        "id": "6RWtEloU2M1N",
        "colab_type": "code",
        "outputId": "a10b6c79-c8c3-4afa-bfef-cfbf57f202bf",
        "colab": {
          "base_uri": "https://localhost:8080/",
          "height": 323
        }
      },
      "source": [
        "import tensorflow as tf\n",
        "from tensorflow.keras import layers\n",
        "from keras.initializers import Constant\n",
        "\n",
        "model = tf.keras.Sequential()\n",
        "model.add(layers.Embedding(nb_words,\n",
        "                            300,\n",
        "                            weights=[embedding_matrix],\n",
        "                            input_length=max_len,\n",
        "                            trainable=False))\n",
        "model.add(layers.LSTM(128))\n",
        "model.add(layers.Dense(10,activation=\"relu\"))\n",
        "model.add(layers.Dropout(0.2))\n",
        "model.add(layers.Dense(1, activation=\"sigmoid\"))\n",
        "model.summary()\n"
      ],
      "execution_count": 53,
      "outputs": [
        {
          "output_type": "stream",
          "text": [
            "Model: \"sequential_1\"\n",
            "_________________________________________________________________\n",
            "Layer (type)                 Output Shape              Param #   \n",
            "=================================================================\n",
            "embedding_1 (Embedding)      (None, 70, 300)           3012900   \n",
            "_________________________________________________________________\n",
            "lstm_1 (LSTM)                (None, 128)               219648    \n",
            "_________________________________________________________________\n",
            "dense_2 (Dense)              (None, 10)                1290      \n",
            "_________________________________________________________________\n",
            "dropout_1 (Dropout)          (None, 10)                0         \n",
            "_________________________________________________________________\n",
            "dense_3 (Dense)              (None, 1)                 11        \n",
            "=================================================================\n",
            "Total params: 3,233,849\n",
            "Trainable params: 220,949\n",
            "Non-trainable params: 3,012,900\n",
            "_________________________________________________________________\n"
          ],
          "name": "stdout"
        }
      ]
    },
    {
      "cell_type": "code",
      "metadata": {
        "id": "Txx27Bzd3gLM",
        "colab_type": "code",
        "colab": {}
      },
      "source": [
        "model.compile(loss='binary_crossentropy', optimizer='adam', metrics=['accuracy'])"
      ],
      "execution_count": 0,
      "outputs": []
    },
    {
      "cell_type": "code",
      "metadata": {
        "id": "BeVa4_2m3kzN",
        "colab_type": "code",
        "outputId": "e2c0f8b7-7b11-4c4e-9a07-9887350de089",
        "colab": {
          "base_uri": "https://localhost:8080/",
          "height": 241
        }
      },
      "source": [
        "from tensorflow.keras.callbacks import EarlyStopping\n",
        "\n",
        "callbacks = EarlyStopping(monitor='val_loss', min_delta=0, patience = 2)\n",
        "\n",
        "history = model.fit(train_X, \n",
        "                    train_y, \n",
        "                    batch_size=512, \n",
        "                    epochs=15, \n",
        "                    validation_data=(val_X, val_y),\n",
        "                    callbacks=callbacks\n",
        "                    )"
      ],
      "execution_count": 55,
      "outputs": [
        {
          "output_type": "stream",
          "text": [
            "Epoch 1/15\n",
            "7/7 [==============================] - 6s 809ms/step - loss: 0.4940 - accuracy: 0.8233 - val_loss: 0.3400 - val_accuracy: 0.9000\n",
            "Epoch 2/15\n",
            "7/7 [==============================] - 5s 752ms/step - loss: 0.3882 - accuracy: 0.8773 - val_loss: 0.3602 - val_accuracy: 0.9000\n",
            "Epoch 3/15\n",
            "7/7 [==============================] - 5s 751ms/step - loss: 0.3713 - accuracy: 0.8764 - val_loss: 0.3338 - val_accuracy: 0.9000\n",
            "Epoch 4/15\n",
            "7/7 [==============================] - 5s 748ms/step - loss: 0.3625 - accuracy: 0.8776 - val_loss: 0.3218 - val_accuracy: 0.9000\n",
            "Epoch 5/15\n",
            "7/7 [==============================] - 5s 751ms/step - loss: 0.3559 - accuracy: 0.8776 - val_loss: 0.3247 - val_accuracy: 0.9000\n",
            "Epoch 6/15\n",
            "7/7 [==============================] - 5s 755ms/step - loss: 0.3436 - accuracy: 0.8776 - val_loss: 0.3262 - val_accuracy: 0.9000\n"
          ],
          "name": "stdout"
        }
      ]
    },
    {
      "cell_type": "code",
      "metadata": {
        "id": "7JjJbtUNn3cM",
        "colab_type": "code",
        "outputId": "79c5c6f8-19f3-467d-8465-8aefe4f57bc0",
        "colab": {
          "base_uri": "https://localhost:8080/",
          "height": 573
        }
      },
      "source": [
        "# Plot training & validation accuracy values\n",
        "import matplotlib.pyplot as plt \n",
        "plt.plot(history.history['accuracy'])\n",
        "plt.plot(history.history['val_accuracy'])\n",
        "plt.title('Model accuracy')\n",
        "plt.ylabel('Accuracy')\n",
        "plt.xlabel('Epoch')\n",
        "plt.legend(['Train', 'Val'], loc='upper left')\n",
        "plt.show()\n",
        "\n",
        "# Plot training & validation loss values\n",
        "plt.plot(history.history['loss'])\n",
        "plt.plot(history.history['val_loss'])\n",
        "plt.title('Model loss')\n",
        "plt.ylabel('Loss')\n",
        "plt.xlabel('Epoch')\n",
        "plt.legend(['Train', 'Val'], loc='upper left')\n",
        "plt.show()"
      ],
      "execution_count": 56,
      "outputs": [
        {
          "output_type": "display_data",
          "data": {
            "image/png": "[encoded data removed]",
            "text/plain": [
              "<Figure size 432x288 with 1 Axes>"
            ]
          },
          "metadata": {
            "tags": [],
            "needs_background": "light"
          }
        },
        {
          "output_type": "display_data",
          "data": {
            "image/png": "[encoded data removed]",
            "text/plain": [
              "<Figure size 432x288 with 1 Axes>"
            ]
          },
          "metadata": {
            "tags": [],
            "needs_background": "light"
          }
        }
      ]
    },
    {
      "cell_type": "code",
      "metadata": {
        "id": "AslhlttleNnC",
        "colab_type": "code",
        "outputId": "53854faf-e5db-41c6-b04c-3dc34903b45c",
        "colab": {
          "base_uri": "https://localhost:8080/",
          "height": 1000
        }
      },
      "source": [
        "# validation the model(f1-score)\n",
        "pred_noemb_val_y = model.predict([val_X], batch_size=1024, verbose=1)\n",
        "print(pred_noemb_val_y)\n",
        "threshes=[]\n",
        "f1_scores=[]\n",
        "accuracy_scores=[]\n",
        "for thresh in np.arange(0.1, 0.801, 0.01):\n",
        "    thresh = np.round(thresh, 2)\n",
        "    threshes.append(thresh)\n",
        "    logging.info(\"F1 score at threshold {0} is {1}\".format(thresh, metrics.f1_score(val_y, (pred_noemb_val_y>thresh).astype(int))))\n",
        "    f1_scores.append(metrics.f1_score(val_y, (pred_noemb_val_y>thresh).astype(int)))\n",
        "    logging.info(\"Accuracy at threshold {0} is {1}\".format(thresh, metrics.accuracy_score(val_y, (pred_noemb_val_y>thresh).astype(int))))\n",
        "    accuracy_scores.append(metrics.accuracy_score(val_y, (pred_noemb_val_y>thresh).astype(int)))"
      ],
      "execution_count": 57,
      "outputs": [
        {
          "output_type": "stream",
          "text": [
            "1/1 [==============================] - 0s 1ms/step\n",
            "[[0.9150207 ]\n",
            " [0.7170426 ]\n",
            " [0.8321277 ]\n",
            " [0.8379431 ]\n",
            " [0.5932374 ]\n",
            " [0.923428  ]\n",
            " [0.95062643]\n",
            " [0.95943   ]\n",
            " [0.9048757 ]\n",
            " [0.88862413]\n",
            " [0.9430648 ]\n",
            " [0.8921428 ]\n",
            " [0.9074099 ]\n",
            " [0.955896  ]\n",
            " [0.91661394]\n",
            " [0.91080296]\n",
            " [0.89044875]\n",
            " [0.97190344]\n",
            " [0.60506636]\n",
            " [0.8502917 ]\n",
            " [0.87968487]\n",
            " [0.9234264 ]\n",
            " [0.75993   ]\n",
            " [0.9148619 ]\n",
            " [0.88860404]\n",
            " [0.84066856]\n",
            " [0.9193952 ]\n",
            " [0.8442687 ]\n",
            " [0.84147596]\n",
            " [0.8688735 ]\n",
            " [0.74804753]\n",
            " [0.9052002 ]\n",
            " [0.6191939 ]\n",
            " [0.87162197]\n",
            " [0.9372819 ]\n",
            " [0.9297119 ]\n",
            " [0.8771553 ]\n",
            " [0.8938615 ]\n",
            " [0.7684255 ]\n",
            " [0.85505426]\n",
            " [0.94004184]\n",
            " [0.89445037]\n",
            " [0.6961266 ]\n",
            " [0.93047804]\n",
            " [0.9213635 ]\n",
            " [0.9336207 ]\n",
            " [0.96076363]\n",
            " [0.93974054]\n",
            " [0.64356416]\n",
            " [0.8863693 ]\n",
            " [0.84123904]\n",
            " [0.95141065]\n",
            " [0.8137932 ]\n",
            " [0.95305455]\n",
            " [0.77906567]\n",
            " [0.83988345]\n",
            " [0.95626473]\n",
            " [0.9013295 ]\n",
            " [0.9500239 ]\n",
            " [0.8747347 ]\n",
            " [0.928348  ]\n",
            " [0.7723651 ]\n",
            " [0.8275601 ]\n",
            " [0.59697175]\n",
            " [0.9591805 ]\n",
            " [0.96058285]\n",
            " [0.90143555]\n",
            " [0.8257478 ]\n",
            " [0.7854642 ]\n",
            " [0.7925546 ]\n",
            " [0.87254095]\n",
            " [0.8668647 ]\n",
            " [0.93450767]\n",
            " [0.9453355 ]\n",
            " [0.8827157 ]\n",
            " [0.8649437 ]\n",
            " [0.7466866 ]\n",
            " [0.9261328 ]\n",
            " [0.7849029 ]\n",
            " [0.83332014]\n",
            " [0.9059329 ]\n",
            " [0.92291415]\n",
            " [0.93735886]\n",
            " [0.903757  ]\n",
            " [0.90935314]\n",
            " [0.74204075]\n",
            " [0.5830628 ]\n",
            " [0.89953357]\n",
            " [0.86776423]\n",
            " [0.8546641 ]\n",
            " [0.91570187]\n",
            " [0.88426757]\n",
            " [0.89519835]\n",
            " [0.87351465]\n",
            " [0.7235573 ]\n",
            " [0.94723284]\n",
            " [0.7137017 ]\n",
            " [0.9350796 ]\n",
            " [0.8622862 ]\n",
            " [0.8260237 ]\n",
            " [0.9351169 ]\n",
            " [0.95713234]\n",
            " [0.9277209 ]\n",
            " [0.7954144 ]\n",
            " [0.89371574]\n",
            " [0.9293513 ]\n",
            " [0.897318  ]\n",
            " [0.87711304]\n",
            " [0.8913148 ]\n",
            " [0.94676137]\n",
            " [0.818989  ]\n",
            " [0.8307551 ]\n",
            " [0.9331045 ]\n",
            " [0.777575  ]\n",
            " [0.91429913]\n",
            " [0.91075015]\n",
            " [0.96600974]\n",
            " [0.76425934]\n",
            " [0.91736686]\n",
            " [0.93642324]\n",
            " [0.9328433 ]\n",
            " [0.80485976]\n",
            " [0.84295034]\n",
            " [0.8814404 ]\n",
            " [0.5109175 ]\n",
            " [0.91446817]\n",
            " [0.91854304]\n",
            " [0.88322294]\n",
            " [0.9427427 ]\n",
            " [0.89561415]\n",
            " [0.9177572 ]\n",
            " [0.88267326]\n",
            " [0.88730335]\n",
            " [0.93036556]\n",
            " [0.9516487 ]\n",
            " [0.9588922 ]\n",
            " [0.87426025]\n",
            " [0.90735257]\n",
            " [0.86903286]\n",
            " [0.89412487]\n",
            " [0.94941676]\n",
            " [0.79963326]\n",
            " [0.8363632 ]\n",
            " [0.84790987]\n",
            " [0.6358652 ]\n",
            " [0.67017764]\n",
            " [0.91255236]\n",
            " [0.9093984 ]\n",
            " [0.94153523]\n",
            " [0.89471984]\n",
            " [0.8569356 ]\n",
            " [0.8861079 ]\n",
            " [0.9481137 ]\n",
            " [0.8991808 ]\n",
            " [0.8011844 ]\n",
            " [0.95368946]\n",
            " [0.8289974 ]\n",
            " [0.6090933 ]\n",
            " [0.7838804 ]\n",
            " [0.540666  ]\n",
            " [0.9390737 ]\n",
            " [0.92063344]\n",
            " [0.84941566]\n",
            " [0.9176283 ]\n",
            " [0.8425033 ]\n",
            " [0.849687  ]\n",
            " [0.9677032 ]\n",
            " [0.9610314 ]\n",
            " [0.8976842 ]\n",
            " [0.9327772 ]\n",
            " [0.7375903 ]\n",
            " [0.9619698 ]\n",
            " [0.8999256 ]\n",
            " [0.9038068 ]\n",
            " [0.90158474]\n",
            " [0.9175776 ]\n",
            " [0.78679115]\n",
            " [0.91219985]\n",
            " [0.89013344]\n",
            " [0.92998946]\n",
            " [0.90603405]\n",
            " [0.6932459 ]\n",
            " [0.83287954]\n",
            " [0.83506894]\n",
            " [0.91250765]\n",
            " [0.87587214]\n",
            " [0.9299525 ]\n",
            " [0.9753864 ]\n",
            " [0.9534994 ]\n",
            " [0.8869076 ]\n",
            " [0.7679615 ]\n",
            " [0.90992033]\n",
            " [0.93688536]\n",
            " [0.9265621 ]\n",
            " [0.8046365 ]\n",
            " [0.7613952 ]\n",
            " [0.8548807 ]\n",
            " [0.93977183]\n",
            " [0.92112553]\n",
            " [0.93547034]\n",
            " [0.648048  ]\n",
            " [0.91018975]\n",
            " [0.9036681 ]\n",
            " [0.9356452 ]\n",
            " [0.9695362 ]\n",
            " [0.8779887 ]\n",
            " [0.9314636 ]\n",
            " [0.85807526]\n",
            " [0.80428594]\n",
            " [0.9688519 ]\n",
            " [0.7845447 ]\n",
            " [0.8173203 ]\n",
            " [0.964594  ]\n",
            " [0.90937096]\n",
            " [0.5830628 ]\n",
            " [0.8062757 ]\n",
            " [0.9605429 ]\n",
            " [0.92848945]\n",
            " [0.9031569 ]\n",
            " [0.9173962 ]\n",
            " [0.9482569 ]\n",
            " [0.95195746]\n",
            " [0.83611274]\n",
            " [0.9223951 ]\n",
            " [0.71788025]\n",
            " [0.80656934]\n",
            " [0.85494345]\n",
            " [0.939763  ]\n",
            " [0.8273221 ]\n",
            " [0.8711909 ]\n",
            " [0.9471369 ]\n",
            " [0.89558476]\n",
            " [0.7182745 ]\n",
            " [0.60506636]\n",
            " [0.93164814]\n",
            " [0.8938905 ]\n",
            " [0.9178487 ]\n",
            " [0.8602948 ]\n",
            " [0.8228377 ]\n",
            " [0.74205244]\n",
            " [0.9397079 ]\n",
            " [0.9371424 ]\n",
            " [0.95496285]\n",
            " [0.51713645]\n",
            " [0.75436366]\n",
            " [0.9158913 ]\n",
            " [0.90220416]\n",
            " [0.9019026 ]\n",
            " [0.9160463 ]\n",
            " [0.8858818 ]\n",
            " [0.80716693]\n",
            " [0.83875525]\n",
            " [0.9149444 ]\n",
            " [0.9478354 ]\n",
            " [0.9499438 ]\n",
            " [0.854253  ]\n",
            " [0.868451  ]\n",
            " [0.9181047 ]\n",
            " [0.7668476 ]\n",
            " [0.91936016]\n",
            " [0.93416303]\n",
            " [0.83656764]\n",
            " [0.9393711 ]\n",
            " [0.81842524]\n",
            " [0.9333935 ]\n",
            " [0.8182034 ]\n",
            " [0.9134213 ]\n",
            " [0.92033195]\n",
            " [0.9424527 ]\n",
            " [0.9199921 ]\n",
            " [0.90706265]\n",
            " [0.8536346 ]\n",
            " [0.888026  ]\n",
            " [0.8389336 ]\n",
            " [0.86462104]\n",
            " [0.94097894]\n",
            " [0.8775462 ]\n",
            " [0.962388  ]\n",
            " [0.7600285 ]\n",
            " [0.89969194]\n",
            " [0.88937587]\n",
            " [0.924211  ]\n",
            " [0.89532053]\n",
            " [0.92372525]\n",
            " [0.89069986]\n",
            " [0.90709746]\n",
            " [0.90482414]\n",
            " [0.8806403 ]\n",
            " [0.8635536 ]\n",
            " [0.9229972 ]\n",
            " [0.91378224]\n",
            " [0.93996364]\n",
            " [0.91233706]\n",
            " [0.9393351 ]\n",
            " [0.9423163 ]\n",
            " [0.9263738 ]\n",
            " [0.9407255 ]\n",
            " [0.86074895]\n",
            " [0.8086134 ]\n",
            " [0.9010987 ]\n",
            " [0.5893407 ]\n",
            " [0.8056036 ]\n",
            " [0.9051537 ]\n",
            " [0.8760448 ]\n",
            " [0.9742025 ]\n",
            " [0.5875827 ]\n",
            " [0.91121656]\n",
            " [0.90300554]\n",
            " [0.90893805]\n",
            " [0.87051   ]\n",
            " [0.87926996]\n",
            " [0.92230356]\n",
            " [0.9341601 ]\n",
            " [0.924216  ]\n",
            " [0.9681148 ]\n",
            " [0.92675114]\n",
            " [0.93151593]\n",
            " [0.8703637 ]\n",
            " [0.9070054 ]\n",
            " [0.57539135]\n",
            " [0.8471785 ]\n",
            " [0.9306469 ]\n",
            " [0.9499905 ]\n",
            " [0.897462  ]\n",
            " [0.9303043 ]\n",
            " [0.9199543 ]\n",
            " [0.89455116]\n",
            " [0.8966427 ]\n",
            " [0.91896164]\n",
            " [0.8506428 ]\n",
            " [0.87922096]\n",
            " [0.8551817 ]\n",
            " [0.76090705]\n",
            " [0.93979025]\n",
            " [0.9247099 ]\n",
            " [0.89526963]\n",
            " [0.9224824 ]\n",
            " [0.8981936 ]\n",
            " [0.88050365]\n",
            " [0.898602  ]\n",
            " [0.6891273 ]\n",
            " [0.9617448 ]\n",
            " [0.96068454]\n",
            " [0.9494333 ]\n",
            " [0.86983955]\n",
            " [0.6953529 ]\n",
            " [0.8955225 ]\n",
            " [0.8803071 ]\n",
            " [0.8580105 ]\n",
            " [0.8985195 ]\n",
            " [0.9100969 ]\n",
            " [0.8473267 ]\n",
            " [0.885807  ]\n",
            " [0.915095  ]\n",
            " [0.8855467 ]\n",
            " [0.71018517]\n",
            " [0.90941167]\n",
            " [0.9479838 ]\n",
            " [0.96112394]\n",
            " [0.77736056]\n",
            " [0.8848713 ]\n",
            " [0.94780076]\n",
            " [0.88208896]\n",
            " [0.91347605]\n",
            " [0.94869614]\n",
            " [0.8535708 ]\n",
            " [0.9295691 ]\n",
            " [0.85861456]\n",
            " [0.8187706 ]\n",
            " [0.93931174]\n",
            " [0.9104768 ]\n",
            " [0.7188951 ]\n",
            " [0.94175816]\n",
            " [0.9511355 ]\n",
            " [0.852878  ]\n",
            " [0.9188871 ]\n",
            " [0.8566623 ]\n",
            " [0.8950328 ]\n",
            " [0.73748267]\n",
            " [0.78102314]\n",
            " [0.9272019 ]\n",
            " [0.5807604 ]\n",
            " [0.9038758 ]\n",
            " [0.9229083 ]\n",
            " [0.93987566]\n",
            " [0.85219705]\n",
            " [0.8484504 ]\n",
            " [0.8757745 ]\n",
            " [0.8803499 ]\n",
            " [0.9385623 ]\n",
            " [0.918035  ]\n",
            " [0.91705453]\n",
            " [0.9212105 ]\n",
            " [0.88304335]\n",
            " [0.89113367]\n",
            " [0.8398222 ]\n",
            " [0.84138834]\n",
            " [0.8079524 ]\n",
            " [0.9338936 ]\n",
            " [0.8738551 ]\n",
            " [0.93348634]\n",
            " [0.83578575]\n",
            " [0.85511196]\n",
            " [0.8860328 ]\n",
            " [0.9368346 ]\n",
            " [0.8088813 ]\n",
            " [0.9448601 ]\n",
            " [0.88006806]\n",
            " [0.91749644]\n",
            " [0.8714409 ]\n",
            " [0.9571483 ]\n",
            " [0.9229702 ]\n",
            " [0.86791664]\n",
            " [0.7602728 ]\n",
            " [0.8502425 ]\n",
            " [0.9298042 ]\n",
            " [0.9459852 ]\n",
            " [0.9035344 ]\n",
            " [0.93882376]\n",
            " [0.9332175 ]\n",
            " [0.92075807]\n",
            " [0.9137942 ]\n",
            " [0.9244991 ]\n",
            " [0.9361664 ]\n",
            " [0.91392016]\n",
            " [0.8868035 ]\n",
            " [0.96505857]\n",
            " [0.9615896 ]\n",
            " [0.89653933]\n",
            " [0.9116385 ]\n",
            " [0.94867134]\n",
            " [0.8222473 ]\n",
            " [0.8347335 ]\n",
            " [0.96522665]\n",
            " [0.9313197 ]\n",
            " [0.9238391 ]\n",
            " [0.937386  ]\n",
            " [0.91956484]\n",
            " [0.92452   ]\n",
            " [0.84736365]]\n",
            "2020-05-25 05:10:34 INFO     F1 score at threshold 0.1 is 0.9473684210526316\n",
            "2020-05-25 05:10:34 INFO     Accuracy at threshold 0.1 is 0.9\n",
            "2020-05-25 05:10:35 INFO     F1 score at threshold 0.11 is 0.9473684210526316\n",
            "2020-05-25 05:10:35 INFO     Accuracy at threshold 0.11 is 0.9\n",
            "2020-05-25 05:10:35 INFO     F1 score at threshold 0.12 is 0.9473684210526316\n",
            "2020-05-25 05:10:35 INFO     Accuracy at threshold 0.12 is 0.9\n",
            "2020-05-25 05:10:35 INFO     F1 score at threshold 0.13 is 0.9473684210526316\n",
            "2020-05-25 05:10:35 INFO     Accuracy at threshold 0.13 is 0.9\n",
            "2020-05-25 05:10:35 INFO     F1 score at threshold 0.14 is 0.9473684210526316\n",
            "2020-05-25 05:10:35 INFO     Accuracy at threshold 0.14 is 0.9\n",
            "2020-05-25 05:10:35 INFO     F1 score at threshold 0.15 is 0.9473684210526316\n",
            "2020-05-25 05:10:35 INFO     Accuracy at threshold 0.15 is 0.9\n",
            "2020-05-25 05:10:35 INFO     F1 score at threshold 0.16 is 0.9473684210526316\n",
            "2020-05-25 05:10:35 INFO     Accuracy at threshold 0.16 is 0.9\n",
            "2020-05-25 05:10:35 INFO     F1 score at threshold 0.17 is 0.9473684210526316\n",
            "2020-05-25 05:10:35 INFO     Accuracy at threshold 0.17 is 0.9\n",
            "2020-05-25 05:10:35 INFO     F1 score at threshold 0.18 is 0.9473684210526316\n",
            "2020-05-25 05:10:35 INFO     Accuracy at threshold 0.18 is 0.9\n",
            "2020-05-25 05:10:35 INFO     F1 score at threshold 0.19 is 0.9473684210526316\n",
            "2020-05-25 05:10:35 INFO     Accuracy at threshold 0.19 is 0.9\n",
            "2020-05-25 05:10:35 INFO     F1 score at threshold 0.2 is 0.9473684210526316\n",
            "2020-05-25 05:10:35 INFO     Accuracy at threshold 0.2 is 0.9\n",
            "2020-05-25 05:10:35 INFO     F1 score at threshold 0.21 is 0.9473684210526316\n",
            "2020-05-25 05:10:35 INFO     Accuracy at threshold 0.21 is 0.9\n",
            "2020-05-25 05:10:35 INFO     F1 score at threshold 0.22 is 0.9473684210526316\n",
            "2020-05-25 05:10:35 INFO     Accuracy at threshold 0.22 is 0.9\n",
            "2020-05-25 05:10:35 INFO     F1 score at threshold 0.23 is 0.9473684210526316\n",
            "2020-05-25 05:10:35 INFO     Accuracy at threshold 0.23 is 0.9\n",
            "2020-05-25 05:10:35 INFO     F1 score at threshold 0.24 is 0.9473684210526316\n",
            "2020-05-25 05:10:35 INFO     Accuracy at threshold 0.24 is 0.9\n",
            "2020-05-25 05:10:35 INFO     F1 score at threshold 0.25 is 0.9473684210526316\n",
            "2020-05-25 05:10:35 INFO     Accuracy at threshold 0.25 is 0.9\n",
            "2020-05-25 05:10:35 INFO     F1 score at threshold 0.26 is 0.9473684210526316\n",
            "2020-05-25 05:10:35 INFO     Accuracy at threshold 0.26 is 0.9\n",
            "2020-05-25 05:10:35 INFO     F1 score at threshold 0.27 is 0.9473684210526316\n",
            "2020-05-25 05:10:35 INFO     Accuracy at threshold 0.27 is 0.9\n",
            "2020-05-25 05:10:35 INFO     F1 score at threshold 0.28 is 0.9473684210526316\n",
            "2020-05-25 05:10:35 INFO     Accuracy at threshold 0.28 is 0.9\n",
            "2020-05-25 05:10:35 INFO     F1 score at threshold 0.29 is 0.9473684210526316\n",
            "2020-05-25 05:10:35 INFO     Accuracy at threshold 0.29 is 0.9\n",
            "2020-05-25 05:10:35 INFO     F1 score at threshold 0.3 is 0.9473684210526316\n",
            "2020-05-25 05:10:35 INFO     Accuracy at threshold 0.3 is 0.9\n",
            "2020-05-25 05:10:35 INFO     F1 score at threshold 0.31 is 0.9473684210526316\n",
            "2020-05-25 05:10:35 INFO     Accuracy at threshold 0.31 is 0.9\n",
            "2020-05-25 05:10:35 INFO     F1 score at threshold 0.32 is 0.9473684210526316\n",
            "2020-05-25 05:10:35 INFO     Accuracy at threshold 0.32 is 0.9\n",
            "2020-05-25 05:10:35 INFO     F1 score at threshold 0.33 is 0.9473684210526316\n",
            "2020-05-25 05:10:35 INFO     Accuracy at threshold 0.33 is 0.9\n",
            "2020-05-25 05:10:35 INFO     F1 score at threshold 0.34 is 0.9473684210526316\n",
            "2020-05-25 05:10:35 INFO     Accuracy at threshold 0.34 is 0.9\n",
            "2020-05-25 05:10:35 INFO     F1 score at threshold 0.35 is 0.9473684210526316\n",
            "2020-05-25 05:10:35 INFO     Accuracy at threshold 0.35 is 0.9\n",
            "2020-05-25 05:10:35 INFO     F1 score at threshold 0.36 is 0.9473684210526316\n",
            "2020-05-25 05:10:35 INFO     Accuracy at threshold 0.36 is 0.9\n",
            "2020-05-25 05:10:35 INFO     F1 score at threshold 0.37 is 0.9473684210526316\n",
            "2020-05-25 05:10:35 INFO     Accuracy at threshold 0.37 is 0.9\n",
            "2020-05-25 05:10:35 INFO     F1 score at threshold 0.38 is 0.9473684210526316\n",
            "2020-05-25 05:10:35 INFO     Accuracy at threshold 0.38 is 0.9\n",
            "2020-05-25 05:10:35 INFO     F1 score at threshold 0.39 is 0.9473684210526316\n",
            "2020-05-25 05:10:35 INFO     Accuracy at threshold 0.39 is 0.9\n",
            "2020-05-25 05:10:35 INFO     F1 score at threshold 0.4 is 0.9473684210526316\n",
            "2020-05-25 05:10:35 INFO     Accuracy at threshold 0.4 is 0.9\n",
            "2020-05-25 05:10:35 INFO     F1 score at threshold 0.41 is 0.9473684210526316\n",
            "2020-05-25 05:10:35 INFO     Accuracy at threshold 0.41 is 0.9\n",
            "2020-05-25 05:10:35 INFO     F1 score at threshold 0.42 is 0.9473684210526316\n",
            "2020-05-25 05:10:35 INFO     Accuracy at threshold 0.42 is 0.9\n",
            "2020-05-25 05:10:35 INFO     F1 score at threshold 0.43 is 0.9473684210526316\n",
            "2020-05-25 05:10:35 INFO     Accuracy at threshold 0.43 is 0.9\n",
            "2020-05-25 05:10:35 INFO     F1 score at threshold 0.44 is 0.9473684210526316\n",
            "2020-05-25 05:10:35 INFO     Accuracy at threshold 0.44 is 0.9\n",
            "2020-05-25 05:10:35 INFO     F1 score at threshold 0.45 is 0.9473684210526316\n",
            "2020-05-25 05:10:35 INFO     Accuracy at threshold 0.45 is 0.9\n",
            "2020-05-25 05:10:35 INFO     F1 score at threshold 0.46 is 0.9473684210526316\n",
            "2020-05-25 05:10:35 INFO     Accuracy at threshold 0.46 is 0.9\n",
            "2020-05-25 05:10:35 INFO     F1 score at threshold 0.47 is 0.9473684210526316\n",
            "2020-05-25 05:10:35 INFO     Accuracy at threshold 0.47 is 0.9\n",
            "2020-05-25 05:10:35 INFO     F1 score at threshold 0.48 is 0.9473684210526316\n",
            "2020-05-25 05:10:35 INFO     Accuracy at threshold 0.48 is 0.9\n",
            "2020-05-25 05:10:35 INFO     F1 score at threshold 0.49 is 0.9473684210526316\n",
            "2020-05-25 05:10:35 INFO     Accuracy at threshold 0.49 is 0.9\n",
            "2020-05-25 05:10:35 INFO     F1 score at threshold 0.5 is 0.9473684210526316\n",
            "2020-05-25 05:10:35 INFO     Accuracy at threshold 0.5 is 0.9\n",
            "2020-05-25 05:10:35 INFO     F1 score at threshold 0.51 is 0.9473684210526316\n",
            "2020-05-25 05:10:35 INFO     Accuracy at threshold 0.51 is 0.9\n",
            "2020-05-25 05:10:35 INFO     F1 score at threshold 0.52 is 0.9472422062350121\n",
            "2020-05-25 05:10:35 INFO     Accuracy at threshold 0.52 is 0.9\n",
            "2020-05-25 05:10:35 INFO     F1 score at threshold 0.53 is 0.9472422062350121\n",
            "2020-05-25 05:10:35 INFO     Accuracy at threshold 0.53 is 0.9\n",
            "2020-05-25 05:10:35 INFO     F1 score at threshold 0.54 is 0.9472422062350121\n",
            "2020-05-25 05:10:35 INFO     Accuracy at threshold 0.54 is 0.9\n",
            "2020-05-25 05:10:35 INFO     F1 score at threshold 0.55 is 0.9459783913565426\n",
            "2020-05-25 05:10:35 INFO     Accuracy at threshold 0.55 is 0.8977272727272727\n",
            "2020-05-25 05:10:35 INFO     F1 score at threshold 0.56 is 0.9459783913565426\n",
            "2020-05-25 05:10:35 INFO     Accuracy at threshold 0.56 is 0.8977272727272727\n",
            "2020-05-25 05:10:35 INFO     F1 score at threshold 0.57 is 0.9459783913565426\n",
            "2020-05-25 05:10:35 INFO     Accuracy at threshold 0.57 is 0.8977272727272727\n",
            "2020-05-25 05:10:35 INFO     F1 score at threshold 0.58 is 0.9447115384615383\n",
            "2020-05-25 05:10:35 INFO     Accuracy at threshold 0.58 is 0.8954545454545455\n",
            "2020-05-25 05:10:35 INFO     F1 score at threshold 0.59 is 0.9407496977025395\n",
            "2020-05-25 05:10:35 INFO     Accuracy at threshold 0.59 is 0.8886363636363637\n",
            "2020-05-25 05:10:35 INFO     F1 score at threshold 0.6 is 0.9406060606060607\n",
            "2020-05-25 05:10:35 INFO     Accuracy at threshold 0.6 is 0.8886363636363637\n",
            "2020-05-25 05:10:35 INFO     F1 score at threshold 0.61 is 0.9416058394160584\n",
            "2020-05-25 05:10:35 INFO     Accuracy at threshold 0.61 is 0.8909090909090909\n",
            "2020-05-25 05:10:35 INFO     F1 score at threshold 0.62 is 0.9403166869671132\n",
            "2020-05-25 05:10:35 INFO     Accuracy at threshold 0.62 is 0.8886363636363637\n",
            "2020-05-25 05:10:35 INFO     F1 score at threshold 0.63 is 0.9403166869671132\n",
            "2020-05-25 05:10:35 INFO     Accuracy at threshold 0.63 is 0.8886363636363637\n",
            "2020-05-25 05:10:35 INFO     F1 score at threshold 0.64 is 0.9414634146341463\n",
            "2020-05-25 05:10:35 INFO     Accuracy at threshold 0.64 is 0.8909090909090909\n",
            "2020-05-25 05:10:35 INFO     F1 score at threshold 0.65 is 0.9388753056234718\n",
            "2020-05-25 05:10:35 INFO     Accuracy at threshold 0.65 is 0.8863636363636364\n",
            "2020-05-25 05:10:35 INFO     F1 score at threshold 0.66 is 0.9388753056234718\n",
            "2020-05-25 05:10:35 INFO     Accuracy at threshold 0.66 is 0.8863636363636364\n",
            "2020-05-25 05:10:35 INFO     F1 score at threshold 0.67 is 0.9388753056234718\n",
            "2020-05-25 05:10:35 INFO     Accuracy at threshold 0.67 is 0.8863636363636364\n",
            "2020-05-25 05:10:35 INFO     F1 score at threshold 0.68 is 0.9375764993880048\n",
            "2020-05-25 05:10:35 INFO     Accuracy at threshold 0.68 is 0.884090909090909\n",
            "2020-05-25 05:10:35 INFO     F1 score at threshold 0.69 is 0.9362745098039216\n",
            "2020-05-25 05:10:35 INFO     Accuracy at threshold 0.69 is 0.8818181818181818\n",
            "2020-05-25 05:10:35 INFO     F1 score at threshold 0.7 is 0.932349323493235\n",
            "2020-05-25 05:10:35 INFO     Accuracy at threshold 0.7 is 0.875\n",
            "2020-05-25 05:10:35 INFO     F1 score at threshold 0.71 is 0.932349323493235\n",
            "2020-05-25 05:10:35 INFO     Accuracy at threshold 0.71 is 0.875\n",
            "2020-05-25 05:10:35 INFO     F1 score at threshold 0.72 is 0.9244114002478315\n",
            "2020-05-25 05:10:35 INFO     Accuracy at threshold 0.72 is 0.8613636363636363\n",
            "2020-05-25 05:10:35 INFO     F1 score at threshold 0.73 is 0.9230769230769231\n",
            "2020-05-25 05:10:35 INFO     Accuracy at threshold 0.73 is 0.8590909090909091\n",
            "2020-05-25 05:10:35 INFO     F1 score at threshold 0.74 is 0.9203980099502487\n",
            "2020-05-25 05:10:35 INFO     Accuracy at threshold 0.74 is 0.8545454545454545\n",
            "2020-05-25 05:10:35 INFO     F1 score at threshold 0.75 is 0.9175000000000001\n",
            "2020-05-25 05:10:35 INFO     Accuracy at threshold 0.75 is 0.85\n",
            "2020-05-25 05:10:35 INFO     F1 score at threshold 0.76 is 0.9147869674185463\n",
            "2020-05-25 05:10:35 INFO     Accuracy at threshold 0.76 is 0.8454545454545455\n",
            "2020-05-25 05:10:35 INFO     F1 score at threshold 0.77 is 0.9088607594936708\n",
            "2020-05-25 05:10:35 INFO     Accuracy at threshold 0.77 is 0.8363636363636363\n",
            "2020-05-25 05:10:35 INFO     F1 score at threshold 0.78 is 0.9033078880407125\n",
            "2020-05-25 05:10:35 INFO     Accuracy at threshold 0.78 is 0.8272727272727273\n",
            "2020-05-25 05:10:35 INFO     F1 score at threshold 0.79 is 0.8974358974358975\n",
            "2020-05-25 05:10:35 INFO     Accuracy at threshold 0.79 is 0.8181818181818182\n",
            "2020-05-25 05:10:35 INFO     F1 score at threshold 0.8 is 0.8983268983268983\n",
            "2020-05-25 05:10:35 INFO     Accuracy at threshold 0.8 is 0.8204545454545454\n"
          ],
          "name": "stdout"
        }
      ]
    },
    {
      "cell_type": "code",
      "metadata": {
        "id": "JaSwqigUZA60",
        "colab_type": "code",
        "outputId": "1b9917e0-6ce4-40ae-ccde-cb5539e58ea5",
        "colab": {
          "base_uri": "https://localhost:8080/",
          "height": 295
        }
      },
      "source": [
        "# plot two measures\n",
        "plt.plot(threshes, f1_scores, color='blue', label='f1')\n",
        "plt.plot(threshes, accuracy_scores, color='green', label='acc')\n",
        "plt.title('Threshold vs f1_scores/acc')\n",
        "plt.ylabel('f1_scores/acc')\n",
        "plt.xlabel('Threshold')\n",
        "plt.legend()\n",
        "plt.show()"
      ],
      "execution_count": 58,
      "outputs": [
        {
          "output_type": "display_data",
          "data": {
            "image/png": "[encoded data removed]",
            "text/plain": [
              "<Figure size 432x288 with 1 Axes>"
            ]
          },
          "metadata": {
            "tags": [],
            "needs_background": "light"
          }
        }
      ]
    },
    {
      "cell_type": "code",
      "metadata": {
        "id": "OOh74l0KZA65",
        "colab_type": "code",
        "outputId": "88764237-9827-4bc3-b123-be8eae825e4d",
        "colab": {
          "base_uri": "https://localhost:8080/",
          "height": 34
        }
      },
      "source": [
        "logging.info('=========done===========')"
      ],
      "execution_count": 59,
      "outputs": [
        {
          "output_type": "stream",
          "text": [
            "2020-05-25 05:10:35 INFO     =========done===========\n"
          ],
          "name": "stdout"
        }
      ]
    },
    {
      "cell_type": "code",
      "metadata": {
        "id": "QIkFJIMFYaDB",
        "colab_type": "code",
        "colab": {}
      },
      "source": [
        ""
      ],
      "execution_count": 0,
      "outputs": []
    },
    {
      "cell_type": "markdown",
      "metadata": {
        "id": "bK7spt4DYanW",
        "colab_type": "text"
      },
      "source": [
        "## Hybrid Model"
      ]
    },
    {
      "cell_type": "code",
      "metadata": {
        "id": "RorzEqLcYn57",
        "colab_type": "code",
        "colab": {
          "base_uri": "https://localhost:8080/",
          "height": 130
        },
        "outputId": "27c5cf46-0c7d-4e07-b182-2d96d7f3dfc3"
      },
      "source": [
        "from tensorflow.keras import layers\n",
        "from keras.initializers import Constant\n",
        "from keras.regularizers import regularizers\n",
        "\n",
        "\n",
        "model_CNN = tf.keras.Sequential()\n",
        "model_CNN.add(layers.Embedding(nb_words,\n",
        "                                300,\n",
        "                                weights=[embedding_matrix],\n",
        "                                input_length=max_len,\n",
        "                                trainable=False))\n",
        "model_CNN.add(layers.Conv1D(300, \n",
        "                            kernel_size=5, \n",
        "                            activation='relu',\n",
        "                            name='Conv1'))\n",
        "model_CNN.add(layers.GlobalMaxPool1D())\n",
        "\n",
        "\n",
        "# model_CNN.add(layers.GlobalMaxPool1D())\n",
        "#model_CNN.add(layers.Dense(10, activation=\"relu\"))\n",
        "\n",
        "model_CNN.add(layers.Dense(1,kernel_regularizer=l2(0.01), activation='sigmoid')\n",
        "#model_CNN.add(Activation('linear'))\n",
        "#model_CNN.summary()\n",
        "model_CNN.summary()"
      ],
      "execution_count": 47,
      "outputs": [
        {
          "output_type": "error",
          "ename": "SyntaxError",
          "evalue": "ignored",
          "traceback": [
            "\u001b[0;36m  File \u001b[0;32m\"<ipython-input-47-b9c26fe2db18>\"\u001b[0;36m, line \u001b[0;32m25\u001b[0m\n\u001b[0;31m    model_CNN.summary()\u001b[0m\n\u001b[0m            ^\u001b[0m\n\u001b[0;31mSyntaxError\u001b[0m\u001b[0;31m:\u001b[0m invalid syntax\n"
          ]
        }
      ]
    },
    {
      "cell_type": "code",
      "metadata": {
        "id": "wr6DOoG-X6rD",
        "colab_type": "code",
        "colab": {
          "base_uri": "https://localhost:8080/",
          "height": 232
        },
        "outputId": "73d2ea38-acf6-4b12-b6e5-5d9a05de332f"
      },
      "source": [
        "model_CNN.compile(loss='binary_crossentropy', optimizer='adam', metrics=['accuracy'])\n",
        "\n",
        "from tensorflow.keras.callbacks import EarlyStopping\n",
        "callbacks = EarlyStopping(monitor='val_loss', min_delta=0, patience = 2)\n",
        "history = model_CNN.fit(train_X, \n",
        "                        train_y, \n",
        "                        batch_size=512, \n",
        "                        epochs=14, \n",
        "                        validation_data=(val_X, val_y),\n",
        "                        callbacks=callbacks\n",
        "                        )"
      ],
      "execution_count": 5,
      "outputs": [
        {
          "output_type": "error",
          "ename": "NameError",
          "evalue": "ignored",
          "traceback": [
            "\u001b[0;31m---------------------------------------------------------------------------\u001b[0m",
            "\u001b[0;31mNameError\u001b[0m                                 Traceback (most recent call last)",
            "\u001b[0;32m<ipython-input-5-415af488be08>\u001b[0m in \u001b[0;36m<module>\u001b[0;34m()\u001b[0m\n\u001b[0;32m----> 1\u001b[0;31m \u001b[0mmodel_CNN\u001b[0m\u001b[0;34m.\u001b[0m\u001b[0mcompile\u001b[0m\u001b[0;34m(\u001b[0m\u001b[0mloss\u001b[0m\u001b[0;34m=\u001b[0m\u001b[0;34m'binary_crossentropy'\u001b[0m\u001b[0;34m,\u001b[0m \u001b[0moptimizer\u001b[0m\u001b[0;34m=\u001b[0m\u001b[0;34m'adam'\u001b[0m\u001b[0;34m,\u001b[0m \u001b[0mmetrics\u001b[0m\u001b[0;34m=\u001b[0m\u001b[0;34m[\u001b[0m\u001b[0;34m'accuracy'\u001b[0m\u001b[0;34m]\u001b[0m\u001b[0;34m)\u001b[0m\u001b[0;34m\u001b[0m\u001b[0;34m\u001b[0m\u001b[0m\n\u001b[0m\u001b[1;32m      2\u001b[0m \u001b[0;34m\u001b[0m\u001b[0m\n\u001b[1;32m      3\u001b[0m \u001b[0;32mfrom\u001b[0m \u001b[0mtensorflow\u001b[0m\u001b[0;34m.\u001b[0m\u001b[0mkeras\u001b[0m\u001b[0;34m.\u001b[0m\u001b[0mcallbacks\u001b[0m \u001b[0;32mimport\u001b[0m \u001b[0mEarlyStopping\u001b[0m\u001b[0;34m\u001b[0m\u001b[0;34m\u001b[0m\u001b[0m\n\u001b[1;32m      4\u001b[0m \u001b[0mcallbacks\u001b[0m \u001b[0;34m=\u001b[0m \u001b[0mEarlyStopping\u001b[0m\u001b[0;34m(\u001b[0m\u001b[0mmonitor\u001b[0m\u001b[0;34m=\u001b[0m\u001b[0;34m'val_loss'\u001b[0m\u001b[0;34m,\u001b[0m \u001b[0mmin_delta\u001b[0m\u001b[0;34m=\u001b[0m\u001b[0;36m0\u001b[0m\u001b[0;34m,\u001b[0m \u001b[0mpatience\u001b[0m \u001b[0;34m=\u001b[0m \u001b[0;36m2\u001b[0m\u001b[0;34m)\u001b[0m\u001b[0;34m\u001b[0m\u001b[0;34m\u001b[0m\u001b[0m\n\u001b[1;32m      5\u001b[0m history = model_CNN.fit(train_X, \n",
            "\u001b[0;31mNameError\u001b[0m: name 'model_CNN' is not defined"
          ]
        }
      ]
    },
    {
      "cell_type": "code",
      "metadata": {
        "id": "qzEs5gGpYR-G",
        "colab_type": "code",
        "colab": {
          "base_uri": "https://localhost:8080/",
          "height": 573
        },
        "outputId": "a4ac8856-b651-43e3-d9dd-bee65e514048"
      },
      "source": [
        "\n",
        "# Plot training & validation accuracy values\n",
        "import matplotlib.pyplot as plt \n",
        "plt.plot(history.history['accuracy'])\n",
        "plt.plot(history.history['val_accuracy'])\n",
        "plt.title('Model accuracy')\n",
        "plt.ylabel('Accuracy')\n",
        "plt.xlabel('Epoch')\n",
        "plt.legend(['Train', 'Val'], loc='upper left')\n",
        "plt.show()\n",
        "\n",
        "# Plot training & validation loss values\n",
        "plt.plot(history.history['loss'])\n",
        "plt.plot(history.history['val_loss'])\n",
        "plt.title('Model loss')\n",
        "plt.ylabel('Loss')\n",
        "plt.xlabel('Epoch')\n",
        "plt.legend(['Train', 'Val'], loc='upper left')\n",
        "plt.show()"
      ],
      "execution_count": 65,
      "outputs": [
        {
          "output_type": "display_data",
          "data": {
            "image/png": "[encoded data removed]",
            "text/plain": [
              "<Figure size 432x288 with 1 Axes>"
            ]
          },
          "metadata": {
            "tags": [],
            "needs_background": "light"
          }
        },
        {
          "output_type": "display_data",
          "data": {
            "image/png": "[encoded data removed]",
            "text/plain": [
              "<Figure size 432x288 with 1 Axes>"
            ]
          },
          "metadata": {
            "tags": [],
            "needs_background": "light"
          }
        }
      ]
    },
    {
      "cell_type": "code",
      "metadata": {
        "id": "avN_tCKLa3pa",
        "colab_type": "code",
        "colab": {
          "base_uri": "https://localhost:8080/",
          "height": 493
        },
        "outputId": "e9ea7411-c185-47fb-a3fc-a815b7c75d02"
      },
      "source": [
        "from tensorflow.keras import layers\n",
        "from keras.initializers import Constant\n",
        "from tensorflow.keras import regularizers\n",
        "\n",
        "model_CNNx = tf.keras.Sequential()\n",
        "model_CNNx.add(layers.Embedding(nb_words,\n",
        "                                100,\n",
        "                                input_length=max_len,))\n",
        "model_CNNx.add(layers.Conv1D(100,\n",
        "                             kernel_size=3,\n",
        "                             activation='relu',\n",
        "                             name='Conv1'))\n",
        "model_CNNx.add(layers.GlobalMaxPool1D())\n",
        "model_CNNx.add(layers.Reshape((100,1)))\n",
        "model_CNNx.add(layers.Conv1D(100, kernel_size=5,\n",
        "                             activation='relu',\n",
        "                             name='Conv2'))\n",
        "model_CNNx.add(layers.Conv1D(100, kernel_size=3,\n",
        "                             activation='relu',\n",
        "                             name='Conv3'))\n",
        "model_CNNx.add(layers.GlobalMaxPool1D())\n",
        "model_CNNx.add(layers.Dense(10,kernel_regularizer=regularizers.l2(0.01), activation='sigmoid'))\n",
        "model_CNNx.add(layers.Dropout(0.2))\n",
        "model_CNNx.add(layers.Dense(1, activation=\"sigmoid\"))\n",
        "model_CNNx.summary()\n",
        "\n",
        "\n",
        "\n",
        "\n",
        "                                \n",
        "\n",
        "                               "
      ],
      "execution_count": 64,
      "outputs": [
        {
          "output_type": "stream",
          "text": [
            "Model: \"sequential_5\"\n",
            "_________________________________________________________________\n",
            "Layer (type)                 Output Shape              Param #   \n",
            "=================================================================\n",
            "embedding_5 (Embedding)      (None, 70, 100)           1004300   \n",
            "_________________________________________________________________\n",
            "Conv1 (Conv1D)               (None, 68, 100)           30100     \n",
            "_________________________________________________________________\n",
            "global_max_pooling1d_6 (Glob (None, 100)               0         \n",
            "_________________________________________________________________\n",
            "reshape_3 (Reshape)          (None, 100, 1)            0         \n",
            "_________________________________________________________________\n",
            "Conv2 (Conv1D)               (None, 96, 100)           600       \n",
            "_________________________________________________________________\n",
            "Conv3 (Conv1D)               (None, 94, 100)           30100     \n",
            "_________________________________________________________________\n",
            "global_max_pooling1d_7 (Glob (None, 100)               0         \n",
            "_________________________________________________________________\n",
            "dense_4 (Dense)              (None, 10)                1010      \n",
            "_________________________________________________________________\n",
            "dropout_2 (Dropout)          (None, 10)                0         \n",
            "_________________________________________________________________\n",
            "dense_5 (Dense)              (None, 1)                 11        \n",
            "=================================================================\n",
            "Total params: 1,066,121\n",
            "Trainable params: 1,066,121\n",
            "Non-trainable params: 0\n",
            "_________________________________________________________________\n"
          ],
          "name": "stdout"
        }
      ]
    },
    {
      "cell_type": "code",
      "metadata": {
        "id": "VNUBZF0qa30A",
        "colab_type": "code",
        "colab": {
          "base_uri": "https://localhost:8080/",
          "height": 513
        },
        "outputId": "4cd44b2a-05f4-4658-c198-be2092477b09"
      },
      "source": [
        "model_CNNx.compile(loss=tf.keras.losses.SquaredHinge(), optimizer='adam', metrics=['accuracy'])\n",
        "#loss=tf.keras.losses.Hinge())\n",
        "from tensorflow.keras.callbacks import EarlyStopping\n",
        "callbacks = EarlyStopping(monitor='val_loss', min_delta=0, patience = 2)\n",
        "history = model_CNNx.fit(train_X, \n",
        "                        train_y, \n",
        "                        batch_size=512, \n",
        "                        epochs=14, \n",
        "                        validation_data=(val_X, val_y),\n",
        "                        callbacks=callbacks\n",
        "                        )"
      ],
      "execution_count": 65,
      "outputs": [
        {
          "output_type": "stream",
          "text": [
            "Epoch 1/14\n",
            "7/7 [==============================] - 3s 434ms/step - loss: 0.6365 - accuracy: 0.7281 - val_loss: 0.5637 - val_accuracy: 0.9000\n",
            "Epoch 2/14\n",
            "7/7 [==============================] - 3s 407ms/step - loss: 0.6114 - accuracy: 0.7963 - val_loss: 0.5357 - val_accuracy: 0.9000\n",
            "Epoch 3/14\n",
            "7/7 [==============================] - 3s 410ms/step - loss: 0.5861 - accuracy: 0.8369 - val_loss: 0.5070 - val_accuracy: 0.9000\n",
            "Epoch 4/14\n",
            "7/7 [==============================] - 3s 406ms/step - loss: 0.5604 - accuracy: 0.8659 - val_loss: 0.4828 - val_accuracy: 0.9000\n",
            "Epoch 5/14\n",
            "7/7 [==============================] - 3s 405ms/step - loss: 0.5431 - accuracy: 0.8739 - val_loss: 0.4680 - val_accuracy: 0.9000\n",
            "Epoch 6/14\n",
            "7/7 [==============================] - 3s 408ms/step - loss: 0.5275 - accuracy: 0.8776 - val_loss: 0.4568 - val_accuracy: 0.9000\n",
            "Epoch 7/14\n",
            "7/7 [==============================] - 3s 401ms/step - loss: 0.5153 - accuracy: 0.8770 - val_loss: 0.4470 - val_accuracy: 0.9000\n",
            "Epoch 8/14\n",
            "7/7 [==============================] - 3s 406ms/step - loss: 0.4978 - accuracy: 0.8767 - val_loss: 0.4388 - val_accuracy: 0.9000\n",
            "Epoch 9/14\n",
            "7/7 [==============================] - 3s 410ms/step - loss: 0.4839 - accuracy: 0.8773 - val_loss: 0.4307 - val_accuracy: 0.9000\n",
            "Epoch 10/14\n",
            "7/7 [==============================] - 3s 404ms/step - loss: 0.4669 - accuracy: 0.8764 - val_loss: 0.4237 - val_accuracy: 0.9000\n",
            "Epoch 11/14\n",
            "7/7 [==============================] - 3s 405ms/step - loss: 0.4477 - accuracy: 0.8798 - val_loss: 0.4186 - val_accuracy: 0.9000\n",
            "Epoch 12/14\n",
            "7/7 [==============================] - 3s 410ms/step - loss: 0.4268 - accuracy: 0.8866 - val_loss: 0.4152 - val_accuracy: 0.9000\n",
            "Epoch 13/14\n",
            "7/7 [==============================] - 3s 404ms/step - loss: 0.4058 - accuracy: 0.8918 - val_loss: 0.4148 - val_accuracy: 0.9000\n",
            "Epoch 14/14\n",
            "7/7 [==============================] - 3s 404ms/step - loss: 0.3855 - accuracy: 0.9011 - val_loss: 0.4147 - val_accuracy: 0.9000\n"
          ],
          "name": "stdout"
        }
      ]
    },
    {
      "cell_type": "code",
      "metadata": {
        "id": "Ui-9x-nSa36s",
        "colab_type": "code",
        "colab": {
          "base_uri": "https://localhost:8080/",
          "height": 573
        },
        "outputId": "e3ce53ba-37bd-4e7b-e1ce-07874792e84c"
      },
      "source": [
        "# Plot training & validation accuracy values\n",
        "import matplotlib.pyplot as plt \n",
        "plt.plot(history.history['accuracy'])\n",
        "plt.plot(history.history['val_accuracy'])\n",
        "plt.title('CNN+ SVM Hybrid Model accuracy')\n",
        "plt.ylabel('Accuracy')\n",
        "plt.xlabel('Epoch')\n",
        "plt.legend(['Train', 'Val'], loc='upper left')\n",
        "plt.show()\n",
        "\n",
        "# Plot training & validation loss values\n",
        "plt.plot(history.history['loss'])\n",
        "plt.plot(history.history['val_loss'])\n",
        "plt.title('CNN+ SVM Hybrid Model loss')\n",
        "plt.ylabel('Loss')\n",
        "plt.xlabel('Epoch')\n",
        "plt.legend(['Train', 'Val'], loc='upper left')\n",
        "plt.show()"
      ],
      "execution_count": 73,
      "outputs": [
        {
          "output_type": "display_data",
          "data": {
            "image/png": "[encoded data removed]",
            "text/plain": [
              "<Figure size 432x288 with 1 Axes>"
            ]
          },
          "metadata": {
            "tags": [],
            "needs_background": "light"
          }
        },
        {
          "output_type": "display_data",
          "data": {
            "image/png": "[encoded data removed]",
            "text/plain": [
              "<Figure size 432x288 with 1 Axes>"
            ]
          },
          "metadata": {
            "tags": [],
            "needs_background": "light"
          }
        }
      ]
    },
    {
      "cell_type": "code",
      "metadata": {
        "id": "AaQ_ik4LNQGg",
        "colab_type": "code",
        "colab": {
          "base_uri": "https://localhost:8080/",
          "height": 34
        },
        "outputId": "16269ea0-29ef-4666-eacc-f8ac92df7150"
      },
      "source": [
        "pred_emb_val_yx = model_CNNx.predict([val_X], batch_size=512, verbose=1)\n",
        "#print(pred_noemb_val_y)"
      ],
      "execution_count": 71,
      "outputs": [
        {
          "output_type": "stream",
          "text": [
            "1/1 [==============================] - 0s 1ms/step\n"
          ],
          "name": "stdout"
        }
      ]
    },
    {
      "cell_type": "code",
      "metadata": {
        "id": "rkm_NOipa3_7",
        "colab_type": "code",
        "colab": {
          "base_uri": "https://localhost:8080/",
          "height": 51
        },
        "outputId": "dc7ef860-6245-4ad4-b0a0-4aa9aa1f412f"
      },
      "source": [
        "def cnn_svm_confusion_matrix(pred_emb_val_yx, val_y):\n",
        "    pred_val_y = pred_emb_val_yx > 0.5\n",
        "    tn, fp, fn, tp = confusion_matrix(pred_val_y, val_y).ravel()\n",
        "    print('tn', tn, 'fp', fp, 'fn', fn, 'tp', tp)\n",
        "\n",
        "    cnn_acc = accuracy_score(pred_val_y, val_y)\n",
        "    cnn_precision = precision_score(pred_val_y, val_y)\n",
        "    cnn_recall = recall_score(pred_val_y, val_y)\n",
        "    cnn_f1_score = f1_score(pred_val_y, val_y)\n",
        "    return cnn_acc, cnn_precision, cnn_recall, cnn_f1_score, pred_val_y, tn, fp, fn, tp\n",
        "\n",
        "cnn_acc, cnn_precision, cnn_recall, cnn_f1_score, cnn_val_y_cnn_emb, tn_c_e, fp_c_e, fn_c_e, tp_c_e = cnn_confusion_matrix(pred_emb_val_yx, val_y)\n",
        "print('cnn_svm_acc: ',cnn_acc, ', cnn_svm_precision: ', cnn_precision, ', cnn_svm_recall: ', cnn_recall, ', cnn_svm_f1_score', cnn_f1_score)"
      ],
      "execution_count": 72,
      "outputs": [
        {
          "output_type": "stream",
          "text": [
            "tn 0 fp 0 fn 44 tp 396\n",
            "cnn_svm_acc:  0.9 , cnn_svm_precision:  1.0 , cnn_svm_recall:  0.9 , cnn_svm_f1_score 0.9473684210526316\n"
          ],
          "name": "stdout"
        }
      ]
    },
    {
      "cell_type": "code",
      "metadata": {
        "id": "vR4KdBmia4Kq",
        "colab_type": "code",
        "colab": {}
      },
      "source": [
        ""
      ],
      "execution_count": 0,
      "outputs": []
    },
    {
      "cell_type": "code",
      "metadata": {
        "id": "41szzz3_a34x",
        "colab_type": "code",
        "colab": {}
      },
      "source": [
        ""
      ],
      "execution_count": 0,
      "outputs": []
    }
  ]
}