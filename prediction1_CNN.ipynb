{
  "nbformat": 4,
  "nbformat_minor": 0,
  "metadata": {
    "kernelspec": {
      "display_name": "Python 3",
      "language": "python",
      "name": "python3"
    },
    "language_info": {
      "codemirror_mode": {
        "name": "ipython",
        "version": 3
      },
      "file_extension": ".py",
      "mimetype": "text/x-python",
      "name": "python",
      "nbconvert_exporter": "python",
      "pygments_lexer": "ipython3",
      "version": "3.6.6"
    },
    "colab": {
      "name": "prediction1_CNN.ipynb",
      "provenance": [],
      "collapsed_sections": [],
      "toc_visible": true,
      "include_colab_link": true
    },
    "accelerator": "TPU"
  },
  "cells": [
    {
      "cell_type": "markdown",
      "metadata": {
        "id": "view-in-github",
        "colab_type": "text"
      },
      "source": [
        "<a href=\"https://colab.research.google.com/github/kruttikajain/Targetted-Abusive_Language_Online/blob/master/prediction1_CNN.ipynb\" target=\"_parent\"><img src=\"https://colab.research.google.com/assets/colab-badge.svg\" alt=\"Open In Colab\"/></a>"
      ]
    },
    {
      "cell_type": "markdown",
      "metadata": {
        "_uuid": "01f361ddc47e0b386595316fe3d7f4dabbd260db",
        "id": "XE0VGEF8ZA6M",
        "colab_type": "text"
      },
      "source": [
        "# Abusive Language Online \n",
        "\n",
        "Predition1: predict OFF/NOT\n",
        "\n",
        "* Upload it each time: Dataset: [data](http://demo.clab.cs.cmu.edu/ethical_nlp2019/homeworks/hw3/hw3.html)\n",
        "\n",
        "\n",
        "1.   train.tsv\n",
        "2.   dev.tsv\n",
        "3.   test.tsv\n",
        "\n",
        "* Need manually add log.txt\n",
        "* Mount drive to load GloVe embeddings\n",
        "\n",
        "\n"
      ]
    },
    {
      "cell_type": "markdown",
      "metadata": {
        "id": "PqazyGPwaTEe",
        "colab_type": "text"
      },
      "source": [
        "# Import useful lib"
      ]
    },
    {
      "cell_type": "code",
      "metadata": {
        "_cell_guid": "b1076dfc-b9ad-4769-8c92-a6c4dae69d19",
        "_uuid": "8f2839f25d086af736a60e9eeb907d3b93b6e0e5",
        "id": "ONg01KM4ZA6N",
        "colab_type": "code",
        "outputId": "8dcf8b33-dc7f-4bfa-f6a5-673fa689731c",
        "colab": {
          "base_uri": "https://localhost:8080/",
          "height": 34
        }
      },
      "source": [
        "import os\n",
        "import sys\n",
        "from logging import handlers\n",
        "from pathlib import Path\n",
        "import logging\n",
        "import time\n",
        "import numpy as np # linear algebra\n",
        "import pandas as pd # data processing, CSV file I/O (e.g. pd.read_csv)\n",
        "from tqdm import tqdm\n",
        "import math\n",
        "import random \n",
        "\n",
        "from sklearn.model_selection import train_test_split\n",
        "from sklearn import metrics\n",
        "from sklearn.model_selection import KFold\n",
        "from sklearn.model_selection import StratifiedShuffleSplit\n",
        "\n",
        "from keras.preprocessing.text import Tokenizer\n",
        "from keras.preprocessing.sequence import pad_sequences\n",
        "from keras.layers import Dense, Input, LSTM, Embedding, Dropout, Activation, CuDNNGRU, CuDNNLSTM, Conv1D\n",
        "from keras.layers import Bidirectional, GlobalMaxPool1D\n",
        "from keras.models import Model\n",
        "from keras import initializers, regularizers, constraints, optimizers, layers\n",
        "\n",
        "from os import path\n",
        "from PIL import Image\n",
        "from wordcloud import WordCloud, STOPWORDS, ImageColorGenerator\n",
        "%matplotlib inline \n",
        "import matplotlib.pyplot as plt"
      ],
      "execution_count": 1,
      "outputs": [
        {
          "output_type": "stream",
          "text": [
            "Using TensorFlow backend.\n"
          ],
          "name": "stderr"
        }
      ]
    },
    {
      "cell_type": "markdown",
      "metadata": {
        "id": "11l-8APTaOVP",
        "colab_type": "text"
      },
      "source": [
        "# Data proprecessing"
      ]
    },
    {
      "cell_type": "markdown",
      "metadata": {
        "id": "zaD_vgEytb9u",
        "colab_type": "text"
      },
      "source": [
        "## mounting drive"
      ]
    },
    {
      "cell_type": "code",
      "metadata": {
        "id": "flhVY6tUu-wN",
        "colab_type": "code",
        "outputId": "162c5c85-e657-4959-8021-17f20c1f4b2d",
        "colab": {
          "base_uri": "https://localhost:8080/",
          "height": 122
        }
      },
      "source": [
        "from google.colab import drive\n",
        "drive.mount('/content/gdrive')"
      ],
      "execution_count": 2,
      "outputs": [
        {
          "output_type": "stream",
          "text": [
            "Go to this URL in a browser: https://accounts.google.com/o/oauth2/auth?client_id=947318989803-6bn6qk8qdgf4n4g3pfee6491hc0brc4i.apps.googleusercontent.com&redirect_uri=urn%3aietf%3awg%3aoauth%3a2.0%3aoob&response_type=code&scope=email%20https%3a%2f%2fwww.googleapis.com%2fauth%2fdocs.test%20https%3a%2f%2fwww.googleapis.com%2fauth%2fdrive%20https%3a%2f%2fwww.googleapis.com%2fauth%2fdrive.photos.readonly%20https%3a%2f%2fwww.googleapis.com%2fauth%2fpeopleapi.readonly\n",
            "\n",
            "Enter your authorization code:\n",
            "··········\n",
            "Mounted at /content/gdrive\n"
          ],
          "name": "stdout"
        }
      ]
    },
    {
      "cell_type": "code",
      "metadata": {
        "id": "-lHhx4ivtQTp",
        "colab_type": "code",
        "outputId": "66a27ae0-0bef-49cb-d48d-7cfd9c2fcf6c",
        "colab": {
          "base_uri": "https://localhost:8080/",
          "height": 34
        }
      },
      "source": [
        "!pwd"
      ],
      "execution_count": 3,
      "outputs": [
        {
          "output_type": "stream",
          "text": [
            "/content\n"
          ],
          "name": "stdout"
        }
      ]
    },
    {
      "cell_type": "code",
      "metadata": {
        "id": "PhfBBtlIHN6p",
        "colab_type": "code",
        "outputId": "a0cb2933-dfe5-47cc-d03e-553faf29d399",
        "colab": {
          "base_uri": "https://localhost:8080/",
          "height": 68
        }
      },
      "source": [
        "# Clone github repository setup\n",
        "# import join used to join ROOT path and MY_GOOGLE_DRIVE_PATH\n",
        "from os.path import join  \n",
        "\n",
        "# path to your project on Google Drive\n",
        "MY_GOOGLE_DRIVE_PATH = '' \n",
        "# replace with your Github username \n",
        "GIT_USERNAME = \"kruttikajain\" \n",
        "# definitely replace with your\n",
        "GIT_TOKEN = \"5fae1c9f18e3a0c680bf35e9ef63c72308ef2b4c\"  \n",
        "# Replace with your github repository in this case we want \n",
        "# to clone deep-learning-v2-pytorch repository\n",
        "GIT_REPOSITORY = \"Targetted-Abusive_Language_Online\" \n",
        "\n",
        "# PROJECT_PATH = join(ROOT, MY_GOOGLE_DRIVE_PATH)\n",
        "\n",
        "'''\n",
        "only this line should be modify\n",
        "'''\n",
        "PROJECT_PATH = './gdrive/My Drive/Colab Notebooks/246Project'\n",
        "\n",
        "# It's good to print out the value if you are not sure \n",
        "print(\"PROJECT_PATH: \", PROJECT_PATH)   \n",
        "\n",
        "# In case we haven't created the folder already; we will create a folder in the project path \n",
        "!mkdir \"{PROJECT_PATH}\"    \n",
        "\n",
        "#GIT_PATH = \"https://{GIT_TOKEN}@github.com/{GIT_USERNAME}/{GIT_REPOSITORY}.git\" this return 400 Bad Request for me\n",
        "GIT_PATH = \"https://\" + GIT_TOKEN + \"@github.com/\" + GIT_USERNAME + \"/\" + GIT_REPOSITORY + \".git\"\n",
        "print(\"GIT_PATH: \", GIT_PATH)"
      ],
      "execution_count": 4,
      "outputs": [
        {
          "output_type": "stream",
          "text": [
            "PROJECT_PATH:  ./gdrive/My Drive/Colab Notebooks/246Project\n",
            "mkdir: cannot create directory ‘./gdrive/My Drive/Colab Notebooks/246Project’: File exists\n",
            "GIT_PATH:  https://5fae1c9f18e3a0c680bf35e9ef63c72308ef2b4c@github.com/kruttikajain/Targetted-Abusive_Language_Online.git\n"
          ],
          "name": "stdout"
        }
      ]
    },
    {
      "cell_type": "markdown",
      "metadata": {
        "id": "ZhWzw5Rtajm7",
        "colab_type": "text"
      },
      "source": [
        "## Prepare logging file"
      ]
    },
    {
      "cell_type": "code",
      "metadata": {
        "id": "Vggd1S4jZA6R",
        "colab_type": "code",
        "outputId": "87608086-faeb-4d46-fd16-69367b61cfac",
        "colab": {
          "base_uri": "https://localhost:8080/",
          "height": 51
        }
      },
      "source": [
        "def init_logger(log_file):\n",
        "    if not os.path.exists(log_file):\n",
        "        os.makedirs(os.path.dirname(log_file))\n",
        "\n",
        "    log = logging.getLogger('')\n",
        "    log.setLevel(logging.INFO)\n",
        "    output_format = logging.Formatter(fmt='%(asctime)s %(levelname)-8s %(message)s', datefmt='%Y-%m-%d %H:%M:%S')\n",
        "    std_out_handler = logging.StreamHandler(sys.stdout)\n",
        "    std_out_handler.setFormatter(output_format)\n",
        "    logging.getLogger().addHandler(std_out_handler)\n",
        "    file_handler = logging.handlers.RotatingFileHandler(log_file, maxBytes=(1048576*5), backupCount=7)\n",
        "    file_handler.setFormatter(output_format)\n",
        "    logging.getLogger().addHandler(file_handler)\n",
        "\n",
        "init_logger(PROJECT_PATH + '/log.txt')\n",
        "logging.info('=============start2=================')\n",
        "logging.info('logging file prepared...')"
      ],
      "execution_count": 5,
      "outputs": [
        {
          "output_type": "stream",
          "text": [
            "2020-05-16 20:18:42 INFO     =============start2=================\n",
            "2020-05-16 20:18:43 INFO     logging file prepared...\n"
          ],
          "name": "stdout"
        }
      ]
    },
    {
      "cell_type": "markdown",
      "metadata": {
        "id": "7FwYT4vTyCzs",
        "colab_type": "text"
      },
      "source": [
        "## load data"
      ]
    },
    {
      "cell_type": "code",
      "metadata": {
        "id": "AOtNdORiaKqJ",
        "colab_type": "code",
        "outputId": "6c72182e-dacf-4808-9d83-5cd344aad328",
        "colab": {
          "base_uri": "https://localhost:8080/",
          "height": 221
        }
      },
      "source": [
        "def load_data():\n",
        "    logging.info('loading the dataset...')\n",
        "    train_df = pd.read_csv(PROJECT_PATH + '/project_data/train.tsv', sep=\"\\t\")\n",
        "    val_df = pd.read_csv(PROJECT_PATH + '/project_data/dev.tsv', sep=\"\\t\")\n",
        "    test_df = pd.read_csv(PROJECT_PATH + '/project_data/test.tsv', sep=\"\\t\")\n",
        "    \n",
        "    # shape of df, column names\n",
        "    logging.info('Train shape : ' + str(train_df.shape)) # 'text', 'label', 'category'\n",
        "    logging.info('Val shape: ' + str(val_df.shape))\n",
        "    logging.info('Test shape: ' + str(test_df.shape))\n",
        "    \n",
        "    logging.info('train_df.columns: ' + train_df.columns)\n",
        "    logging.info('val_df.columns: ' + val_df.columns)\n",
        "    logging.info('test_df.columns: ' + test_df.columns)\n",
        "\n",
        "    return train_df, val_df, test_df\n",
        "\n",
        "train_df, val_df, test_df = load_data()"
      ],
      "execution_count": 6,
      "outputs": [
        {
          "output_type": "stream",
          "text": [
            "2020-05-16 20:18:45 INFO     loading the dataset...\n",
            "2020-05-16 20:18:46 INFO     Train shape : (10592, 3)\n",
            "2020-05-16 20:18:46 INFO     Val shape: (1324, 3)\n",
            "2020-05-16 20:18:46 INFO     Test shape: (1324, 1)\n",
            "2020-05-16 20:18:46 INFO     NumExpr defaulting to 2 threads.\n",
            "2020-05-16 20:18:46 INFO     Index(['train_df.columns: text', 'train_df.columns: label',\n",
            "       'train_df.columns: category'],\n",
            "      dtype='object')\n",
            "2020-05-16 20:18:46 INFO     Index(['val_df.columns: text', 'val_df.columns: label',\n",
            "       'val_df.columns: category'],\n",
            "      dtype='object')\n",
            "2020-05-16 20:18:46 INFO     Index(['test_df.columns: text'], dtype='object')\n"
          ],
          "name": "stdout"
        }
      ]
    },
    {
      "cell_type": "code",
      "metadata": {
        "id": "MO55Z3UaXUsR",
        "colab_type": "code",
        "outputId": "3bb90ae3-43f4-4d21-f8b5-0a4dfecfd6f4",
        "colab": {
          "base_uri": "https://localhost:8080/",
          "height": 204
        }
      },
      "source": [
        "train_df.head()"
      ],
      "execution_count": 7,
      "outputs": [
        {
          "output_type": "execute_result",
          "data": {
            "text/html": [
              "<div>\n",
              "<style scoped>\n",
              "    .dataframe tbody tr th:only-of-type {\n",
              "        vertical-align: middle;\n",
              "    }\n",
              "\n",
              "    .dataframe tbody tr th {\n",
              "        vertical-align: top;\n",
              "    }\n",
              "\n",
              "    .dataframe thead th {\n",
              "        text-align: right;\n",
              "    }\n",
              "</style>\n",
              "<table border=\"1\" class=\"dataframe\">\n",
              "  <thead>\n",
              "    <tr style=\"text-align: right;\">\n",
              "      <th></th>\n",
              "      <th>text</th>\n",
              "      <th>label</th>\n",
              "      <th>category</th>\n",
              "    </tr>\n",
              "  </thead>\n",
              "  <tbody>\n",
              "    <tr>\n",
              "      <th>0</th>\n",
              "      <td>@USER @USER You are an embarrassing citizen!!</td>\n",
              "      <td>OFF</td>\n",
              "      <td>TIN</td>\n",
              "    </tr>\n",
              "    <tr>\n",
              "      <th>1</th>\n",
              "      <td>@USER Seems hard to believe that you stood nex...</td>\n",
              "      <td>OFF</td>\n",
              "      <td>TIN</td>\n",
              "    </tr>\n",
              "    <tr>\n",
              "      <th>2</th>\n",
              "      <td>@USER @USER @USER Wow !!! no wonder the Libera...</td>\n",
              "      <td>OFF</td>\n",
              "      <td>TIN</td>\n",
              "    </tr>\n",
              "    <tr>\n",
              "      <th>3</th>\n",
              "      <td>@USER @USER And not all idiots grandstands lik...</td>\n",
              "      <td>OFF</td>\n",
              "      <td>TIN</td>\n",
              "    </tr>\n",
              "    <tr>\n",
              "      <th>4</th>\n",
              "      <td>@USER Bring on the hypocrite gungrabber. MAGA</td>\n",
              "      <td>OFF</td>\n",
              "      <td>TIN</td>\n",
              "    </tr>\n",
              "  </tbody>\n",
              "</table>\n",
              "</div>"
            ],
            "text/plain": [
              "                                                text label category\n",
              "0      @USER @USER You are an embarrassing citizen!!   OFF      TIN\n",
              "1  @USER Seems hard to believe that you stood nex...   OFF      TIN\n",
              "2  @USER @USER @USER Wow !!! no wonder the Libera...   OFF      TIN\n",
              "3  @USER @USER And not all idiots grandstands lik...   OFF      TIN\n",
              "4      @USER Bring on the hypocrite gungrabber. MAGA   OFF      TIN"
            ]
          },
          "metadata": {
            "tags": []
          },
          "execution_count": 7
        }
      ]
    },
    {
      "cell_type": "markdown",
      "metadata": {
        "id": "ApWoZxt1dc-a",
        "colab_type": "text"
      },
      "source": [
        "**Attributes in data:**\n",
        "\n",
        "\n",
        "***Trainning data:***  (10592, 3) \\\\\n",
        "\n",
        "* **text:** \\\\\n",
        "tweet content\n",
        "\n",
        "* **label:** \\\\\n",
        "1.   (NOT) Not Offensive - This post does not contain offense or profanity\n",
        "2.   (OFF) Offensive - This post contains offensive language or a targeted (veiled or direct) offense\n",
        "\n",
        "* **category:** (if label is 'OFF') \\\\\n",
        "1.   (TIN) Targeted Insult and Threats - A post containing an insult or threat to an individual, a group, or others\n",
        "2.   (UNT) Untargeted - A post containing non-targeted profanity and swearing.\n",
        "\n",
        "***Validation data:***  (1324, 3) \\\\\n",
        "\n",
        "***Testing data***:  'text' (1324, 1) \\\\\n",
        "* **text**"
      ]
    },
    {
      "cell_type": "markdown",
      "metadata": {
        "id": "oEJfFD-hkhu5",
        "colab_type": "text"
      },
      "source": [
        "## Data cleaning"
      ]
    },
    {
      "cell_type": "code",
      "metadata": {
        "id": "-g52M8qtkk36",
        "colab_type": "code",
        "colab": {}
      },
      "source": [
        "def data_cleaning(train_df, val_df, test_df):\n",
        "    # shuffle data\n",
        "    train_df = train_df.sample(frac=1, random_state=2020).reset_index(drop=True)\n",
        "    \n",
        "    # lo lowercae\n",
        "    train_df['text'] = train_df['text'].str.lower()\n",
        "    val_df['text'] = val_df['text'].str.lower()\n",
        "    test_df['text'] = test_df['text'].str.lower()\n",
        "\n",
        "    # delete \"noise words\"\n",
        "    noise = [\"url\",\"user\",\"@\",\"&amp;\",\"#\",\"-\",'.',\"!\",\"?\",\"rt\",\"dm\",\"retweet\",\"rt\",\"dm\"]\n",
        "    for WORD in noise:\n",
        "        train_df['text'] = train_df['text'].str.replace(WORD, '')\n",
        "        val_df['text'] = val_df['text'].str.replace(WORD, '')\n",
        "        test_df['text'] = test_df['text'].str.replace(WORD, '')\n",
        "\n",
        "    # change label to 0/a\n",
        "    train_df['label'] = train_df['label'].map({'OFF': 1, 'NOT': 0})\n",
        "    val_df['label'] = val_df['label'].map({'OFF': 1, 'NOT': 0})\n",
        "\n",
        "    # one-hot encoding of category\n",
        "    train_df = pd.concat([train_df,pd.get_dummies(train_df['category'], prefix='category')],axis=1)\n",
        "    train_df.drop(['category'],axis=1, inplace=True)\n",
        "    \n",
        "    val_df = pd.concat([val_df,pd.get_dummies(val_df['category'], prefix='category')],axis=1)\n",
        "    val_df.drop(['category'],axis=1, inplace=True)\n",
        "    return train_df, val_df, test_df\n",
        "\n",
        "train_df, val_df, test_df = data_cleaning(train_df, val_df, test_df)\n"
      ],
      "execution_count": 0,
      "outputs": []
    },
    {
      "cell_type": "code",
      "metadata": {
        "id": "muL8B6aXSu3R",
        "colab_type": "code",
        "outputId": "fd36139c-50f3-4ecd-d2ae-7873d5babddb",
        "colab": {
          "base_uri": "https://localhost:8080/",
          "height": 359
        }
      },
      "source": [
        "val_df.head(10)"
      ],
      "execution_count": 9,
      "outputs": [
        {
          "output_type": "execute_result",
          "data": {
            "text/html": [
              "<div>\n",
              "<style scoped>\n",
              "    .dataframe tbody tr th:only-of-type {\n",
              "        vertical-align: middle;\n",
              "    }\n",
              "\n",
              "    .dataframe tbody tr th {\n",
              "        vertical-align: top;\n",
              "    }\n",
              "\n",
              "    .dataframe thead th {\n",
              "        text-align: right;\n",
              "    }\n",
              "</style>\n",
              "<table border=\"1\" class=\"dataframe\">\n",
              "  <thead>\n",
              "    <tr style=\"text-align: right;\">\n",
              "      <th></th>\n",
              "      <th>text</th>\n",
              "      <th>label</th>\n",
              "      <th>category_TIN</th>\n",
              "      <th>category_UNT</th>\n",
              "    </tr>\n",
              "  </thead>\n",
              "  <tbody>\n",
              "    <tr>\n",
              "      <th>0</th>\n",
              "      <td>she should ask a few native americans what th...</td>\n",
              "      <td>1</td>\n",
              "      <td>0</td>\n",
              "      <td>1</td>\n",
              "    </tr>\n",
              "    <tr>\n",
              "      <th>1</th>\n",
              "      <td>go home you’re drunk  maga trump2020 👊🇺🇸👊</td>\n",
              "      <td>1</td>\n",
              "      <td>1</td>\n",
              "      <td>0</td>\n",
              "    </tr>\n",
              "    <tr>\n",
              "      <th>2</th>\n",
              "      <td>amazon is investigating chinese employees who ...</td>\n",
              "      <td>0</td>\n",
              "      <td>0</td>\n",
              "      <td>0</td>\n",
              "    </tr>\n",
              "    <tr>\n",
              "      <th>3</th>\n",
              "      <td>someone should'vetaken\" this piece of shit to...</td>\n",
              "      <td>1</td>\n",
              "      <td>0</td>\n",
              "      <td>1</td>\n",
              "    </tr>\n",
              "    <tr>\n",
              "      <th>4</th>\n",
              "      <td>obama wanted liberals  illegals to move into...</td>\n",
              "      <td>0</td>\n",
              "      <td>0</td>\n",
              "      <td>0</td>\n",
              "    </tr>\n",
              "    <tr>\n",
              "      <th>5</th>\n",
              "      <td>liberals are all kookoo</td>\n",
              "      <td>1</td>\n",
              "      <td>1</td>\n",
              "      <td>0</td>\n",
              "    </tr>\n",
              "    <tr>\n",
              "      <th>6</th>\n",
              "      <td>oh noes tough shit</td>\n",
              "      <td>1</td>\n",
              "      <td>0</td>\n",
              "      <td>1</td>\n",
              "    </tr>\n",
              "    <tr>\n",
              "      <th>7</th>\n",
              "      <td>was literally just talking about this lol all...</td>\n",
              "      <td>1</td>\n",
              "      <td>1</td>\n",
              "      <td>0</td>\n",
              "    </tr>\n",
              "    <tr>\n",
              "      <th>8</th>\n",
              "      <td>buy more icecream</td>\n",
              "      <td>0</td>\n",
              "      <td>0</td>\n",
              "      <td>0</td>\n",
              "    </tr>\n",
              "    <tr>\n",
              "      <th>9</th>\n",
              "      <td>canada doesn’t need another cuck we already h...</td>\n",
              "      <td>1</td>\n",
              "      <td>1</td>\n",
              "      <td>0</td>\n",
              "    </tr>\n",
              "  </tbody>\n",
              "</table>\n",
              "</div>"
            ],
            "text/plain": [
              "                                                text  ...  category_UNT\n",
              "0   she should ask a few native americans what th...  ...             1\n",
              "1         go home you’re drunk  maga trump2020 👊🇺🇸👊   ...             0\n",
              "2  amazon is investigating chinese employees who ...  ...             0\n",
              "3   someone should'vetaken\" this piece of shit to...  ...             1\n",
              "4    obama wanted liberals  illegals to move into...  ...             0\n",
              "5                           liberals are all kookoo   ...             0\n",
              "6                                 oh noes tough shit  ...             1\n",
              "7   was literally just talking about this lol all...  ...             0\n",
              "8                                  buy more icecream  ...             0\n",
              "9   canada doesn’t need another cuck we already h...  ...             0\n",
              "\n",
              "[10 rows x 4 columns]"
            ]
          },
          "metadata": {
            "tags": []
          },
          "execution_count": 9
        }
      ]
    },
    {
      "cell_type": "markdown",
      "metadata": {
        "id": "VwBBjRW0-Ubf",
        "colab_type": "text"
      },
      "source": [
        "Check the content of abusive text"
      ]
    },
    {
      "cell_type": "code",
      "metadata": {
        "id": "Q6em0dtx8D3I",
        "colab_type": "code",
        "outputId": "d2704250-f482-4932-cc95-904d2c4be550",
        "colab": {
          "base_uri": "https://localhost:8080/",
          "height": 173
        }
      },
      "source": [
        "abusive_df = train_df.loc[train_df['label'] == 1]\n",
        "pd.set_option('display.max_colwidth', -1)\n",
        "abusive_df['text'].head(5)"
      ],
      "execution_count": 10,
      "outputs": [
        {
          "output_type": "stream",
          "text": [
            "/usr/local/lib/python3.6/dist-packages/ipykernel_launcher.py:2: FutureWarning: Passing a negative integer is deprecated in version 1.0 and will not be supported in future version. Instead, use None to not limit the column width.\n",
            "  \n"
          ],
          "name": "stderr"
        },
        {
          "output_type": "execute_result",
          "data": {
            "text/plain": [
              "0      didn't this trashy thing sleep her way to the top with married men                                                                 \n",
              "1       gfy the nfl should get no protection from the policeand no suppo from our militarythe league will slowly die on this road of shame\n",
              "10     👀 sitting here thinking he has a killer porn stache                                                                                \n",
              "13    all trump's and pense 2020 merch is being made is china and not the usa    maga    votethemout2018  trumpsarmy                      \n",
              "16     gun control now enough is enough                                                                                                   \n",
              "Name: text, dtype: object"
            ]
          },
          "metadata": {
            "tags": []
          },
          "execution_count": 10
        }
      ]
    },
    {
      "cell_type": "markdown",
      "metadata": {
        "id": "Plq9OgoGtqb8",
        "colab_type": "text"
      },
      "source": [
        "## Data distribution and visualization "
      ]
    },
    {
      "cell_type": "code",
      "metadata": {
        "id": "rKV_v3kvlmg7",
        "colab_type": "code",
        "outputId": "c71eb71e-3060-4c39-ebcc-29a24a9c47bd",
        "colab": {
          "base_uri": "https://localhost:8080/",
          "height": 596
        }
      },
      "source": [
        "# count how many letters in a sentence\n",
        "def label_distribution(train_df):\n",
        "    #  length of text\n",
        "    count = train_df['text'].str.split().apply(len).value_counts()\n",
        "    count.sort_index(inplace=True)\n",
        "    count.index = count.index.astype(str) + ' words:'\n",
        "    # logging.info(count[0:5])\n",
        "    # logging.info(count[-5:])\n",
        "    plt.plot(range(len(count)), count, color='blue')\n",
        "    plt.title(\"Text length\")\n",
        "    plt.show()\n",
        "    # label distribution\n",
        "    logging.info('number of label = 1 : ' + str((train_df['label'] != 0).sum()))\n",
        "    logging.info('number of category_TIN = 1: ' + str((train_df['category_TIN'] != 0).sum()))\n",
        "    logging.info('number of category_UNT = 1: ' + str((train_df['category_UNT'] != 0).sum()))\n",
        "\n",
        "    # plot histogram\n",
        "    train_df['label'].plot.hist(bins=2, title='label distribution')\n",
        "    plt.show()\n",
        "\n",
        "label_distribution(train_df)\n"
      ],
      "execution_count": 11,
      "outputs": [
        {
          "output_type": "display_data",
          "data": {
            "image/png": "[encoded data removed]",
            "text/plain": [
              "<Figure size 432x288 with 1 Axes>"
            ]
          },
          "metadata": {
            "tags": [],
            "needs_background": "light"
          }
        },
        {
          "output_type": "stream",
          "text": [
            "2020-05-16 20:19:58 INFO     number of label = 1 : 3520\n",
            "2020-05-16 20:19:58 INFO     number of category_TIN = 1: 3089\n",
            "2020-05-16 20:19:58 INFO     number of category_UNT = 1: 431\n"
          ],
          "name": "stdout"
        },
        {
          "output_type": "display_data",
          "data": {
            "image/png": "[encoded data removed]",
            "text/plain": [
              "<Figure size 432x288 with 1 Axes>"
            ]
          },
          "metadata": {
            "tags": [],
            "needs_background": "light"
          }
        }
      ]
    },
    {
      "cell_type": "markdown",
      "metadata": {
        "id": "mwxnd29E0lLP",
        "colab_type": "text"
      },
      "source": [
        "**Property of dataset**\n",
        "\n",
        "*   **Length of text:** [2, 60]\n",
        "\n",
        "*   **label:** \n",
        "1.   label = 0: 7072\n",
        "2.   label = 1: 3520\n",
        "\n",
        "* Among label = 1: \\\\\n",
        "1.   category_TIN = 1: 3089\n",
        "2.   category_UNT = 1: 431\n",
        "\n"
      ]
    },
    {
      "cell_type": "markdown",
      "metadata": {
        "id": "7kCi_RoLE8wP",
        "colab_type": "text"
      },
      "source": [
        "# Split data to X and y"
      ]
    },
    {
      "cell_type": "markdown",
      "metadata": {
        "id": "K8D_XrHPEaIV",
        "colab_type": "text"
      },
      "source": [
        "Split data to X and y"
      ]
    },
    {
      "cell_type": "code",
      "metadata": {
        "id": "vHcgmnATZA6k",
        "colab_type": "code",
        "outputId": "3ce1723e-5805-43d1-85a3-b1385dbbd77e",
        "colab": {
          "base_uri": "https://localhost:8080/",
          "height": 51
        }
      },
      "source": [
        "def split_train_val(train_df, val_df, test_df):\n",
        "    logging.info('splitting X and y ...')\n",
        "    train_X = train_df[\"text\"].fillna(\"_na_\").values\n",
        "    val_X = val_df[\"text\"].fillna(\"_na_\").values\n",
        "    test_X = test_df[\"text\"].fillna(\"_na_\").values\n",
        "\n",
        "    train_y = train_df['label'].values\n",
        "    val_y = val_df['label'].values\n",
        "\n",
        "    logging.info('finished splitting X and y')\n",
        "    return train_X, val_X, test_X, train_y, val_y\n",
        "\n",
        "train_X, val_X, test_X, train_y, val_y = split_train_val(train_df, val_df, test_df)"
      ],
      "execution_count": 12,
      "outputs": [
        {
          "output_type": "stream",
          "text": [
            "2020-05-16 20:20:16 INFO     splitting X and y ...\n",
            "2020-05-16 20:20:16 INFO     finished splitting X and y\n"
          ],
          "name": "stdout"
        }
      ]
    },
    {
      "cell_type": "code",
      "metadata": {
        "id": "rdk4s-pCZA6o",
        "colab_type": "code",
        "outputId": "af8f9b0f-e00a-4fa0-e8d0-e3676be0661a",
        "colab": {
          "base_uri": "https://localhost:8080/",
          "height": 51
        }
      },
      "source": [
        "print(train_X.shape, train_y.shape)\n",
        "print(val_X.shape, val_y.shape)"
      ],
      "execution_count": 13,
      "outputs": [
        {
          "output_type": "stream",
          "text": [
            "(10592,) (10592,)\n",
            "(1324,) (1324,)\n"
          ],
          "name": "stdout"
        }
      ]
    },
    {
      "cell_type": "markdown",
      "metadata": {
        "id": "feMxvs73D-gx",
        "colab_type": "text"
      },
      "source": [
        "Tokenize and padding each sentence, split datafram to attributes and labels"
      ]
    },
    {
      "cell_type": "code",
      "metadata": {
        "id": "tNGTN3kVZA6m",
        "colab_type": "code",
        "outputId": "d5ba6c18-4397-4e7c-90da-9c9d363bc0d2",
        "colab": {
          "base_uri": "https://localhost:8080/",
          "height": 68
        }
      },
      "source": [
        "# each word embedding to 300 dimension\n",
        "embed_size = 300\n",
        "# count of vocabulary words\n",
        "max_features = 50000\n",
        "# length of each sentences\n",
        "max_len = 70\n",
        "\n",
        "def token_sentence(train_X, val_X, test_X ):\n",
        "    logging.info('tokenizing sentence...')\n",
        "    tokenizer = Tokenizer(num_words=max_features)\n",
        "    tokenizer.fit_on_texts(list(train_X))\n",
        "    train_X = tokenizer.texts_to_sequences(train_X)\n",
        "    val_X = tokenizer.texts_to_sequences(val_X)\n",
        "    test_X = tokenizer.texts_to_sequences(test_X)\n",
        "\n",
        "    logging.info('padding sentence...')\n",
        "    train_X = pad_sequences(train_X, maxlen=max_len)\n",
        "    val_X = pad_sequences(val_X, maxlen=max_len)\n",
        "    test_X = pad_sequences(test_X, maxlen=max_len)\n",
        "\n",
        "    logging.info('all finished...')\n",
        "    return train_X, val_X, test_X, tokenizer\n",
        "\n",
        "train_X, val_X, test_X, tokenizer = token_sentence(train_X, val_X, test_X)\n"
      ],
      "execution_count": 14,
      "outputs": [
        {
          "output_type": "stream",
          "text": [
            "2020-05-16 20:20:27 INFO     tokenizing sentence...\n",
            "2020-05-16 20:20:27 INFO     padding sentence...\n",
            "2020-05-16 20:20:28 INFO     all finished...\n"
          ],
          "name": "stdout"
        }
      ]
    },
    {
      "cell_type": "code",
      "metadata": {
        "id": "NBUErOp_QEK9",
        "colab_type": "code",
        "outputId": "81f4b5ae-ecfa-483f-f80e-815cd29f2113",
        "colab": {
          "base_uri": "https://localhost:8080/",
          "height": 34
        }
      },
      "source": [
        "train_X.shape"
      ],
      "execution_count": 15,
      "outputs": [
        {
          "output_type": "execute_result",
          "data": {
            "text/plain": [
              "(10592, 70)"
            ]
          },
          "metadata": {
            "tags": []
          },
          "execution_count": 15
        }
      ]
    },
    {
      "cell_type": "markdown",
      "metadata": {
        "id": "AenyxjOSMCDL",
        "colab_type": "text"
      },
      "source": [
        "# Train model"
      ]
    },
    {
      "cell_type": "markdown",
      "metadata": {
        "id": "QL2IvlW8qLJQ",
        "colab_type": "text"
      },
      "source": [
        "## Model1: base line"
      ]
    },
    {
      "cell_type": "code",
      "metadata": {
        "id": "0-uZ5egkQd58",
        "colab_type": "code",
        "colab": {}
      },
      "source": [
        "from sklearn import tree\n",
        "from sklearn.linear_model import LogisticRegression\n",
        "from sklearn.naive_bayes import GaussianNB\n",
        "\n",
        "from sklearn.metrics import accuracy_score, f1_score\n",
        "from sklearn.metrics import precision_score\n",
        "from sklearn.metrics import recall_score\n",
        "from sklearn.metrics import confusion_matrix\n",
        "\n",
        "# precision is the ratio tp / (tp + fp)\n",
        "# recall is the ratio tp / (tp + fn)\n",
        "# F1 = 2 * (precision * recall) / (precision + recall)"
      ],
      "execution_count": 0,
      "outputs": []
    },
    {
      "cell_type": "markdown",
      "metadata": {
        "id": "63QJAP9RqSle",
        "colab_type": "text"
      },
      "source": [
        "### LogisticRegression"
      ]
    },
    {
      "cell_type": "code",
      "metadata": {
        "id": "J-FpKqDpWoiD",
        "colab_type": "code",
        "colab": {}
      },
      "source": [
        "def lr_model(train_X, train_y, val_X, cal_y):\n",
        "    lr_clf = LogisticRegression(random_state=0, max_iter=4000).fit(train_X, train_y)\n",
        "    pred_val_y = lr_clf.predict(val_X).reshape(-1,1)\n",
        "\n",
        "    tn, fp, fn, tp = confusion_matrix(pred_val_y, val_y).ravel()\n",
        "    print('tn', tn, 'fp', fp, 'fn', fn, 'tp', tp)\n",
        "\n",
        "    lr_acc = accuracy_score(pred_val_y, val_y)\n",
        "    lr_precision = precision_score(pred_val_y, val_y)\n",
        "    lr_recall = recall_score(pred_val_y, val_y)\n",
        "    lr_f1_score = f1_score(pred_val_y, val_y)\n",
        "    return lr_acc, lr_precision, lr_recall, lr_f1_score\n",
        "\n",
        "lr_acc, lr_precision, lr_recall, lr_f1_score = lr_model(train_X, train_y, val_X, val_y)\n",
        "print('lr_precision', lr_precision, 'lr_recall', lr_recall)\n",
        "print('lr_acc: ', lr_acc, ', lr_f1_score: ',  lr_f1_score)"
      ],
      "execution_count": 0,
      "outputs": []
    },
    {
      "cell_type": "markdown",
      "metadata": {
        "_uuid": "383e51177bf33da0b8fee42dd6a093908b808f64",
        "id": "nGYvEk8EZA6z",
        "colab_type": "text"
      },
      "source": [
        "## Model4: CNN"
      ]
    },
    {
      "cell_type": "code",
      "metadata": {
        "id": "PLrxz3sULBnr",
        "colab_type": "code",
        "colab": {
          "base_uri": "https://localhost:8080/",
          "height": 51
        },
        "outputId": "25ff7212-90f4-4242-8c71-d6e523b6c946"
      },
      "source": [
        "word_index = tokenizer.word_index\n",
        "print(len(word_index))\n",
        "nb_words = min(max_features, 1 + len(word_index))\n",
        "print(nb_words)"
      ],
      "execution_count": 21,
      "outputs": [
        {
          "output_type": "stream",
          "text": [
            "19626\n",
            "19627\n"
          ],
          "name": "stdout"
        }
      ]
    },
    {
      "cell_type": "code",
      "metadata": {
        "id": "NpCE96HTr71x",
        "colab_type": "code",
        "outputId": "b97fb76d-9f1e-4703-ab4e-2e39a43f7fe1",
        "colab": {
          "base_uri": "https://localhost:8080/",
          "height": 425
        }
      },
      "source": [
        "import tensorflow as tf\n",
        "from tensorflow.keras import layers\n",
        "from keras.initializers import Constant\n",
        "\n",
        "model_CNN = tf.keras.Sequential()\n",
        "model_CNN.add(layers.Embedding(nb_words,\n",
        "                                100,\n",
        "                                # weights=[embedding_matrix],\n",
        "                                input_length=max_len,\n",
        "                                ))\n",
        "model_CNN.add(layers.Conv1D(100, \n",
        "                            kernel_size=5, \n",
        "                            activation='relu',\n",
        "                            name='Conv1'))\n",
        "model_CNN.add(layers.GlobalMaxPool1D())\n",
        "\n",
        "model_CNN.add(layers.Reshape((100,1)))\n",
        "model_CNN.add(layers.Conv1D(100,\n",
        "                            kernel_size=3, \n",
        "                            activation='relu',\n",
        "                            name='Conv2'))\n",
        "model_CNN.add(layers.GlobalMaxPool1D())\n",
        "model_CNN.add(layers.Dense(10, activation=\"relu\"))\n",
        "model_CNN.add(layers.Dense(1, activation=\"sigmoid\"))\n",
        "model_CNN.summary()"
      ],
      "execution_count": 27,
      "outputs": [
        {
          "output_type": "stream",
          "text": [
            "Model: \"sequential_4\"\n",
            "_________________________________________________________________\n",
            "Layer (type)                 Output Shape              Param #   \n",
            "=================================================================\n",
            "embedding_3 (Embedding)      (None, 70, 100)           1962700   \n",
            "_________________________________________________________________\n",
            "Conv1 (Conv1D)               (None, 66, 100)           50100     \n",
            "_________________________________________________________________\n",
            "global_max_pooling1d_5 (Glob (None, 100)               0         \n",
            "_________________________________________________________________\n",
            "reshape_2 (Reshape)          (None, 100, 1)            0         \n",
            "_________________________________________________________________\n",
            "Conv2 (Conv1D)               (None, 98, 100)           400       \n",
            "_________________________________________________________________\n",
            "global_max_pooling1d_6 (Glob (None, 100)               0         \n",
            "_________________________________________________________________\n",
            "dense_6 (Dense)              (None, 10)                1010      \n",
            "_________________________________________________________________\n",
            "dense_7 (Dense)              (None, 1)                 11        \n",
            "=================================================================\n",
            "Total params: 2,014,221\n",
            "Trainable params: 2,014,221\n",
            "Non-trainable params: 0\n",
            "_________________________________________________________________\n"
          ],
          "name": "stdout"
        }
      ]
    },
    {
      "cell_type": "code",
      "metadata": {
        "id": "ooz1GuycuGrU",
        "colab_type": "code",
        "outputId": "ce39e829-0a25-47b8-c91a-c01ed2c3218a",
        "colab": {
          "base_uri": "https://localhost:8080/",
          "height": 343
        }
      },
      "source": [
        "model_CNN.compile(loss='binary_crossentropy', optimizer='adam', metrics=['accuracy'])\n",
        "\n",
        "from tensorflow.keras.callbacks import EarlyStopping\n",
        "callbacks = EarlyStopping(monitor='val_loss', min_delta=0, patience = 2)\n",
        "history = model_CNN.fit(train_X, \n",
        "                        train_y, \n",
        "                        batch_size=512, \n",
        "                        epochs=14, \n",
        "                        validation_data=(val_X, val_y),\n",
        "                        callbacks=callbacks\n",
        "                        )"
      ],
      "execution_count": 28,
      "outputs": [
        {
          "output_type": "stream",
          "text": [
            "Epoch 1/14\n",
            "21/21 [==============================] - 8s 389ms/step - loss: 0.6860 - accuracy: 0.6589 - val_loss: 0.6726 - val_accuracy: 0.6677\n",
            "Epoch 2/14\n",
            "21/21 [==============================] - 8s 382ms/step - loss: 0.6540 - accuracy: 0.6677 - val_loss: 0.6358 - val_accuracy: 0.6677\n",
            "Epoch 3/14\n",
            "21/21 [==============================] - 8s 371ms/step - loss: 0.6359 - accuracy: 0.6677 - val_loss: 0.6352 - val_accuracy: 0.6677\n",
            "Epoch 4/14\n",
            "21/21 [==============================] - 8s 394ms/step - loss: 0.6328 - accuracy: 0.6677 - val_loss: 0.6318 - val_accuracy: 0.6677\n",
            "Epoch 5/14\n",
            "21/21 [==============================] - 8s 375ms/step - loss: 0.6174 - accuracy: 0.6677 - val_loss: 0.6149 - val_accuracy: 0.6677\n",
            "Epoch 6/14\n",
            "21/21 [==============================] - 8s 373ms/step - loss: 0.5619 - accuracy: 0.6733 - val_loss: 0.5683 - val_accuracy: 0.7047\n",
            "Epoch 7/14\n",
            "21/21 [==============================] - 8s 369ms/step - loss: 0.4194 - accuracy: 0.8140 - val_loss: 0.5194 - val_accuracy: 0.7591\n",
            "Epoch 8/14\n",
            "21/21 [==============================] - 8s 364ms/step - loss: 0.2624 - accuracy: 0.9062 - val_loss: 0.5690 - val_accuracy: 0.7681\n",
            "Epoch 9/14\n",
            "21/21 [==============================] - 8s 358ms/step - loss: 0.1685 - accuracy: 0.9464 - val_loss: 0.6296 - val_accuracy: 0.7591\n"
          ],
          "name": "stdout"
        }
      ]
    },
    {
      "cell_type": "code",
      "metadata": {
        "id": "qJ2nGLwDu5T2",
        "colab_type": "code",
        "outputId": "5d92d026-f06b-4c4a-d337-66d4adf88490",
        "colab": {
          "base_uri": "https://localhost:8080/",
          "height": 573
        }
      },
      "source": [
        "# Plot training & validation accuracy values\n",
        "import matplotlib.pyplot as plt \n",
        "plt.plot(history.history['accuracy'])\n",
        "plt.plot(history.history['val_accuracy'])\n",
        "plt.title('Model accuracy')\n",
        "plt.ylabel('Accuracy')\n",
        "plt.xlabel('Epoch')\n",
        "plt.legend(['Train', 'Val'], loc='upper left')\n",
        "plt.show()\n",
        "\n",
        "# Plot training & validation loss values\n",
        "plt.plot(history.history['loss'])\n",
        "plt.plot(history.history['val_loss'])\n",
        "plt.title('Model loss')\n",
        "plt.ylabel('Loss')\n",
        "plt.xlabel('Epoch')\n",
        "plt.legend(['Train', 'Val'], loc='upper left')\n",
        "plt.show()"
      ],
      "execution_count": 29,
      "outputs": [
        {
          "output_type": "display_data",
          "data": {
            "image/png": "[encoded data removed]",
            "text/plain": [
              "<Figure size 432x288 with 1 Axes>"
            ]
          },
          "metadata": {
            "tags": [],
            "needs_background": "light"
          }
        },
        {
          "output_type": "display_data",
          "data": {
            "image/png": "[encoded data removed]",
            "text/plain": [
              "<Figure size 432x288 with 1 Axes>"
            ]
          },
          "metadata": {
            "tags": [],
            "needs_background": "light"
          }
        }
      ]
    },
    {
      "cell_type": "code",
      "metadata": {
        "id": "CErC1fvVQAlu",
        "colab_type": "code",
        "colab": {
          "base_uri": "https://localhost:8080/",
          "height": 153
        },
        "outputId": "d4ff38cc-f107-4894-f175-faf4ceb3a917"
      },
      "source": [
        "pred_noemb_val_y = model_CNN.predict([val_X], batch_size=1024, verbose=1)\n",
        "print(pred_noemb_val_y)"
      ],
      "execution_count": 31,
      "outputs": [
        {
          "output_type": "stream",
          "text": [
            "2/2 [==============================] - 0s 30ms/step\n",
            "[[0.05463868]\n",
            " [0.4876508 ]\n",
            " [0.06260645]\n",
            " ...\n",
            " [0.36353588]\n",
            " [0.5378081 ]\n",
            " [0.10361166]]\n"
          ],
          "name": "stdout"
        }
      ]
    },
    {
      "cell_type": "code",
      "metadata": {
        "id": "NUQsbGlHOv3g",
        "colab_type": "code",
        "colab": {
          "base_uri": "https://localhost:8080/",
          "height": 71
        },
        "outputId": "3f429a06-eb72-4e48-dcca-b15ec9d71372"
      },
      "source": [
        "# validation the model(confusion matrix)\n",
        "def cnn_confusion_matrix(pred_noemb_val_y, val_y):\n",
        "    pred_val_y = pred_noemb_val_y > 0.5\n",
        "    tn, fp, fn, tp = confusion_matrix(pred_val_y, val_y).ravel()\n",
        "    print('tn', tn, 'fp', fp, 'fn', fn, 'tp', tp)\n",
        "\n",
        "    lstm_acc = accuracy_score(pred_val_y, val_y)\n",
        "    lstm_precision = precision_score(pred_val_y, val_y)\n",
        "    lstm_recall = recall_score(pred_val_y, val_y)\n",
        "    lstm_f1_score = f1_score(pred_val_y, val_y)\n",
        "    return lstm_acc, lstm_precision, lstm_recall, lstm_f1_score\n",
        "\n",
        "cnn_acc, cnn_precision, cnn_recall, cnn_f1_score = cnn_confusion_matrix(pred_noemb_val_y, val_y)\n",
        "print('cnn_acc: ',cnn_acc, ', cnn_precision: ', cnn_precision, ', cnn_recall: ', cnn_recall, ', cnn_f1_score', cnn_f1_score)"
      ],
      "execution_count": 35,
      "outputs": [
        {
          "output_type": "stream",
          "text": [
            "tn 802 fp 237 fn 82 tp 203\n",
            "cnn_acc:  0.7590634441087614 , cnn_precision:  0.46136363636363636 , cnn_recall:  0.712280701754386 , cnn_f1_score 0.5599999999999999\n"
          ],
          "name": "stdout"
        }
      ]
    },
    {
      "cell_type": "code",
      "metadata": {
        "id": "eRfQ-LuLvFd3",
        "colab_type": "code",
        "outputId": "5606a45c-04e0-4f24-e801-94eeb37582cb",
        "colab": {
          "base_uri": "https://localhost:8080/",
          "height": 431
        }
      },
      "source": [
        "# validation the model(f1-score)\n",
        "pred_noemb_val_y = model_CNN.predict([val_X], batch_size=512, verbose=1)\n",
        "print(pred_noemb_val_y)\n",
        "threshes=[]\n",
        "f1_scores=[]\n",
        "accuracy_scores=[]\n",
        "for thresh in np.arange(0.1, 0.801, 0.01):\n",
        "    thresh = np.round(thresh, 2)\n",
        "    threshes.append(thresh)\n",
        "    # logging.info(\"F1 score at threshold {0} is {1}\".format(thresh, metrics.f1_score(val_y, (pred_noemb_val_y>thresh).astype(int))))\n",
        "    f1_scores.append(metrics.f1_score(val_y, (pred_noemb_val_y>thresh).astype(int)))\n",
        "    # logging.info(\"Accuracy at threshold {0} is {1}\".format(thresh, metrics.accuracy_score(val_y, (pred_noemb_val_y>thresh).astype(int))))\n",
        "    accuracy_scores.append(metrics.accuracy_score(val_y, (pred_noemb_val_y>thresh).astype(int)))\n",
        "\n",
        "# plot two measures\n",
        "plt.plot(threshes, f1_scores, color='blue', label='f1')\n",
        "plt.plot(threshes, accuracy_scores, color='orange', label='acc')\n",
        "plt.title('f1_scores/acc')\n",
        "plt.ylabel('f1_scores/acc')\n",
        "plt.xlabel('threshold')\n",
        "plt.legend()\n",
        "plt.show()"
      ],
      "execution_count": 36,
      "outputs": [
        {
          "output_type": "stream",
          "text": [
            "3/3 [==============================] - 0s 51ms/step\n",
            "[[0.05463865]\n",
            " [0.48765087]\n",
            " [0.06260645]\n",
            " ...\n",
            " [0.36353588]\n",
            " [0.5378081 ]\n",
            " [0.10361166]]\n"
          ],
          "name": "stdout"
        },
        {
          "output_type": "display_data",
          "data": {
            "image/png": "[encoded data removed]",
            "text/plain": [
              "<Figure size 432x288 with 1 Axes>"
            ]
          },
          "metadata": {
            "tags": [],
            "needs_background": "light"
          }
        }
      ]
    },
    {
      "cell_type": "markdown",
      "metadata": {
        "id": "1-7ZNGOwwPmd",
        "colab_type": "text"
      },
      "source": [
        "CNN visualiazation"
      ]
    },
    {
      "cell_type": "code",
      "metadata": {
        "id": "x_hHPR7LwS13",
        "colab_type": "code",
        "colab": {}
      },
      "source": [
        "class_idx = np.argmax(pred_noemb_val_y[0]) #not needed in this case as only two classes\n",
        "class_output = model_CNN.output[:, class_idx]\n",
        "last_conv_layer = model_CNN.get_layer(\"Conv2\")"
      ],
      "execution_count": 0,
      "outputs": []
    },
    {
      "cell_type": "code",
      "metadata": {
        "id": "WKoBjqn5P7Ey",
        "colab_type": "code",
        "outputId": "314889fe-d4fa-4e95-8d95-afc34ebc57c5",
        "colab": {
          "base_uri": "https://localhost:8080/",
          "height": 51
        }
      },
      "source": [
        "print(class_idx)\n",
        "print(class_output)"
      ],
      "execution_count": 39,
      "outputs": [
        {
          "output_type": "stream",
          "text": [
            "0\n",
            "Tensor(\"strided_slice_1:0\", shape=(None,), dtype=float32)\n"
          ],
          "name": "stdout"
        }
      ]
    },
    {
      "cell_type": "code",
      "metadata": {
        "id": "E8CqIb3l6NNG",
        "colab_type": "code",
        "colab": {}
      },
      "source": [
        "from keras import backend as K \n",
        "grads = K.gradients(class_output, last_conv_layer.output)[0]\n",
        "pooled_grads = K.mean(grads)\n",
        "iterate = K.function([model_CNN.input], [pooled_grads, last_conv_layer.output[0]])\n",
        "pooled_grads_value, conv_layer_output_value = iterate([val_X])"
      ],
      "execution_count": 0,
      "outputs": []
    },
    {
      "cell_type": "code",
      "metadata": {
        "id": "-MXzpFtU6hM4",
        "colab_type": "code",
        "colab": {}
      },
      "source": [
        "heatmap = np.mean(conv_layer_output_value, axis=-1)\n",
        "heatmap = np.maximum(heatmap,0)\n",
        "heatmap /= np.max(heatmap)#normalise values in the prediction"
      ],
      "execution_count": 0,
      "outputs": []
    },
    {
      "cell_type": "code",
      "metadata": {
        "id": "EjEfKkOO7VVz",
        "colab_type": "code",
        "outputId": "14b36cda-5ba6-4d7e-88e8-0d068f326a57",
        "colab": {
          "base_uri": "https://localhost:8080/",
          "height": 1000
        }
      },
      "source": [
        "from IPython.display import HTML\n",
        "norm_len = max_len/last_conv_layer.output_shape[1] # find the ratio of the text vs the conv layer length\n",
        "html = \"\"\n",
        "\n",
        "for i in range(15):\n",
        "    if pred_noemb_val_y[i]>0.5:\n",
        "        pred = 'offensive'\n",
        "    else:\n",
        "        pred = 'normal'\n",
        "    \n",
        "    if val_y[i] == 1:\n",
        "        act = 'offensive'\n",
        "    else:\n",
        "        act = 'normal'\n",
        "\n",
        "    if pred == act:\n",
        "        ans = 'Correct'\n",
        "    else:\n",
        "        ans = 'Wrong'\n",
        "    \n",
        "    html += \"<span><h3>{} : prediction is a {} tweet, and actucally it's a {}\".format(ans, pred, act)\n",
        "\n",
        "    html += \"<small><br>Confidence: {:.0f}%<br><br></small></h3></span>\".format(abs(((pred_noemb_val_y[i][0]*100)-50)*2))\n",
        "    for j,i in enumerate(tokenizer.sequences_to_texts(val_X)[i].split()):\n",
        "        html += \"<span style='background-color:rgba({},0,150,{})'>{} </span>\".format(heatmap[math.floor(j/norm_len)]*255,heatmap[math.floor(j/norm_len)]-0.3,i)\n",
        "HTML(html)"
      ],
      "execution_count": 57,
      "outputs": [
        {
          "output_type": "execute_result",
          "data": {
            "text/html": [
              "<span><h3>Wrong : prediction is a normal tweet, and actucally it's a offensive<small><br>Confidence: 89%<br><br></small></h3></span><span style='background-color:rgba(35.45453332364559,0,150,-0.1609626144170761)'>she </span><span style='background-color:rgba(33.117119148373604,0,150,-0.17012894451618193)'>should </span><span style='background-color:rgba(26.945581510663033,0,150,-0.19433105289936065)'>ask </span><span style='background-color:rgba(33.04293192923069,0,150,-0.17041987478733062)'>a </span><span style='background-color:rgba(37.081241235136986,0,150,-0.15458336770534514)'>few </span><span style='background-color:rgba(35.28614915907383,0,150,-0.16162294447422026)'>native </span><span style='background-color:rgba(34.142893105745316,0,150,-0.1661063015460968)'>americans </span><span style='background-color:rgba(33.70471201837063,0,150,-0.16782465875148772)'>what </span><span style='background-color:rgba(26.546994298696518,0,150,-0.19589414000511168)'>their </span><span style='background-color:rgba(65.96055418252945,0,150,-0.04133116006851195)'>take </span><span style='background-color:rgba(240.58027535676956,0,150,0.6434520602226257)'>on </span><span style='background-color:rgba(181.6698932647705,0,150,0.4124309539794922)'>this </span><span style='background-color:rgba(255.0,0,150,0.7)'>is </span><span><h3>Wrong : prediction is a normal tweet, and actucally it's a offensive<small><br>Confidence: 2%<br><br></small></h3></span><span style='background-color:rgba(35.45453332364559,0,150,-0.1609626144170761)'>go </span><span style='background-color:rgba(33.117119148373604,0,150,-0.17012894451618193)'>home </span><span style='background-color:rgba(26.945581510663033,0,150,-0.19433105289936065)'>you’re </span><span style='background-color:rgba(33.04293192923069,0,150,-0.17041987478733062)'>drunk </span><span style='background-color:rgba(37.081241235136986,0,150,-0.15458336770534514)'>maga </span><span style='background-color:rgba(35.28614915907383,0,150,-0.16162294447422026)'>trump2020 </span><span><h3>Correct : prediction is a normal tweet, and actucally it's a normal<small><br>Confidence: 87%<br><br></small></h3></span><span style='background-color:rgba(35.45453332364559,0,150,-0.1609626144170761)'>amazon </span><span style='background-color:rgba(33.117119148373604,0,150,-0.17012894451618193)'>is </span><span style='background-color:rgba(26.945581510663033,0,150,-0.19433105289936065)'>investigating </span><span style='background-color:rgba(33.04293192923069,0,150,-0.17041987478733062)'>chinese </span><span style='background-color:rgba(37.081241235136986,0,150,-0.15458336770534514)'>employees </span><span style='background-color:rgba(35.28614915907383,0,150,-0.16162294447422026)'>who </span><span style='background-color:rgba(34.142893105745316,0,150,-0.1661063015460968)'>are </span><span style='background-color:rgba(33.70471201837063,0,150,-0.16782465875148772)'>selling </span><span style='background-color:rgba(26.546994298696518,0,150,-0.19589414000511168)'>data </span><span style='background-color:rgba(65.96055418252945,0,150,-0.04133116006851195)'>to </span><span style='background-color:rgba(240.58027535676956,0,150,0.6434520602226257)'>looking </span><span style='background-color:rgba(181.6698932647705,0,150,0.4124309539794922)'>for </span><span style='background-color:rgba(255.0,0,150,0.7)'>an </span><span style='background-color:rgba(32.85455323755741,0,150,-0.1711586147546768)'>edge </span><span style='background-color:rgba(36.560528576374054,0,150,-0.15662537813186644)'>in </span><span style='background-color:rgba(45.79755552113056,0,150,-0.12040174305438994)'>the </span><span style='background-color:rgba(45.163688734173775,0,150,-0.12288749516010283)'>competitive </span><span style='background-color:rgba(46.863025948405266,0,150,-0.11622342765331267)'>marketplace </span><span style='background-color:rgba(34.64983530342579,0,150,-0.164118292927742)'>amazon </span><span style='background-color:rgba(31.927091404795647,0,150,-0.17479571998119353)'>maga </span><span style='background-color:rgba(31.58189132809639,0,150,-0.176149445772171)'>kag </span><span style='background-color:rgba(28.387929014861584,0,150,-0.18867478817701339)'>china </span><span style='background-color:rgba(41.3757099956274,0,150,-0.13774231374263762)'>tcot </span><span><h3>Correct : prediction is a offensive tweet, and actucally it's a offensive<small><br>Confidence: 96%<br><br></small></h3></span><span style='background-color:rgba(35.45453332364559,0,150,-0.1609626144170761)'>someone </span><span style='background-color:rgba(33.117119148373604,0,150,-0.17012894451618193)'>this </span><span style='background-color:rgba(26.945581510663033,0,150,-0.19433105289936065)'>piece </span><span style='background-color:rgba(33.04293192923069,0,150,-0.17041987478733062)'>of </span><span style='background-color:rgba(37.081241235136986,0,150,-0.15458336770534514)'>shit </span><span style='background-color:rgba(35.28614915907383,0,150,-0.16162294447422026)'>to </span><span style='background-color:rgba(34.142893105745316,0,150,-0.1661063015460968)'>a </span><span style='background-color:rgba(33.70471201837063,0,150,-0.16782465875148772)'>😂 </span><span><h3>Correct : prediction is a normal tweet, and actucally it's a normal<small><br>Confidence: 72%<br><br></small></h3></span><span style='background-color:rgba(35.45453332364559,0,150,-0.1609626144170761)'>obama </span><span style='background-color:rgba(33.117119148373604,0,150,-0.17012894451618193)'>wanted </span><span style='background-color:rgba(26.945581510663033,0,150,-0.19433105289936065)'>liberals </span><span style='background-color:rgba(33.04293192923069,0,150,-0.17041987478733062)'>illegals </span><span style='background-color:rgba(37.081241235136986,0,150,-0.15458336770534514)'>to </span><span style='background-color:rgba(35.28614915907383,0,150,-0.16162294447422026)'>move </span><span style='background-color:rgba(34.142893105745316,0,150,-0.1661063015460968)'>into </span><span style='background-color:rgba(33.70471201837063,0,150,-0.16782465875148772)'>red </span><span style='background-color:rgba(26.546994298696518,0,150,-0.19589414000511168)'>states </span><span><h3>Wrong : prediction is a normal tweet, and actucally it's a offensive<small><br>Confidence: 80%<br><br></small></h3></span><span style='background-color:rgba(35.45453332364559,0,150,-0.1609626144170761)'>liberals </span><span style='background-color:rgba(33.117119148373604,0,150,-0.17012894451618193)'>are </span><span style='background-color:rgba(26.945581510663033,0,150,-0.19433105289936065)'>all </span><span><h3>Correct : prediction is a offensive tweet, and actucally it's a offensive<small><br>Confidence: 93%<br><br></small></h3></span><span style='background-color:rgba(35.45453332364559,0,150,-0.1609626144170761)'>oh </span><span style='background-color:rgba(33.117119148373604,0,150,-0.17012894451618193)'>tough </span><span style='background-color:rgba(26.945581510663033,0,150,-0.19433105289936065)'>shit </span><span><h3>Correct : prediction is a offensive tweet, and actucally it's a offensive<small><br>Confidence: 8%<br><br></small></h3></span><span style='background-color:rgba(35.45453332364559,0,150,-0.1609626144170761)'>was </span><span style='background-color:rgba(33.117119148373604,0,150,-0.17012894451618193)'>literally </span><span style='background-color:rgba(26.945581510663033,0,150,-0.19433105289936065)'>just </span><span style='background-color:rgba(33.04293192923069,0,150,-0.17041987478733062)'>talking </span><span style='background-color:rgba(37.081241235136986,0,150,-0.15458336770534514)'>about </span><span style='background-color:rgba(35.28614915907383,0,150,-0.16162294447422026)'>this </span><span style='background-color:rgba(34.142893105745316,0,150,-0.1661063015460968)'>lol </span><span style='background-color:rgba(33.70471201837063,0,150,-0.16782465875148772)'>all </span><span style='background-color:rgba(26.546994298696518,0,150,-0.19589414000511168)'>mass </span><span style='background-color:rgba(65.96055418252945,0,150,-0.04133116006851195)'>shootings </span><span style='background-color:rgba(240.58027535676956,0,150,0.6434520602226257)'>like </span><span style='background-color:rgba(181.6698932647705,0,150,0.4124309539794922)'>that </span><span style='background-color:rgba(255.0,0,150,0.7)'>have </span><span style='background-color:rgba(32.85455323755741,0,150,-0.1711586147546768)'>been </span><span style='background-color:rgba(36.560528576374054,0,150,-0.15662537813186644)'>set </span><span style='background-color:rgba(45.79755552113056,0,150,-0.12040174305438994)'>ups </span><span style='background-color:rgba(45.163688734173775,0,150,-0.12288749516010283)'>it’s </span><span style='background-color:rgba(46.863025948405266,0,150,-0.11622342765331267)'>propaganda </span><span style='background-color:rgba(34.64983530342579,0,150,-0.164118292927742)'>used </span><span style='background-color:rgba(31.927091404795647,0,150,-0.17479571998119353)'>to </span><span style='background-color:rgba(31.58189132809639,0,150,-0.176149445772171)'>divide </span><span style='background-color:rgba(28.387929014861584,0,150,-0.18867478817701339)'>us </span><span style='background-color:rgba(41.3757099956274,0,150,-0.13774231374263762)'>on </span><span style='background-color:rgba(40.830484852194786,0,150,-0.13988045156002044)'>major </span><span style='background-color:rgba(40.316771417856216,0,150,-0.14189501404762267)'>issues </span><span style='background-color:rgba(34.54240746796131,0,150,-0.16453957855701445)'>like </span><span style='background-color:rgba(35.120094269514084,0,150,-0.1622741401195526)'>gun </span><span style='background-color:rgba(29.998421296477318,0,150,-0.18235913217067717)'>control </span><span style='background-color:rgba(35.77056236565113,0,150,-0.1597232848405838)'>and </span><span style='background-color:rgba(40.38305886089802,0,150,-0.141635063290596)'>terrorism </span><span><h3>Correct : prediction is a normal tweet, and actucally it's a normal<small><br>Confidence: 94%<br><br></small></h3></span><span style='background-color:rgba(35.45453332364559,0,150,-0.1609626144170761)'>buy </span><span style='background-color:rgba(33.117119148373604,0,150,-0.17012894451618193)'>more </span><span><h3>Wrong : prediction is a normal tweet, and actucally it's a offensive<small><br>Confidence: 1%<br><br></small></h3></span><span style='background-color:rgba(35.45453332364559,0,150,-0.1609626144170761)'>canada </span><span style='background-color:rgba(33.117119148373604,0,150,-0.17012894451618193)'>doesn’t </span><span style='background-color:rgba(26.945581510663033,0,150,-0.19433105289936065)'>need </span><span style='background-color:rgba(33.04293192923069,0,150,-0.17041987478733062)'>another </span><span style='background-color:rgba(37.081241235136986,0,150,-0.15458336770534514)'>cuck </span><span style='background-color:rgba(35.28614915907383,0,150,-0.16162294447422026)'>we </span><span style='background-color:rgba(34.142893105745316,0,150,-0.1661063015460968)'>already </span><span style='background-color:rgba(33.70471201837063,0,150,-0.16782465875148772)'>have </span><span style='background-color:rgba(26.546994298696518,0,150,-0.19589414000511168)'>enough </span><span style='background-color:rgba(65.96055418252945,0,150,-0.04133116006851195)'>liberals </span><span style='background-color:rgba(240.58027535676956,0,150,0.6434520602226257)'>f </span><span style='background-color:rgba(181.6698932647705,0,150,0.4124309539794922)'>king </span><span style='background-color:rgba(255.0,0,150,0.7)'>up </span><span style='background-color:rgba(32.85455323755741,0,150,-0.1711586147546768)'>our </span><span style='background-color:rgba(36.560528576374054,0,150,-0.15662537813186644)'>great </span><span style='background-color:rgba(45.79755552113056,0,150,-0.12040174305438994)'>country </span><span style='background-color:rgba(45.163688734173775,0,150,-0.12288749516010283)'>trudeaumustgo </span><span><h3>Correct : prediction is a normal tweet, and actucally it's a normal<small><br>Confidence: 95%<br><br></small></h3></span><span style='background-color:rgba(35.45453332364559,0,150,-0.1609626144170761)'>it’s </span><span style='background-color:rgba(33.117119148373604,0,150,-0.17012894451618193)'>not </span><span style='background-color:rgba(26.945581510663033,0,150,-0.19433105289936065)'>my </span><span style='background-color:rgba(33.04293192923069,0,150,-0.17041987478733062)'>fault </span><span style='background-color:rgba(37.081241235136986,0,150,-0.15458336770534514)'>you </span><span style='background-color:rgba(35.28614915907383,0,150,-0.16162294447422026)'>suppo </span><span style='background-color:rgba(34.142893105745316,0,150,-0.1661063015460968)'>gun </span><span style='background-color:rgba(33.70471201837063,0,150,-0.16782465875148772)'>control </span><span><h3>Correct : prediction is a normal tweet, and actucally it's a normal<small><br>Confidence: 8%<br><br></small></h3></span><span style='background-color:rgba(35.45453332364559,0,150,-0.1609626144170761)'>what’s </span><span style='background-color:rgba(33.117119148373604,0,150,-0.17012894451618193)'>the </span><span style='background-color:rgba(26.945581510663033,0,150,-0.19433105289936065)'>difference </span><span style='background-color:rgba(33.04293192923069,0,150,-0.17041987478733062)'>between </span><span style='background-color:rgba(37.081241235136986,0,150,-0.15458336770534514)'>kavanaugh </span><span style='background-color:rgba(35.28614915907383,0,150,-0.16162294447422026)'>and </span><span style='background-color:rgba(34.142893105745316,0,150,-0.1661063015460968)'>one </span><span style='background-color:rgba(33.70471201837063,0,150,-0.16782465875148772)'>of </span><span style='background-color:rgba(26.546994298696518,0,150,-0.19589414000511168)'>these </span><span style='background-color:rgba(65.96055418252945,0,150,-0.04133116006851195)'>men </span><span style='background-color:rgba(240.58027535676956,0,150,0.6434520602226257)'>aitted </span><span style='background-color:rgba(181.6698932647705,0,150,0.4124309539794922)'>to </span><span style='background-color:rgba(255.0,0,150,0.7)'>groping </span><span style='background-color:rgba(32.85455323755741,0,150,-0.1711586147546768)'>a </span><span style='background-color:rgba(36.560528576374054,0,150,-0.15662537813186644)'>15 </span><span style='background-color:rgba(45.79755552113056,0,150,-0.12040174305438994)'>year </span><span style='background-color:rgba(45.163688734173775,0,150,-0.12288749516010283)'>old </span><span style='background-color:rgba(46.863025948405266,0,150,-0.11622342765331267)'>girl </span><span style='background-color:rgba(34.64983530342579,0,150,-0.164118292927742)'>years </span><span style='background-color:rgba(31.927091404795647,0,150,-0.17479571998119353)'>ago </span><span style='background-color:rgba(31.58189132809639,0,150,-0.176149445772171)'>the </span><span style='background-color:rgba(28.387929014861584,0,150,-0.18867478817701339)'>other </span><span style='background-color:rgba(41.3757099956274,0,150,-0.13774231374263762)'>is </span><span style='background-color:rgba(40.830484852194786,0,150,-0.13988045156002044)'>going </span><span style='background-color:rgba(40.316771417856216,0,150,-0.14189501404762267)'>to </span><span style='background-color:rgba(34.54240746796131,0,150,-0.16453957855701445)'>be </span><span style='background-color:rgba(35.120094269514084,0,150,-0.1622741401195526)'>confirmed </span><span style='background-color:rgba(29.998421296477318,0,150,-0.18235913217067717)'>to </span><span style='background-color:rgba(35.77056236565113,0,150,-0.1597232848405838)'>the </span><span style='background-color:rgba(40.38305886089802,0,150,-0.141635063290596)'>scj </span><span style='background-color:rgba(43.652038648724556,0,150,-0.12881553471088408)'>walkawaydemocrats2018 </span><span style='background-color:rgba(39.4864247739315,0,150,-0.14515127539634703)'>redwave </span><span style='background-color:rgba(32.25043885409832,0,150,-0.17352769076824187)'>trumptrain </span><span style='background-color:rgba(30.757527463138103,0,150,-0.17938224524259566)'>maga </span><span><h3>Correct : prediction is a offensive tweet, and actucally it's a offensive<small><br>Confidence: 96%<br><br></small></h3></span><span style='background-color:rgba(35.45453332364559,0,150,-0.1609626144170761)'>you </span><span style='background-color:rgba(33.117119148373604,0,150,-0.17012894451618193)'>are </span><span style='background-color:rgba(26.945581510663033,0,150,-0.19433105289936065)'>a </span><span style='background-color:rgba(33.04293192923069,0,150,-0.17041987478733062)'>lying </span><span style='background-color:rgba(37.081241235136986,0,150,-0.15458336770534514)'>corrupt </span><span style='background-color:rgba(35.28614915907383,0,150,-0.16162294447422026)'>traitor </span><span style='background-color:rgba(34.142893105745316,0,150,-0.1661063015460968)'>nobody </span><span style='background-color:rgba(33.70471201837063,0,150,-0.16782465875148772)'>wants </span><span style='background-color:rgba(26.546994298696518,0,150,-0.19589414000511168)'>to </span><span style='background-color:rgba(65.96055418252945,0,150,-0.04133116006851195)'>hear </span><span style='background-color:rgba(240.58027535676956,0,150,0.6434520602226257)'>anymore </span><span style='background-color:rgba(181.6698932647705,0,150,0.4124309539794922)'>of </span><span style='background-color:rgba(255.0,0,150,0.7)'>your </span><span style='background-color:rgba(32.85455323755741,0,150,-0.1711586147546768)'>lies </span><span style='background-color:rgba(36.560528576374054,0,150,-0.15662537813186644)'>deepstatecorruption </span><span><h3>Correct : prediction is a normal tweet, and actucally it's a normal<small><br>Confidence: 85%<br><br></small></h3></span><span style='background-color:rgba(35.45453332364559,0,150,-0.1609626144170761)'>it </span><span style='background-color:rgba(33.117119148373604,0,150,-0.17012894451618193)'>should </span><span style='background-color:rgba(26.945581510663033,0,150,-0.19433105289936065)'>scare </span><span style='background-color:rgba(33.04293192923069,0,150,-0.17041987478733062)'>every </span><span style='background-color:rgba(37.081241235136986,0,150,-0.15458336770534514)'>american </span><span style='background-color:rgba(35.28614915907383,0,150,-0.16162294447422026)'>she </span><span style='background-color:rgba(34.142893105745316,0,150,-0.1661063015460968)'>is </span><span style='background-color:rgba(33.70471201837063,0,150,-0.16782465875148772)'>playing </span><span style='background-color:rgba(26.546994298696518,0,150,-0.19589414000511168)'>hockey </span><span style='background-color:rgba(65.96055418252945,0,150,-0.04133116006851195)'>with </span><span style='background-color:rgba(240.58027535676956,0,150,0.6434520602226257)'>a </span><span style='background-color:rgba(181.6698932647705,0,150,0.4124309539794922)'>warped </span><span style='background-color:rgba(255.0,0,150,0.7)'>puck </span><span><h3>Correct : prediction is a normal tweet, and actucally it's a normal<small><br>Confidence: 19%<br><br></small></h3></span><span style='background-color:rgba(35.45453332364559,0,150,-0.1609626144170761)'>i </span><span style='background-color:rgba(33.117119148373604,0,150,-0.17012894451618193)'>like </span><span style='background-color:rgba(26.945581510663033,0,150,-0.19433105289936065)'>my </span><span style='background-color:rgba(33.04293192923069,0,150,-0.17041987478733062)'>like </span><span style='background-color:rgba(37.081241235136986,0,150,-0.15458336770534514)'>i </span><span style='background-color:rgba(35.28614915907383,0,150,-0.16162294447422026)'>like </span><span style='background-color:rgba(34.142893105745316,0,150,-0.1661063015460968)'>my </span><span style='background-color:rgba(33.70471201837063,0,150,-0.16782465875148772)'>boarders </span><span style='background-color:rgba(26.546994298696518,0,150,-0.19589414000511168)'>with </span><span style='background-color:rgba(65.96055418252945,0,150,-0.04133116006851195)'>a </span><span style='background-color:rgba(240.58027535676956,0,150,0.6434520602226257)'>lot </span><span style='background-color:rgba(181.6698932647705,0,150,0.4124309539794922)'>of </span><span style='background-color:rgba(255.0,0,150,0.7)'>ice </span>"
            ],
            "text/plain": [
              "<IPython.core.display.HTML object>"
            ]
          },
          "metadata": {
            "tags": []
          },
          "execution_count": 57
        }
      ]
    },
    {
      "cell_type": "markdown",
      "metadata": {
        "id": "jCyyLJl17ISm",
        "colab_type": "text"
      },
      "source": [
        "Credit to \\\\\n",
        "https://towardsdatascience.com/viewing-text-through-the-eyes-of-a-machine-db30c744ee17"
      ]
    },
    {
      "cell_type": "markdown",
      "metadata": {
        "id": "5gT0baX2dXqc",
        "colab_type": "text"
      },
      "source": [
        "# Prediction 2\n"
      ]
    }
  ]
}