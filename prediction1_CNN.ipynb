{
  "nbformat": 4,
  "nbformat_minor": 0,
  "metadata": {
    "kernelspec": {
      "display_name": "Python 3",
      "language": "python",
      "name": "python3"
    },
    "language_info": {
      "codemirror_mode": {
        "name": "ipython",
        "version": 3
      },
      "file_extension": ".py",
      "mimetype": "text/x-python",
      "name": "python",
      "nbconvert_exporter": "python",
      "pygments_lexer": "ipython3",
      "version": "3.6.6"
    },
    "colab": {
      "name": "prediction1_CNN.ipynb",
      "provenance": [],
      "collapsed_sections": [],
      "toc_visible": true,
      "include_colab_link": true
    },
    "accelerator": "TPU"
  },
  "cells": [
    {
      "cell_type": "markdown",
      "metadata": {
        "id": "view-in-github",
        "colab_type": "text"
      },
      "source": [
        "<a href=\"https://colab.research.google.com/github/kruttikajain/Targetted-Abusive_Language_Online/blob/master/prediction1_CNN.ipynb\" target=\"_parent\"><img src=\"https://colab.research.google.com/assets/colab-badge.svg\" alt=\"Open In Colab\"/></a>"
      ]
    },
    {
      "cell_type": "markdown",
      "metadata": {
        "_uuid": "01f361ddc47e0b386595316fe3d7f4dabbd260db",
        "id": "XE0VGEF8ZA6M",
        "colab_type": "text"
      },
      "source": [
        "# Abusive Language Online \n",
        "\n",
        "Predition1: predict OFF/NOT\n",
        "\n",
        "* Upload it each time: Dataset: [data](http://demo.clab.cs.cmu.edu/ethical_nlp2019/homeworks/hw3/hw3.html)\n",
        "\n",
        "\n",
        "1.   train.tsv\n",
        "2.   dev.tsv\n",
        "3.   test.tsv\n",
        "\n",
        "* Need manually add log.txt\n",
        "* Mount drive to load GloVe embeddings\n",
        "\n",
        "This python notebook has a CNN model without pre-trained embeddings and heatmap for each tweet.\n",
        "\n",
        "\n"
      ]
    },
    {
      "cell_type": "markdown",
      "metadata": {
        "id": "PqazyGPwaTEe",
        "colab_type": "text"
      },
      "source": [
        "# Import useful lib"
      ]
    },
    {
      "cell_type": "code",
      "metadata": {
        "_cell_guid": "b1076dfc-b9ad-4769-8c92-a6c4dae69d19",
        "_uuid": "8f2839f25d086af736a60e9eeb907d3b93b6e0e5",
        "id": "ONg01KM4ZA6N",
        "colab_type": "code",
        "colab": {}
      },
      "source": [
        "import os\n",
        "import sys\n",
        "from logging import handlers\n",
        "from pathlib import Path\n",
        "import logging\n",
        "import time\n",
        "import numpy as np # linear algebra\n",
        "import pandas as pd # data processing, CSV file I/O (e.g. pd.read_csv)\n",
        "from tqdm import tqdm\n",
        "import math\n",
        "import random \n",
        "\n",
        "from sklearn.model_selection import train_test_split\n",
        "from sklearn import metrics\n",
        "from sklearn.model_selection import KFold\n",
        "from sklearn.model_selection import StratifiedShuffleSplit\n",
        "\n",
        "from sklearn import tree\n",
        "from sklearn.linear_model import LogisticRegression\n",
        "from sklearn.naive_bayes import GaussianNB\n",
        "\n",
        "from sklearn.metrics import accuracy_score, f1_score\n",
        "from sklearn.metrics import precision_score\n",
        "from sklearn.metrics import recall_score\n",
        "from sklearn.metrics import confusion_matrix\n",
        "\n",
        "from keras.preprocessing.text import Tokenizer\n",
        "from keras.preprocessing.sequence import pad_sequences\n",
        "from keras.layers import Dense, Input, LSTM, Embedding, Dropout, Activation, CuDNNGRU, CuDNNLSTM, Conv1D\n",
        "from keras.layers import Bidirectional, GlobalMaxPool1D\n",
        "from keras.models import Model\n",
        "from keras import initializers, regularizers, constraints, optimizers, layers\n",
        "\n",
        "from os import path\n",
        "from PIL import Image\n",
        "from wordcloud import WordCloud, STOPWORDS, ImageColorGenerator\n",
        "%matplotlib inline \n",
        "import matplotlib.pyplot as plt"
      ],
      "execution_count": 0,
      "outputs": []
    },
    {
      "cell_type": "markdown",
      "metadata": {
        "id": "11l-8APTaOVP",
        "colab_type": "text"
      },
      "source": [
        "# Data proprecessing"
      ]
    },
    {
      "cell_type": "markdown",
      "metadata": {
        "id": "zaD_vgEytb9u",
        "colab_type": "text"
      },
      "source": [
        "## mounting drive"
      ]
    },
    {
      "cell_type": "code",
      "metadata": {
        "id": "flhVY6tUu-wN",
        "colab_type": "code",
        "outputId": "4c638477-eefe-4162-efa8-67ad5c3ce7d8",
        "colab": {
          "base_uri": "https://localhost:8080/",
          "height": 54
        }
      },
      "source": [
        "from google.colab import drive\n",
        "drive.mount('/content/gdrive')"
      ],
      "execution_count": 2,
      "outputs": [
        {
          "output_type": "stream",
          "text": [
            "Drive already mounted at /content/gdrive; to attempt to forcibly remount, call drive.mount(\"/content/gdrive\", force_remount=True).\n"
          ],
          "name": "stdout"
        }
      ]
    },
    {
      "cell_type": "code",
      "metadata": {
        "id": "-lHhx4ivtQTp",
        "colab_type": "code",
        "outputId": "10e16c40-ff7c-4806-ed59-b6361508a651",
        "colab": {
          "base_uri": "https://localhost:8080/",
          "height": 34
        }
      },
      "source": [
        "!pwd"
      ],
      "execution_count": 3,
      "outputs": [
        {
          "output_type": "stream",
          "text": [
            "/content\n"
          ],
          "name": "stdout"
        }
      ]
    },
    {
      "cell_type": "code",
      "metadata": {
        "id": "PhfBBtlIHN6p",
        "colab_type": "code",
        "outputId": "94b77a71-182a-4cd2-8496-53d0e54d8406",
        "colab": {
          "base_uri": "https://localhost:8080/",
          "height": 68
        }
      },
      "source": [
        "# Clone github repository setup\n",
        "# import join used to join ROOT path and MY_GOOGLE_DRIVE_PATH\n",
        "from os.path import join  \n",
        "\n",
        "# path to your project on Google Drive\n",
        "MY_GOOGLE_DRIVE_PATH = '' \n",
        "# replace with your Github username \n",
        "GIT_USERNAME = \"kruttikajain\" \n",
        "# definitely replace with your\n",
        "GIT_TOKEN = \"5fae1c9f18e3a0c680bf35e9ef63c72308ef2b4c\"  \n",
        "# Replace with your github repository in this case we want \n",
        "# to clone deep-learning-v2-pytorch repository\n",
        "GIT_REPOSITORY = \"Targetted-Abusive_Language_Online\" \n",
        "\n",
        "# PROJECT_PATH = join(ROOT, MY_GOOGLE_DRIVE_PATH)\n",
        "\n",
        "'''\n",
        "only this line should be modify\n",
        "'''\n",
        "PROJECT_PATH = './gdrive/My Drive/Colab Notebooks/246Project'\n",
        "\n",
        "# It's good to print out the value if you are not sure \n",
        "print(\"PROJECT_PATH: \", PROJECT_PATH)   \n",
        "\n",
        "# In case we haven't created the folder already; we will create a folder in the project path \n",
        "!mkdir \"{PROJECT_PATH}\"    \n",
        "\n",
        "#GIT_PATH = \"https://{GIT_TOKEN}@github.com/{GIT_USERNAME}/{GIT_REPOSITORY}.git\" this return 400 Bad Request for me\n",
        "GIT_PATH = \"https://\" + GIT_TOKEN + \"@github.com/\" + GIT_USERNAME + \"/\" + GIT_REPOSITORY + \".git\"\n",
        "print(\"GIT_PATH: \", GIT_PATH)"
      ],
      "execution_count": 4,
      "outputs": [
        {
          "output_type": "stream",
          "text": [
            "PROJECT_PATH:  ./gdrive/My Drive/Colab Notebooks/246Project\n",
            "mkdir: cannot create directory ‘./gdrive/My Drive/Colab Notebooks/246Project’: File exists\n",
            "GIT_PATH:  https://5fae1c9f18e3a0c680bf35e9ef63c72308ef2b4c@github.com/kruttikajain/Targetted-Abusive_Language_Online.git\n"
          ],
          "name": "stdout"
        }
      ]
    },
    {
      "cell_type": "markdown",
      "metadata": {
        "id": "ZhWzw5Rtajm7",
        "colab_type": "text"
      },
      "source": [
        "## Prepare logging file"
      ]
    },
    {
      "cell_type": "code",
      "metadata": {
        "id": "Vggd1S4jZA6R",
        "colab_type": "code",
        "outputId": "5c66992f-47af-41e8-c4f4-0ebd115b7334",
        "colab": {
          "base_uri": "https://localhost:8080/",
          "height": 51
        }
      },
      "source": [
        "def init_logger(log_file):\n",
        "    if not os.path.exists(log_file):\n",
        "        os.makedirs(os.path.dirname(log_file))\n",
        "\n",
        "    log = logging.getLogger('')\n",
        "    log.setLevel(logging.INFO)\n",
        "    output_format = logging.Formatter(fmt='%(asctime)s %(levelname)-8s %(message)s', datefmt='%Y-%m-%d %H:%M:%S')\n",
        "    std_out_handler = logging.StreamHandler(sys.stdout)\n",
        "    std_out_handler.setFormatter(output_format)\n",
        "    logging.getLogger().addHandler(std_out_handler)\n",
        "    file_handler = logging.handlers.RotatingFileHandler(log_file, maxBytes=(1048576*5), backupCount=7)\n",
        "    file_handler.setFormatter(output_format)\n",
        "    logging.getLogger().addHandler(file_handler)\n",
        "\n",
        "init_logger(PROJECT_PATH + '/log.txt')\n",
        "logging.info('=============start2=================')\n",
        "logging.info('logging file prepared...')"
      ],
      "execution_count": 5,
      "outputs": [
        {
          "output_type": "stream",
          "text": [
            "2020-05-16 21:32:24 INFO     =============start2=================\n",
            "2020-05-16 21:32:24 INFO     logging file prepared...\n"
          ],
          "name": "stdout"
        }
      ]
    },
    {
      "cell_type": "markdown",
      "metadata": {
        "id": "7FwYT4vTyCzs",
        "colab_type": "text"
      },
      "source": [
        "## load data"
      ]
    },
    {
      "cell_type": "code",
      "metadata": {
        "id": "AOtNdORiaKqJ",
        "colab_type": "code",
        "outputId": "2c32aeb0-3c65-4c27-8fac-b298bffb74ce",
        "colab": {
          "base_uri": "https://localhost:8080/",
          "height": 204
        }
      },
      "source": [
        "def load_data():\n",
        "    logging.info('loading the dataset...')\n",
        "    train_df = pd.read_csv(PROJECT_PATH + '/project_data/train.tsv', sep=\"\\t\")\n",
        "    val_df = pd.read_csv(PROJECT_PATH + '/project_data/dev.tsv', sep=\"\\t\")\n",
        "    test_df = pd.read_csv(PROJECT_PATH + '/project_data/test.tsv', sep=\"\\t\")\n",
        "    \n",
        "    # shape of df, column names\n",
        "    logging.info('Train shape : ' + str(train_df.shape)) # 'text', 'label', 'category'\n",
        "    logging.info('Val shape: ' + str(val_df.shape))\n",
        "    logging.info('Test shape: ' + str(test_df.shape))\n",
        "    \n",
        "    logging.info('train_df.columns: ' + train_df.columns)\n",
        "    logging.info('val_df.columns: ' + val_df.columns)\n",
        "    logging.info('test_df.columns: ' + test_df.columns)\n",
        "\n",
        "    return train_df, val_df, test_df\n",
        "\n",
        "train_df, val_df, test_df = load_data()"
      ],
      "execution_count": 12,
      "outputs": [
        {
          "output_type": "stream",
          "text": [
            "2020-05-16 21:33:50 INFO     loading the dataset...\n",
            "2020-05-16 21:33:50 INFO     Train shape : (10592, 3)\n",
            "2020-05-16 21:33:50 INFO     Val shape: (1324, 3)\n",
            "2020-05-16 21:33:50 INFO     Test shape: (1324, 1)\n",
            "2020-05-16 21:33:50 INFO     Index(['train_df.columns: text', 'train_df.columns: label',\n",
            "       'train_df.columns: category'],\n",
            "      dtype='object')\n",
            "2020-05-16 21:33:50 INFO     Index(['val_df.columns: text', 'val_df.columns: label',\n",
            "       'val_df.columns: category'],\n",
            "      dtype='object')\n",
            "2020-05-16 21:33:50 INFO     Index(['test_df.columns: text'], dtype='object')\n"
          ],
          "name": "stdout"
        }
      ]
    },
    {
      "cell_type": "code",
      "metadata": {
        "id": "MO55Z3UaXUsR",
        "colab_type": "code",
        "outputId": "baf6e871-4b5b-46d5-a612-f2644ea53a72",
        "colab": {
          "base_uri": "https://localhost:8080/",
          "height": 204
        }
      },
      "source": [
        "train_df.head()"
      ],
      "execution_count": 13,
      "outputs": [
        {
          "output_type": "execute_result",
          "data": {
            "text/html": [
              "<div>\n",
              "<style scoped>\n",
              "    .dataframe tbody tr th:only-of-type {\n",
              "        vertical-align: middle;\n",
              "    }\n",
              "\n",
              "    .dataframe tbody tr th {\n",
              "        vertical-align: top;\n",
              "    }\n",
              "\n",
              "    .dataframe thead th {\n",
              "        text-align: right;\n",
              "    }\n",
              "</style>\n",
              "<table border=\"1\" class=\"dataframe\">\n",
              "  <thead>\n",
              "    <tr style=\"text-align: right;\">\n",
              "      <th></th>\n",
              "      <th>text</th>\n",
              "      <th>label</th>\n",
              "      <th>category</th>\n",
              "    </tr>\n",
              "  </thead>\n",
              "  <tbody>\n",
              "    <tr>\n",
              "      <th>0</th>\n",
              "      <td>@USER @USER You are an embarrassing citizen!!</td>\n",
              "      <td>OFF</td>\n",
              "      <td>TIN</td>\n",
              "    </tr>\n",
              "    <tr>\n",
              "      <th>1</th>\n",
              "      <td>@USER Seems hard to believe that you stood nex...</td>\n",
              "      <td>OFF</td>\n",
              "      <td>TIN</td>\n",
              "    </tr>\n",
              "    <tr>\n",
              "      <th>2</th>\n",
              "      <td>@USER @USER @USER Wow !!! no wonder the Libera...</td>\n",
              "      <td>OFF</td>\n",
              "      <td>TIN</td>\n",
              "    </tr>\n",
              "    <tr>\n",
              "      <th>3</th>\n",
              "      <td>@USER @USER And not all idiots grandstands lik...</td>\n",
              "      <td>OFF</td>\n",
              "      <td>TIN</td>\n",
              "    </tr>\n",
              "    <tr>\n",
              "      <th>4</th>\n",
              "      <td>@USER Bring on the hypocrite gungrabber. MAGA</td>\n",
              "      <td>OFF</td>\n",
              "      <td>TIN</td>\n",
              "    </tr>\n",
              "  </tbody>\n",
              "</table>\n",
              "</div>"
            ],
            "text/plain": [
              "                                                text label category\n",
              "0      @USER @USER You are an embarrassing citizen!!   OFF      TIN\n",
              "1  @USER Seems hard to believe that you stood nex...   OFF      TIN\n",
              "2  @USER @USER @USER Wow !!! no wonder the Libera...   OFF      TIN\n",
              "3  @USER @USER And not all idiots grandstands lik...   OFF      TIN\n",
              "4      @USER Bring on the hypocrite gungrabber. MAGA   OFF      TIN"
            ]
          },
          "metadata": {
            "tags": []
          },
          "execution_count": 13
        }
      ]
    },
    {
      "cell_type": "code",
      "metadata": {
        "id": "EjvSa7lpZzF8",
        "colab_type": "code",
        "colab": {
          "base_uri": "https://localhost:8080/",
          "height": 204
        },
        "outputId": "7a5569a4-9596-4045-a37d-e4de8ddb28d1"
      },
      "source": [
        "val_df.head()"
      ],
      "execution_count": 14,
      "outputs": [
        {
          "output_type": "execute_result",
          "data": {
            "text/html": [
              "<div>\n",
              "<style scoped>\n",
              "    .dataframe tbody tr th:only-of-type {\n",
              "        vertical-align: middle;\n",
              "    }\n",
              "\n",
              "    .dataframe tbody tr th {\n",
              "        vertical-align: top;\n",
              "    }\n",
              "\n",
              "    .dataframe thead th {\n",
              "        text-align: right;\n",
              "    }\n",
              "</style>\n",
              "<table border=\"1\" class=\"dataframe\">\n",
              "  <thead>\n",
              "    <tr style=\"text-align: right;\">\n",
              "      <th></th>\n",
              "      <th>text</th>\n",
              "      <th>label</th>\n",
              "      <th>category</th>\n",
              "    </tr>\n",
              "  </thead>\n",
              "  <tbody>\n",
              "    <tr>\n",
              "      <th>0</th>\n",
              "      <td>@USER She should ask a few native Americans wh...</td>\n",
              "      <td>OFF</td>\n",
              "      <td>UNT</td>\n",
              "    </tr>\n",
              "    <tr>\n",
              "      <th>1</th>\n",
              "      <td>@USER @USER Go home you’re drunk!!! @USER #MAG...</td>\n",
              "      <td>OFF</td>\n",
              "      <td>TIN</td>\n",
              "    </tr>\n",
              "    <tr>\n",
              "      <th>2</th>\n",
              "      <td>Amazon is investigating Chinese employees who ...</td>\n",
              "      <td>NOT</td>\n",
              "      <td>NaN</td>\n",
              "    </tr>\n",
              "    <tr>\n",
              "      <th>3</th>\n",
              "      <td>@USER Someone should'veTaken\" this piece of sh...</td>\n",
              "      <td>OFF</td>\n",
              "      <td>UNT</td>\n",
              "    </tr>\n",
              "    <tr>\n",
              "      <th>4</th>\n",
              "      <td>@USER @USER Obama wanted liberals &amp;amp; illega...</td>\n",
              "      <td>NOT</td>\n",
              "      <td>NaN</td>\n",
              "    </tr>\n",
              "  </tbody>\n",
              "</table>\n",
              "</div>"
            ],
            "text/plain": [
              "                                                text label category\n",
              "0  @USER She should ask a few native Americans wh...   OFF      UNT\n",
              "1  @USER @USER Go home you’re drunk!!! @USER #MAG...   OFF      TIN\n",
              "2  Amazon is investigating Chinese employees who ...   NOT      NaN\n",
              "3  @USER Someone should'veTaken\" this piece of sh...   OFF      UNT\n",
              "4  @USER @USER Obama wanted liberals &amp; illega...   NOT      NaN"
            ]
          },
          "metadata": {
            "tags": []
          },
          "execution_count": 14
        }
      ]
    },
    {
      "cell_type": "markdown",
      "metadata": {
        "id": "ApWoZxt1dc-a",
        "colab_type": "text"
      },
      "source": [
        "**Attributes in data:**\n",
        "\n",
        "\n",
        "***Trainning data:***  (10592, 3) \\\\\n",
        "\n",
        "* **text:** \\\\\n",
        "tweet content\n",
        "\n",
        "* **label:** \\\\\n",
        "1.   (NOT) Not Offensive - This post does not contain offense or profanity\n",
        "2.   (OFF) Offensive - This post contains offensive language or a targeted (veiled or direct) offense\n",
        "\n",
        "* **category:** (if label is 'OFF') \\\\\n",
        "1.   (TIN) Targeted Insult and Threats - A post containing an insult or threat to an individual, a group, or others\n",
        "2.   (UNT) Untargeted - A post containing non-targeted profanity and swearing.\n",
        "\n",
        "***Validation data:***  (1324, 3) \\\\\n",
        "\n",
        "***Testing data***:  'text' (1324, 1) \\\\\n",
        "* **text**"
      ]
    },
    {
      "cell_type": "markdown",
      "metadata": {
        "id": "oEJfFD-hkhu5",
        "colab_type": "text"
      },
      "source": [
        "## Data cleaning"
      ]
    },
    {
      "cell_type": "code",
      "metadata": {
        "id": "-g52M8qtkk36",
        "colab_type": "code",
        "colab": {}
      },
      "source": [
        "def data_cleaning(train_df, val_df, test_df):\n",
        "    # shuffle data\n",
        "    train_df = train_df.sample(frac=1, random_state=2020).reset_index(drop=True)\n",
        "    \n",
        "    # lo lowercae\n",
        "    train_df['text'] = train_df['text'].str.lower()\n",
        "    val_df['text'] = val_df['text'].str.lower()\n",
        "    test_df['text'] = test_df['text'].str.lower()\n",
        "\n",
        "    # delete \"noise words\"\n",
        "    noise = [\"url\",\"user\",\"@\",\"&amp;\",\"#\",\"-\",'.',\"?\",\"rt\",\"dm\",\"retweet\",\"rt\",\"dm\"]\n",
        "    for WORD in noise:\n",
        "        train_df['text'] = train_df['text'].str.replace(WORD, '')\n",
        "        val_df['text'] = val_df['text'].str.replace(WORD, '')\n",
        "        test_df['text'] = test_df['text'].str.replace(WORD, '')\n",
        "\n",
        "    # change label to 0/a\n",
        "    train_df['label'] = train_df['label'].map({'OFF': 1, 'NOT': 0})\n",
        "    val_df['label'] = val_df['label'].map({'OFF': 1, 'NOT': 0})\n",
        "\n",
        "    # one-hot encoding of category\n",
        "    train_df = pd.concat([train_df,pd.get_dummies(train_df['category'], prefix='category')],axis=1)\n",
        "    train_df.drop(['category'],axis=1, inplace=True)\n",
        "    \n",
        "    val_df = pd.concat([val_df,pd.get_dummies(val_df['category'], prefix='category')],axis=1)\n",
        "    val_df.drop(['category'],axis=1, inplace=True)\n",
        "    return train_df, val_df, test_df\n",
        "\n",
        "train_df, val_df, test_df = data_cleaning(train_df, val_df, test_df)\n"
      ],
      "execution_count": 0,
      "outputs": []
    },
    {
      "cell_type": "code",
      "metadata": {
        "id": "muL8B6aXSu3R",
        "colab_type": "code",
        "outputId": "3f590bd4-ad6a-452d-c1f7-d32dffc4cae4",
        "colab": {
          "base_uri": "https://localhost:8080/",
          "height": 359
        }
      },
      "source": [
        "val_df.head(10)"
      ],
      "execution_count": 10,
      "outputs": [
        {
          "output_type": "execute_result",
          "data": {
            "text/html": [
              "<div>\n",
              "<style scoped>\n",
              "    .dataframe tbody tr th:only-of-type {\n",
              "        vertical-align: middle;\n",
              "    }\n",
              "\n",
              "    .dataframe tbody tr th {\n",
              "        vertical-align: top;\n",
              "    }\n",
              "\n",
              "    .dataframe thead th {\n",
              "        text-align: right;\n",
              "    }\n",
              "</style>\n",
              "<table border=\"1\" class=\"dataframe\">\n",
              "  <thead>\n",
              "    <tr style=\"text-align: right;\">\n",
              "      <th></th>\n",
              "      <th>text</th>\n",
              "      <th>label</th>\n",
              "      <th>category_TIN</th>\n",
              "      <th>category_UNT</th>\n",
              "    </tr>\n",
              "  </thead>\n",
              "  <tbody>\n",
              "    <tr>\n",
              "      <th>0</th>\n",
              "      <td>she should ask a few native americans what th...</td>\n",
              "      <td>1</td>\n",
              "      <td>0</td>\n",
              "      <td>1</td>\n",
              "    </tr>\n",
              "    <tr>\n",
              "      <th>1</th>\n",
              "      <td>go home you’re drunk  maga trump2020 👊🇺🇸👊</td>\n",
              "      <td>1</td>\n",
              "      <td>1</td>\n",
              "      <td>0</td>\n",
              "    </tr>\n",
              "    <tr>\n",
              "      <th>2</th>\n",
              "      <td>amazon is investigating chinese employees who ...</td>\n",
              "      <td>0</td>\n",
              "      <td>0</td>\n",
              "      <td>0</td>\n",
              "    </tr>\n",
              "    <tr>\n",
              "      <th>3</th>\n",
              "      <td>someone should'vetaken\" this piece of shit to...</td>\n",
              "      <td>1</td>\n",
              "      <td>0</td>\n",
              "      <td>1</td>\n",
              "    </tr>\n",
              "    <tr>\n",
              "      <th>4</th>\n",
              "      <td>obama wanted liberals  illegals to move into...</td>\n",
              "      <td>0</td>\n",
              "      <td>0</td>\n",
              "      <td>0</td>\n",
              "    </tr>\n",
              "    <tr>\n",
              "      <th>5</th>\n",
              "      <td>liberals are all kookoo</td>\n",
              "      <td>1</td>\n",
              "      <td>1</td>\n",
              "      <td>0</td>\n",
              "    </tr>\n",
              "    <tr>\n",
              "      <th>6</th>\n",
              "      <td>oh noes tough shit</td>\n",
              "      <td>1</td>\n",
              "      <td>0</td>\n",
              "      <td>1</td>\n",
              "    </tr>\n",
              "    <tr>\n",
              "      <th>7</th>\n",
              "      <td>was literally just talking about this lol all...</td>\n",
              "      <td>1</td>\n",
              "      <td>1</td>\n",
              "      <td>0</td>\n",
              "    </tr>\n",
              "    <tr>\n",
              "      <th>8</th>\n",
              "      <td>buy more icecream</td>\n",
              "      <td>0</td>\n",
              "      <td>0</td>\n",
              "      <td>0</td>\n",
              "    </tr>\n",
              "    <tr>\n",
              "      <th>9</th>\n",
              "      <td>canada doesn’t need another cuck we already h...</td>\n",
              "      <td>1</td>\n",
              "      <td>1</td>\n",
              "      <td>0</td>\n",
              "    </tr>\n",
              "  </tbody>\n",
              "</table>\n",
              "</div>"
            ],
            "text/plain": [
              "                                                text  ...  category_UNT\n",
              "0   she should ask a few native americans what th...  ...             1\n",
              "1         go home you’re drunk  maga trump2020 👊🇺🇸👊   ...             0\n",
              "2  amazon is investigating chinese employees who ...  ...             0\n",
              "3   someone should'vetaken\" this piece of shit to...  ...             1\n",
              "4    obama wanted liberals  illegals to move into...  ...             0\n",
              "5                           liberals are all kookoo   ...             0\n",
              "6                                 oh noes tough shit  ...             1\n",
              "7   was literally just talking about this lol all...  ...             0\n",
              "8                                  buy more icecream  ...             0\n",
              "9   canada doesn’t need another cuck we already h...  ...             0\n",
              "\n",
              "[10 rows x 4 columns]"
            ]
          },
          "metadata": {
            "tags": []
          },
          "execution_count": 10
        }
      ]
    },
    {
      "cell_type": "markdown",
      "metadata": {
        "id": "VwBBjRW0-Ubf",
        "colab_type": "text"
      },
      "source": [
        "Check the content of abusive text"
      ]
    },
    {
      "cell_type": "code",
      "metadata": {
        "id": "Q6em0dtx8D3I",
        "colab_type": "code",
        "outputId": "6f4dce78-d2df-43d3-b374-aa17cfdb7888",
        "colab": {
          "base_uri": "https://localhost:8080/",
          "height": 173
        }
      },
      "source": [
        "abusive_df = train_df.loc[train_df['label'] == 1]\n",
        "pd.set_option('display.max_colwidth', -1)\n",
        "abusive_df['text'].head(5)"
      ],
      "execution_count": 16,
      "outputs": [
        {
          "output_type": "stream",
          "text": [
            "/usr/local/lib/python3.6/dist-packages/ipykernel_launcher.py:2: FutureWarning: Passing a negative integer is deprecated in version 1.0 and will not be supported in future version. Instead, use None to not limit the column width.\n",
            "  \n"
          ],
          "name": "stderr"
        },
        {
          "output_type": "execute_result",
          "data": {
            "text/plain": [
              "0      didn't this trashy thing sleep her way to the top with married men                                                                    \n",
              "1       gfy the nfl should get no protection from the policeand no suppo from our militarythe league will slowly die on this road of shame!!!\n",
              "10     👀 sitting here thinking he has a killer porn stache                                                                                   \n",
              "13    all trump's and pense 2020 merch is being made is china and not the usa    maga    votethemout2018  trumpsarmy                         \n",
              "16     gun control now! enough is enough!                                                                                                    \n",
              "Name: text, dtype: object"
            ]
          },
          "metadata": {
            "tags": []
          },
          "execution_count": 16
        }
      ]
    },
    {
      "cell_type": "markdown",
      "metadata": {
        "id": "Plq9OgoGtqb8",
        "colab_type": "text"
      },
      "source": [
        "## Data distribution and visualization "
      ]
    },
    {
      "cell_type": "code",
      "metadata": {
        "id": "rKV_v3kvlmg7",
        "colab_type": "code",
        "outputId": "a6995e4c-82c0-4d10-f25f-ad9c41a6b271",
        "colab": {
          "base_uri": "https://localhost:8080/",
          "height": 596
        }
      },
      "source": [
        "# count how many letters in a sentence\n",
        "def label_distribution(train_df):\n",
        "    #  length of text\n",
        "    count = train_df['text'].str.split().apply(len).value_counts()\n",
        "    count.sort_index(inplace=True)\n",
        "    count.index = count.index.astype(str) + ' words:'\n",
        "    # logging.info(count[0:5])\n",
        "    # logging.info(count[-5:])\n",
        "    plt.plot(range(len(count)), count, color='blue')\n",
        "    plt.title(\"Text length\")\n",
        "    plt.show()\n",
        "    # label distribution\n",
        "    logging.info('number of label = 1 : ' + str((train_df['label'] != 0).sum()))\n",
        "    logging.info('number of category_TIN = 1: ' + str((train_df['category_TIN'] != 0).sum()))\n",
        "    logging.info('number of category_UNT = 1: ' + str((train_df['category_UNT'] != 0).sum()))\n",
        "\n",
        "    # plot histogram\n",
        "    train_df['label'].plot.hist(bins=2, title='label distribution')\n",
        "    plt.show()\n",
        "\n",
        "label_distribution(train_df)\n"
      ],
      "execution_count": 17,
      "outputs": [
        {
          "output_type": "display_data",
          "data": {
            "image/png": "[encoded data removed]",
            "text/plain": [
              "<Figure size 432x288 with 1 Axes>"
            ]
          },
          "metadata": {
            "tags": [],
            "needs_background": "light"
          }
        },
        {
          "output_type": "stream",
          "text": [
            "2020-05-16 21:34:26 INFO     number of label = 1 : 3520\n",
            "2020-05-16 21:34:26 INFO     number of category_TIN = 1: 3089\n",
            "2020-05-16 21:34:26 INFO     number of category_UNT = 1: 431\n"
          ],
          "name": "stdout"
        },
        {
          "output_type": "display_data",
          "data": {
            "image/png": "[encoded data removed]",
            "text/plain": [
              "<Figure size 432x288 with 1 Axes>"
            ]
          },
          "metadata": {
            "tags": [],
            "needs_background": "light"
          }
        }
      ]
    },
    {
      "cell_type": "markdown",
      "metadata": {
        "id": "mwxnd29E0lLP",
        "colab_type": "text"
      },
      "source": [
        "**Property of dataset**\n",
        "\n",
        "*   **Length of text:** [2, 60]\n",
        "\n",
        "*   **label:** \n",
        "1.   label = 0: 7072\n",
        "2.   label = 1: 3520\n",
        "\n",
        "* Among label = 1: \\\\\n",
        "1.   category_TIN = 1: 3089\n",
        "2.   category_UNT = 1: 431\n",
        "\n"
      ]
    },
    {
      "cell_type": "markdown",
      "metadata": {
        "id": "7kCi_RoLE8wP",
        "colab_type": "text"
      },
      "source": [
        "# Split data to X and y"
      ]
    },
    {
      "cell_type": "markdown",
      "metadata": {
        "id": "K8D_XrHPEaIV",
        "colab_type": "text"
      },
      "source": [
        "Split data to X and y"
      ]
    },
    {
      "cell_type": "code",
      "metadata": {
        "id": "vHcgmnATZA6k",
        "colab_type": "code",
        "outputId": "7b7e719c-355b-4c26-cde9-0f42d47f736a",
        "colab": {
          "base_uri": "https://localhost:8080/",
          "height": 51
        }
      },
      "source": [
        "def split_train_val(train_df, val_df, test_df):\n",
        "    logging.info('splitting X and y ...')\n",
        "    train_X = train_df[\"text\"].fillna(\"_na_\").values\n",
        "    val_X = val_df[\"text\"].fillna(\"_na_\").values\n",
        "    test_X = test_df[\"text\"].fillna(\"_na_\").values\n",
        "\n",
        "    train_y = train_df['label'].values\n",
        "    val_y = val_df['label'].values\n",
        "\n",
        "    logging.info('finished splitting X and y')\n",
        "    return train_X, val_X, test_X, train_y, val_y\n",
        "\n",
        "train_X, val_X, test_X, train_y, val_y = split_train_val(train_df, val_df, test_df)"
      ],
      "execution_count": 18,
      "outputs": [
        {
          "output_type": "stream",
          "text": [
            "2020-05-16 21:34:31 INFO     splitting X and y ...\n",
            "2020-05-16 21:34:31 INFO     finished splitting X and y\n"
          ],
          "name": "stdout"
        }
      ]
    },
    {
      "cell_type": "code",
      "metadata": {
        "id": "rdk4s-pCZA6o",
        "colab_type": "code",
        "outputId": "546833c0-f508-44ec-d583-4b2229e9001c",
        "colab": {
          "base_uri": "https://localhost:8080/",
          "height": 51
        }
      },
      "source": [
        "print(train_X.shape, train_y.shape)\n",
        "print(val_X.shape, val_y.shape)"
      ],
      "execution_count": 19,
      "outputs": [
        {
          "output_type": "stream",
          "text": [
            "(10592,) (10592,)\n",
            "(1324,) (1324,)\n"
          ],
          "name": "stdout"
        }
      ]
    },
    {
      "cell_type": "markdown",
      "metadata": {
        "id": "feMxvs73D-gx",
        "colab_type": "text"
      },
      "source": [
        "Tokenize and padding each sentence, split datafram to attributes and labels"
      ]
    },
    {
      "cell_type": "code",
      "metadata": {
        "id": "tNGTN3kVZA6m",
        "colab_type": "code",
        "outputId": "bbcac2ca-4063-41d5-dcf2-cfa7928ee8e7",
        "colab": {
          "base_uri": "https://localhost:8080/",
          "height": 68
        }
      },
      "source": [
        "# each word embedding to 300 dimension\n",
        "embed_size = 300\n",
        "# count of vocabulary words\n",
        "max_features = 50000\n",
        "# length of each sentences\n",
        "max_len = 70\n",
        "\n",
        "def token_sentence(train_X, val_X, test_X ):\n",
        "    logging.info('tokenizing sentence...')\n",
        "    tokenizer = Tokenizer(num_words=max_features)\n",
        "    tokenizer.fit_on_texts(list(train_X))\n",
        "    train_X = tokenizer.texts_to_sequences(train_X)\n",
        "    val_X = tokenizer.texts_to_sequences(val_X)\n",
        "    test_X = tokenizer.texts_to_sequences(test_X)\n",
        "\n",
        "    logging.info('padding sentence...')\n",
        "    train_X = pad_sequences(train_X, maxlen=max_len)\n",
        "    val_X = pad_sequences(val_X, maxlen=max_len)\n",
        "    test_X = pad_sequences(test_X, maxlen=max_len)\n",
        "\n",
        "    logging.info('all finished...')\n",
        "    return train_X, val_X, test_X, tokenizer\n",
        "\n",
        "train_X, val_X, test_X, tokenizer = token_sentence(train_X, val_X, test_X)\n"
      ],
      "execution_count": 20,
      "outputs": [
        {
          "output_type": "stream",
          "text": [
            "2020-05-16 21:34:37 INFO     tokenizing sentence...\n",
            "2020-05-16 21:34:37 INFO     padding sentence...\n",
            "2020-05-16 21:34:37 INFO     all finished...\n"
          ],
          "name": "stdout"
        }
      ]
    },
    {
      "cell_type": "code",
      "metadata": {
        "id": "NBUErOp_QEK9",
        "colab_type": "code",
        "outputId": "1dbb10ec-c6d3-4224-b112-c37379fa501d",
        "colab": {
          "base_uri": "https://localhost:8080/",
          "height": 34
        }
      },
      "source": [
        "train_X.shape"
      ],
      "execution_count": 21,
      "outputs": [
        {
          "output_type": "execute_result",
          "data": {
            "text/plain": [
              "(10592, 70)"
            ]
          },
          "metadata": {
            "tags": []
          },
          "execution_count": 21
        }
      ]
    },
    {
      "cell_type": "markdown",
      "metadata": {
        "id": "AenyxjOSMCDL",
        "colab_type": "text"
      },
      "source": [
        "# Train model"
      ]
    },
    {
      "cell_type": "markdown",
      "metadata": {
        "_uuid": "383e51177bf33da0b8fee42dd6a093908b808f64",
        "id": "nGYvEk8EZA6z",
        "colab_type": "text"
      },
      "source": [
        "## Model4: CNN"
      ]
    },
    {
      "cell_type": "markdown",
      "metadata": {
        "id": "IWheVFpIZZ6Q",
        "colab_type": "text"
      },
      "source": [
        " precision is the ratio tp / (tp + fp) \\\\\n",
        " recall is the ratio tp / (tp + fn) \\\\\n",
        " F1 = 2 * (precision * recall) / (precision + recall)"
      ]
    },
    {
      "cell_type": "code",
      "metadata": {
        "id": "PLrxz3sULBnr",
        "colab_type": "code",
        "colab": {
          "base_uri": "https://localhost:8080/",
          "height": 51
        },
        "outputId": "ebbbe3fb-b6d0-42cb-d213-01767f2a109f"
      },
      "source": [
        "word_index = tokenizer.word_index\n",
        "print(len(word_index))\n",
        "nb_words = min(max_features, 1 + len(word_index))\n",
        "print(nb_words)"
      ],
      "execution_count": 22,
      "outputs": [
        {
          "output_type": "stream",
          "text": [
            "19591\n",
            "19592\n"
          ],
          "name": "stdout"
        }
      ]
    },
    {
      "cell_type": "code",
      "metadata": {
        "id": "NpCE96HTr71x",
        "colab_type": "code",
        "outputId": "8924ce8f-a009-4ca0-8511-1eaee8a7d81f",
        "colab": {
          "base_uri": "https://localhost:8080/",
          "height": 493
        }
      },
      "source": [
        "import tensorflow as tf\n",
        "from tensorflow.keras import layers\n",
        "from keras.initializers import Constant\n",
        "\n",
        "model_CNN = tf.keras.Sequential()\n",
        "model_CNN.add(layers.Embedding(nb_words,\n",
        "                                100,\n",
        "                                input_length=max_len,\n",
        "                                ))\n",
        "model_CNN.add(layers.Conv1D(100, \n",
        "                            kernel_size=3, \n",
        "                            activation='relu',\n",
        "                            name='Conv1'))\n",
        "model_CNN.add(layers.GlobalMaxPool1D())\n",
        "\n",
        "model_CNN.add(layers.Reshape((100,1)))\n",
        "model_CNN.add(layers.Conv1D(100,\n",
        "                            kernel_size=5, \n",
        "                            activation='relu',\n",
        "                            name='Conv2'))\n",
        "model_CNN.add(layers.Conv1D(100,\n",
        "                            kernel_size=3, \n",
        "                            activation='relu',\n",
        "                            name='Conv3'))\n",
        "model_CNN.add(layers.GlobalMaxPool1D())\n",
        "model_CNN.add(layers.Dense(10, activation=\"relu\"))\n",
        "model_CNN.add(layers.Dropout(0.2))\n",
        "model_CNN.add(layers.Dense(1, activation=\"sigmoid\"))\n",
        "model_CNN.summary()"
      ],
      "execution_count": 110,
      "outputs": [
        {
          "output_type": "stream",
          "text": [
            "Model: \"sequential_10\"\n",
            "_________________________________________________________________\n",
            "Layer (type)                 Output Shape              Param #   \n",
            "=================================================================\n",
            "embedding_10 (Embedding)     (None, 70, 100)           1959200   \n",
            "_________________________________________________________________\n",
            "Conv1 (Conv1D)               (None, 68, 100)           30100     \n",
            "_________________________________________________________________\n",
            "global_max_pooling1d_20 (Glo (None, 100)               0         \n",
            "_________________________________________________________________\n",
            "reshape_10 (Reshape)         (None, 100, 1)            0         \n",
            "_________________________________________________________________\n",
            "Conv2 (Conv1D)               (None, 96, 100)           600       \n",
            "_________________________________________________________________\n",
            "Conv3 (Conv1D)               (None, 94, 100)           30100     \n",
            "_________________________________________________________________\n",
            "global_max_pooling1d_21 (Glo (None, 100)               0         \n",
            "_________________________________________________________________\n",
            "dense_20 (Dense)             (None, 10)                1010      \n",
            "_________________________________________________________________\n",
            "dropout_5 (Dropout)          (None, 10)                0         \n",
            "_________________________________________________________________\n",
            "dense_21 (Dense)             (None, 1)                 11        \n",
            "=================================================================\n",
            "Total params: 2,021,021\n",
            "Trainable params: 2,021,021\n",
            "Non-trainable params: 0\n",
            "_________________________________________________________________\n"
          ],
          "name": "stdout"
        }
      ]
    },
    {
      "cell_type": "code",
      "metadata": {
        "id": "ooz1GuycuGrU",
        "colab_type": "code",
        "outputId": "f9ce73df-02c9-41f2-ea26-24d5a358272a",
        "colab": {
          "base_uri": "https://localhost:8080/",
          "height": 275
        }
      },
      "source": [
        "model_CNN.compile(loss='binary_crossentropy', optimizer='adam', metrics=['accuracy'])\n",
        "\n",
        "from tensorflow.keras.callbacks import EarlyStopping\n",
        "callbacks = EarlyStopping(monitor='val_loss', min_delta=0, patience = 2)\n",
        "history = model_CNN.fit(train_X, \n",
        "                        train_y, \n",
        "                        batch_size=512, \n",
        "                        epochs=14, \n",
        "                        validation_data=(val_X, val_y),\n",
        "                        callbacks=callbacks\n",
        "                        )"
      ],
      "execution_count": 111,
      "outputs": [
        {
          "output_type": "stream",
          "text": [
            "Epoch 1/14\n",
            "21/21 [==============================] - 13s 598ms/step - loss: 0.6589 - accuracy: 0.6549 - val_loss: 0.6448 - val_accuracy: 0.6677\n",
            "Epoch 2/14\n",
            "21/21 [==============================] - 11s 515ms/step - loss: 0.6418 - accuracy: 0.6677 - val_loss: 0.6346 - val_accuracy: 0.6677\n",
            "Epoch 3/14\n",
            "21/21 [==============================] - 12s 579ms/step - loss: 0.6304 - accuracy: 0.6677 - val_loss: 0.6270 - val_accuracy: 0.6677\n",
            "Epoch 4/14\n",
            "21/21 [==============================] - 11s 539ms/step - loss: 0.5962 - accuracy: 0.6677 - val_loss: 0.6019 - val_accuracy: 0.6677\n",
            "Epoch 5/14\n",
            "21/21 [==============================] - 11s 520ms/step - loss: 0.4752 - accuracy: 0.6735 - val_loss: 0.5836 - val_accuracy: 0.7379\n",
            "Epoch 6/14\n",
            "21/21 [==============================] - 10s 494ms/step - loss: 0.3251 - accuracy: 0.9063 - val_loss: 0.6411 - val_accuracy: 0.7145\n",
            "Epoch 7/14\n",
            "21/21 [==============================] - 10s 490ms/step - loss: 0.1872 - accuracy: 0.9595 - val_loss: 0.8347 - val_accuracy: 0.7221\n"
          ],
          "name": "stdout"
        }
      ]
    },
    {
      "cell_type": "code",
      "metadata": {
        "id": "qJ2nGLwDu5T2",
        "colab_type": "code",
        "outputId": "ac736734-a298-4652-bbed-ac37bc3282bb",
        "colab": {
          "base_uri": "https://localhost:8080/",
          "height": 573
        }
      },
      "source": [
        "# Plot training & validation accuracy values\n",
        "import matplotlib.pyplot as plt \n",
        "plt.plot(history.history['accuracy'])\n",
        "plt.plot(history.history['val_accuracy'])\n",
        "plt.title('Model accuracy')\n",
        "plt.ylabel('Accuracy')\n",
        "plt.xlabel('Epoch')\n",
        "plt.legend(['Train', 'Val'], loc='upper left')\n",
        "plt.show()\n",
        "\n",
        "# Plot training & validation loss values\n",
        "plt.plot(history.history['loss'])\n",
        "plt.plot(history.history['val_loss'])\n",
        "plt.title('Model loss')\n",
        "plt.ylabel('Loss')\n",
        "plt.xlabel('Epoch')\n",
        "plt.legend(['Train', 'Val'], loc='upper left')\n",
        "plt.show()"
      ],
      "execution_count": 112,
      "outputs": [
        {
          "output_type": "display_data",
          "data": {
            "image/png": "[encoded data removed]",
            "text/plain": [
              "<Figure size 432x288 with 1 Axes>"
            ]
          },
          "metadata": {
            "tags": [],
            "needs_background": "light"
          }
        },
        {
          "output_type": "display_data",
          "data": {
            "image/png": "[encoded data removed]",
            "text/plain": [
              "<Figure size 432x288 with 1 Axes>"
            ]
          },
          "metadata": {
            "tags": [],
            "needs_background": "light"
          }
        }
      ]
    },
    {
      "cell_type": "code",
      "metadata": {
        "id": "CErC1fvVQAlu",
        "colab_type": "code",
        "colab": {
          "base_uri": "https://localhost:8080/",
          "height": 153
        },
        "outputId": "b8dbc479-32ef-4e6e-d1c3-19480b653a95"
      },
      "source": [
        "pred_noemb_val_y = model_CNN.predict([val_X], batch_size=1024, verbose=1)\n",
        "print(pred_noemb_val_y)"
      ],
      "execution_count": 113,
      "outputs": [
        {
          "output_type": "stream",
          "text": [
            "2/2 [==============================] - 0s 44ms/step\n",
            "[[9.2354417e-04]\n",
            " [7.7829659e-03]\n",
            " [5.4731965e-04]\n",
            " ...\n",
            " [7.3241282e-01]\n",
            " [3.1999254e-01]\n",
            " [6.9023132e-01]]\n"
          ],
          "name": "stdout"
        }
      ]
    },
    {
      "cell_type": "code",
      "metadata": {
        "id": "NUQsbGlHOv3g",
        "colab_type": "code",
        "colab": {
          "base_uri": "https://localhost:8080/",
          "height": 71
        },
        "outputId": "49784002-9a23-405e-d0be-1988da124552"
      },
      "source": [
        "# validation the model(confusion matrix)\n",
        "def cnn_confusion_matrix(pred_noemb_val_y, val_y):\n",
        "    pred_val_y = pred_noemb_val_y > 0.5\n",
        "    tn, fp, fn, tp = confusion_matrix(pred_val_y, val_y).ravel()\n",
        "    print('tn', tn, 'fp', fp, 'fn', fn, 'tp', tp)\n",
        "\n",
        "    lstm_acc = accuracy_score(pred_val_y, val_y)\n",
        "    lstm_precision = precision_score(pred_val_y, val_y)\n",
        "    lstm_recall = recall_score(pred_val_y, val_y)\n",
        "    lstm_f1_score = f1_score(pred_val_y, val_y)\n",
        "    return lstm_acc, lstm_precision, lstm_recall, lstm_f1_score\n",
        "\n",
        "cnn_acc, cnn_precision, cnn_recall, cnn_f1_score = cnn_confusion_matrix(pred_noemb_val_y, val_y)\n",
        "print('cnn_acc: ',cnn_acc, ', cnn_precision: ', cnn_precision, ', cnn_recall: ', cnn_recall, ', cnn_f1_score', cnn_f1_score)"
      ],
      "execution_count": 114,
      "outputs": [
        {
          "output_type": "stream",
          "text": [
            "tn 754 fp 238 fn 130 tp 202\n",
            "cnn_acc:  0.7220543806646526 , cnn_precision:  0.4590909090909091 , cnn_recall:  0.608433734939759 , cnn_f1_score 0.5233160621761658\n"
          ],
          "name": "stdout"
        }
      ]
    },
    {
      "cell_type": "code",
      "metadata": {
        "id": "eRfQ-LuLvFd3",
        "colab_type": "code",
        "outputId": "bae68e31-d142-4138-d2eb-4e00f7a44607",
        "colab": {
          "base_uri": "https://localhost:8080/",
          "height": 431
        }
      },
      "source": [
        "# validation the model(f1-score)\n",
        "pred_noemb_val_y = model_CNN.predict([val_X], batch_size=512, verbose=1)\n",
        "print(pred_noemb_val_y)\n",
        "threshes=[]\n",
        "f1_scores=[]\n",
        "accuracy_scores=[]\n",
        "for thresh in np.arange(0.1, 0.801, 0.01):\n",
        "    thresh = np.round(thresh, 2)\n",
        "    threshes.append(thresh)\n",
        "    # logging.info(\"F1 score at threshold {0} is {1}\".format(thresh, metrics.f1_score(val_y, (pred_noemb_val_y>thresh).astype(int))))\n",
        "    f1_scores.append(metrics.f1_score(val_y, (pred_noemb_val_y>thresh).astype(int)))\n",
        "    # logging.info(\"Accuracy at threshold {0} is {1}\".format(thresh, metrics.accuracy_score(val_y, (pred_noemb_val_y>thresh).astype(int))))\n",
        "    accuracy_scores.append(metrics.accuracy_score(val_y, (pred_noemb_val_y>thresh).astype(int)))\n",
        "\n",
        "# plot two measures\n",
        "plt.plot(threshes, f1_scores, color='blue', label='f1')\n",
        "plt.plot(threshes, accuracy_scores, color='orange', label='acc')\n",
        "plt.title('f1_scores/acc')\n",
        "plt.ylabel('f1_scores/acc')\n",
        "plt.xlabel('threshold')\n",
        "plt.legend()\n",
        "plt.show()"
      ],
      "execution_count": 115,
      "outputs": [
        {
          "output_type": "stream",
          "text": [
            "3/3 [==============================] - 0s 81ms/step\n",
            "[[9.2354417e-04]\n",
            " [7.7829659e-03]\n",
            " [5.4728985e-04]\n",
            " ...\n",
            " [7.3241282e-01]\n",
            " [3.1999254e-01]\n",
            " [6.9023132e-01]]\n"
          ],
          "name": "stdout"
        },
        {
          "output_type": "display_data",
          "data": {
            "image/png": "[encoded data removed]",
            "text/plain": [
              "<Figure size 432x288 with 1 Axes>"
            ]
          },
          "metadata": {
            "tags": [],
            "needs_background": "light"
          }
        }
      ]
    },
    {
      "cell_type": "markdown",
      "metadata": {
        "id": "1-7ZNGOwwPmd",
        "colab_type": "text"
      },
      "source": [
        "CNN visualiazation"
      ]
    },
    {
      "cell_type": "code",
      "metadata": {
        "id": "x_hHPR7LwS13",
        "colab_type": "code",
        "colab": {}
      },
      "source": [
        "class_idx = np.argmax(pred_noemb_val_y[0]) #not needed in this case as only two classes\n",
        "class_output = model_CNN.output[:, class_idx]\n",
        "last_conv_layer = model_CNN.get_layer(\"Conv3\")"
      ],
      "execution_count": 0,
      "outputs": []
    },
    {
      "cell_type": "code",
      "metadata": {
        "id": "E8CqIb3l6NNG",
        "colab_type": "code",
        "colab": {}
      },
      "source": [
        "from keras import backend as K \n",
        "grads = K.gradients(class_output, last_conv_layer.output)[0]\n",
        "pooled_grads = K.mean(grads)\n",
        "iterate = K.function([model_CNN.input], [pooled_grads, last_conv_layer.output[0]])\n",
        "pooled_grads_value, conv_layer_output_value = iterate([val_X])"
      ],
      "execution_count": 0,
      "outputs": []
    },
    {
      "cell_type": "code",
      "metadata": {
        "id": "-MXzpFtU6hM4",
        "colab_type": "code",
        "colab": {}
      },
      "source": [
        "heatmap = np.mean(conv_layer_output_value, axis=-1)\n",
        "heatmap = np.maximum(heatmap,0)\n",
        "heatmap /= np.max(heatmap) #normalise values in the prediction"
      ],
      "execution_count": 0,
      "outputs": []
    },
    {
      "cell_type": "code",
      "metadata": {
        "id": "EjEfKkOO7VVz",
        "colab_type": "code",
        "outputId": "e411be6c-c02c-424e-898b-fb9972757118",
        "colab": {
          "base_uri": "https://localhost:8080/",
          "height": 1000
        }
      },
      "source": [
        "from IPython.display import HTML\n",
        "norm_len = max_len/last_conv_layer.output_shape[1] # find the ratio of the text vs the conv layer length\n",
        "html = \"\"\n",
        "\n",
        "for i in range(25, 35):\n",
        "    if pred_noemb_val_y[i]>0.5:\n",
        "        pred = 'offensive'\n",
        "    else:\n",
        "        pred = 'normal'\n",
        "\n",
        "    if val_y[i] == 1:\n",
        "        act = 'offensive'\n",
        "    else:\n",
        "        act = 'normal'\n",
        "\n",
        "    if pred == act:\n",
        "        ans = 'Correct'\n",
        "    else:\n",
        "        ans = 'Wrong'\n",
        "    \n",
        "    html += \"<span><h3>{} : prediction is a {} tweet, and actucally it's a {}\".format(ans, pred, act)\n",
        "    html += \"<small><br>Confidence: {:.0f}%<br><br></small></h3></span>\".format(abs(((pred_noemb_val_y[i][0]*100)-50)*2))\n",
        "    for j,k in enumerate(tokenizer.sequences_to_texts(val_X)[i].split()):\n",
        "        html += \"<span style='background-color:rgba({},0,150,{})'>{} </span>\".format(heatmap[math.floor(j/norm_len)]*255,heatmap[math.floor(j/norm_len)]-0.3,k)\n",
        "HTML(html)"
      ],
      "execution_count": 121,
      "outputs": [
        {
          "output_type": "execute_result",
          "data": {
            "text/html": [
              "<span><h3>Wrong : prediction is a normal tweet, and actucally it's a offensive<small><br>Confidence: 99%<br><br></small></h3></span><span style='background-color:rgba(64.62405189871788,0,150,-0.04657234549522399)'>tbh </span><span style='background-color:rgba(76.48146003484726,0,150,-7.270574569701038e-05)'>these </span><span style='background-color:rgba(86.29884123802185,0,150,0.038426828384399425)'>days </span><span style='background-color:rgba(93.67722451686859,0,150,0.0673616647720337)'>i </span><span style='background-color:rgba(101.76258265972137,0,150,0.0990689516067505)'>just </span><span style='background-color:rgba(121.43403589725494,0,150,0.17621190547943116)'>don't </span><span style='background-color:rgba(150.48666894435883,0,150,0.2901437997817993)'>like </span><span style='background-color:rgba(240.44296592473984,0,150,0.6429135918617248)'>people </span><span style='background-color:rgba(255.0,0,150,0.7)'>in </span><span style='background-color:rgba(123.81042838096619,0,150,0.1855310916900635)'>general </span><span style='background-color:rgba(153.5765415430069,0,150,0.30226094722747804)'>i </span><span style='background-color:rgba(171.28657042980194,0,150,0.3717120409011841)'>just </span><span style='background-color:rgba(173.31286489963531,0,150,0.37965829372406007)'>don't </span><span style='background-color:rgba(166.89891546964645,0,150,0.35450555086135865)'>connect </span><span style='background-color:rgba(151.85658663511276,0,150,0.29551602602005006)'>with </span><span style='background-color:rgba(138.21036368608475,0,150,0.2420014262199402)'>people </span><span style='background-color:rgba(125.92274263501167,0,150,0.1938146770000458)'>these </span><span style='background-color:rgba(117.05610081553459,0,150,0.1590435326099396)'>days </span><span style='background-color:rgba(97.41629227995872,0,150,0.08202467560768129)'>just </span><span style='background-color:rgba(87.87049010396004,0,150,0.04459015727043153)'>a </span><span><h3>Correct : prediction is a normal tweet, and actucally it's a normal<small><br>Confidence: 100%<br><br></small></h3></span><span style='background-color:rgba(64.62405189871788,0,150,-0.04657234549522399)'>south </span><span style='background-color:rgba(76.48146003484726,0,150,-7.270574569701038e-05)'>korean </span><span style='background-color:rgba(86.29884123802185,0,150,0.038426828384399425)'>official </span><span style='background-color:rgba(93.67722451686859,0,150,0.0673616647720337)'>will </span><span style='background-color:rgba(101.76258265972137,0,150,0.0990689516067505)'>discuss </span><span style='background-color:rgba(121.43403589725494,0,150,0.17621190547943116)'>specific </span><span style='background-color:rgba(150.48666894435883,0,150,0.2901437997817993)'>measures </span><span style='background-color:rgba(240.44296592473984,0,150,0.6429135918617248)'>in </span><span style='background-color:rgba(255.0,0,150,0.7)'>tcot </span><span style='background-color:rgba(123.81042838096619,0,150,0.1855310916900635)'>maga </span><span style='background-color:rgba(153.5765415430069,0,150,0.30226094722747804)'>rednationrising </span><span><h3>Correct : prediction is a normal tweet, and actucally it's a normal<small><br>Confidence: 93%<br><br></small></h3></span><span style='background-color:rgba(64.62405189871788,0,150,-0.04657234549522399)'>you </span><span style='background-color:rgba(76.48146003484726,0,150,-7.270574569701038e-05)'>can </span><span style='background-color:rgba(86.29884123802185,0,150,0.038426828384399425)'>tell </span><span style='background-color:rgba(93.67722451686859,0,150,0.0673616647720337)'>he </span><span style='background-color:rgba(101.76258265972137,0,150,0.0990689516067505)'>is </span><span style='background-color:rgba(121.43403589725494,0,150,0.17621190547943116)'>a </span><span style='background-color:rgba(150.48666894435883,0,150,0.2901437997817993)'>hooper </span><span style='background-color:rgba(240.44296592473984,0,150,0.6429135918617248)'>too </span><span><h3>Wrong : prediction is a offensive tweet, and actucally it's a normal<small><br>Confidence: 30%<br><br></small></h3></span><span style='background-color:rgba(64.62405189871788,0,150,-0.04657234549522399)'>i </span><span style='background-color:rgba(76.48146003484726,0,150,-7.270574569701038e-05)'>feel </span><span style='background-color:rgba(86.29884123802185,0,150,0.038426828384399425)'>like </span><span style='background-color:rgba(93.67722451686859,0,150,0.0673616647720337)'>he </span><span style='background-color:rgba(101.76258265972137,0,150,0.0990689516067505)'>is </span><span style='background-color:rgba(121.43403589725494,0,150,0.17621190547943116)'>better </span><span style='background-color:rgba(150.48666894435883,0,150,0.2901437997817993)'>chasing </span><span style='background-color:rgba(240.44296592473984,0,150,0.6429135918617248)'>the </span><span style='background-color:rgba(255.0,0,150,0.7)'>title </span><span><h3>Wrong : prediction is a normal tweet, and actucally it's a offensive<small><br>Confidence: 36%<br><br></small></h3></span><span style='background-color:rgba(64.62405189871788,0,150,-0.04657234549522399)'>she </span><span style='background-color:rgba(76.48146003484726,0,150,-7.270574569701038e-05)'>to </span><span style='background-color:rgba(86.29884123802185,0,150,0.038426828384399425)'>whom </span><span style='background-color:rgba(93.67722451686859,0,150,0.0673616647720337)'>are </span><span style='background-color:rgba(101.76258265972137,0,150,0.0990689516067505)'>you </span><span style='background-color:rgba(121.43403589725494,0,150,0.17621190547943116)'>referring </span><span style='background-color:rgba(150.48666894435883,0,150,0.2901437997817993)'>to </span><span style='background-color:rgba(240.44296592473984,0,150,0.6429135918617248)'>hillary </span><span style='background-color:rgba(255.0,0,150,0.7)'>you </span><span style='background-color:rgba(123.81042838096619,0,150,0.1855310916900635)'>know </span><span style='background-color:rgba(153.5765415430069,0,150,0.30226094722747804)'>what </span><span style='background-color:rgba(171.28657042980194,0,150,0.3717120409011841)'>is </span><span style='background-color:rgba(173.31286489963531,0,150,0.37965829372406007)'>bernie </span><span style='background-color:rgba(166.89891546964645,0,150,0.35450555086135865)'>suppoers </span><span style='background-color:rgba(151.85658663511276,0,150,0.29551602602005006)'>bashing </span><span style='background-color:rgba(138.21036368608475,0,150,0.2420014262199402)'>hillary </span><span style='background-color:rgba(125.92274263501167,0,150,0.1938146770000458)'>clinton </span><span style='background-color:rgba(117.05610081553459,0,150,0.1590435326099396)'>she </span><span style='background-color:rgba(97.41629227995872,0,150,0.08202467560768129)'>is </span><span style='background-color:rgba(87.87049010396004,0,150,0.04459015727043153)'>an </span><span style='background-color:rgba(81.36796742677689,0,150,0.019090068340301525)'>actual </span><span style='background-color:rgba(70.41339084506035,0,150,-0.02386905550956725)'>democrat </span><span style='background-color:rgba(67.93596178293228,0,150,-0.03358446359634398)'>who </span><span style='background-color:rgba(64.16713401675224,0,150,-0.04836418032646178)'>raises </span><span style='background-color:rgba(59.21049378812313,0,150,-0.06780198514461516)'>money </span><span style='background-color:rgba(58.62340249121189,0,150,-0.07010430395603179)'>for </span><span style='background-color:rgba(58.18793065845966,0,150,-0.0718120366334915)'>the </span><span style='background-color:rgba(53.41621890664101,0,150,-0.09052463173866271)'>democratic </span><span style='background-color:rgba(54.41703960299492,0,150,-0.08659984469413756)'>pay </span><span style='background-color:rgba(57.79063157737255,0,150,-0.07337007224559783)'>and </span><span style='background-color:rgba(60.91734699904919,0,150,-0.06110844314098357)'>doesn’t </span><span style='background-color:rgba(60.82265987992287,0,150,-0.06147976517677306)'>bash </span><span style='background-color:rgba(59.39176306128502,0,150,-0.06709112524986266)'>them </span><span style='background-color:rgba(53.53373520076275,0,150,-0.09006378352642058)'>she </span><span style='background-color:rgba(51.14480338990688,0,150,-0.0994321435689926)'>has </span><span style='background-color:rgba(54.2594088613987,0,150,-0.08721800446510314)'>a </span><span style='background-color:rgba(56.138795614242554,0,150,-0.0798478603363037)'>positive </span><span style='background-color:rgba(61.294260174036026,0,150,-0.05963035225868224)'>message </span><span style='background-color:rgba(68.18696111440659,0,150,-0.03260015249252318)'>so </span><span style='background-color:rgba(67.4437665939331,0,150,-0.03551464080810546)'>who </span><span style='background-color:rgba(64.8465071618557,0,150,-0.04569997191429137)'>is </span><span style='background-color:rgba(60.18032714724541,0,150,-0.06399871706962584)'>dividing </span><span style='background-color:rgba(60.12441694736481,0,150,-0.06421797275543212)'>the </span><span style='background-color:rgba(62.27401480078697,0,150,-0.055788177251815785)'>left </span><span><h3>Correct : prediction is a normal tweet, and actucally it's a normal<small><br>Confidence: 98%<br><br></small></h3></span><span style='background-color:rgba(64.62405189871788,0,150,-0.04657234549522399)'>glad </span><span style='background-color:rgba(76.48146003484726,0,150,-7.270574569701038e-05)'>to </span><span style='background-color:rgba(86.29884123802185,0,150,0.038426828384399425)'>see </span><span style='background-color:rgba(93.67722451686859,0,150,0.0673616647720337)'>your </span><span style='background-color:rgba(101.76258265972137,0,150,0.0990689516067505)'>friends </span><span style='background-color:rgba(121.43403589725494,0,150,0.17621190547943116)'>are </span><span style='background-color:rgba(150.48666894435883,0,150,0.2901437997817993)'>suppoing </span><span style='background-color:rgba(240.44296592473984,0,150,0.6429135918617248)'>rights </span><span style='background-color:rgba(255.0,0,150,0.7)'>as </span><span style='background-color:rgba(123.81042838096619,0,150,0.1855310916900635)'>much </span><span style='background-color:rgba(153.5765415430069,0,150,0.30226094722747804)'>as </span><span style='background-color:rgba(171.28657042980194,0,150,0.3717120409011841)'>you </span><span style='background-color:rgba(173.31286489963531,0,150,0.37965829372406007)'>are </span><span style='background-color:rgba(166.89891546964645,0,150,0.35450555086135865)'>suppoing </span><span style='background-color:rgba(151.85658663511276,0,150,0.29551602602005006)'>zionists </span><span><h3>Correct : prediction is a normal tweet, and actucally it's a normal<small><br>Confidence: 97%<br><br></small></h3></span><span style='background-color:rgba(64.62405189871788,0,150,-0.04657234549522399)'>yes </span><span style='background-color:rgba(76.48146003484726,0,150,-7.270574569701038e-05)'>you </span><span style='background-color:rgba(86.29884123802185,0,150,0.038426828384399425)'>are </span><span style='background-color:rgba(93.67722451686859,0,150,0.0673616647720337)'>but </span><span style='background-color:rgba(101.76258265972137,0,150,0.0990689516067505)'>i </span><span style='background-color:rgba(121.43403589725494,0,150,0.17621190547943116)'>was </span><span style='background-color:rgba(150.48666894435883,0,150,0.2901437997817993)'>asking </span><span style='background-color:rgba(240.44296592473984,0,150,0.6429135918617248)'>what </span><span style='background-color:rgba(255.0,0,150,0.7)'>is </span><span style='background-color:rgba(123.81042838096619,0,150,0.1855310916900635)'>it </span><span style='background-color:rgba(153.5765415430069,0,150,0.30226094722747804)'>about </span><span style='background-color:rgba(171.28657042980194,0,150,0.3717120409011841)'>the </span><span style='background-color:rgba(173.31286489963531,0,150,0.37965829372406007)'>movie </span><span><h3>Wrong : prediction is a normal tweet, and actucally it's a offensive<small><br>Confidence: 89%<br><br></small></h3></span><span style='background-color:rgba(64.62405189871788,0,150,-0.04657234549522399)'>the </span><span style='background-color:rgba(76.48146003484726,0,150,-7.270574569701038e-05)'>only </span><span style='background-color:rgba(86.29884123802185,0,150,0.038426828384399425)'>thing </span><span style='background-color:rgba(93.67722451686859,0,150,0.0673616647720337)'>the </span><span style='background-color:rgba(101.76258265972137,0,150,0.0990689516067505)'>democrats </span><span style='background-color:rgba(121.43403589725494,0,150,0.17621190547943116)'>have </span><span style='background-color:rgba(150.48666894435883,0,150,0.2901437997817993)'>is </span><span style='background-color:rgba(240.44296592473984,0,150,0.6429135918617248)'>lying </span><span style='background-color:rgba(255.0,0,150,0.7)'>and </span><span style='background-color:rgba(123.81042838096619,0,150,0.1855310916900635)'>stalling </span><span style='background-color:rgba(153.5765415430069,0,150,0.30226094722747804)'>to </span><span style='background-color:rgba(171.28657042980194,0,150,0.3717120409011841)'>stop </span><span style='background-color:rgba(173.31286489963531,0,150,0.37965829372406007)'>trump </span><span style='background-color:rgba(166.89891546964645,0,150,0.35450555086135865)'>from </span><span style='background-color:rgba(151.85658663511276,0,150,0.29551602602005006)'>being </span><span style='background-color:rgba(138.21036368608475,0,150,0.2420014262199402)'>president </span><span style='background-color:rgba(125.92274263501167,0,150,0.1938146770000458)'>what </span><span style='background-color:rgba(117.05610081553459,0,150,0.1590435326099396)'>have </span><span style='background-color:rgba(97.41629227995872,0,150,0.08202467560768129)'>they </span><span style='background-color:rgba(87.87049010396004,0,150,0.04459015727043153)'>done </span><span style='background-color:rgba(81.36796742677689,0,150,0.019090068340301525)'>for </span><span style='background-color:rgba(70.41339084506035,0,150,-0.02386905550956725)'>you </span><span style='background-color:rgba(67.93596178293228,0,150,-0.03358446359634398)'>lately </span><span style='background-color:rgba(64.16713401675224,0,150,-0.04836418032646178)'>trump </span><span style='background-color:rgba(59.21049378812313,0,150,-0.06780198514461516)'>kavanaugh </span><span style='background-color:rgba(58.62340249121189,0,150,-0.07010430395603179)'>maga </span><span><h3>Correct : prediction is a normal tweet, and actucally it's a normal<small><br>Confidence: 98%<br><br></small></h3></span><span style='background-color:rgba(64.62405189871788,0,150,-0.04657234549522399)'>no </span><span style='background-color:rgba(76.48146003484726,0,150,-7.270574569701038e-05)'>wonder </span><span style='background-color:rgba(86.29884123802185,0,150,0.038426828384399425)'>he </span><span style='background-color:rgba(93.67722451686859,0,150,0.0673616647720337)'>is </span><span style='background-color:rgba(101.76258265972137,0,150,0.0990689516067505)'>being </span><span style='background-color:rgba(121.43403589725494,0,150,0.17621190547943116)'>and </span><span style='background-color:rgba(150.48666894435883,0,150,0.2901437997817993)'>more </span><span style='background-color:rgba(240.44296592473984,0,150,0.6429135918617248)'>social </span><span style='background-color:rgba(255.0,0,150,0.7)'>these </span><span style='background-color:rgba(123.81042838096619,0,150,0.1855310916900635)'>day </span><span><h3>Wrong : prediction is a offensive tweet, and actucally it's a normal<small><br>Confidence: 11%<br><br></small></h3></span><span style='background-color:rgba(64.62405189871788,0,150,-0.04657234549522399)'>any </span><span style='background-color:rgba(76.48146003484726,0,150,-7.270574569701038e-05)'>updates </span><span style='background-color:rgba(86.29884123802185,0,150,0.038426828384399425)'>re </span><span style='background-color:rgba(93.67722451686859,0,150,0.0673616647720337)'>ending </span><span style='background-color:rgba(101.76258265972137,0,150,0.0990689516067505)'>your </span><span style='background-color:rgba(121.43403589725494,0,150,0.17621190547943116)'>blatant </span><span style='background-color:rgba(150.48666894435883,0,150,0.2901437997817993)'>racism </span><span style='background-color:rgba(240.44296592473984,0,150,0.6429135918617248)'>as </span><span style='background-color:rgba(255.0,0,150,0.7)'>windrush </span><span style='background-color:rgba(123.81042838096619,0,150,0.1855310916900635)'>grenfell </span><span style='background-color:rgba(153.5765415430069,0,150,0.30226094722747804)'>proves </span><span style='background-color:rgba(171.28657042980194,0,150,0.3717120409011841)'>you </span><span style='background-color:rgba(173.31286489963531,0,150,0.37965829372406007)'>are </span><span style='background-color:rgba(166.89891546964645,0,150,0.35450555086135865)'>politicslive </span>"
            ],
            "text/plain": [
              "<IPython.core.display.HTML object>"
            ]
          },
          "metadata": {
            "tags": []
          },
          "execution_count": 121
        }
      ]
    },
    {
      "cell_type": "markdown",
      "metadata": {
        "id": "jCyyLJl17ISm",
        "colab_type": "text"
      },
      "source": [
        "Credit to \\\\\n",
        "https://towardsdatascience.com/viewing-text-through-the-eyes-of-a-machine-db30c744ee17"
      ]
    },
    {
      "cell_type": "markdown",
      "metadata": {
        "id": "5gT0baX2dXqc",
        "colab_type": "text"
      },
      "source": [
        "# Prediction 2\n"
      ]
    }
  ]
}